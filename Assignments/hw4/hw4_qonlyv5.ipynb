{
 "cells": [
  {
   "cell_type": "markdown",
   "metadata": {
    "id": "NHPhYAI90KKQ"
   },
   "source": [
    "### 統計學習與深度學習\n",
    "### Homework 4\n",
    "\n",
    "請將IPYNB檔與IPYNB Export之HTML檔上傳至COOL作業區。回答作業時建議使用 \"三明治\" 答題法。也就是說，先說明要做什麼，然後列出程式碼與結果，最後說明這些結果的意義。作業自己做。嚴禁抄襲。不接受紙本繳交，不接受遲交。請以英文或中文作答。\n",
    "\n",
    "#### Multilayer Perceptrons for Regression\n",
    "本次作業的主角是 Multilayer perceptrons (MLP)。我們將以MLP建構迴歸模型，探討各項相關議題。\n",
    "\n",
    "\n",
    "#### Dataset: Million Songs Dataset\n",
    "本次作業將使用\"Million Songs Dataset\"作為訓練與測試資料。請使用`pickle.load()`載入*msd_full.pickle*。這個資料集已經切割好了訓練與測試資料，並存放在一個Dictionary的結構。這個Dictionary有四個元素，x_train, y_train, x_test, y_test，分別對應到訓練特徵、訓練標記(Label)、測試特徵、測試標記。 標記變數 (label variable; i.e., $y$) 是歌曲發行年度。特徵為歌曲的聲音特性。迴歸任務為預測歌曲年分。\n",
    "\n",
    "#### Prediction Performance and Loss Function\n",
    "模型訓練應主要使用Sum of Squared Error (SSE)建構Loss Function，另外我們也會練習使用其他種類的Loss Function。為了讓圖表易於理解，不論Loss Function為何，報告預測能力應使用Root Mean Squared Error (RMSE)。使用SSE或RMSE建構Loss Function在本質上沒有差別。但SSE計算成本稍低，而RMSE較有直觀意義。\n",
    "\n",
    "\n",
    "#### Subtraining, Validation, and Test Datasets\n",
    "*msd_full.pickle* 檔案中的訓練資料已經隨機排序過。你應該使用訓練資料最後10%的資料做為Validation Set。其餘的前90%做為Subtraining Set。使用Subtraining Set來訓練資料，並以Validation Set作為參數調教與Early Stopping的依據。Test RMSE應使用測試資料計算得之。\n",
    "\n",
    "所有特徵應該標準化(均數為零，變異數為一)。標準化應該以訓練資料(注意不是Test Set or Subtraining Set)的統計量為之。標記變數(i.e., $y$)應將均數平移至0 (依照訓練資料的統計量)。標記變數的變異數不要調整。\n",
    "\n",
    "\n",
    "#### Minibatch, Epoch, and Early Stopping\n",
    "如果沒有特別說明，模型訓練時應以大小為1,000個資料點的Minibatch為之。模型使用一個Minibatch的資料更新參數之後稱為經歷了一個Batch。當所有Subtraining資料已經用來更新過模型參數，稱為經過了一個Epoch。\n",
    "\n",
    "模型訓練應使用Early Stopping決定最佳的模型。模型訓練時每100個Batch計算一次Training and Validation RMSE。如果Validation為歷史最低，則記下當下的模型參數與當時已進行的Batch數量，稱為best_step_count。如由best_step_count起算已經經過了5,000個Batch而沒有更好的Validation RMSE，則停止模型訓練，並以best_step_count時的模型參數做為最後的模型訓練結果。如果模型訓練最多執行100個epoch。如果模型已經執行了100個epoch而沒有Early Stop，則應使用歷史最佳的Validation RMSE所對應到的模型參數計算Test RMSE。\n",
    "\n",
    "\n",
    "#### Implementation Restriction\n",
    "使用Pytorch建構MLP模型。Ordinary Least Square (OLS)模型訓練沒有限制使用何種套件。\n",
    "\n",
    "#### 資料載入\n",
    "使用下面的程式碼載入資料:"
   ]
  },
  {
   "cell_type": "code",
   "execution_count": 2,
   "metadata": {
    "colab": {
     "base_uri": "https://localhost:8080/"
    },
    "id": "4XR1wx90Fack",
    "outputId": "d28e5023-5120-4f34-9a38-74c6bfd30d59"
   },
   "outputs": [
    {
     "name": "stdout",
     "output_type": "stream",
     "text": [
      "Mounted at /content/drive\n"
     ]
    }
   ],
   "source": [
    "from google.colab import drive\n",
    "drive.mount('/content/drive')"
   ]
  },
  {
   "cell_type": "code",
   "execution_count": 3,
   "metadata": {
    "id": "03Ngn7NMFaVk"
   },
   "outputs": [],
   "source": [
    "import pickle\n",
    "DATA_PATH = \"/content/drive/My Drive\"\n",
    "infile = open(DATA_PATH+'/msd_full.pickle','rb')\n",
    "msd_data = pickle.load(infile)"
   ]
  },
  {
   "cell_type": "code",
   "execution_count": 4,
   "metadata": {
    "colab": {
     "base_uri": "https://localhost:8080/"
    },
    "id": "kDf95kkT0KKV",
    "outputId": "87034d92-182a-47ec-8980-5b4eb1d94be3"
   },
   "outputs": [
    {
     "name": "stdout",
     "output_type": "stream",
     "text": [
      "X_train shape =  (463715, 90)\n",
      "Y_train shape =  (463715,)\n",
      "\n",
      "X_subtrain shape =  (417344, 90)\n",
      "Y_subtrain shape =  (417344,)\n",
      "\n",
      "X_valid shape =  (46371, 90)\n",
      "Y_valid shape =  (46371,)\n",
      "\n",
      "X_test shape =  (51630, 90)\n",
      "Y_test shape =  (51630,)\n"
     ]
    }
   ],
   "source": [
    "# load packages\n",
    "%matplotlib inline\n",
    "import pickle\n",
    "from sklearn import preprocessing\n",
    "\n",
    "# # Load data\n",
    "# with open('msd_full.pickle', 'rb') as fh1:\n",
    "#     msd_data = pickle.load(fh1)\n",
    "\n",
    "doscaling = 1\n",
    "if (doscaling == 1):\n",
    "    xscaler = preprocessing.StandardScaler().fit(msd_data['X_train'])\n",
    "    # standardize feature values\n",
    "    X_train = xscaler.transform(msd_data['X_train'])\n",
    "    X_test = xscaler.transform(msd_data['X_test'])\n",
    "else:\n",
    "    X_train = msd_data['X_train']\n",
    "    X_test = msd_data['X_test']\n",
    "\n",
    "Y_train = msd_data['Y_train']\n",
    "Y_test = msd_data['Y_test'].astype('float32')\n",
    "X_test = X_test.astype('float32')\n",
    "\n",
    "y_mean = Y_train.mean()\n",
    "Y_train_keep = Y_train.copy()\n",
    "Y_test_keep = Y_test.copy()\n",
    "Y_train = Y_train - y_mean\n",
    "Y_test = Y_test - y_mean\n",
    "\n",
    "\n",
    "# validation is the last 10% of training, subtraining is the first 90% of training\n",
    "nvalid = int(X_train.shape[0] * 0.1)\n",
    "nsubtrain = X_train.shape[0] - nvalid\n",
    "\n",
    "X_subtrain = X_train[0:nsubtrain, :].astype('float32')\n",
    "X_valid = X_train[nsubtrain:, :].astype('float32')\n",
    "Y_subtrain = Y_train[0:nsubtrain].astype('float32')\n",
    "Y_valid = Y_train[nsubtrain:].astype('float32')\n",
    "\n",
    "Y_subtrain_keep = Y_train_keep[0:nsubtrain].astype('float32')\n",
    "Y_valid_keep = Y_train_keep[nsubtrain:].astype('float32')\n",
    "\n",
    "print(\"X_train shape = \", X_train.shape)\n",
    "print(\"Y_train shape = \", Y_train.shape)\n",
    "\n",
    "print(\"\\nX_subtrain shape = \", X_subtrain.shape)\n",
    "print(\"Y_subtrain shape = \", Y_subtrain.shape)\n",
    "\n",
    "print(\"\\nX_valid shape = \", X_valid.shape)\n",
    "print(\"Y_valid shape = \", Y_valid.shape)\n",
    "\n",
    "print(\"\\nX_test shape = \", X_test.shape)\n",
    "print(\"Y_test shape = \", Y_test.shape)"
   ]
  },
  {
   "cell_type": "markdown",
   "metadata": {
    "id": "ISe-ZaDt0KKW"
   },
   "source": [
    "### 回答下面問題"
   ]
  },
  {
   "cell_type": "markdown",
   "metadata": {
    "id": "jIG21M770KKX"
   },
   "source": [
    "#### Q1 (5%)\n",
    "使用Training資料訓練一個Ordinary Least Square模型，並進行預測。列出此模型的RMSE與前五個特徵的參數。OLS模型應包含常數項，且不應有任何Regularization。\n",
    "\n",
    "#### Q2 MLP with Four Hidden Layers (15%)\n",
    "建構一個有四層Hidden Layer的MLP。此模型由輸入層開始，90個Input Features通過線性層轉換為H個Hidden Nodes，並通過ReLu Activation Function，此為第一層Hidden Layer。\n",
    "接著通過下一個線性層與ReLu Activation Function，此為第二層。接著下一個線性層與ReLu Activation Function，此為第三層。\n",
    "然後下一個線性層與ReLu Activation Function，此為第四層。最後通過一個線性層輸出。\n",
    "所有Hidden Layer的寬度都為H。\n",
    "\n",
    "令H= 45, 使用Stochastic Gradient Descent更新參數，設Learning Rate = 0.00001，無Weight Decay與Momentum。畫出模型訓練過程中的Training與Validation RMSE，列出Test RMSE。 並討論訓練過程中Training與Validation RMSE的圖形意義。\n",
    "\n",
    "#### Q3 (10%)\n",
    "重複上題步驟，使用H = 90與180。無須畫訓練過程的RMSE。列出這兩個Test RMSE。討論H = 45, 90, 180的Test RMSE。\n",
    "\n",
    "#### Q4 (15%)\n",
    "使用Q2的模型設定，考慮 H = 45, 90, 180與Weight Decay = 0.1, 0.2, 0.4的所有組合。模型估計後做表整理Test RMSE。討論H的選擇應為多少較合理?\n",
    "\n",
    "#### Q5 MLP with Dropout (15%)\n",
    "建構一個有Dropout的四層Hidden Layer的MLP。此模型由輸入層開始，第一層由90個Input Features通過線性層轉換為H個Hidden Nodes，通過ReLu Activation Function，之後對Hidden Unit Dropout，機率為0.5。後面各Hidden Lyaer均在ReLu後有Dropout，機率皆為0.5。最後通過一個線性層輸出。所有Hidden Layer的寬度都為H。\n",
    "\n",
    "令H= 90, 使用Adaptive Moment Estimation (Adam)更新參數，設Learning Rate = 0.001，無Weight Decay與Momentum，其他參數使用預設值。畫出模型訓練過程中的Training與Validation RMSE，列出Test RMSE。 並討論訓練過程中Training與Validation RMSE的圖形意義。\n",
    "\n",
    "#### Q6 Explore Number of Hidden Units (10%)\n",
    "使用上題的模型，考慮H = 20, 180, 360。 討論H = 20, 45, 180, 360的Test RMSE。\n",
    "\n",
    "#### Q7 L2 + L1 Loss (15%)\n",
    "我們前面的小題皆是使用SSE，也就是L2 Loss。一個改善模型訓練的方式是使用多種類似的Loss，以線性組合的方式建構Loss Function。請使用Q5中的MLP with Dropout模型 (H = 90)，並以L2 + L1 Loss訓練模型。這個Loss的定義如下:\n",
    "\n",
    "$$\n",
    "loss(\\mathbf{y}, \\hat{\\mathbf{y}}) = z \\sum_{i=1}^n (y_i - \\hat{y}_i)^2 + (1 - z) \\sum_{i = 1}^n | y_i - \\hat{y}_i |,\n",
    "$$\n",
    "其中z為實數且$0 <=z <= 1$。\n",
    "\n",
    "使用z = 0.5。並以Adam訓練模型。畫出Training and Validation RMSE，並報告Test RMSE。注意這裡繪圖時應使用RMSE而不是這個特殊的Loss。\n",
    "\n",
    "另外，使用z = 0.0, 0.1, 0.9, 1.0訓練模型(不須提供訓練過程的Loss圖形)，統整各個z值下的Test RMSE並討論。\n",
    "\n",
    "#### Q8 L2 + Customerized Loss (15%)\n",
    "考慮另一個比較特別的Loss Function\n",
    "\n",
    "$$\n",
    "qloss(\\mathbf{y}, \\hat{\\mathbf{y}}) = \\sum_{i=1}^n \\{ q (y_i - \\hat{y}_i)_+ + (1 - q) (\\hat{y}_i - y_i)_+ \\},\n",
    "$$\n",
    "其中q為參數且$0<=q<=1$，而$(y_i - \\hat{y}_i)_+$是取正值的意思。也就是說如果$(y_i - \\hat{y}_i) > 0$，則$(y_i - \\hat{y}_i)_+ = y_i - \\hat{y}_i$，否則$(y_i - \\hat{y}_i)_+ = 0$。\n",
    "\n",
    "令模型的Loss為$z \\sum_{i=1}^n (y_i - \\hat{y}_i)^2 + (1 - z) \\sum_{i=1}^n \\{ 0.5 (y_i - \\hat{y}_i)_+ + 0.5 (\\hat{y}_i - y_i)_+ \\} $。請使用Q5中的MLP with Dropout模型(H = 90)，令z = 0。並以Adam訓練模型。畫出Training and Validation RMSE，並報告Test RMSE。注意這裡繪圖時應使用RMSE而不是這個特殊的Loss。\n",
    "\n",
    "另外，使用z = 0.1, 0.5, 0.9, 1.0訓練模型(不須提供訓練過程的Loss圖形)，統整各個z值下的Test RMSE並討論。\n"
   ]
  },
  {
   "cell_type": "markdown",
   "metadata": {
    "id": "tl_uRUcQUTef"
   },
   "source": [
    "# A1"
   ]
  },
  {
   "cell_type": "code",
   "execution_count": 5,
   "metadata": {
    "id": "hPr_AweDF19N"
   },
   "outputs": [],
   "source": [
    "import matplotlib.pyplot as plt\n",
    "import numpy as np\n",
    "import pandas as pd"
   ]
  },
  {
   "cell_type": "code",
   "execution_count": 6,
   "metadata": {
    "id": "Cl2344Gugx8X"
   },
   "outputs": [],
   "source": [
    "import sklearn as sk\n",
    "from sklearn import linear_model\n",
    "reg = linear_model.LinearRegression()\n",
    "reg.fit(X_train, Y_train)\n",
    "Y_pred = reg.predict(X_test)"
   ]
  },
  {
   "cell_type": "code",
   "execution_count": 7,
   "metadata": {
    "colab": {
     "base_uri": "https://localhost:8080/"
    },
    "id": "zqndQEWYyCDp",
    "outputId": "7acc477e-5ee0-4162-9e75-24fe568358e5"
   },
   "outputs": [
    {
     "data": {
      "text/plain": [
       "9.510160684544399"
      ]
     },
     "execution_count": 7,
     "metadata": {},
     "output_type": "execute_result"
    }
   ],
   "source": [
    "(sk.metrics.mean_squared_error(Y_test, Y_pred))**(1/2)"
   ]
  },
  {
   "cell_type": "markdown",
   "metadata": {
    "id": "8To9f__CbeRU"
   },
   "source": [
    "此模型的RMSE為9.51"
   ]
  },
  {
   "cell_type": "code",
   "execution_count": 8,
   "metadata": {
    "colab": {
     "base_uri": "https://localhost:8080/"
    },
    "id": "CxE_bmWihlly",
    "outputId": "fe17fd50-c027-441a-f485-ad40b5138451"
   },
   "outputs": [
    {
     "name": "stdout",
     "output_type": "stream",
     "text": [
      "5.3097526499730625\n",
      "-2.8808811379532635\n",
      "-1.5323434812890016\n",
      "0.05737582636426097\n",
      "-0.3395288910991756\n"
     ]
    }
   ],
   "source": [
    "for i in range(5):\n",
    "  print(reg.coef_[i])"
   ]
  },
  {
   "cell_type": "markdown",
   "metadata": {
    "id": "FWzb6iKDb4aD"
   },
   "source": [
    "前五項特徵的參數為\n",
    "5.3097526499730625,\n",
    "-2.8808811379532635,\n",
    "-1.5323434812890016,\n",
    "0.05737582636426097,\n",
    "-0.3395288910991756,\n",
    "\n"
   ]
  },
  {
   "cell_type": "markdown",
   "metadata": {
    "id": "hy0UUJIwUQ75"
   },
   "source": [
    "# A2"
   ]
  },
  {
   "cell_type": "code",
   "execution_count": 9,
   "metadata": {
    "id": "7nuyzWHZQs7S"
   },
   "outputs": [],
   "source": [
    "import torch\n",
    "from torch.utils import data\n",
    "\n",
    "class Dataset(data.Dataset):\n",
    "  'Characterizes a dataset for PyTorch'\n",
    "  def __init__(self, Xnp, Ynp):\n",
    "        'Initialization, passing Xnp and Ynp'\n",
    "        self.labels = Ynp\n",
    "        self.nobs = Xnp.shape[0]        \n",
    "        self.Xnp = Xnp\n",
    "        self.Ynp = Ynp\n",
    "  def __len__(self):\n",
    "        'Denotes the total number of samples'\n",
    "        return self.nobs\n",
    "  def __getitem__(self, index):\n",
    "        'Generates one sample of data'        \n",
    "        X = self.Xnp[index]\n",
    "        y = self.Ynp[index]\n",
    "        return X, y\n",
    "    \n",
    "#y_train is a pandas.core.series.Series    \n",
    "trainset = Dataset(X_train, Y_train)\n",
    "subtrainset = Dataset(X_subtrain, Y_subtrain)\n",
    "validset = Dataset(X_valid, Y_valid)\n",
    "testset = Dataset(X_test, Y_test)"
   ]
  },
  {
   "cell_type": "code",
   "execution_count": 10,
   "metadata": {
    "id": "ZQX5cLGLQs4U"
   },
   "outputs": [],
   "source": [
    "trainloader = data.DataLoader(trainset, batch_size=1000, shuffle=True, num_workers=0)\n",
    "subtrainloader = data.DataLoader(subtrainset, batch_size=1000, shuffle=True, num_workers=0)\n",
    "validloader = data.DataLoader(validset, batch_size=1000, shuffle=True, num_workers=0)\n",
    "testloader = data.DataLoader(testset, batch_size=1000, shuffle=True, num_workers=0)"
   ]
  },
  {
   "cell_type": "code",
   "execution_count": 11,
   "metadata": {
    "colab": {
     "base_uri": "https://localhost:8080/"
    },
    "id": "OW31XVIiQs2H",
    "outputId": "7fec436f-6e3e-4d71-f998-a5ed1f6f544e"
   },
   "outputs": [
    {
     "name": "stdout",
     "output_type": "stream",
     "text": [
      "X_batch size: torch.Size([1000, 90])\n",
      "Y_batch size: torch.Size([1000])\n"
     ]
    }
   ],
   "source": [
    "X_batch, Y_batch = next(iter(subtrainloader))\n",
    "print(\"X_batch size:\", X_batch.size())\n",
    "print(\"Y_batch size:\", Y_batch.size())"
   ]
  },
  {
   "cell_type": "code",
   "execution_count": 12,
   "metadata": {
    "colab": {
     "base_uri": "https://localhost:8080/"
    },
    "id": "aDv81ZhmXXGM",
    "outputId": "c747aeef-de88-4928-a5a7-ea51bb3419ef"
   },
   "outputs": [
    {
     "name": "stdout",
     "output_type": "stream",
     "text": [
      "Running on device:  cuda\n"
     ]
    }
   ],
   "source": [
    "use_cuda = torch.cuda.is_available()\n",
    "if use_cuda:\n",
    "    device = \"cuda\"   \n",
    "else:\n",
    "    device = \"cpu\"\n",
    "print(\"Running on device: \", device)"
   ]
  },
  {
   "cell_type": "code",
   "execution_count": 13,
   "metadata": {
    "id": "KMjnBXTIQszZ"
   },
   "outputs": [],
   "source": [
    "D_in = trainset.Xnp.shape[1]\n",
    "H = 45\n",
    "\n",
    "D_out = 1\n",
    "use_cuda = torch.cuda.is_available()\n",
    "\n",
    "net = torch.nn.Sequential(\n",
    "        torch.nn.Linear(D_in, H),  \n",
    "        torch.nn.ReLU(),\n",
    "        torch.nn.Linear(H, H),\n",
    "        torch.nn.ReLU(),\n",
    "        torch.nn.Linear(H, H),\n",
    "        torch.nn.ReLU(),\n",
    "        torch.nn.Linear(H, H),\n",
    "        torch.nn.ReLU(),\n",
    "        torch.nn.Linear(H, D_out)\n",
    ")\n",
    "# convert everything to float precision. \n",
    "net = net.float()\n",
    "# move the model to device (i.e., cpu or gpu)\n",
    "net = net.to(device)\n",
    "\n",
    "# define the optimizer\n",
    "optimizer = torch.optim.SGD(net.parameters(), lr=0.00001)\n",
    "loss_fn = torch.nn.MSELoss(reduction=\"sum\")"
   ]
  },
  {
   "cell_type": "code",
   "execution_count": null,
   "metadata": {
    "id": "rt-AGwwkQsrS"
   },
   "outputs": [],
   "source": [
    "nepoch = 100\n",
    "step_count = 0\n",
    "log_interval = 100\n",
    "\n",
    "SSE = 0\n",
    "MSE = 0\n",
    "stop_count = 0\n",
    "best_step_count = 0\n",
    "\n",
    "train_RMSE = np.array([])\n",
    "valid_RMSE = np.array([])\n",
    "best_valid_RMSE = 10000\n",
    "\n",
    "weight = []\n",
    "\n",
    "for epoch_id in range(0, nepoch):      \n",
    "    for batch_idx, (inputs, targets) in enumerate(subtrainloader):\n",
    "        #reshape target to two-dimensional array\n",
    "        targets = targets.reshape((-1, 1))\n",
    "        step_count += 1        \n",
    "        net.train()\n",
    "        inputs, targets = inputs.to(device), targets.to(device)\n",
    "        optimizer.zero_grad()\n",
    "        outputs = net(inputs.float())        \n",
    "        loss = loss_fn(outputs.float(), targets.float())\n",
    "\n",
    "        SSE += loss.item()\n",
    "        RMSE = (SSE/(step_count*1000))**(1/2)\n",
    "        train_RMSE = np.append(train_RMSE, RMSE)\n",
    "\n",
    "        loss.backward()\n",
    "        optimizer.step()\n",
    "        # print(list(net.parameters()))\n",
    "\n",
    "        with torch.no_grad():\n",
    "            valid_SSE = 0\n",
    "            for batch_idx, (inputs, targets) in enumerate(validloader):            \n",
    "                inputs, targets = inputs.to(device), targets.to(device)\n",
    "                targets = targets.reshape((-1, 1))\n",
    "                outputs = net(inputs)\n",
    "                cn_loss = loss_fn(outputs, targets)\n",
    "                valid_SSE += cn_loss.item()\n",
    "\n",
    "            valid_tem_rmse = (valid_SSE/46371)**(1/2)\n",
    "            valid_RMSE = np.append(valid_RMSE, valid_tem_rmse)\n",
    "\n",
    "        # if step_count % log_interval == 0:            \n",
    "            # print(\"Epoch %d Step %d Loss = %.3f (minibatch size = %d)\" % (epoch_id, step_count, loss.item(), len(targets)))\n",
    "            # print(RMSE)\n",
    "            # print(valid_tem_rmse)\n",
    "\n",
    "        if valid_tem_rmse < best_valid_RMSE:\n",
    "          best_valid_RMSE = valid_tem_rmse\n",
    "          best_step_count = step_count\n",
    "          stop_count = 0\n",
    "          weight = net.parameters\n",
    "          # print(weight)\n",
    "        else:\n",
    "          stop_count += 1\n",
    "          print(stop_count)\n",
    "\n",
    "        if stop_count == 5000:\n",
    "          break\n",
    "    if stop_count == 5000:\n",
    "      break"
   ]
  },
  {
   "cell_type": "code",
   "execution_count": 231,
   "metadata": {
    "colab": {
     "base_uri": "https://localhost:8080/"
    },
    "id": "jtUq58rWb549",
    "outputId": "cc9d7149-b9f1-4a3c-9c95-8d625287ca21"
   },
   "outputs": [
    {
     "name": "stdout",
     "output_type": "stream",
     "text": [
      "5072\n"
     ]
    }
   ],
   "source": [
    "print(best_step_count)"
   ]
  },
  {
   "cell_type": "code",
   "execution_count": 236,
   "metadata": {
    "colab": {
     "base_uri": "https://localhost:8080/",
     "height": 296
    },
    "id": "zpnqa_QBfGd0",
    "outputId": "cfbbe245-dde5-4deb-ea63-b5fd0054907c"
   },
   "outputs": [
    {
     "data": {
      "text/plain": [
       "<function matplotlib.pyplot.show>"
      ]
     },
     "execution_count": 236,
     "metadata": {},
     "output_type": "execute_result"
    },
    {
     "data": {
      "image/png": "[encoded data removed]",
      "text/plain": [
       "<Figure size 432x288 with 1 Axes>"
      ]
     },
     "metadata": {
      "needs_background": "light"
     },
     "output_type": "display_data"
    }
   ],
   "source": [
    "plt.plot(range(len(valid_RMSE)), valid_RMSE, label='Validation')\n",
    "plt.plot(range(len(train_RMSE)), train_RMSE, label='Training')\n",
    "plt.xlabel('Batch')\n",
    "plt.ylabel('RMSE')\n",
    "plt.legend()\n",
    "plt.show"
   ]
  },
  {
   "cell_type": "markdown",
   "metadata": {
    "id": "saJrf0BrnQ20"
   },
   "source": [
    "Training RMSE 線條較滑順，且持續在緩緩下降，因為learning rate小再加上套回自己本身的緣故，Training RMSE很少有上升的趨勢；而Validation RMSE則有許多小起伏，也相對Training較早收斂，在第5000個batch就遇到最小的RMSE了。"
   ]
  },
  {
   "cell_type": "code",
   "execution_count": 242,
   "metadata": {
    "colab": {
     "base_uri": "https://localhost:8080/"
    },
    "id": "QaLWsXT5fGVT",
    "outputId": "d0e18724-f150-4f25-ae66-fee865000b7e"
   },
   "outputs": [
    {
     "name": "stdout",
     "output_type": "stream",
     "text": [
      "Test RMSE(H=45) = 8.867488\n"
     ]
    }
   ],
   "source": [
    "net.apply(weight)\n",
    "\n",
    "with torch.no_grad():\n",
    "  test_SSE = 0\n",
    "  for batch_idx, (inputs, targets) in enumerate(testloader):            \n",
    "    inputs, targets = inputs.to(device), targets.to(device)\n",
    "    targets = targets.reshape((-1, 1))\n",
    "    outputs = net(inputs)\n",
    "    cn_loss = loss_fn(outputs, targets)\n",
    "    test_SSE += cn_loss.item()\n",
    "\n",
    "  test_rmse = (test_SSE/51630)**(1/2)\n",
    "print(\"Test RMSE(H=45) = %f\" % test_rmse)"
   ]
  },
  {
   "cell_type": "markdown",
   "metadata": {
    "id": "Mwa816nj2bz3"
   },
   "source": [
    "# A3 換成不同H\n",
    "H= 90"
   ]
  },
  {
   "cell_type": "code",
   "execution_count": null,
   "metadata": {
    "id": "rIbKmuOB2j3n"
   },
   "outputs": [],
   "source": [
    "D_in = trainset.Xnp.shape[1]\n",
    "H = 90\n",
    "D_out = 1\n",
    "\n",
    "net_90 = torch.nn.Sequential(\n",
    "        torch.nn.Linear(D_in, H),  \n",
    "        torch.nn.ReLU(),\n",
    "        torch.nn.Linear(H, H),\n",
    "        torch.nn.ReLU(),\n",
    "        torch.nn.Linear(H, H),\n",
    "        torch.nn.ReLU(),\n",
    "        torch.nn.Linear(H, H),\n",
    "        torch.nn.ReLU(),\n",
    "        torch.nn.Linear(H, D_out)\n",
    ")\n",
    "# convert everything to float precision. \n",
    "net_90 = net_90.float()\n",
    "# move the model to device (i.e., cpu or gpu)\n",
    "net_90 = net_90.to(device)\n",
    "\n",
    "\n",
    "# define the optimizer\n",
    "optimizer = torch.optim.SGD(net_90.parameters(), lr=0.00001)\n",
    "loss_fn = torch.nn.MSELoss(reduction=\"sum\")\n",
    "\n",
    "nepoch = 100\n",
    "step_count = 0\n",
    "log_interval = 100\n",
    "\n",
    "stop_count = 0\n",
    "best_step_count_90 = 0\n",
    "\n",
    "# valid_RMSE = np.array([])\n",
    "best_valid_RMSE_90 = 10000\n",
    "\n",
    "weight_90 = []\n",
    "\n",
    "for epoch_id in range(0, nepoch):      \n",
    "    for batch_idx, (inputs, targets) in enumerate(subtrainloader):\n",
    "        #reshape target to two-dimensional array\n",
    "        targets = targets.reshape((-1, 1))\n",
    "        step_count += 1        \n",
    "        net_90.train()\n",
    "        inputs, targets = inputs.to(device), targets.to(device)\n",
    "        optimizer.zero_grad()\n",
    "        outputs = net_90(inputs.float())        \n",
    "        loss = loss_fn(outputs.float(), targets.float())\n",
    "\n",
    "        loss.backward()\n",
    "        optimizer.step()\n",
    "        # print(list(net.parameters()))\n",
    "\n",
    "        with torch.no_grad():\n",
    "            valid_SSE = 0\n",
    "            for batch_idx, (inputs, targets) in enumerate(validloader):            \n",
    "                inputs, targets = inputs.to(device), targets.to(device)\n",
    "                targets = targets.reshape((-1, 1))\n",
    "                outputs = net_90(inputs)\n",
    "                cn_loss = loss_fn(outputs, targets)\n",
    "                valid_SSE += cn_loss.item()\n",
    "\n",
    "            valid_tem_rmse = (valid_SSE/46371)**(1/2)\n",
    "            # valid_RMSE = np.append(valid_RMSE, valid_tem_rmse)\n",
    "\n",
    "        if valid_tem_rmse < best_valid_RMSE_90:\n",
    "          best_valid_RMSE_90 = valid_tem_rmse\n",
    "          best_step_count_90 = step_count\n",
    "          stop_count = 0\n",
    "          weight_90 = net_90.parameters\n",
    "          # print(weight)\n",
    "        else:\n",
    "          stop_count += 1\n",
    "          print(stop_count)\n",
    "        \n",
    "        if stop_count == 5000:\n",
    "          break \n",
    "    if stop_count == 5000:\n",
    "      break"
   ]
  },
  {
   "cell_type": "code",
   "execution_count": 245,
   "metadata": {
    "colab": {
     "base_uri": "https://localhost:8080/"
    },
    "id": "ZA5h9cp6faPX",
    "outputId": "66704178-61ef-40ed-88a9-c0510eaaffdd"
   },
   "outputs": [
    {
     "name": "stdout",
     "output_type": "stream",
     "text": [
      "4464\n"
     ]
    }
   ],
   "source": [
    "print(best_step_count_90)"
   ]
  },
  {
   "cell_type": "code",
   "execution_count": 241,
   "metadata": {
    "colab": {
     "base_uri": "https://localhost:8080/"
    },
    "id": "2u6H9LYw85cb",
    "outputId": "54b605a9-be74-434d-c96d-4d54233f7490"
   },
   "outputs": [
    {
     "name": "stdout",
     "output_type": "stream",
     "text": [
      "Test RMSE(H=90) = 8.967312\n"
     ]
    }
   ],
   "source": [
    "net_90.apply(weight_90)\n",
    "\n",
    "with torch.no_grad():\n",
    "  test_SSE_90 = 0\n",
    "  for batch_idx, (inputs, targets) in enumerate(testloader):            \n",
    "    inputs, targets = inputs.to(device), targets.to(device)\n",
    "    targets = targets.reshape((-1, 1))\n",
    "    outputs = net_90(inputs)\n",
    "    cn_loss = loss_fn(outputs, targets)\n",
    "    test_SSE_90 += cn_loss.item()\n",
    "\n",
    "  test_rmse_90 = (test_SSE_90/51630)**(1/2)\n",
    "\n",
    "print(\"Test RMSE(H=90) = %f\" % test_rmse_90)"
   ]
  },
  {
   "cell_type": "markdown",
   "metadata": {
    "id": "JBbenTrlKtAB"
   },
   "source": [
    "H = 180"
   ]
  },
  {
   "cell_type": "code",
   "execution_count": null,
   "metadata": {
    "id": "gy9fWxEqIWtf"
   },
   "outputs": [],
   "source": [
    "D_in = trainset.Xnp.shape[1]\n",
    "H = 180\n",
    "D_out = 1\n",
    "\n",
    "net_180 = torch.nn.Sequential(\n",
    "        torch.nn.Linear(D_in, H),  \n",
    "        torch.nn.ReLU(),\n",
    "        torch.nn.Linear(H, H),\n",
    "        torch.nn.ReLU(),\n",
    "        torch.nn.Linear(H, H),\n",
    "        torch.nn.ReLU(),\n",
    "        torch.nn.Linear(H, H),\n",
    "        torch.nn.ReLU(),\n",
    "        torch.nn.Linear(H, D_out)\n",
    ")\n",
    "# convert everything to float precision. \n",
    "net_180 = net_180.float()\n",
    "# move the model to device (i.e., cpu or gpu)\n",
    "net_180 = net_180.to(device)\n",
    "\n",
    "\n",
    "# define the optimizer\n",
    "optimizer = torch.optim.SGD(net_180.parameters(), lr=0.00001)\n",
    "loss_fn = torch.nn.MSELoss(reduction=\"sum\")\n",
    "\n",
    "nepoch = 100\n",
    "step_count = 0\n",
    "log_interval = 100\n",
    "\n",
    "stop_count = 0\n",
    "best_step_count_180 = 0\n",
    "\n",
    "# valid_RMSE = np.array([])\n",
    "best_valid_RMSE_180 = 10000\n",
    "\n",
    "weight_180 = []\n",
    "\n",
    "for epoch_id in range(0, nepoch):      \n",
    "    for batch_idx, (inputs, targets) in enumerate(subtrainloader):\n",
    "        #reshape target to two-dimensional array\n",
    "        targets = targets.reshape((-1, 1))\n",
    "        step_count += 1        \n",
    "        net_180.train()\n",
    "        inputs, targets = inputs.to(device), targets.to(device)\n",
    "        optimizer.zero_grad()\n",
    "        outputs = net_180(inputs.float())        \n",
    "        loss = loss_fn(outputs.float(), targets.float())\n",
    "\n",
    "        loss.backward()\n",
    "        optimizer.step()\n",
    "        # print(list(net.parameters()))\n",
    "\n",
    "        with torch.no_grad():\n",
    "            valid_SSE = 0\n",
    "            for batch_idx, (inputs, targets) in enumerate(validloader):            \n",
    "                inputs, targets = inputs.to(device), targets.to(device)\n",
    "                targets = targets.reshape((-1, 1))\n",
    "                outputs = net_180(inputs)\n",
    "                cn_loss = loss_fn(outputs, targets)\n",
    "                valid_SSE += cn_loss.item()\n",
    "\n",
    "            valid_tem_rmse = (valid_SSE/46371)**(1/2)\n",
    "            # valid_RMSE = np.append(valid_RMSE, valid_tem_rmse)\n",
    "\n",
    "        if valid_tem_rmse < best_valid_RMSE_180:\n",
    "          best_valid_RMSE_180 = valid_tem_rmse\n",
    "          best_step_count_180 = step_count\n",
    "          stop_count = 0\n",
    "          weight_180 = net_180.parameters\n",
    "          # print(weight)\n",
    "        else:\n",
    "          stop_count += 1\n",
    "          print(stop_count)\n",
    "        \n",
    "        if stop_count == 5000:\n",
    "          break \n",
    "    if stop_count == 5000:\n",
    "      break"
   ]
  },
  {
   "cell_type": "code",
   "execution_count": 249,
   "metadata": {
    "colab": {
     "base_uri": "https://localhost:8080/"
    },
    "id": "LzTJFFzpmq0P",
    "outputId": "2a7aed51-fcbc-4022-e5b2-97ee3ac64ba4"
   },
   "outputs": [
    {
     "name": "stdout",
     "output_type": "stream",
     "text": [
      "3486\n"
     ]
    }
   ],
   "source": [
    "print(best_step_count_180)"
   ]
  },
  {
   "cell_type": "code",
   "execution_count": 248,
   "metadata": {
    "colab": {
     "base_uri": "https://localhost:8080/"
    },
    "id": "HufuTUIxMCHa",
    "outputId": "e033b38e-736e-4b07-8686-571dba424ad2"
   },
   "outputs": [
    {
     "name": "stdout",
     "output_type": "stream",
     "text": [
      "Test RMSE(H=180) = 9.123229\n"
     ]
    }
   ],
   "source": [
    "net_180.apply(weight_180)\n",
    "\n",
    "with torch.no_grad():\n",
    "  test_SSE_180 = 0\n",
    "  for batch_idx, (inputs, targets) in enumerate(testloader):            \n",
    "    inputs, targets = inputs.to(device), targets.to(device)\n",
    "    targets = targets.reshape((-1, 1))\n",
    "    outputs = net_180(inputs)\n",
    "    cn_loss = loss_fn(outputs, targets)\n",
    "    test_SSE_180 += cn_loss.item()\n",
    "\n",
    "  test_rmse_180 = (test_SSE_180/51630)**(1/2)\n",
    "\n",
    "print(\"Test RMSE(H=180) = %f\" % test_rmse_180)"
   ]
  },
  {
   "cell_type": "markdown",
   "metadata": {
    "id": "utWXm1u_oipu"
   },
   "source": [
    "Test RMSE(H=45) = 8.867488 < Test RMSE(H=90) = 8.967312 < Test RMSE(H=180) = 9.123229\n",
    "\n",
    "\n",
    "best_step_count_180 = 3486 < best_step_count_90 = 4464 < best_step_count = 5072\n",
    "\n",
    "\n",
    "代表H越大，RMSE越大，越早碰到最小值。"
   ]
  },
  {
   "cell_type": "markdown",
   "metadata": {
    "id": "OePeYFP4T7Hj"
   },
   "source": [
    "# A4"
   ]
  },
  {
   "cell_type": "code",
   "execution_count": 14,
   "metadata": {
    "colab": {
     "base_uri": "https://localhost:8080/",
     "height": 468
    },
    "id": "g0Bj4Y0BMMLF",
    "outputId": "be773bd9-ca85-464f-bb2b-82f636ab051c"
   },
   "outputs": [
    {
     "name": "stdout",
     "output_type": "stream",
     "text": [
      "When H=45 and Weight Decay=0.1 , test_rmse is 8.872259101123923\n",
      "When H=45 and Weight Decay=0.2 , test_rmse is 8.867624350134472\n",
      "When H=45 and Weight Decay=0.4 , test_rmse is 8.847407012554687\n",
      "When H=90 and Weight Decay=0.1 , test_rmse is 9.048492780780665\n",
      "When H=90 and Weight Decay=0.2 , test_rmse is 8.941541186287406\n"
     ]
    },
    {
     "ename": "KeyboardInterrupt",
     "evalue": "ignored",
     "output_type": "error",
     "traceback": [
      "\u001b[0;31m---------------------------------------------------------------------------\u001b[0m",
      "\u001b[0;31mKeyboardInterrupt\u001b[0m                         Traceback (most recent call last)",
      "\u001b[0;32m<ipython-input-14-6b9cdcf58fcb>\u001b[0m in \u001b[0;36m<module>\u001b[0;34m()\u001b[0m\n\u001b[1;32m     55\u001b[0m             \u001b[0;32mwith\u001b[0m \u001b[0mtorch\u001b[0m\u001b[0;34m.\u001b[0m\u001b[0mno_grad\u001b[0m\u001b[0;34m(\u001b[0m\u001b[0;34m)\u001b[0m\u001b[0;34m:\u001b[0m\u001b[0;34m\u001b[0m\u001b[0;34m\u001b[0m\u001b[0m\n\u001b[1;32m     56\u001b[0m                 \u001b[0mvalid_SSE\u001b[0m \u001b[0;34m=\u001b[0m \u001b[0;36m0\u001b[0m\u001b[0;34m\u001b[0m\u001b[0;34m\u001b[0m\u001b[0m\n\u001b[0;32m---> 57\u001b[0;31m                 \u001b[0;32mfor\u001b[0m \u001b[0mbatch_idx\u001b[0m\u001b[0;34m,\u001b[0m \u001b[0;34m(\u001b[0m\u001b[0minputs\u001b[0m\u001b[0;34m,\u001b[0m \u001b[0mtargets\u001b[0m\u001b[0;34m)\u001b[0m \u001b[0;32min\u001b[0m \u001b[0menumerate\u001b[0m\u001b[0;34m(\u001b[0m\u001b[0mvalidloader\u001b[0m\u001b[0;34m)\u001b[0m\u001b[0;34m:\u001b[0m\u001b[0;34m\u001b[0m\u001b[0;34m\u001b[0m\u001b[0m\n\u001b[0m\u001b[1;32m     58\u001b[0m                     \u001b[0minputs\u001b[0m\u001b[0;34m,\u001b[0m \u001b[0mtargets\u001b[0m \u001b[0;34m=\u001b[0m \u001b[0minputs\u001b[0m\u001b[0;34m.\u001b[0m\u001b[0mto\u001b[0m\u001b[0;34m(\u001b[0m\u001b[0mdevice\u001b[0m\u001b[0;34m)\u001b[0m\u001b[0;34m,\u001b[0m \u001b[0mtargets\u001b[0m\u001b[0;34m.\u001b[0m\u001b[0mto\u001b[0m\u001b[0;34m(\u001b[0m\u001b[0mdevice\u001b[0m\u001b[0;34m)\u001b[0m\u001b[0;34m\u001b[0m\u001b[0;34m\u001b[0m\u001b[0m\n\u001b[1;32m     59\u001b[0m                     \u001b[0mtargets\u001b[0m \u001b[0;34m=\u001b[0m \u001b[0mtargets\u001b[0m\u001b[0;34m.\u001b[0m\u001b[0mreshape\u001b[0m\u001b[0;34m(\u001b[0m\u001b[0;34m(\u001b[0m\u001b[0;34m-\u001b[0m\u001b[0;36m1\u001b[0m\u001b[0;34m,\u001b[0m \u001b[0;36m1\u001b[0m\u001b[0;34m)\u001b[0m\u001b[0;34m)\u001b[0m\u001b[0;34m\u001b[0m\u001b[0;34m\u001b[0m\u001b[0m\n",
      "\u001b[0;32m/usr/local/lib/python3.7/dist-packages/torch/utils/data/dataloader.py\u001b[0m in \u001b[0;36m__next__\u001b[0;34m(self)\u001b[0m\n\u001b[1;32m    519\u001b[0m             \u001b[0;32mif\u001b[0m \u001b[0mself\u001b[0m\u001b[0;34m.\u001b[0m\u001b[0m_sampler_iter\u001b[0m \u001b[0;32mis\u001b[0m \u001b[0;32mNone\u001b[0m\u001b[0;34m:\u001b[0m\u001b[0;34m\u001b[0m\u001b[0;34m\u001b[0m\u001b[0m\n\u001b[1;32m    520\u001b[0m                 \u001b[0mself\u001b[0m\u001b[0;34m.\u001b[0m\u001b[0m_reset\u001b[0m\u001b[0;34m(\u001b[0m\u001b[0;34m)\u001b[0m\u001b[0;34m\u001b[0m\u001b[0;34m\u001b[0m\u001b[0m\n\u001b[0;32m--> 521\u001b[0;31m             \u001b[0mdata\u001b[0m \u001b[0;34m=\u001b[0m \u001b[0mself\u001b[0m\u001b[0;34m.\u001b[0m\u001b[0m_next_data\u001b[0m\u001b[0;34m(\u001b[0m\u001b[0;34m)\u001b[0m\u001b[0;34m\u001b[0m\u001b[0;34m\u001b[0m\u001b[0m\n\u001b[0m\u001b[1;32m    522\u001b[0m             \u001b[0mself\u001b[0m\u001b[0;34m.\u001b[0m\u001b[0m_num_yielded\u001b[0m \u001b[0;34m+=\u001b[0m \u001b[0;36m1\u001b[0m\u001b[0;34m\u001b[0m\u001b[0;34m\u001b[0m\u001b[0m\n\u001b[1;32m    523\u001b[0m             \u001b[0;32mif\u001b[0m \u001b[0mself\u001b[0m\u001b[0;34m.\u001b[0m\u001b[0m_dataset_kind\u001b[0m \u001b[0;34m==\u001b[0m \u001b[0m_DatasetKind\u001b[0m\u001b[0;34m.\u001b[0m\u001b[0mIterable\u001b[0m \u001b[0;32mand\u001b[0m\u001b[0;31m \u001b[0m\u001b[0;31m\\\u001b[0m\u001b[0;34m\u001b[0m\u001b[0;34m\u001b[0m\u001b[0m\n",
      "\u001b[0;32m/usr/local/lib/python3.7/dist-packages/torch/utils/data/dataloader.py\u001b[0m in \u001b[0;36m_next_data\u001b[0;34m(self)\u001b[0m\n\u001b[1;32m    559\u001b[0m     \u001b[0;32mdef\u001b[0m \u001b[0m_next_data\u001b[0m\u001b[0;34m(\u001b[0m\u001b[0mself\u001b[0m\u001b[0;34m)\u001b[0m\u001b[0;34m:\u001b[0m\u001b[0;34m\u001b[0m\u001b[0;34m\u001b[0m\u001b[0m\n\u001b[1;32m    560\u001b[0m         \u001b[0mindex\u001b[0m \u001b[0;34m=\u001b[0m \u001b[0mself\u001b[0m\u001b[0;34m.\u001b[0m\u001b[0m_next_index\u001b[0m\u001b[0;34m(\u001b[0m\u001b[0;34m)\u001b[0m  \u001b[0;31m# may raise StopIteration\u001b[0m\u001b[0;34m\u001b[0m\u001b[0;34m\u001b[0m\u001b[0m\n\u001b[0;32m--> 561\u001b[0;31m         \u001b[0mdata\u001b[0m \u001b[0;34m=\u001b[0m \u001b[0mself\u001b[0m\u001b[0;34m.\u001b[0m\u001b[0m_dataset_fetcher\u001b[0m\u001b[0;34m.\u001b[0m\u001b[0mfetch\u001b[0m\u001b[0;34m(\u001b[0m\u001b[0mindex\u001b[0m\u001b[0;34m)\u001b[0m  \u001b[0;31m# may raise StopIteration\u001b[0m\u001b[0;34m\u001b[0m\u001b[0;34m\u001b[0m\u001b[0m\n\u001b[0m\u001b[1;32m    562\u001b[0m         \u001b[0;32mif\u001b[0m \u001b[0mself\u001b[0m\u001b[0;34m.\u001b[0m\u001b[0m_pin_memory\u001b[0m\u001b[0;34m:\u001b[0m\u001b[0;34m\u001b[0m\u001b[0;34m\u001b[0m\u001b[0m\n\u001b[1;32m    563\u001b[0m             \u001b[0mdata\u001b[0m \u001b[0;34m=\u001b[0m \u001b[0m_utils\u001b[0m\u001b[0;34m.\u001b[0m\u001b[0mpin_memory\u001b[0m\u001b[0;34m.\u001b[0m\u001b[0mpin_memory\u001b[0m\u001b[0;34m(\u001b[0m\u001b[0mdata\u001b[0m\u001b[0;34m)\u001b[0m\u001b[0;34m\u001b[0m\u001b[0;34m\u001b[0m\u001b[0m\n",
      "\u001b[0;32m/usr/local/lib/python3.7/dist-packages/torch/utils/data/_utils/fetch.py\u001b[0m in \u001b[0;36mfetch\u001b[0;34m(self, possibly_batched_index)\u001b[0m\n\u001b[1;32m     47\u001b[0m     \u001b[0;32mdef\u001b[0m \u001b[0mfetch\u001b[0m\u001b[0;34m(\u001b[0m\u001b[0mself\u001b[0m\u001b[0;34m,\u001b[0m \u001b[0mpossibly_batched_index\u001b[0m\u001b[0;34m)\u001b[0m\u001b[0;34m:\u001b[0m\u001b[0;34m\u001b[0m\u001b[0;34m\u001b[0m\u001b[0m\n\u001b[1;32m     48\u001b[0m         \u001b[0;32mif\u001b[0m \u001b[0mself\u001b[0m\u001b[0;34m.\u001b[0m\u001b[0mauto_collation\u001b[0m\u001b[0;34m:\u001b[0m\u001b[0;34m\u001b[0m\u001b[0;34m\u001b[0m\u001b[0m\n\u001b[0;32m---> 49\u001b[0;31m             \u001b[0mdata\u001b[0m \u001b[0;34m=\u001b[0m \u001b[0;34m[\u001b[0m\u001b[0mself\u001b[0m\u001b[0;34m.\u001b[0m\u001b[0mdataset\u001b[0m\u001b[0;34m[\u001b[0m\u001b[0midx\u001b[0m\u001b[0;34m]\u001b[0m \u001b[0;32mfor\u001b[0m \u001b[0midx\u001b[0m \u001b[0;32min\u001b[0m \u001b[0mpossibly_batched_index\u001b[0m\u001b[0;34m]\u001b[0m\u001b[0;34m\u001b[0m\u001b[0;34m\u001b[0m\u001b[0m\n\u001b[0m\u001b[1;32m     50\u001b[0m         \u001b[0;32melse\u001b[0m\u001b[0;34m:\u001b[0m\u001b[0;34m\u001b[0m\u001b[0;34m\u001b[0m\u001b[0m\n\u001b[1;32m     51\u001b[0m             \u001b[0mdata\u001b[0m \u001b[0;34m=\u001b[0m \u001b[0mself\u001b[0m\u001b[0;34m.\u001b[0m\u001b[0mdataset\u001b[0m\u001b[0;34m[\u001b[0m\u001b[0mpossibly_batched_index\u001b[0m\u001b[0;34m]\u001b[0m\u001b[0;34m\u001b[0m\u001b[0;34m\u001b[0m\u001b[0m\n",
      "\u001b[0;32m/usr/local/lib/python3.7/dist-packages/torch/utils/data/_utils/fetch.py\u001b[0m in \u001b[0;36m<listcomp>\u001b[0;34m(.0)\u001b[0m\n\u001b[1;32m     47\u001b[0m     \u001b[0;32mdef\u001b[0m \u001b[0mfetch\u001b[0m\u001b[0;34m(\u001b[0m\u001b[0mself\u001b[0m\u001b[0;34m,\u001b[0m \u001b[0mpossibly_batched_index\u001b[0m\u001b[0;34m)\u001b[0m\u001b[0;34m:\u001b[0m\u001b[0;34m\u001b[0m\u001b[0;34m\u001b[0m\u001b[0m\n\u001b[1;32m     48\u001b[0m         \u001b[0;32mif\u001b[0m \u001b[0mself\u001b[0m\u001b[0;34m.\u001b[0m\u001b[0mauto_collation\u001b[0m\u001b[0;34m:\u001b[0m\u001b[0;34m\u001b[0m\u001b[0;34m\u001b[0m\u001b[0m\n\u001b[0;32m---> 49\u001b[0;31m             \u001b[0mdata\u001b[0m \u001b[0;34m=\u001b[0m \u001b[0;34m[\u001b[0m\u001b[0mself\u001b[0m\u001b[0;34m.\u001b[0m\u001b[0mdataset\u001b[0m\u001b[0;34m[\u001b[0m\u001b[0midx\u001b[0m\u001b[0;34m]\u001b[0m \u001b[0;32mfor\u001b[0m \u001b[0midx\u001b[0m \u001b[0;32min\u001b[0m \u001b[0mpossibly_batched_index\u001b[0m\u001b[0;34m]\u001b[0m\u001b[0;34m\u001b[0m\u001b[0;34m\u001b[0m\u001b[0m\n\u001b[0m\u001b[1;32m     50\u001b[0m         \u001b[0;32melse\u001b[0m\u001b[0;34m:\u001b[0m\u001b[0;34m\u001b[0m\u001b[0;34m\u001b[0m\u001b[0m\n\u001b[1;32m     51\u001b[0m             \u001b[0mdata\u001b[0m \u001b[0;34m=\u001b[0m \u001b[0mself\u001b[0m\u001b[0;34m.\u001b[0m\u001b[0mdataset\u001b[0m\u001b[0;34m[\u001b[0m\u001b[0mpossibly_batched_index\u001b[0m\u001b[0;34m]\u001b[0m\u001b[0;34m\u001b[0m\u001b[0;34m\u001b[0m\u001b[0m\n",
      "\u001b[0;32m<ipython-input-9-b0fbf6ea8b05>\u001b[0m in \u001b[0;36m__getitem__\u001b[0;34m(self, index)\u001b[0m\n\u001b[1;32m     13\u001b[0m         \u001b[0;34m'Denotes the total number of samples'\u001b[0m\u001b[0;34m\u001b[0m\u001b[0;34m\u001b[0m\u001b[0m\n\u001b[1;32m     14\u001b[0m         \u001b[0;32mreturn\u001b[0m \u001b[0mself\u001b[0m\u001b[0;34m.\u001b[0m\u001b[0mnobs\u001b[0m\u001b[0;34m\u001b[0m\u001b[0;34m\u001b[0m\u001b[0m\n\u001b[0;32m---> 15\u001b[0;31m   \u001b[0;32mdef\u001b[0m \u001b[0m__getitem__\u001b[0m\u001b[0;34m(\u001b[0m\u001b[0mself\u001b[0m\u001b[0;34m,\u001b[0m \u001b[0mindex\u001b[0m\u001b[0;34m)\u001b[0m\u001b[0;34m:\u001b[0m\u001b[0;34m\u001b[0m\u001b[0;34m\u001b[0m\u001b[0m\n\u001b[0m\u001b[1;32m     16\u001b[0m         \u001b[0;34m'Generates one sample of data'\u001b[0m\u001b[0;34m\u001b[0m\u001b[0;34m\u001b[0m\u001b[0m\n\u001b[1;32m     17\u001b[0m         \u001b[0mX\u001b[0m \u001b[0;34m=\u001b[0m \u001b[0mself\u001b[0m\u001b[0;34m.\u001b[0m\u001b[0mXnp\u001b[0m\u001b[0;34m[\u001b[0m\u001b[0mindex\u001b[0m\u001b[0;34m]\u001b[0m\u001b[0;34m\u001b[0m\u001b[0;34m\u001b[0m\u001b[0m\n",
      "\u001b[0;31mKeyboardInterrupt\u001b[0m: "
     ]
    }
   ],
   "source": [
    "for i in [45, 90, 180]:\n",
    "  for j in [0.1, 0.2, 0.4]:\n",
    "    D_in = trainset.Xnp.shape[1]\n",
    "    H = i\n",
    "    D_out = 1\n",
    "\n",
    "    net = torch.nn.Sequential(\n",
    "            torch.nn.Linear(D_in, H),  \n",
    "            torch.nn.ReLU(),\n",
    "            torch.nn.Linear(H, H),\n",
    "            torch.nn.ReLU(),\n",
    "            torch.nn.Linear(H, H),\n",
    "            torch.nn.ReLU(),\n",
    "            torch.nn.Linear(H, H),\n",
    "            torch.nn.ReLU(),\n",
    "            torch.nn.Linear(H, D_out)\n",
    "    )\n",
    "    # convert everything to float precision. \n",
    "    net = net.float()\n",
    "    # move the model to device (i.e., cpu or gpu)\n",
    "    net = net.to(device)\n",
    "\n",
    "\n",
    "    # define the optimizer\n",
    "    optimizer = torch.optim.SGD(net.parameters(), lr=0.00001, weight_decay=j)\n",
    "    loss_fn = torch.nn.MSELoss(reduction=\"sum\")\n",
    "\n",
    "    nepoch = 100\n",
    "    step_count = 0\n",
    "    log_interval = 100\n",
    "\n",
    "    stop_count = 0\n",
    "    best_step_count = 0\n",
    "\n",
    "    # valid_RMSE = np.array([])\n",
    "    best_valid_RMSE = 10000\n",
    "\n",
    "    weight = []\n",
    "\n",
    "    for epoch_id in range(0, nepoch):      \n",
    "        for batch_idx, (inputs, targets) in enumerate(subtrainloader):\n",
    "            #reshape target to two-dimensional array\n",
    "            targets = targets.reshape((-1, 1))\n",
    "            step_count += 1        \n",
    "            net.train()\n",
    "            inputs, targets = inputs.to(device), targets.to(device)\n",
    "            optimizer.zero_grad()\n",
    "            outputs = net(inputs.float())        \n",
    "            loss = loss_fn(outputs.float(), targets.float())\n",
    "\n",
    "            loss.backward()\n",
    "            optimizer.step()\n",
    "            # print(list(net.parameters()))\n",
    "\n",
    "            with torch.no_grad():\n",
    "                valid_SSE = 0\n",
    "                for batch_idx, (inputs, targets) in enumerate(validloader):            \n",
    "                    inputs, targets = inputs.to(device), targets.to(device)\n",
    "                    targets = targets.reshape((-1, 1))\n",
    "                    outputs = net(inputs)\n",
    "                    cn_loss = loss_fn(outputs, targets)\n",
    "                    valid_SSE += cn_loss.item()\n",
    "\n",
    "                valid_tem_rmse = (valid_SSE/46371)**(1/2)\n",
    "                # valid_RMSE = np.append(valid_RMSE, valid_tem_rmse)\n",
    "\n",
    "            if valid_tem_rmse < best_valid_RMSE:\n",
    "              best_valid_RMSE = valid_tem_rmse\n",
    "              best_step_count = step_count\n",
    "              stop_count = 0\n",
    "              weight = net.parameters\n",
    "              # print(weight)\n",
    "            else:\n",
    "              stop_count += 1\n",
    "              # print(stop_count)\n",
    "            \n",
    "            if stop_count == 5000:\n",
    "              break \n",
    "        if stop_count == 5000:\n",
    "          break\n",
    "\n",
    "    net.apply(weight)\n",
    "\n",
    "    with torch.no_grad():\n",
    "      test_SSE = 0\n",
    "      for batch_idx, (inputs, targets) in enumerate(testloader):            \n",
    "        inputs, targets = inputs.to(device), targets.to(device)\n",
    "        targets = targets.reshape((-1, 1))\n",
    "        outputs = net(inputs)\n",
    "        cn_loss = loss_fn(outputs, targets)\n",
    "        test_SSE += cn_loss.item()\n",
    "\n",
    "      test_rmse = (test_SSE/51630)**(1/2)\n",
    "\n",
    "    print(\"When H=\" + str(i) + \" and Weight Decay=\" + str(j) + \" , test_rmse is \" + str(test_rmse))"
   ]
  },
  {
   "cell_type": "markdown",
   "metadata": {
    "id": "iYqOgUAhTsyl"
   },
   "source": [
    "程式碼已經完成，但沒能及時跑出全部資料。以現有的資訊來看H越大時Test RMSE越大，而當Weight Decay變大時，Test RMSE則會變小"
   ]
  },
  {
   "cell_type": "markdown",
   "metadata": {
    "id": "0lgeeKuqV2tj"
   },
   "source": [
    "# A5"
   ]
  },
  {
   "cell_type": "code",
   "execution_count": null,
   "metadata": {
    "id": "gl0K0EFcTlvk"
   },
   "outputs": [],
   "source": [
    "D_in = trainset.Xnp.shape[1]\n",
    "H = 90\n",
    "\n",
    "D_out = 1\n",
    "use_cuda = torch.cuda.is_available()\n",
    "\n",
    "net = torch.nn.Sequential(\n",
    "        torch.nn.Linear(D_in, H),  \n",
    "        torch.nn.ReLU(),\n",
    "        torch.nn.Dropout(p=0.5),\n",
    "        torch.nn.Linear(H, H),\n",
    "        torch.nn.ReLU(),\n",
    "        torch.nn.Dropout(p=0.5),\n",
    "        torch.nn.Linear(H, H),\n",
    "        torch.nn.ReLU(),\n",
    "        torch.nn.Dropout(p=0.5),\n",
    "        torch.nn.Linear(H, H),\n",
    "        torch.nn.ReLU(),\n",
    "        torch.nn.Dropout(p=0.5),\n",
    "        torch.nn.Linear(H, D_out)\n",
    ")\n",
    "# convert everything to float precision. \n",
    "net = net.float()\n",
    "# move the model to device (i.e., cpu or gpu)\n",
    "net = net.to(device)\n",
    "\n",
    "# define the optimizer\n",
    "optimizer = torch.optim.Adam(net.parameters(), lr=0.001)\n",
    "loss_fn = torch.nn.MSELoss(reduction=\"sum\")\n",
    "\n",
    "\n",
    "nepoch = 100\n",
    "step_count = 0\n",
    "log_interval = 100\n",
    "\n",
    "SSE = 0\n",
    "MSE = 0\n",
    "stop_count = 0\n",
    "best_step_count = 0\n",
    "\n",
    "train_RMSE = np.array([])\n",
    "valid_RMSE = np.array([])\n",
    "best_valid_RMSE = 10000\n",
    "\n",
    "weight = []\n",
    "\n",
    "for epoch_id in range(0, nepoch):      \n",
    "    for batch_idx, (inputs, targets) in enumerate(subtrainloader):\n",
    "        #reshape target to two-dimensional array\n",
    "        targets = targets.reshape((-1, 1))\n",
    "        step_count += 1        \n",
    "        net.train()\n",
    "        inputs, targets = inputs.to(device), targets.to(device)\n",
    "        optimizer.zero_grad()\n",
    "        outputs = net(inputs.float())        \n",
    "        loss = loss_fn(outputs.float(), targets.float())\n",
    "\n",
    "        SSE += loss.item()\n",
    "        RMSE = (SSE/(step_count*1000))**(1/2)\n",
    "        train_RMSE = np.append(train_RMSE, RMSE)\n",
    "\n",
    "        loss.backward()\n",
    "        optimizer.step()\n",
    "        # print(list(net.parameters()))\n",
    "\n",
    "        with torch.no_grad():\n",
    "            valid_SSE = 0\n",
    "            for batch_idx, (inputs, targets) in enumerate(validloader):            \n",
    "                inputs, targets = inputs.to(device), targets.to(device)\n",
    "                targets = targets.reshape((-1, 1))\n",
    "                outputs = net(inputs)\n",
    "                cn_loss = loss_fn(outputs, targets)\n",
    "                valid_SSE += cn_loss.item()\n",
    "\n",
    "            valid_tem_rmse = (valid_SSE/46371)**(1/2)\n",
    "            valid_RMSE = np.append(valid_RMSE, valid_tem_rmse)\n",
    "\n",
    "        # if step_count % log_interval == 0:            \n",
    "            # print(\"Epoch %d Step %d Loss = %.3f (minibatch size = %d)\" % (epoch_id, step_count, loss.item(), len(targets)))\n",
    "            # print(RMSE)\n",
    "            # print(valid_tem_rmse)\n",
    "\n",
    "        if valid_tem_rmse < best_valid_RMSE:\n",
    "          best_valid_RMSE = valid_tem_rmse\n",
    "          best_step_count = step_count\n",
    "          stop_count = 0\n",
    "          weight = net.parameters\n",
    "          # print(weight)\n",
    "        else:\n",
    "          stop_count += 1\n",
    "          # print(stop_count)\n",
    "\n",
    "        if stop_count == 5000:\n",
    "          break\n",
    "    if stop_count == 5000:\n",
    "      break"
   ]
  },
  {
   "cell_type": "code",
   "execution_count": 17,
   "metadata": {
    "colab": {
     "base_uri": "https://localhost:8080/"
    },
    "id": "x7Cp0bpTgxmC",
    "outputId": "d4906e17-da4b-46a1-9117-fd5dbd2ea105"
   },
   "outputs": [
    {
     "name": "stdout",
     "output_type": "stream",
     "text": [
      "12851\n"
     ]
    }
   ],
   "source": [
    "print(best_step_count)"
   ]
  },
  {
   "cell_type": "code",
   "execution_count": 16,
   "metadata": {
    "colab": {
     "base_uri": "https://localhost:8080/"
    },
    "id": "H6mtwgBmgraG",
    "outputId": "d1bcdc04-e283-4e36-e406-71b87ab9df54"
   },
   "outputs": [
    {
     "name": "stdout",
     "output_type": "stream",
     "text": [
      "3098\n"
     ]
    }
   ],
   "source": [
    "print(stop_count)"
   ]
  },
  {
   "cell_type": "markdown",
   "metadata": {
    "id": "nPeKPeCCg06C"
   },
   "source": [
    "由於來不及跑完，我先中止上面執行結果，畫出圖形。"
   ]
  },
  {
   "cell_type": "code",
   "execution_count": 18,
   "metadata": {
    "colab": {
     "base_uri": "https://localhost:8080/",
     "height": 296
    },
    "id": "Dnl2pX7eWdA0",
    "outputId": "848f3e0f-acd6-484f-f8c3-1fb98c049694"
   },
   "outputs": [
    {
     "data": {
      "text/plain": [
       "<function matplotlib.pyplot.show>"
      ]
     },
     "execution_count": 18,
     "metadata": {},
     "output_type": "execute_result"
    },
    {
     "data": {
      "image/png": "[encoded data removed]",
      "text/plain": [
       "<Figure size 432x288 with 1 Axes>"
      ]
     },
     "metadata": {
      "needs_background": "light"
     },
     "output_type": "display_data"
    }
   ],
   "source": [
    "plt.plot(range(len(valid_RMSE)), valid_RMSE, label='Validation')\n",
    "plt.plot(range(len(train_RMSE)), train_RMSE, label='Training')\n",
    "plt.xlabel('Batch')\n",
    "plt.ylabel('RMSE')\n",
    "plt.legend()\n",
    "plt.show"
   ]
  },
  {
   "cell_type": "markdown",
   "metadata": {
    "id": "6P2FDcLMhLlj"
   },
   "source": [
    "這是Validation RMSE的起伏變化較小，兩種RMSE都已於2000多就開始趨近於平緩，但是Training RMSE始終都比較高。"
   ]
  },
  {
   "cell_type": "code",
   "execution_count": 19,
   "metadata": {
    "colab": {
     "base_uri": "https://localhost:8080/"
    },
    "id": "mP_HIKivWjQg",
    "outputId": "e68bc32b-2cce-49cf-810b-baf9e3d36c8d"
   },
   "outputs": [
    {
     "name": "stdout",
     "output_type": "stream",
     "text": [
      "Test RMSE(H=90) = 9.031952\n"
     ]
    }
   ],
   "source": [
    "net.apply(weight)\n",
    "\n",
    "with torch.no_grad():\n",
    "  test_SSE = 0\n",
    "  for batch_idx, (inputs, targets) in enumerate(testloader):            \n",
    "    inputs, targets = inputs.to(device), targets.to(device)\n",
    "    targets = targets.reshape((-1, 1))\n",
    "    outputs = net(inputs)\n",
    "    cn_loss = loss_fn(outputs, targets)\n",
    "    test_SSE += cn_loss.item()\n",
    "\n",
    "  test_rmse = (test_SSE/51630)**(1/2)\n",
    "print(\"Test RMSE(H=90) = %f\" % test_rmse)"
   ]
  },
  {
   "cell_type": "markdown",
   "metadata": {
    "id": "KpiEG1rbZmYa"
   },
   "source": [
    "# A6"
   ]
  },
  {
   "cell_type": "code",
   "execution_count": null,
   "metadata": {
    "colab": {
     "base_uri": "https://localhost:8080/",
     "height": 399
    },
    "id": "OT-WrIRQeJhu",
    "outputId": "742b569a-afc8-43af-8012-125956eed32a"
   },
   "outputs": [
    {
     "name": "stdout",
     "output_type": "stream",
     "text": [
      "Test RMSE(H=20) = 9.393714\n"
     ]
    },
    {
     "ename": "KeyboardInterrupt",
     "evalue": "ignored",
     "output_type": "error",
     "traceback": [
      "\u001b[0;31m---------------------------------------------------------------------------\u001b[0m",
      "\u001b[0;31mKeyboardInterrupt\u001b[0m                         Traceback (most recent call last)",
      "\u001b[0;32m<ipython-input-13-149280422b1c>\u001b[0m in \u001b[0;36m<module>\u001b[0;34m()\u001b[0m\n\u001b[1;32m     67\u001b[0m           \u001b[0;32mwith\u001b[0m \u001b[0mtorch\u001b[0m\u001b[0;34m.\u001b[0m\u001b[0mno_grad\u001b[0m\u001b[0;34m(\u001b[0m\u001b[0;34m)\u001b[0m\u001b[0;34m:\u001b[0m\u001b[0;34m\u001b[0m\u001b[0;34m\u001b[0m\u001b[0m\n\u001b[1;32m     68\u001b[0m               \u001b[0mvalid_SSE\u001b[0m \u001b[0;34m=\u001b[0m \u001b[0;36m0\u001b[0m\u001b[0;34m\u001b[0m\u001b[0;34m\u001b[0m\u001b[0m\n\u001b[0;32m---> 69\u001b[0;31m               \u001b[0;32mfor\u001b[0m \u001b[0mbatch_idx\u001b[0m\u001b[0;34m,\u001b[0m \u001b[0;34m(\u001b[0m\u001b[0minputs\u001b[0m\u001b[0;34m,\u001b[0m \u001b[0mtargets\u001b[0m\u001b[0;34m)\u001b[0m \u001b[0;32min\u001b[0m \u001b[0menumerate\u001b[0m\u001b[0;34m(\u001b[0m\u001b[0mvalidloader\u001b[0m\u001b[0;34m)\u001b[0m\u001b[0;34m:\u001b[0m\u001b[0;34m\u001b[0m\u001b[0;34m\u001b[0m\u001b[0m\n\u001b[0m\u001b[1;32m     70\u001b[0m                   \u001b[0minputs\u001b[0m\u001b[0;34m,\u001b[0m \u001b[0mtargets\u001b[0m \u001b[0;34m=\u001b[0m \u001b[0minputs\u001b[0m\u001b[0;34m.\u001b[0m\u001b[0mto\u001b[0m\u001b[0;34m(\u001b[0m\u001b[0mdevice\u001b[0m\u001b[0;34m)\u001b[0m\u001b[0;34m,\u001b[0m \u001b[0mtargets\u001b[0m\u001b[0;34m.\u001b[0m\u001b[0mto\u001b[0m\u001b[0;34m(\u001b[0m\u001b[0mdevice\u001b[0m\u001b[0;34m)\u001b[0m\u001b[0;34m\u001b[0m\u001b[0;34m\u001b[0m\u001b[0m\n\u001b[1;32m     71\u001b[0m                   \u001b[0mtargets\u001b[0m \u001b[0;34m=\u001b[0m \u001b[0mtargets\u001b[0m\u001b[0;34m.\u001b[0m\u001b[0mreshape\u001b[0m\u001b[0;34m(\u001b[0m\u001b[0;34m(\u001b[0m\u001b[0;34m-\u001b[0m\u001b[0;36m1\u001b[0m\u001b[0;34m,\u001b[0m \u001b[0;36m1\u001b[0m\u001b[0;34m)\u001b[0m\u001b[0;34m)\u001b[0m\u001b[0;34m\u001b[0m\u001b[0;34m\u001b[0m\u001b[0m\n",
      "\u001b[0;32m/usr/local/lib/python3.7/dist-packages/torch/utils/data/dataloader.py\u001b[0m in \u001b[0;36m__next__\u001b[0;34m(self)\u001b[0m\n\u001b[1;32m    519\u001b[0m             \u001b[0;32mif\u001b[0m \u001b[0mself\u001b[0m\u001b[0;34m.\u001b[0m\u001b[0m_sampler_iter\u001b[0m \u001b[0;32mis\u001b[0m \u001b[0;32mNone\u001b[0m\u001b[0;34m:\u001b[0m\u001b[0;34m\u001b[0m\u001b[0;34m\u001b[0m\u001b[0m\n\u001b[1;32m    520\u001b[0m                 \u001b[0mself\u001b[0m\u001b[0;34m.\u001b[0m\u001b[0m_reset\u001b[0m\u001b[0;34m(\u001b[0m\u001b[0;34m)\u001b[0m\u001b[0;34m\u001b[0m\u001b[0;34m\u001b[0m\u001b[0m\n\u001b[0;32m--> 521\u001b[0;31m             \u001b[0mdata\u001b[0m \u001b[0;34m=\u001b[0m \u001b[0mself\u001b[0m\u001b[0;34m.\u001b[0m\u001b[0m_next_data\u001b[0m\u001b[0;34m(\u001b[0m\u001b[0;34m)\u001b[0m\u001b[0;34m\u001b[0m\u001b[0;34m\u001b[0m\u001b[0m\n\u001b[0m\u001b[1;32m    522\u001b[0m             \u001b[0mself\u001b[0m\u001b[0;34m.\u001b[0m\u001b[0m_num_yielded\u001b[0m \u001b[0;34m+=\u001b[0m \u001b[0;36m1\u001b[0m\u001b[0;34m\u001b[0m\u001b[0;34m\u001b[0m\u001b[0m\n\u001b[1;32m    523\u001b[0m             \u001b[0;32mif\u001b[0m \u001b[0mself\u001b[0m\u001b[0;34m.\u001b[0m\u001b[0m_dataset_kind\u001b[0m \u001b[0;34m==\u001b[0m \u001b[0m_DatasetKind\u001b[0m\u001b[0;34m.\u001b[0m\u001b[0mIterable\u001b[0m \u001b[0;32mand\u001b[0m\u001b[0;31m \u001b[0m\u001b[0;31m\\\u001b[0m\u001b[0;34m\u001b[0m\u001b[0;34m\u001b[0m\u001b[0m\n",
      "\u001b[0;32m/usr/local/lib/python3.7/dist-packages/torch/utils/data/dataloader.py\u001b[0m in \u001b[0;36m_next_data\u001b[0;34m(self)\u001b[0m\n\u001b[1;32m    559\u001b[0m     \u001b[0;32mdef\u001b[0m \u001b[0m_next_data\u001b[0m\u001b[0;34m(\u001b[0m\u001b[0mself\u001b[0m\u001b[0;34m)\u001b[0m\u001b[0;34m:\u001b[0m\u001b[0;34m\u001b[0m\u001b[0;34m\u001b[0m\u001b[0m\n\u001b[1;32m    560\u001b[0m         \u001b[0mindex\u001b[0m \u001b[0;34m=\u001b[0m \u001b[0mself\u001b[0m\u001b[0;34m.\u001b[0m\u001b[0m_next_index\u001b[0m\u001b[0;34m(\u001b[0m\u001b[0;34m)\u001b[0m  \u001b[0;31m# may raise StopIteration\u001b[0m\u001b[0;34m\u001b[0m\u001b[0;34m\u001b[0m\u001b[0m\n\u001b[0;32m--> 561\u001b[0;31m         \u001b[0mdata\u001b[0m \u001b[0;34m=\u001b[0m \u001b[0mself\u001b[0m\u001b[0;34m.\u001b[0m\u001b[0m_dataset_fetcher\u001b[0m\u001b[0;34m.\u001b[0m\u001b[0mfetch\u001b[0m\u001b[0;34m(\u001b[0m\u001b[0mindex\u001b[0m\u001b[0;34m)\u001b[0m  \u001b[0;31m# may raise StopIteration\u001b[0m\u001b[0;34m\u001b[0m\u001b[0;34m\u001b[0m\u001b[0m\n\u001b[0m\u001b[1;32m    562\u001b[0m         \u001b[0;32mif\u001b[0m \u001b[0mself\u001b[0m\u001b[0;34m.\u001b[0m\u001b[0m_pin_memory\u001b[0m\u001b[0;34m:\u001b[0m\u001b[0;34m\u001b[0m\u001b[0;34m\u001b[0m\u001b[0m\n\u001b[1;32m    563\u001b[0m             \u001b[0mdata\u001b[0m \u001b[0;34m=\u001b[0m \u001b[0m_utils\u001b[0m\u001b[0;34m.\u001b[0m\u001b[0mpin_memory\u001b[0m\u001b[0;34m.\u001b[0m\u001b[0mpin_memory\u001b[0m\u001b[0;34m(\u001b[0m\u001b[0mdata\u001b[0m\u001b[0;34m)\u001b[0m\u001b[0;34m\u001b[0m\u001b[0;34m\u001b[0m\u001b[0m\n",
      "\u001b[0;32m/usr/local/lib/python3.7/dist-packages/torch/utils/data/_utils/fetch.py\u001b[0m in \u001b[0;36mfetch\u001b[0;34m(self, possibly_batched_index)\u001b[0m\n\u001b[1;32m     47\u001b[0m     \u001b[0;32mdef\u001b[0m \u001b[0mfetch\u001b[0m\u001b[0;34m(\u001b[0m\u001b[0mself\u001b[0m\u001b[0;34m,\u001b[0m \u001b[0mpossibly_batched_index\u001b[0m\u001b[0;34m)\u001b[0m\u001b[0;34m:\u001b[0m\u001b[0;34m\u001b[0m\u001b[0;34m\u001b[0m\u001b[0m\n\u001b[1;32m     48\u001b[0m         \u001b[0;32mif\u001b[0m \u001b[0mself\u001b[0m\u001b[0;34m.\u001b[0m\u001b[0mauto_collation\u001b[0m\u001b[0;34m:\u001b[0m\u001b[0;34m\u001b[0m\u001b[0;34m\u001b[0m\u001b[0m\n\u001b[0;32m---> 49\u001b[0;31m             \u001b[0mdata\u001b[0m \u001b[0;34m=\u001b[0m \u001b[0;34m[\u001b[0m\u001b[0mself\u001b[0m\u001b[0;34m.\u001b[0m\u001b[0mdataset\u001b[0m\u001b[0;34m[\u001b[0m\u001b[0midx\u001b[0m\u001b[0;34m]\u001b[0m \u001b[0;32mfor\u001b[0m \u001b[0midx\u001b[0m \u001b[0;32min\u001b[0m \u001b[0mpossibly_batched_index\u001b[0m\u001b[0;34m]\u001b[0m\u001b[0;34m\u001b[0m\u001b[0;34m\u001b[0m\u001b[0m\n\u001b[0m\u001b[1;32m     50\u001b[0m         \u001b[0;32melse\u001b[0m\u001b[0;34m:\u001b[0m\u001b[0;34m\u001b[0m\u001b[0;34m\u001b[0m\u001b[0m\n\u001b[1;32m     51\u001b[0m             \u001b[0mdata\u001b[0m \u001b[0;34m=\u001b[0m \u001b[0mself\u001b[0m\u001b[0;34m.\u001b[0m\u001b[0mdataset\u001b[0m\u001b[0;34m[\u001b[0m\u001b[0mpossibly_batched_index\u001b[0m\u001b[0;34m]\u001b[0m\u001b[0;34m\u001b[0m\u001b[0;34m\u001b[0m\u001b[0m\n",
      "\u001b[0;32m/usr/local/lib/python3.7/dist-packages/torch/utils/data/_utils/fetch.py\u001b[0m in \u001b[0;36m<listcomp>\u001b[0;34m(.0)\u001b[0m\n\u001b[1;32m     47\u001b[0m     \u001b[0;32mdef\u001b[0m \u001b[0mfetch\u001b[0m\u001b[0;34m(\u001b[0m\u001b[0mself\u001b[0m\u001b[0;34m,\u001b[0m \u001b[0mpossibly_batched_index\u001b[0m\u001b[0;34m)\u001b[0m\u001b[0;34m:\u001b[0m\u001b[0;34m\u001b[0m\u001b[0;34m\u001b[0m\u001b[0m\n\u001b[1;32m     48\u001b[0m         \u001b[0;32mif\u001b[0m \u001b[0mself\u001b[0m\u001b[0;34m.\u001b[0m\u001b[0mauto_collation\u001b[0m\u001b[0;34m:\u001b[0m\u001b[0;34m\u001b[0m\u001b[0;34m\u001b[0m\u001b[0m\n\u001b[0;32m---> 49\u001b[0;31m             \u001b[0mdata\u001b[0m \u001b[0;34m=\u001b[0m \u001b[0;34m[\u001b[0m\u001b[0mself\u001b[0m\u001b[0;34m.\u001b[0m\u001b[0mdataset\u001b[0m\u001b[0;34m[\u001b[0m\u001b[0midx\u001b[0m\u001b[0;34m]\u001b[0m \u001b[0;32mfor\u001b[0m \u001b[0midx\u001b[0m \u001b[0;32min\u001b[0m \u001b[0mpossibly_batched_index\u001b[0m\u001b[0;34m]\u001b[0m\u001b[0;34m\u001b[0m\u001b[0;34m\u001b[0m\u001b[0m\n\u001b[0m\u001b[1;32m     50\u001b[0m         \u001b[0;32melse\u001b[0m\u001b[0;34m:\u001b[0m\u001b[0;34m\u001b[0m\u001b[0;34m\u001b[0m\u001b[0m\n\u001b[1;32m     51\u001b[0m             \u001b[0mdata\u001b[0m \u001b[0;34m=\u001b[0m \u001b[0mself\u001b[0m\u001b[0;34m.\u001b[0m\u001b[0mdataset\u001b[0m\u001b[0;34m[\u001b[0m\u001b[0mpossibly_batched_index\u001b[0m\u001b[0;34m]\u001b[0m\u001b[0;34m\u001b[0m\u001b[0;34m\u001b[0m\u001b[0m\n",
      "\u001b[0;32m<ipython-input-8-b0fbf6ea8b05>\u001b[0m in \u001b[0;36m__getitem__\u001b[0;34m(self, index)\u001b[0m\n\u001b[1;32m     15\u001b[0m   \u001b[0;32mdef\u001b[0m \u001b[0m__getitem__\u001b[0m\u001b[0;34m(\u001b[0m\u001b[0mself\u001b[0m\u001b[0;34m,\u001b[0m \u001b[0mindex\u001b[0m\u001b[0;34m)\u001b[0m\u001b[0;34m:\u001b[0m\u001b[0;34m\u001b[0m\u001b[0;34m\u001b[0m\u001b[0m\n\u001b[1;32m     16\u001b[0m         \u001b[0;34m'Generates one sample of data'\u001b[0m\u001b[0;34m\u001b[0m\u001b[0;34m\u001b[0m\u001b[0m\n\u001b[0;32m---> 17\u001b[0;31m         \u001b[0mX\u001b[0m \u001b[0;34m=\u001b[0m \u001b[0mself\u001b[0m\u001b[0;34m.\u001b[0m\u001b[0mXnp\u001b[0m\u001b[0;34m[\u001b[0m\u001b[0mindex\u001b[0m\u001b[0;34m]\u001b[0m\u001b[0;34m\u001b[0m\u001b[0;34m\u001b[0m\u001b[0m\n\u001b[0m\u001b[1;32m     18\u001b[0m         \u001b[0my\u001b[0m \u001b[0;34m=\u001b[0m \u001b[0mself\u001b[0m\u001b[0;34m.\u001b[0m\u001b[0mYnp\u001b[0m\u001b[0;34m[\u001b[0m\u001b[0mindex\u001b[0m\u001b[0;34m]\u001b[0m\u001b[0;34m\u001b[0m\u001b[0;34m\u001b[0m\u001b[0m\n\u001b[1;32m     19\u001b[0m         \u001b[0;32mreturn\u001b[0m \u001b[0mX\u001b[0m\u001b[0;34m,\u001b[0m \u001b[0my\u001b[0m\u001b[0;34m\u001b[0m\u001b[0;34m\u001b[0m\u001b[0m\n",
      "\u001b[0;31mKeyboardInterrupt\u001b[0m: "
     ]
    }
   ],
   "source": [
    "for i in [20, 45, 180, 360]:\n",
    "  D_in = trainset.Xnp.shape[1]\n",
    "  H = i\n",
    "\n",
    "  D_out = 1\n",
    "  use_cuda = torch.cuda.is_available()\n",
    "\n",
    "  net = torch.nn.Sequential(\n",
    "          torch.nn.Linear(D_in, H),  \n",
    "          torch.nn.ReLU(),\n",
    "          torch.nn.Dropout(p=0.5),\n",
    "          torch.nn.Linear(H, H),\n",
    "          torch.nn.ReLU(),\n",
    "          torch.nn.Dropout(p=0.5),\n",
    "          torch.nn.Linear(H, H),\n",
    "          torch.nn.ReLU(),\n",
    "          torch.nn.Dropout(p=0.5),\n",
    "          torch.nn.Linear(H, H),\n",
    "          torch.nn.ReLU(),\n",
    "          torch.nn.Dropout(p=0.5),\n",
    "          torch.nn.Linear(H, D_out)\n",
    "  )\n",
    "  # convert everything to float precision. \n",
    "  net = net.float()\n",
    "  # move the model to device (i.e., cpu or gpu)\n",
    "  net = net.to(device)\n",
    "\n",
    "  # define the optimizer\n",
    "  optimizer = torch.optim.Adam(net.parameters(), lr=0.001)\n",
    "  loss_fn = torch.nn.MSELoss(reduction=\"sum\")\n",
    "\n",
    "\n",
    "  nepoch = 100\n",
    "  step_count = 0\n",
    "  log_interval = 100\n",
    "\n",
    "  SSE = 0\n",
    "  MSE = 0\n",
    "  stop_count = 0\n",
    "  best_step_count = 0\n",
    "\n",
    "  train_RMSE = np.array([])\n",
    "  valid_RMSE = np.array([])\n",
    "  best_valid_RMSE = 10000\n",
    "\n",
    "  weight = []\n",
    "\n",
    "  for epoch_id in range(0, nepoch):      \n",
    "      for batch_idx, (inputs, targets) in enumerate(subtrainloader):\n",
    "          #reshape target to two-dimensional array\n",
    "          targets = targets.reshape((-1, 1))\n",
    "          step_count += 1        \n",
    "          net.train()\n",
    "          inputs, targets = inputs.to(device), targets.to(device)\n",
    "          optimizer.zero_grad()\n",
    "          outputs = net(inputs.float())        \n",
    "          loss = loss_fn(outputs.float(), targets.float())\n",
    "\n",
    "          SSE += loss.item()\n",
    "          RMSE = (SSE/(step_count*1000))**(1/2)\n",
    "          train_RMSE = np.append(train_RMSE, RMSE)\n",
    "\n",
    "          loss.backward()\n",
    "          optimizer.step()\n",
    "          # print(list(net.parameters()))\n",
    "\n",
    "          with torch.no_grad():\n",
    "              valid_SSE = 0\n",
    "              for batch_idx, (inputs, targets) in enumerate(validloader):            \n",
    "                  inputs, targets = inputs.to(device), targets.to(device)\n",
    "                  targets = targets.reshape((-1, 1))\n",
    "                  outputs = net(inputs)\n",
    "                  cn_loss = loss_fn(outputs, targets)\n",
    "                  valid_SSE += cn_loss.item()\n",
    "\n",
    "              valid_tem_rmse = (valid_SSE/46371)**(1/2)\n",
    "              valid_RMSE = np.append(valid_RMSE, valid_tem_rmse)\n",
    "\n",
    "          # if step_count % log_interval == 0:            \n",
    "              # print(\"Epoch %d Step %d Loss = %.3f (minibatch size = %d)\" % (epoch_id, step_count, loss.item(), len(targets)))\n",
    "              # print(RMSE)\n",
    "              # print(valid_tem_rmse)\n",
    "\n",
    "          if valid_tem_rmse < best_valid_RMSE:\n",
    "            best_valid_RMSE = valid_tem_rmse\n",
    "            best_step_count = step_count\n",
    "            stop_count = 0\n",
    "            weight = net.parameters\n",
    "            # print(weight)\n",
    "          else:\n",
    "            stop_count += 1\n",
    "            # print(stop_count)\n",
    "\n",
    "          if stop_count == 5000:\n",
    "            break\n",
    "      if stop_count == 5000:\n",
    "        break\n",
    "  net.apply(weight)\n",
    "\n",
    "  with torch.no_grad():\n",
    "    test_SSE = 0\n",
    "    for batch_idx, (inputs, targets) in enumerate(testloader):            \n",
    "      inputs, targets = inputs.to(device), targets.to(device)\n",
    "      targets = targets.reshape((-1, 1))\n",
    "      outputs = net(inputs)\n",
    "      cn_loss = loss_fn(outputs, targets)\n",
    "      test_SSE += cn_loss.item()\n",
    "\n",
    "    test_rmse = (test_SSE/51630)**(1/2)\n",
    "  print(\"Test RMSE(H=%d) = %f\" % (i, test_rmse))"
   ]
  },
  {
   "cell_type": "markdown",
   "metadata": {
    "id": "JeuY9GJ2eN9D"
   },
   "source": [
    "Test RMSE(H=20) = 9.393714。程式碼已經完成，但沒能及時跑出全部資料。"
   ]
  },
  {
   "cell_type": "markdown",
   "metadata": {
    "id": "jf5JvktKc9cK"
   },
   "source": [
    "# A7-1"
   ]
  },
  {
   "cell_type": "code",
   "execution_count": null,
   "metadata": {
    "colab": {
     "base_uri": "https://localhost:8080/",
     "height": 382
    },
    "id": "vG2V97FWc-Qx",
    "outputId": "75c4c7fd-89de-458a-fe5a-9ee2b11f0359"
   },
   "outputs": [
    {
     "ename": "KeyboardInterrupt",
     "evalue": "ignored",
     "output_type": "error",
     "traceback": [
      "\u001b[0;31m---------------------------------------------------------------------------\u001b[0m",
      "\u001b[0;31mKeyboardInterrupt\u001b[0m                         Traceback (most recent call last)",
      "\u001b[0;32m<ipython-input-14-cfd1ba1710c9>\u001b[0m in \u001b[0;36m<module>\u001b[0;34m()\u001b[0m\n\u001b[1;32m     67\u001b[0m             \u001b[0mvalid_SSE\u001b[0m \u001b[0;34m=\u001b[0m \u001b[0;36m0\u001b[0m\u001b[0;34m\u001b[0m\u001b[0;34m\u001b[0m\u001b[0m\n\u001b[1;32m     68\u001b[0m             \u001b[0mloss\u001b[0m \u001b[0;34m=\u001b[0m \u001b[0;36m0\u001b[0m\u001b[0;34m\u001b[0m\u001b[0;34m\u001b[0m\u001b[0m\n\u001b[0;32m---> 69\u001b[0;31m             \u001b[0;32mfor\u001b[0m \u001b[0mbatch_idx\u001b[0m\u001b[0;34m,\u001b[0m \u001b[0;34m(\u001b[0m\u001b[0minputs\u001b[0m\u001b[0;34m,\u001b[0m \u001b[0mtargets\u001b[0m\u001b[0;34m)\u001b[0m \u001b[0;32min\u001b[0m \u001b[0menumerate\u001b[0m\u001b[0;34m(\u001b[0m\u001b[0mvalidloader\u001b[0m\u001b[0;34m)\u001b[0m\u001b[0;34m:\u001b[0m\u001b[0;34m\u001b[0m\u001b[0;34m\u001b[0m\u001b[0m\n\u001b[0m\u001b[1;32m     70\u001b[0m                 \u001b[0minputs\u001b[0m\u001b[0;34m,\u001b[0m \u001b[0mtargets\u001b[0m \u001b[0;34m=\u001b[0m \u001b[0minputs\u001b[0m\u001b[0;34m.\u001b[0m\u001b[0mto\u001b[0m\u001b[0;34m(\u001b[0m\u001b[0mdevice\u001b[0m\u001b[0;34m)\u001b[0m\u001b[0;34m,\u001b[0m \u001b[0mtargets\u001b[0m\u001b[0;34m.\u001b[0m\u001b[0mto\u001b[0m\u001b[0;34m(\u001b[0m\u001b[0mdevice\u001b[0m\u001b[0;34m)\u001b[0m\u001b[0;34m\u001b[0m\u001b[0;34m\u001b[0m\u001b[0m\n\u001b[1;32m     71\u001b[0m                 \u001b[0mtargets\u001b[0m \u001b[0;34m=\u001b[0m \u001b[0mtargets\u001b[0m\u001b[0;34m.\u001b[0m\u001b[0mreshape\u001b[0m\u001b[0;34m(\u001b[0m\u001b[0;34m(\u001b[0m\u001b[0;34m-\u001b[0m\u001b[0;36m1\u001b[0m\u001b[0;34m,\u001b[0m \u001b[0;36m1\u001b[0m\u001b[0;34m)\u001b[0m\u001b[0;34m)\u001b[0m\u001b[0;34m\u001b[0m\u001b[0;34m\u001b[0m\u001b[0m\n",
      "\u001b[0;32m/usr/local/lib/python3.7/dist-packages/torch/utils/data/dataloader.py\u001b[0m in \u001b[0;36m__next__\u001b[0;34m(self)\u001b[0m\n\u001b[1;32m    519\u001b[0m             \u001b[0;32mif\u001b[0m \u001b[0mself\u001b[0m\u001b[0;34m.\u001b[0m\u001b[0m_sampler_iter\u001b[0m \u001b[0;32mis\u001b[0m \u001b[0;32mNone\u001b[0m\u001b[0;34m:\u001b[0m\u001b[0;34m\u001b[0m\u001b[0;34m\u001b[0m\u001b[0m\n\u001b[1;32m    520\u001b[0m                 \u001b[0mself\u001b[0m\u001b[0;34m.\u001b[0m\u001b[0m_reset\u001b[0m\u001b[0;34m(\u001b[0m\u001b[0;34m)\u001b[0m\u001b[0;34m\u001b[0m\u001b[0;34m\u001b[0m\u001b[0m\n\u001b[0;32m--> 521\u001b[0;31m             \u001b[0mdata\u001b[0m \u001b[0;34m=\u001b[0m \u001b[0mself\u001b[0m\u001b[0;34m.\u001b[0m\u001b[0m_next_data\u001b[0m\u001b[0;34m(\u001b[0m\u001b[0;34m)\u001b[0m\u001b[0;34m\u001b[0m\u001b[0;34m\u001b[0m\u001b[0m\n\u001b[0m\u001b[1;32m    522\u001b[0m             \u001b[0mself\u001b[0m\u001b[0;34m.\u001b[0m\u001b[0m_num_yielded\u001b[0m \u001b[0;34m+=\u001b[0m \u001b[0;36m1\u001b[0m\u001b[0;34m\u001b[0m\u001b[0;34m\u001b[0m\u001b[0m\n\u001b[1;32m    523\u001b[0m             \u001b[0;32mif\u001b[0m \u001b[0mself\u001b[0m\u001b[0;34m.\u001b[0m\u001b[0m_dataset_kind\u001b[0m \u001b[0;34m==\u001b[0m \u001b[0m_DatasetKind\u001b[0m\u001b[0;34m.\u001b[0m\u001b[0mIterable\u001b[0m \u001b[0;32mand\u001b[0m\u001b[0;31m \u001b[0m\u001b[0;31m\\\u001b[0m\u001b[0;34m\u001b[0m\u001b[0;34m\u001b[0m\u001b[0m\n",
      "\u001b[0;32m/usr/local/lib/python3.7/dist-packages/torch/utils/data/dataloader.py\u001b[0m in \u001b[0;36m_next_data\u001b[0;34m(self)\u001b[0m\n\u001b[1;32m    559\u001b[0m     \u001b[0;32mdef\u001b[0m \u001b[0m_next_data\u001b[0m\u001b[0;34m(\u001b[0m\u001b[0mself\u001b[0m\u001b[0;34m)\u001b[0m\u001b[0;34m:\u001b[0m\u001b[0;34m\u001b[0m\u001b[0;34m\u001b[0m\u001b[0m\n\u001b[1;32m    560\u001b[0m         \u001b[0mindex\u001b[0m \u001b[0;34m=\u001b[0m \u001b[0mself\u001b[0m\u001b[0;34m.\u001b[0m\u001b[0m_next_index\u001b[0m\u001b[0;34m(\u001b[0m\u001b[0;34m)\u001b[0m  \u001b[0;31m# may raise StopIteration\u001b[0m\u001b[0;34m\u001b[0m\u001b[0;34m\u001b[0m\u001b[0m\n\u001b[0;32m--> 561\u001b[0;31m         \u001b[0mdata\u001b[0m \u001b[0;34m=\u001b[0m \u001b[0mself\u001b[0m\u001b[0;34m.\u001b[0m\u001b[0m_dataset_fetcher\u001b[0m\u001b[0;34m.\u001b[0m\u001b[0mfetch\u001b[0m\u001b[0;34m(\u001b[0m\u001b[0mindex\u001b[0m\u001b[0;34m)\u001b[0m  \u001b[0;31m# may raise StopIteration\u001b[0m\u001b[0;34m\u001b[0m\u001b[0;34m\u001b[0m\u001b[0m\n\u001b[0m\u001b[1;32m    562\u001b[0m         \u001b[0;32mif\u001b[0m \u001b[0mself\u001b[0m\u001b[0;34m.\u001b[0m\u001b[0m_pin_memory\u001b[0m\u001b[0;34m:\u001b[0m\u001b[0;34m\u001b[0m\u001b[0;34m\u001b[0m\u001b[0m\n\u001b[1;32m    563\u001b[0m             \u001b[0mdata\u001b[0m \u001b[0;34m=\u001b[0m \u001b[0m_utils\u001b[0m\u001b[0;34m.\u001b[0m\u001b[0mpin_memory\u001b[0m\u001b[0;34m.\u001b[0m\u001b[0mpin_memory\u001b[0m\u001b[0;34m(\u001b[0m\u001b[0mdata\u001b[0m\u001b[0;34m)\u001b[0m\u001b[0;34m\u001b[0m\u001b[0;34m\u001b[0m\u001b[0m\n",
      "\u001b[0;32m/usr/local/lib/python3.7/dist-packages/torch/utils/data/_utils/fetch.py\u001b[0m in \u001b[0;36mfetch\u001b[0;34m(self, possibly_batched_index)\u001b[0m\n\u001b[1;32m     50\u001b[0m         \u001b[0;32melse\u001b[0m\u001b[0;34m:\u001b[0m\u001b[0;34m\u001b[0m\u001b[0;34m\u001b[0m\u001b[0m\n\u001b[1;32m     51\u001b[0m             \u001b[0mdata\u001b[0m \u001b[0;34m=\u001b[0m \u001b[0mself\u001b[0m\u001b[0;34m.\u001b[0m\u001b[0mdataset\u001b[0m\u001b[0;34m[\u001b[0m\u001b[0mpossibly_batched_index\u001b[0m\u001b[0;34m]\u001b[0m\u001b[0;34m\u001b[0m\u001b[0;34m\u001b[0m\u001b[0m\n\u001b[0;32m---> 52\u001b[0;31m         \u001b[0;32mreturn\u001b[0m \u001b[0mself\u001b[0m\u001b[0;34m.\u001b[0m\u001b[0mcollate_fn\u001b[0m\u001b[0;34m(\u001b[0m\u001b[0mdata\u001b[0m\u001b[0;34m)\u001b[0m\u001b[0;34m\u001b[0m\u001b[0;34m\u001b[0m\u001b[0m\n\u001b[0m",
      "\u001b[0;32m/usr/local/lib/python3.7/dist-packages/torch/utils/data/_utils/collate.py\u001b[0m in \u001b[0;36mdefault_collate\u001b[0;34m(batch)\u001b[0m\n\u001b[1;32m     82\u001b[0m             \u001b[0;32mraise\u001b[0m \u001b[0mRuntimeError\u001b[0m\u001b[0;34m(\u001b[0m\u001b[0;34m'each element in list of batch should be of equal size'\u001b[0m\u001b[0;34m)\u001b[0m\u001b[0;34m\u001b[0m\u001b[0;34m\u001b[0m\u001b[0m\n\u001b[1;32m     83\u001b[0m         \u001b[0mtransposed\u001b[0m \u001b[0;34m=\u001b[0m \u001b[0mzip\u001b[0m\u001b[0;34m(\u001b[0m\u001b[0;34m*\u001b[0m\u001b[0mbatch\u001b[0m\u001b[0;34m)\u001b[0m\u001b[0;34m\u001b[0m\u001b[0;34m\u001b[0m\u001b[0m\n\u001b[0;32m---> 84\u001b[0;31m         \u001b[0;32mreturn\u001b[0m \u001b[0;34m[\u001b[0m\u001b[0mdefault_collate\u001b[0m\u001b[0;34m(\u001b[0m\u001b[0msamples\u001b[0m\u001b[0;34m)\u001b[0m \u001b[0;32mfor\u001b[0m \u001b[0msamples\u001b[0m \u001b[0;32min\u001b[0m \u001b[0mtransposed\u001b[0m\u001b[0;34m]\u001b[0m\u001b[0;34m\u001b[0m\u001b[0;34m\u001b[0m\u001b[0m\n\u001b[0m\u001b[1;32m     85\u001b[0m \u001b[0;34m\u001b[0m\u001b[0m\n\u001b[1;32m     86\u001b[0m     \u001b[0;32mraise\u001b[0m \u001b[0mTypeError\u001b[0m\u001b[0;34m(\u001b[0m\u001b[0mdefault_collate_err_msg_format\u001b[0m\u001b[0;34m.\u001b[0m\u001b[0mformat\u001b[0m\u001b[0;34m(\u001b[0m\u001b[0melem_type\u001b[0m\u001b[0;34m)\u001b[0m\u001b[0;34m)\u001b[0m\u001b[0;34m\u001b[0m\u001b[0;34m\u001b[0m\u001b[0m\n",
      "\u001b[0;32m/usr/local/lib/python3.7/dist-packages/torch/utils/data/_utils/collate.py\u001b[0m in \u001b[0;36m<listcomp>\u001b[0;34m(.0)\u001b[0m\n\u001b[1;32m     82\u001b[0m             \u001b[0;32mraise\u001b[0m \u001b[0mRuntimeError\u001b[0m\u001b[0;34m(\u001b[0m\u001b[0;34m'each element in list of batch should be of equal size'\u001b[0m\u001b[0;34m)\u001b[0m\u001b[0;34m\u001b[0m\u001b[0;34m\u001b[0m\u001b[0m\n\u001b[1;32m     83\u001b[0m         \u001b[0mtransposed\u001b[0m \u001b[0;34m=\u001b[0m \u001b[0mzip\u001b[0m\u001b[0;34m(\u001b[0m\u001b[0;34m*\u001b[0m\u001b[0mbatch\u001b[0m\u001b[0;34m)\u001b[0m\u001b[0;34m\u001b[0m\u001b[0;34m\u001b[0m\u001b[0m\n\u001b[0;32m---> 84\u001b[0;31m         \u001b[0;32mreturn\u001b[0m \u001b[0;34m[\u001b[0m\u001b[0mdefault_collate\u001b[0m\u001b[0;34m(\u001b[0m\u001b[0msamples\u001b[0m\u001b[0;34m)\u001b[0m \u001b[0;32mfor\u001b[0m \u001b[0msamples\u001b[0m \u001b[0;32min\u001b[0m \u001b[0mtransposed\u001b[0m\u001b[0;34m]\u001b[0m\u001b[0;34m\u001b[0m\u001b[0;34m\u001b[0m\u001b[0m\n\u001b[0m\u001b[1;32m     85\u001b[0m \u001b[0;34m\u001b[0m\u001b[0m\n\u001b[1;32m     86\u001b[0m     \u001b[0;32mraise\u001b[0m \u001b[0mTypeError\u001b[0m\u001b[0;34m(\u001b[0m\u001b[0mdefault_collate_err_msg_format\u001b[0m\u001b[0;34m.\u001b[0m\u001b[0mformat\u001b[0m\u001b[0;34m(\u001b[0m\u001b[0melem_type\u001b[0m\u001b[0;34m)\u001b[0m\u001b[0;34m)\u001b[0m\u001b[0;34m\u001b[0m\u001b[0;34m\u001b[0m\u001b[0m\n",
      "\u001b[0;32m/usr/local/lib/python3.7/dist-packages/torch/utils/data/_utils/collate.py\u001b[0m in \u001b[0;36mdefault_collate\u001b[0;34m(batch)\u001b[0m\n\u001b[1;32m     62\u001b[0m                 \u001b[0;32mraise\u001b[0m \u001b[0mTypeError\u001b[0m\u001b[0;34m(\u001b[0m\u001b[0mdefault_collate_err_msg_format\u001b[0m\u001b[0;34m.\u001b[0m\u001b[0mformat\u001b[0m\u001b[0;34m(\u001b[0m\u001b[0melem\u001b[0m\u001b[0;34m.\u001b[0m\u001b[0mdtype\u001b[0m\u001b[0;34m)\u001b[0m\u001b[0;34m)\u001b[0m\u001b[0;34m\u001b[0m\u001b[0;34m\u001b[0m\u001b[0m\n\u001b[1;32m     63\u001b[0m \u001b[0;34m\u001b[0m\u001b[0m\n\u001b[0;32m---> 64\u001b[0;31m             \u001b[0;32mreturn\u001b[0m \u001b[0mdefault_collate\u001b[0m\u001b[0;34m(\u001b[0m\u001b[0;34m[\u001b[0m\u001b[0mtorch\u001b[0m\u001b[0;34m.\u001b[0m\u001b[0mas_tensor\u001b[0m\u001b[0;34m(\u001b[0m\u001b[0mb\u001b[0m\u001b[0;34m)\u001b[0m \u001b[0;32mfor\u001b[0m \u001b[0mb\u001b[0m \u001b[0;32min\u001b[0m \u001b[0mbatch\u001b[0m\u001b[0;34m]\u001b[0m\u001b[0;34m)\u001b[0m\u001b[0;34m\u001b[0m\u001b[0;34m\u001b[0m\u001b[0m\n\u001b[0m\u001b[1;32m     65\u001b[0m         \u001b[0;32melif\u001b[0m \u001b[0melem\u001b[0m\u001b[0;34m.\u001b[0m\u001b[0mshape\u001b[0m \u001b[0;34m==\u001b[0m \u001b[0;34m(\u001b[0m\u001b[0;34m)\u001b[0m\u001b[0;34m:\u001b[0m  \u001b[0;31m# scalars\u001b[0m\u001b[0;34m\u001b[0m\u001b[0;34m\u001b[0m\u001b[0m\n\u001b[1;32m     66\u001b[0m             \u001b[0;32mreturn\u001b[0m \u001b[0mtorch\u001b[0m\u001b[0;34m.\u001b[0m\u001b[0mas_tensor\u001b[0m\u001b[0;34m(\u001b[0m\u001b[0mbatch\u001b[0m\u001b[0;34m)\u001b[0m\u001b[0;34m\u001b[0m\u001b[0;34m\u001b[0m\u001b[0m\n",
      "\u001b[0;32m/usr/local/lib/python3.7/dist-packages/torch/utils/data/_utils/collate.py\u001b[0m in \u001b[0;36m<listcomp>\u001b[0;34m(.0)\u001b[0m\n\u001b[1;32m     62\u001b[0m                 \u001b[0;32mraise\u001b[0m \u001b[0mTypeError\u001b[0m\u001b[0;34m(\u001b[0m\u001b[0mdefault_collate_err_msg_format\u001b[0m\u001b[0;34m.\u001b[0m\u001b[0mformat\u001b[0m\u001b[0;34m(\u001b[0m\u001b[0melem\u001b[0m\u001b[0;34m.\u001b[0m\u001b[0mdtype\u001b[0m\u001b[0;34m)\u001b[0m\u001b[0;34m)\u001b[0m\u001b[0;34m\u001b[0m\u001b[0;34m\u001b[0m\u001b[0m\n\u001b[1;32m     63\u001b[0m \u001b[0;34m\u001b[0m\u001b[0m\n\u001b[0;32m---> 64\u001b[0;31m             \u001b[0;32mreturn\u001b[0m \u001b[0mdefault_collate\u001b[0m\u001b[0;34m(\u001b[0m\u001b[0;34m[\u001b[0m\u001b[0mtorch\u001b[0m\u001b[0;34m.\u001b[0m\u001b[0mas_tensor\u001b[0m\u001b[0;34m(\u001b[0m\u001b[0mb\u001b[0m\u001b[0;34m)\u001b[0m \u001b[0;32mfor\u001b[0m \u001b[0mb\u001b[0m \u001b[0;32min\u001b[0m \u001b[0mbatch\u001b[0m\u001b[0;34m]\u001b[0m\u001b[0;34m)\u001b[0m\u001b[0;34m\u001b[0m\u001b[0;34m\u001b[0m\u001b[0m\n\u001b[0m\u001b[1;32m     65\u001b[0m         \u001b[0;32melif\u001b[0m \u001b[0melem\u001b[0m\u001b[0;34m.\u001b[0m\u001b[0mshape\u001b[0m \u001b[0;34m==\u001b[0m \u001b[0;34m(\u001b[0m\u001b[0;34m)\u001b[0m\u001b[0;34m:\u001b[0m  \u001b[0;31m# scalars\u001b[0m\u001b[0;34m\u001b[0m\u001b[0;34m\u001b[0m\u001b[0m\n\u001b[1;32m     66\u001b[0m             \u001b[0;32mreturn\u001b[0m \u001b[0mtorch\u001b[0m\u001b[0;34m.\u001b[0m\u001b[0mas_tensor\u001b[0m\u001b[0;34m(\u001b[0m\u001b[0mbatch\u001b[0m\u001b[0;34m)\u001b[0m\u001b[0;34m\u001b[0m\u001b[0;34m\u001b[0m\u001b[0m\n",
      "\u001b[0;31mKeyboardInterrupt\u001b[0m: "
     ]
    }
   ],
   "source": [
    "D_in = trainset.Xnp.shape[1]\n",
    "H = 90\n",
    "\n",
    "D_out = 1\n",
    "\n",
    "net = torch.nn.Sequential(\n",
    "        torch.nn.Linear(D_in, H),  \n",
    "        torch.nn.ReLU(),\n",
    "        torch.nn.Dropout(p=0.5),\n",
    "        torch.nn.Linear(H, H),\n",
    "        torch.nn.ReLU(),\n",
    "        torch.nn.Dropout(p=0.5),\n",
    "        torch.nn.Linear(H, H),\n",
    "        torch.nn.ReLU(),\n",
    "        torch.nn.Dropout(p=0.5),\n",
    "        torch.nn.Linear(H, H),\n",
    "        torch.nn.ReLU(),\n",
    "        torch.nn.Dropout(p=0.5),\n",
    "        torch.nn.Linear(H, D_out)\n",
    ")\n",
    "# convert everything to float precision. \n",
    "net = net.float()\n",
    "# move the model to device (i.e., cpu or gpu)\n",
    "net = net.to(device)\n",
    "\n",
    "# define the optimizer\n",
    "optimizer = torch.optim.Adam(net.parameters(), lr=0.001)\n",
    "loss_fn_2 = torch.nn.MSELoss(reduction=\"sum\")\n",
    "loss_fn_1 = torch.nn.L1Loss(reduction=\"sum\")\n",
    "\n",
    "\n",
    "nepoch = 100\n",
    "step_count = 0\n",
    "log_interval = 100\n",
    "\n",
    "SSE = 0\n",
    "MSE = 0\n",
    "stop_count = 0\n",
    "best_step_count = 0\n",
    "\n",
    "train_RMSE = np.array([])\n",
    "valid_RMSE = np.array([])\n",
    "best_loss = 10000000000000000000000\n",
    "\n",
    "weight = []\n",
    "\n",
    "for epoch_id in range(0, nepoch):      \n",
    "    for batch_idx, (inputs, targets) in enumerate(subtrainloader):\n",
    "        #reshape target to two-dimensional array\n",
    "        targets = targets.reshape((-1, 1))\n",
    "        step_count += 1        \n",
    "        net.train()\n",
    "        inputs, targets = inputs.to(device), targets.to(device)\n",
    "        optimizer.zero_grad()\n",
    "        outputs = net(inputs.float())        \n",
    "        loss = 0.5*loss_fn_1(outputs.float(), targets.float()) + 0.5*loss_fn_2(outputs.float(), targets.float())\n",
    "\n",
    "        SSE += loss.item()\n",
    "        RMSE = (SSE/(step_count*1000))**(1/2)\n",
    "        train_RMSE = np.append(train_RMSE, RMSE)\n",
    "\n",
    "        loss.backward()\n",
    "        optimizer.step()\n",
    "        # print(list(net.parameters()))\n",
    "\n",
    "        with torch.no_grad():\n",
    "            valid_SSE = 0\n",
    "            loss = 0\n",
    "            for batch_idx, (inputs, targets) in enumerate(validloader):            \n",
    "                inputs, targets = inputs.to(device), targets.to(device)\n",
    "                targets = targets.reshape((-1, 1))\n",
    "                outputs = net(inputs)\n",
    "                cn_loss = loss_fn_2(outputs, targets)\n",
    "                valid_SSE += cn_loss.item()\n",
    "                cn_loss_mix = 0.5*loss_fn_1(outputs.float(), targets.float()) + 0.5*loss_fn_2(outputs.float(), targets.float())\n",
    "                loss += cn_loss_mix\n",
    "\n",
    "            valid_tem_rmse = (valid_SSE/46371)**(1/2)\n",
    "            valid_RMSE = np.append(valid_RMSE, valid_tem_rmse)\n",
    "\n",
    "        # if step_count % log_interval == 0:            \n",
    "            # print(\"Epoch %d Step %d Loss = %.3f (minibatch size = %d)\" % (epoch_id, step_count, loss.item(), len(targets)))\n",
    "            # print(RMSE)\n",
    "            # print(valid_tem_rmse)\n",
    "\n",
    "        if loss.item() < best_loss:\n",
    "          best_loss = loss\n",
    "          best_step_count = step_count\n",
    "          stop_count = 0\n",
    "          weight = net.parameters\n",
    "          # print(weight)\n",
    "        else:\n",
    "          stop_count += 1\n",
    "          # print(stop_count)\n",
    "\n",
    "        if stop_count == 5000:\n",
    "          break\n",
    "    if stop_count == 5000:\n",
    "      break"
   ]
  },
  {
   "cell_type": "code",
   "execution_count": null,
   "metadata": {
    "colab": {
     "base_uri": "https://localhost:8080/"
    },
    "id": "5yJRQUkviDRR",
    "outputId": "ec3de11b-ba43-48dc-9b52-934cba433b65"
   },
   "outputs": [
    {
     "name": "stdout",
     "output_type": "stream",
     "text": [
      "77\n",
      "14599\n"
     ]
    }
   ],
   "source": [
    "print(stop_count)\n",
    "print(best_step_count)"
   ]
  },
  {
   "cell_type": "markdown",
   "metadata": {
    "id": "5z6X_pdBiydH"
   },
   "source": [
    "還來不及做完"
   ]
  },
  {
   "cell_type": "code",
   "execution_count": null,
   "metadata": {
    "colab": {
     "base_uri": "https://localhost:8080/",
     "height": 296
    },
    "id": "-4IRGuSVhl6B",
    "outputId": "d45e329c-4c02-4a02-ce0c-4efbe89bbe6a"
   },
   "outputs": [
    {
     "data": {
      "text/plain": [
       "<function matplotlib.pyplot.show>"
      ]
     },
     "execution_count": 15,
     "metadata": {},
     "output_type": "execute_result"
    },
    {
     "data": {
      "image/png": "[encoded data removed]",
      "text/plain": [
       "<Figure size 432x288 with 1 Axes>"
      ]
     },
     "metadata": {
      "needs_background": "light"
     },
     "output_type": "display_data"
    }
   ],
   "source": [
    "plt.plot(range(len(valid_RMSE)), valid_RMSE, label='Validation')\n",
    "plt.plot(range(len(train_RMSE)), train_RMSE, label='Training')\n",
    "plt.xlabel('Batch')\n",
    "plt.ylabel('RMSE')\n",
    "plt.legend()\n",
    "plt.show"
   ]
  },
  {
   "cell_type": "markdown",
   "metadata": {
    "id": "8Wf5tzXficRL"
   },
   "source": [
    "Validation RMSE始終比Training RMSE高出幾乎固定的量。"
   ]
  },
  {
   "cell_type": "code",
   "execution_count": null,
   "metadata": {
    "colab": {
     "base_uri": "https://localhost:8080/"
    },
    "id": "npi6hk_kjVJl",
    "outputId": "4621e688-58e7-4407-bc24-d70b5f33fa3b"
   },
   "outputs": [
    {
     "name": "stdout",
     "output_type": "stream",
     "text": [
      "Test RMSE(H=90) = 9.016850\n"
     ]
    }
   ],
   "source": [
    "net.apply(weight)\n",
    "\n",
    "with torch.no_grad():\n",
    "  test_SSE = 0\n",
    "  for batch_idx, (inputs, targets) in enumerate(testloader):            \n",
    "    inputs, targets = inputs.to(device), targets.to(device)\n",
    "    targets = targets.reshape((-1, 1))\n",
    "    outputs = net(inputs)\n",
    "    cn_loss = loss_fn_2(outputs, targets)\n",
    "    test_SSE += cn_loss.item()\n",
    "\n",
    "  test_rmse = (test_SSE/51630)**(1/2)\n",
    "print(\"Test RMSE(H=90) = %f\" % test_rmse)"
   ]
  },
  {
   "cell_type": "markdown",
   "metadata": {
    "id": "1XJyv60Bd7tj"
   },
   "source": [
    "# A7-2"
   ]
  },
  {
   "cell_type": "code",
   "execution_count": null,
   "metadata": {
    "id": "I7PvUDPkuqyF"
   },
   "outputs": [],
   "source": [
    "for z in [0, 0.1, 0.9]:\n",
    "  D_in = trainset.Xnp.shape[1]\n",
    "  H = 90\n",
    "\n",
    "  D_out = 1\n",
    "\n",
    "  net = torch.nn.Sequential(\n",
    "          torch.nn.Linear(D_in, H),  \n",
    "          torch.nn.ReLU(),\n",
    "          torch.nn.Dropout(p=0.5),\n",
    "          torch.nn.Linear(H, H),\n",
    "          torch.nn.ReLU(),\n",
    "          torch.nn.Dropout(p=0.5),\n",
    "          torch.nn.Linear(H, H),\n",
    "          torch.nn.ReLU(),\n",
    "          torch.nn.Dropout(p=0.5),\n",
    "          torch.nn.Linear(H, H),\n",
    "          torch.nn.ReLU(),\n",
    "          torch.nn.Dropout(p=0.5),\n",
    "          torch.nn.Linear(H, D_out)\n",
    "  )\n",
    "  # convert everything to float precision. \n",
    "  net = net.float()\n",
    "  # move the model to device (i.e., cpu or gpu)\n",
    "  net = net.to(device)\n",
    "\n",
    "  # define the optimizer\n",
    "  optimizer = torch.optim.Adam(net.parameters(), lr=0.001)\n",
    "  loss_fn_2 = torch.nn.MSELoss(reduction=\"sum\")\n",
    "  loss_fn_1 = torch.nn.L1Loss(reduction=\"sum\")\n",
    "\n",
    "\n",
    "  nepoch = 100\n",
    "  step_count = 0\n",
    "  log_interval = 100\n",
    "\n",
    "  stop_count = 0\n",
    "  best_step_count = 0\n",
    "\n",
    "  best_loss = 10000000000000000000000\n",
    "\n",
    "  weight = []\n",
    "\n",
    "  for epoch_id in range(0, nepoch):      \n",
    "      for batch_idx, (inputs, targets) in enumerate(subtrainloader):\n",
    "          #reshape target to two-dimensional array\n",
    "          targets = targets.reshape((-1, 1))\n",
    "          step_count += 1        \n",
    "          net.train()\n",
    "          inputs, targets = inputs.to(device), targets.to(device)\n",
    "          optimizer.zero_grad()\n",
    "          outputs = net(inputs.float())        \n",
    "          loss = z*loss_fn_1(outputs.float(), targets.float()) + (1-z)*loss_fn_2(outputs.float(), targets.float())\n",
    "\n",
    "          loss.backward()\n",
    "          optimizer.step()\n",
    "          # print(list(net.parameters()))\n",
    "\n",
    "          with torch.no_grad():\n",
    "              loss = 0\n",
    "              for batch_idx, (inputs, targets) in enumerate(validloader):            \n",
    "                  inputs, targets = inputs.to(device), targets.to(device)\n",
    "                  targets = targets.reshape((-1, 1))\n",
    "                  outputs = net(inputs)\n",
    "                  cn_loss = loss_fn_2(outputs, targets)\n",
    "                  valid_SSE += cn_loss.item()\n",
    "                  cn_loss_mix = z*loss_fn_1(outputs.float(), targets.float()) + (1-z)*loss_fn_2(outputs.float(), targets.float())\n",
    "                  loss += cn_loss_mix\n",
    "\n",
    "          # if step_count % log_interval == 0:            \n",
    "              # print(\"Epoch %d Step %d Loss = %.3f (minibatch size = %d)\" % (epoch_id, step_count, loss.item(), len(targets)))\n",
    "              # print(RMSE)\n",
    "              # print(valid_tem_rmse)\n",
    "\n",
    "          if loss.item() < best_loss:\n",
    "            best_loss = loss\n",
    "            best_step_count = step_count\n",
    "            stop_count = 0\n",
    "            weight = net.parameters\n",
    "            # print(weight)\n",
    "          else:\n",
    "            stop_count += 1\n",
    "            # print(stop_count)\n",
    "\n",
    "          if stop_count == 5000:\n",
    "            break\n",
    "      if stop_count == 5000:\n",
    "        break\n",
    "\n",
    "\n",
    "  net.apply(weight)\n",
    "\n",
    "  with torch.no_grad():\n",
    "    test_SSE = 0\n",
    "    for batch_idx, (inputs, targets) in enumerate(testloader):            \n",
    "      inputs, targets = inputs.to(device), targets.to(device)\n",
    "      targets = targets.reshape((-1, 1))\n",
    "      outputs = net(inputs)\n",
    "      cn_loss = loss_fn_2(outputs, targets)\n",
    "      test_SSE += cn_loss.item()\n",
    "\n",
    "    test_rmse = (test_SSE/51630)**(1/2)\n",
    "  print(\"Test RMSE(z=%f) = %f\" % (z, test_rmse))"
   ]
  }
 ],
 "metadata": {
  "accelerator": "GPU",
  "colab": {
   "collapsed_sections": [],
   "name": "hw4_qonlyv5.ipynb",
   "provenance": []
  },
  "kernelspec": {
   "display_name": "Python 3",
   "language": "python",
   "name": "python3"
  },
  "language_info": {
   "codemirror_mode": {
    "name": "ipython",
    "version": 3
   },
   "file_extension": ".py",
   "mimetype": "text/x-python",
   "name": "python",
   "nbconvert_exporter": "python",
   "pygments_lexer": "ipython3",
   "version": "3.8.8"
  }
 },
 "nbformat": 4,
 "nbformat_minor": 1
}
