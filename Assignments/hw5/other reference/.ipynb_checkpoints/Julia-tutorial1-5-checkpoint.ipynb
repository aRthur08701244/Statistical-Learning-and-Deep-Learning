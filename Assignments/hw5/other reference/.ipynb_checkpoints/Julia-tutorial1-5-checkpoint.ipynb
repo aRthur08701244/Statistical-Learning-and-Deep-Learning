{
 "cells": [
  {
   "cell_type": "code",
   "execution_count": 1,
   "metadata": {},
   "outputs": [
    {
     "data": {
      "text/plain": [
       "2"
      ]
     },
     "execution_count": 1,
     "metadata": {},
     "output_type": "execute_result"
    }
   ],
   "source": [
    "1+1"
   ]
  },
  {
   "cell_type": "code",
   "execution_count": 2,
   "metadata": {
    "scrolled": true
   },
   "outputs": [
    {
     "name": "stdout",
     "output_type": "stream",
     "text": [
      "This is so cool!!!\n"
     ]
    }
   ],
   "source": [
    "println(\"This is so cool!!!\")"
   ]
  },
  {
   "cell_type": "markdown",
   "metadata": {},
   "source": [
    "# Part 1: Julia Basics"
   ]
  },
  {
   "cell_type": "markdown",
   "metadata": {},
   "source": [
    "### for loop"
   ]
  },
  {
   "cell_type": "code",
   "execution_count": 3,
   "metadata": {},
   "outputs": [
    {
     "name": "stdout",
     "output_type": "stream",
     "text": [
      "This\n",
      "is\n",
      "so\n",
      "cool\n"
     ]
    }
   ],
   "source": [
    "l = [\"This\", \"is\", \"so\", \"cool\"] \n",
    "for i in l\n",
    "    println(i) \n",
    "end"
   ]
  },
  {
   "cell_type": "code",
   "execution_count": 4,
   "metadata": {},
   "outputs": [
    {
     "name": "stdout",
     "output_type": "stream",
     "text": [
      "1\n",
      "2\n",
      "3\n",
      "4\n",
      "5\n"
     ]
    }
   ],
   "source": [
    "for i in 1:5\n",
    "    println(i)\n",
    "end"
   ]
  },
  {
   "cell_type": "markdown",
   "metadata": {},
   "source": [
    "### while loop"
   ]
  },
  {
   "cell_type": "code",
   "execution_count": 5,
   "metadata": {},
   "outputs": [
    {
     "name": "stdout",
     "output_type": "stream",
     "text": [
      "1\n",
      "2\n",
      "3\n",
      "4\n",
      "5\n"
     ]
    }
   ],
   "source": [
    "m = 1\n",
    "while m<= 5\n",
    "    println(m)\n",
    "    m = m + 1\n",
    "end"
   ]
  },
  {
   "cell_type": "markdown",
   "metadata": {},
   "source": [
    "### if-else statement"
   ]
  },
  {
   "cell_type": "code",
   "execution_count": 21,
   "metadata": {},
   "outputs": [
    {
     "name": "stdout",
     "output_type": "stream",
     "text": [
      "A is greater than B\n"
     ]
    }
   ],
   "source": [
    "A = 100\n",
    "B = 50\n",
    "if A > B\n",
    "    println(\"A is greater than B\")\n",
    "elseif A < B\n",
    "    println(\"A is less than B\")\n",
    "else\n",
    "    println(\"A is equal to B\")\n",
    "end"
   ]
  },
  {
   "cell_type": "markdown",
   "metadata": {},
   "source": [
    "### create function"
   ]
  },
  {
   "cell_type": "code",
   "execution_count": 7,
   "metadata": {},
   "outputs": [
    {
     "data": {
      "text/plain": [
       "3"
      ]
     },
     "execution_count": 7,
     "metadata": {},
     "output_type": "execute_result"
    }
   ],
   "source": [
    "newfunction1(a, b, c) = a + b + c\n",
    "newfunction1(1, 1, 1)"
   ]
  },
  {
   "cell_type": "code",
   "execution_count": 8,
   "metadata": {},
   "outputs": [
    {
     "data": {
      "text/plain": [
       "2"
      ]
     },
     "execution_count": 8,
     "metadata": {},
     "output_type": "execute_result"
    }
   ],
   "source": [
    "function newfunction2(x,y)\n",
    "           x + y\n",
    "end\n",
    "newfunction2(1, 1)"
   ]
  },
  {
   "cell_type": "code",
   "execution_count": 9,
   "metadata": {},
   "outputs": [
    {
     "data": {
      "text/plain": [
       "2-element Vector{Int64}:\n",
       " 2\n",
       " 0"
      ]
     },
     "execution_count": 9,
     "metadata": {},
     "output_type": "execute_result"
    }
   ],
   "source": [
    "#if you want to get more from the function: may use return\n",
    "function newfunction3(x,y)\n",
    "    return([x + y, x-y])\n",
    "end\n",
    "newfunction3(1, 1)"
   ]
  },
  {
   "cell_type": "markdown",
   "metadata": {},
   "source": [
    "### install package"
   ]
  },
  {
   "cell_type": "code",
   "execution_count": null,
   "metadata": {},
   "outputs": [],
   "source": [
    "using Pkg\n",
    "\n",
    "Pkg.add(\"LinearAlgebra\")  # we need the norm funciton\n",
    "using LinearAlgebra\n",
    "\n",
    "Pkg.add(\"Statistics\") # we need the mean function\n",
    "using Statistics"
   ]
  },
  {
   "cell_type": "markdown",
   "metadata": {},
   "source": [
    "# Part 2: Julia Tutorial"
   ]
  },
  {
   "cell_type": "markdown",
   "metadata": {},
   "source": [
    "### Chapter 1.1 vector"
   ]
  },
  {
   "cell_type": "markdown",
   "metadata": {},
   "source": [
    "### Create vector"
   ]
  },
  {
   "cell_type": "code",
   "execution_count": 10,
   "metadata": {
    "scrolled": true
   },
   "outputs": [
    {
     "data": {
      "text/plain": [
       "4"
      ]
     },
     "execution_count": 10,
     "metadata": {},
     "output_type": "execute_result"
    }
   ],
   "source": [
    "# can separate using \",\"\n",
    "x = [ -1.1, 0.0, 3.6, -7.2 ]\n",
    "length(x)"
   ]
  },
  {
   "cell_type": "code",
   "execution_count": 11,
   "metadata": {},
   "outputs": [
    {
     "data": {
      "text/plain": [
       "4"
      ]
     },
     "execution_count": 11,
     "metadata": {},
     "output_type": "execute_result"
    }
   ],
   "source": [
    "# can also separate using \";\"\n",
    "y = [ -1.1; 0.0; 3.6; -7.2 ]\n",
    "length(y)"
   ]
  },
  {
   "cell_type": "code",
   "execution_count": 24,
   "metadata": {},
   "outputs": [
    {
     "name": "stdout",
     "output_type": "stream",
     "text": [
      "[1 2]Matrix{Int64}\n",
      "(1, 2)Tuple{Int64, Int64}\n"
     ]
    }
   ],
   "source": [
    "# Wrong ways to create vector\n",
    "a = [ 1 2 ]\n",
    "b = ( 1, 2 )\n",
    "println(a, typeof(a))\n",
    "println(b, typeof(b))"
   ]
  },
  {
   "cell_type": "markdown",
   "metadata": {},
   "source": [
    "### Indexing"
   ]
  },
  {
   "cell_type": "code",
   "execution_count": 13,
   "metadata": {},
   "outputs": [
    {
     "data": {
      "text/plain": [
       "3.6"
      ]
     },
     "execution_count": 13,
     "metadata": {},
     "output_type": "execute_result"
    }
   ],
   "source": [
    "x = [ -1.1, 0.0, 3.6, -7.2 ]\n",
    "x[3]"
   ]
  },
  {
   "cell_type": "code",
   "execution_count": 14,
   "metadata": {},
   "outputs": [
    {
     "data": {
      "text/plain": [
       "4-element Vector{Float64}:\n",
       " -1.1\n",
       "  0.0\n",
       "  4.0\n",
       " -7.2"
      ]
     },
     "execution_count": 14,
     "metadata": {},
     "output_type": "execute_result"
    }
   ],
   "source": [
    "x[3] = 4.0\n",
    "x"
   ]
  },
  {
   "cell_type": "markdown",
   "metadata": {},
   "source": [
    "### Assignment"
   ]
  },
  {
   "cell_type": "code",
   "execution_count": 28,
   "metadata": {},
   "outputs": [
    {
     "name": "stdout",
     "output_type": "stream",
     "text": [
      "y = [-1.1, 0.0, 4.0, -7.2]\n",
      "x = [2.0, 0.0, 4.0, -7.2]\n",
      "y = [2.0, 0.0, 4.0, -7.2]\n"
     ]
    },
    {
     "data": {
      "text/plain": [
       "true"
      ]
     },
     "execution_count": 28,
     "metadata": {},
     "output_type": "execute_result"
    }
   ],
   "source": [
    "x = [ -1.1, 0.0, 3.6, -7.2 ]\n",
    "y = x\n",
    "x[3] = 4.0\n",
    "println(\"y = \", y) # y will change upon the change of x\n",
    "y[1] = 2.0\n",
    "println(\"x = \", x)  # x will also be changed when y is changed\n",
    "println(\"y = \", y)\n",
    "x == y"
   ]
  },
  {
   "cell_type": "markdown",
   "metadata": {},
   "source": [
    "### Copy"
   ]
  },
  {
   "cell_type": "code",
   "execution_count": 27,
   "metadata": {},
   "outputs": [
    {
     "name": "stdout",
     "output_type": "stream",
     "text": [
      "y = [-1.1, 0.0, 3.6, -7.2]\n",
      "x = [-1.1, 0.0, 4.0, -7.2]\n"
     ]
    }
   ],
   "source": [
    "x = [ -1.1, 0.0, 3.6, -7.2 ]\n",
    "y = copy(x)  # only copy the values, then x and y will function separately\n",
    "x[3] = 4.0\n",
    "println(\"y = \", y)\n",
    "y[1] = 2.0\n",
    "println(\"x = \", x)"
   ]
  },
  {
   "cell_type": "markdown",
   "metadata": {},
   "source": [
    "### Vector equality"
   ]
  },
  {
   "cell_type": "code",
   "execution_count": 32,
   "metadata": {},
   "outputs": [
    {
     "name": "stdout",
     "output_type": "stream",
     "text": [
      "y == x: false\n",
      "z == x: true\n"
     ]
    },
    {
     "data": {
      "text/plain": [
       "true"
      ]
     },
     "execution_count": 32,
     "metadata": {},
     "output_type": "execute_result"
    }
   ],
   "source": [
    "x = [ -1.1, 0.0, 3.6, -7.2 ]\n",
    "y = copy(x)\n",
    "y[3] = 4.0\n",
    "println(\"y == x: \", y == x)\n",
    "\n",
    "z = x\n",
    "z[3] = 4.0\n",
    "println(\"z == x: \", z == x)"
   ]
  },
  {
   "cell_type": "markdown",
   "metadata": {},
   "source": [
    "### Scalars versus 1-vectors"
   ]
  },
  {
   "cell_type": "code",
   "execution_count": 38,
   "metadata": {},
   "outputs": [
    {
     "name": "stdout",
     "output_type": "stream",
     "text": [
      "Vector{Float64}\n",
      "Float64\n",
      "x == y: false\n",
      "x[1] == y: true\n"
     ]
    }
   ],
   "source": [
    "x = [ 1.3 ]\n",
    "y = 1.3\n",
    "println(typeof(x))\n",
    "println(typeof(y))\n",
    "println(\"x == y: \", x == y)\n",
    "println(\"x[1] == y: \", x[1] == y)"
   ]
  },
  {
   "cell_type": "markdown",
   "metadata": {},
   "source": [
    "###  Stacked vectors"
   ]
  },
  {
   "cell_type": "code",
   "execution_count": 39,
   "metadata": {},
   "outputs": [
    {
     "name": "stdout",
     "output_type": "stream",
     "text": [
      "z1 == z2: true\n"
     ]
    }
   ],
   "source": [
    "x=[1, -2]; y=[1, 1, 0];\n",
    "z1 = [ x; y ]   # Concatenate using semicolon\n",
    "z2 = vcat(x, y) # Concatenate using vcat\n",
    "println(\"z1 == z2: \", z1 == z2)"
   ]
  },
  {
   "cell_type": "markdown",
   "metadata": {},
   "source": [
    "### Subvectors and slicing"
   ]
  },
  {
   "cell_type": "code",
   "execution_count": 41,
   "metadata": {},
   "outputs": [
    {
     "name": "stdout",
     "output_type": "stream",
     "text": [
      "y = [4, 3, 0]\n",
      "x = [9, 4, 3, -2, -3]\n"
     ]
    }
   ],
   "source": [
    "x = [ 9, 4, 3, 0, 5 ]\n",
    "y = x[2:4]\n",
    "println(\"y = \" , y)\n",
    "x[4:5] = [ -2, -3 ]\n",
    "println(\"x = \" , x)"
   ]
  },
  {
   "cell_type": "markdown",
   "metadata": {},
   "source": [
    "### Lists of vectors"
   ]
  },
  {
   "cell_type": "code",
   "execution_count": 48,
   "metadata": {},
   "outputs": [
    {
     "name": "stdout",
     "output_type": "stream",
     "text": [
      "[[1.0, 0.0], [1.0, -1.0], [0.0, 1.0]] Vector{Vector{Float64}}\n",
      "([1.0, 0.0], [1.0, -1.0], [0.0, 1.0]) Tuple{Vector{Float64}, Vector{Float64}, Vector{Float64}}\n"
     ]
    }
   ],
   "source": [
    "x = [1.0, 0 ];   y = [ 1.0, -1.0 ];   z = [ 0, 1.0];\n",
    "list1 = [ x, y, z ]\n",
    "list2 = ( x, y, z )\n",
    "list1 == list2\n",
    "println(list1, \" \",  typeof(list1))\n",
    "println(list2, \" \",  typeof(list2))"
   ]
  },
  {
   "cell_type": "markdown",
   "metadata": {},
   "source": [
    "### Zero and one vectors"
   ]
  },
  {
   "cell_type": "code",
   "execution_count": 49,
   "metadata": {},
   "outputs": [
    {
     "name": "stdout",
     "output_type": "stream",
     "text": [
      "[0.0, 0.0, 0.0]\n",
      "[1.0, 1.0]\n"
     ]
    }
   ],
   "source": [
    "zeros(3) # create vector of 3 dimension, all of them are 0\n",
    "ones(2)  # create vector of 2 dimension, all of them are 1\n",
    "println(zeros(3))\n",
    "println(ones(2))"
   ]
  },
  {
   "cell_type": "markdown",
   "metadata": {},
   "source": [
    "### Random vectors"
   ]
  },
  {
   "cell_type": "code",
   "execution_count": 21,
   "metadata": {},
   "outputs": [
    {
     "name": "stdout",
     "output_type": "stream",
     "text": [
      "[0.7612257752451703, 0.4792644789787168]\n",
      "[-1.0075276959321537, -0.6432419892560122]\n"
     ]
    }
   ],
   "source": [
    "rand(2)     # drawn from 0-1 randomly\n",
    "randn(2)    # drawn from standard normal distribution\n",
    "println(rand(2))\n",
    "println(randn(2))"
   ]
  },
  {
   "cell_type": "markdown",
   "metadata": {},
   "source": [
    "### Chapter 1.2 Vector addition"
   ]
  },
  {
   "cell_type": "code",
   "execution_count": 23,
   "metadata": {},
   "outputs": [
    {
     "name": "stdout",
     "output_type": "stream",
     "text": [
      "[1, 9, 3]\n",
      "[0, 8]\n"
     ]
    }
   ],
   "source": [
    "a = [0,7,3] +[1,2,0]     # Vector addition\n",
    "b = [ 1, 9 ] - [ 1, 1]  # Vector subtraction\n",
    "println(a)\n",
    "println(b)"
   ]
  },
  {
   "cell_type": "markdown",
   "metadata": {},
   "source": [
    "### Chapter 1.3 Scalar-vector multiplication"
   ]
  },
  {
   "cell_type": "markdown",
   "metadata": {},
   "source": [
    "### Scalar-vector multiplication and division"
   ]
  },
  {
   "cell_type": "code",
   "execution_count": 53,
   "metadata": {},
   "outputs": [
    {
     "name": "stdout",
     "output_type": "stream",
     "text": [
      "[0, 4, -2]\n",
      "[0, 4, -2]\n",
      "[0.0, 20.0, -10.0]\n",
      "[0.0 1.2000000000000002 -0.6000000000000001]\n"
     ]
    }
   ],
   "source": [
    "x = [ 0, 2, -1 ]\n",
    "println(2 * x )    # Scalar-vector multiplication\n",
    "println(x * 2)\n",
    "println(x / 0.1)\n",
    "println(3 / x)"
   ]
  },
  {
   "cell_type": "code",
   "execution_count": 54,
   "metadata": {},
   "outputs": [
    {
     "ename": "LoadError",
     "evalue": "MethodError: no method matching +(::Vector{Int64}, ::Int64)\nFor element-wise addition, use broadcasting with dot syntax: array .+ scalar\n\u001b[0mClosest candidates are:\n\u001b[0m  +(::Any, ::Any, \u001b[91m::Any\u001b[39m, \u001b[91m::Any...\u001b[39m) at operators.jl:560\n\u001b[0m  +(\u001b[91m::T\u001b[39m, ::T) where T<:Union{Int128, Int16, Int32, Int64, Int8, UInt128, UInt16, UInt32, UInt64, UInt8} at int.jl:87\n\u001b[0m  +(\u001b[91m::T\u001b[39m, ::Integer) where T<:AbstractChar at char.jl:223\n\u001b[0m  ...",
     "output_type": "error",
     "traceback": [
      "MethodError: no method matching +(::Vector{Int64}, ::Int64)\nFor element-wise addition, use broadcasting with dot syntax: array .+ scalar\n\u001b[0mClosest candidates are:\n\u001b[0m  +(::Any, ::Any, \u001b[91m::Any\u001b[39m, \u001b[91m::Any...\u001b[39m) at operators.jl:560\n\u001b[0m  +(\u001b[91m::T\u001b[39m, ::T) where T<:Union{Int128, Int16, Int32, Int64, Int8, UInt128, UInt16, UInt32, UInt64, UInt8} at int.jl:87\n\u001b[0m  +(\u001b[91m::T\u001b[39m, ::Integer) where T<:AbstractChar at char.jl:223\n\u001b[0m  ...",
      "",
      "Stacktrace:",
      " [1] top-level scope",
      "   @ In[54]:1",
      " [2] eval",
      "   @ ./boot.jl:360 [inlined]",
      " [3] include_string(mapexpr::typeof(REPL.softscope), mod::Module, code::String, filename::String)",
      "   @ Base ./loading.jl:1094"
     ]
    }
   ],
   "source": [
    "println(x + 2)"
   ]
  },
  {
   "cell_type": "markdown",
   "metadata": {},
   "source": [
    "### Scalar-vector addition"
   ]
  },
  {
   "cell_type": "code",
   "execution_count": 24,
   "metadata": {},
   "outputs": [
    {
     "data": {
      "text/plain": [
       "3-element Vector{Float64}:\n",
       "  2.5\n",
       " -2.3000000000000003\n",
       "  1.7"
      ]
     },
     "execution_count": 24,
     "metadata": {},
     "output_type": "execute_result"
    }
   ],
   "source": [
    "[ 1.1, -3.7, 0.3 ] .- 1.4\n",
    "[ 1.1, -3.7, 0.3 ] .+ 1.4"
   ]
  },
  {
   "cell_type": "markdown",
   "metadata": {},
   "source": [
    "### Elementwise operations with a scalar"
   ]
  },
  {
   "cell_type": "code",
   "execution_count": 55,
   "metadata": {},
   "outputs": [
    {
     "name": "stdout",
     "output_type": "stream",
     "text": [
      "false\n",
      "Bool[1, 1, 0]\n"
     ]
    }
   ],
   "source": [
    "w = [1,2,2]; z = [1,2,3]\n",
    "println(w == z)  # check the entire variable\n",
    "println(w .== z) # check each component"
   ]
  },
  {
   "cell_type": "markdown",
   "metadata": {},
   "source": [
    "### Chapter 1.4 \n",
    "### Innder product"
   ]
  },
  {
   "cell_type": "code",
   "execution_count": 26,
   "metadata": {},
   "outputs": [
    {
     "data": {
      "text/plain": [
       "-7"
      ]
     },
     "execution_count": 26,
     "metadata": {},
     "output_type": "execute_result"
    }
   ],
   "source": [
    "x = [ -1, 2, 2 ];\n",
    "y = [ 1, 0, -3 ];\n",
    "x'*y"
   ]
  },
  {
   "cell_type": "markdown",
   "metadata": {},
   "source": [
    "### Chapter 1.5 \n",
    "### Complexity of vector computations"
   ]
  },
  {
   "cell_type": "code",
   "execution_count": 27,
   "metadata": {},
   "outputs": [
    {
     "name": "stdout",
     "output_type": "stream",
     "text": [
      "  0.080585 seconds (58.04 k allocations: 3.744 MiB, 81.68% compilation time)\n",
      "  0.000084 seconds (2 allocations: 32 bytes)\n"
     ]
    },
    {
     "data": {
      "text/plain": [
       "-65.30542253333772"
      ]
     },
     "execution_count": 27,
     "metadata": {},
     "output_type": "execute_result"
    }
   ],
   "source": [
    "a = randn(10^5); b = randn(10^5)\n",
    "@time a'*b\n",
    "@time a'*b"
   ]
  },
  {
   "cell_type": "markdown",
   "metadata": {},
   "source": [
    "### Chaper 2.1 Linear functions"
   ]
  },
  {
   "cell_type": "code",
   "execution_count": 28,
   "metadata": {},
   "outputs": [
    {
     "data": {
      "text/plain": [
       "-5"
      ]
     },
     "execution_count": 28,
     "metadata": {},
     "output_type": "execute_result"
    }
   ],
   "source": [
    "f(x) = x[1] + x[2] - x[4]^2\n",
    "f([-1,0,1,2])"
   ]
  },
  {
   "cell_type": "code",
   "execution_count": 56,
   "metadata": {},
   "outputs": [
    {
     "data": {
      "text/plain": [
       "true"
      ]
     },
     "execution_count": 56,
     "metadata": {},
     "output_type": "execute_result"
    }
   ],
   "source": [
    "a = [-2, 0, 1, -3]\n",
    "f(x) = a'*x\n",
    "x=[2,2,-1,1]; y=[0,1,-1,0];\n",
    "alpha = 1.5; beta = -3.7;\n",
    "lhs = f(alpha * x + beta * y) # scalar-vector multiplication\n",
    "rhs = alpha * f(x) + beta * f(y)\n",
    "lhs == rhs # which is the definition of linear"
   ]
  },
  {
   "cell_type": "markdown",
   "metadata": {},
   "source": [
    "### Chaper 2.2 Taylor approximation"
   ]
  },
  {
   "cell_type": "markdown",
   "metadata": {},
   "source": [
    "$f(x_1, x_2) = x_1 + e^{x_2 - x_1}$"
   ]
  },
  {
   "cell_type": "markdown",
   "metadata": {},
   "source": [
    "Taking partial derivative w.r.t. $x_1$: $\\nabla f_1(x_1, x_2) = 1 - e^{x_2 - x_1}$"
   ]
  },
  {
   "cell_type": "markdown",
   "metadata": {},
   "source": [
    "Taking partial derivative w.r.t. $x_2$: $\\nabla f_2(x_1, x_2) = e^{x_2 - x_1}$"
   ]
  },
  {
   "cell_type": "code",
   "execution_count": 11,
   "metadata": {},
   "outputs": [
    {
     "name": "stdout",
     "output_type": "stream",
     "text": [
      "3.718281828459045 3.718281828459045\n",
      "3.7331947639642977 3.732647465028226\n"
     ]
    }
   ],
   "source": [
    "f(x) = x[1] + exp(x[2]-x[1]);   # A function f\n",
    "grad_f(z) = [1-exp(z[2]-z[1]), exp(z[2]-z[1])]   # f's gradient\n",
    "z = [1, 2]   # We want to do Taylor approximation at z\n",
    "f_hat(x) = f(z) + grad_f(z)'*(x-z);\n",
    "# Let's compare f and f_hat for some specific x's\n",
    "println(f([1,2]), \" \",  f_hat([1,2]))\n",
    "println(f([0.96,1.98]), \" \",  f_hat([0.96,1.98]))"
   ]
  },
  {
   "cell_type": "markdown",
   "metadata": {},
   "source": [
    "### Chaper 2.3 Regression model"
   ]
  },
  {
   "cell_type": "markdown",
   "metadata": {},
   "source": [
    "$y(x) = x^\\top \\beta + v$"
   ]
  },
  {
   "cell_type": "code",
   "execution_count": 1,
   "metadata": {},
   "outputs": [
    {
     "data": {
      "text/plain": [
       "(213.61852000000002, 234.5)"
      ]
     },
     "execution_count": 1,
     "metadata": {},
     "output_type": "execute_result"
    }
   ],
   "source": [
    "# Set parameters in regression model\n",
    "beta = [148.73, -18.85]; v = 54.40;\n",
    "y_hat(x) = x'* beta + v;\n",
    "# Evaluate regression model prediction\n",
    "x = [0.846, 1];  y = 115;\n",
    "y_hat(x), y\n",
    "x = [1.324,2];  y = 234.50;\n",
    "y_hat(x), y"
   ]
  },
  {
   "cell_type": "markdown",
   "metadata": {},
   "source": [
    "### An example from dataset"
   ]
  },
  {
   "cell_type": "markdown",
   "metadata": {},
   "source": [
    "Need to install the VMLS (Vectors, Matrices, and Least Squares) package from gitHub first!\n",
    "\n",
    "Go to your terminal and press the right middle bracket ]\n",
    "\n",
    "add https://github.com/VMLS-book/VMLS.jl\n",
    "\n",
    "And go back to the Jupyter notebook to type:"
   ]
  },
  {
   "cell_type": "code",
   "execution_count": 3,
   "metadata": {},
   "outputs": [],
   "source": [
    "using VMLS"
   ]
  },
  {
   "cell_type": "markdown",
   "metadata": {},
   "source": [
    "$\\hat{y} = v + \\beta_{area} \\times area + \\beta_{beds} \\times beds$"
   ]
  },
  {
   "cell_type": "markdown",
   "metadata": {},
   "source": [
    "$\\beta_{area} = 148.7251$"
   ]
  },
  {
   "cell_type": "markdown",
   "metadata": {},
   "source": [
    "$\\beta_{beds} = -18.8534$"
   ]
  },
  {
   "cell_type": "markdown",
   "metadata": {},
   "source": [
    "$\\hat{y} = v + 148.7251 \\times area + -18.8534 \\times beds$"
   ]
  },
  {
   "cell_type": "code",
   "execution_count": 88,
   "metadata": {},
   "outputs": [
    {
     "data": {
      "text/plain": [
       "Dict{String, Vector{T} where T} with 6 entries:\n",
       "  \"baths\"    => [2, 2, 2, 2, 1, 2, 2, 1, 1, 1  …  2, 2, 2, 2, 2, 3, 2, 2, 2, 2]\n",
       "  \"location\" => [2, 2, 2, 3, 3, 2, 2, 2, 2, 2  …  3, 4, 3, 3, 3, 3, 3, 2, 3, 4]\n",
       "  \"price\"    => [94.905, 98.937, 100.309, 106.25, 107.502, 108.75, 110.7, 113.2…\n",
       "  \"beds\"     => [2, 3, 3, 3, 3, 2, 2, 2, 2, 2  …  3, 3, 4, 4, 3, 4, 3, 3, 4, 3]\n",
       "  \"area\"     => [0.941, 1.146, 0.909, 1.289, 1.02, 1.022, 1.134, 0.844, 0.795, …\n",
       "  \"condo\"    => [1, 0, 0, 0, 0, 0, 1, 0, 1, 0  …  0, 0, 0, 0, 0, 0, 0, 0, 0, 0]"
      ]
     },
     "execution_count": 88,
     "metadata": {},
     "output_type": "execute_result"
    }
   ],
   "source": [
    "D= house_sales_data();\n",
    "D  # D has 6 variables"
   ]
  },
  {
   "cell_type": "code",
   "execution_count": 89,
   "metadata": {},
   "outputs": [],
   "source": [
    "price = D[\"price\"]\n",
    "area = D[\"area\"]\n",
    "beds = D[\"beds\"]\n",
    "v = 54.4017;\n",
    "beta = [ 148.7251, -18.8534 ];\n",
    "predicted = v .+ beta[1] * area + beta[2] * beds;"
   ]
  },
  {
   "cell_type": "markdown",
   "metadata": {},
   "source": [
    "### plot"
   ]
  },
  {
   "cell_type": "code",
   "execution_count": 84,
   "metadata": {},
   "outputs": [
    {
     "data": {
      "image/svg+xml": [
       "<?xml version=\"1.0\" encoding=\"utf-8\"?>\n",
       "<svg xmlns=\"http://www.w3.org/2000/svg\" xmlns:xlink=\"http://www.w3.org/1999/xlink\" width=\"150\" height=\"100\" viewBox=\"0 0 600 400\">\n",
       "<defs>\n",
       "  <clipPath id=\"clip860\">\n",
       "    <rect x=\"0\" y=\"0\" width=\"600\" height=\"400\"/>\n",
       "  </clipPath>\n",
       "</defs>\n",
       "<path clip-path=\"url(#clip860)\" d=\"\n",
       "M0 400 L600 400 L600 0 L0 0  Z\n",
       "  \" fill=\"#ffffff\" fill-rule=\"evenodd\" fill-opacity=\"1\"/>\n",
       "<defs>\n",
       "  <clipPath id=\"clip861\">\n",
       "    <rect x=\"120\" y=\"0\" width=\"421\" height=\"400\"/>\n",
       "  </clipPath>\n",
       "</defs>\n",
       "<path clip-path=\"url(#clip860)\" d=\"\n",
       "M35.6137 371.612 L588.189 371.612 L588.189 11.811 L35.6137 11.811  Z\n",
       "  \" fill=\"#ffffff\" fill-rule=\"evenodd\" fill-opacity=\"1\"/>\n",
       "<defs>\n",
       "  <clipPath id=\"clip862\">\n",
       "    <rect x=\"35\" y=\"11\" width=\"554\" height=\"361\"/>\n",
       "  </clipPath>\n",
       "</defs>\n",
       "<polyline clip-path=\"url(#clip862)\" style=\"stroke:#000000; stroke-width:0.5; stroke-opacity:0.1; fill:none\" points=\"\n",
       "  107.929,371.612 107.929,11.811 \n",
       "  \"/>\n",
       "<polyline clip-path=\"url(#clip862)\" style=\"stroke:#000000; stroke-width:0.5; stroke-opacity:0.1; fill:none\" points=\"\n",
       "  222.922,371.612 222.922,11.811 \n",
       "  \"/>\n",
       "<polyline clip-path=\"url(#clip862)\" style=\"stroke:#000000; stroke-width:0.5; stroke-opacity:0.1; fill:none\" points=\"\n",
       "  337.916,371.612 337.916,11.811 \n",
       "  \"/>\n",
       "<polyline clip-path=\"url(#clip862)\" style=\"stroke:#000000; stroke-width:0.5; stroke-opacity:0.1; fill:none\" points=\"\n",
       "  452.909,371.612 452.909,11.811 \n",
       "  \"/>\n",
       "<polyline clip-path=\"url(#clip862)\" style=\"stroke:#000000; stroke-width:0.5; stroke-opacity:0.1; fill:none\" points=\"\n",
       "  567.902,371.612 567.902,11.811 \n",
       "  \"/>\n",
       "<polyline clip-path=\"url(#clip860)\" style=\"stroke:#000000; stroke-width:1; stroke-opacity:1; fill:none\" points=\"\n",
       "  35.6137,371.612 588.189,371.612 \n",
       "  \"/>\n",
       "<polyline clip-path=\"url(#clip860)\" style=\"stroke:#000000; stroke-width:1; stroke-opacity:1; fill:none\" points=\"\n",
       "  107.929,371.612 107.929,367.294 \n",
       "  \"/>\n",
       "<polyline clip-path=\"url(#clip860)\" style=\"stroke:#000000; stroke-width:1; stroke-opacity:1; fill:none\" points=\"\n",
       "  222.922,371.612 222.922,367.294 \n",
       "  \"/>\n",
       "<polyline clip-path=\"url(#clip860)\" style=\"stroke:#000000; stroke-width:1; stroke-opacity:1; fill:none\" points=\"\n",
       "  337.916,371.612 337.916,367.294 \n",
       "  \"/>\n",
       "<polyline clip-path=\"url(#clip860)\" style=\"stroke:#000000; stroke-width:1; stroke-opacity:1; fill:none\" points=\"\n",
       "  452.909,371.612 452.909,367.294 \n",
       "  \"/>\n",
       "<polyline clip-path=\"url(#clip860)\" style=\"stroke:#000000; stroke-width:1; stroke-opacity:1; fill:none\" points=\"\n",
       "  567.902,371.612 567.902,367.294 \n",
       "  \"/>\n",
       "<path clip-path=\"url(#clip860)\" d=\"M 0 0 M101.042 382.573 L108.461 382.573 L108.461 383.557 L101.042 383.557 L101.042 382.573 Z\" fill=\"#000000\" fill-rule=\"evenodd\" fill-opacity=\"1\" /><path clip-path=\"url(#clip860)\" d=\"M 0 0 M110.736 385.796 L114.815 385.796 L114.815 386.78 L109.329 386.78 L109.329 385.796 Q109.995 385.108 111.141 383.95 Q112.292 382.787 112.587 382.451 Q113.149 381.821 113.369 381.386 Q113.594 380.947 113.594 380.524 Q113.594 379.836 113.108 379.402 Q112.628 378.968 111.852 378.968 Q111.303 378.968 110.689 379.158 Q110.082 379.349 109.387 379.737 L109.387 378.557 Q110.093 378.273 110.707 378.128 Q111.32 377.984 111.829 377.984 Q113.172 377.984 113.97 378.655 Q114.769 379.326 114.769 380.449 Q114.769 380.981 114.567 381.462 Q114.37 381.936 113.843 382.584 Q113.698 382.752 112.923 383.557 Q112.148 384.355 110.736 385.796 Z\" fill=\"#000000\" fill-rule=\"evenodd\" fill-opacity=\"1\" /><path clip-path=\"url(#clip860)\" d=\"M 0 0 M215.989 382.573 L223.408 382.573 L223.408 383.557 L215.989 383.557 L215.989 382.573 Z\" fill=\"#000000\" fill-rule=\"evenodd\" fill-opacity=\"1\" /><path clip-path=\"url(#clip860)\" d=\"M 0 0 M224.878 385.796 L226.788 385.796 L226.788 379.205 L224.71 379.621 L224.71 378.557 L226.776 378.14 L227.945 378.14 L227.945 385.796 L229.855 385.796 L229.855 386.78 L224.878 386.78 L224.878 385.796 Z\" fill=\"#000000\" fill-rule=\"evenodd\" fill-opacity=\"1\" /><path clip-path=\"url(#clip860)\" d=\"M 0 0 M337.916 378.91 Q337.013 378.91 336.556 379.801 Q336.104 380.686 336.104 382.469 Q336.104 384.245 336.556 385.136 Q337.013 386.022 337.916 386.022 Q338.824 386.022 339.276 385.136 Q339.733 384.245 339.733 382.469 Q339.733 380.686 339.276 379.801 Q338.824 378.91 337.916 378.91 M337.916 377.984 Q339.368 377.984 340.132 379.135 Q340.902 380.281 340.902 382.469 Q340.902 384.65 340.132 385.802 Q339.368 386.948 337.916 386.948 Q336.463 386.948 335.693 385.802 Q334.93 384.65 334.93 382.469 Q334.93 380.281 335.693 379.135 Q336.463 377.984 337.916 377.984 Z\" fill=\"#000000\" fill-rule=\"evenodd\" fill-opacity=\"1\" /><path clip-path=\"url(#clip860)\" d=\"M 0 0 M450.505 385.796 L452.414 385.796 L452.414 379.205 L450.337 379.621 L450.337 378.557 L452.403 378.14 L453.572 378.14 L453.572 385.796 L455.481 385.796 L455.481 386.78 L450.505 386.78 L450.505 385.796 Z\" fill=\"#000000\" fill-rule=\"evenodd\" fill-opacity=\"1\" /><path clip-path=\"url(#clip860)\" d=\"M 0 0 M566.566 385.796 L570.645 385.796 L570.645 386.78 L565.159 386.78 L565.159 385.796 Q565.825 385.108 566.971 383.95 Q568.122 382.787 568.417 382.451 Q568.979 381.821 569.199 381.386 Q569.424 380.947 569.424 380.524 Q569.424 379.836 568.938 379.402 Q568.458 378.968 567.683 378.968 Q567.133 378.968 566.519 379.158 Q565.912 379.349 565.217 379.737 L565.217 378.557 Q565.923 378.273 566.537 378.128 Q567.15 377.984 567.659 377.984 Q569.002 377.984 569.801 378.655 Q570.599 379.326 570.599 380.449 Q570.599 380.981 570.397 381.462 Q570.2 381.936 569.673 382.584 Q569.529 382.752 568.753 383.557 Q567.978 384.355 566.566 385.796 Z\" fill=\"#000000\" fill-rule=\"evenodd\" fill-opacity=\"1\" /><polyline clip-path=\"url(#clip862)\" style=\"stroke:#000000; stroke-width:0.5; stroke-opacity:0.1; fill:none\" points=\"\n",
       "  35.6137,352.106 588.189,352.106 \n",
       "  \"/>\n",
       "<polyline clip-path=\"url(#clip862)\" style=\"stroke:#000000; stroke-width:0.5; stroke-opacity:0.1; fill:none\" points=\"\n",
       "  35.6137,281.804 588.189,281.804 \n",
       "  \"/>\n",
       "<polyline clip-path=\"url(#clip862)\" style=\"stroke:#000000; stroke-width:0.5; stroke-opacity:0.1; fill:none\" points=\"\n",
       "  35.6137,211.502 588.189,211.502 \n",
       "  \"/>\n",
       "<polyline clip-path=\"url(#clip862)\" style=\"stroke:#000000; stroke-width:0.5; stroke-opacity:0.1; fill:none\" points=\"\n",
       "  35.6137,141.2 588.189,141.2 \n",
       "  \"/>\n",
       "<polyline clip-path=\"url(#clip862)\" style=\"stroke:#000000; stroke-width:0.5; stroke-opacity:0.1; fill:none\" points=\"\n",
       "  35.6137,70.8979 588.189,70.8979 \n",
       "  \"/>\n",
       "<polyline clip-path=\"url(#clip860)\" style=\"stroke:#000000; stroke-width:1; stroke-opacity:1; fill:none\" points=\"\n",
       "  35.6137,371.612 35.6137,11.811 \n",
       "  \"/>\n",
       "<polyline clip-path=\"url(#clip860)\" style=\"stroke:#000000; stroke-width:1; stroke-opacity:1; fill:none\" points=\"\n",
       "  35.6137,352.106 42.2446,352.106 \n",
       "  \"/>\n",
       "<polyline clip-path=\"url(#clip860)\" style=\"stroke:#000000; stroke-width:1; stroke-opacity:1; fill:none\" points=\"\n",
       "  35.6137,281.804 42.2446,281.804 \n",
       "  \"/>\n",
       "<polyline clip-path=\"url(#clip860)\" style=\"stroke:#000000; stroke-width:1; stroke-opacity:1; fill:none\" points=\"\n",
       "  35.6137,211.502 42.2446,211.502 \n",
       "  \"/>\n",
       "<polyline clip-path=\"url(#clip860)\" style=\"stroke:#000000; stroke-width:1; stroke-opacity:1; fill:none\" points=\"\n",
       "  35.6137,141.2 42.2446,141.2 \n",
       "  \"/>\n",
       "<polyline clip-path=\"url(#clip860)\" style=\"stroke:#000000; stroke-width:1; stroke-opacity:1; fill:none\" points=\"\n",
       "  35.6137,70.8979 42.2446,70.8979 \n",
       "  \"/>\n",
       "<path clip-path=\"url(#clip860)\" d=\"M 0 0 M12.8406 352.219 L20.2596 352.219 L20.2596 353.202 L12.8406 353.202 L12.8406 352.219 Z\" fill=\"#000000\" fill-rule=\"evenodd\" fill-opacity=\"1\" /><path clip-path=\"url(#clip860)\" d=\"M 0 0 M22.5339 355.442 L26.6137 355.442 L26.6137 356.426 L21.1276 356.426 L21.1276 355.442 Q21.7931 354.753 22.9389 353.596 Q24.0906 352.433 24.3857 352.097 Q24.947 351.466 25.1669 351.032 Q25.3926 350.593 25.3926 350.17 Q25.3926 349.481 24.9065 349.047 Q24.4262 348.613 23.6508 348.613 Q23.101 348.613 22.4876 348.804 Q21.8799 348.995 21.1855 349.383 L21.1855 348.203 Q21.8915 347.919 22.5049 347.774 Q23.1183 347.63 23.6276 347.63 Q24.9702 347.63 25.7688 348.301 Q26.5674 348.972 26.5674 350.095 Q26.5674 350.627 26.3649 351.108 Q26.1681 351.582 25.6415 352.23 Q25.4968 352.398 24.7213 353.202 Q23.9459 354.001 22.5339 355.442 Z\" fill=\"#000000\" fill-rule=\"evenodd\" fill-opacity=\"1\" /><path clip-path=\"url(#clip860)\" d=\"M 0 0 M12.748 281.917 L20.167 281.917 L20.167 282.901 L12.748 282.901 L12.748 281.917 Z\" fill=\"#000000\" fill-rule=\"evenodd\" fill-opacity=\"1\" /><path clip-path=\"url(#clip860)\" d=\"M 0 0 M21.6369 285.14 L23.5466 285.14 L23.5466 278.549 L21.469 278.965 L21.469 277.901 L23.535 277.484 L24.704 277.484 L24.704 285.14 L26.6137 285.14 L26.6137 286.124 L21.6369 286.124 L21.6369 285.14 Z\" fill=\"#000000\" fill-rule=\"evenodd\" fill-opacity=\"1\" /><path clip-path=\"url(#clip860)\" d=\"M 0 0 M23.6276 207.952 Q22.7248 207.952 22.2677 208.843 Q21.8163 209.728 21.8163 211.511 Q21.8163 213.287 22.2677 214.178 Q22.7248 215.064 23.6276 215.064 Q24.5362 215.064 24.9875 214.178 Q25.4447 213.287 25.4447 211.511 Q25.4447 209.728 24.9875 208.843 Q24.5362 207.952 23.6276 207.952 M23.6276 207.026 Q25.0801 207.026 25.844 208.177 Q26.6137 209.323 26.6137 211.511 Q26.6137 213.692 25.844 214.844 Q25.0801 215.99 23.6276 215.99 Q22.1751 215.99 21.4054 214.844 Q20.6415 213.692 20.6415 211.511 Q20.6415 209.323 21.4054 208.177 Q22.1751 207.026 23.6276 207.026 Z\" fill=\"#000000\" fill-rule=\"evenodd\" fill-opacity=\"1\" /><path clip-path=\"url(#clip860)\" d=\"M 0 0 M21.6369 144.536 L23.5466 144.536 L23.5466 137.945 L21.469 138.361 L21.469 137.297 L23.535 136.88 L24.704 136.88 L24.704 144.536 L26.6137 144.536 L26.6137 145.52 L21.6369 145.52 L21.6369 144.536 Z\" fill=\"#000000\" fill-rule=\"evenodd\" fill-opacity=\"1\" /><path clip-path=\"url(#clip860)\" d=\"M 0 0 M22.5339 74.2341 L26.6137 74.2341 L26.6137 75.2179 L21.1276 75.2179 L21.1276 74.2341 Q21.7931 73.5455 22.9389 72.3881 Q24.0906 71.2249 24.3857 70.8892 Q24.947 70.2584 25.1669 69.8244 Q25.3926 69.3846 25.3926 68.9622 Q25.3926 68.2735 24.9065 67.8395 Q24.4262 67.4055 23.6508 67.4055 Q23.101 67.4055 22.4876 67.5964 Q21.8799 67.7874 21.1855 68.1751 L21.1855 66.9946 Q21.8915 66.711 22.5049 66.5663 Q23.1183 66.4217 23.6276 66.4217 Q24.9702 66.4217 25.7688 67.093 Q26.5674 67.7642 26.5674 68.8869 Q26.5674 69.4193 26.3649 69.8997 Q26.1681 70.3742 25.6415 71.0223 Q25.4968 71.1902 24.7213 71.9946 Q23.9459 72.7932 22.5339 74.2341 Z\" fill=\"#000000\" fill-rule=\"evenodd\" fill-opacity=\"1\" /><circle clip-path=\"url(#clip862)\" cx=\"279.317\" cy=\"191.108\" r=\"3\" fill=\"#009af9\" fill-rule=\"evenodd\" fill-opacity=\"1\" stroke=\"#000000\" stroke-opacity=\"1\" stroke-width=\"0.8\"/>\n",
       "<circle clip-path=\"url(#clip862)\" cx=\"357.893\" cy=\"114.496\" r=\"3\" fill=\"#009af9\" fill-rule=\"evenodd\" fill-opacity=\"1\" stroke=\"#000000\" stroke-opacity=\"1\" stroke-width=\"0.8\"/>\n",
       "<circle clip-path=\"url(#clip862)\" cx=\"344.048\" cy=\"110.791\" r=\"3\" fill=\"#009af9\" fill-rule=\"evenodd\" fill-opacity=\"1\" stroke=\"#000000\" stroke-opacity=\"1\" stroke-width=\"0.8\"/>\n",
       "<circle clip-path=\"url(#clip862)\" cx=\"385.872\" cy=\"251.107\" r=\"3\" fill=\"#009af9\" fill-rule=\"evenodd\" fill-opacity=\"1\" stroke=\"#000000\" stroke-opacity=\"1\" stroke-width=\"0.8\"/>\n",
       "<circle clip-path=\"url(#clip862)\" cx=\"324.436\" cy=\"147.998\" r=\"3\" fill=\"#009af9\" fill-rule=\"evenodd\" fill-opacity=\"1\" stroke=\"#000000\" stroke-opacity=\"1\" stroke-width=\"0.8\"/>\n",
       "<circle clip-path=\"url(#clip862)\" cx=\"258.976\" cy=\"259.636\" r=\"3\" fill=\"#009af9\" fill-rule=\"evenodd\" fill-opacity=\"1\" stroke=\"#000000\" stroke-opacity=\"1\" stroke-width=\"0.8\"/>\n",
       "<circle clip-path=\"url(#clip862)\" cx=\"400.574\" cy=\"107.396\" r=\"3\" fill=\"#009af9\" fill-rule=\"evenodd\" fill-opacity=\"1\" stroke=\"#000000\" stroke-opacity=\"1\" stroke-width=\"0.8\"/>\n",
       "<circle clip-path=\"url(#clip862)\" cx=\"430.761\" cy=\"295.175\" r=\"3\" fill=\"#009af9\" fill-rule=\"evenodd\" fill-opacity=\"1\" stroke=\"#000000\" stroke-opacity=\"1\" stroke-width=\"0.8\"/>\n",
       "<circle clip-path=\"url(#clip862)\" cx=\"295.992\" cy=\"158.117\" r=\"3\" fill=\"#009af9\" fill-rule=\"evenodd\" fill-opacity=\"1\" stroke=\"#000000\" stroke-opacity=\"1\" stroke-width=\"0.8\"/>\n",
       "<circle clip-path=\"url(#clip862)\" cx=\"399.669\" cy=\"184.736\" r=\"3\" fill=\"#009af9\" fill-rule=\"evenodd\" fill-opacity=\"1\" stroke=\"#000000\" stroke-opacity=\"1\" stroke-width=\"0.8\"/>\n",
       "<circle clip-path=\"url(#clip862)\" cx=\"422.849\" cy=\"176.044\" r=\"3\" fill=\"#009af9\" fill-rule=\"evenodd\" fill-opacity=\"1\" stroke=\"#000000\" stroke-opacity=\"1\" stroke-width=\"0.8\"/>\n",
       "<circle clip-path=\"url(#clip862)\" cx=\"360.74\" cy=\"166.86\" r=\"3\" fill=\"#009af9\" fill-rule=\"evenodd\" fill-opacity=\"1\" stroke=\"#000000\" stroke-opacity=\"1\" stroke-width=\"0.8\"/>\n",
       "<circle clip-path=\"url(#clip862)\" cx=\"466.325\" cy=\"143.762\" r=\"3\" fill=\"#009af9\" fill-rule=\"evenodd\" fill-opacity=\"1\" stroke=\"#000000\" stroke-opacity=\"1\" stroke-width=\"0.8\"/>\n",
       "<circle clip-path=\"url(#clip862)\" cx=\"471.706\" cy=\"143.6\" r=\"3\" fill=\"#009af9\" fill-rule=\"evenodd\" fill-opacity=\"1\" stroke=\"#000000\" stroke-opacity=\"1\" stroke-width=\"0.8\"/>\n",
       "<circle clip-path=\"url(#clip862)\" cx=\"301.886\" cy=\"108.819\" r=\"3\" fill=\"#009af9\" fill-rule=\"evenodd\" fill-opacity=\"1\" stroke=\"#000000\" stroke-opacity=\"1\" stroke-width=\"0.8\"/>\n",
       "<circle clip-path=\"url(#clip862)\" cx=\"294.32\" cy=\"76.5451\" r=\"3\" fill=\"#009af9\" fill-rule=\"evenodd\" fill-opacity=\"1\" stroke=\"#000000\" stroke-opacity=\"1\" stroke-width=\"0.8\"/>\n",
       "<circle clip-path=\"url(#clip862)\" cx=\"206.961\" cy=\"213.809\" r=\"3\" fill=\"#009af9\" fill-rule=\"evenodd\" fill-opacity=\"1\" stroke=\"#000000\" stroke-opacity=\"1\" stroke-width=\"0.8\"/>\n",
       "<circle clip-path=\"url(#clip862)\" cx=\"404.894\" cy=\"212.41\" r=\"3\" fill=\"#009af9\" fill-rule=\"evenodd\" fill-opacity=\"1\" stroke=\"#000000\" stroke-opacity=\"1\" stroke-width=\"0.8\"/>\n",
       "<circle clip-path=\"url(#clip862)\" cx=\"410.919\" cy=\"256.981\" r=\"3\" fill=\"#009af9\" fill-rule=\"evenodd\" fill-opacity=\"1\" stroke=\"#000000\" stroke-opacity=\"1\" stroke-width=\"0.8\"/>\n",
       "<circle clip-path=\"url(#clip862)\" cx=\"369.495\" cy=\"41.2786\" r=\"3\" fill=\"#009af9\" fill-rule=\"evenodd\" fill-opacity=\"1\" stroke=\"#000000\" stroke-opacity=\"1\" stroke-width=\"0.8\"/>\n",
       "<circle clip-path=\"url(#clip862)\" cx=\"109.414\" cy=\"256.19\" r=\"3\" fill=\"#009af9\" fill-rule=\"evenodd\" fill-opacity=\"1\" stroke=\"#000000\" stroke-opacity=\"1\" stroke-width=\"0.8\"/>\n",
       "<circle clip-path=\"url(#clip862)\" cx=\"151.811\" cy=\"338.543\" r=\"3\" fill=\"#009af9\" fill-rule=\"evenodd\" fill-opacity=\"1\" stroke=\"#000000\" stroke-opacity=\"1\" stroke-width=\"0.8\"/>\n",
       "<circle clip-path=\"url(#clip862)\" cx=\"160.343\" cy=\"175.985\" r=\"3\" fill=\"#009af9\" fill-rule=\"evenodd\" fill-opacity=\"1\" stroke=\"#000000\" stroke-opacity=\"1\" stroke-width=\"0.8\"/>\n",
       "<circle clip-path=\"url(#clip862)\" cx=\"308.782\" cy=\"237.455\" r=\"3\" fill=\"#009af9\" fill-rule=\"evenodd\" fill-opacity=\"1\" stroke=\"#000000\" stroke-opacity=\"1\" stroke-width=\"0.8\"/>\n",
       "<circle clip-path=\"url(#clip862)\" cx=\"266.372\" cy=\"281.82\" r=\"3\" fill=\"#009af9\" fill-rule=\"evenodd\" fill-opacity=\"1\" stroke=\"#000000\" stroke-opacity=\"1\" stroke-width=\"0.8\"/>\n",
       "<circle clip-path=\"url(#clip862)\" cx=\"525.826\" cy=\"222.243\" r=\"3\" fill=\"#009af9\" fill-rule=\"evenodd\" fill-opacity=\"1\" stroke=\"#000000\" stroke-opacity=\"1\" stroke-width=\"0.8\"/>\n",
       "<circle clip-path=\"url(#clip862)\" cx=\"510.684\" cy=\"146.883\" r=\"3\" fill=\"#009af9\" fill-rule=\"evenodd\" fill-opacity=\"1\" stroke=\"#000000\" stroke-opacity=\"1\" stroke-width=\"0.8\"/>\n",
       "<circle clip-path=\"url(#clip862)\" cx=\"291.902\" cy=\"253.834\" r=\"3\" fill=\"#009af9\" fill-rule=\"evenodd\" fill-opacity=\"1\" stroke=\"#000000\" stroke-opacity=\"1\" stroke-width=\"0.8\"/>\n",
       "<circle clip-path=\"url(#clip862)\" cx=\"232.751\" cy=\"147.852\" r=\"3\" fill=\"#009af9\" fill-rule=\"evenodd\" fill-opacity=\"1\" stroke=\"#000000\" stroke-opacity=\"1\" stroke-width=\"0.8\"/>\n",
       "<circle clip-path=\"url(#clip862)\" cx=\"292.815\" cy=\"295.517\" r=\"3\" fill=\"#009af9\" fill-rule=\"evenodd\" fill-opacity=\"1\" stroke=\"#000000\" stroke-opacity=\"1\" stroke-width=\"0.8\"/>\n",
       "<circle clip-path=\"url(#clip862)\" cx=\"122.459\" cy=\"204.083\" r=\"3\" fill=\"#009af9\" fill-rule=\"evenodd\" fill-opacity=\"1\" stroke=\"#000000\" stroke-opacity=\"1\" stroke-width=\"0.8\"/>\n",
       "<circle clip-path=\"url(#clip862)\" cx=\"572.55\" cy=\"39.9355\" r=\"3\" fill=\"#009af9\" fill-rule=\"evenodd\" fill-opacity=\"1\" stroke=\"#000000\" stroke-opacity=\"1\" stroke-width=\"0.8\"/>\n",
       "<circle clip-path=\"url(#clip862)\" cx=\"432.965\" cy=\"174.97\" r=\"3\" fill=\"#009af9\" fill-rule=\"evenodd\" fill-opacity=\"1\" stroke=\"#000000\" stroke-opacity=\"1\" stroke-width=\"0.8\"/>\n",
       "<circle clip-path=\"url(#clip862)\" cx=\"239.033\" cy=\"278.842\" r=\"3\" fill=\"#009af9\" fill-rule=\"evenodd\" fill-opacity=\"1\" stroke=\"#000000\" stroke-opacity=\"1\" stroke-width=\"0.8\"/>\n",
       "<circle clip-path=\"url(#clip862)\" cx=\"336.515\" cy=\"207.462\" r=\"3\" fill=\"#009af9\" fill-rule=\"evenodd\" fill-opacity=\"1\" stroke=\"#000000\" stroke-opacity=\"1\" stroke-width=\"0.8\"/>\n",
       "<circle clip-path=\"url(#clip862)\" cx=\"378.318\" cy=\"148.136\" r=\"3\" fill=\"#009af9\" fill-rule=\"evenodd\" fill-opacity=\"1\" stroke=\"#000000\" stroke-opacity=\"1\" stroke-width=\"0.8\"/>\n",
       "<circle clip-path=\"url(#clip862)\" cx=\"335.313\" cy=\"42.0693\" r=\"3\" fill=\"#009af9\" fill-rule=\"evenodd\" fill-opacity=\"1\" stroke=\"#000000\" stroke-opacity=\"1\" stroke-width=\"0.8\"/>\n",
       "<circle clip-path=\"url(#clip862)\" cx=\"301.222\" cy=\"189.794\" r=\"3\" fill=\"#009af9\" fill-rule=\"evenodd\" fill-opacity=\"1\" stroke=\"#000000\" stroke-opacity=\"1\" stroke-width=\"0.8\"/>\n",
       "<circle clip-path=\"url(#clip862)\" cx=\"341.513\" cy=\"176.228\" r=\"3\" fill=\"#009af9\" fill-rule=\"evenodd\" fill-opacity=\"1\" stroke=\"#000000\" stroke-opacity=\"1\" stroke-width=\"0.8\"/>\n",
       "<circle clip-path=\"url(#clip862)\" cx=\"458.469\" cy=\"297.308\" r=\"3\" fill=\"#009af9\" fill-rule=\"evenodd\" fill-opacity=\"1\" stroke=\"#000000\" stroke-opacity=\"1\" stroke-width=\"0.8\"/>\n",
       "<circle clip-path=\"url(#clip862)\" cx=\"331.986\" cy=\"270.535\" r=\"3\" fill=\"#009af9\" fill-rule=\"evenodd\" fill-opacity=\"1\" stroke=\"#000000\" stroke-opacity=\"1\" stroke-width=\"0.8\"/>\n",
       "<circle clip-path=\"url(#clip862)\" cx=\"348.23\" cy=\"285.393\" r=\"3\" fill=\"#009af9\" fill-rule=\"evenodd\" fill-opacity=\"1\" stroke=\"#000000\" stroke-opacity=\"1\" stroke-width=\"0.8\"/>\n",
       "<circle clip-path=\"url(#clip862)\" cx=\"296.41\" cy=\"231.742\" r=\"3\" fill=\"#009af9\" fill-rule=\"evenodd\" fill-opacity=\"1\" stroke=\"#000000\" stroke-opacity=\"1\" stroke-width=\"0.8\"/>\n",
       "<circle clip-path=\"url(#clip862)\" cx=\"198.451\" cy=\"46.5302\" r=\"3\" fill=\"#009af9\" fill-rule=\"evenodd\" fill-opacity=\"1\" stroke=\"#000000\" stroke-opacity=\"1\" stroke-width=\"0.8\"/>\n",
       "<circle clip-path=\"url(#clip862)\" cx=\"545.27\" cy=\"183.814\" r=\"3\" fill=\"#009af9\" fill-rule=\"evenodd\" fill-opacity=\"1\" stroke=\"#000000\" stroke-opacity=\"1\" stroke-width=\"0.8\"/>\n",
       "<circle clip-path=\"url(#clip862)\" cx=\"345.175\" cy=\"151.037\" r=\"3\" fill=\"#009af9\" fill-rule=\"evenodd\" fill-opacity=\"1\" stroke=\"#000000\" stroke-opacity=\"1\" stroke-width=\"0.8\"/>\n",
       "<circle clip-path=\"url(#clip862)\" cx=\"439.47\" cy=\"257.822\" r=\"3\" fill=\"#009af9\" fill-rule=\"evenodd\" fill-opacity=\"1\" stroke=\"#000000\" stroke-opacity=\"1\" stroke-width=\"0.8\"/>\n",
       "<circle clip-path=\"url(#clip862)\" cx=\"79.443\" cy=\"151.658\" r=\"3\" fill=\"#009af9\" fill-rule=\"evenodd\" fill-opacity=\"1\" stroke=\"#000000\" stroke-opacity=\"1\" stroke-width=\"0.8\"/>\n",
       "<circle clip-path=\"url(#clip862)\" cx=\"337.384\" cy=\"267.314\" r=\"3\" fill=\"#009af9\" fill-rule=\"evenodd\" fill-opacity=\"1\" stroke=\"#000000\" stroke-opacity=\"1\" stroke-width=\"0.8\"/>\n",
       "<circle clip-path=\"url(#clip862)\" cx=\"187.362\" cy=\"133.252\" r=\"3\" fill=\"#009af9\" fill-rule=\"evenodd\" fill-opacity=\"1\" stroke=\"#000000\" stroke-opacity=\"1\" stroke-width=\"0.8\"/>\n",
       "<circle clip-path=\"url(#clip862)\" cx=\"156.158\" cy=\"361.429\" r=\"3\" fill=\"#009af9\" fill-rule=\"evenodd\" fill-opacity=\"1\" stroke=\"#000000\" stroke-opacity=\"1\" stroke-width=\"0.8\"/>\n",
       "<circle clip-path=\"url(#clip862)\" cx=\"439.244\" cy=\"148.209\" r=\"3\" fill=\"#009af9\" fill-rule=\"evenodd\" fill-opacity=\"1\" stroke=\"#000000\" stroke-opacity=\"1\" stroke-width=\"0.8\"/>\n",
       "<circle clip-path=\"url(#clip862)\" cx=\"334.196\" cy=\"245.041\" r=\"3\" fill=\"#009af9\" fill-rule=\"evenodd\" fill-opacity=\"1\" stroke=\"#000000\" stroke-opacity=\"1\" stroke-width=\"0.8\"/>\n",
       "<circle clip-path=\"url(#clip862)\" cx=\"394.482\" cy=\"21.9941\" r=\"3\" fill=\"#009af9\" fill-rule=\"evenodd\" fill-opacity=\"1\" stroke=\"#000000\" stroke-opacity=\"1\" stroke-width=\"0.8\"/>\n",
       "<circle clip-path=\"url(#clip862)\" cx=\"425.402\" cy=\"152.757\" r=\"3\" fill=\"#009af9\" fill-rule=\"evenodd\" fill-opacity=\"1\" stroke=\"#000000\" stroke-opacity=\"1\" stroke-width=\"0.8\"/>\n",
       "<circle clip-path=\"url(#clip862)\" cx=\"248.661\" cy=\"147.009\" r=\"3\" fill=\"#009af9\" fill-rule=\"evenodd\" fill-opacity=\"1\" stroke=\"#000000\" stroke-opacity=\"1\" stroke-width=\"0.8\"/>\n",
       "<circle clip-path=\"url(#clip862)\" cx=\"192.184\" cy=\"348.304\" r=\"3\" fill=\"#009af9\" fill-rule=\"evenodd\" fill-opacity=\"1\" stroke=\"#000000\" stroke-opacity=\"1\" stroke-width=\"0.8\"/>\n",
       "<circle clip-path=\"url(#clip862)\" cx=\"318.623\" cy=\"187.864\" r=\"3\" fill=\"#009af9\" fill-rule=\"evenodd\" fill-opacity=\"1\" stroke=\"#000000\" stroke-opacity=\"1\" stroke-width=\"0.8\"/>\n",
       "<circle clip-path=\"url(#clip862)\" cx=\"324.558\" cy=\"223.921\" r=\"3\" fill=\"#009af9\" fill-rule=\"evenodd\" fill-opacity=\"1\" stroke=\"#000000\" stroke-opacity=\"1\" stroke-width=\"0.8\"/>\n",
       "<circle clip-path=\"url(#clip862)\" cx=\"318.176\" cy=\"209.195\" r=\"3\" fill=\"#009af9\" fill-rule=\"evenodd\" fill-opacity=\"1\" stroke=\"#000000\" stroke-opacity=\"1\" stroke-width=\"0.8\"/>\n",
       "<circle clip-path=\"url(#clip862)\" cx=\"299.902\" cy=\"287.451\" r=\"3\" fill=\"#009af9\" fill-rule=\"evenodd\" fill-opacity=\"1\" stroke=\"#000000\" stroke-opacity=\"1\" stroke-width=\"0.8\"/>\n",
       "<circle clip-path=\"url(#clip862)\" cx=\"327.082\" cy=\"244.15\" r=\"3\" fill=\"#009af9\" fill-rule=\"evenodd\" fill-opacity=\"1\" stroke=\"#000000\" stroke-opacity=\"1\" stroke-width=\"0.8\"/>\n",
       "<circle clip-path=\"url(#clip862)\" cx=\"380.452\" cy=\"139.728\" r=\"3\" fill=\"#009af9\" fill-rule=\"evenodd\" fill-opacity=\"1\" stroke=\"#000000\" stroke-opacity=\"1\" stroke-width=\"0.8\"/>\n",
       "<circle clip-path=\"url(#clip862)\" cx=\"308.035\" cy=\"288.836\" r=\"3\" fill=\"#009af9\" fill-rule=\"evenodd\" fill-opacity=\"1\" stroke=\"#000000\" stroke-opacity=\"1\" stroke-width=\"0.8\"/>\n",
       "<circle clip-path=\"url(#clip862)\" cx=\"379.411\" cy=\"124\" r=\"3\" fill=\"#009af9\" fill-rule=\"evenodd\" fill-opacity=\"1\" stroke=\"#000000\" stroke-opacity=\"1\" stroke-width=\"0.8\"/>\n",
       "<circle clip-path=\"url(#clip862)\" cx=\"269.178\" cy=\"304.763\" r=\"3\" fill=\"#009af9\" fill-rule=\"evenodd\" fill-opacity=\"1\" stroke=\"#000000\" stroke-opacity=\"1\" stroke-width=\"0.8\"/>\n",
       "<circle clip-path=\"url(#clip862)\" cx=\"467.202\" cy=\"85.1299\" r=\"3\" fill=\"#009af9\" fill-rule=\"evenodd\" fill-opacity=\"1\" stroke=\"#000000\" stroke-opacity=\"1\" stroke-width=\"0.8\"/>\n",
       "<circle clip-path=\"url(#clip862)\" cx=\"360.47\" cy=\"168.615\" r=\"3\" fill=\"#009af9\" fill-rule=\"evenodd\" fill-opacity=\"1\" stroke=\"#000000\" stroke-opacity=\"1\" stroke-width=\"0.8\"/>\n",
       "<circle clip-path=\"url(#clip862)\" cx=\"253.646\" cy=\"208.823\" r=\"3\" fill=\"#009af9\" fill-rule=\"evenodd\" fill-opacity=\"1\" stroke=\"#000000\" stroke-opacity=\"1\" stroke-width=\"0.8\"/>\n",
       "<circle clip-path=\"url(#clip862)\" cx=\"79.6276\" cy=\"161.229\" r=\"3\" fill=\"#009af9\" fill-rule=\"evenodd\" fill-opacity=\"1\" stroke=\"#000000\" stroke-opacity=\"1\" stroke-width=\"0.8\"/>\n",
       "<circle clip-path=\"url(#clip862)\" cx=\"502.317\" cy=\"112.704\" r=\"3\" fill=\"#009af9\" fill-rule=\"evenodd\" fill-opacity=\"1\" stroke=\"#000000\" stroke-opacity=\"1\" stroke-width=\"0.8\"/>\n",
       "<circle clip-path=\"url(#clip862)\" cx=\"244.122\" cy=\"210.438\" r=\"3\" fill=\"#009af9\" fill-rule=\"evenodd\" fill-opacity=\"1\" stroke=\"#000000\" stroke-opacity=\"1\" stroke-width=\"0.8\"/>\n",
       "<circle clip-path=\"url(#clip862)\" cx=\"386.181\" cy=\"41.0563\" r=\"3\" fill=\"#009af9\" fill-rule=\"evenodd\" fill-opacity=\"1\" stroke=\"#000000\" stroke-opacity=\"1\" stroke-width=\"0.8\"/>\n",
       "<circle clip-path=\"url(#clip862)\" cx=\"181.356\" cy=\"278.554\" r=\"3\" fill=\"#009af9\" fill-rule=\"evenodd\" fill-opacity=\"1\" stroke=\"#000000\" stroke-opacity=\"1\" stroke-width=\"0.8\"/>\n",
       "<circle clip-path=\"url(#clip862)\" cx=\"356.128\" cy=\"221.143\" r=\"3\" fill=\"#009af9\" fill-rule=\"evenodd\" fill-opacity=\"1\" stroke=\"#000000\" stroke-opacity=\"1\" stroke-width=\"0.8\"/>\n",
       "<circle clip-path=\"url(#clip862)\" cx=\"296.852\" cy=\"166.517\" r=\"3\" fill=\"#009af9\" fill-rule=\"evenodd\" fill-opacity=\"1\" stroke=\"#000000\" stroke-opacity=\"1\" stroke-width=\"0.8\"/>\n",
       "<circle clip-path=\"url(#clip862)\" cx=\"320.207\" cy=\"265.567\" r=\"3\" fill=\"#009af9\" fill-rule=\"evenodd\" fill-opacity=\"1\" stroke=\"#000000\" stroke-opacity=\"1\" stroke-width=\"0.8\"/>\n",
       "<circle clip-path=\"url(#clip862)\" cx=\"420.039\" cy=\"124.508\" r=\"3\" fill=\"#009af9\" fill-rule=\"evenodd\" fill-opacity=\"1\" stroke=\"#000000\" stroke-opacity=\"1\" stroke-width=\"0.8\"/>\n",
       "<circle clip-path=\"url(#clip862)\" cx=\"460.588\" cy=\"277.568\" r=\"3\" fill=\"#009af9\" fill-rule=\"evenodd\" fill-opacity=\"1\" stroke=\"#000000\" stroke-opacity=\"1\" stroke-width=\"0.8\"/>\n",
       "<circle clip-path=\"url(#clip862)\" cx=\"172.195\" cy=\"180.878\" r=\"3\" fill=\"#009af9\" fill-rule=\"evenodd\" fill-opacity=\"1\" stroke=\"#000000\" stroke-opacity=\"1\" stroke-width=\"0.8\"/>\n",
       "<circle clip-path=\"url(#clip862)\" cx=\"272.35\" cy=\"217.943\" r=\"3\" fill=\"#009af9\" fill-rule=\"evenodd\" fill-opacity=\"1\" stroke=\"#000000\" stroke-opacity=\"1\" stroke-width=\"0.8\"/>\n",
       "<circle clip-path=\"url(#clip862)\" cx=\"490.226\" cy=\"220.246\" r=\"3\" fill=\"#009af9\" fill-rule=\"evenodd\" fill-opacity=\"1\" stroke=\"#000000\" stroke-opacity=\"1\" stroke-width=\"0.8\"/>\n",
       "<circle clip-path=\"url(#clip862)\" cx=\"410.592\" cy=\"178.805\" r=\"3\" fill=\"#009af9\" fill-rule=\"evenodd\" fill-opacity=\"1\" stroke=\"#000000\" stroke-opacity=\"1\" stroke-width=\"0.8\"/>\n",
       "<circle clip-path=\"url(#clip862)\" cx=\"51.2526\" cy=\"141.749\" r=\"3\" fill=\"#009af9\" fill-rule=\"evenodd\" fill-opacity=\"1\" stroke=\"#000000\" stroke-opacity=\"1\" stroke-width=\"0.8\"/>\n",
       "<circle clip-path=\"url(#clip862)\" cx=\"447.533\" cy=\"201.473\" r=\"3\" fill=\"#009af9\" fill-rule=\"evenodd\" fill-opacity=\"1\" stroke=\"#000000\" stroke-opacity=\"1\" stroke-width=\"0.8\"/>\n",
       "<circle clip-path=\"url(#clip862)\" cx=\"344.089\" cy=\"240.434\" r=\"3\" fill=\"#009af9\" fill-rule=\"evenodd\" fill-opacity=\"1\" stroke=\"#000000\" stroke-opacity=\"1\" stroke-width=\"0.8\"/>\n",
       "<circle clip-path=\"url(#clip862)\" cx=\"329.65\" cy=\"115.249\" r=\"3\" fill=\"#009af9\" fill-rule=\"evenodd\" fill-opacity=\"1\" stroke=\"#000000\" stroke-opacity=\"1\" stroke-width=\"0.8\"/>\n",
       "<circle clip-path=\"url(#clip862)\" cx=\"333.32\" cy=\"273.834\" r=\"3\" fill=\"#009af9\" fill-rule=\"evenodd\" fill-opacity=\"1\" stroke=\"#000000\" stroke-opacity=\"1\" stroke-width=\"0.8\"/>\n",
       "<circle clip-path=\"url(#clip862)\" cx=\"219.246\" cy=\"175.997\" r=\"3\" fill=\"#009af9\" fill-rule=\"evenodd\" fill-opacity=\"1\" stroke=\"#000000\" stroke-opacity=\"1\" stroke-width=\"0.8\"/>\n",
       "<circle clip-path=\"url(#clip862)\" cx=\"425.896\" cy=\"175.038\" r=\"3\" fill=\"#009af9\" fill-rule=\"evenodd\" fill-opacity=\"1\" stroke=\"#000000\" stroke-opacity=\"1\" stroke-width=\"0.8\"/>\n",
       "<circle clip-path=\"url(#clip862)\" cx=\"564.831\" cy=\"325.116\" r=\"3\" fill=\"#009af9\" fill-rule=\"evenodd\" fill-opacity=\"1\" stroke=\"#000000\" stroke-opacity=\"1\" stroke-width=\"0.8\"/>\n",
       "<circle clip-path=\"url(#clip862)\" cx=\"297.579\" cy=\"178.711\" r=\"3\" fill=\"#009af9\" fill-rule=\"evenodd\" fill-opacity=\"1\" stroke=\"#000000\" stroke-opacity=\"1\" stroke-width=\"0.8\"/>\n",
       "<circle clip-path=\"url(#clip862)\" cx=\"333.673\" cy=\"188.902\" r=\"3\" fill=\"#009af9\" fill-rule=\"evenodd\" fill-opacity=\"1\" stroke=\"#000000\" stroke-opacity=\"1\" stroke-width=\"0.8\"/>\n",
       "<circle clip-path=\"url(#clip862)\" cx=\"447.208\" cy=\"291.283\" r=\"3\" fill=\"#009af9\" fill-rule=\"evenodd\" fill-opacity=\"1\" stroke=\"#000000\" stroke-opacity=\"1\" stroke-width=\"0.8\"/>\n",
       "<circle clip-path=\"url(#clip862)\" cx=\"403.399\" cy=\"142.635\" r=\"3\" fill=\"#009af9\" fill-rule=\"evenodd\" fill-opacity=\"1\" stroke=\"#000000\" stroke-opacity=\"1\" stroke-width=\"0.8\"/>\n",
       "<circle clip-path=\"url(#clip862)\" cx=\"259.365\" cy=\"305.733\" r=\"3\" fill=\"#009af9\" fill-rule=\"evenodd\" fill-opacity=\"1\" stroke=\"#000000\" stroke-opacity=\"1\" stroke-width=\"0.8\"/>\n",
       "<circle clip-path=\"url(#clip862)\" cx=\"269.874\" cy=\"220.941\" r=\"3\" fill=\"#009af9\" fill-rule=\"evenodd\" fill-opacity=\"1\" stroke=\"#000000\" stroke-opacity=\"1\" stroke-width=\"0.8\"/>\n",
       "<circle clip-path=\"url(#clip862)\" cx=\"234.445\" cy=\"231.102\" r=\"3\" fill=\"#009af9\" fill-rule=\"evenodd\" fill-opacity=\"1\" stroke=\"#000000\" stroke-opacity=\"1\" stroke-width=\"0.8\"/>\n",
       "<circle clip-path=\"url(#clip862)\" cx=\"276.036\" cy=\"222.982\" r=\"3\" fill=\"#009af9\" fill-rule=\"evenodd\" fill-opacity=\"1\" stroke=\"#000000\" stroke-opacity=\"1\" stroke-width=\"0.8\"/>\n",
       "<circle clip-path=\"url(#clip862)\" cx=\"249.9\" cy=\"282.45\" r=\"3\" fill=\"#009af9\" fill-rule=\"evenodd\" fill-opacity=\"1\" stroke=\"#000000\" stroke-opacity=\"1\" stroke-width=\"0.8\"/>\n",
       "<path clip-path=\"url(#clip860)\" d=\"\n",
       "M495.618 54.0444 L569.77 54.0444 L569.77 23.8044 L495.618 23.8044  Z\n",
       "  \" fill=\"#ffffff\" fill-rule=\"evenodd\" fill-opacity=\"1\"/>\n",
       "<polyline clip-path=\"url(#clip860)\" style=\"stroke:#000000; stroke-width:1; stroke-opacity:1; fill:none\" points=\"\n",
       "  495.618,54.0444 569.77,54.0444 569.77,23.8044 495.618,23.8044 495.618,54.0444 \n",
       "  \"/>\n",
       "<circle clip-path=\"url(#clip860)\" cx=\"520.177\" cy=\"38.9244\" r=\"5\" fill=\"#009af9\" fill-rule=\"evenodd\" fill-opacity=\"1\" stroke=\"#000000\" stroke-opacity=\"1\" stroke-width=\"1.28\"/>\n",
       "<path clip-path=\"url(#clip860)\" d=\"M 0 0 M548.196 43.8462 Q547.745 45.0036 547.317 45.3566 Q546.889 45.7097 546.171 45.7097 L545.32 45.7097 L545.32 44.8185 L545.945 44.8185 Q546.385 44.8185 546.628 44.6101 Q546.871 44.4018 547.166 43.6263 L547.357 43.1402 L544.736 36.7629 L545.864 36.7629 L547.89 41.8324 L549.915 36.7629 L551.044 36.7629 L548.196 43.8462 Z\" fill=\"#000000\" fill-rule=\"evenodd\" fill-opacity=\"1\" /><path clip-path=\"url(#clip860)\" d=\"M 0 0 M552.514 42.2606 L554.423 42.2606 L554.423 35.6692 L552.346 36.0859 L552.346 35.0211 L554.412 34.6044 L555.581 34.6044 L555.581 42.2606 L557.49 42.2606 L557.49 43.2444 L552.514 43.2444 L552.514 42.2606 Z\" fill=\"#000000\" fill-rule=\"evenodd\" fill-opacity=\"1\" /></svg>\n"
      ]
     },
     "execution_count": 84,
     "metadata": {},
     "output_type": "execute_result"
    }
   ],
   "source": [
    "# Visualization \n",
    "using Plots\n",
    "x = randn(100)\n",
    "y = randn(100)\n",
    "scatter(x, y)"
   ]
  },
  {
   "cell_type": "code",
   "execution_count": 85,
   "metadata": {},
   "outputs": [
    {
     "data": {
      "image/svg+xml": [
       "<?xml version=\"1.0\" encoding=\"utf-8\"?>\n",
       "<svg xmlns=\"http://www.w3.org/2000/svg\" xmlns:xlink=\"http://www.w3.org/1999/xlink\" width=\"150\" height=\"100\" viewBox=\"0 0 600 400\">\n",
       "<defs>\n",
       "  <clipPath id=\"clip900\">\n",
       "    <rect x=\"0\" y=\"0\" width=\"600\" height=\"400\"/>\n",
       "  </clipPath>\n",
       "</defs>\n",
       "<path clip-path=\"url(#clip900)\" d=\"\n",
       "M0 400 L600 400 L600 0 L0 0  Z\n",
       "  \" fill=\"#ffffff\" fill-rule=\"evenodd\" fill-opacity=\"1\"/>\n",
       "<defs>\n",
       "  <clipPath id=\"clip901\">\n",
       "    <rect x=\"120\" y=\"0\" width=\"421\" height=\"400\"/>\n",
       "  </clipPath>\n",
       "</defs>\n",
       "<path clip-path=\"url(#clip900)\" d=\"\n",
       "M37.0836 371.612 L588.189 371.612 L588.189 11.811 L37.0836 11.811  Z\n",
       "  \" fill=\"#ffffff\" fill-rule=\"evenodd\" fill-opacity=\"1\"/>\n",
       "<defs>\n",
       "  <clipPath id=\"clip902\">\n",
       "    <rect x=\"37\" y=\"11\" width=\"552\" height=\"361\"/>\n",
       "  </clipPath>\n",
       "</defs>\n",
       "<polyline clip-path=\"url(#clip902)\" style=\"stroke:#000000; stroke-width:0.5; stroke-opacity:0.1; fill:none\" points=\"\n",
       "  37.0836,371.612 37.0836,11.811 \n",
       "  \"/>\n",
       "<polyline clip-path=\"url(#clip902)\" style=\"stroke:#000000; stroke-width:0.5; stroke-opacity:0.1; fill:none\" points=\"\n",
       "  147.305,371.612 147.305,11.811 \n",
       "  \"/>\n",
       "<polyline clip-path=\"url(#clip902)\" style=\"stroke:#000000; stroke-width:0.5; stroke-opacity:0.1; fill:none\" points=\"\n",
       "  257.526,371.612 257.526,11.811 \n",
       "  \"/>\n",
       "<polyline clip-path=\"url(#clip902)\" style=\"stroke:#000000; stroke-width:0.5; stroke-opacity:0.1; fill:none\" points=\"\n",
       "  367.747,371.612 367.747,11.811 \n",
       "  \"/>\n",
       "<polyline clip-path=\"url(#clip902)\" style=\"stroke:#000000; stroke-width:0.5; stroke-opacity:0.1; fill:none\" points=\"\n",
       "  477.968,371.612 477.968,11.811 \n",
       "  \"/>\n",
       "<polyline clip-path=\"url(#clip902)\" style=\"stroke:#000000; stroke-width:0.5; stroke-opacity:0.1; fill:none\" points=\"\n",
       "  588.189,371.612 588.189,11.811 \n",
       "  \"/>\n",
       "<polyline clip-path=\"url(#clip900)\" style=\"stroke:#000000; stroke-width:1; stroke-opacity:1; fill:none\" points=\"\n",
       "  37.0836,371.612 588.189,371.612 \n",
       "  \"/>\n",
       "<polyline clip-path=\"url(#clip900)\" style=\"stroke:#000000; stroke-width:1; stroke-opacity:1; fill:none\" points=\"\n",
       "  37.0836,371.612 37.0836,367.294 \n",
       "  \"/>\n",
       "<polyline clip-path=\"url(#clip900)\" style=\"stroke:#000000; stroke-width:1; stroke-opacity:1; fill:none\" points=\"\n",
       "  147.305,371.612 147.305,367.294 \n",
       "  \"/>\n",
       "<polyline clip-path=\"url(#clip900)\" style=\"stroke:#000000; stroke-width:1; stroke-opacity:1; fill:none\" points=\"\n",
       "  257.526,371.612 257.526,367.294 \n",
       "  \"/>\n",
       "<polyline clip-path=\"url(#clip900)\" style=\"stroke:#000000; stroke-width:1; stroke-opacity:1; fill:none\" points=\"\n",
       "  367.747,371.612 367.747,367.294 \n",
       "  \"/>\n",
       "<polyline clip-path=\"url(#clip900)\" style=\"stroke:#000000; stroke-width:1; stroke-opacity:1; fill:none\" points=\"\n",
       "  477.968,371.612 477.968,367.294 \n",
       "  \"/>\n",
       "<polyline clip-path=\"url(#clip900)\" style=\"stroke:#000000; stroke-width:1; stroke-opacity:1; fill:none\" points=\"\n",
       "  588.189,371.612 588.189,367.294 \n",
       "  \"/>\n",
       "<path clip-path=\"url(#clip900)\" d=\"M 0 0 M32.4627 378.91 Q31.5599 378.91 31.1027 379.801 Q30.6513 380.686 30.6513 382.469 Q30.6513 384.245 31.1027 385.136 Q31.5599 386.022 32.4627 386.022 Q33.3712 386.022 33.8226 385.136 Q34.2798 384.245 34.2798 382.469 Q34.2798 380.686 33.8226 379.801 Q33.3712 378.91 32.4627 378.91 M32.4627 377.984 Q33.9152 377.984 34.6791 379.135 Q35.4488 380.281 35.4488 382.469 Q35.4488 384.65 34.6791 385.802 Q33.9152 386.948 32.4627 386.948 Q31.0101 386.948 30.2405 385.802 Q29.4766 384.65 29.4766 382.469 Q29.4766 380.281 30.2405 379.135 Q31.0101 377.984 32.4627 377.984 Z\" fill=\"#000000\" fill-rule=\"evenodd\" fill-opacity=\"1\" /><path clip-path=\"url(#clip900)\" d=\"M 0 0 M36.7161 385.31 L37.9372 385.31 L37.9372 386.78 L36.7161 386.78 L36.7161 385.31 Z\" fill=\"#000000\" fill-rule=\"evenodd\" fill-opacity=\"1\" /><path clip-path=\"url(#clip900)\" d=\"M 0 0 M41.7045 378.91 Q40.8017 378.91 40.3446 379.801 Q39.8932 380.686 39.8932 382.469 Q39.8932 384.245 40.3446 385.136 Q40.8017 386.022 41.7045 386.022 Q42.6131 386.022 43.0645 385.136 Q43.5216 384.245 43.5216 382.469 Q43.5216 380.686 43.0645 379.801 Q42.6131 378.91 41.7045 378.91 M41.7045 377.984 Q43.1571 377.984 43.9209 379.135 Q44.6906 380.281 44.6906 382.469 Q44.6906 384.65 43.9209 385.802 Q43.1571 386.948 41.7045 386.948 Q40.252 386.948 39.4823 385.802 Q38.7184 384.65 38.7184 382.469 Q38.7184 380.281 39.4823 379.135 Q40.252 377.984 41.7045 377.984 Z\" fill=\"#000000\" fill-rule=\"evenodd\" fill-opacity=\"1\" /><path clip-path=\"url(#clip900)\" d=\"M 0 0 M142.883 378.91 Q141.981 378.91 141.523 379.801 Q141.072 380.686 141.072 382.469 Q141.072 384.245 141.523 385.136 Q141.981 386.022 142.883 386.022 Q143.792 386.022 144.243 385.136 Q144.701 384.245 144.701 382.469 Q144.701 380.686 144.243 379.801 Q143.792 378.91 142.883 378.91 M142.883 377.984 Q144.336 377.984 145.1 379.135 Q145.869 380.281 145.869 382.469 Q145.869 384.65 145.1 385.802 Q144.336 386.948 142.883 386.948 Q141.431 386.948 140.661 385.802 Q139.897 384.65 139.897 382.469 Q139.897 380.281 140.661 379.135 Q141.431 377.984 142.883 377.984 Z\" fill=\"#000000\" fill-rule=\"evenodd\" fill-opacity=\"1\" /><path clip-path=\"url(#clip900)\" d=\"M 0 0 M147.137 385.31 L148.358 385.31 L148.358 386.78 L147.137 386.78 L147.137 385.31 Z\" fill=\"#000000\" fill-rule=\"evenodd\" fill-opacity=\"1\" /><path clip-path=\"url(#clip900)\" d=\"M 0 0 M150.632 385.796 L154.712 385.796 L154.712 386.78 L149.226 386.78 L149.226 385.796 Q149.891 385.108 151.037 383.95 Q152.189 382.787 152.484 382.451 Q153.045 381.821 153.265 381.386 Q153.491 380.947 153.491 380.524 Q153.491 379.836 153.005 379.402 Q152.525 378.968 151.749 378.968 Q151.199 378.968 150.586 379.158 Q149.978 379.349 149.284 379.737 L149.284 378.557 Q149.99 378.273 150.603 378.128 Q151.217 377.984 151.726 377.984 Q153.069 377.984 153.867 378.655 Q154.666 379.326 154.666 380.449 Q154.666 380.981 154.463 381.462 Q154.266 381.936 153.74 382.584 Q153.595 382.752 152.82 383.557 Q152.044 384.355 150.632 385.796 Z\" fill=\"#000000\" fill-rule=\"evenodd\" fill-opacity=\"1\" /><path clip-path=\"url(#clip900)\" d=\"M 0 0 M252.844 378.91 Q251.941 378.91 251.484 379.801 Q251.033 380.686 251.033 382.469 Q251.033 384.245 251.484 385.136 Q251.941 386.022 252.844 386.022 Q253.753 386.022 254.204 385.136 Q254.661 384.245 254.661 382.469 Q254.661 380.686 254.204 379.801 Q253.753 378.91 252.844 378.91 M252.844 377.984 Q254.297 377.984 255.06 379.135 Q255.83 380.281 255.83 382.469 Q255.83 384.65 255.06 385.802 Q254.297 386.948 252.844 386.948 Q251.392 386.948 250.622 385.802 Q249.858 384.65 249.858 382.469 Q249.858 380.281 250.622 379.135 Q251.392 377.984 252.844 377.984 Z\" fill=\"#000000\" fill-rule=\"evenodd\" fill-opacity=\"1\" /><path clip-path=\"url(#clip900)\" d=\"M 0 0 M257.098 385.31 L258.319 385.31 L258.319 386.78 L257.098 386.78 L257.098 385.31 Z\" fill=\"#000000\" fill-rule=\"evenodd\" fill-opacity=\"1\" /><path clip-path=\"url(#clip900)\" d=\"M 0 0 M262.798 379.158 L259.846 383.771 L262.798 383.771 L262.798 379.158 M262.491 378.14 L263.961 378.14 L263.961 383.771 L265.194 383.771 L265.194 384.743 L263.961 384.743 L263.961 386.78 L262.798 386.78 L262.798 384.743 L258.897 384.743 L258.897 383.614 L262.491 378.14 Z\" fill=\"#000000\" fill-rule=\"evenodd\" fill-opacity=\"1\" /><path clip-path=\"url(#clip900)\" d=\"M 0 0 M363.106 378.91 Q362.203 378.91 361.746 379.801 Q361.294 380.686 361.294 382.469 Q361.294 384.245 361.746 385.136 Q362.203 386.022 363.106 386.022 Q364.014 386.022 364.466 385.136 Q364.923 384.245 364.923 382.469 Q364.923 380.686 364.466 379.801 Q364.014 378.91 363.106 378.91 M363.106 377.984 Q364.558 377.984 365.322 379.135 Q366.092 380.281 366.092 382.469 Q366.092 384.65 365.322 385.802 Q364.558 386.948 363.106 386.948 Q361.653 386.948 360.883 385.802 Q360.12 384.65 360.12 382.469 Q360.12 380.281 360.883 379.135 Q361.653 377.984 363.106 377.984 Z\" fill=\"#000000\" fill-rule=\"evenodd\" fill-opacity=\"1\" /><path clip-path=\"url(#clip900)\" d=\"M 0 0 M367.359 385.31 L368.58 385.31 L368.58 386.78 L367.359 386.78 L367.359 385.31 Z\" fill=\"#000000\" fill-rule=\"evenodd\" fill-opacity=\"1\" /><path clip-path=\"url(#clip900)\" d=\"M 0 0 M372.492 381.994 Q371.705 381.994 371.242 382.532 Q370.785 383.07 370.785 384.008 Q370.785 384.94 371.242 385.484 Q371.705 386.022 372.492 386.022 Q373.279 386.022 373.736 385.484 Q374.199 384.94 374.199 384.008 Q374.199 383.07 373.736 382.532 Q373.279 381.994 372.492 381.994 M374.813 378.331 L374.813 379.396 Q374.373 379.187 373.922 379.077 Q373.476 378.968 373.036 378.968 Q371.879 378.968 371.265 379.749 Q370.658 380.53 370.571 382.11 Q370.912 381.606 371.427 381.34 Q371.942 381.068 372.562 381.068 Q373.864 381.068 374.616 381.861 Q375.374 382.648 375.374 384.008 Q375.374 385.339 374.587 386.143 Q373.8 386.948 372.492 386.948 Q370.993 386.948 370.201 385.802 Q369.408 384.65 369.408 382.469 Q369.408 380.42 370.38 379.205 Q371.352 377.984 372.99 377.984 Q373.43 377.984 373.875 378.071 Q374.327 378.157 374.813 378.331 Z\" fill=\"#000000\" fill-rule=\"evenodd\" fill-opacity=\"1\" /><path clip-path=\"url(#clip900)\" d=\"M 0 0 M473.359 378.91 Q472.456 378.91 471.999 379.801 Q471.547 380.686 471.547 382.469 Q471.547 384.245 471.999 385.136 Q472.456 386.022 473.359 386.022 Q474.267 386.022 474.718 385.136 Q475.176 384.245 475.176 382.469 Q475.176 380.686 474.718 379.801 Q474.267 378.91 473.359 378.91 M473.359 377.984 Q474.811 377.984 475.575 379.135 Q476.345 380.281 476.345 382.469 Q476.345 384.65 475.575 385.802 Q474.811 386.948 473.359 386.948 Q471.906 386.948 471.136 385.802 Q470.372 384.65 470.372 382.469 Q470.372 380.281 471.136 379.135 Q471.906 377.984 473.359 377.984 Z\" fill=\"#000000\" fill-rule=\"evenodd\" fill-opacity=\"1\" /><path clip-path=\"url(#clip900)\" d=\"M 0 0 M477.612 385.31 L478.833 385.31 L478.833 386.78 L477.612 386.78 L477.612 385.31 Z\" fill=\"#000000\" fill-rule=\"evenodd\" fill-opacity=\"1\" /><path clip-path=\"url(#clip900)\" d=\"M 0 0 M482.6 382.677 Q481.767 382.677 481.287 383.123 Q480.812 383.568 480.812 384.349 Q480.812 385.131 481.287 385.576 Q481.767 386.022 482.6 386.022 Q483.434 386.022 483.914 385.576 Q484.394 385.125 484.394 384.349 Q484.394 383.568 483.914 383.123 Q483.44 382.677 482.6 382.677 M481.431 382.179 Q480.679 381.994 480.257 381.479 Q479.84 380.964 479.84 380.223 Q479.84 379.187 480.575 378.586 Q481.316 377.984 482.6 377.984 Q483.891 377.984 484.626 378.586 Q485.361 379.187 485.361 380.223 Q485.361 380.964 484.938 381.479 Q484.522 381.994 483.775 382.179 Q484.62 382.376 485.089 382.949 Q485.563 383.522 485.563 384.349 Q485.563 385.605 484.794 386.276 Q484.03 386.948 482.6 386.948 Q481.171 386.948 480.401 386.276 Q479.637 385.605 479.637 384.349 Q479.637 383.522 480.112 382.949 Q480.587 382.376 481.431 382.179 M481.003 380.333 Q481.003 381.005 481.42 381.381 Q481.842 381.757 482.6 381.757 Q483.353 381.757 483.775 381.381 Q484.203 381.005 484.203 380.333 Q484.203 379.662 483.775 379.286 Q483.353 378.91 482.6 378.91 Q481.842 378.91 481.42 379.286 Q481.003 379.662 481.003 380.333 Z\" fill=\"#000000\" fill-rule=\"evenodd\" fill-opacity=\"1\" /><path clip-path=\"url(#clip900)\" d=\"M 0 0 M581.164 385.796 L583.073 385.796 L583.073 379.205 L580.996 379.621 L580.996 378.557 L583.062 378.14 L584.231 378.14 L584.231 385.796 L586.14 385.796 L586.14 386.78 L581.164 386.78 L581.164 385.796 Z\" fill=\"#000000\" fill-rule=\"evenodd\" fill-opacity=\"1\" /><path clip-path=\"url(#clip900)\" d=\"M 0 0 M587.408 385.31 L588.629 385.31 L588.629 386.78 L587.408 386.78 L587.408 385.31 Z\" fill=\"#000000\" fill-rule=\"evenodd\" fill-opacity=\"1\" /><path clip-path=\"url(#clip900)\" d=\"M 0 0 M592.396 378.91 Q591.493 378.91 591.036 379.801 Q590.585 380.686 590.585 382.469 Q590.585 384.245 591.036 385.136 Q591.493 386.022 592.396 386.022 Q593.305 386.022 593.756 385.136 Q594.213 384.245 594.213 382.469 Q594.213 380.686 593.756 379.801 Q593.305 378.91 592.396 378.91 M592.396 377.984 Q593.849 377.984 594.613 379.135 Q595.382 380.281 595.382 382.469 Q595.382 384.65 594.613 385.802 Q593.849 386.948 592.396 386.948 Q590.944 386.948 590.174 385.802 Q589.41 384.65 589.41 382.469 Q589.41 380.281 590.174 379.135 Q590.944 377.984 592.396 377.984 Z\" fill=\"#000000\" fill-rule=\"evenodd\" fill-opacity=\"1\" /><polyline clip-path=\"url(#clip902)\" style=\"stroke:#000000; stroke-width:0.5; stroke-opacity:0.1; fill:none\" points=\"\n",
       "  37.0836,371.612 588.189,371.612 \n",
       "  \"/>\n",
       "<polyline clip-path=\"url(#clip902)\" style=\"stroke:#000000; stroke-width:0.5; stroke-opacity:0.1; fill:none\" points=\"\n",
       "  37.0836,299.652 588.189,299.652 \n",
       "  \"/>\n",
       "<polyline clip-path=\"url(#clip902)\" style=\"stroke:#000000; stroke-width:0.5; stroke-opacity:0.1; fill:none\" points=\"\n",
       "  37.0836,227.692 588.189,227.692 \n",
       "  \"/>\n",
       "<polyline clip-path=\"url(#clip902)\" style=\"stroke:#000000; stroke-width:0.5; stroke-opacity:0.1; fill:none\" points=\"\n",
       "  37.0836,155.731 588.189,155.731 \n",
       "  \"/>\n",
       "<polyline clip-path=\"url(#clip902)\" style=\"stroke:#000000; stroke-width:0.5; stroke-opacity:0.1; fill:none\" points=\"\n",
       "  37.0836,83.7712 588.189,83.7712 \n",
       "  \"/>\n",
       "<polyline clip-path=\"url(#clip902)\" style=\"stroke:#000000; stroke-width:0.5; stroke-opacity:0.1; fill:none\" points=\"\n",
       "  37.0836,11.811 588.189,11.811 \n",
       "  \"/>\n",
       "<polyline clip-path=\"url(#clip900)\" style=\"stroke:#000000; stroke-width:1; stroke-opacity:1; fill:none\" points=\"\n",
       "  37.0836,371.612 37.0836,11.811 \n",
       "  \"/>\n",
       "<polyline clip-path=\"url(#clip900)\" style=\"stroke:#000000; stroke-width:1; stroke-opacity:1; fill:none\" points=\"\n",
       "  37.0836,371.612 43.6969,371.612 \n",
       "  \"/>\n",
       "<polyline clip-path=\"url(#clip900)\" style=\"stroke:#000000; stroke-width:1; stroke-opacity:1; fill:none\" points=\"\n",
       "  37.0836,299.652 43.6969,299.652 \n",
       "  \"/>\n",
       "<polyline clip-path=\"url(#clip900)\" style=\"stroke:#000000; stroke-width:1; stroke-opacity:1; fill:none\" points=\"\n",
       "  37.0836,227.692 43.6969,227.692 \n",
       "  \"/>\n",
       "<polyline clip-path=\"url(#clip900)\" style=\"stroke:#000000; stroke-width:1; stroke-opacity:1; fill:none\" points=\"\n",
       "  37.0836,155.731 43.6969,155.731 \n",
       "  \"/>\n",
       "<polyline clip-path=\"url(#clip900)\" style=\"stroke:#000000; stroke-width:1; stroke-opacity:1; fill:none\" points=\"\n",
       "  37.0836,83.7712 43.6969,83.7712 \n",
       "  \"/>\n",
       "<polyline clip-path=\"url(#clip900)\" style=\"stroke:#000000; stroke-width:1; stroke-opacity:1; fill:none\" points=\"\n",
       "  37.0836,11.811 43.6969,11.811 \n",
       "  \"/>\n",
       "<path clip-path=\"url(#clip900)\" d=\"M 0 0 M15.8557 368.062 Q14.9529 368.062 14.4957 368.953 Q14.0443 369.838 14.0443 371.621 Q14.0443 373.397 14.4957 374.288 Q14.9529 375.174 15.8557 375.174 Q16.7642 375.174 17.2156 374.288 Q17.6728 373.397 17.6728 371.621 Q17.6728 369.838 17.2156 368.953 Q16.7642 368.062 15.8557 368.062 M15.8557 367.136 Q17.3082 367.136 18.0721 368.287 Q18.8417 369.433 18.8417 371.621 Q18.8417 373.802 18.0721 374.954 Q17.3082 376.1 15.8557 376.1 Q14.4031 376.1 13.6334 374.954 Q12.8696 373.802 12.8696 371.621 Q12.8696 369.433 13.6334 368.287 Q14.4031 367.136 15.8557 367.136 Z\" fill=\"#000000\" fill-rule=\"evenodd\" fill-opacity=\"1\" /><path clip-path=\"url(#clip900)\" d=\"M 0 0 M20.1091 374.462 L21.3302 374.462 L21.3302 375.932 L20.1091 375.932 L20.1091 374.462 Z\" fill=\"#000000\" fill-rule=\"evenodd\" fill-opacity=\"1\" /><path clip-path=\"url(#clip900)\" d=\"M 0 0 M25.0975 368.062 Q24.1947 368.062 23.7376 368.953 Q23.2862 369.838 23.2862 371.621 Q23.2862 373.397 23.7376 374.288 Q24.1947 375.174 25.0975 375.174 Q26.0061 375.174 26.4574 374.288 Q26.9146 373.397 26.9146 371.621 Q26.9146 369.838 26.4574 368.953 Q26.0061 368.062 25.0975 368.062 M25.0975 367.136 Q26.55 367.136 27.3139 368.287 Q28.0836 369.433 28.0836 371.621 Q28.0836 373.802 27.3139 374.954 Q26.55 376.1 25.0975 376.1 Q23.645 376.1 22.8753 374.954 Q22.1114 373.802 22.1114 371.621 Q22.1114 369.433 22.8753 368.287 Q23.645 367.136 25.0975 367.136 Z\" fill=\"#000000\" fill-rule=\"evenodd\" fill-opacity=\"1\" /><path clip-path=\"url(#clip900)\" d=\"M 0 0 M16.255 296.101 Q15.3522 296.101 14.895 296.993 Q14.4436 297.878 14.4436 299.66 Q14.4436 301.437 14.895 302.328 Q15.3522 303.214 16.255 303.214 Q17.1635 303.214 17.6149 302.328 Q18.0721 301.437 18.0721 299.66 Q18.0721 297.878 17.6149 296.993 Q17.1635 296.101 16.255 296.101 M16.255 295.176 Q17.7075 295.176 18.4714 296.327 Q19.2411 297.473 19.2411 299.66 Q19.2411 301.842 18.4714 302.994 Q17.7075 304.14 16.255 304.14 Q14.8024 304.14 14.0327 302.994 Q13.2689 301.842 13.2689 299.66 Q13.2689 297.473 14.0327 296.327 Q14.8024 295.176 16.255 295.176 Z\" fill=\"#000000\" fill-rule=\"evenodd\" fill-opacity=\"1\" /><path clip-path=\"url(#clip900)\" d=\"M 0 0 M20.5084 302.502 L21.7295 302.502 L21.7295 303.972 L20.5084 303.972 L20.5084 302.502 Z\" fill=\"#000000\" fill-rule=\"evenodd\" fill-opacity=\"1\" /><path clip-path=\"url(#clip900)\" d=\"M 0 0 M24.0038 302.988 L28.0836 302.988 L28.0836 303.972 L22.5975 303.972 L22.5975 302.988 Q23.263 302.299 24.4088 301.142 Q25.5605 299.979 25.8556 299.643 Q26.4169 299.012 26.6368 298.578 Q26.8625 298.138 26.8625 297.716 Q26.8625 297.027 26.3764 296.593 Q25.8961 296.159 25.1207 296.159 Q24.5709 296.159 23.9575 296.35 Q23.3498 296.541 22.6554 296.929 L22.6554 295.748 Q23.3614 295.465 23.9748 295.32 Q24.5882 295.176 25.0975 295.176 Q26.4401 295.176 27.2387 295.847 Q28.0373 296.518 28.0373 297.641 Q28.0373 298.173 27.8348 298.654 Q27.638 299.128 27.1114 299.776 Q26.9667 299.944 26.1912 300.748 Q25.4158 301.547 24.0038 302.988 Z\" fill=\"#000000\" fill-rule=\"evenodd\" fill-opacity=\"1\" /><path clip-path=\"url(#clip900)\" d=\"M 0 0 M15.7341 224.141 Q14.8314 224.141 14.3742 225.032 Q13.9228 225.918 13.9228 227.7 Q13.9228 229.477 14.3742 230.368 Q14.8314 231.253 15.7341 231.253 Q16.6427 231.253 17.0941 230.368 Q17.5512 229.477 17.5512 227.7 Q17.5512 225.918 17.0941 225.032 Q16.6427 224.141 15.7341 224.141 M15.7341 223.215 Q17.1867 223.215 17.9505 224.367 Q18.7202 225.513 18.7202 227.7 Q18.7202 229.882 17.9505 231.034 Q17.1867 232.179 15.7341 232.179 Q14.2816 232.179 13.5119 231.034 Q12.748 229.882 12.748 227.7 Q12.748 225.513 13.5119 224.367 Q14.2816 223.215 15.7341 223.215 Z\" fill=\"#000000\" fill-rule=\"evenodd\" fill-opacity=\"1\" /><path clip-path=\"url(#clip900)\" d=\"M 0 0 M19.9876 230.542 L21.2086 230.542 L21.2086 232.012 L19.9876 232.012 L19.9876 230.542 Z\" fill=\"#000000\" fill-rule=\"evenodd\" fill-opacity=\"1\" /><path clip-path=\"url(#clip900)\" d=\"M 0 0 M25.6878 224.39 L22.7364 229.002 L25.6878 229.002 L25.6878 224.39 M25.3811 223.372 L26.851 223.372 L26.851 229.002 L28.0836 229.002 L28.0836 229.975 L26.851 229.975 L26.851 232.012 L25.6878 232.012 L25.6878 229.975 L21.7873 229.975 L21.7873 228.846 L25.3811 223.372 Z\" fill=\"#000000\" fill-rule=\"evenodd\" fill-opacity=\"1\" /><path clip-path=\"url(#clip900)\" d=\"M 0 0 M15.8151 152.181 Q14.9124 152.181 14.4552 153.072 Q14.0038 153.958 14.0038 155.74 Q14.0038 157.517 14.4552 158.408 Q14.9124 159.293 15.8151 159.293 Q16.7237 159.293 17.1751 158.408 Q17.6323 157.517 17.6323 155.74 Q17.6323 153.958 17.1751 153.072 Q16.7237 152.181 15.8151 152.181 M15.8151 151.255 Q17.2677 151.255 18.0316 152.407 Q18.8012 153.553 18.8012 155.74 Q18.8012 157.922 18.0316 159.073 Q17.2677 160.219 15.8151 160.219 Q14.3626 160.219 13.5929 159.073 Q12.829 157.922 12.829 155.74 Q12.829 153.553 13.5929 152.407 Q14.3626 151.255 15.8151 151.255 Z\" fill=\"#000000\" fill-rule=\"evenodd\" fill-opacity=\"1\" /><path clip-path=\"url(#clip900)\" d=\"M 0 0 M20.0686 158.582 L21.2897 158.582 L21.2897 160.051 L20.0686 160.051 L20.0686 158.582 Z\" fill=\"#000000\" fill-rule=\"evenodd\" fill-opacity=\"1\" /><path clip-path=\"url(#clip900)\" d=\"M 0 0 M25.2017 155.266 Q24.4146 155.266 23.9517 155.804 Q23.4945 156.342 23.4945 157.279 Q23.4945 158.211 23.9517 158.755 Q24.4146 159.293 25.2017 159.293 Q25.9887 159.293 26.4459 158.755 Q26.9088 158.211 26.9088 157.279 Q26.9088 156.342 26.4459 155.804 Q25.9887 155.266 25.2017 155.266 M27.5223 151.602 L27.5223 152.667 Q27.0824 152.459 26.6311 152.349 Q26.1855 152.239 25.7456 152.239 Q24.5882 152.239 23.9748 153.02 Q23.3672 153.801 23.2804 155.381 Q23.6218 154.878 24.1369 154.612 Q24.6519 154.34 25.2711 154.34 Q26.5732 154.34 27.3255 155.132 Q28.0836 155.919 28.0836 157.279 Q28.0836 158.61 27.2966 159.415 Q26.5095 160.219 25.2017 160.219 Q23.7028 160.219 22.91 159.073 Q22.1172 157.922 22.1172 155.74 Q22.1172 153.691 23.0894 152.476 Q24.0616 151.255 25.6994 151.255 Q26.1392 151.255 26.5848 151.342 Q27.0361 151.429 27.5223 151.602 Z\" fill=\"#000000\" fill-rule=\"evenodd\" fill-opacity=\"1\" /><path clip-path=\"url(#clip900)\" d=\"M 0 0 M15.8788 80.2209 Q14.976 80.2209 14.5189 81.1121 Q14.0675 81.9975 14.0675 83.7799 Q14.0675 85.5565 14.5189 86.4477 Q14.976 87.3331 15.8788 87.3331 Q16.7874 87.3331 17.2387 86.4477 Q17.6959 85.5565 17.6959 83.7799 Q17.6959 81.9975 17.2387 81.1121 Q16.7874 80.2209 15.8788 80.2209 M15.8788 79.295 Q17.3313 79.295 18.0952 80.4466 Q18.8649 81.5924 18.8649 83.7799 Q18.8649 85.9616 18.0952 87.1132 Q17.3313 88.259 15.8788 88.259 Q14.4263 88.259 13.6566 87.1132 Q12.8927 85.9616 12.8927 83.7799 Q12.8927 81.5924 13.6566 80.4466 Q14.4263 79.295 15.8788 79.295 Z\" fill=\"#000000\" fill-rule=\"evenodd\" fill-opacity=\"1\" /><path clip-path=\"url(#clip900)\" d=\"M 0 0 M20.1323 86.6213 L21.3533 86.6213 L21.3533 88.0912 L20.1323 88.0912 L20.1323 86.6213 Z\" fill=\"#000000\" fill-rule=\"evenodd\" fill-opacity=\"1\" /><path clip-path=\"url(#clip900)\" d=\"M 0 0 M25.1207 83.9882 Q24.2873 83.9882 23.807 84.4338 Q23.3325 84.8794 23.3325 85.6607 Q23.3325 86.4419 23.807 86.8875 Q24.2873 87.3331 25.1207 87.3331 Q25.954 87.3331 26.4343 86.8875 Q26.9146 86.4361 26.9146 85.6607 Q26.9146 84.8794 26.4343 84.4338 Q25.9598 83.9882 25.1207 83.9882 M23.9517 83.4905 Q23.1994 83.3054 22.7769 82.7903 Q22.3602 82.2753 22.3602 81.5345 Q22.3602 80.4987 23.0952 79.8968 Q23.8359 79.295 25.1207 79.295 Q26.4112 79.295 27.1461 79.8968 Q27.8811 80.4987 27.8811 81.5345 Q27.8811 82.2753 27.4586 82.7903 Q27.0419 83.3054 26.2954 83.4905 Q27.1403 83.6873 27.6091 84.2602 Q28.0836 84.8331 28.0836 85.6607 Q28.0836 86.9165 27.3139 87.5877 Q26.55 88.259 25.1207 88.259 Q23.6913 88.259 22.9216 87.5877 Q22.1577 86.9165 22.1577 85.6607 Q22.1577 84.8331 22.6322 84.2602 Q23.1068 83.6873 23.9517 83.4905 M23.5234 81.6445 Q23.5234 82.3158 23.9401 82.6919 Q24.3626 83.0681 25.1207 83.0681 Q25.873 83.0681 26.2954 82.6919 Q26.7237 82.3158 26.7237 81.6445 Q26.7237 80.9732 26.2954 80.597 Q25.873 80.2209 25.1207 80.2209 Q24.3626 80.2209 23.9401 80.597 Q23.5234 80.9732 23.5234 81.6445 Z\" fill=\"#000000\" fill-rule=\"evenodd\" fill-opacity=\"1\" /><path clip-path=\"url(#clip900)\" d=\"M 0 0 M13.8649 15.1472 L15.7746 15.1472 L15.7746 8.55583 L13.6971 8.9725 L13.6971 7.90769 L15.7631 7.49102 L16.932 7.49102 L16.932 15.1472 L18.8417 15.1472 L18.8417 16.131 L13.8649 16.131 L13.8649 15.1472 Z\" fill=\"#000000\" fill-rule=\"evenodd\" fill-opacity=\"1\" /><path clip-path=\"url(#clip900)\" d=\"M 0 0 M20.1091 14.6611 L21.3302 14.6611 L21.3302 16.131 L20.1091 16.131 L20.1091 14.6611 Z\" fill=\"#000000\" fill-rule=\"evenodd\" fill-opacity=\"1\" /><path clip-path=\"url(#clip900)\" d=\"M 0 0 M25.0975 8.2607 Q24.1947 8.2607 23.7376 9.15189 Q23.2862 10.0373 23.2862 11.8197 Q23.2862 13.5963 23.7376 14.4875 Q24.1947 15.3729 25.0975 15.3729 Q26.0061 15.3729 26.4574 14.4875 Q26.9146 13.5963 26.9146 11.8197 Q26.9146 10.0373 26.4574 9.15189 Q26.0061 8.2607 25.0975 8.2607 M25.0975 7.33477 Q26.55 7.33477 27.3139 8.48639 Q28.0836 9.63222 28.0836 11.8197 Q28.0836 14.0014 27.3139 15.153 Q26.55 16.2988 25.0975 16.2988 Q23.645 16.2988 22.8753 15.153 Q22.1114 14.0014 22.1114 11.8197 Q22.1114 9.63222 22.8753 8.48639 Q23.645 7.33477 25.0975 7.33477 Z\" fill=\"#000000\" fill-rule=\"evenodd\" fill-opacity=\"1\" /><circle clip-path=\"url(#clip902)\" cx=\"333.036\" cy=\"234.627\" r=\"3\" fill=\"#009af9\" fill-rule=\"evenodd\" fill-opacity=\"1\" stroke=\"#000000\" stroke-opacity=\"1\" stroke-width=\"0.8\"/>\n",
       "<circle clip-path=\"url(#clip902)\" cx=\"444.128\" cy=\"190.143\" r=\"3\" fill=\"#009af9\" fill-rule=\"evenodd\" fill-opacity=\"1\" stroke=\"#000000\" stroke-opacity=\"1\" stroke-width=\"0.8\"/>\n",
       "<circle clip-path=\"url(#clip902)\" cx=\"146.468\" cy=\"143.139\" r=\"3\" fill=\"#009af9\" fill-rule=\"evenodd\" fill-opacity=\"1\" stroke=\"#000000\" stroke-opacity=\"1\" stroke-width=\"0.8\"/>\n",
       "<circle clip-path=\"url(#clip902)\" cx=\"492.605\" cy=\"184.646\" r=\"3\" fill=\"#009af9\" fill-rule=\"evenodd\" fill-opacity=\"1\" stroke=\"#000000\" stroke-opacity=\"1\" stroke-width=\"0.8\"/>\n",
       "<circle clip-path=\"url(#clip902)\" cx=\"230.713\" cy=\"47.3084\" r=\"3\" fill=\"#009af9\" fill-rule=\"evenodd\" fill-opacity=\"1\" stroke=\"#000000\" stroke-opacity=\"1\" stroke-width=\"0.8\"/>\n",
       "<circle clip-path=\"url(#clip902)\" cx=\"54.3258\" cy=\"191.082\" r=\"3\" fill=\"#009af9\" fill-rule=\"evenodd\" fill-opacity=\"1\" stroke=\"#000000\" stroke-opacity=\"1\" stroke-width=\"0.8\"/>\n",
       "<circle clip-path=\"url(#clip902)\" cx=\"71.874\" cy=\"62.1572\" r=\"3\" fill=\"#009af9\" fill-rule=\"evenodd\" fill-opacity=\"1\" stroke=\"#000000\" stroke-opacity=\"1\" stroke-width=\"0.8\"/>\n",
       "<circle clip-path=\"url(#clip902)\" cx=\"522.7\" cy=\"47.6843\" r=\"3\" fill=\"#009af9\" fill-rule=\"evenodd\" fill-opacity=\"1\" stroke=\"#000000\" stroke-opacity=\"1\" stroke-width=\"0.8\"/>\n",
       "<circle clip-path=\"url(#clip902)\" cx=\"456.361\" cy=\"70.9615\" r=\"3\" fill=\"#009af9\" fill-rule=\"evenodd\" fill-opacity=\"1\" stroke=\"#000000\" stroke-opacity=\"1\" stroke-width=\"0.8\"/>\n",
       "<circle clip-path=\"url(#clip902)\" cx=\"145.176\" cy=\"152.118\" r=\"3\" fill=\"#009af9\" fill-rule=\"evenodd\" fill-opacity=\"1\" stroke=\"#000000\" stroke-opacity=\"1\" stroke-width=\"0.8\"/>\n",
       "<circle clip-path=\"url(#clip902)\" cx=\"385.385\" cy=\"204.269\" r=\"3\" fill=\"#009af9\" fill-rule=\"evenodd\" fill-opacity=\"1\" stroke=\"#000000\" stroke-opacity=\"1\" stroke-width=\"0.8\"/>\n",
       "<circle clip-path=\"url(#clip902)\" cx=\"562.424\" cy=\"320.283\" r=\"3\" fill=\"#009af9\" fill-rule=\"evenodd\" fill-opacity=\"1\" stroke=\"#000000\" stroke-opacity=\"1\" stroke-width=\"0.8\"/>\n",
       "<circle clip-path=\"url(#clip902)\" cx=\"458.728\" cy=\"184.992\" r=\"3\" fill=\"#009af9\" fill-rule=\"evenodd\" fill-opacity=\"1\" stroke=\"#000000\" stroke-opacity=\"1\" stroke-width=\"0.8\"/>\n",
       "<circle clip-path=\"url(#clip902)\" cx=\"350.912\" cy=\"19.1574\" r=\"3\" fill=\"#009af9\" fill-rule=\"evenodd\" fill-opacity=\"1\" stroke=\"#000000\" stroke-opacity=\"1\" stroke-width=\"0.8\"/>\n",
       "<path clip-path=\"url(#clip900)\" d=\"\n",
       "M495.83 54.0444 L569.819 54.0444 L569.819 23.8044 L495.83 23.8044  Z\n",
       "  \" fill=\"#ffffff\" fill-rule=\"evenodd\" fill-opacity=\"1\"/>\n",
       "<polyline clip-path=\"url(#clip900)\" style=\"stroke:#000000; stroke-width:1; stroke-opacity:1; fill:none\" points=\"\n",
       "  495.83,54.0444 569.819,54.0444 569.819,23.8044 495.83,23.8044 495.83,54.0444 \n",
       "  \"/>\n",
       "<circle clip-path=\"url(#clip900)\" cx=\"520.324\" cy=\"38.9244\" r=\"5\" fill=\"#009af9\" fill-rule=\"evenodd\" fill-opacity=\"1\" stroke=\"#000000\" stroke-opacity=\"1\" stroke-width=\"1.28\"/>\n",
       "<path clip-path=\"url(#clip900)\" d=\"M 0 0 M548.278 43.8462 Q547.827 45.0036 547.398 45.3566 Q546.97 45.7097 546.253 45.7097 L545.402 45.7097 L545.402 44.8185 L546.027 44.8185 Q546.467 44.8185 546.71 44.6101 Q546.953 44.4018 547.248 43.6263 L547.439 43.1402 L544.817 36.7629 L545.946 36.7629 L547.971 41.8324 L549.997 36.7629 L551.125 36.7629 L548.278 43.8462 Z\" fill=\"#000000\" fill-rule=\"evenodd\" fill-opacity=\"1\" /><path clip-path=\"url(#clip900)\" d=\"M 0 0 M552.595 42.2606 L554.505 42.2606 L554.505 35.6692 L552.427 36.0859 L552.427 35.0211 L554.493 34.6044 L555.662 34.6044 L555.662 42.2606 L557.572 42.2606 L557.572 43.2444 L552.595 43.2444 L552.595 42.2606 Z\" fill=\"#000000\" fill-rule=\"evenodd\" fill-opacity=\"1\" /></svg>\n"
      ]
     },
     "execution_count": 85,
     "metadata": {},
     "output_type": "execute_result"
    }
   ],
   "source": [
    "scatter(x, y, xlims = (0,1), ylims = (0,1))  # Show only the x and y within the range"
   ]
  },
  {
   "cell_type": "code",
   "execution_count": 8,
   "metadata": {},
   "outputs": [
    {
     "data": {
      "image/svg+xml": [
       "<?xml version=\"1.0\" encoding=\"utf-8\"?>\n",
       "<svg xmlns=\"http://www.w3.org/2000/svg\" xmlns:xlink=\"http://www.w3.org/1999/xlink\" width=\"125\" height=\"125\" viewBox=\"0 0 500 500\">\n",
       "<defs>\n",
       "  <clipPath id=\"clip380\">\n",
       "    <rect x=\"0\" y=\"0\" width=\"500\" height=\"500\"/>\n",
       "  </clipPath>\n",
       "</defs>\n",
       "<path clip-path=\"url(#clip380)\" d=\"\n",
       "M0 500 L500 500 L500 0 L0 0  Z\n",
       "  \" fill=\"#ffffff\" fill-rule=\"evenodd\" fill-opacity=\"1\"/>\n",
       "<defs>\n",
       "  <clipPath id=\"clip381\">\n",
       "    <rect x=\"100\" y=\"50\" width=\"351\" height=\"351\"/>\n",
       "  </clipPath>\n",
       "</defs>\n",
       "<path clip-path=\"url(#clip380)\" d=\"\n",
       "M62.3082 444.535 L488.189 444.535 L488.189 11.811 L62.3082 11.811  Z\n",
       "  \" fill=\"#ffffff\" fill-rule=\"evenodd\" fill-opacity=\"1\"/>\n",
       "<defs>\n",
       "  <clipPath id=\"clip382\">\n",
       "    <rect x=\"62\" y=\"11\" width=\"427\" height=\"434\"/>\n",
       "  </clipPath>\n",
       "</defs>\n",
       "<polyline clip-path=\"url(#clip382)\" style=\"stroke:#000000; stroke-width:0.5; stroke-opacity:0.1; fill:none\" points=\"\n",
       "  62.3082,444.535 62.3082,11.811 \n",
       "  \"/>\n",
       "<polyline clip-path=\"url(#clip382)\" style=\"stroke:#000000; stroke-width:0.5; stroke-opacity:0.1; fill:none\" points=\"\n",
       "  168.778,444.535 168.778,11.811 \n",
       "  \"/>\n",
       "<polyline clip-path=\"url(#clip382)\" style=\"stroke:#000000; stroke-width:0.5; stroke-opacity:0.1; fill:none\" points=\"\n",
       "  275.249,444.535 275.249,11.811 \n",
       "  \"/>\n",
       "<polyline clip-path=\"url(#clip382)\" style=\"stroke:#000000; stroke-width:0.5; stroke-opacity:0.1; fill:none\" points=\"\n",
       "  381.719,444.535 381.719,11.811 \n",
       "  \"/>\n",
       "<polyline clip-path=\"url(#clip382)\" style=\"stroke:#000000; stroke-width:0.5; stroke-opacity:0.1; fill:none\" points=\"\n",
       "  488.189,444.535 488.189,11.811 \n",
       "  \"/>\n",
       "<polyline clip-path=\"url(#clip380)\" style=\"stroke:#000000; stroke-width:1; stroke-opacity:1; fill:none\" points=\"\n",
       "  62.3082,444.535 488.189,444.535 \n",
       "  \"/>\n",
       "<polyline clip-path=\"url(#clip380)\" style=\"stroke:#000000; stroke-width:1; stroke-opacity:1; fill:none\" points=\"\n",
       "  62.3082,444.535 62.3082,439.342 \n",
       "  \"/>\n",
       "<polyline clip-path=\"url(#clip380)\" style=\"stroke:#000000; stroke-width:1; stroke-opacity:1; fill:none\" points=\"\n",
       "  168.778,444.535 168.778,439.342 \n",
       "  \"/>\n",
       "<polyline clip-path=\"url(#clip380)\" style=\"stroke:#000000; stroke-width:1; stroke-opacity:1; fill:none\" points=\"\n",
       "  275.249,444.535 275.249,439.342 \n",
       "  \"/>\n",
       "<polyline clip-path=\"url(#clip380)\" style=\"stroke:#000000; stroke-width:1; stroke-opacity:1; fill:none\" points=\"\n",
       "  381.719,444.535 381.719,439.342 \n",
       "  \"/>\n",
       "<polyline clip-path=\"url(#clip380)\" style=\"stroke:#000000; stroke-width:1; stroke-opacity:1; fill:none\" points=\"\n",
       "  488.189,444.535 488.189,439.342 \n",
       "  \"/>\n",
       "<path clip-path=\"url(#clip380)\" d=\"M 0 0 M62.3082 451.033 Q61.4054 451.033 60.9482 451.924 Q60.4968 452.809 60.4968 454.592 Q60.4968 456.368 60.9482 457.259 Q61.4054 458.145 62.3082 458.145 Q63.2167 458.145 63.6681 457.259 Q64.1253 456.368 64.1253 454.592 Q64.1253 452.809 63.6681 451.924 Q63.2167 451.033 62.3082 451.033 M62.3082 450.107 Q63.7607 450.107 64.5246 451.258 Q65.2943 452.404 65.2943 454.592 Q65.2943 456.773 64.5246 457.925 Q63.7607 459.071 62.3082 459.071 Q60.8556 459.071 60.086 457.925 Q59.3221 456.773 59.3221 454.592 Q59.3221 452.404 60.086 451.258 Q60.8556 450.107 62.3082 450.107 Z\" fill=\"#000000\" fill-rule=\"evenodd\" fill-opacity=\"1\" /><path clip-path=\"url(#clip380)\" d=\"M 0 0 M160.688 457.919 L164.768 457.919 L164.768 458.903 L159.282 458.903 L159.282 457.919 Q159.947 457.231 161.093 456.073 Q162.245 454.91 162.54 454.574 Q163.101 453.943 163.321 453.509 Q163.547 453.07 163.547 452.647 Q163.547 451.959 163.061 451.525 Q162.58 451.091 161.805 451.091 Q161.255 451.091 160.642 451.281 Q160.034 451.472 159.34 451.86 L159.34 450.68 Q160.046 450.396 160.659 450.251 Q161.273 450.107 161.782 450.107 Q163.124 450.107 163.923 450.778 Q164.722 451.449 164.722 452.572 Q164.722 453.104 164.519 453.585 Q164.322 454.059 163.796 454.707 Q163.651 454.875 162.876 455.68 Q162.1 456.478 160.688 457.919 Z\" fill=\"#000000\" fill-rule=\"evenodd\" fill-opacity=\"1\" /><path clip-path=\"url(#clip380)\" d=\"M 0 0 M168.535 451.033 Q167.633 451.033 167.175 451.924 Q166.724 452.809 166.724 454.592 Q166.724 456.368 167.175 457.259 Q167.633 458.145 168.535 458.145 Q169.444 458.145 169.895 457.259 Q170.352 456.368 170.352 454.592 Q170.352 452.809 169.895 451.924 Q169.444 451.033 168.535 451.033 M168.535 450.107 Q169.988 450.107 170.752 451.258 Q171.521 452.404 171.521 454.592 Q171.521 456.773 170.752 457.925 Q169.988 459.071 168.535 459.071 Q167.083 459.071 166.313 457.925 Q165.549 456.773 165.549 454.592 Q165.549 452.404 166.313 451.258 Q167.083 450.107 168.535 450.107 Z\" fill=\"#000000\" fill-rule=\"evenodd\" fill-opacity=\"1\" /><path clip-path=\"url(#clip380)\" d=\"M 0 0 M175.289 451.033 Q174.386 451.033 173.929 451.924 Q173.477 452.809 173.477 454.592 Q173.477 456.368 173.929 457.259 Q174.386 458.145 175.289 458.145 Q176.197 458.145 176.649 457.259 Q177.106 456.368 177.106 454.592 Q177.106 452.809 176.649 451.924 Q176.197 451.033 175.289 451.033 M175.289 450.107 Q176.741 450.107 177.505 451.258 Q178.275 452.404 178.275 454.592 Q178.275 456.773 177.505 457.925 Q176.741 459.071 175.289 459.071 Q173.836 459.071 173.067 457.925 Q172.303 456.773 172.303 454.592 Q172.303 452.404 173.067 451.258 Q173.836 450.107 175.289 450.107 Z\" fill=\"#000000\" fill-rule=\"evenodd\" fill-opacity=\"1\" /><path clip-path=\"url(#clip380)\" d=\"M 0 0 M269.247 451.281 L266.296 455.894 L269.247 455.894 L269.247 451.281 M268.941 450.263 L270.411 450.263 L270.411 455.894 L271.643 455.894 L271.643 456.866 L270.411 456.866 L270.411 458.903 L269.247 458.903 L269.247 456.866 L265.347 456.866 L265.347 455.737 L268.941 450.263 Z\" fill=\"#000000\" fill-rule=\"evenodd\" fill-opacity=\"1\" /><path clip-path=\"url(#clip380)\" d=\"M 0 0 M275.411 451.033 Q274.508 451.033 274.051 451.924 Q273.599 452.809 273.599 454.592 Q273.599 456.368 274.051 457.259 Q274.508 458.145 275.411 458.145 Q276.319 458.145 276.771 457.259 Q277.228 456.368 277.228 454.592 Q277.228 452.809 276.771 451.924 Q276.319 451.033 275.411 451.033 M275.411 450.107 Q276.863 450.107 277.627 451.258 Q278.397 452.404 278.397 454.592 Q278.397 456.773 277.627 457.925 Q276.863 459.071 275.411 459.071 Q273.958 459.071 273.188 457.925 Q272.425 456.773 272.425 454.592 Q272.425 452.404 273.188 451.258 Q273.958 450.107 275.411 450.107 Z\" fill=\"#000000\" fill-rule=\"evenodd\" fill-opacity=\"1\" /><path clip-path=\"url(#clip380)\" d=\"M 0 0 M282.164 451.033 Q281.261 451.033 280.804 451.924 Q280.353 452.809 280.353 454.592 Q280.353 456.368 280.804 457.259 Q281.261 458.145 282.164 458.145 Q283.073 458.145 283.524 457.259 Q283.981 456.368 283.981 454.592 Q283.981 452.809 283.524 451.924 Q283.073 451.033 282.164 451.033 M282.164 450.107 Q283.617 450.107 284.38 451.258 Q285.15 452.404 285.15 454.592 Q285.15 456.773 284.38 457.925 Q283.617 459.071 282.164 459.071 Q280.712 459.071 279.942 457.925 Q279.178 456.773 279.178 454.592 Q279.178 452.404 279.942 451.258 Q280.712 450.107 282.164 450.107 Z\" fill=\"#000000\" fill-rule=\"evenodd\" fill-opacity=\"1\" /><path clip-path=\"url(#clip380)\" d=\"M 0 0 M375.067 454.117 Q374.28 454.117 373.817 454.655 Q373.359 455.193 373.359 456.131 Q373.359 457.063 373.817 457.607 Q374.28 458.145 375.067 458.145 Q375.854 458.145 376.311 457.607 Q376.774 457.063 376.774 456.131 Q376.774 455.193 376.311 454.655 Q375.854 454.117 375.067 454.117 M377.387 450.454 L377.387 451.519 Q376.947 451.31 376.496 451.2 Q376.05 451.091 375.611 451.091 Q374.453 451.091 373.84 451.872 Q373.232 452.653 373.145 454.233 Q373.487 453.729 374.002 453.463 Q374.517 453.191 375.136 453.191 Q376.438 453.191 377.19 453.984 Q377.949 454.771 377.949 456.131 Q377.949 457.462 377.162 458.266 Q376.374 459.071 375.067 459.071 Q373.568 459.071 372.775 457.925 Q371.982 456.773 371.982 454.592 Q371.982 452.543 372.954 451.328 Q373.927 450.107 375.564 450.107 Q376.004 450.107 376.45 450.194 Q376.901 450.28 377.387 450.454 Z\" fill=\"#000000\" fill-rule=\"evenodd\" fill-opacity=\"1\" /><path clip-path=\"url(#clip380)\" d=\"M 0 0 M381.716 451.033 Q380.813 451.033 380.356 451.924 Q379.905 452.809 379.905 454.592 Q379.905 456.368 380.356 457.259 Q380.813 458.145 381.716 458.145 Q382.624 458.145 383.076 457.259 Q383.533 456.368 383.533 454.592 Q383.533 452.809 383.076 451.924 Q382.624 451.033 381.716 451.033 M381.716 450.107 Q383.168 450.107 383.932 451.258 Q384.702 452.404 384.702 454.592 Q384.702 456.773 383.932 457.925 Q383.168 459.071 381.716 459.071 Q380.263 459.071 379.494 457.925 Q378.73 456.773 378.73 454.592 Q378.73 452.404 379.494 451.258 Q380.263 450.107 381.716 450.107 Z\" fill=\"#000000\" fill-rule=\"evenodd\" fill-opacity=\"1\" /><path clip-path=\"url(#clip380)\" d=\"M 0 0 M388.469 451.033 Q387.567 451.033 387.109 451.924 Q386.658 452.809 386.658 454.592 Q386.658 456.368 387.109 457.259 Q387.567 458.145 388.469 458.145 Q389.378 458.145 389.829 457.259 Q390.286 456.368 390.286 454.592 Q390.286 452.809 389.829 451.924 Q389.378 451.033 388.469 451.033 M388.469 450.107 Q389.922 450.107 390.686 451.258 Q391.455 452.404 391.455 454.592 Q391.455 456.773 390.686 457.925 Q389.922 459.071 388.469 459.071 Q387.017 459.071 386.247 457.925 Q385.483 456.773 385.483 454.592 Q385.483 452.404 386.247 451.258 Q387.017 450.107 388.469 450.107 Z\" fill=\"#000000\" fill-rule=\"evenodd\" fill-opacity=\"1\" /><path clip-path=\"url(#clip380)\" d=\"M 0 0 M481.436 454.8 Q480.602 454.8 480.122 455.246 Q479.647 455.691 479.647 456.472 Q479.647 457.254 480.122 457.699 Q480.602 458.145 481.436 458.145 Q482.269 458.145 482.749 457.699 Q483.23 457.248 483.23 456.472 Q483.23 455.691 482.749 455.246 Q482.275 454.8 481.436 454.8 M480.267 454.302 Q479.514 454.117 479.092 453.602 Q478.675 453.087 478.675 452.346 Q478.675 451.31 479.41 450.709 Q480.151 450.107 481.436 450.107 Q482.726 450.107 483.461 450.709 Q484.196 451.31 484.196 452.346 Q484.196 453.087 483.773 453.602 Q483.357 454.117 482.61 454.302 Q483.455 454.499 483.924 455.072 Q484.398 455.645 484.398 456.472 Q484.398 457.728 483.629 458.399 Q482.865 459.071 481.436 459.071 Q480.006 459.071 479.236 458.399 Q478.473 457.728 478.473 456.472 Q478.473 455.645 478.947 455.072 Q479.422 454.499 480.267 454.302 M479.838 452.456 Q479.838 453.128 480.255 453.504 Q480.677 453.88 481.436 453.88 Q482.188 453.88 482.61 453.504 Q483.039 453.128 483.039 452.456 Q483.039 451.785 482.61 451.409 Q482.188 451.033 481.436 451.033 Q480.677 451.033 480.255 451.409 Q479.838 451.785 479.838 452.456 Z\" fill=\"#000000\" fill-rule=\"evenodd\" fill-opacity=\"1\" /><path clip-path=\"url(#clip380)\" d=\"M 0 0 M488.166 451.033 Q487.263 451.033 486.806 451.924 Q486.354 452.809 486.354 454.592 Q486.354 456.368 486.806 457.259 Q487.263 458.145 488.166 458.145 Q489.074 458.145 489.526 457.259 Q489.983 456.368 489.983 454.592 Q489.983 452.809 489.526 451.924 Q489.074 451.033 488.166 451.033 M488.166 450.107 Q489.618 450.107 490.382 451.258 Q491.152 452.404 491.152 454.592 Q491.152 456.773 490.382 457.925 Q489.618 459.071 488.166 459.071 Q486.713 459.071 485.944 457.925 Q485.18 456.773 485.18 454.592 Q485.18 452.404 485.944 451.258 Q486.713 450.107 488.166 450.107 Z\" fill=\"#000000\" fill-rule=\"evenodd\" fill-opacity=\"1\" /><path clip-path=\"url(#clip380)\" d=\"M 0 0 M494.919 451.033 Q494.016 451.033 493.559 451.924 Q493.108 452.809 493.108 454.592 Q493.108 456.368 493.559 457.259 Q494.016 458.145 494.919 458.145 Q495.828 458.145 496.279 457.259 Q496.736 456.368 496.736 454.592 Q496.736 452.809 496.279 451.924 Q495.828 451.033 494.919 451.033 M494.919 450.107 Q496.372 450.107 497.136 451.258 Q497.905 452.404 497.905 454.592 Q497.905 456.773 497.136 457.925 Q496.372 459.071 494.919 459.071 Q493.467 459.071 492.697 457.925 Q491.933 456.773 491.933 454.592 Q491.933 452.404 492.697 451.258 Q493.467 450.107 494.919 450.107 Z\" fill=\"#000000\" fill-rule=\"evenodd\" fill-opacity=\"1\" /><path clip-path=\"url(#clip380)\" d=\"M 0 0 M237.52 468.954 L235.34 474.867 L239.708 474.867 L237.52 468.954 M236.613 467.371 L238.435 467.371 L242.963 479.251 L241.292 479.251 L240.209 476.203 L234.854 476.203 L233.772 479.251 L232.077 479.251 L236.613 467.371 Z\" fill=\"#000000\" fill-rule=\"evenodd\" fill-opacity=\"1\" /><path clip-path=\"url(#clip380)\" d=\"M 0 0 M250.625 470.681 L250.625 472.05 Q250.005 471.708 249.376 471.54 Q248.755 471.365 248.119 471.365 Q246.694 471.365 245.907 472.273 Q245.119 473.172 245.119 474.803 Q245.119 476.434 245.907 477.341 Q246.694 478.24 248.119 478.24 Q248.755 478.24 249.376 478.073 Q250.005 477.898 250.625 477.556 L250.625 478.909 Q250.013 479.195 249.352 479.338 Q248.7 479.482 247.96 479.482 Q245.946 479.482 244.761 478.217 Q243.575 476.951 243.575 474.803 Q243.575 472.623 244.769 471.373 Q245.97 470.124 248.055 470.124 Q248.731 470.124 249.376 470.267 Q250.02 470.403 250.625 470.681 Z\" fill=\"#000000\" fill-rule=\"evenodd\" fill-opacity=\"1\" /><path clip-path=\"url(#clip380)\" d=\"M 0 0 M253.609 467.809 L253.609 470.339 L256.625 470.339 L256.625 471.477 L253.609 471.477 L253.609 476.315 Q253.609 477.405 253.904 477.715 Q254.206 478.026 255.121 478.026 L256.625 478.026 L256.625 479.251 L255.121 479.251 Q253.426 479.251 252.782 478.622 Q252.137 477.986 252.137 476.315 L252.137 471.477 L251.063 471.477 L251.063 470.339 L252.137 470.339 L252.137 467.809 L253.609 467.809 Z\" fill=\"#000000\" fill-rule=\"evenodd\" fill-opacity=\"1\" /><path clip-path=\"url(#clip380)\" d=\"M 0 0 M258.009 475.734 L258.009 470.339 L259.474 470.339 L259.474 475.678 Q259.474 476.943 259.967 477.58 Q260.46 478.209 261.447 478.209 Q262.633 478.209 263.317 477.453 Q264.009 476.697 264.009 475.392 L264.009 470.339 L265.473 470.339 L265.473 479.251 L264.009 479.251 L264.009 477.882 Q263.476 478.694 262.768 479.092 Q262.068 479.482 261.137 479.482 Q259.601 479.482 258.805 478.527 Q258.009 477.572 258.009 475.734 M261.694 470.124 L261.694 470.124 Z\" fill=\"#000000\" fill-rule=\"evenodd\" fill-opacity=\"1\" /><path clip-path=\"url(#clip380)\" d=\"M 0 0 M271.059 474.771 Q269.285 474.771 268.6 475.177 Q267.916 475.583 267.916 476.561 Q267.916 477.341 268.425 477.803 Q268.943 478.256 269.826 478.256 Q271.043 478.256 271.775 477.397 Q272.515 476.53 272.515 475.097 L272.515 474.771 L271.059 474.771 M273.979 474.166 L273.979 479.251 L272.515 479.251 L272.515 477.898 Q272.014 478.71 271.266 479.1 Q270.518 479.482 269.436 479.482 Q268.067 479.482 267.256 478.718 Q266.452 477.946 266.452 476.657 Q266.452 475.153 267.455 474.389 Q268.465 473.625 270.462 473.625 L272.515 473.625 L272.515 473.482 Q272.515 472.471 271.847 471.922 Q271.186 471.365 269.985 471.365 Q269.221 471.365 268.497 471.548 Q267.773 471.731 267.104 472.097 L267.104 470.745 Q267.908 470.434 268.664 470.283 Q269.42 470.124 270.136 470.124 Q272.07 470.124 273.025 471.127 Q273.979 472.129 273.979 474.166 Z\" fill=\"#000000\" fill-rule=\"evenodd\" fill-opacity=\"1\" /><path clip-path=\"url(#clip380)\" d=\"M 0 0 M275.515 466.87 L276.979 466.87 L276.979 479.251 L275.515 479.251 L275.515 466.87 Z\" fill=\"#000000\" fill-rule=\"evenodd\" fill-opacity=\"1\" /><path clip-path=\"url(#clip380)\" d=\"M 0 0 M285.111 477.914 L285.111 482.641 L283.639 482.641 L283.639 470.339 L285.111 470.339 L285.111 471.692 Q285.573 470.896 286.273 470.514 Q286.981 470.124 287.96 470.124 Q289.583 470.124 290.594 471.413 Q291.612 472.702 291.612 474.803 Q291.612 476.904 290.594 478.193 Q289.583 479.482 287.96 479.482 Q286.981 479.482 286.273 479.1 Q285.573 478.71 285.111 477.914 M290.093 474.803 Q290.093 473.188 289.424 472.273 Q288.764 471.35 287.602 471.35 Q286.44 471.35 285.772 472.273 Q285.111 473.188 285.111 474.803 Q285.111 476.418 285.772 477.341 Q286.44 478.256 287.602 478.256 Q288.764 478.256 289.424 477.341 Q290.093 476.418 290.093 474.803 Z\" fill=\"#000000\" fill-rule=\"evenodd\" fill-opacity=\"1\" /><path clip-path=\"url(#clip380)\" d=\"M 0 0 M298.312 471.708 Q298.066 471.564 297.771 471.501 Q297.485 471.429 297.135 471.429 Q295.893 471.429 295.225 472.241 Q294.565 473.044 294.565 474.556 L294.565 479.251 L293.092 479.251 L293.092 470.339 L294.565 470.339 L294.565 471.724 Q295.026 470.912 295.766 470.522 Q296.506 470.124 297.564 470.124 Q297.716 470.124 297.899 470.148 Q298.082 470.164 298.304 470.204 L298.312 471.708 Z\" fill=\"#000000\" fill-rule=\"evenodd\" fill-opacity=\"1\" /><path clip-path=\"url(#clip380)\" d=\"M 0 0 M299.848 470.339 L301.312 470.339 L301.312 479.251 L299.848 479.251 L299.848 470.339 M299.848 466.87 L301.312 466.87 L301.312 468.724 L299.848 468.724 L299.848 466.87 Z\" fill=\"#000000\" fill-rule=\"evenodd\" fill-opacity=\"1\" /><path clip-path=\"url(#clip380)\" d=\"M 0 0 M309.261 470.681 L309.261 472.05 Q308.641 471.708 308.012 471.54 Q307.391 471.365 306.755 471.365 Q305.331 471.365 304.543 472.273 Q303.755 473.172 303.755 474.803 Q303.755 476.434 304.543 477.341 Q305.331 478.24 306.755 478.24 Q307.391 478.24 308.012 478.073 Q308.641 477.898 309.261 477.556 L309.261 478.909 Q308.649 479.195 307.988 479.338 Q307.336 479.482 306.596 479.482 Q304.583 479.482 303.397 478.217 Q302.211 476.951 302.211 474.803 Q302.211 472.623 303.405 471.373 Q304.606 470.124 306.691 470.124 Q307.368 470.124 308.012 470.267 Q308.657 470.403 309.261 470.681 Z\" fill=\"#000000\" fill-rule=\"evenodd\" fill-opacity=\"1\" /><path clip-path=\"url(#clip380)\" d=\"M 0 0 M318.42 474.429 L318.42 475.145 L311.688 475.145 Q311.784 476.657 312.595 477.453 Q313.415 478.24 314.871 478.24 Q315.715 478.24 316.502 478.034 Q317.298 477.827 318.078 477.413 L318.078 478.797 Q317.29 479.132 316.463 479.307 Q315.635 479.482 314.784 479.482 Q312.651 479.482 311.402 478.24 Q310.16 476.999 310.16 474.882 Q310.16 472.694 311.338 471.413 Q312.524 470.124 314.529 470.124 Q316.327 470.124 317.37 471.286 Q318.42 472.44 318.42 474.429 M316.956 473.999 Q316.94 472.798 316.28 472.082 Q315.627 471.365 314.545 471.365 Q313.319 471.365 312.579 472.058 Q311.847 472.75 311.736 474.007 L316.956 473.999 Z\" fill=\"#000000\" fill-rule=\"evenodd\" fill-opacity=\"1\" /><polyline clip-path=\"url(#clip382)\" style=\"stroke:#000000; stroke-width:0.5; stroke-opacity:0.1; fill:none\" points=\"\n",
       "  62.3082,444.535 488.189,444.535 \n",
       "  \"/>\n",
       "<polyline clip-path=\"url(#clip382)\" style=\"stroke:#000000; stroke-width:0.5; stroke-opacity:0.1; fill:none\" points=\"\n",
       "  62.3082,336.354 488.189,336.354 \n",
       "  \"/>\n",
       "<polyline clip-path=\"url(#clip382)\" style=\"stroke:#000000; stroke-width:0.5; stroke-opacity:0.1; fill:none\" points=\"\n",
       "  62.3082,228.173 488.189,228.173 \n",
       "  \"/>\n",
       "<polyline clip-path=\"url(#clip382)\" style=\"stroke:#000000; stroke-width:0.5; stroke-opacity:0.1; fill:none\" points=\"\n",
       "  62.3082,119.992 488.189,119.992 \n",
       "  \"/>\n",
       "<polyline clip-path=\"url(#clip382)\" style=\"stroke:#000000; stroke-width:0.5; stroke-opacity:0.1; fill:none\" points=\"\n",
       "  62.3082,11.811 488.189,11.811 \n",
       "  \"/>\n",
       "<polyline clip-path=\"url(#clip380)\" style=\"stroke:#000000; stroke-width:1; stroke-opacity:1; fill:none\" points=\"\n",
       "  62.3082,444.535 62.3082,11.811 \n",
       "  \"/>\n",
       "<polyline clip-path=\"url(#clip380)\" style=\"stroke:#000000; stroke-width:1; stroke-opacity:1; fill:none\" points=\"\n",
       "  62.3082,444.535 67.4187,444.535 \n",
       "  \"/>\n",
       "<polyline clip-path=\"url(#clip380)\" style=\"stroke:#000000; stroke-width:1; stroke-opacity:1; fill:none\" points=\"\n",
       "  62.3082,336.354 67.4187,336.354 \n",
       "  \"/>\n",
       "<polyline clip-path=\"url(#clip380)\" style=\"stroke:#000000; stroke-width:1; stroke-opacity:1; fill:none\" points=\"\n",
       "  62.3082,228.173 67.4187,228.173 \n",
       "  \"/>\n",
       "<polyline clip-path=\"url(#clip380)\" style=\"stroke:#000000; stroke-width:1; stroke-opacity:1; fill:none\" points=\"\n",
       "  62.3082,119.992 67.4187,119.992 \n",
       "  \"/>\n",
       "<polyline clip-path=\"url(#clip380)\" style=\"stroke:#000000; stroke-width:1; stroke-opacity:1; fill:none\" points=\"\n",
       "  62.3082,11.811 67.4187,11.811 \n",
       "  \"/>\n",
       "<path clip-path=\"url(#clip380)\" d=\"M 0 0 M51.8221 440.985 Q50.9193 440.985 50.4621 441.876 Q50.0107 442.761 50.0107 444.544 Q50.0107 446.32 50.4621 447.211 Q50.9193 448.097 51.8221 448.097 Q52.7306 448.097 53.182 447.211 Q53.6392 446.32 53.6392 444.544 Q53.6392 442.761 53.182 441.876 Q52.7306 440.985 51.8221 440.985 M51.8221 440.059 Q53.2746 440.059 54.0385 441.21 Q54.8082 442.356 54.8082 444.544 Q54.8082 446.725 54.0385 447.877 Q53.2746 449.023 51.8221 449.023 Q50.3695 449.023 49.5999 447.877 Q48.836 446.725 48.836 444.544 Q48.836 442.356 49.5999 441.21 Q50.3695 440.059 51.8221 440.059 Z\" fill=\"#000000\" fill-rule=\"evenodd\" fill-opacity=\"1\" /><path clip-path=\"url(#clip380)\" d=\"M 0 0 M37.2215 339.69 L41.3013 339.69 L41.3013 340.674 L35.8152 340.674 L35.8152 339.69 Q36.4807 339.002 37.6266 337.844 Q38.7782 336.681 39.0733 336.345 Q39.6346 335.715 39.8546 335.28 Q40.0802 334.841 40.0802 334.418 Q40.0802 333.73 39.5941 333.296 Q39.1138 332.862 38.3384 332.862 Q37.7886 332.862 37.1752 333.052 Q36.5675 333.243 35.8731 333.631 L35.8731 332.451 Q36.5791 332.167 37.1925 332.022 Q37.806 331.878 38.3152 331.878 Q39.6578 331.878 40.4564 332.549 Q41.255 333.22 41.255 334.343 Q41.255 334.875 41.0525 335.356 Q40.8557 335.83 40.3291 336.478 Q40.1844 336.646 39.409 337.451 Q38.6335 338.249 37.2215 339.69 Z\" fill=\"#000000\" fill-rule=\"evenodd\" fill-opacity=\"1\" /><path clip-path=\"url(#clip380)\" d=\"M 0 0 M45.0686 332.804 Q44.1659 332.804 43.7087 333.695 Q43.2573 334.58 43.2573 336.363 Q43.2573 338.139 43.7087 339.03 Q44.1659 339.916 45.0686 339.916 Q45.9772 339.916 46.4286 339.03 Q46.8858 338.139 46.8858 336.363 Q46.8858 334.58 46.4286 333.695 Q45.9772 332.804 45.0686 332.804 M45.0686 331.878 Q46.5212 331.878 47.2851 333.029 Q48.0547 334.175 48.0547 336.363 Q48.0547 338.544 47.2851 339.696 Q46.5212 340.842 45.0686 340.842 Q43.6161 340.842 42.8464 339.696 Q42.0825 338.544 42.0825 336.363 Q42.0825 334.175 42.8464 333.029 Q43.6161 331.878 45.0686 331.878 Z\" fill=\"#000000\" fill-rule=\"evenodd\" fill-opacity=\"1\" /><path clip-path=\"url(#clip380)\" d=\"M 0 0 M51.8221 332.804 Q50.9193 332.804 50.4621 333.695 Q50.0107 334.58 50.0107 336.363 Q50.0107 338.139 50.4621 339.03 Q50.9193 339.916 51.8221 339.916 Q52.7306 339.916 53.182 339.03 Q53.6392 338.139 53.6392 336.363 Q53.6392 334.58 53.182 333.695 Q52.7306 332.804 51.8221 332.804 M51.8221 331.878 Q53.2746 331.878 54.0385 333.029 Q54.8082 334.175 54.8082 336.363 Q54.8082 338.544 54.0385 339.696 Q53.2746 340.842 51.8221 340.842 Q50.3695 340.842 49.5999 339.696 Q48.836 338.544 48.836 336.363 Q48.836 334.175 49.5999 333.029 Q50.3695 331.878 51.8221 331.878 Z\" fill=\"#000000\" fill-rule=\"evenodd\" fill-opacity=\"1\" /><path clip-path=\"url(#clip380)\" d=\"M 0 0 M38.9055 224.872 L35.9541 229.484 L38.9055 229.484 L38.9055 224.872 M38.5988 223.853 L40.0687 223.853 L40.0687 229.484 L41.3013 229.484 L41.3013 230.456 L40.0687 230.456 L40.0687 232.493 L38.9055 232.493 L38.9055 230.456 L35.005 230.456 L35.005 229.327 L38.5988 223.853 Z\" fill=\"#000000\" fill-rule=\"evenodd\" fill-opacity=\"1\" /><path clip-path=\"url(#clip380)\" d=\"M 0 0 M45.0686 224.623 Q44.1659 224.623 43.7087 225.514 Q43.2573 226.399 43.2573 228.182 Q43.2573 229.958 43.7087 230.849 Q44.1659 231.735 45.0686 231.735 Q45.9772 231.735 46.4286 230.849 Q46.8858 229.958 46.8858 228.182 Q46.8858 226.399 46.4286 225.514 Q45.9772 224.623 45.0686 224.623 M45.0686 223.697 Q46.5212 223.697 47.2851 224.848 Q48.0547 225.994 48.0547 228.182 Q48.0547 230.363 47.2851 231.515 Q46.5212 232.661 45.0686 232.661 Q43.6161 232.661 42.8464 231.515 Q42.0825 230.363 42.0825 228.182 Q42.0825 225.994 42.8464 224.848 Q43.6161 223.697 45.0686 223.697 Z\" fill=\"#000000\" fill-rule=\"evenodd\" fill-opacity=\"1\" /><path clip-path=\"url(#clip380)\" d=\"M 0 0 M51.8221 224.623 Q50.9193 224.623 50.4621 225.514 Q50.0107 226.399 50.0107 228.182 Q50.0107 229.958 50.4621 230.849 Q50.9193 231.735 51.8221 231.735 Q52.7306 231.735 53.182 230.849 Q53.6392 229.958 53.6392 228.182 Q53.6392 226.399 53.182 225.514 Q52.7306 224.623 51.8221 224.623 M51.8221 223.697 Q53.2746 223.697 54.0385 224.848 Q54.8082 225.994 54.8082 228.182 Q54.8082 230.363 54.0385 231.515 Q53.2746 232.661 51.8221 232.661 Q50.3695 232.661 49.5999 231.515 Q48.836 230.363 48.836 228.182 Q48.836 225.994 49.5999 224.848 Q50.3695 223.697 51.8221 223.697 Z\" fill=\"#000000\" fill-rule=\"evenodd\" fill-opacity=\"1\" /><path clip-path=\"url(#clip380)\" d=\"M 0 0 M38.4194 119.526 Q37.6323 119.526 37.1694 120.064 Q36.7122 120.603 36.7122 121.54 Q36.7122 122.472 37.1694 123.016 Q37.6323 123.554 38.4194 123.554 Q39.2064 123.554 39.6636 123.016 Q40.1265 122.472 40.1265 121.54 Q40.1265 120.603 39.6636 120.064 Q39.2064 119.526 38.4194 119.526 M40.74 115.863 L40.74 116.928 Q40.3001 116.719 39.8488 116.61 Q39.4032 116.5 38.9634 116.5 Q37.806 116.5 37.1925 117.281 Q36.5849 118.062 36.4981 119.642 Q36.8395 119.138 37.3546 118.872 Q37.8696 118.6 38.4888 118.6 Q39.7909 118.6 40.5432 119.393 Q41.3013 120.18 41.3013 121.54 Q41.3013 122.871 40.5143 123.675 Q39.7272 124.48 38.4194 124.48 Q36.9205 124.48 36.1277 123.334 Q35.3349 122.182 35.3349 120.001 Q35.3349 117.952 36.3071 116.737 Q37.2793 115.516 38.9171 115.516 Q39.3569 115.516 39.8025 115.603 Q40.2539 115.689 40.74 115.863 Z\" fill=\"#000000\" fill-rule=\"evenodd\" fill-opacity=\"1\" /><path clip-path=\"url(#clip380)\" d=\"M 0 0 M45.0686 116.442 Q44.1659 116.442 43.7087 117.333 Q43.2573 118.218 43.2573 120.001 Q43.2573 121.777 43.7087 122.668 Q44.1659 123.554 45.0686 123.554 Q45.9772 123.554 46.4286 122.668 Q46.8858 121.777 46.8858 120.001 Q46.8858 118.218 46.4286 117.333 Q45.9772 116.442 45.0686 116.442 M45.0686 115.516 Q46.5212 115.516 47.2851 116.667 Q48.0547 117.813 48.0547 120.001 Q48.0547 122.182 47.2851 123.334 Q46.5212 124.48 45.0686 124.48 Q43.6161 124.48 42.8464 123.334 Q42.0825 122.182 42.0825 120.001 Q42.0825 117.813 42.8464 116.667 Q43.6161 115.516 45.0686 115.516 Z\" fill=\"#000000\" fill-rule=\"evenodd\" fill-opacity=\"1\" /><path clip-path=\"url(#clip380)\" d=\"M 0 0 M51.8221 116.442 Q50.9193 116.442 50.4621 117.333 Q50.0107 118.218 50.0107 120.001 Q50.0107 121.777 50.4621 122.668 Q50.9193 123.554 51.8221 123.554 Q52.7306 123.554 53.182 122.668 Q53.6392 121.777 53.6392 120.001 Q53.6392 118.218 53.182 117.333 Q52.7306 116.442 51.8221 116.442 M51.8221 115.516 Q53.2746 115.516 54.0385 116.667 Q54.8082 117.813 54.8082 120.001 Q54.8082 122.182 54.0385 123.334 Q53.2746 124.48 51.8221 124.48 Q50.3695 124.48 49.5999 123.334 Q48.836 122.182 48.836 120.001 Q48.836 117.813 49.5999 116.667 Q50.3695 115.516 51.8221 115.516 Z\" fill=\"#000000\" fill-rule=\"evenodd\" fill-opacity=\"1\" /><path clip-path=\"url(#clip380)\" d=\"M 0 0 M38.3384 12.028 Q37.505 12.028 37.0247 12.4736 Q36.5502 12.9192 36.5502 13.7005 Q36.5502 14.4817 37.0247 14.9273 Q37.505 15.3729 38.3384 15.3729 Q39.1717 15.3729 39.652 14.9273 Q40.1323 14.4759 40.1323 13.7005 Q40.1323 12.9192 39.652 12.4736 Q39.1775 12.028 38.3384 12.028 M37.1694 11.5304 Q36.4171 11.3452 35.9946 10.8301 Q35.578 10.3151 35.578 9.57435 Q35.578 8.53847 36.3129 7.93662 Q37.0536 7.33477 38.3384 7.33477 Q39.6289 7.33477 40.3638 7.93662 Q41.0988 8.53847 41.0988 9.57435 Q41.0988 10.3151 40.6763 10.8301 Q40.2596 11.3452 39.5131 11.5304 Q40.358 11.7271 40.8268 12.3 Q41.3013 12.8729 41.3013 13.7005 Q41.3013 14.9563 40.5316 15.6276 Q39.7677 16.2988 38.3384 16.2988 Q36.909 16.2988 36.1393 15.6276 Q35.3754 14.9563 35.3754 13.7005 Q35.3754 12.8729 35.8499 12.3 Q36.3245 11.7271 37.1694 11.5304 M36.7411 9.6843 Q36.7411 10.3556 37.1578 10.7317 Q37.5803 11.1079 38.3384 11.1079 Q39.0907 11.1079 39.5131 10.7317 Q39.9414 10.3556 39.9414 9.6843 Q39.9414 9.01301 39.5131 8.63685 Q39.0907 8.2607 38.3384 8.2607 Q37.5803 8.2607 37.1578 8.63685 Q36.7411 9.01301 36.7411 9.6843 Z\" fill=\"#000000\" fill-rule=\"evenodd\" fill-opacity=\"1\" /><path clip-path=\"url(#clip380)\" d=\"M 0 0 M45.0686 8.2607 Q44.1659 8.2607 43.7087 9.15189 Q43.2573 10.0373 43.2573 11.8197 Q43.2573 13.5963 43.7087 14.4875 Q44.1659 15.3729 45.0686 15.3729 Q45.9772 15.3729 46.4286 14.4875 Q46.8858 13.5963 46.8858 11.8197 Q46.8858 10.0373 46.4286 9.15189 Q45.9772 8.2607 45.0686 8.2607 M45.0686 7.33477 Q46.5212 7.33477 47.2851 8.48639 Q48.0547 9.63222 48.0547 11.8197 Q48.0547 14.0014 47.2851 15.153 Q46.5212 16.2988 45.0686 16.2988 Q43.6161 16.2988 42.8464 15.153 Q42.0825 14.0014 42.0825 11.8197 Q42.0825 9.63222 42.8464 8.48639 Q43.6161 7.33477 45.0686 7.33477 Z\" fill=\"#000000\" fill-rule=\"evenodd\" fill-opacity=\"1\" /><path clip-path=\"url(#clip380)\" d=\"M 0 0 M51.8221 8.2607 Q50.9193 8.2607 50.4621 9.15189 Q50.0107 10.0373 50.0107 11.8197 Q50.0107 13.5963 50.4621 14.4875 Q50.9193 15.3729 51.8221 15.3729 Q52.7306 15.3729 53.182 14.4875 Q53.6392 13.5963 53.6392 11.8197 Q53.6392 10.0373 53.182 9.15189 Q52.7306 8.2607 51.8221 8.2607 M51.8221 7.33477 Q53.2746 7.33477 54.0385 8.48639 Q54.8082 9.63222 54.8082 11.8197 Q54.8082 14.0014 54.0385 15.153 Q53.2746 16.2988 51.8221 16.2988 Q50.3695 16.2988 49.5999 15.153 Q48.836 14.0014 48.836 11.8197 Q48.836 9.63222 49.5999 8.48639 Q50.3695 7.33477 51.8221 7.33477 Z\" fill=\"#000000\" fill-rule=\"evenodd\" fill-opacity=\"1\" /><path clip-path=\"url(#clip380)\" d=\"M 0 0 M13.3819 280.646 L17.8459 280.646 L17.8459 278.625 Q17.8459 277.503 17.265 276.891 Q16.6841 276.278 15.6099 276.278 Q14.5437 276.278 13.9628 276.891 Q13.3819 277.503 13.3819 278.625 L13.3819 280.646 M12.061 282.254 L12.061 278.625 Q12.061 276.628 12.9682 275.609 Q13.8673 274.583 15.6099 274.583 Q17.3684 274.583 18.2676 275.609 Q19.1668 276.628 19.1668 278.625 L19.1668 280.646 L23.941 280.646 L23.941 282.254 L12.061 282.254 Z\" fill=\"#000000\" fill-rule=\"evenodd\" fill-opacity=\"1\" /><path clip-path=\"url(#clip380)\" d=\"M 0 0 M16.3977 268.17 Q16.2544 268.416 16.1908 268.711 Q16.1192 268.997 16.1192 269.347 Q16.1192 270.588 16.9308 271.257 Q17.7345 271.917 19.2463 271.917 L23.941 271.917 L23.941 273.389 L15.0291 273.389 L15.0291 271.917 L16.4136 271.917 Q15.602 271.456 15.2121 270.716 Q14.8142 269.976 14.8142 268.917 Q14.8142 268.766 14.8381 268.583 Q14.854 268.4 14.8938 268.177 L16.3977 268.17 Z\" fill=\"#000000\" fill-rule=\"evenodd\" fill-opacity=\"1\" /><path clip-path=\"url(#clip380)\" d=\"M 0 0 M19.119 259.369 L19.8352 259.369 L19.8352 266.101 Q21.347 266.005 22.1427 265.194 Q22.9305 264.374 22.9305 262.918 Q22.9305 262.074 22.7236 261.287 Q22.5167 260.491 22.1029 259.711 L23.4875 259.711 Q23.8217 260.499 23.9967 261.326 Q24.1718 262.154 24.1718 263.005 Q24.1718 265.138 22.9305 266.387 Q21.6892 267.628 19.5726 267.628 Q17.3844 267.628 16.1033 266.451 Q14.8142 265.265 14.8142 263.26 Q14.8142 261.462 15.9759 260.419 Q17.1297 259.369 19.119 259.369 M18.6893 260.833 Q17.4878 260.849 16.7717 261.509 Q16.0555 262.162 16.0555 263.244 Q16.0555 264.469 16.7478 265.209 Q17.4401 265.942 18.6973 266.053 L18.6893 260.833 Z\" fill=\"#000000\" fill-rule=\"evenodd\" fill-opacity=\"1\" /><path clip-path=\"url(#clip380)\" d=\"M 0 0 M16.3818 251.969 L11.5597 251.969 L11.5597 250.505 L23.941 250.505 L23.941 251.969 L22.6042 251.969 Q23.4 252.43 23.7899 253.138 Q24.1718 253.839 24.1718 254.825 Q24.1718 256.441 22.8827 257.459 Q21.5937 258.47 19.493 258.47 Q17.3923 258.47 16.1033 257.459 Q14.8142 256.441 14.8142 254.825 Q14.8142 253.839 15.2041 253.138 Q15.586 252.43 16.3818 251.969 M19.493 256.958 Q21.1083 256.958 22.0313 256.297 Q22.9464 255.629 22.9464 254.467 Q22.9464 253.306 22.0313 252.637 Q21.1083 251.969 19.493 251.969 Q17.8777 251.969 16.9626 252.637 Q16.0396 253.306 16.0396 254.467 Q16.0396 255.629 16.9626 256.297 Q17.8777 256.958 19.493 256.958 Z\" fill=\"#000000\" fill-rule=\"evenodd\" fill-opacity=\"1\" /><path clip-path=\"url(#clip380)\" d=\"M 0 0 M15.0291 248.969 L15.0291 247.505 L23.941 247.505 L23.941 248.969 L15.0291 248.969 M11.5597 248.969 L11.5597 247.505 L13.4138 247.505 L13.4138 248.969 L11.5597 248.969 Z\" fill=\"#000000\" fill-rule=\"evenodd\" fill-opacity=\"1\" /><path clip-path=\"url(#clip380)\" d=\"M 0 0 M15.3712 239.556 L16.7398 239.556 Q16.3977 240.176 16.2306 240.805 Q16.0555 241.426 16.0555 242.062 Q16.0555 243.486 16.9626 244.274 Q17.8618 245.062 19.493 245.062 Q21.1242 245.062 22.0313 244.274 Q22.9305 243.486 22.9305 242.062 Q22.9305 241.426 22.7634 240.805 Q22.5883 240.176 22.2462 239.556 L23.5989 239.556 Q23.8853 240.168 24.0286 240.829 Q24.1718 241.481 24.1718 242.221 Q24.1718 244.234 22.9066 245.42 Q21.6414 246.606 19.493 246.606 Q17.3127 246.606 16.0635 245.412 Q14.8142 244.211 14.8142 242.126 Q14.8142 241.449 14.9574 240.805 Q15.0927 240.16 15.3712 239.556 Z\" fill=\"#000000\" fill-rule=\"evenodd\" fill-opacity=\"1\" /><path clip-path=\"url(#clip380)\" d=\"M 0 0 M12.4987 236.572 L15.0291 236.572 L15.0291 233.556 L16.1669 233.556 L16.1669 236.572 L21.0049 236.572 Q22.095 236.572 22.4053 236.277 Q22.7156 235.975 22.7156 235.06 L22.7156 233.556 L23.941 233.556 L23.941 235.06 Q23.941 236.755 23.3124 237.399 Q22.6759 238.044 21.0049 238.044 L16.1669 238.044 L16.1669 239.118 L15.0291 239.118 L15.0291 238.044 L12.4987 238.044 L12.4987 236.572 Z\" fill=\"#000000\" fill-rule=\"evenodd\" fill-opacity=\"1\" /><path clip-path=\"url(#clip380)\" d=\"M 0 0 M19.119 224.397 L19.8352 224.397 L19.8352 231.129 Q21.347 231.034 22.1427 230.222 Q22.9305 229.402 22.9305 227.946 Q22.9305 227.103 22.7236 226.315 Q22.5167 225.519 22.1029 224.739 L23.4875 224.739 Q23.8217 225.527 23.9967 226.355 Q24.1718 227.182 24.1718 228.034 Q24.1718 230.166 22.9305 231.416 Q21.6892 232.657 19.5726 232.657 Q17.3844 232.657 16.1033 231.479 Q14.8142 230.294 14.8142 228.288 Q14.8142 226.49 15.9759 225.448 Q17.1297 224.397 19.119 224.397 M18.6893 225.861 Q17.4878 225.877 16.7717 226.538 Q16.0555 227.19 16.0555 228.272 Q16.0555 229.498 16.7478 230.238 Q17.4401 230.97 18.6973 231.081 L18.6893 225.861 Z\" fill=\"#000000\" fill-rule=\"evenodd\" fill-opacity=\"1\" /><path clip-path=\"url(#clip380)\" d=\"M 0 0 M16.3818 216.997 L11.5597 216.997 L11.5597 215.533 L23.941 215.533 L23.941 216.997 L22.6042 216.997 Q23.4 217.459 23.7899 218.167 Q24.1718 218.867 24.1718 219.854 Q24.1718 221.469 22.8827 222.488 Q21.5937 223.498 19.493 223.498 Q17.3923 223.498 16.1033 222.488 Q14.8142 221.469 14.8142 219.854 Q14.8142 218.867 15.2041 218.167 Q15.586 217.459 16.3818 216.997 M19.493 221.986 Q21.1083 221.986 22.0313 221.326 Q22.9464 220.657 22.9464 219.496 Q22.9464 218.334 22.0313 217.666 Q21.1083 216.997 19.493 216.997 Q17.8777 216.997 16.9626 217.666 Q16.0396 218.334 16.0396 219.496 Q16.0396 220.657 16.9626 221.326 Q17.8777 221.986 19.493 221.986 Z\" fill=\"#000000\" fill-rule=\"evenodd\" fill-opacity=\"1\" /><path clip-path=\"url(#clip380)\" d=\"M 0 0 M22.6042 207.401 L27.3308 207.401 L27.3308 208.873 L15.0291 208.873 L15.0291 207.401 L16.3818 207.401 Q15.586 206.939 15.2041 206.239 Q14.8142 205.531 14.8142 204.552 Q14.8142 202.929 16.1033 201.918 Q17.3923 200.9 19.493 200.9 Q21.5937 200.9 22.8827 201.918 Q24.1718 202.929 24.1718 204.552 Q24.1718 205.531 23.7899 206.239 Q23.4 206.939 22.6042 207.401 M19.493 202.42 Q17.8777 202.42 16.9626 203.088 Q16.0396 203.749 16.0396 204.91 Q16.0396 206.072 16.9626 206.74 Q17.8777 207.401 19.493 207.401 Q21.1083 207.401 22.0313 206.74 Q22.9464 206.072 22.9464 204.91 Q22.9464 203.749 22.0313 203.088 Q21.1083 202.42 19.493 202.42 Z\" fill=\"#000000\" fill-rule=\"evenodd\" fill-opacity=\"1\" /><path clip-path=\"url(#clip380)\" d=\"M 0 0 M16.3977 194.2 Q16.2544 194.447 16.1908 194.741 Q16.1192 195.028 16.1192 195.378 Q16.1192 196.619 16.9308 197.287 Q17.7345 197.948 19.2463 197.948 L23.941 197.948 L23.941 199.42 L15.0291 199.42 L15.0291 197.948 L16.4136 197.948 Q15.602 197.486 15.2121 196.746 Q14.8142 196.006 14.8142 194.948 Q14.8142 194.797 14.8381 194.614 Q14.854 194.431 14.8938 194.208 L16.3977 194.2 Z\" fill=\"#000000\" fill-rule=\"evenodd\" fill-opacity=\"1\" /><path clip-path=\"url(#clip380)\" d=\"M 0 0 M15.0291 192.664 L15.0291 191.2 L23.941 191.2 L23.941 192.664 L15.0291 192.664 M11.5597 192.664 L11.5597 191.2 L13.4138 191.2 L13.4138 192.664 L11.5597 192.664 Z\" fill=\"#000000\" fill-rule=\"evenodd\" fill-opacity=\"1\" /><path clip-path=\"url(#clip380)\" d=\"M 0 0 M15.3712 183.251 L16.7398 183.251 Q16.3977 183.872 16.2306 184.5 Q16.0555 185.121 16.0555 185.757 Q16.0555 187.182 16.9626 187.97 Q17.8618 188.757 19.493 188.757 Q21.1242 188.757 22.0313 187.97 Q22.9305 187.182 22.9305 185.757 Q22.9305 185.121 22.7634 184.5 Q22.5883 183.872 22.2462 183.251 L23.5989 183.251 Q23.8853 183.864 24.0286 184.524 Q24.1718 185.177 24.1718 185.917 Q24.1718 187.93 22.9066 189.115 Q21.6414 190.301 19.493 190.301 Q17.3127 190.301 16.0635 189.107 Q14.8142 187.906 14.8142 185.821 Q14.8142 185.145 14.9574 184.5 Q15.0927 183.856 15.3712 183.251 Z\" fill=\"#000000\" fill-rule=\"evenodd\" fill-opacity=\"1\" /><path clip-path=\"url(#clip380)\" d=\"M 0 0 M19.119 174.092 L19.8352 174.092 L19.8352 180.824 Q21.347 180.729 22.1427 179.917 Q22.9305 179.097 22.9305 177.641 Q22.9305 176.798 22.7236 176.01 Q22.5167 175.214 22.1029 174.434 L23.4875 174.434 Q23.8217 175.222 23.9967 176.05 Q24.1718 176.877 24.1718 177.729 Q24.1718 179.861 22.9305 181.111 Q21.6892 182.352 19.5726 182.352 Q17.3844 182.352 16.1033 181.174 Q14.8142 179.989 14.8142 177.983 Q14.8142 176.185 15.9759 175.143 Q17.1297 174.092 19.119 174.092 M18.6893 175.556 Q17.4878 175.572 16.7717 176.233 Q16.0555 176.885 16.0555 177.967 Q16.0555 179.193 16.7478 179.933 Q17.4401 180.665 18.6973 180.776 L18.6893 175.556 Z\" fill=\"#000000\" fill-rule=\"evenodd\" fill-opacity=\"1\" /><circle clip-path=\"url(#clip382)\" cx=\"112.831\" cy=\"359.805\" r=\"3\" fill=\"#009af9\" fill-rule=\"evenodd\" fill-opacity=\"1\" stroke=\"#000000\" stroke-opacity=\"1\" stroke-width=\"1\"/>\n",
       "<circle clip-path=\"url(#clip382)\" cx=\"114.977\" cy=\"353.511\" r=\"3\" fill=\"#009af9\" fill-rule=\"evenodd\" fill-opacity=\"1\" stroke=\"#000000\" stroke-opacity=\"1\" stroke-width=\"1\"/>\n",
       "<circle clip-path=\"url(#clip382)\" cx=\"115.708\" cy=\"372.577\" r=\"3\" fill=\"#009af9\" fill-rule=\"evenodd\" fill-opacity=\"1\" stroke=\"#000000\" stroke-opacity=\"1\" stroke-width=\"1\"/>\n",
       "<circle clip-path=\"url(#clip382)\" cx=\"118.87\" cy=\"342.007\" r=\"3\" fill=\"#009af9\" fill-rule=\"evenodd\" fill-opacity=\"1\" stroke=\"#000000\" stroke-opacity=\"1\" stroke-width=\"1\"/>\n",
       "<circle clip-path=\"url(#clip382)\" cx=\"119.537\" cy=\"363.647\" r=\"3\" fill=\"#009af9\" fill-rule=\"evenodd\" fill-opacity=\"1\" stroke=\"#000000\" stroke-opacity=\"1\" stroke-width=\"1\"/>\n",
       "<circle clip-path=\"url(#clip382)\" cx=\"120.201\" cy=\"353.289\" r=\"3\" fill=\"#009af9\" fill-rule=\"evenodd\" fill-opacity=\"1\" stroke=\"#000000\" stroke-opacity=\"1\" stroke-width=\"1\"/>\n",
       "<circle clip-path=\"url(#clip382)\" cx=\"121.239\" cy=\"344.279\" r=\"3\" fill=\"#009af9\" fill-rule=\"evenodd\" fill-opacity=\"1\" stroke=\"#000000\" stroke-opacity=\"1\" stroke-width=\"1\"/>\n",
       "<circle clip-path=\"url(#clip382)\" cx=\"122.604\" cy=\"367.608\" r=\"3\" fill=\"#009af9\" fill-rule=\"evenodd\" fill-opacity=\"1\" stroke=\"#000000\" stroke-opacity=\"1\" stroke-width=\"1\"/>\n",
       "<circle clip-path=\"url(#clip382)\" cx=\"124.194\" cy=\"371.55\" r=\"3\" fill=\"#009af9\" fill-rule=\"evenodd\" fill-opacity=\"1\" stroke=\"#000000\" stroke-opacity=\"1\" stroke-width=\"1\"/>\n",
       "<circle clip-path=\"url(#clip382)\" cx=\"126.19\" cy=\"388.202\" r=\"3\" fill=\"#009af9\" fill-rule=\"evenodd\" fill-opacity=\"1\" stroke=\"#000000\" stroke-opacity=\"1\" stroke-width=\"1\"/>\n",
       "<circle clip-path=\"url(#clip382)\" cx=\"127.058\" cy=\"336.618\" r=\"3\" fill=\"#009af9\" fill-rule=\"evenodd\" fill-opacity=\"1\" stroke=\"#000000\" stroke-opacity=\"1\" stroke-width=\"1\"/>\n",
       "<circle clip-path=\"url(#clip382)\" cx=\"127.255\" cy=\"355.764\" r=\"3\" fill=\"#009af9\" fill-rule=\"evenodd\" fill-opacity=\"1\" stroke=\"#000000\" stroke-opacity=\"1\" stroke-width=\"1\"/>\n",
       "<circle clip-path=\"url(#clip382)\" cx=\"127.618\" cy=\"348.987\" r=\"3\" fill=\"#009af9\" fill-rule=\"evenodd\" fill-opacity=\"1\" stroke=\"#000000\" stroke-opacity=\"1\" stroke-width=\"1\"/>\n",
       "<circle clip-path=\"url(#clip382)\" cx=\"127.787\" cy=\"356.147\" r=\"3\" fill=\"#009af9\" fill-rule=\"evenodd\" fill-opacity=\"1\" stroke=\"#000000\" stroke-opacity=\"1\" stroke-width=\"1\"/>\n",
       "<circle clip-path=\"url(#clip382)\" cx=\"128.373\" cy=\"316.908\" r=\"3\" fill=\"#009af9\" fill-rule=\"evenodd\" fill-opacity=\"1\" stroke=\"#000000\" stroke-opacity=\"1\" stroke-width=\"1\"/>\n",
       "<circle clip-path=\"url(#clip382)\" cx=\"128.852\" cy=\"373.221\" r=\"3\" fill=\"#009af9\" fill-rule=\"evenodd\" fill-opacity=\"1\" stroke=\"#000000\" stroke-opacity=\"1\" stroke-width=\"1\"/>\n",
       "<circle clip-path=\"url(#clip382)\" cx=\"129.725\" cy=\"358.177\" r=\"3\" fill=\"#009af9\" fill-rule=\"evenodd\" fill-opacity=\"1\" stroke=\"#000000\" stroke-opacity=\"1\" stroke-width=\"1\"/>\n",
       "<circle clip-path=\"url(#clip382)\" cx=\"130.066\" cy=\"368.233\" r=\"3\" fill=\"#009af9\" fill-rule=\"evenodd\" fill-opacity=\"1\" stroke=\"#000000\" stroke-opacity=\"1\" stroke-width=\"1\"/>\n",
       "<circle clip-path=\"url(#clip382)\" cx=\"130.981\" cy=\"355.683\" r=\"3\" fill=\"#009af9\" fill-rule=\"evenodd\" fill-opacity=\"1\" stroke=\"#000000\" stroke-opacity=\"1\" stroke-width=\"1\"/>\n",
       "<circle clip-path=\"url(#clip382)\" cx=\"132.153\" cy=\"344.885\" r=\"3\" fill=\"#009af9\" fill-rule=\"evenodd\" fill-opacity=\"1\" stroke=\"#000000\" stroke-opacity=\"1\" stroke-width=\"1\"/>\n",
       "<circle clip-path=\"url(#clip382)\" cx=\"132.579\" cy=\"345.306\" r=\"3\" fill=\"#009af9\" fill-rule=\"evenodd\" fill-opacity=\"1\" stroke=\"#000000\" stroke-opacity=\"1\" stroke-width=\"1\"/>\n",
       "<circle clip-path=\"url(#clip382)\" cx=\"133.111\" cy=\"351.921\" r=\"3\" fill=\"#009af9\" fill-rule=\"evenodd\" fill-opacity=\"1\" stroke=\"#000000\" stroke-opacity=\"1\" stroke-width=\"1\"/>\n",
       "<circle clip-path=\"url(#clip382)\" cx=\"133.939\" cy=\"353.029\" r=\"3\" fill=\"#009af9\" fill-rule=\"evenodd\" fill-opacity=\"1\" stroke=\"#000000\" stroke-opacity=\"1\" stroke-width=\"1\"/>\n",
       "<circle clip-path=\"url(#clip382)\" cx=\"134.974\" cy=\"334.687\" r=\"3\" fill=\"#009af9\" fill-rule=\"evenodd\" fill-opacity=\"1\" stroke=\"#000000\" stroke-opacity=\"1\" stroke-width=\"1\"/>\n",
       "<circle clip-path=\"url(#clip382)\" cx=\"136.172\" cy=\"355.925\" r=\"3\" fill=\"#009af9\" fill-rule=\"evenodd\" fill-opacity=\"1\" stroke=\"#000000\" stroke-opacity=\"1\" stroke-width=\"1\"/>\n",
       "<circle clip-path=\"url(#clip382)\" cx=\"137.37\" cy=\"351.921\" r=\"3\" fill=\"#009af9\" fill-rule=\"evenodd\" fill-opacity=\"1\" stroke=\"#000000\" stroke-opacity=\"1\" stroke-width=\"1\"/>\n",
       "<circle clip-path=\"url(#clip382)\" cx=\"140.165\" cy=\"331.63\" r=\"3\" fill=\"#009af9\" fill-rule=\"evenodd\" fill-opacity=\"1\" stroke=\"#000000\" stroke-opacity=\"1\" stroke-width=\"1\"/>\n",
       "<circle clip-path=\"url(#clip382)\" cx=\"140.728\" cy=\"358.66\" r=\"3\" fill=\"#009af9\" fill-rule=\"evenodd\" fill-opacity=\"1\" stroke=\"#000000\" stroke-opacity=\"1\" stroke-width=\"1\"/>\n",
       "<circle clip-path=\"url(#clip382)\" cx=\"141.495\" cy=\"337.484\" r=\"3\" fill=\"#009af9\" fill-rule=\"evenodd\" fill-opacity=\"1\" stroke=\"#000000\" stroke-opacity=\"1\" stroke-width=\"1\"/>\n",
       "<circle clip-path=\"url(#clip382)\" cx=\"141.944\" cy=\"363.709\" r=\"3\" fill=\"#009af9\" fill-rule=\"evenodd\" fill-opacity=\"1\" stroke=\"#000000\" stroke-opacity=\"1\" stroke-width=\"1\"/>\n",
       "<circle clip-path=\"url(#clip382)\" cx=\"142.161\" cy=\"364.168\" r=\"3\" fill=\"#009af9\" fill-rule=\"evenodd\" fill-opacity=\"1\" stroke=\"#000000\" stroke-opacity=\"1\" stroke-width=\"1\"/>\n",
       "<circle clip-path=\"url(#clip382)\" cx=\"143.226\" cy=\"330.603\" r=\"3\" fill=\"#009af9\" fill-rule=\"evenodd\" fill-opacity=\"1\" stroke=\"#000000\" stroke-opacity=\"1\" stroke-width=\"1\"/>\n",
       "<circle clip-path=\"url(#clip382)\" cx=\"144.29\" cy=\"348.604\" r=\"3\" fill=\"#009af9\" fill-rule=\"evenodd\" fill-opacity=\"1\" stroke=\"#000000\" stroke-opacity=\"1\" stroke-width=\"1\"/>\n",
       "<circle clip-path=\"url(#clip382)\" cx=\"145.832\" cy=\"360.751\" r=\"3\" fill=\"#009af9\" fill-rule=\"evenodd\" fill-opacity=\"1\" stroke=\"#000000\" stroke-opacity=\"1\" stroke-width=\"1\"/>\n",
       "<circle clip-path=\"url(#clip382)\" cx=\"148.15\" cy=\"351.599\" r=\"3\" fill=\"#009af9\" fill-rule=\"evenodd\" fill-opacity=\"1\" stroke=\"#000000\" stroke-opacity=\"1\" stroke-width=\"1\"/>\n",
       "<circle clip-path=\"url(#clip382)\" cx=\"148.283\" cy=\"328.232\" r=\"3\" fill=\"#009af9\" fill-rule=\"evenodd\" fill-opacity=\"1\" stroke=\"#000000\" stroke-opacity=\"1\" stroke-width=\"1\"/>\n",
       "<circle clip-path=\"url(#clip382)\" cx=\"149.614\" cy=\"365.801\" r=\"3\" fill=\"#009af9\" fill-rule=\"evenodd\" fill-opacity=\"1\" stroke=\"#000000\" stroke-opacity=\"1\" stroke-width=\"1\"/>\n",
       "<circle clip-path=\"url(#clip382)\" cx=\"150.146\" cy=\"328.796\" r=\"3\" fill=\"#009af9\" fill-rule=\"evenodd\" fill-opacity=\"1\" stroke=\"#000000\" stroke-opacity=\"1\" stroke-width=\"1\"/>\n",
       "<circle clip-path=\"url(#clip382)\" cx=\"150.868\" cy=\"298.628\" r=\"3\" fill=\"#009af9\" fill-rule=\"evenodd\" fill-opacity=\"1\" stroke=\"#000000\" stroke-opacity=\"1\" stroke-width=\"1\"/>\n",
       "<circle clip-path=\"url(#clip382)\" cx=\"150.868\" cy=\"322.682\" r=\"3\" fill=\"#009af9\" fill-rule=\"evenodd\" fill-opacity=\"1\" stroke=\"#000000\" stroke-opacity=\"1\" stroke-width=\"1\"/>\n",
       "<circle clip-path=\"url(#clip382)\" cx=\"151.743\" cy=\"326.884\" r=\"3\" fill=\"#009af9\" fill-rule=\"evenodd\" fill-opacity=\"1\" stroke=\"#000000\" stroke-opacity=\"1\" stroke-width=\"1\"/>\n",
       "<circle clip-path=\"url(#clip382)\" cx=\"152.808\" cy=\"350.132\" r=\"3\" fill=\"#009af9\" fill-rule=\"evenodd\" fill-opacity=\"1\" stroke=\"#000000\" stroke-opacity=\"1\" stroke-width=\"1\"/>\n",
       "<circle clip-path=\"url(#clip382)\" cx=\"154.405\" cy=\"327.991\" r=\"3\" fill=\"#009af9\" fill-rule=\"evenodd\" fill-opacity=\"1\" stroke=\"#000000\" stroke-opacity=\"1\" stroke-width=\"1\"/>\n",
       "<circle clip-path=\"url(#clip382)\" cx=\"155.07\" cy=\"328.01\" r=\"3\" fill=\"#009af9\" fill-rule=\"evenodd\" fill-opacity=\"1\" stroke=\"#000000\" stroke-opacity=\"1\" stroke-width=\"1\"/>\n",
       "<circle clip-path=\"url(#clip382)\" cx=\"155.104\" cy=\"318.016\" r=\"3\" fill=\"#009af9\" fill-rule=\"evenodd\" fill-opacity=\"1\" stroke=\"#000000\" stroke-opacity=\"1\" stroke-width=\"1\"/>\n",
       "<circle clip-path=\"url(#clip382)\" cx=\"157.322\" cy=\"350.374\" r=\"3\" fill=\"#009af9\" fill-rule=\"evenodd\" fill-opacity=\"1\" stroke=\"#000000\" stroke-opacity=\"1\" stroke-width=\"1\"/>\n",
       "<circle clip-path=\"url(#clip382)\" cx=\"157.471\" cy=\"332.595\" r=\"3\" fill=\"#009af9\" fill-rule=\"evenodd\" fill-opacity=\"1\" stroke=\"#000000\" stroke-opacity=\"1\" stroke-width=\"1\"/>\n",
       "<circle clip-path=\"url(#clip382)\" cx=\"158.664\" cy=\"351.42\" r=\"3\" fill=\"#009af9\" fill-rule=\"evenodd\" fill-opacity=\"1\" stroke=\"#000000\" stroke-opacity=\"1\" stroke-width=\"1\"/>\n",
       "<circle clip-path=\"url(#clip382)\" cx=\"159.128\" cy=\"353.029\" r=\"3\" fill=\"#009af9\" fill-rule=\"evenodd\" fill-opacity=\"1\" stroke=\"#000000\" stroke-opacity=\"1\" stroke-width=\"1\"/>\n",
       "<circle clip-path=\"url(#clip382)\" cx=\"159.509\" cy=\"306.995\" r=\"3\" fill=\"#009af9\" fill-rule=\"evenodd\" fill-opacity=\"1\" stroke=\"#000000\" stroke-opacity=\"1\" stroke-width=\"1\"/>\n",
       "<circle clip-path=\"url(#clip382)\" cx=\"159.577\" cy=\"347.96\" r=\"3\" fill=\"#009af9\" fill-rule=\"evenodd\" fill-opacity=\"1\" stroke=\"#000000\" stroke-opacity=\"1\" stroke-width=\"1\"/>\n",
       "<circle clip-path=\"url(#clip382)\" cx=\"159.595\" cy=\"354.798\" r=\"3\" fill=\"#009af9\" fill-rule=\"evenodd\" fill-opacity=\"1\" stroke=\"#000000\" stroke-opacity=\"1\" stroke-width=\"1\"/>\n",
       "<circle clip-path=\"url(#clip382)\" cx=\"159.835\" cy=\"326.945\" r=\"3\" fill=\"#009af9\" fill-rule=\"evenodd\" fill-opacity=\"1\" stroke=\"#000000\" stroke-opacity=\"1\" stroke-width=\"1\"/>\n",
       "<circle clip-path=\"url(#clip382)\" cx=\"162.785\" cy=\"326.723\" r=\"3\" fill=\"#009af9\" fill-rule=\"evenodd\" fill-opacity=\"1\" stroke=\"#000000\" stroke-opacity=\"1\" stroke-width=\"1\"/>\n",
       "<circle clip-path=\"url(#clip382)\" cx=\"162.923\" cy=\"331.469\" r=\"3\" fill=\"#009af9\" fill-rule=\"evenodd\" fill-opacity=\"1\" stroke=\"#000000\" stroke-opacity=\"1\" stroke-width=\"1\"/>\n",
       "<circle clip-path=\"url(#clip382)\" cx=\"164.555\" cy=\"342.731\" r=\"3\" fill=\"#009af9\" fill-rule=\"evenodd\" fill-opacity=\"1\" stroke=\"#000000\" stroke-opacity=\"1\" stroke-width=\"1\"/>\n",
       "<circle clip-path=\"url(#clip382)\" cx=\"165.584\" cy=\"318.115\" r=\"3\" fill=\"#009af9\" fill-rule=\"evenodd\" fill-opacity=\"1\" stroke=\"#000000\" stroke-opacity=\"1\" stroke-width=\"1\"/>\n",
       "<circle clip-path=\"url(#clip382)\" cx=\"166.02\" cy=\"336.135\" r=\"3\" fill=\"#009af9\" fill-rule=\"evenodd\" fill-opacity=\"1\" stroke=\"#000000\" stroke-opacity=\"1\" stroke-width=\"1\"/>\n",
       "<circle clip-path=\"url(#clip382)\" cx=\"167.714\" cy=\"343.858\" r=\"3\" fill=\"#009af9\" fill-rule=\"evenodd\" fill-opacity=\"1\" stroke=\"#000000\" stroke-opacity=\"1\" stroke-width=\"1\"/>\n",
       "<circle clip-path=\"url(#clip382)\" cx=\"168.512\" cy=\"317.935\" r=\"3\" fill=\"#009af9\" fill-rule=\"evenodd\" fill-opacity=\"1\" stroke=\"#000000\" stroke-opacity=\"1\" stroke-width=\"1\"/>\n",
       "<circle clip-path=\"url(#clip382)\" cx=\"168.778\" cy=\"299.291\" r=\"3\" fill=\"#009af9\" fill-rule=\"evenodd\" fill-opacity=\"1\" stroke=\"#000000\" stroke-opacity=\"1\" stroke-width=\"1\"/>\n",
       "<circle clip-path=\"url(#clip382)\" cx=\"168.778\" cy=\"370.405\" r=\"3\" fill=\"#009af9\" fill-rule=\"evenodd\" fill-opacity=\"1\" stroke=\"#000000\" stroke-opacity=\"1\" stroke-width=\"1\"/>\n",
       "<circle clip-path=\"url(#clip382)\" cx=\"173.037\" cy=\"324.148\" r=\"3\" fill=\"#009af9\" fill-rule=\"evenodd\" fill-opacity=\"1\" stroke=\"#000000\" stroke-opacity=\"1\" stroke-width=\"1\"/>\n",
       "<circle clip-path=\"url(#clip382)\" cx=\"175.627\" cy=\"327.991\" r=\"3\" fill=\"#009af9\" fill-rule=\"evenodd\" fill-opacity=\"1\" stroke=\"#000000\" stroke-opacity=\"1\" stroke-width=\"1\"/>\n",
       "<circle clip-path=\"url(#clip382)\" cx=\"179.958\" cy=\"327.508\" r=\"3\" fill=\"#009af9\" fill-rule=\"evenodd\" fill-opacity=\"1\" stroke=\"#000000\" stroke-opacity=\"1\" stroke-width=\"1\"/>\n",
       "<circle clip-path=\"url(#clip382)\" cx=\"179.958\" cy=\"327.626\" r=\"3\" fill=\"#009af9\" fill-rule=\"evenodd\" fill-opacity=\"1\" stroke=\"#000000\" stroke-opacity=\"1\" stroke-width=\"1\"/>\n",
       "<circle clip-path=\"url(#clip382)\" cx=\"181.053\" cy=\"294.265\" r=\"3\" fill=\"#009af9\" fill-rule=\"evenodd\" fill-opacity=\"1\" stroke=\"#000000\" stroke-opacity=\"1\" stroke-width=\"1\"/>\n",
       "<circle clip-path=\"url(#clip382)\" cx=\"183.624\" cy=\"325.899\" r=\"3\" fill=\"#009af9\" fill-rule=\"evenodd\" fill-opacity=\"1\" stroke=\"#000000\" stroke-opacity=\"1\" stroke-width=\"1\"/>\n",
       "<circle clip-path=\"url(#clip382)\" cx=\"185.535\" cy=\"326.803\" r=\"3\" fill=\"#009af9\" fill-rule=\"evenodd\" fill-opacity=\"1\" stroke=\"#000000\" stroke-opacity=\"1\" stroke-width=\"1\"/>\n",
       "<circle clip-path=\"url(#clip382)\" cx=\"187.249\" cy=\"342.168\" r=\"3\" fill=\"#009af9\" fill-rule=\"evenodd\" fill-opacity=\"1\" stroke=\"#000000\" stroke-opacity=\"1\" stroke-width=\"1\"/>\n",
       "<circle clip-path=\"url(#clip382)\" cx=\"187.411\" cy=\"353.171\" r=\"3\" fill=\"#009af9\" fill-rule=\"evenodd\" fill-opacity=\"1\" stroke=\"#000000\" stroke-opacity=\"1\" stroke-width=\"1\"/>\n",
       "<circle clip-path=\"url(#clip382)\" cx=\"187.943\" cy=\"339.414\" r=\"3\" fill=\"#009af9\" fill-rule=\"evenodd\" fill-opacity=\"1\" stroke=\"#000000\" stroke-opacity=\"1\" stroke-width=\"1\"/>\n",
       "<circle clip-path=\"url(#clip382)\" cx=\"188.308\" cy=\"276.103\" r=\"3\" fill=\"#009af9\" fill-rule=\"evenodd\" fill-opacity=\"1\" stroke=\"#000000\" stroke-opacity=\"1\" stroke-width=\"1\"/>\n",
       "<circle clip-path=\"url(#clip382)\" cx=\"188.901\" cy=\"277.329\" r=\"3\" fill=\"#009af9\" fill-rule=\"evenodd\" fill-opacity=\"1\" stroke=\"#000000\" stroke-opacity=\"1\" stroke-width=\"1\"/>\n",
       "<circle clip-path=\"url(#clip382)\" cx=\"190.137\" cy=\"349.73\" r=\"3\" fill=\"#009af9\" fill-rule=\"evenodd\" fill-opacity=\"1\" stroke=\"#000000\" stroke-opacity=\"1\" stroke-width=\"1\"/>\n",
       "<circle clip-path=\"url(#clip382)\" cx=\"191.477\" cy=\"271.698\" r=\"3\" fill=\"#009af9\" fill-rule=\"evenodd\" fill-opacity=\"1\" stroke=\"#000000\" stroke-opacity=\"1\" stroke-width=\"1\"/>\n",
       "<circle clip-path=\"url(#clip382)\" cx=\"192.202\" cy=\"343.616\" r=\"3\" fill=\"#009af9\" fill-rule=\"evenodd\" fill-opacity=\"1\" stroke=\"#000000\" stroke-opacity=\"1\" stroke-width=\"1\"/>\n",
       "<circle clip-path=\"url(#clip382)\" cx=\"192.713\" cy=\"368.635\" r=\"3\" fill=\"#009af9\" fill-rule=\"evenodd\" fill-opacity=\"1\" stroke=\"#000000\" stroke-opacity=\"1\" stroke-width=\"1\"/>\n",
       "<circle clip-path=\"url(#clip382)\" cx=\"193.223\" cy=\"264.339\" r=\"3\" fill=\"#009af9\" fill-rule=\"evenodd\" fill-opacity=\"1\" stroke=\"#000000\" stroke-opacity=\"1\" stroke-width=\"1\"/>\n",
       "<circle clip-path=\"url(#clip382)\" cx=\"195.396\" cy=\"340.72\" r=\"3\" fill=\"#009af9\" fill-rule=\"evenodd\" fill-opacity=\"1\" stroke=\"#000000\" stroke-opacity=\"1\" stroke-width=\"1\"/>\n",
       "<circle clip-path=\"url(#clip382)\" cx=\"195.396\" cy=\"327.911\" r=\"3\" fill=\"#009af9\" fill-rule=\"evenodd\" fill-opacity=\"1\" stroke=\"#000000\" stroke-opacity=\"1\" stroke-width=\"1\"/>\n",
       "<circle clip-path=\"url(#clip382)\" cx=\"195.467\" cy=\"328.833\" r=\"3\" fill=\"#009af9\" fill-rule=\"evenodd\" fill-opacity=\"1\" stroke=\"#000000\" stroke-opacity=\"1\" stroke-width=\"1\"/>\n",
       "<circle clip-path=\"url(#clip382)\" cx=\"197.632\" cy=\"297.44\" r=\"3\" fill=\"#009af9\" fill-rule=\"evenodd\" fill-opacity=\"1\" stroke=\"#000000\" stroke-opacity=\"1\" stroke-width=\"1\"/>\n",
       "<circle clip-path=\"url(#clip382)\" cx=\"197.632\" cy=\"301.363\" r=\"3\" fill=\"#009af9\" fill-rule=\"evenodd\" fill-opacity=\"1\" stroke=\"#000000\" stroke-opacity=\"1\" stroke-width=\"1\"/>\n",
       "<circle clip-path=\"url(#clip382)\" cx=\"199.655\" cy=\"241.654\" r=\"3\" fill=\"#009af9\" fill-rule=\"evenodd\" fill-opacity=\"1\" stroke=\"#000000\" stroke-opacity=\"1\" stroke-width=\"1\"/>\n",
       "<circle clip-path=\"url(#clip382)\" cx=\"200.719\" cy=\"321.735\" r=\"3\" fill=\"#009af9\" fill-rule=\"evenodd\" fill-opacity=\"1\" stroke=\"#000000\" stroke-opacity=\"1\" stroke-width=\"1\"/>\n",
       "<circle clip-path=\"url(#clip382)\" cx=\"200.727\" cy=\"363.808\" r=\"3\" fill=\"#009af9\" fill-rule=\"evenodd\" fill-opacity=\"1\" stroke=\"#000000\" stroke-opacity=\"1\" stroke-width=\"1\"/>\n",
       "<circle clip-path=\"url(#clip382)\" cx=\"203.381\" cy=\"311.197\" r=\"3\" fill=\"#009af9\" fill-rule=\"evenodd\" fill-opacity=\"1\" stroke=\"#000000\" stroke-opacity=\"1\" stroke-width=\"1\"/>\n",
       "<circle clip-path=\"url(#clip382)\" cx=\"206.97\" cy=\"367.268\" r=\"3\" fill=\"#009af9\" fill-rule=\"evenodd\" fill-opacity=\"1\" stroke=\"#000000\" stroke-opacity=\"1\" stroke-width=\"1\"/>\n",
       "<circle clip-path=\"url(#clip382)\" cx=\"208.039\" cy=\"265.082\" r=\"3\" fill=\"#009af9\" fill-rule=\"evenodd\" fill-opacity=\"1\" stroke=\"#000000\" stroke-opacity=\"1\" stroke-width=\"1\"/>\n",
       "<circle clip-path=\"url(#clip382)\" cx=\"208.75\" cy=\"329.377\" r=\"3\" fill=\"#009af9\" fill-rule=\"evenodd\" fill-opacity=\"1\" stroke=\"#000000\" stroke-opacity=\"1\" stroke-width=\"1\"/>\n",
       "<circle clip-path=\"url(#clip382)\" cx=\"211.892\" cy=\"213.838\" r=\"3\" fill=\"#009af9\" fill-rule=\"evenodd\" fill-opacity=\"1\" stroke=\"#000000\" stroke-opacity=\"1\" stroke-width=\"1\"/>\n",
       "<circle clip-path=\"url(#clip382)\" cx=\"214.028\" cy=\"290.503\" r=\"3\" fill=\"#009af9\" fill-rule=\"evenodd\" fill-opacity=\"1\" stroke=\"#000000\" stroke-opacity=\"1\" stroke-width=\"1\"/>\n",
       "<circle clip-path=\"url(#clip382)\" cx=\"215.315\" cy=\"295.571\" r=\"3\" fill=\"#009af9\" fill-rule=\"evenodd\" fill-opacity=\"1\" stroke=\"#000000\" stroke-opacity=\"1\" stroke-width=\"1\"/>\n",
       "<circle clip-path=\"url(#clip382)\" cx=\"217.222\" cy=\"296.314\" r=\"3\" fill=\"#009af9\" fill-rule=\"evenodd\" fill-opacity=\"1\" stroke=\"#000000\" stroke-opacity=\"1\" stroke-width=\"1\"/>\n",
       "<circle clip-path=\"url(#clip382)\" cx=\"217.767\" cy=\"344.922\" r=\"3\" fill=\"#009af9\" fill-rule=\"evenodd\" fill-opacity=\"1\" stroke=\"#000000\" stroke-opacity=\"1\" stroke-width=\"1\"/>\n",
       "<circle clip-path=\"url(#clip382)\" cx=\"220.416\" cy=\"265.466\" r=\"3\" fill=\"#009af9\" fill-rule=\"evenodd\" fill-opacity=\"1\" stroke=\"#000000\" stroke-opacity=\"1\" stroke-width=\"1\"/>\n",
       "<circle clip-path=\"url(#clip382)\" cx=\"220.949\" cy=\"297.44\" r=\"3\" fill=\"#009af9\" fill-rule=\"evenodd\" fill-opacity=\"1\" stroke=\"#000000\" stroke-opacity=\"1\" stroke-width=\"1\"/>\n",
       "<circle clip-path=\"url(#clip382)\" cx=\"221.481\" cy=\"313.226\" r=\"3\" fill=\"#009af9\" fill-rule=\"evenodd\" fill-opacity=\"1\" stroke=\"#000000\" stroke-opacity=\"1\" stroke-width=\"1\"/>\n",
       "<circle clip-path=\"url(#clip382)\" cx=\"224.163\" cy=\"240.849\" r=\"3\" fill=\"#009af9\" fill-rule=\"evenodd\" fill-opacity=\"1\" stroke=\"#000000\" stroke-opacity=\"1\" stroke-width=\"1\"/>\n",
       "<circle clip-path=\"url(#clip382)\" cx=\"227.869\" cy=\"270.15\" r=\"3\" fill=\"#009af9\" fill-rule=\"evenodd\" fill-opacity=\"1\" stroke=\"#000000\" stroke-opacity=\"1\" stroke-width=\"1\"/>\n",
       "<circle clip-path=\"url(#clip382)\" cx=\"230.285\" cy=\"275.682\" r=\"3\" fill=\"#009af9\" fill-rule=\"evenodd\" fill-opacity=\"1\" stroke=\"#000000\" stroke-opacity=\"1\" stroke-width=\"1\"/>\n",
       "<circle clip-path=\"url(#clip382)\" cx=\"232.66\" cy=\"183.25\" r=\"3\" fill=\"#009af9\" fill-rule=\"evenodd\" fill-opacity=\"1\" stroke=\"#000000\" stroke-opacity=\"1\" stroke-width=\"1\"/>\n",
       "<circle clip-path=\"url(#clip382)\" cx=\"237.111\" cy=\"301.926\" r=\"3\" fill=\"#009af9\" fill-rule=\"evenodd\" fill-opacity=\"1\" stroke=\"#000000\" stroke-opacity=\"1\" stroke-width=\"1\"/>\n",
       "<circle clip-path=\"url(#clip382)\" cx=\"240.193\" cy=\"299.551\" r=\"3\" fill=\"#009af9\" fill-rule=\"evenodd\" fill-opacity=\"1\" stroke=\"#000000\" stroke-opacity=\"1\" stroke-width=\"1\"/>\n",
       "<circle clip-path=\"url(#clip382)\" cx=\"241.045\" cy=\"226.487\" r=\"3\" fill=\"#009af9\" fill-rule=\"evenodd\" fill-opacity=\"1\" stroke=\"#000000\" stroke-opacity=\"1\" stroke-width=\"1\"/>\n",
       "<circle clip-path=\"url(#clip382)\" cx=\"241.045\" cy=\"266.53\" r=\"3\" fill=\"#009af9\" fill-rule=\"evenodd\" fill-opacity=\"1\" stroke=\"#000000\" stroke-opacity=\"1\" stroke-width=\"1\"/>\n",
       "<circle clip-path=\"url(#clip382)\" cx=\"245.57\" cy=\"269.928\" r=\"3\" fill=\"#009af9\" fill-rule=\"evenodd\" fill-opacity=\"1\" stroke=\"#000000\" stroke-opacity=\"1\" stroke-width=\"1\"/>\n",
       "<circle clip-path=\"url(#clip382)\" cx=\"246.613\" cy=\"311.017\" r=\"3\" fill=\"#009af9\" fill-rule=\"evenodd\" fill-opacity=\"1\" stroke=\"#000000\" stroke-opacity=\"1\" stroke-width=\"1\"/>\n",
       "<circle clip-path=\"url(#clip382)\" cx=\"247.049\" cy=\"287.948\" r=\"3\" fill=\"#009af9\" fill-rule=\"evenodd\" fill-opacity=\"1\" stroke=\"#000000\" stroke-opacity=\"1\" stroke-width=\"1\"/>\n",
       "<circle clip-path=\"url(#clip382)\" cx=\"247.38\" cy=\"203.782\" r=\"3\" fill=\"#009af9\" fill-rule=\"evenodd\" fill-opacity=\"1\" stroke=\"#000000\" stroke-opacity=\"1\" stroke-width=\"1\"/>\n",
       "<circle clip-path=\"url(#clip382)\" cx=\"249.323\" cy=\"301.846\" r=\"3\" fill=\"#009af9\" fill-rule=\"evenodd\" fill-opacity=\"1\" stroke=\"#000000\" stroke-opacity=\"1\" stroke-width=\"1\"/>\n",
       "<circle clip-path=\"url(#clip382)\" cx=\"259.544\" cy=\"235.961\" r=\"3\" fill=\"#009af9\" fill-rule=\"evenodd\" fill-opacity=\"1\" stroke=\"#000000\" stroke-opacity=\"1\" stroke-width=\"1\"/>\n",
       "<circle clip-path=\"url(#clip382)\" cx=\"260.343\" cy=\"275.961\" r=\"3\" fill=\"#009af9\" fill-rule=\"evenodd\" fill-opacity=\"1\" stroke=\"#000000\" stroke-opacity=\"1\" stroke-width=\"1\"/>\n",
       "<circle clip-path=\"url(#clip382)\" cx=\"261.94\" cy=\"211.567\" r=\"3\" fill=\"#009af9\" fill-rule=\"evenodd\" fill-opacity=\"1\" stroke=\"#000000\" stroke-opacity=\"1\" stroke-width=\"1\"/>\n",
       "<circle clip-path=\"url(#clip382)\" cx=\"265.294\" cy=\"176.573\" r=\"3\" fill=\"#009af9\" fill-rule=\"evenodd\" fill-opacity=\"1\" stroke=\"#000000\" stroke-opacity=\"1\" stroke-width=\"1\"/>\n",
       "<circle clip-path=\"url(#clip382)\" cx=\"265.635\" cy=\"290.664\" r=\"3\" fill=\"#009af9\" fill-rule=\"evenodd\" fill-opacity=\"1\" stroke=\"#000000\" stroke-opacity=\"1\" stroke-width=\"1\"/>\n",
       "<circle clip-path=\"url(#clip382)\" cx=\"268.717\" cy=\"308.684\" r=\"3\" fill=\"#009af9\" fill-rule=\"evenodd\" fill-opacity=\"1\" stroke=\"#000000\" stroke-opacity=\"1\" stroke-width=\"1\"/>\n",
       "<circle clip-path=\"url(#clip382)\" cx=\"270.457\" cy=\"314.817\" r=\"3\" fill=\"#009af9\" fill-rule=\"evenodd\" fill-opacity=\"1\" stroke=\"#000000\" stroke-opacity=\"1\" stroke-width=\"1\"/>\n",
       "<circle clip-path=\"url(#clip382)\" cx=\"272.305\" cy=\"179.166\" r=\"3\" fill=\"#009af9\" fill-rule=\"evenodd\" fill-opacity=\"1\" stroke=\"#000000\" stroke-opacity=\"1\" stroke-width=\"1\"/>\n",
       "<circle clip-path=\"url(#clip382)\" cx=\"272.587\" cy=\"216.753\" r=\"3\" fill=\"#009af9\" fill-rule=\"evenodd\" fill-opacity=\"1\" stroke=\"#000000\" stroke-opacity=\"1\" stroke-width=\"1\"/>\n",
       "<circle clip-path=\"url(#clip382)\" cx=\"275.348\" cy=\"266.128\" r=\"3\" fill=\"#009af9\" fill-rule=\"evenodd\" fill-opacity=\"1\" stroke=\"#000000\" stroke-opacity=\"1\" stroke-width=\"1\"/>\n",
       "<circle clip-path=\"url(#clip382)\" cx=\"283.234\" cy=\"280.627\" r=\"3\" fill=\"#009af9\" fill-rule=\"evenodd\" fill-opacity=\"1\" stroke=\"#000000\" stroke-opacity=\"1\" stroke-width=\"1\"/>\n",
       "<circle clip-path=\"url(#clip382)\" cx=\"288.557\" cy=\"189.927\" r=\"3\" fill=\"#009af9\" fill-rule=\"evenodd\" fill-opacity=\"1\" stroke=\"#000000\" stroke-opacity=\"1\" stroke-width=\"1\"/>\n",
       "<circle clip-path=\"url(#clip382)\" cx=\"291.219\" cy=\"175.286\" r=\"3\" fill=\"#009af9\" fill-rule=\"evenodd\" fill-opacity=\"1\" stroke=\"#000000\" stroke-opacity=\"1\" stroke-width=\"1\"/>\n",
       "<circle clip-path=\"url(#clip382)\" cx=\"307.19\" cy=\"249.94\" r=\"3\" fill=\"#009af9\" fill-rule=\"evenodd\" fill-opacity=\"1\" stroke=\"#000000\" stroke-opacity=\"1\" stroke-width=\"1\"/>\n",
       "<circle clip-path=\"url(#clip382)\" cx=\"307.722\" cy=\"236.765\" r=\"3\" fill=\"#009af9\" fill-rule=\"evenodd\" fill-opacity=\"1\" stroke=\"#000000\" stroke-opacity=\"1\" stroke-width=\"1\"/>\n",
       "<circle clip-path=\"url(#clip382)\" cx=\"322.805\" cy=\"179.166\" r=\"3\" fill=\"#009af9\" fill-rule=\"evenodd\" fill-opacity=\"1\" stroke=\"#000000\" stroke-opacity=\"1\" stroke-width=\"1\"/>\n",
       "<circle clip-path=\"url(#clip382)\" cx=\"333.807\" cy=\"183.893\" r=\"3\" fill=\"#009af9\" fill-rule=\"evenodd\" fill-opacity=\"1\" stroke=\"#000000\" stroke-opacity=\"1\" stroke-width=\"1\"/>\n",
       "<circle clip-path=\"url(#clip382)\" cx=\"349.245\" cy=\"257.842\" r=\"3\" fill=\"#009af9\" fill-rule=\"evenodd\" fill-opacity=\"1\" stroke=\"#000000\" stroke-opacity=\"1\" stroke-width=\"1\"/>\n",
       "<circle clip-path=\"url(#clip382)\" cx=\"413.66\" cy=\"258.665\" r=\"3\" fill=\"#009af9\" fill-rule=\"evenodd\" fill-opacity=\"1\" stroke=\"#000000\" stroke-opacity=\"1\" stroke-width=\"1\"/>\n",
       "<circle clip-path=\"url(#clip382)\" cx=\"99.0404\" cy=\"371.55\" r=\"3\" fill=\"#009af9\" fill-rule=\"evenodd\" fill-opacity=\"1\" stroke=\"#000000\" stroke-opacity=\"1\" stroke-width=\"1\"/>\n",
       "<circle clip-path=\"url(#clip382)\" cx=\"99.5727\" cy=\"367.49\" r=\"3\" fill=\"#009af9\" fill-rule=\"evenodd\" fill-opacity=\"1\" stroke=\"#000000\" stroke-opacity=\"1\" stroke-width=\"1\"/>\n",
       "<circle clip-path=\"url(#clip382)\" cx=\"100.105\" cy=\"367.93\" r=\"3\" fill=\"#009af9\" fill-rule=\"evenodd\" fill-opacity=\"1\" stroke=\"#000000\" stroke-opacity=\"1\" stroke-width=\"1\"/>\n",
       "<circle clip-path=\"url(#clip382)\" cx=\"103.832\" cy=\"371.148\" r=\"3\" fill=\"#009af9\" fill-rule=\"evenodd\" fill-opacity=\"1\" stroke=\"#000000\" stroke-opacity=\"1\" stroke-width=\"1\"/>\n",
       "<circle clip-path=\"url(#clip382)\" cx=\"104.044\" cy=\"375.492\" r=\"3\" fill=\"#009af9\" fill-rule=\"evenodd\" fill-opacity=\"1\" stroke=\"#000000\" stroke-opacity=\"1\" stroke-width=\"1\"/>\n",
       "<circle clip-path=\"url(#clip382)\" cx=\"104.896\" cy=\"359.866\" r=\"3\" fill=\"#009af9\" fill-rule=\"evenodd\" fill-opacity=\"1\" stroke=\"#000000\" stroke-opacity=\"1\" stroke-width=\"1\"/>\n",
       "<circle clip-path=\"url(#clip382)\" cx=\"109.687\" cy=\"350.033\" r=\"3\" fill=\"#009af9\" fill-rule=\"evenodd\" fill-opacity=\"1\" stroke=\"#000000\" stroke-opacity=\"1\" stroke-width=\"1\"/>\n",
       "<circle clip-path=\"url(#clip382)\" cx=\"110.22\" cy=\"338.146\" r=\"3\" fill=\"#009af9\" fill-rule=\"evenodd\" fill-opacity=\"1\" stroke=\"#000000\" stroke-opacity=\"1\" stroke-width=\"1\"/>\n",
       "<circle clip-path=\"url(#clip382)\" cx=\"110.22\" cy=\"365.677\" r=\"3\" fill=\"#009af9\" fill-rule=\"evenodd\" fill-opacity=\"1\" stroke=\"#000000\" stroke-opacity=\"1\" stroke-width=\"1\"/>\n",
       "<circle clip-path=\"url(#clip382)\" cx=\"111.284\" cy=\"371.37\" r=\"3\" fill=\"#009af9\" fill-rule=\"evenodd\" fill-opacity=\"1\" stroke=\"#000000\" stroke-opacity=\"1\" stroke-width=\"1\"/>\n",
       "<circle clip-path=\"url(#clip382)\" cx=\"112.176\" cy=\"386.432\" r=\"3\" fill=\"#009af9\" fill-rule=\"evenodd\" fill-opacity=\"1\" stroke=\"#000000\" stroke-opacity=\"1\" stroke-width=\"1\"/>\n",
       "<circle clip-path=\"url(#clip382)\" cx=\"114.479\" cy=\"337.36\" r=\"3\" fill=\"#009af9\" fill-rule=\"evenodd\" fill-opacity=\"1\" stroke=\"#000000\" stroke-opacity=\"1\" stroke-width=\"1\"/>\n",
       "<circle clip-path=\"url(#clip382)\" cx=\"114.479\" cy=\"367.225\" r=\"3\" fill=\"#009af9\" fill-rule=\"evenodd\" fill-opacity=\"1\" stroke=\"#000000\" stroke-opacity=\"1\" stroke-width=\"1\"/>\n",
       "<circle clip-path=\"url(#clip382)\" cx=\"115.011\" cy=\"313.529\" r=\"3\" fill=\"#009af9\" fill-rule=\"evenodd\" fill-opacity=\"1\" stroke=\"#000000\" stroke-opacity=\"1\" stroke-width=\"1\"/>\n",
       "<circle clip-path=\"url(#clip382)\" cx=\"115.543\" cy=\"367.225\" r=\"3\" fill=\"#009af9\" fill-rule=\"evenodd\" fill-opacity=\"1\" stroke=\"#000000\" stroke-opacity=\"1\" stroke-width=\"1\"/>\n",
       "<circle clip-path=\"url(#clip382)\" cx=\"119.119\" cy=\"358.821\" r=\"3\" fill=\"#009af9\" fill-rule=\"evenodd\" fill-opacity=\"1\" stroke=\"#000000\" stroke-opacity=\"1\" stroke-width=\"1\"/>\n",
       "<circle clip-path=\"url(#clip382)\" cx=\"121.399\" cy=\"362.119\" r=\"3\" fill=\"#009af9\" fill-rule=\"evenodd\" fill-opacity=\"1\" stroke=\"#000000\" stroke-opacity=\"1\" stroke-width=\"1\"/>\n",
       "<circle clip-path=\"url(#clip382)\" cx=\"121.399\" cy=\"361.154\" r=\"3\" fill=\"#009af9\" fill-rule=\"evenodd\" fill-opacity=\"1\" stroke=\"#000000\" stroke-opacity=\"1\" stroke-width=\"1\"/>\n",
       "<circle clip-path=\"url(#clip382)\" cx=\"123.422\" cy=\"357.713\" r=\"3\" fill=\"#009af9\" fill-rule=\"evenodd\" fill-opacity=\"1\" stroke=\"#000000\" stroke-opacity=\"1\" stroke-width=\"1\"/>\n",
       "<circle clip-path=\"url(#clip382)\" cx=\"126.248\" cy=\"357.373\" r=\"3\" fill=\"#009af9\" fill-rule=\"evenodd\" fill-opacity=\"1\" stroke=\"#000000\" stroke-opacity=\"1\" stroke-width=\"1\"/>\n",
       "<circle clip-path=\"url(#clip382)\" cx=\"127.907\" cy=\"361.234\" r=\"3\" fill=\"#009af9\" fill-rule=\"evenodd\" fill-opacity=\"1\" stroke=\"#000000\" stroke-opacity=\"1\" stroke-width=\"1\"/>\n",
       "<circle clip-path=\"url(#clip382)\" cx=\"128.187\" cy=\"356.407\" r=\"3\" fill=\"#009af9\" fill-rule=\"evenodd\" fill-opacity=\"1\" stroke=\"#000000\" stroke-opacity=\"1\" stroke-width=\"1\"/>\n",
       "<circle clip-path=\"url(#clip382)\" cx=\"128.852\" cy=\"374.266\" r=\"3\" fill=\"#009af9\" fill-rule=\"evenodd\" fill-opacity=\"1\" stroke=\"#000000\" stroke-opacity=\"1\" stroke-width=\"1\"/>\n",
       "<circle clip-path=\"url(#clip382)\" cx=\"128.852\" cy=\"355.603\" r=\"3\" fill=\"#009af9\" fill-rule=\"evenodd\" fill-opacity=\"1\" stroke=\"#000000\" stroke-opacity=\"1\" stroke-width=\"1\"/>\n",
       "<circle clip-path=\"url(#clip382)\" cx=\"129.384\" cy=\"358.821\" r=\"3\" fill=\"#009af9\" fill-rule=\"evenodd\" fill-opacity=\"1\" stroke=\"#000000\" stroke-opacity=\"1\" stroke-width=\"1\"/>\n",
       "<circle clip-path=\"url(#clip382)\" cx=\"130.981\" cy=\"368.716\" r=\"3\" fill=\"#009af9\" fill-rule=\"evenodd\" fill-opacity=\"1\" stroke=\"#000000\" stroke-opacity=\"1\" stroke-width=\"1\"/>\n",
       "<circle clip-path=\"url(#clip382)\" cx=\"133.643\" cy=\"358.92\" r=\"3\" fill=\"#009af9\" fill-rule=\"evenodd\" fill-opacity=\"1\" stroke=\"#000000\" stroke-opacity=\"1\" stroke-width=\"1\"/>\n",
       "<circle clip-path=\"url(#clip382)\" cx=\"134.176\" cy=\"348.282\" r=\"3\" fill=\"#009af9\" fill-rule=\"evenodd\" fill-opacity=\"1\" stroke=\"#000000\" stroke-opacity=\"1\" stroke-width=\"1\"/>\n",
       "<circle clip-path=\"url(#clip382)\" cx=\"134.442\" cy=\"344.019\" r=\"3\" fill=\"#009af9\" fill-rule=\"evenodd\" fill-opacity=\"1\" stroke=\"#000000\" stroke-opacity=\"1\" stroke-width=\"1\"/>\n",
       "<circle clip-path=\"url(#clip382)\" cx=\"136.837\" cy=\"358.821\" r=\"3\" fill=\"#009af9\" fill-rule=\"evenodd\" fill-opacity=\"1\" stroke=\"#000000\" stroke-opacity=\"1\" stroke-width=\"1\"/>\n",
       "<circle clip-path=\"url(#clip382)\" cx=\"136.837\" cy=\"343.858\" r=\"3\" fill=\"#009af9\" fill-rule=\"evenodd\" fill-opacity=\"1\" stroke=\"#000000\" stroke-opacity=\"1\" stroke-width=\"1\"/>\n",
       "<circle clip-path=\"url(#clip382)\" cx=\"138.168\" cy=\"355.541\" r=\"3\" fill=\"#009af9\" fill-rule=\"evenodd\" fill-opacity=\"1\" stroke=\"#000000\" stroke-opacity=\"1\" stroke-width=\"1\"/>\n",
       "<circle clip-path=\"url(#clip382)\" cx=\"138.701\" cy=\"349.006\" r=\"3\" fill=\"#009af9\" fill-rule=\"evenodd\" fill-opacity=\"1\" stroke=\"#000000\" stroke-opacity=\"1\" stroke-width=\"1\"/>\n",
       "<circle clip-path=\"url(#clip382)\" cx=\"139.499\" cy=\"377.422\" r=\"3\" fill=\"#009af9\" fill-rule=\"evenodd\" fill-opacity=\"1\" stroke=\"#000000\" stroke-opacity=\"1\" stroke-width=\"1\"/>\n",
       "<circle clip-path=\"url(#clip382)\" cx=\"139.499\" cy=\"339.414\" r=\"3\" fill=\"#009af9\" fill-rule=\"evenodd\" fill-opacity=\"1\" stroke=\"#000000\" stroke-opacity=\"1\" stroke-width=\"1\"/>\n",
       "<circle clip-path=\"url(#clip382)\" cx=\"139.499\" cy=\"350.132\" r=\"3\" fill=\"#009af9\" fill-rule=\"evenodd\" fill-opacity=\"1\" stroke=\"#000000\" stroke-opacity=\"1\" stroke-width=\"1\"/>\n",
       "<circle clip-path=\"url(#clip382)\" cx=\"140.031\" cy=\"360.733\" r=\"3\" fill=\"#009af9\" fill-rule=\"evenodd\" fill-opacity=\"1\" stroke=\"#000000\" stroke-opacity=\"1\" stroke-width=\"1\"/>\n",
       "<circle clip-path=\"url(#clip382)\" cx=\"141.362\" cy=\"339.514\" r=\"3\" fill=\"#009af9\" fill-rule=\"evenodd\" fill-opacity=\"1\" stroke=\"#000000\" stroke-opacity=\"1\" stroke-width=\"1\"/>\n",
       "<circle clip-path=\"url(#clip382)\" cx=\"141.628\" cy=\"355.844\" r=\"3\" fill=\"#009af9\" fill-rule=\"evenodd\" fill-opacity=\"1\" stroke=\"#000000\" stroke-opacity=\"1\" stroke-width=\"1\"/>\n",
       "<circle clip-path=\"url(#clip382)\" cx=\"142.161\" cy=\"335.974\" r=\"3\" fill=\"#009af9\" fill-rule=\"evenodd\" fill-opacity=\"1\" stroke=\"#000000\" stroke-opacity=\"1\" stroke-width=\"1\"/>\n",
       "<circle clip-path=\"url(#clip382)\" cx=\"142.161\" cy=\"350.516\" r=\"3\" fill=\"#009af9\" fill-rule=\"evenodd\" fill-opacity=\"1\" stroke=\"#000000\" stroke-opacity=\"1\" stroke-width=\"1\"/>\n",
       "<circle clip-path=\"url(#clip382)\" cx=\"143.226\" cy=\"354.576\" r=\"3\" fill=\"#009af9\" fill-rule=\"evenodd\" fill-opacity=\"1\" stroke=\"#000000\" stroke-opacity=\"1\" stroke-width=\"1\"/>\n",
       "<circle clip-path=\"url(#clip382)\" cx=\"145.355\" cy=\"356.89\" r=\"3\" fill=\"#009af9\" fill-rule=\"evenodd\" fill-opacity=\"1\" stroke=\"#000000\" stroke-opacity=\"1\" stroke-width=\"1\"/>\n",
       "<circle clip-path=\"url(#clip382)\" cx=\"145.355\" cy=\"370.343\" r=\"3\" fill=\"#009af9\" fill-rule=\"evenodd\" fill-opacity=\"1\" stroke=\"#000000\" stroke-opacity=\"1\" stroke-width=\"1\"/>\n",
       "<circle clip-path=\"url(#clip382)\" cx=\"145.355\" cy=\"345.164\" r=\"3\" fill=\"#009af9\" fill-rule=\"evenodd\" fill-opacity=\"1\" stroke=\"#000000\" stroke-opacity=\"1\" stroke-width=\"1\"/>\n",
       "<circle clip-path=\"url(#clip382)\" cx=\"146.307\" cy=\"362.781\" r=\"3\" fill=\"#009af9\" fill-rule=\"evenodd\" fill-opacity=\"1\" stroke=\"#000000\" stroke-opacity=\"1\" stroke-width=\"1\"/>\n",
       "<circle clip-path=\"url(#clip382)\" cx=\"148.364\" cy=\"352.707\" r=\"3\" fill=\"#009af9\" fill-rule=\"evenodd\" fill-opacity=\"1\" stroke=\"#000000\" stroke-opacity=\"1\" stroke-width=\"1\"/>\n",
       "<circle clip-path=\"url(#clip382)\" cx=\"148.458\" cy=\"329.235\" r=\"3\" fill=\"#009af9\" fill-rule=\"evenodd\" fill-opacity=\"1\" stroke=\"#000000\" stroke-opacity=\"1\" stroke-width=\"1\"/>\n",
       "<circle clip-path=\"url(#clip382)\" cx=\"150.146\" cy=\"333.721\" r=\"3\" fill=\"#009af9\" fill-rule=\"evenodd\" fill-opacity=\"1\" stroke=\"#000000\" stroke-opacity=\"1\" stroke-width=\"1\"/>\n",
       "<circle clip-path=\"url(#clip382)\" cx=\"151.743\" cy=\"329.941\" r=\"3\" fill=\"#009af9\" fill-rule=\"evenodd\" fill-opacity=\"1\" stroke=\"#000000\" stroke-opacity=\"1\" stroke-width=\"1\"/>\n",
       "<circle clip-path=\"url(#clip382)\" cx=\"152.275\" cy=\"352.465\" r=\"3\" fill=\"#009af9\" fill-rule=\"evenodd\" fill-opacity=\"1\" stroke=\"#000000\" stroke-opacity=\"1\" stroke-width=\"1\"/>\n",
       "<circle clip-path=\"url(#clip382)\" cx=\"155.47\" cy=\"311.277\" r=\"3\" fill=\"#009af9\" fill-rule=\"evenodd\" fill-opacity=\"1\" stroke=\"#000000\" stroke-opacity=\"1\" stroke-width=\"1\"/>\n",
       "<circle clip-path=\"url(#clip382)\" cx=\"156.135\" cy=\"305.726\" r=\"3\" fill=\"#009af9\" fill-rule=\"evenodd\" fill-opacity=\"1\" stroke=\"#000000\" stroke-opacity=\"1\" stroke-width=\"1\"/>\n",
       "<circle clip-path=\"url(#clip382)\" cx=\"157.599\" cy=\"343.938\" r=\"3\" fill=\"#009af9\" fill-rule=\"evenodd\" fill-opacity=\"1\" stroke=\"#000000\" stroke-opacity=\"1\" stroke-width=\"1\"/>\n",
       "<circle clip-path=\"url(#clip382)\" cx=\"158.131\" cy=\"354.495\" r=\"3\" fill=\"#009af9\" fill-rule=\"evenodd\" fill-opacity=\"1\" stroke=\"#000000\" stroke-opacity=\"1\" stroke-width=\"1\"/>\n",
       "<circle clip-path=\"url(#clip382)\" cx=\"158.344\" cy=\"307.657\" r=\"3\" fill=\"#009af9\" fill-rule=\"evenodd\" fill-opacity=\"1\" stroke=\"#000000\" stroke-opacity=\"1\" stroke-width=\"1\"/>\n",
       "<circle clip-path=\"url(#clip382)\" cx=\"159.196\" cy=\"320.349\" r=\"3\" fill=\"#009af9\" fill-rule=\"evenodd\" fill-opacity=\"1\" stroke=\"#000000\" stroke-opacity=\"1\" stroke-width=\"1\"/>\n",
       "<circle clip-path=\"url(#clip382)\" cx=\"160.527\" cy=\"308.764\" r=\"3\" fill=\"#009af9\" fill-rule=\"evenodd\" fill-opacity=\"1\" stroke=\"#000000\" stroke-opacity=\"1\" stroke-width=\"1\"/>\n",
       "<circle clip-path=\"url(#clip382)\" cx=\"160.793\" cy=\"320.609\" r=\"3\" fill=\"#009af9\" fill-rule=\"evenodd\" fill-opacity=\"1\" stroke=\"#000000\" stroke-opacity=\"1\" stroke-width=\"1\"/>\n",
       "<circle clip-path=\"url(#clip382)\" cx=\"162.923\" cy=\"365.801\" r=\"3\" fill=\"#009af9\" fill-rule=\"evenodd\" fill-opacity=\"1\" stroke=\"#000000\" stroke-opacity=\"1\" stroke-width=\"1\"/>\n",
       "<circle clip-path=\"url(#clip382)\" cx=\"165.584\" cy=\"354.235\" r=\"3\" fill=\"#009af9\" fill-rule=\"evenodd\" fill-opacity=\"1\" stroke=\"#000000\" stroke-opacity=\"1\" stroke-width=\"1\"/>\n",
       "<circle clip-path=\"url(#clip382)\" cx=\"166.117\" cy=\"351.259\" r=\"3\" fill=\"#009af9\" fill-rule=\"evenodd\" fill-opacity=\"1\" stroke=\"#000000\" stroke-opacity=\"1\" stroke-width=\"1\"/>\n",
       "<circle clip-path=\"url(#clip382)\" cx=\"168.778\" cy=\"333.641\" r=\"3\" fill=\"#009af9\" fill-rule=\"evenodd\" fill-opacity=\"1\" stroke=\"#000000\" stroke-opacity=\"1\" stroke-width=\"1\"/>\n",
       "<circle clip-path=\"url(#clip382)\" cx=\"171.44\" cy=\"342.007\" r=\"3\" fill=\"#009af9\" fill-rule=\"evenodd\" fill-opacity=\"1\" stroke=\"#000000\" stroke-opacity=\"1\" stroke-width=\"1\"/>\n",
       "<circle clip-path=\"url(#clip382)\" cx=\"171.44\" cy=\"311.178\" r=\"3\" fill=\"#009af9\" fill-rule=\"evenodd\" fill-opacity=\"1\" stroke=\"#000000\" stroke-opacity=\"1\" stroke-width=\"1\"/>\n",
       "<circle clip-path=\"url(#clip382)\" cx=\"171.44\" cy=\"298.789\" r=\"3\" fill=\"#009af9\" fill-rule=\"evenodd\" fill-opacity=\"1\" stroke=\"#000000\" stroke-opacity=\"1\" stroke-width=\"1\"/>\n",
       "<circle clip-path=\"url(#clip382)\" cx=\"172.505\" cy=\"377.342\" r=\"3\" fill=\"#009af9\" fill-rule=\"evenodd\" fill-opacity=\"1\" stroke=\"#000000\" stroke-opacity=\"1\" stroke-width=\"1\"/>\n",
       "<circle clip-path=\"url(#clip382)\" cx=\"176.764\" cy=\"328.956\" r=\"3\" fill=\"#009af9\" fill-rule=\"evenodd\" fill-opacity=\"1\" stroke=\"#000000\" stroke-opacity=\"1\" stroke-width=\"1\"/>\n",
       "<circle clip-path=\"url(#clip382)\" cx=\"176.764\" cy=\"339.755\" r=\"3\" fill=\"#009af9\" fill-rule=\"evenodd\" fill-opacity=\"1\" stroke=\"#000000\" stroke-opacity=\"1\" stroke-width=\"1\"/>\n",
       "<circle clip-path=\"url(#clip382)\" cx=\"180.693\" cy=\"336.296\" r=\"3\" fill=\"#009af9\" fill-rule=\"evenodd\" fill-opacity=\"1\" stroke=\"#000000\" stroke-opacity=\"1\" stroke-width=\"1\"/>\n",
       "<circle clip-path=\"url(#clip382)\" cx=\"182.087\" cy=\"323.263\" r=\"3\" fill=\"#009af9\" fill-rule=\"evenodd\" fill-opacity=\"1\" stroke=\"#000000\" stroke-opacity=\"1\" stroke-width=\"1\"/>\n",
       "<circle clip-path=\"url(#clip382)\" cx=\"182.087\" cy=\"315.039\" r=\"3\" fill=\"#009af9\" fill-rule=\"evenodd\" fill-opacity=\"1\" stroke=\"#000000\" stroke-opacity=\"1\" stroke-width=\"1\"/>\n",
       "<circle clip-path=\"url(#clip382)\" cx=\"182.087\" cy=\"327.849\" r=\"3\" fill=\"#009af9\" fill-rule=\"evenodd\" fill-opacity=\"1\" stroke=\"#000000\" stroke-opacity=\"1\" stroke-width=\"1\"/>\n",
       "<circle clip-path=\"url(#clip382)\" cx=\"183.684\" cy=\"326.784\" r=\"3\" fill=\"#009af9\" fill-rule=\"evenodd\" fill-opacity=\"1\" stroke=\"#000000\" stroke-opacity=\"1\" stroke-width=\"1\"/>\n",
       "<circle clip-path=\"url(#clip382)\" cx=\"184.571\" cy=\"337.242\" r=\"3\" fill=\"#009af9\" fill-rule=\"evenodd\" fill-opacity=\"1\" stroke=\"#000000\" stroke-opacity=\"1\" stroke-width=\"1\"/>\n",
       "<circle clip-path=\"url(#clip382)\" cx=\"184.749\" cy=\"347.88\" r=\"3\" fill=\"#009af9\" fill-rule=\"evenodd\" fill-opacity=\"1\" stroke=\"#000000\" stroke-opacity=\"1\" stroke-width=\"1\"/>\n",
       "<circle clip-path=\"url(#clip382)\" cx=\"184.749\" cy=\"329.718\" r=\"3\" fill=\"#009af9\" fill-rule=\"evenodd\" fill-opacity=\"1\" stroke=\"#000000\" stroke-opacity=\"1\" stroke-width=\"1\"/>\n",
       "<circle clip-path=\"url(#clip382)\" cx=\"184.749\" cy=\"319.643\" r=\"3\" fill=\"#009af9\" fill-rule=\"evenodd\" fill-opacity=\"1\" stroke=\"#000000\" stroke-opacity=\"1\" stroke-width=\"1\"/>\n",
       "<circle clip-path=\"url(#clip382)\" cx=\"186.878\" cy=\"302.83\" r=\"3\" fill=\"#009af9\" fill-rule=\"evenodd\" fill-opacity=\"1\" stroke=\"#000000\" stroke-opacity=\"1\" stroke-width=\"1\"/>\n",
       "<circle clip-path=\"url(#clip382)\" cx=\"187.411\" cy=\"269.767\" r=\"3\" fill=\"#009af9\" fill-rule=\"evenodd\" fill-opacity=\"1\" stroke=\"#000000\" stroke-opacity=\"1\" stroke-width=\"1\"/>\n",
       "<circle clip-path=\"url(#clip382)\" cx=\"188.076\" cy=\"341.847\" r=\"3\" fill=\"#009af9\" fill-rule=\"evenodd\" fill-opacity=\"1\" stroke=\"#000000\" stroke-opacity=\"1\" stroke-width=\"1\"/>\n",
       "<circle clip-path=\"url(#clip382)\" cx=\"192.734\" cy=\"324.792\" r=\"3\" fill=\"#009af9\" fill-rule=\"evenodd\" fill-opacity=\"1\" stroke=\"#000000\" stroke-opacity=\"1\" stroke-width=\"1\"/>\n",
       "<circle clip-path=\"url(#clip382)\" cx=\"192.734\" cy=\"255.509\" r=\"3\" fill=\"#009af9\" fill-rule=\"evenodd\" fill-opacity=\"1\" stroke=\"#000000\" stroke-opacity=\"1\" stroke-width=\"1\"/>\n",
       "<circle clip-path=\"url(#clip382)\" cx=\"192.734\" cy=\"333.418\" r=\"3\" fill=\"#009af9\" fill-rule=\"evenodd\" fill-opacity=\"1\" stroke=\"#000000\" stroke-opacity=\"1\" stroke-width=\"1\"/>\n",
       "<circle clip-path=\"url(#clip382)\" cx=\"195.396\" cy=\"351.098\" r=\"3\" fill=\"#009af9\" fill-rule=\"evenodd\" fill-opacity=\"1\" stroke=\"#000000\" stroke-opacity=\"1\" stroke-width=\"1\"/>\n",
       "<circle clip-path=\"url(#clip382)\" cx=\"195.396\" cy=\"338.771\" r=\"3\" fill=\"#009af9\" fill-rule=\"evenodd\" fill-opacity=\"1\" stroke=\"#000000\" stroke-opacity=\"1\" stroke-width=\"1\"/>\n",
       "<circle clip-path=\"url(#clip382)\" cx=\"195.396\" cy=\"325.194\" r=\"3\" fill=\"#009af9\" fill-rule=\"evenodd\" fill-opacity=\"1\" stroke=\"#000000\" stroke-opacity=\"1\" stroke-width=\"1\"/>\n",
       "<circle clip-path=\"url(#clip382)\" cx=\"198.058\" cy=\"319.08\" r=\"3\" fill=\"#009af9\" fill-rule=\"evenodd\" fill-opacity=\"1\" stroke=\"#000000\" stroke-opacity=\"1\" stroke-width=\"1\"/>\n",
       "<circle clip-path=\"url(#clip382)\" cx=\"199.51\" cy=\"271.134\" r=\"3\" fill=\"#009af9\" fill-rule=\"evenodd\" fill-opacity=\"1\" stroke=\"#000000\" stroke-opacity=\"1\" stroke-width=\"1\"/>\n",
       "<circle clip-path=\"url(#clip382)\" cx=\"200.719\" cy=\"327.589\" r=\"3\" fill=\"#009af9\" fill-rule=\"evenodd\" fill-opacity=\"1\" stroke=\"#000000\" stroke-opacity=\"1\" stroke-width=\"1\"/>\n",
       "<circle clip-path=\"url(#clip382)\" cx=\"201.252\" cy=\"319.643\" r=\"3\" fill=\"#009af9\" fill-rule=\"evenodd\" fill-opacity=\"1\" stroke=\"#000000\" stroke-opacity=\"1\" stroke-width=\"1\"/>\n",
       "<circle clip-path=\"url(#clip382)\" cx=\"203.099\" cy=\"355.101\" r=\"3\" fill=\"#009af9\" fill-rule=\"evenodd\" fill-opacity=\"1\" stroke=\"#000000\" stroke-opacity=\"1\" stroke-width=\"1\"/>\n",
       "<circle clip-path=\"url(#clip382)\" cx=\"203.381\" cy=\"313.672\" r=\"3\" fill=\"#009af9\" fill-rule=\"evenodd\" fill-opacity=\"1\" stroke=\"#000000\" stroke-opacity=\"1\" stroke-width=\"1\"/>\n",
       "<circle clip-path=\"url(#clip382)\" cx=\"206.043\" cy=\"292.595\" r=\"3\" fill=\"#009af9\" fill-rule=\"evenodd\" fill-opacity=\"1\" stroke=\"#000000\" stroke-opacity=\"1\" stroke-width=\"1\"/>\n",
       "<circle clip-path=\"url(#clip382)\" cx=\"206.043\" cy=\"322.539\" r=\"3\" fill=\"#009af9\" fill-rule=\"evenodd\" fill-opacity=\"1\" stroke=\"#000000\" stroke-opacity=\"1\" stroke-width=\"1\"/>\n",
       "<circle clip-path=\"url(#clip382)\" cx=\"208.705\" cy=\"322.923\" r=\"3\" fill=\"#009af9\" fill-rule=\"evenodd\" fill-opacity=\"1\" stroke=\"#000000\" stroke-opacity=\"1\" stroke-width=\"1\"/>\n",
       "<circle clip-path=\"url(#clip382)\" cx=\"208.705\" cy=\"290.503\" r=\"3\" fill=\"#009af9\" fill-rule=\"evenodd\" fill-opacity=\"1\" stroke=\"#000000\" stroke-opacity=\"1\" stroke-width=\"1\"/>\n",
       "<circle clip-path=\"url(#clip382)\" cx=\"211.366\" cy=\"255.268\" r=\"3\" fill=\"#009af9\" fill-rule=\"evenodd\" fill-opacity=\"1\" stroke=\"#000000\" stroke-opacity=\"1\" stroke-width=\"1\"/>\n",
       "<circle clip-path=\"url(#clip382)\" cx=\"214.567\" cy=\"329.056\" r=\"3\" fill=\"#009af9\" fill-rule=\"evenodd\" fill-opacity=\"1\" stroke=\"#000000\" stroke-opacity=\"1\" stroke-width=\"1\"/>\n",
       "<circle clip-path=\"url(#clip382)\" cx=\"217.755\" cy=\"281.413\" r=\"3\" fill=\"#009af9\" fill-rule=\"evenodd\" fill-opacity=\"1\" stroke=\"#000000\" stroke-opacity=\"1\" stroke-width=\"1\"/>\n",
       "<circle clip-path=\"url(#clip382)\" cx=\"217.755\" cy=\"329.86\" r=\"3\" fill=\"#009af9\" fill-rule=\"evenodd\" fill-opacity=\"1\" stroke=\"#000000\" stroke-opacity=\"1\" stroke-width=\"1\"/>\n",
       "<circle clip-path=\"url(#clip382)\" cx=\"218.816\" cy=\"322.861\" r=\"3\" fill=\"#009af9\" fill-rule=\"evenodd\" fill-opacity=\"1\" stroke=\"#000000\" stroke-opacity=\"1\" stroke-width=\"1\"/>\n",
       "<circle clip-path=\"url(#clip382)\" cx=\"218.819\" cy=\"332.997\" r=\"3\" fill=\"#009af9\" fill-rule=\"evenodd\" fill-opacity=\"1\" stroke=\"#000000\" stroke-opacity=\"1\" stroke-width=\"1\"/>\n",
       "<circle clip-path=\"url(#clip382)\" cx=\"220.293\" cy=\"332.193\" r=\"3\" fill=\"#009af9\" fill-rule=\"evenodd\" fill-opacity=\"1\" stroke=\"#000000\" stroke-opacity=\"1\" stroke-width=\"1\"/>\n",
       "<circle clip-path=\"url(#clip382)\" cx=\"222.013\" cy=\"342.41\" r=\"3\" fill=\"#009af9\" fill-rule=\"evenodd\" fill-opacity=\"1\" stroke=\"#000000\" stroke-opacity=\"1\" stroke-width=\"1\"/>\n",
       "<circle clip-path=\"url(#clip382)\" cx=\"222.013\" cy=\"270.311\" r=\"3\" fill=\"#009af9\" fill-rule=\"evenodd\" fill-opacity=\"1\" stroke=\"#000000\" stroke-opacity=\"1\" stroke-width=\"1\"/>\n",
       "<circle clip-path=\"url(#clip382)\" cx=\"222.28\" cy=\"302.248\" r=\"3\" fill=\"#009af9\" fill-rule=\"evenodd\" fill-opacity=\"1\" stroke=\"#000000\" stroke-opacity=\"1\" stroke-width=\"1\"/>\n",
       "<circle clip-path=\"url(#clip382)\" cx=\"224.675\" cy=\"286.339\" r=\"3\" fill=\"#009af9\" fill-rule=\"evenodd\" fill-opacity=\"1\" stroke=\"#000000\" stroke-opacity=\"1\" stroke-width=\"1\"/>\n",
       "<circle clip-path=\"url(#clip382)\" cx=\"232.548\" cy=\"278.517\" r=\"3\" fill=\"#009af9\" fill-rule=\"evenodd\" fill-opacity=\"1\" stroke=\"#000000\" stroke-opacity=\"1\" stroke-width=\"1\"/>\n",
       "<circle clip-path=\"url(#clip382)\" cx=\"237.984\" cy=\"318.938\" r=\"3\" fill=\"#009af9\" fill-rule=\"evenodd\" fill-opacity=\"1\" stroke=\"#000000\" stroke-opacity=\"1\" stroke-width=\"1\"/>\n",
       "<circle clip-path=\"url(#clip382)\" cx=\"237.984\" cy=\"344.501\" r=\"3\" fill=\"#009af9\" fill-rule=\"evenodd\" fill-opacity=\"1\" stroke=\"#000000\" stroke-opacity=\"1\" stroke-width=\"1\"/>\n",
       "<circle clip-path=\"url(#clip382)\" cx=\"238.516\" cy=\"238.554\" r=\"3\" fill=\"#009af9\" fill-rule=\"evenodd\" fill-opacity=\"1\" stroke=\"#000000\" stroke-opacity=\"1\" stroke-width=\"1\"/>\n",
       "<circle clip-path=\"url(#clip382)\" cx=\"240.113\" cy=\"392.144\" r=\"3\" fill=\"#009af9\" fill-rule=\"evenodd\" fill-opacity=\"1\" stroke=\"#000000\" stroke-opacity=\"1\" stroke-width=\"1\"/>\n",
       "<circle clip-path=\"url(#clip382)\" cx=\"241.178\" cy=\"278.275\" r=\"3\" fill=\"#009af9\" fill-rule=\"evenodd\" fill-opacity=\"1\" stroke=\"#000000\" stroke-opacity=\"1\" stroke-width=\"1\"/>\n",
       "<circle clip-path=\"url(#clip382)\" cx=\"242.775\" cy=\"356.568\" r=\"3\" fill=\"#009af9\" fill-rule=\"evenodd\" fill-opacity=\"1\" stroke=\"#000000\" stroke-opacity=\"1\" stroke-width=\"1\"/>\n",
       "<circle clip-path=\"url(#clip382)\" cx=\"242.775\" cy=\"327.589\" r=\"3\" fill=\"#009af9\" fill-rule=\"evenodd\" fill-opacity=\"1\" stroke=\"#000000\" stroke-opacity=\"1\" stroke-width=\"1\"/>\n",
       "<circle clip-path=\"url(#clip382)\" cx=\"245.969\" cy=\"282.217\" r=\"3\" fill=\"#009af9\" fill-rule=\"evenodd\" fill-opacity=\"1\" stroke=\"#000000\" stroke-opacity=\"1\" stroke-width=\"1\"/>\n",
       "<circle clip-path=\"url(#clip382)\" cx=\"251.825\" cy=\"297.843\" r=\"3\" fill=\"#009af9\" fill-rule=\"evenodd\" fill-opacity=\"1\" stroke=\"#000000\" stroke-opacity=\"1\" stroke-width=\"1\"/>\n",
       "<circle clip-path=\"url(#clip382)\" cx=\"254.883\" cy=\"303.053\" r=\"3\" fill=\"#009af9\" fill-rule=\"evenodd\" fill-opacity=\"1\" stroke=\"#000000\" stroke-opacity=\"1\" stroke-width=\"1\"/>\n",
       "<circle clip-path=\"url(#clip382)\" cx=\"254.992\" cy=\"317.694\" r=\"3\" fill=\"#009af9\" fill-rule=\"evenodd\" fill-opacity=\"1\" stroke=\"#000000\" stroke-opacity=\"1\" stroke-width=\"1\"/>\n",
       "<circle clip-path=\"url(#clip382)\" cx=\"259.278\" cy=\"193.466\" r=\"3\" fill=\"#009af9\" fill-rule=\"evenodd\" fill-opacity=\"1\" stroke=\"#000000\" stroke-opacity=\"1\" stroke-width=\"1\"/>\n",
       "<circle clip-path=\"url(#clip382)\" cx=\"267.263\" cy=\"203.844\" r=\"3\" fill=\"#009af9\" fill-rule=\"evenodd\" fill-opacity=\"1\" stroke=\"#000000\" stroke-opacity=\"1\" stroke-width=\"1\"/>\n",
       "<circle clip-path=\"url(#clip382)\" cx=\"274.716\" cy=\"283.523\" r=\"3\" fill=\"#009af9\" fill-rule=\"evenodd\" fill-opacity=\"1\" stroke=\"#000000\" stroke-opacity=\"1\" stroke-width=\"1\"/>\n",
       "<circle clip-path=\"url(#clip382)\" cx=\"276.313\" cy=\"246.177\" r=\"3\" fill=\"#009af9\" fill-rule=\"evenodd\" fill-opacity=\"1\" stroke=\"#000000\" stroke-opacity=\"1\" stroke-width=\"1\"/>\n",
       "<circle clip-path=\"url(#clip382)\" cx=\"278.457\" cy=\"236.765\" r=\"3\" fill=\"#009af9\" fill-rule=\"evenodd\" fill-opacity=\"1\" stroke=\"#000000\" stroke-opacity=\"1\" stroke-width=\"1\"/>\n",
       "<circle clip-path=\"url(#clip382)\" cx=\"285.896\" cy=\"164.747\" r=\"3\" fill=\"#009af9\" fill-rule=\"evenodd\" fill-opacity=\"1\" stroke=\"#000000\" stroke-opacity=\"1\" stroke-width=\"1\"/>\n",
       "<circle clip-path=\"url(#clip382)\" cx=\"288.557\" cy=\"199.116\" r=\"3\" fill=\"#009af9\" fill-rule=\"evenodd\" fill-opacity=\"1\" stroke=\"#000000\" stroke-opacity=\"1\" stroke-width=\"1\"/>\n",
       "<circle clip-path=\"url(#clip382)\" cx=\"299.204\" cy=\"335.188\" r=\"3\" fill=\"#009af9\" fill-rule=\"evenodd\" fill-opacity=\"1\" stroke=\"#000000\" stroke-opacity=\"1\" stroke-width=\"1\"/>\n",
       "<circle clip-path=\"url(#clip382)\" cx=\"301.866\" cy=\"248.269\" r=\"3\" fill=\"#009af9\" fill-rule=\"evenodd\" fill-opacity=\"1\" stroke=\"#000000\" stroke-opacity=\"1\" stroke-width=\"1\"/>\n",
       "<circle clip-path=\"url(#clip382)\" cx=\"307.19\" cy=\"279.34\" r=\"3\" fill=\"#009af9\" fill-rule=\"evenodd\" fill-opacity=\"1\" stroke=\"#000000\" stroke-opacity=\"1\" stroke-width=\"1\"/>\n",
       "<circle clip-path=\"url(#clip382)\" cx=\"307.19\" cy=\"134.759\" r=\"3\" fill=\"#009af9\" fill-rule=\"evenodd\" fill-opacity=\"1\" stroke=\"#000000\" stroke-opacity=\"1\" stroke-width=\"1\"/>\n",
       "<circle clip-path=\"url(#clip382)\" cx=\"309.851\" cy=\"182.625\" r=\"3\" fill=\"#009af9\" fill-rule=\"evenodd\" fill-opacity=\"1\" stroke=\"#000000\" stroke-opacity=\"1\" stroke-width=\"1\"/>\n",
       "<circle clip-path=\"url(#clip382)\" cx=\"313.445\" cy=\"153.887\" r=\"3\" fill=\"#009af9\" fill-rule=\"evenodd\" fill-opacity=\"1\" stroke=\"#000000\" stroke-opacity=\"1\" stroke-width=\"1\"/>\n",
       "<circle clip-path=\"url(#clip382)\" cx=\"319.966\" cy=\"306.952\" r=\"3\" fill=\"#009af9\" fill-rule=\"evenodd\" fill-opacity=\"1\" stroke=\"#000000\" stroke-opacity=\"1\" stroke-width=\"1\"/>\n",
       "<circle clip-path=\"url(#clip382)\" cx=\"325.822\" cy=\"208.931\" r=\"3\" fill=\"#009af9\" fill-rule=\"evenodd\" fill-opacity=\"1\" stroke=\"#000000\" stroke-opacity=\"1\" stroke-width=\"1\"/>\n",
       "<circle clip-path=\"url(#clip382)\" cx=\"367.079\" cy=\"145.601\" r=\"3\" fill=\"#009af9\" fill-rule=\"evenodd\" fill-opacity=\"1\" stroke=\"#000000\" stroke-opacity=\"1\" stroke-width=\"1\"/>\n",
       "<circle clip-path=\"url(#clip382)\" cx=\"372.136\" cy=\"277.149\" r=\"3\" fill=\"#009af9\" fill-rule=\"evenodd\" fill-opacity=\"1\" stroke=\"#000000\" stroke-opacity=\"1\" stroke-width=\"1\"/>\n",
       "<circle clip-path=\"url(#clip382)\" cx=\"388.853\" cy=\"147.148\" r=\"3\" fill=\"#009af9\" fill-rule=\"evenodd\" fill-opacity=\"1\" stroke=\"#000000\" stroke-opacity=\"1\" stroke-width=\"1\"/>\n",
       "<circle clip-path=\"url(#clip382)\" cx=\"424.307\" cy=\"237.149\" r=\"3\" fill=\"#009af9\" fill-rule=\"evenodd\" fill-opacity=\"1\" stroke=\"#000000\" stroke-opacity=\"1\" stroke-width=\"1\"/>\n",
       "<circle clip-path=\"url(#clip382)\" cx=\"434.422\" cy=\"266.27\" r=\"3\" fill=\"#009af9\" fill-rule=\"evenodd\" fill-opacity=\"1\" stroke=\"#000000\" stroke-opacity=\"1\" stroke-width=\"1\"/>\n",
       "<circle clip-path=\"url(#clip382)\" cx=\"95.0478\" cy=\"367.67\" r=\"3\" fill=\"#009af9\" fill-rule=\"evenodd\" fill-opacity=\"1\" stroke=\"#000000\" stroke-opacity=\"1\" stroke-width=\"1\"/>\n",
       "<circle clip-path=\"url(#clip382)\" cx=\"95.3406\" cy=\"385.387\" r=\"3\" fill=\"#009af9\" fill-rule=\"evenodd\" fill-opacity=\"1\" stroke=\"#000000\" stroke-opacity=\"1\" stroke-width=\"1\"/>\n",
       "<circle clip-path=\"url(#clip382)\" cx=\"96.911\" cy=\"360.529\" r=\"3\" fill=\"#009af9\" fill-rule=\"evenodd\" fill-opacity=\"1\" stroke=\"#000000\" stroke-opacity=\"1\" stroke-width=\"1\"/>\n",
       "<circle clip-path=\"url(#clip382)\" cx=\"96.911\" cy=\"371.469\" r=\"3\" fill=\"#009af9\" fill-rule=\"evenodd\" fill-opacity=\"1\" stroke=\"#000000\" stroke-opacity=\"1\" stroke-width=\"1\"/>\n",
       "<circle clip-path=\"url(#clip382)\" cx=\"98.508\" cy=\"368.413\" r=\"3\" fill=\"#009af9\" fill-rule=\"evenodd\" fill-opacity=\"1\" stroke=\"#000000\" stroke-opacity=\"1\" stroke-width=\"1\"/>\n",
       "<circle clip-path=\"url(#clip382)\" cx=\"98.508\" cy=\"368.413\" r=\"3\" fill=\"#009af9\" fill-rule=\"evenodd\" fill-opacity=\"1\" stroke=\"#000000\" stroke-opacity=\"1\" stroke-width=\"1\"/>\n",
       "<circle clip-path=\"url(#clip382)\" cx=\"103.299\" cy=\"361.172\" r=\"3\" fill=\"#009af9\" fill-rule=\"evenodd\" fill-opacity=\"1\" stroke=\"#000000\" stroke-opacity=\"1\" stroke-width=\"1\"/>\n",
       "<circle clip-path=\"url(#clip382)\" cx=\"106.351\" cy=\"371.55\" r=\"3\" fill=\"#009af9\" fill-rule=\"evenodd\" fill-opacity=\"1\" stroke=\"#000000\" stroke-opacity=\"1\" stroke-width=\"1\"/>\n",
       "<circle clip-path=\"url(#clip382)\" cx=\"107.026\" cy=\"345.145\" r=\"3\" fill=\"#009af9\" fill-rule=\"evenodd\" fill-opacity=\"1\" stroke=\"#000000\" stroke-opacity=\"1\" stroke-width=\"1\"/>\n",
       "<circle clip-path=\"url(#clip382)\" cx=\"107.385\" cy=\"356.346\" r=\"3\" fill=\"#009af9\" fill-rule=\"evenodd\" fill-opacity=\"1\" stroke=\"#000000\" stroke-opacity=\"1\" stroke-width=\"1\"/>\n",
       "<circle clip-path=\"url(#clip382)\" cx=\"107.558\" cy=\"364.211\" r=\"3\" fill=\"#009af9\" fill-rule=\"evenodd\" fill-opacity=\"1\" stroke=\"#000000\" stroke-opacity=\"1\" stroke-width=\"1\"/>\n",
       "<circle clip-path=\"url(#clip382)\" cx=\"110.22\" cy=\"364.291\" r=\"3\" fill=\"#009af9\" fill-rule=\"evenodd\" fill-opacity=\"1\" stroke=\"#000000\" stroke-opacity=\"1\" stroke-width=\"1\"/>\n",
       "<circle clip-path=\"url(#clip382)\" cx=\"110.22\" cy=\"371.55\" r=\"3\" fill=\"#009af9\" fill-rule=\"evenodd\" fill-opacity=\"1\" stroke=\"#000000\" stroke-opacity=\"1\" stroke-width=\"1\"/>\n",
       "<circle clip-path=\"url(#clip382)\" cx=\"110.752\" cy=\"361.655\" r=\"3\" fill=\"#009af9\" fill-rule=\"evenodd\" fill-opacity=\"1\" stroke=\"#000000\" stroke-opacity=\"1\" stroke-width=\"1\"/>\n",
       "<circle clip-path=\"url(#clip382)\" cx=\"112.882\" cy=\"358.66\" r=\"3\" fill=\"#009af9\" fill-rule=\"evenodd\" fill-opacity=\"1\" stroke=\"#000000\" stroke-opacity=\"1\" stroke-width=\"1\"/>\n",
       "<circle clip-path=\"url(#clip382)\" cx=\"114.212\" cy=\"357.955\" r=\"3\" fill=\"#009af9\" fill-rule=\"evenodd\" fill-opacity=\"1\" stroke=\"#000000\" stroke-opacity=\"1\" stroke-width=\"1\"/>\n",
       "<circle clip-path=\"url(#clip382)\" cx=\"115.543\" cy=\"375.028\" r=\"3\" fill=\"#009af9\" fill-rule=\"evenodd\" fill-opacity=\"1\" stroke=\"#000000\" stroke-opacity=\"1\" stroke-width=\"1\"/>\n",
       "<circle clip-path=\"url(#clip382)\" cx=\"116.076\" cy=\"364.068\" r=\"3\" fill=\"#009af9\" fill-rule=\"evenodd\" fill-opacity=\"1\" stroke=\"#000000\" stroke-opacity=\"1\" stroke-width=\"1\"/>\n",
       "<circle clip-path=\"url(#clip382)\" cx=\"117.007\" cy=\"365.801\" r=\"3\" fill=\"#009af9\" fill-rule=\"evenodd\" fill-opacity=\"1\" stroke=\"#000000\" stroke-opacity=\"1\" stroke-width=\"1\"/>\n",
       "<circle clip-path=\"url(#clip382)\" cx=\"122.198\" cy=\"338.629\" r=\"3\" fill=\"#009af9\" fill-rule=\"evenodd\" fill-opacity=\"1\" stroke=\"#000000\" stroke-opacity=\"1\" stroke-width=\"1\"/>\n",
       "<circle clip-path=\"url(#clip382)\" cx=\"122.464\" cy=\"364.13\" r=\"3\" fill=\"#009af9\" fill-rule=\"evenodd\" fill-opacity=\"1\" stroke=\"#000000\" stroke-opacity=\"1\" stroke-width=\"1\"/>\n",
       "<circle clip-path=\"url(#clip382)\" cx=\"122.996\" cy=\"339.414\" r=\"3\" fill=\"#009af9\" fill-rule=\"evenodd\" fill-opacity=\"1\" stroke=\"#000000\" stroke-opacity=\"1\" stroke-width=\"1\"/>\n",
       "<circle clip-path=\"url(#clip382)\" cx=\"122.996\" cy=\"367.992\" r=\"3\" fill=\"#009af9\" fill-rule=\"evenodd\" fill-opacity=\"1\" stroke=\"#000000\" stroke-opacity=\"1\" stroke-width=\"1\"/>\n",
       "<circle clip-path=\"url(#clip382)\" cx=\"123.395\" cy=\"372.837\" r=\"3\" fill=\"#009af9\" fill-rule=\"evenodd\" fill-opacity=\"1\" stroke=\"#000000\" stroke-opacity=\"1\" stroke-width=\"1\"/>\n",
       "<circle clip-path=\"url(#clip382)\" cx=\"123.529\" cy=\"368.252\" r=\"3\" fill=\"#009af9\" fill-rule=\"evenodd\" fill-opacity=\"1\" stroke=\"#000000\" stroke-opacity=\"1\" stroke-width=\"1\"/>\n",
       "<circle clip-path=\"url(#clip382)\" cx=\"123.529\" cy=\"347.014\" r=\"3\" fill=\"#009af9\" fill-rule=\"evenodd\" fill-opacity=\"1\" stroke=\"#000000\" stroke-opacity=\"1\" stroke-width=\"1\"/>\n",
       "<circle clip-path=\"url(#clip382)\" cx=\"124.114\" cy=\"351.259\" r=\"3\" fill=\"#009af9\" fill-rule=\"evenodd\" fill-opacity=\"1\" stroke=\"#000000\" stroke-opacity=\"1\" stroke-width=\"1\"/>\n",
       "<circle clip-path=\"url(#clip382)\" cx=\"125.791\" cy=\"348.604\" r=\"3\" fill=\"#009af9\" fill-rule=\"evenodd\" fill-opacity=\"1\" stroke=\"#000000\" stroke-opacity=\"1\" stroke-width=\"1\"/>\n",
       "<circle clip-path=\"url(#clip382)\" cx=\"126.19\" cy=\"370.826\" r=\"3\" fill=\"#009af9\" fill-rule=\"evenodd\" fill-opacity=\"1\" stroke=\"#000000\" stroke-opacity=\"1\" stroke-width=\"1\"/>\n",
       "<circle clip-path=\"url(#clip382)\" cx=\"126.19\" cy=\"358.437\" r=\"3\" fill=\"#009af9\" fill-rule=\"evenodd\" fill-opacity=\"1\" stroke=\"#000000\" stroke-opacity=\"1\" stroke-width=\"1\"/>\n",
       "<circle clip-path=\"url(#clip382)\" cx=\"126.248\" cy=\"335.813\" r=\"3\" fill=\"#009af9\" fill-rule=\"evenodd\" fill-opacity=\"1\" stroke=\"#000000\" stroke-opacity=\"1\" stroke-width=\"1\"/>\n",
       "<circle clip-path=\"url(#clip382)\" cx=\"126.989\" cy=\"363.023\" r=\"3\" fill=\"#009af9\" fill-rule=\"evenodd\" fill-opacity=\"1\" stroke=\"#000000\" stroke-opacity=\"1\" stroke-width=\"1\"/>\n",
       "<circle clip-path=\"url(#clip382)\" cx=\"127.109\" cy=\"389.712\" r=\"3\" fill=\"#009af9\" fill-rule=\"evenodd\" fill-opacity=\"1\" stroke=\"#000000\" stroke-opacity=\"1\" stroke-width=\"1\"/>\n",
       "<circle clip-path=\"url(#clip382)\" cx=\"127.255\" cy=\"358.821\" r=\"3\" fill=\"#009af9\" fill-rule=\"evenodd\" fill-opacity=\"1\" stroke=\"#000000\" stroke-opacity=\"1\" stroke-width=\"1\"/>\n",
       "<circle clip-path=\"url(#clip382)\" cx=\"127.787\" cy=\"356.89\" r=\"3\" fill=\"#009af9\" fill-rule=\"evenodd\" fill-opacity=\"1\" stroke=\"#000000\" stroke-opacity=\"1\" stroke-width=\"1\"/>\n",
       "<circle clip-path=\"url(#clip382)\" cx=\"128.852\" cy=\"357.311\" r=\"3\" fill=\"#009af9\" fill-rule=\"evenodd\" fill-opacity=\"1\" stroke=\"#000000\" stroke-opacity=\"1\" stroke-width=\"1\"/>\n",
       "<circle clip-path=\"url(#clip382)\" cx=\"129.157\" cy=\"344.08\" r=\"3\" fill=\"#009af9\" fill-rule=\"evenodd\" fill-opacity=\"1\" stroke=\"#000000\" stroke-opacity=\"1\" stroke-width=\"1\"/>\n",
       "<circle clip-path=\"url(#clip382)\" cx=\"129.764\" cy=\"346.976\" r=\"3\" fill=\"#009af9\" fill-rule=\"evenodd\" fill-opacity=\"1\" stroke=\"#000000\" stroke-opacity=\"1\" stroke-width=\"1\"/>\n",
       "<circle clip-path=\"url(#clip382)\" cx=\"129.895\" cy=\"371.55\" r=\"3\" fill=\"#009af9\" fill-rule=\"evenodd\" fill-opacity=\"1\" stroke=\"#000000\" stroke-opacity=\"1\" stroke-width=\"1\"/>\n",
       "<circle clip-path=\"url(#clip382)\" cx=\"129.917\" cy=\"372.757\" r=\"3\" fill=\"#009af9\" fill-rule=\"evenodd\" fill-opacity=\"1\" stroke=\"#000000\" stroke-opacity=\"1\" stroke-width=\"1\"/>\n",
       "<circle clip-path=\"url(#clip382)\" cx=\"130.183\" cy=\"328.232\" r=\"3\" fill=\"#009af9\" fill-rule=\"evenodd\" fill-opacity=\"1\" stroke=\"#000000\" stroke-opacity=\"1\" stroke-width=\"1\"/>\n",
       "<circle clip-path=\"url(#clip382)\" cx=\"131.514\" cy=\"348.443\" r=\"3\" fill=\"#009af9\" fill-rule=\"evenodd\" fill-opacity=\"1\" stroke=\"#000000\" stroke-opacity=\"1\" stroke-width=\"1\"/>\n",
       "<circle clip-path=\"url(#clip382)\" cx=\"133.167\" cy=\"343.876\" r=\"3\" fill=\"#009af9\" fill-rule=\"evenodd\" fill-opacity=\"1\" stroke=\"#000000\" stroke-opacity=\"1\" stroke-width=\"1\"/>\n",
       "<circle clip-path=\"url(#clip382)\" cx=\"134.974\" cy=\"299.551\" r=\"3\" fill=\"#009af9\" fill-rule=\"evenodd\" fill-opacity=\"1\" stroke=\"#000000\" stroke-opacity=\"1\" stroke-width=\"1\"/>\n",
       "<circle clip-path=\"url(#clip382)\" cx=\"136.571\" cy=\"345.547\" r=\"3\" fill=\"#009af9\" fill-rule=\"evenodd\" fill-opacity=\"1\" stroke=\"#000000\" stroke-opacity=\"1\" stroke-width=\"1\"/>\n",
       "<circle clip-path=\"url(#clip382)\" cx=\"136.837\" cy=\"331.791\" r=\"3\" fill=\"#009af9\" fill-rule=\"evenodd\" fill-opacity=\"1\" stroke=\"#000000\" stroke-opacity=\"1\" stroke-width=\"1\"/>\n",
       "<circle clip-path=\"url(#clip382)\" cx=\"137.263\" cy=\"341.123\" r=\"3\" fill=\"#009af9\" fill-rule=\"evenodd\" fill-opacity=\"1\" stroke=\"#000000\" stroke-opacity=\"1\" stroke-width=\"1\"/>\n",
       "<circle clip-path=\"url(#clip382)\" cx=\"139.499\" cy=\"355.603\" r=\"3\" fill=\"#009af9\" fill-rule=\"evenodd\" fill-opacity=\"1\" stroke=\"#000000\" stroke-opacity=\"1\" stroke-width=\"1\"/>\n",
       "<circle clip-path=\"url(#clip382)\" cx=\"140.564\" cy=\"327.991\" r=\"3\" fill=\"#009af9\" fill-rule=\"evenodd\" fill-opacity=\"1\" stroke=\"#000000\" stroke-opacity=\"1\" stroke-width=\"1\"/>\n",
       "<circle clip-path=\"url(#clip382)\" cx=\"141.948\" cy=\"332.515\" r=\"3\" fill=\"#009af9\" fill-rule=\"evenodd\" fill-opacity=\"1\" stroke=\"#000000\" stroke-opacity=\"1\" stroke-width=\"1\"/>\n",
       "<circle clip-path=\"url(#clip382)\" cx=\"142.161\" cy=\"344.142\" r=\"3\" fill=\"#009af9\" fill-rule=\"evenodd\" fill-opacity=\"1\" stroke=\"#000000\" stroke-opacity=\"1\" stroke-width=\"1\"/>\n",
       "<circle clip-path=\"url(#clip382)\" cx=\"142.161\" cy=\"313.288\" r=\"3\" fill=\"#009af9\" fill-rule=\"evenodd\" fill-opacity=\"1\" stroke=\"#000000\" stroke-opacity=\"1\" stroke-width=\"1\"/>\n",
       "<circle clip-path=\"url(#clip382)\" cx=\"144.823\" cy=\"310.875\" r=\"3\" fill=\"#009af9\" fill-rule=\"evenodd\" fill-opacity=\"1\" stroke=\"#000000\" stroke-opacity=\"1\" stroke-width=\"1\"/>\n",
       "<circle clip-path=\"url(#clip382)\" cx=\"145.054\" cy=\"335.491\" r=\"3\" fill=\"#009af9\" fill-rule=\"evenodd\" fill-opacity=\"1\" stroke=\"#000000\" stroke-opacity=\"1\" stroke-width=\"1\"/>\n",
       "<circle clip-path=\"url(#clip382)\" cx=\"145.089\" cy=\"335.491\" r=\"3\" fill=\"#009af9\" fill-rule=\"evenodd\" fill-opacity=\"1\" stroke=\"#000000\" stroke-opacity=\"1\" stroke-width=\"1\"/>\n",
       "<circle clip-path=\"url(#clip382)\" cx=\"146.42\" cy=\"347.218\" r=\"3\" fill=\"#009af9\" fill-rule=\"evenodd\" fill-opacity=\"1\" stroke=\"#000000\" stroke-opacity=\"1\" stroke-width=\"1\"/>\n",
       "<circle clip-path=\"url(#clip382)\" cx=\"146.42\" cy=\"353.029\" r=\"3\" fill=\"#009af9\" fill-rule=\"evenodd\" fill-opacity=\"1\" stroke=\"#000000\" stroke-opacity=\"1\" stroke-width=\"1\"/>\n",
       "<circle clip-path=\"url(#clip382)\" cx=\"147.484\" cy=\"328.895\" r=\"3\" fill=\"#009af9\" fill-rule=\"evenodd\" fill-opacity=\"1\" stroke=\"#000000\" stroke-opacity=\"1\" stroke-width=\"1\"/>\n",
       "<circle clip-path=\"url(#clip382)\" cx=\"147.484\" cy=\"355.863\" r=\"3\" fill=\"#009af9\" fill-rule=\"evenodd\" fill-opacity=\"1\" stroke=\"#000000\" stroke-opacity=\"1\" stroke-width=\"1\"/>\n",
       "<circle clip-path=\"url(#clip382)\" cx=\"149.614\" cy=\"342.026\" r=\"3\" fill=\"#009af9\" fill-rule=\"evenodd\" fill-opacity=\"1\" stroke=\"#000000\" stroke-opacity=\"1\" stroke-width=\"1\"/>\n",
       "<circle clip-path=\"url(#clip382)\" cx=\"149.614\" cy=\"350.615\" r=\"3\" fill=\"#009af9\" fill-rule=\"evenodd\" fill-opacity=\"1\" stroke=\"#000000\" stroke-opacity=\"1\" stroke-width=\"1\"/>\n",
       "<circle clip-path=\"url(#clip382)\" cx=\"150.146\" cy=\"346.049\" r=\"3\" fill=\"#009af9\" fill-rule=\"evenodd\" fill-opacity=\"1\" stroke=\"#000000\" stroke-opacity=\"1\" stroke-width=\"1\"/>\n",
       "<circle clip-path=\"url(#clip382)\" cx=\"151.211\" cy=\"357.212\" r=\"3\" fill=\"#009af9\" fill-rule=\"evenodd\" fill-opacity=\"1\" stroke=\"#000000\" stroke-opacity=\"1\" stroke-width=\"1\"/>\n",
       "<circle clip-path=\"url(#clip382)\" cx=\"151.367\" cy=\"352.929\" r=\"3\" fill=\"#009af9\" fill-rule=\"evenodd\" fill-opacity=\"1\" stroke=\"#000000\" stroke-opacity=\"1\" stroke-width=\"1\"/>\n",
       "<circle clip-path=\"url(#clip382)\" cx=\"151.367\" cy=\"352.929\" r=\"3\" fill=\"#009af9\" fill-rule=\"evenodd\" fill-opacity=\"1\" stroke=\"#000000\" stroke-opacity=\"1\" stroke-width=\"1\"/>\n",
       "<circle clip-path=\"url(#clip382)\" cx=\"151.743\" cy=\"362.119\" r=\"3\" fill=\"#009af9\" fill-rule=\"evenodd\" fill-opacity=\"1\" stroke=\"#000000\" stroke-opacity=\"1\" stroke-width=\"1\"/>\n",
       "<circle clip-path=\"url(#clip382)\" cx=\"152.808\" cy=\"352.465\" r=\"3\" fill=\"#009af9\" fill-rule=\"evenodd\" fill-opacity=\"1\" stroke=\"#000000\" stroke-opacity=\"1\" stroke-width=\"1\"/>\n",
       "<circle clip-path=\"url(#clip382)\" cx=\"152.808\" cy=\"301.685\" r=\"3\" fill=\"#009af9\" fill-rule=\"evenodd\" fill-opacity=\"1\" stroke=\"#000000\" stroke-opacity=\"1\" stroke-width=\"1\"/>\n",
       "<circle clip-path=\"url(#clip382)\" cx=\"152.808\" cy=\"323.424\" r=\"3\" fill=\"#009af9\" fill-rule=\"evenodd\" fill-opacity=\"1\" stroke=\"#000000\" stroke-opacity=\"1\" stroke-width=\"1\"/>\n",
       "<circle clip-path=\"url(#clip382)\" cx=\"154.937\" cy=\"348.845\" r=\"3\" fill=\"#009af9\" fill-rule=\"evenodd\" fill-opacity=\"1\" stroke=\"#000000\" stroke-opacity=\"1\" stroke-width=\"1\"/>\n",
       "<circle clip-path=\"url(#clip382)\" cx=\"157.067\" cy=\"355.603\" r=\"3\" fill=\"#009af9\" fill-rule=\"evenodd\" fill-opacity=\"1\" stroke=\"#000000\" stroke-opacity=\"1\" stroke-width=\"1\"/>\n",
       "<circle clip-path=\"url(#clip382)\" cx=\"158.131\" cy=\"330.182\" r=\"3\" fill=\"#009af9\" fill-rule=\"evenodd\" fill-opacity=\"1\" stroke=\"#000000\" stroke-opacity=\"1\" stroke-width=\"1\"/>\n",
       "<circle clip-path=\"url(#clip382)\" cx=\"158.131\" cy=\"328.975\" r=\"3\" fill=\"#009af9\" fill-rule=\"evenodd\" fill-opacity=\"1\" stroke=\"#000000\" stroke-opacity=\"1\" stroke-width=\"1\"/>\n",
       "<circle clip-path=\"url(#clip382)\" cx=\"158.131\" cy=\"324.13\" r=\"3\" fill=\"#009af9\" fill-rule=\"evenodd\" fill-opacity=\"1\" stroke=\"#000000\" stroke-opacity=\"1\" stroke-width=\"1\"/>\n",
       "<circle clip-path=\"url(#clip382)\" cx=\"159.196\" cy=\"355.058\" r=\"3\" fill=\"#009af9\" fill-rule=\"evenodd\" fill-opacity=\"1\" stroke=\"#000000\" stroke-opacity=\"1\" stroke-width=\"1\"/>\n",
       "<circle clip-path=\"url(#clip382)\" cx=\"162.563\" cy=\"353.029\" r=\"3\" fill=\"#009af9\" fill-rule=\"evenodd\" fill-opacity=\"1\" stroke=\"#000000\" stroke-opacity=\"1\" stroke-width=\"1\"/>\n",
       "<circle clip-path=\"url(#clip382)\" cx=\"164.253\" cy=\"352.868\" r=\"3\" fill=\"#009af9\" fill-rule=\"evenodd\" fill-opacity=\"1\" stroke=\"#000000\" stroke-opacity=\"1\" stroke-width=\"1\"/>\n",
       "<circle clip-path=\"url(#clip382)\" cx=\"164.52\" cy=\"336.859\" r=\"3\" fill=\"#009af9\" fill-rule=\"evenodd\" fill-opacity=\"1\" stroke=\"#000000\" stroke-opacity=\"1\" stroke-width=\"1\"/>\n",
       "<circle clip-path=\"url(#clip382)\" cx=\"164.892\" cy=\"338.79\" r=\"3\" fill=\"#009af9\" fill-rule=\"evenodd\" fill-opacity=\"1\" stroke=\"#000000\" stroke-opacity=\"1\" stroke-width=\"1\"/>\n",
       "<circle clip-path=\"url(#clip382)\" cx=\"166.117\" cy=\"336.618\" r=\"3\" fill=\"#009af9\" fill-rule=\"evenodd\" fill-opacity=\"1\" stroke=\"#000000\" stroke-opacity=\"1\" stroke-width=\"1\"/>\n",
       "<circle clip-path=\"url(#clip382)\" cx=\"167.529\" cy=\"324.631\" r=\"3\" fill=\"#009af9\" fill-rule=\"evenodd\" fill-opacity=\"1\" stroke=\"#000000\" stroke-opacity=\"1\" stroke-width=\"1\"/>\n",
       "<circle clip-path=\"url(#clip382)\" cx=\"167.714\" cy=\"364.532\" r=\"3\" fill=\"#009af9\" fill-rule=\"evenodd\" fill-opacity=\"1\" stroke=\"#000000\" stroke-opacity=\"1\" stroke-width=\"1\"/>\n",
       "<circle clip-path=\"url(#clip382)\" cx=\"168.962\" cy=\"353.672\" r=\"3\" fill=\"#009af9\" fill-rule=\"evenodd\" fill-opacity=\"1\" stroke=\"#000000\" stroke-opacity=\"1\" stroke-width=\"1\"/>\n",
       "<circle clip-path=\"url(#clip382)\" cx=\"170.375\" cy=\"360.69\" r=\"3\" fill=\"#009af9\" fill-rule=\"evenodd\" fill-opacity=\"1\" stroke=\"#000000\" stroke-opacity=\"1\" stroke-width=\"1\"/>\n",
       "<circle clip-path=\"url(#clip382)\" cx=\"172.505\" cy=\"313.833\" r=\"3\" fill=\"#009af9\" fill-rule=\"evenodd\" fill-opacity=\"1\" stroke=\"#000000\" stroke-opacity=\"1\" stroke-width=\"1\"/>\n",
       "<circle clip-path=\"url(#clip382)\" cx=\"173.037\" cy=\"299.835\" r=\"3\" fill=\"#009af9\" fill-rule=\"evenodd\" fill-opacity=\"1\" stroke=\"#000000\" stroke-opacity=\"1\" stroke-width=\"1\"/>\n",
       "<circle clip-path=\"url(#clip382)\" cx=\"174.102\" cy=\"313.028\" r=\"3\" fill=\"#009af9\" fill-rule=\"evenodd\" fill-opacity=\"1\" stroke=\"#000000\" stroke-opacity=\"1\" stroke-width=\"1\"/>\n",
       "<circle clip-path=\"url(#clip382)\" cx=\"175.167\" cy=\"344.501\" r=\"3\" fill=\"#009af9\" fill-rule=\"evenodd\" fill-opacity=\"1\" stroke=\"#000000\" stroke-opacity=\"1\" stroke-width=\"1\"/>\n",
       "<circle clip-path=\"url(#clip382)\" cx=\"176.058\" cy=\"305.305\" r=\"3\" fill=\"#009af9\" fill-rule=\"evenodd\" fill-opacity=\"1\" stroke=\"#000000\" stroke-opacity=\"1\" stroke-width=\"1\"/>\n",
       "<circle clip-path=\"url(#clip382)\" cx=\"176.07\" cy=\"346.049\" r=\"3\" fill=\"#009af9\" fill-rule=\"evenodd\" fill-opacity=\"1\" stroke=\"#000000\" stroke-opacity=\"1\" stroke-width=\"1\"/>\n",
       "<circle clip-path=\"url(#clip382)\" cx=\"176.764\" cy=\"306.592\" r=\"3\" fill=\"#009af9\" fill-rule=\"evenodd\" fill-opacity=\"1\" stroke=\"#000000\" stroke-opacity=\"1\" stroke-width=\"1\"/>\n",
       "<circle clip-path=\"url(#clip382)\" cx=\"176.764\" cy=\"299.915\" r=\"3\" fill=\"#009af9\" fill-rule=\"evenodd\" fill-opacity=\"1\" stroke=\"#000000\" stroke-opacity=\"1\" stroke-width=\"1\"/>\n",
       "<circle clip-path=\"url(#clip382)\" cx=\"176.817\" cy=\"365.417\" r=\"3\" fill=\"#009af9\" fill-rule=\"evenodd\" fill-opacity=\"1\" stroke=\"#000000\" stroke-opacity=\"1\" stroke-width=\"1\"/>\n",
       "<circle clip-path=\"url(#clip382)\" cx=\"178.095\" cy=\"304.278\" r=\"3\" fill=\"#009af9\" fill-rule=\"evenodd\" fill-opacity=\"1\" stroke=\"#000000\" stroke-opacity=\"1\" stroke-width=\"1\"/>\n",
       "<circle clip-path=\"url(#clip382)\" cx=\"178.361\" cy=\"273.387\" r=\"3\" fill=\"#009af9\" fill-rule=\"evenodd\" fill-opacity=\"1\" stroke=\"#000000\" stroke-opacity=\"1\" stroke-width=\"1\"/>\n",
       "<circle clip-path=\"url(#clip382)\" cx=\"179.425\" cy=\"359.081\" r=\"3\" fill=\"#009af9\" fill-rule=\"evenodd\" fill-opacity=\"1\" stroke=\"#000000\" stroke-opacity=\"1\" stroke-width=\"1\"/>\n",
       "<circle clip-path=\"url(#clip382)\" cx=\"179.958\" cy=\"316.005\" r=\"3\" fill=\"#009af9\" fill-rule=\"evenodd\" fill-opacity=\"1\" stroke=\"#000000\" stroke-opacity=\"1\" stroke-width=\"1\"/>\n",
       "<circle clip-path=\"url(#clip382)\" cx=\"180.969\" cy=\"323.746\" r=\"3\" fill=\"#009af9\" fill-rule=\"evenodd\" fill-opacity=\"1\" stroke=\"#000000\" stroke-opacity=\"1\" stroke-width=\"1\"/>\n",
       "<circle clip-path=\"url(#clip382)\" cx=\"181.096\" cy=\"366.222\" r=\"3\" fill=\"#009af9\" fill-rule=\"evenodd\" fill-opacity=\"1\" stroke=\"#000000\" stroke-opacity=\"1\" stroke-width=\"1\"/>\n",
       "<circle clip-path=\"url(#clip382)\" cx=\"182.353\" cy=\"330.807\" r=\"3\" fill=\"#009af9\" fill-rule=\"evenodd\" fill-opacity=\"1\" stroke=\"#000000\" stroke-opacity=\"1\" stroke-width=\"1\"/>\n",
       "<circle clip-path=\"url(#clip382)\" cx=\"183.858\" cy=\"348.202\" r=\"3\" fill=\"#009af9\" fill-rule=\"evenodd\" fill-opacity=\"1\" stroke=\"#000000\" stroke-opacity=\"1\" stroke-width=\"1\"/>\n",
       "<circle clip-path=\"url(#clip382)\" cx=\"184.749\" cy=\"305.386\" r=\"3\" fill=\"#009af9\" fill-rule=\"evenodd\" fill-opacity=\"1\" stroke=\"#000000\" stroke-opacity=\"1\" stroke-width=\"1\"/>\n",
       "<circle clip-path=\"url(#clip382)\" cx=\"184.749\" cy=\"340.962\" r=\"3\" fill=\"#009af9\" fill-rule=\"evenodd\" fill-opacity=\"1\" stroke=\"#000000\" stroke-opacity=\"1\" stroke-width=\"1\"/>\n",
       "<circle clip-path=\"url(#clip382)\" cx=\"185.027\" cy=\"374.687\" r=\"3\" fill=\"#009af9\" fill-rule=\"evenodd\" fill-opacity=\"1\" stroke=\"#000000\" stroke-opacity=\"1\" stroke-width=\"1\"/>\n",
       "<circle clip-path=\"url(#clip382)\" cx=\"185.388\" cy=\"292.917\" r=\"3\" fill=\"#009af9\" fill-rule=\"evenodd\" fill-opacity=\"1\" stroke=\"#000000\" stroke-opacity=\"1\" stroke-width=\"1\"/>\n",
       "<circle clip-path=\"url(#clip382)\" cx=\"185.814\" cy=\"335.089\" r=\"3\" fill=\"#009af9\" fill-rule=\"evenodd\" fill-opacity=\"1\" stroke=\"#000000\" stroke-opacity=\"1\" stroke-width=\"1\"/>\n",
       "<circle clip-path=\"url(#clip382)\" cx=\"186.08\" cy=\"334.947\" r=\"3\" fill=\"#009af9\" fill-rule=\"evenodd\" fill-opacity=\"1\" stroke=\"#000000\" stroke-opacity=\"1\" stroke-width=\"1\"/>\n",
       "<circle clip-path=\"url(#clip382)\" cx=\"186.687\" cy=\"360.59\" r=\"3\" fill=\"#009af9\" fill-rule=\"evenodd\" fill-opacity=\"1\" stroke=\"#000000\" stroke-opacity=\"1\" stroke-width=\"1\"/>\n",
       "<circle clip-path=\"url(#clip382)\" cx=\"186.878\" cy=\"350.213\" r=\"3\" fill=\"#009af9\" fill-rule=\"evenodd\" fill-opacity=\"1\" stroke=\"#000000\" stroke-opacity=\"1\" stroke-width=\"1\"/>\n",
       "<circle clip-path=\"url(#clip382)\" cx=\"187.144\" cy=\"328.994\" r=\"3\" fill=\"#009af9\" fill-rule=\"evenodd\" fill-opacity=\"1\" stroke=\"#000000\" stroke-opacity=\"1\" stroke-width=\"1\"/>\n",
       "<circle clip-path=\"url(#clip382)\" cx=\"187.411\" cy=\"300.157\" r=\"3\" fill=\"#009af9\" fill-rule=\"evenodd\" fill-opacity=\"1\" stroke=\"#000000\" stroke-opacity=\"1\" stroke-width=\"1\"/>\n",
       "<circle clip-path=\"url(#clip382)\" cx=\"187.982\" cy=\"330.906\" r=\"3\" fill=\"#009af9\" fill-rule=\"evenodd\" fill-opacity=\"1\" stroke=\"#000000\" stroke-opacity=\"1\" stroke-width=\"1\"/>\n",
       "<circle clip-path=\"url(#clip382)\" cx=\"189.008\" cy=\"310.714\" r=\"3\" fill=\"#009af9\" fill-rule=\"evenodd\" fill-opacity=\"1\" stroke=\"#000000\" stroke-opacity=\"1\" stroke-width=\"1\"/>\n",
       "<circle clip-path=\"url(#clip382)\" cx=\"189.466\" cy=\"311.258\" r=\"3\" fill=\"#009af9\" fill-rule=\"evenodd\" fill-opacity=\"1\" stroke=\"#000000\" stroke-opacity=\"1\" stroke-width=\"1\"/>\n",
       "<circle clip-path=\"url(#clip382)\" cx=\"189.913\" cy=\"242.557\" r=\"3\" fill=\"#009af9\" fill-rule=\"evenodd\" fill-opacity=\"1\" stroke=\"#000000\" stroke-opacity=\"1\" stroke-width=\"1\"/>\n",
       "<circle clip-path=\"url(#clip382)\" cx=\"190.072\" cy=\"309.81\" r=\"3\" fill=\"#009af9\" fill-rule=\"evenodd\" fill-opacity=\"1\" stroke=\"#000000\" stroke-opacity=\"1\" stroke-width=\"1\"/>\n",
       "<circle clip-path=\"url(#clip382)\" cx=\"190.072\" cy=\"218.646\" r=\"3\" fill=\"#009af9\" fill-rule=\"evenodd\" fill-opacity=\"1\" stroke=\"#000000\" stroke-opacity=\"1\" stroke-width=\"1\"/>\n",
       "<circle clip-path=\"url(#clip382)\" cx=\"190.605\" cy=\"307.558\" r=\"3\" fill=\"#009af9\" fill-rule=\"evenodd\" fill-opacity=\"1\" stroke=\"#000000\" stroke-opacity=\"1\" stroke-width=\"1\"/>\n",
       "<circle clip-path=\"url(#clip382)\" cx=\"192.734\" cy=\"340.64\" r=\"3\" fill=\"#009af9\" fill-rule=\"evenodd\" fill-opacity=\"1\" stroke=\"#000000\" stroke-opacity=\"1\" stroke-width=\"1\"/>\n",
       "<circle clip-path=\"url(#clip382)\" cx=\"193.267\" cy=\"259.049\" r=\"3\" fill=\"#009af9\" fill-rule=\"evenodd\" fill-opacity=\"1\" stroke=\"#000000\" stroke-opacity=\"1\" stroke-width=\"1\"/>\n",
       "<circle clip-path=\"url(#clip382)\" cx=\"193.923\" cy=\"361.296\" r=\"3\" fill=\"#009af9\" fill-rule=\"evenodd\" fill-opacity=\"1\" stroke=\"#000000\" stroke-opacity=\"1\" stroke-width=\"1\"/>\n",
       "<circle clip-path=\"url(#clip382)\" cx=\"194.054\" cy=\"360.813\" r=\"3\" fill=\"#009af9\" fill-rule=\"evenodd\" fill-opacity=\"1\" stroke=\"#000000\" stroke-opacity=\"1\" stroke-width=\"1\"/>\n",
       "<circle clip-path=\"url(#clip382)\" cx=\"195.322\" cy=\"352.385\" r=\"3\" fill=\"#009af9\" fill-rule=\"evenodd\" fill-opacity=\"1\" stroke=\"#000000\" stroke-opacity=\"1\" stroke-width=\"1\"/>\n",
       "<circle clip-path=\"url(#clip382)\" cx=\"195.928\" cy=\"331.147\" r=\"3\" fill=\"#009af9\" fill-rule=\"evenodd\" fill-opacity=\"1\" stroke=\"#000000\" stroke-opacity=\"1\" stroke-width=\"1\"/>\n",
       "<circle clip-path=\"url(#clip382)\" cx=\"196.543\" cy=\"329.278\" r=\"3\" fill=\"#009af9\" fill-rule=\"evenodd\" fill-opacity=\"1\" stroke=\"#000000\" stroke-opacity=\"1\" stroke-width=\"1\"/>\n",
       "<circle clip-path=\"url(#clip382)\" cx=\"197.617\" cy=\"298.486\" r=\"3\" fill=\"#009af9\" fill-rule=\"evenodd\" fill-opacity=\"1\" stroke=\"#000000\" stroke-opacity=\"1\" stroke-width=\"1\"/>\n",
       "<circle clip-path=\"url(#clip382)\" cx=\"199.655\" cy=\"317.211\" r=\"3\" fill=\"#009af9\" fill-rule=\"evenodd\" fill-opacity=\"1\" stroke=\"#000000\" stroke-opacity=\"1\" stroke-width=\"1\"/>\n",
       "<circle clip-path=\"url(#clip382)\" cx=\"200.719\" cy=\"334.545\" r=\"3\" fill=\"#009af9\" fill-rule=\"evenodd\" fill-opacity=\"1\" stroke=\"#000000\" stroke-opacity=\"1\" stroke-width=\"1\"/>\n",
       "<circle clip-path=\"url(#clip382)\" cx=\"201.252\" cy=\"280.93\" r=\"3\" fill=\"#009af9\" fill-rule=\"evenodd\" fill-opacity=\"1\" stroke=\"#000000\" stroke-opacity=\"1\" stroke-width=\"1\"/>\n",
       "<circle clip-path=\"url(#clip382)\" cx=\"201.252\" cy=\"302.731\" r=\"3\" fill=\"#009af9\" fill-rule=\"evenodd\" fill-opacity=\"1\" stroke=\"#000000\" stroke-opacity=\"1\" stroke-width=\"1\"/>\n",
       "<circle clip-path=\"url(#clip382)\" cx=\"202.05\" cy=\"310.454\" r=\"3\" fill=\"#009af9\" fill-rule=\"evenodd\" fill-opacity=\"1\" stroke=\"#000000\" stroke-opacity=\"1\" stroke-width=\"1\"/>\n",
       "<circle clip-path=\"url(#clip382)\" cx=\"203.914\" cy=\"237.811\" r=\"3\" fill=\"#009af9\" fill-rule=\"evenodd\" fill-opacity=\"1\" stroke=\"#000000\" stroke-opacity=\"1\" stroke-width=\"1\"/>\n",
       "<circle clip-path=\"url(#clip382)\" cx=\"203.914\" cy=\"307.898\" r=\"3\" fill=\"#009af9\" fill-rule=\"evenodd\" fill-opacity=\"1\" stroke=\"#000000\" stroke-opacity=\"1\" stroke-width=\"1\"/>\n",
       "<circle clip-path=\"url(#clip382)\" cx=\"206.043\" cy=\"328.492\" r=\"3\" fill=\"#009af9\" fill-rule=\"evenodd\" fill-opacity=\"1\" stroke=\"#000000\" stroke-opacity=\"1\" stroke-width=\"1\"/>\n",
       "<circle clip-path=\"url(#clip382)\" cx=\"208.399\" cy=\"236.765\" r=\"3\" fill=\"#009af9\" fill-rule=\"evenodd\" fill-opacity=\"1\" stroke=\"#000000\" stroke-opacity=\"1\" stroke-width=\"1\"/>\n",
       "<circle clip-path=\"url(#clip382)\" cx=\"208.884\" cy=\"327.608\" r=\"3\" fill=\"#009af9\" fill-rule=\"evenodd\" fill-opacity=\"1\" stroke=\"#000000\" stroke-opacity=\"1\" stroke-width=\"1\"/>\n",
       "<circle clip-path=\"url(#clip382)\" cx=\"210.291\" cy=\"250.763\" r=\"3\" fill=\"#009af9\" fill-rule=\"evenodd\" fill-opacity=\"1\" stroke=\"#000000\" stroke-opacity=\"1\" stroke-width=\"1\"/>\n",
       "<circle clip-path=\"url(#clip382)\" cx=\"211.366\" cy=\"300.8\" r=\"3\" fill=\"#009af9\" fill-rule=\"evenodd\" fill-opacity=\"1\" stroke=\"#000000\" stroke-opacity=\"1\" stroke-width=\"1\"/>\n",
       "<circle clip-path=\"url(#clip382)\" cx=\"213.861\" cy=\"291.085\" r=\"3\" fill=\"#009af9\" fill-rule=\"evenodd\" fill-opacity=\"1\" stroke=\"#000000\" stroke-opacity=\"1\" stroke-width=\"1\"/>\n",
       "<circle clip-path=\"url(#clip382)\" cx=\"213.971\" cy=\"337.663\" r=\"3\" fill=\"#009af9\" fill-rule=\"evenodd\" fill-opacity=\"1\" stroke=\"#000000\" stroke-opacity=\"1\" stroke-width=\"1\"/>\n",
       "<circle clip-path=\"url(#clip382)\" cx=\"214.028\" cy=\"324.229\" r=\"3\" fill=\"#009af9\" fill-rule=\"evenodd\" fill-opacity=\"1\" stroke=\"#000000\" stroke-opacity=\"1\" stroke-width=\"1\"/>\n",
       "<circle clip-path=\"url(#clip382)\" cx=\"214.028\" cy=\"330.485\" r=\"3\" fill=\"#009af9\" fill-rule=\"evenodd\" fill-opacity=\"1\" stroke=\"#000000\" stroke-opacity=\"1\" stroke-width=\"1\"/>\n",
       "<circle clip-path=\"url(#clip382)\" cx=\"219.352\" cy=\"225.403\" r=\"3\" fill=\"#009af9\" fill-rule=\"evenodd\" fill-opacity=\"1\" stroke=\"#000000\" stroke-opacity=\"1\" stroke-width=\"1\"/>\n",
       "<circle clip-path=\"url(#clip382)\" cx=\"219.884\" cy=\"286.239\" r=\"3\" fill=\"#009af9\" fill-rule=\"evenodd\" fill-opacity=\"1\" stroke=\"#000000\" stroke-opacity=\"1\" stroke-width=\"1\"/>\n",
       "<circle clip-path=\"url(#clip382)\" cx=\"219.914\" cy=\"333.3\" r=\"3\" fill=\"#009af9\" fill-rule=\"evenodd\" fill-opacity=\"1\" stroke=\"#000000\" stroke-opacity=\"1\" stroke-width=\"1\"/>\n",
       "<circle clip-path=\"url(#clip382)\" cx=\"220.608\" cy=\"345.306\" r=\"3\" fill=\"#009af9\" fill-rule=\"evenodd\" fill-opacity=\"1\" stroke=\"#000000\" stroke-opacity=\"1\" stroke-width=\"1\"/>\n",
       "<circle clip-path=\"url(#clip382)\" cx=\"221.982\" cy=\"304.983\" r=\"3\" fill=\"#009af9\" fill-rule=\"evenodd\" fill-opacity=\"1\" stroke=\"#000000\" stroke-opacity=\"1\" stroke-width=\"1\"/>\n",
       "<circle clip-path=\"url(#clip382)\" cx=\"224.675\" cy=\"306.995\" r=\"3\" fill=\"#009af9\" fill-rule=\"evenodd\" fill-opacity=\"1\" stroke=\"#000000\" stroke-opacity=\"1\" stroke-width=\"1\"/>\n",
       "<circle clip-path=\"url(#clip382)\" cx=\"228.044\" cy=\"277.471\" r=\"3\" fill=\"#009af9\" fill-rule=\"evenodd\" fill-opacity=\"1\" stroke=\"#000000\" stroke-opacity=\"1\" stroke-width=\"1\"/>\n",
       "<circle clip-path=\"url(#clip382)\" cx=\"229.008\" cy=\"333.561\" r=\"3\" fill=\"#009af9\" fill-rule=\"evenodd\" fill-opacity=\"1\" stroke=\"#000000\" stroke-opacity=\"1\" stroke-width=\"1\"/>\n",
       "<circle clip-path=\"url(#clip382)\" cx=\"230.866\" cy=\"332.273\" r=\"3\" fill=\"#009af9\" fill-rule=\"evenodd\" fill-opacity=\"1\" stroke=\"#000000\" stroke-opacity=\"1\" stroke-width=\"1\"/>\n",
       "<circle clip-path=\"url(#clip382)\" cx=\"232.66\" cy=\"187.111\" r=\"3\" fill=\"#009af9\" fill-rule=\"evenodd\" fill-opacity=\"1\" stroke=\"#000000\" stroke-opacity=\"1\" stroke-width=\"1\"/>\n",
       "<circle clip-path=\"url(#clip382)\" cx=\"232.66\" cy=\"277.372\" r=\"3\" fill=\"#009af9\" fill-rule=\"evenodd\" fill-opacity=\"1\" stroke=\"#000000\" stroke-opacity=\"1\" stroke-width=\"1\"/>\n",
       "<circle clip-path=\"url(#clip382)\" cx=\"235.322\" cy=\"277.291\" r=\"3\" fill=\"#009af9\" fill-rule=\"evenodd\" fill-opacity=\"1\" stroke=\"#000000\" stroke-opacity=\"1\" stroke-width=\"1\"/>\n",
       "<circle clip-path=\"url(#clip382)\" cx=\"237.227\" cy=\"322.44\" r=\"3\" fill=\"#009af9\" fill-rule=\"evenodd\" fill-opacity=\"1\" stroke=\"#000000\" stroke-opacity=\"1\" stroke-width=\"1\"/>\n",
       "<circle clip-path=\"url(#clip382)\" cx=\"238.516\" cy=\"249.253\" r=\"3\" fill=\"#009af9\" fill-rule=\"evenodd\" fill-opacity=\"1\" stroke=\"#000000\" stroke-opacity=\"1\" stroke-width=\"1\"/>\n",
       "<circle clip-path=\"url(#clip382)\" cx=\"243.308\" cy=\"282.539\" r=\"3\" fill=\"#009af9\" fill-rule=\"evenodd\" fill-opacity=\"1\" stroke=\"#000000\" stroke-opacity=\"1\" stroke-width=\"1\"/>\n",
       "<circle clip-path=\"url(#clip382)\" cx=\"246.366\" cy=\"300.095\" r=\"3\" fill=\"#009af9\" fill-rule=\"evenodd\" fill-opacity=\"1\" stroke=\"#000000\" stroke-opacity=\"1\" stroke-width=\"1\"/>\n",
       "<circle clip-path=\"url(#clip382)\" cx=\"249.163\" cy=\"231.536\" r=\"3\" fill=\"#009af9\" fill-rule=\"evenodd\" fill-opacity=\"1\" stroke=\"#000000\" stroke-opacity=\"1\" stroke-width=\"1\"/>\n",
       "<circle clip-path=\"url(#clip382)\" cx=\"250.636\" cy=\"326.704\" r=\"3\" fill=\"#009af9\" fill-rule=\"evenodd\" fill-opacity=\"1\" stroke=\"#000000\" stroke-opacity=\"1\" stroke-width=\"1\"/>\n",
       "<circle clip-path=\"url(#clip382)\" cx=\"251.844\" cy=\"281.654\" r=\"3\" fill=\"#009af9\" fill-rule=\"evenodd\" fill-opacity=\"1\" stroke=\"#000000\" stroke-opacity=\"1\" stroke-width=\"1\"/>\n",
       "<circle clip-path=\"url(#clip382)\" cx=\"254.248\" cy=\"305.386\" r=\"3\" fill=\"#009af9\" fill-rule=\"evenodd\" fill-opacity=\"1\" stroke=\"#000000\" stroke-opacity=\"1\" stroke-width=\"1\"/>\n",
       "<circle clip-path=\"url(#clip382)\" cx=\"255.182\" cy=\"300.899\" r=\"3\" fill=\"#009af9\" fill-rule=\"evenodd\" fill-opacity=\"1\" stroke=\"#000000\" stroke-opacity=\"1\" stroke-width=\"1\"/>\n",
       "<circle clip-path=\"url(#clip382)\" cx=\"256.616\" cy=\"310.312\" r=\"3\" fill=\"#009af9\" fill-rule=\"evenodd\" fill-opacity=\"1\" stroke=\"#000000\" stroke-opacity=\"1\" stroke-width=\"1\"/>\n",
       "<circle clip-path=\"url(#clip382)\" cx=\"259.278\" cy=\"307.113\" r=\"3\" fill=\"#009af9\" fill-rule=\"evenodd\" fill-opacity=\"1\" stroke=\"#000000\" stroke-opacity=\"1\" stroke-width=\"1\"/>\n",
       "<circle clip-path=\"url(#clip382)\" cx=\"263.537\" cy=\"350.857\" r=\"3\" fill=\"#009af9\" fill-rule=\"evenodd\" fill-opacity=\"1\" stroke=\"#000000\" stroke-opacity=\"1\" stroke-width=\"1\"/>\n",
       "<circle clip-path=\"url(#clip382)\" cx=\"268.86\" cy=\"313.851\" r=\"3\" fill=\"#009af9\" fill-rule=\"evenodd\" fill-opacity=\"1\" stroke=\"#000000\" stroke-opacity=\"1\" stroke-width=\"1\"/>\n",
       "<circle clip-path=\"url(#clip382)\" cx=\"272.64\" cy=\"202.155\" r=\"3\" fill=\"#009af9\" fill-rule=\"evenodd\" fill-opacity=\"1\" stroke=\"#000000\" stroke-opacity=\"1\" stroke-width=\"1\"/>\n",
       "<circle clip-path=\"url(#clip382)\" cx=\"275.249\" cy=\"309.185\" r=\"3\" fill=\"#009af9\" fill-rule=\"evenodd\" fill-opacity=\"1\" stroke=\"#000000\" stroke-opacity=\"1\" stroke-width=\"1\"/>\n",
       "<circle clip-path=\"url(#clip382)\" cx=\"279.737\" cy=\"288.17\" r=\"3\" fill=\"#009af9\" fill-rule=\"evenodd\" fill-opacity=\"1\" stroke=\"#000000\" stroke-opacity=\"1\" stroke-width=\"1\"/>\n",
       "<circle clip-path=\"url(#clip382)\" cx=\"287.493\" cy=\"299.915\" r=\"3\" fill=\"#009af9\" fill-rule=\"evenodd\" fill-opacity=\"1\" stroke=\"#000000\" stroke-opacity=\"1\" stroke-width=\"1\"/>\n",
       "<circle clip-path=\"url(#clip382)\" cx=\"289.888\" cy=\"291.667\" r=\"3\" fill=\"#009af9\" fill-rule=\"evenodd\" fill-opacity=\"1\" stroke=\"#000000\" stroke-opacity=\"1\" stroke-width=\"1\"/>\n",
       "<circle clip-path=\"url(#clip382)\" cx=\"291.71\" cy=\"309.668\" r=\"3\" fill=\"#009af9\" fill-rule=\"evenodd\" fill-opacity=\"1\" stroke=\"#000000\" stroke-opacity=\"1\" stroke-width=\"1\"/>\n",
       "<circle clip-path=\"url(#clip382)\" cx=\"299.204\" cy=\"294.847\" r=\"3\" fill=\"#009af9\" fill-rule=\"evenodd\" fill-opacity=\"1\" stroke=\"#000000\" stroke-opacity=\"1\" stroke-width=\"1\"/>\n",
       "<circle clip-path=\"url(#clip382)\" cx=\"301.866\" cy=\"109.741\" r=\"3\" fill=\"#009af9\" fill-rule=\"evenodd\" fill-opacity=\"1\" stroke=\"#000000\" stroke-opacity=\"1\" stroke-width=\"1\"/>\n",
       "<circle clip-path=\"url(#clip382)\" cx=\"302.931\" cy=\"124.524\" r=\"3\" fill=\"#009af9\" fill-rule=\"evenodd\" fill-opacity=\"1\" stroke=\"#000000\" stroke-opacity=\"1\" stroke-width=\"1\"/>\n",
       "<circle clip-path=\"url(#clip382)\" cx=\"312.513\" cy=\"262.768\" r=\"3\" fill=\"#009af9\" fill-rule=\"evenodd\" fill-opacity=\"1\" stroke=\"#000000\" stroke-opacity=\"1\" stroke-width=\"1\"/>\n",
       "<circle clip-path=\"url(#clip382)\" cx=\"315.175\" cy=\"210.057\" r=\"3\" fill=\"#009af9\" fill-rule=\"evenodd\" fill-opacity=\"1\" stroke=\"#000000\" stroke-opacity=\"1\" stroke-width=\"1\"/>\n",
       "<circle clip-path=\"url(#clip382)\" cx=\"320.232\" cy=\"244.346\" r=\"3\" fill=\"#009af9\" fill-rule=\"evenodd\" fill-opacity=\"1\" stroke=\"#000000\" stroke-opacity=\"1\" stroke-width=\"1\"/>\n",
       "<circle clip-path=\"url(#clip382)\" cx=\"328.484\" cy=\"292.453\" r=\"3\" fill=\"#009af9\" fill-rule=\"evenodd\" fill-opacity=\"1\" stroke=\"#000000\" stroke-opacity=\"1\" stroke-width=\"1\"/>\n",
       "<circle clip-path=\"url(#clip382)\" cx=\"332.044\" cy=\"339.514\" r=\"3\" fill=\"#009af9\" fill-rule=\"evenodd\" fill-opacity=\"1\" stroke=\"#000000\" stroke-opacity=\"1\" stroke-width=\"1\"/>\n",
       "<circle clip-path=\"url(#clip382)\" cx=\"343.39\" cy=\"211.585\" r=\"3\" fill=\"#009af9\" fill-rule=\"evenodd\" fill-opacity=\"1\" stroke=\"#000000\" stroke-opacity=\"1\" stroke-width=\"1\"/>\n",
       "<circle clip-path=\"url(#clip382)\" cx=\"370.589\" cy=\"165.149\" r=\"3\" fill=\"#009af9\" fill-rule=\"evenodd\" fill-opacity=\"1\" stroke=\"#000000\" stroke-opacity=\"1\" stroke-width=\"1\"/>\n",
       "<circle clip-path=\"url(#clip382)\" cx=\"400.883\" cy=\"241.914\" r=\"3\" fill=\"#009af9\" fill-rule=\"evenodd\" fill-opacity=\"1\" stroke=\"#000000\" stroke-opacity=\"1\" stroke-width=\"1\"/>\n",
       "<circle clip-path=\"url(#clip382)\" cx=\"418.113\" cy=\"185.843\" r=\"3\" fill=\"#009af9\" fill-rule=\"evenodd\" fill-opacity=\"1\" stroke=\"#000000\" stroke-opacity=\"1\" stroke-width=\"1\"/>\n",
       "<circle clip-path=\"url(#clip382)\" cx=\"422.284\" cy=\"233.126\" r=\"3\" fill=\"#009af9\" fill-rule=\"evenodd\" fill-opacity=\"1\" stroke=\"#000000\" stroke-opacity=\"1\" stroke-width=\"1\"/>\n",
       "<circle clip-path=\"url(#clip382)\" cx=\"430.514\" cy=\"161.368\" r=\"3\" fill=\"#009af9\" fill-rule=\"evenodd\" fill-opacity=\"1\" stroke=\"#000000\" stroke-opacity=\"1\" stroke-width=\"1\"/>\n",
       "<circle clip-path=\"url(#clip382)\" cx=\"91.8121\" cy=\"368.091\" r=\"3\" fill=\"#009af9\" fill-rule=\"evenodd\" fill-opacity=\"1\" stroke=\"#000000\" stroke-opacity=\"1\" stroke-width=\"1\"/>\n",
       "<circle clip-path=\"url(#clip382)\" cx=\"95.8463\" cy=\"362.781\" r=\"3\" fill=\"#009af9\" fill-rule=\"evenodd\" fill-opacity=\"1\" stroke=\"#000000\" stroke-opacity=\"1\" stroke-width=\"1\"/>\n",
       "<circle clip-path=\"url(#clip382)\" cx=\"96.911\" cy=\"352.484\" r=\"3\" fill=\"#009af9\" fill-rule=\"evenodd\" fill-opacity=\"1\" stroke=\"#000000\" stroke-opacity=\"1\" stroke-width=\"1\"/>\n",
       "<circle clip-path=\"url(#clip382)\" cx=\"96.911\" cy=\"362.781\" r=\"3\" fill=\"#009af9\" fill-rule=\"evenodd\" fill-opacity=\"1\" stroke=\"#000000\" stroke-opacity=\"1\" stroke-width=\"1\"/>\n",
       "<circle clip-path=\"url(#clip382)\" cx=\"96.911\" cy=\"348.623\" r=\"3\" fill=\"#009af9\" fill-rule=\"evenodd\" fill-opacity=\"1\" stroke=\"#000000\" stroke-opacity=\"1\" stroke-width=\"1\"/>\n",
       "<circle clip-path=\"url(#clip382)\" cx=\"97.7095\" cy=\"355.863\" r=\"3\" fill=\"#009af9\" fill-rule=\"evenodd\" fill-opacity=\"1\" stroke=\"#000000\" stroke-opacity=\"1\" stroke-width=\"1\"/>\n",
       "<circle clip-path=\"url(#clip382)\" cx=\"100.105\" cy=\"363.103\" r=\"3\" fill=\"#009af9\" fill-rule=\"evenodd\" fill-opacity=\"1\" stroke=\"#000000\" stroke-opacity=\"1\" stroke-width=\"1\"/>\n",
       "<circle clip-path=\"url(#clip382)\" cx=\"102.234\" cy=\"366.24\" r=\"3\" fill=\"#009af9\" fill-rule=\"evenodd\" fill-opacity=\"1\" stroke=\"#000000\" stroke-opacity=\"1\" stroke-width=\"1\"/>\n",
       "<circle clip-path=\"url(#clip382)\" cx=\"103.299\" cy=\"362.62\" r=\"3\" fill=\"#009af9\" fill-rule=\"evenodd\" fill-opacity=\"1\" stroke=\"#000000\" stroke-opacity=\"1\" stroke-width=\"1\"/>\n",
       "<circle clip-path=\"url(#clip382)\" cx=\"107.558\" cy=\"354.174\" r=\"3\" fill=\"#009af9\" fill-rule=\"evenodd\" fill-opacity=\"1\" stroke=\"#000000\" stroke-opacity=\"1\" stroke-width=\"1\"/>\n",
       "<circle clip-path=\"url(#clip382)\" cx=\"113.214\" cy=\"358.097\" r=\"3\" fill=\"#009af9\" fill-rule=\"evenodd\" fill-opacity=\"1\" stroke=\"#000000\" stroke-opacity=\"1\" stroke-width=\"1\"/>\n",
       "<circle clip-path=\"url(#clip382)\" cx=\"113.488\" cy=\"368.573\" r=\"3\" fill=\"#009af9\" fill-rule=\"evenodd\" fill-opacity=\"1\" stroke=\"#000000\" stroke-opacity=\"1\" stroke-width=\"1\"/>\n",
       "<circle clip-path=\"url(#clip382)\" cx=\"117.806\" cy=\"371.148\" r=\"3\" fill=\"#009af9\" fill-rule=\"evenodd\" fill-opacity=\"1\" stroke=\"#000000\" stroke-opacity=\"1\" stroke-width=\"1\"/>\n",
       "<circle clip-path=\"url(#clip382)\" cx=\"118.205\" cy=\"351.964\" r=\"3\" fill=\"#009af9\" fill-rule=\"evenodd\" fill-opacity=\"1\" stroke=\"#000000\" stroke-opacity=\"1\" stroke-width=\"1\"/>\n",
       "<circle clip-path=\"url(#clip382)\" cx=\"119.802\" cy=\"370.343\" r=\"3\" fill=\"#009af9\" fill-rule=\"evenodd\" fill-opacity=\"1\" stroke=\"#000000\" stroke-opacity=\"1\" stroke-width=\"1\"/>\n",
       "<circle clip-path=\"url(#clip382)\" cx=\"120.334\" cy=\"370.306\" r=\"3\" fill=\"#009af9\" fill-rule=\"evenodd\" fill-opacity=\"1\" stroke=\"#000000\" stroke-opacity=\"1\" stroke-width=\"1\"/>\n",
       "<circle clip-path=\"url(#clip382)\" cx=\"123.529\" cy=\"362.218\" r=\"3\" fill=\"#009af9\" fill-rule=\"evenodd\" fill-opacity=\"1\" stroke=\"#000000\" stroke-opacity=\"1\" stroke-width=\"1\"/>\n",
       "<circle clip-path=\"url(#clip382)\" cx=\"123.529\" cy=\"357.249\" r=\"3\" fill=\"#009af9\" fill-rule=\"evenodd\" fill-opacity=\"1\" stroke=\"#000000\" stroke-opacity=\"1\" stroke-width=\"1\"/>\n",
       "<circle clip-path=\"url(#clip382)\" cx=\"123.795\" cy=\"339.514\" r=\"3\" fill=\"#009af9\" fill-rule=\"evenodd\" fill-opacity=\"1\" stroke=\"#000000\" stroke-opacity=\"1\" stroke-width=\"1\"/>\n",
       "<circle clip-path=\"url(#clip382)\" cx=\"123.859\" cy=\"332.273\" r=\"3\" fill=\"#009af9\" fill-rule=\"evenodd\" fill-opacity=\"1\" stroke=\"#000000\" stroke-opacity=\"1\" stroke-width=\"1\"/>\n",
       "<circle clip-path=\"url(#clip382)\" cx=\"124.061\" cy=\"356.005\" r=\"3\" fill=\"#009af9\" fill-rule=\"evenodd\" fill-opacity=\"1\" stroke=\"#000000\" stroke-opacity=\"1\" stroke-width=\"1\"/>\n",
       "<circle clip-path=\"url(#clip382)\" cx=\"127.255\" cy=\"351.661\" r=\"3\" fill=\"#009af9\" fill-rule=\"evenodd\" fill-opacity=\"1\" stroke=\"#000000\" stroke-opacity=\"1\" stroke-width=\"1\"/>\n",
       "<circle clip-path=\"url(#clip382)\" cx=\"127.521\" cy=\"352.063\" r=\"3\" fill=\"#009af9\" fill-rule=\"evenodd\" fill-opacity=\"1\" stroke=\"#000000\" stroke-opacity=\"1\" stroke-width=\"1\"/>\n",
       "<circle clip-path=\"url(#clip382)\" cx=\"127.787\" cy=\"348.022\" r=\"3\" fill=\"#009af9\" fill-rule=\"evenodd\" fill-opacity=\"1\" stroke=\"#000000\" stroke-opacity=\"1\" stroke-width=\"1\"/>\n",
       "<circle clip-path=\"url(#clip382)\" cx=\"128.32\" cy=\"347.639\" r=\"3\" fill=\"#009af9\" fill-rule=\"evenodd\" fill-opacity=\"1\" stroke=\"#000000\" stroke-opacity=\"1\" stroke-width=\"1\"/>\n",
       "<circle clip-path=\"url(#clip382)\" cx=\"128.32\" cy=\"365.238\" r=\"3\" fill=\"#009af9\" fill-rule=\"evenodd\" fill-opacity=\"1\" stroke=\"#000000\" stroke-opacity=\"1\" stroke-width=\"1\"/>\n",
       "<circle clip-path=\"url(#clip382)\" cx=\"128.54\" cy=\"343.375\" r=\"3\" fill=\"#009af9\" fill-rule=\"evenodd\" fill-opacity=\"1\" stroke=\"#000000\" stroke-opacity=\"1\" stroke-width=\"1\"/>\n",
       "<circle clip-path=\"url(#clip382)\" cx=\"128.852\" cy=\"355.101\" r=\"3\" fill=\"#009af9\" fill-rule=\"evenodd\" fill-opacity=\"1\" stroke=\"#000000\" stroke-opacity=\"1\" stroke-width=\"1\"/>\n",
       "<circle clip-path=\"url(#clip382)\" cx=\"131.514\" cy=\"355.603\" r=\"3\" fill=\"#009af9\" fill-rule=\"evenodd\" fill-opacity=\"1\" stroke=\"#000000\" stroke-opacity=\"1\" stroke-width=\"1\"/>\n",
       "<circle clip-path=\"url(#clip382)\" cx=\"132.445\" cy=\"345.566\" r=\"3\" fill=\"#009af9\" fill-rule=\"evenodd\" fill-opacity=\"1\" stroke=\"#000000\" stroke-opacity=\"1\" stroke-width=\"1\"/>\n",
       "<circle clip-path=\"url(#clip382)\" cx=\"135.624\" cy=\"303.857\" r=\"3\" fill=\"#009af9\" fill-rule=\"evenodd\" fill-opacity=\"1\" stroke=\"#000000\" stroke-opacity=\"1\" stroke-width=\"1\"/>\n",
       "<circle clip-path=\"url(#clip382)\" cx=\"135.645\" cy=\"344.34\" r=\"3\" fill=\"#009af9\" fill-rule=\"evenodd\" fill-opacity=\"1\" stroke=\"#000000\" stroke-opacity=\"1\" stroke-width=\"1\"/>\n",
       "<circle clip-path=\"url(#clip382)\" cx=\"135.773\" cy=\"333.078\" r=\"3\" fill=\"#009af9\" fill-rule=\"evenodd\" fill-opacity=\"1\" stroke=\"#000000\" stroke-opacity=\"1\" stroke-width=\"1\"/>\n",
       "<circle clip-path=\"url(#clip382)\" cx=\"136.837\" cy=\"344.019\" r=\"3\" fill=\"#009af9\" fill-rule=\"evenodd\" fill-opacity=\"1\" stroke=\"#000000\" stroke-opacity=\"1\" stroke-width=\"1\"/>\n",
       "<circle clip-path=\"url(#clip382)\" cx=\"139.499\" cy=\"360.43\" r=\"3\" fill=\"#009af9\" fill-rule=\"evenodd\" fill-opacity=\"1\" stroke=\"#000000\" stroke-opacity=\"1\" stroke-width=\"1\"/>\n",
       "<circle clip-path=\"url(#clip382)\" cx=\"139.499\" cy=\"344.44\" r=\"3\" fill=\"#009af9\" fill-rule=\"evenodd\" fill-opacity=\"1\" stroke=\"#000000\" stroke-opacity=\"1\" stroke-width=\"1\"/>\n",
       "<circle clip-path=\"url(#clip382)\" cx=\"142.161\" cy=\"327.768\" r=\"3\" fill=\"#009af9\" fill-rule=\"evenodd\" fill-opacity=\"1\" stroke=\"#000000\" stroke-opacity=\"1\" stroke-width=\"1\"/>\n",
       "<circle clip-path=\"url(#clip382)\" cx=\"142.161\" cy=\"357.855\" r=\"3\" fill=\"#009af9\" fill-rule=\"evenodd\" fill-opacity=\"1\" stroke=\"#000000\" stroke-opacity=\"1\" stroke-width=\"1\"/>\n",
       "<circle clip-path=\"url(#clip382)\" cx=\"142.693\" cy=\"324.934\" r=\"3\" fill=\"#009af9\" fill-rule=\"evenodd\" fill-opacity=\"1\" stroke=\"#000000\" stroke-opacity=\"1\" stroke-width=\"1\"/>\n",
       "<circle clip-path=\"url(#clip382)\" cx=\"144.823\" cy=\"368.474\" r=\"3\" fill=\"#009af9\" fill-rule=\"evenodd\" fill-opacity=\"1\" stroke=\"#000000\" stroke-opacity=\"1\" stroke-width=\"1\"/>\n",
       "<circle clip-path=\"url(#clip382)\" cx=\"145.248\" cy=\"359.223\" r=\"3\" fill=\"#009af9\" fill-rule=\"evenodd\" fill-opacity=\"1\" stroke=\"#000000\" stroke-opacity=\"1\" stroke-width=\"1\"/>\n",
       "<circle clip-path=\"url(#clip382)\" cx=\"145.431\" cy=\"330.825\" r=\"3\" fill=\"#009af9\" fill-rule=\"evenodd\" fill-opacity=\"1\" stroke=\"#000000\" stroke-opacity=\"1\" stroke-width=\"1\"/>\n",
       "<circle clip-path=\"url(#clip382)\" cx=\"146.42\" cy=\"346.655\" r=\"3\" fill=\"#009af9\" fill-rule=\"evenodd\" fill-opacity=\"1\" stroke=\"#000000\" stroke-opacity=\"1\" stroke-width=\"1\"/>\n",
       "<circle clip-path=\"url(#clip382)\" cx=\"147.484\" cy=\"332.273\" r=\"3\" fill=\"#009af9\" fill-rule=\"evenodd\" fill-opacity=\"1\" stroke=\"#000000\" stroke-opacity=\"1\" stroke-width=\"1\"/>\n",
       "<circle clip-path=\"url(#clip382)\" cx=\"148.283\" cy=\"308.059\" r=\"3\" fill=\"#009af9\" fill-rule=\"evenodd\" fill-opacity=\"1\" stroke=\"#000000\" stroke-opacity=\"1\" stroke-width=\"1\"/>\n",
       "<circle clip-path=\"url(#clip382)\" cx=\"148.336\" cy=\"336.599\" r=\"3\" fill=\"#009af9\" fill-rule=\"evenodd\" fill-opacity=\"1\" stroke=\"#000000\" stroke-opacity=\"1\" stroke-width=\"1\"/>\n",
       "<circle clip-path=\"url(#clip382)\" cx=\"148.549\" cy=\"353.994\" r=\"3\" fill=\"#009af9\" fill-rule=\"evenodd\" fill-opacity=\"1\" stroke=\"#000000\" stroke-opacity=\"1\" stroke-width=\"1\"/>\n",
       "<circle clip-path=\"url(#clip382)\" cx=\"150.146\" cy=\"331.289\" r=\"3\" fill=\"#009af9\" fill-rule=\"evenodd\" fill-opacity=\"1\" stroke=\"#000000\" stroke-opacity=\"1\" stroke-width=\"1\"/>\n",
       "<circle clip-path=\"url(#clip382)\" cx=\"150.146\" cy=\"332.273\" r=\"3\" fill=\"#009af9\" fill-rule=\"evenodd\" fill-opacity=\"1\" stroke=\"#000000\" stroke-opacity=\"1\" stroke-width=\"1\"/>\n",
       "<circle clip-path=\"url(#clip382)\" cx=\"151.367\" cy=\"345.949\" r=\"3\" fill=\"#009af9\" fill-rule=\"evenodd\" fill-opacity=\"1\" stroke=\"#000000\" stroke-opacity=\"1\" stroke-width=\"1\"/>\n",
       "<circle clip-path=\"url(#clip382)\" cx=\"151.743\" cy=\"328.375\" r=\"3\" fill=\"#009af9\" fill-rule=\"evenodd\" fill-opacity=\"1\" stroke=\"#000000\" stroke-opacity=\"1\" stroke-width=\"1\"/>\n",
       "<circle clip-path=\"url(#clip382)\" cx=\"151.743\" cy=\"328.796\" r=\"3\" fill=\"#009af9\" fill-rule=\"evenodd\" fill-opacity=\"1\" stroke=\"#000000\" stroke-opacity=\"1\" stroke-width=\"1\"/>\n",
       "<circle clip-path=\"url(#clip382)\" cx=\"152.142\" cy=\"311.438\" r=\"3\" fill=\"#009af9\" fill-rule=\"evenodd\" fill-opacity=\"1\" stroke=\"#000000\" stroke-opacity=\"1\" stroke-width=\"1\"/>\n",
       "<circle clip-path=\"url(#clip382)\" cx=\"152.142\" cy=\"362.923\" r=\"3\" fill=\"#009af9\" fill-rule=\"evenodd\" fill-opacity=\"1\" stroke=\"#000000\" stroke-opacity=\"1\" stroke-width=\"1\"/>\n",
       "<circle clip-path=\"url(#clip382)\" cx=\"152.808\" cy=\"356.97\" r=\"3\" fill=\"#009af9\" fill-rule=\"evenodd\" fill-opacity=\"1\" stroke=\"#000000\" stroke-opacity=\"1\" stroke-width=\"1\"/>\n",
       "<circle clip-path=\"url(#clip382)\" cx=\"152.941\" cy=\"271.858\" r=\"3\" fill=\"#009af9\" fill-rule=\"evenodd\" fill-opacity=\"1\" stroke=\"#000000\" stroke-opacity=\"1\" stroke-width=\"1\"/>\n",
       "<circle clip-path=\"url(#clip382)\" cx=\"154.405\" cy=\"312.966\" r=\"3\" fill=\"#009af9\" fill-rule=\"evenodd\" fill-opacity=\"1\" stroke=\"#000000\" stroke-opacity=\"1\" stroke-width=\"1\"/>\n",
       "<circle clip-path=\"url(#clip382)\" cx=\"156.053\" cy=\"349.167\" r=\"3\" fill=\"#009af9\" fill-rule=\"evenodd\" fill-opacity=\"1\" stroke=\"#000000\" stroke-opacity=\"1\" stroke-width=\"1\"/>\n",
       "<circle clip-path=\"url(#clip382)\" cx=\"156.135\" cy=\"351.581\" r=\"3\" fill=\"#009af9\" fill-rule=\"evenodd\" fill-opacity=\"1\" stroke=\"#000000\" stroke-opacity=\"1\" stroke-width=\"1\"/>\n",
       "<circle clip-path=\"url(#clip382)\" cx=\"157.067\" cy=\"349.248\" r=\"3\" fill=\"#009af9\" fill-rule=\"evenodd\" fill-opacity=\"1\" stroke=\"#000000\" stroke-opacity=\"1\" stroke-width=\"1\"/>\n",
       "<circle clip-path=\"url(#clip382)\" cx=\"157.599\" cy=\"319.544\" r=\"3\" fill=\"#009af9\" fill-rule=\"evenodd\" fill-opacity=\"1\" stroke=\"#000000\" stroke-opacity=\"1\" stroke-width=\"1\"/>\n",
       "<circle clip-path=\"url(#clip382)\" cx=\"158.131\" cy=\"352.626\" r=\"3\" fill=\"#009af9\" fill-rule=\"evenodd\" fill-opacity=\"1\" stroke=\"#000000\" stroke-opacity=\"1\" stroke-width=\"1\"/>\n",
       "<circle clip-path=\"url(#clip382)\" cx=\"158.131\" cy=\"332.273\" r=\"3\" fill=\"#009af9\" fill-rule=\"evenodd\" fill-opacity=\"1\" stroke=\"#000000\" stroke-opacity=\"1\" stroke-width=\"1\"/>\n",
       "<circle clip-path=\"url(#clip382)\" cx=\"158.131\" cy=\"351.259\" r=\"3\" fill=\"#009af9\" fill-rule=\"evenodd\" fill-opacity=\"1\" stroke=\"#000000\" stroke-opacity=\"1\" stroke-width=\"1\"/>\n",
       "<circle clip-path=\"url(#clip382)\" cx=\"158.664\" cy=\"317.552\" r=\"3\" fill=\"#009af9\" fill-rule=\"evenodd\" fill-opacity=\"1\" stroke=\"#000000\" stroke-opacity=\"1\" stroke-width=\"1\"/>\n",
       "<circle clip-path=\"url(#clip382)\" cx=\"159.196\" cy=\"357.775\" r=\"3\" fill=\"#009af9\" fill-rule=\"evenodd\" fill-opacity=\"1\" stroke=\"#000000\" stroke-opacity=\"1\" stroke-width=\"1\"/>\n",
       "<circle clip-path=\"url(#clip382)\" cx=\"159.509\" cy=\"303.313\" r=\"3\" fill=\"#009af9\" fill-rule=\"evenodd\" fill-opacity=\"1\" stroke=\"#000000\" stroke-opacity=\"1\" stroke-width=\"1\"/>\n",
       "<circle clip-path=\"url(#clip382)\" cx=\"160.833\" cy=\"340.38\" r=\"3\" fill=\"#009af9\" fill-rule=\"evenodd\" fill-opacity=\"1\" stroke=\"#000000\" stroke-opacity=\"1\" stroke-width=\"1\"/>\n",
       "<circle clip-path=\"url(#clip382)\" cx=\"161.237\" cy=\"355.281\" r=\"3\" fill=\"#009af9\" fill-rule=\"evenodd\" fill-opacity=\"1\" stroke=\"#000000\" stroke-opacity=\"1\" stroke-width=\"1\"/>\n",
       "<circle clip-path=\"url(#clip382)\" cx=\"161.743\" cy=\"364.272\" r=\"3\" fill=\"#009af9\" fill-rule=\"evenodd\" fill-opacity=\"1\" stroke=\"#000000\" stroke-opacity=\"1\" stroke-width=\"1\"/>\n",
       "<circle clip-path=\"url(#clip382)\" cx=\"161.858\" cy=\"313.932\" r=\"3\" fill=\"#009af9\" fill-rule=\"evenodd\" fill-opacity=\"1\" stroke=\"#000000\" stroke-opacity=\"1\" stroke-width=\"1\"/>\n",
       "<circle clip-path=\"url(#clip382)\" cx=\"162.569\" cy=\"338.87\" r=\"3\" fill=\"#009af9\" fill-rule=\"evenodd\" fill-opacity=\"1\" stroke=\"#000000\" stroke-opacity=\"1\" stroke-width=\"1\"/>\n",
       "<circle clip-path=\"url(#clip382)\" cx=\"163.455\" cy=\"343.295\" r=\"3\" fill=\"#009af9\" fill-rule=\"evenodd\" fill-opacity=\"1\" stroke=\"#000000\" stroke-opacity=\"1\" stroke-width=\"1\"/>\n",
       "<circle clip-path=\"url(#clip382)\" cx=\"163.455\" cy=\"358.66\" r=\"3\" fill=\"#009af9\" fill-rule=\"evenodd\" fill-opacity=\"1\" stroke=\"#000000\" stroke-opacity=\"1\" stroke-width=\"1\"/>\n",
       "<circle clip-path=\"url(#clip382)\" cx=\"163.455\" cy=\"328.956\" r=\"3\" fill=\"#009af9\" fill-rule=\"evenodd\" fill-opacity=\"1\" stroke=\"#000000\" stroke-opacity=\"1\" stroke-width=\"1\"/>\n",
       "<circle clip-path=\"url(#clip382)\" cx=\"163.455\" cy=\"371.469\" r=\"3\" fill=\"#009af9\" fill-rule=\"evenodd\" fill-opacity=\"1\" stroke=\"#000000\" stroke-opacity=\"1\" stroke-width=\"1\"/>\n",
       "<circle clip-path=\"url(#clip382)\" cx=\"164.12\" cy=\"334.204\" r=\"3\" fill=\"#009af9\" fill-rule=\"evenodd\" fill-opacity=\"1\" stroke=\"#000000\" stroke-opacity=\"1\" stroke-width=\"1\"/>\n",
       "<circle clip-path=\"url(#clip382)\" cx=\"165.052\" cy=\"328.895\" r=\"3\" fill=\"#009af9\" fill-rule=\"evenodd\" fill-opacity=\"1\" stroke=\"#000000\" stroke-opacity=\"1\" stroke-width=\"1\"/>\n",
       "<circle clip-path=\"url(#clip382)\" cx=\"165.318\" cy=\"323.987\" r=\"3\" fill=\"#009af9\" fill-rule=\"evenodd\" fill-opacity=\"1\" stroke=\"#000000\" stroke-opacity=\"1\" stroke-width=\"1\"/>\n",
       "<circle clip-path=\"url(#clip382)\" cx=\"166.117\" cy=\"328.956\" r=\"3\" fill=\"#009af9\" fill-rule=\"evenodd\" fill-opacity=\"1\" stroke=\"#000000\" stroke-opacity=\"1\" stroke-width=\"1\"/>\n",
       "<circle clip-path=\"url(#clip382)\" cx=\"166.117\" cy=\"316.246\" r=\"3\" fill=\"#009af9\" fill-rule=\"evenodd\" fill-opacity=\"1\" stroke=\"#000000\" stroke-opacity=\"1\" stroke-width=\"1\"/>\n",
       "<circle clip-path=\"url(#clip382)\" cx=\"166.117\" cy=\"327.205\" r=\"3\" fill=\"#009af9\" fill-rule=\"evenodd\" fill-opacity=\"1\" stroke=\"#000000\" stroke-opacity=\"1\" stroke-width=\"1\"/>\n",
       "<circle clip-path=\"url(#clip382)\" cx=\"167.714\" cy=\"353.189\" r=\"3\" fill=\"#009af9\" fill-rule=\"evenodd\" fill-opacity=\"1\" stroke=\"#000000\" stroke-opacity=\"1\" stroke-width=\"1\"/>\n",
       "<circle clip-path=\"url(#clip382)\" cx=\"168.725\" cy=\"355.04\" r=\"3\" fill=\"#009af9\" fill-rule=\"evenodd\" fill-opacity=\"1\" stroke=\"#000000\" stroke-opacity=\"1\" stroke-width=\"1\"/>\n",
       "<circle clip-path=\"url(#clip382)\" cx=\"168.778\" cy=\"353.672\" r=\"3\" fill=\"#009af9\" fill-rule=\"evenodd\" fill-opacity=\"1\" stroke=\"#000000\" stroke-opacity=\"1\" stroke-width=\"1\"/>\n",
       "<circle clip-path=\"url(#clip382)\" cx=\"169.311\" cy=\"367.509\" r=\"3\" fill=\"#009af9\" fill-rule=\"evenodd\" fill-opacity=\"1\" stroke=\"#000000\" stroke-opacity=\"1\" stroke-width=\"1\"/>\n",
       "<circle clip-path=\"url(#clip382)\" cx=\"171.396\" cy=\"270.392\" r=\"3\" fill=\"#009af9\" fill-rule=\"evenodd\" fill-opacity=\"1\" stroke=\"#000000\" stroke-opacity=\"1\" stroke-width=\"1\"/>\n",
       "<circle clip-path=\"url(#clip382)\" cx=\"171.44\" cy=\"326.723\" r=\"3\" fill=\"#009af9\" fill-rule=\"evenodd\" fill-opacity=\"1\" stroke=\"#000000\" stroke-opacity=\"1\" stroke-width=\"1\"/>\n",
       "<circle clip-path=\"url(#clip382)\" cx=\"171.908\" cy=\"330.665\" r=\"3\" fill=\"#009af9\" fill-rule=\"evenodd\" fill-opacity=\"1\" stroke=\"#000000\" stroke-opacity=\"1\" stroke-width=\"1\"/>\n",
       "<circle clip-path=\"url(#clip382)\" cx=\"172.505\" cy=\"311.097\" r=\"3\" fill=\"#009af9\" fill-rule=\"evenodd\" fill-opacity=\"1\" stroke=\"#000000\" stroke-opacity=\"1\" stroke-width=\"1\"/>\n",
       "<circle clip-path=\"url(#clip382)\" cx=\"172.901\" cy=\"298.789\" r=\"3\" fill=\"#009af9\" fill-rule=\"evenodd\" fill-opacity=\"1\" stroke=\"#000000\" stroke-opacity=\"1\" stroke-width=\"1\"/>\n",
       "<circle clip-path=\"url(#clip382)\" cx=\"173.57\" cy=\"355.603\" r=\"3\" fill=\"#009af9\" fill-rule=\"evenodd\" fill-opacity=\"1\" stroke=\"#000000\" stroke-opacity=\"1\" stroke-width=\"1\"/>\n",
       "<circle clip-path=\"url(#clip382)\" cx=\"174.102\" cy=\"346.593\" r=\"3\" fill=\"#009af9\" fill-rule=\"evenodd\" fill-opacity=\"1\" stroke=\"#000000\" stroke-opacity=\"1\" stroke-width=\"1\"/>\n",
       "<circle clip-path=\"url(#clip382)\" cx=\"174.604\" cy=\"346.148\" r=\"3\" fill=\"#009af9\" fill-rule=\"evenodd\" fill-opacity=\"1\" stroke=\"#000000\" stroke-opacity=\"1\" stroke-width=\"1\"/>\n",
       "<circle clip-path=\"url(#clip382)\" cx=\"176.098\" cy=\"268.541\" r=\"3\" fill=\"#009af9\" fill-rule=\"evenodd\" fill-opacity=\"1\" stroke=\"#000000\" stroke-opacity=\"1\" stroke-width=\"1\"/>\n",
       "<circle clip-path=\"url(#clip382)\" cx=\"176.764\" cy=\"337.02\" r=\"3\" fill=\"#009af9\" fill-rule=\"evenodd\" fill-opacity=\"1\" stroke=\"#000000\" stroke-opacity=\"1\" stroke-width=\"1\"/>\n",
       "<circle clip-path=\"url(#clip382)\" cx=\"176.764\" cy=\"345.207\" r=\"3\" fill=\"#009af9\" fill-rule=\"evenodd\" fill-opacity=\"1\" stroke=\"#000000\" stroke-opacity=\"1\" stroke-width=\"1\"/>\n",
       "<circle clip-path=\"url(#clip382)\" cx=\"179.425\" cy=\"329.922\" r=\"3\" fill=\"#009af9\" fill-rule=\"evenodd\" fill-opacity=\"1\" stroke=\"#000000\" stroke-opacity=\"1\" stroke-width=\"1\"/>\n",
       "<circle clip-path=\"url(#clip382)\" cx=\"179.425\" cy=\"345.807\" r=\"3\" fill=\"#009af9\" fill-rule=\"evenodd\" fill-opacity=\"1\" stroke=\"#000000\" stroke-opacity=\"1\" stroke-width=\"1\"/>\n",
       "<circle clip-path=\"url(#clip382)\" cx=\"179.425\" cy=\"352.484\" r=\"3\" fill=\"#009af9\" fill-rule=\"evenodd\" fill-opacity=\"1\" stroke=\"#000000\" stroke-opacity=\"1\" stroke-width=\"1\"/>\n",
       "<circle clip-path=\"url(#clip382)\" cx=\"179.425\" cy=\"341.747\" r=\"3\" fill=\"#009af9\" fill-rule=\"evenodd\" fill-opacity=\"1\" stroke=\"#000000\" stroke-opacity=\"1\" stroke-width=\"1\"/>\n",
       "<circle clip-path=\"url(#clip382)\" cx=\"179.425\" cy=\"344.26\" r=\"3\" fill=\"#009af9\" fill-rule=\"evenodd\" fill-opacity=\"1\" stroke=\"#000000\" stroke-opacity=\"1\" stroke-width=\"1\"/>\n",
       "<circle clip-path=\"url(#clip382)\" cx=\"179.799\" cy=\"303.814\" r=\"3\" fill=\"#009af9\" fill-rule=\"evenodd\" fill-opacity=\"1\" stroke=\"#000000\" stroke-opacity=\"1\" stroke-width=\"1\"/>\n",
       "<circle clip-path=\"url(#clip382)\" cx=\"180.49\" cy=\"338.066\" r=\"3\" fill=\"#009af9\" fill-rule=\"evenodd\" fill-opacity=\"1\" stroke=\"#000000\" stroke-opacity=\"1\" stroke-width=\"1\"/>\n",
       "<circle clip-path=\"url(#clip382)\" cx=\"180.889\" cy=\"284.773\" r=\"3\" fill=\"#009af9\" fill-rule=\"evenodd\" fill-opacity=\"1\" stroke=\"#000000\" stroke-opacity=\"1\" stroke-width=\"1\"/>\n",
       "<circle clip-path=\"url(#clip382)\" cx=\"182.087\" cy=\"329.78\" r=\"3\" fill=\"#009af9\" fill-rule=\"evenodd\" fill-opacity=\"1\" stroke=\"#000000\" stroke-opacity=\"1\" stroke-width=\"1\"/>\n",
       "<circle clip-path=\"url(#clip382)\" cx=\"182.087\" cy=\"295.732\" r=\"3\" fill=\"#009af9\" fill-rule=\"evenodd\" fill-opacity=\"1\" stroke=\"#000000\" stroke-opacity=\"1\" stroke-width=\"1\"/>\n",
       "<circle clip-path=\"url(#clip382)\" cx=\"184.083\" cy=\"284.872\" r=\"3\" fill=\"#009af9\" fill-rule=\"evenodd\" fill-opacity=\"1\" stroke=\"#000000\" stroke-opacity=\"1\" stroke-width=\"1\"/>\n",
       "<circle clip-path=\"url(#clip382)\" cx=\"184.217\" cy=\"357.694\" r=\"3\" fill=\"#009af9\" fill-rule=\"evenodd\" fill-opacity=\"1\" stroke=\"#000000\" stroke-opacity=\"1\" stroke-width=\"1\"/>\n",
       "<circle clip-path=\"url(#clip382)\" cx=\"184.799\" cy=\"328.09\" r=\"3\" fill=\"#009af9\" fill-rule=\"evenodd\" fill-opacity=\"1\" stroke=\"#000000\" stroke-opacity=\"1\" stroke-width=\"1\"/>\n",
       "<circle clip-path=\"url(#clip382)\" cx=\"186.08\" cy=\"284.451\" r=\"3\" fill=\"#009af9\" fill-rule=\"evenodd\" fill-opacity=\"1\" stroke=\"#000000\" stroke-opacity=\"1\" stroke-width=\"1\"/>\n",
       "<circle clip-path=\"url(#clip382)\" cx=\"186.346\" cy=\"359.303\" r=\"3\" fill=\"#009af9\" fill-rule=\"evenodd\" fill-opacity=\"1\" stroke=\"#000000\" stroke-opacity=\"1\" stroke-width=\"1\"/>\n",
       "<circle clip-path=\"url(#clip382)\" cx=\"186.612\" cy=\"286.079\" r=\"3\" fill=\"#009af9\" fill-rule=\"evenodd\" fill-opacity=\"1\" stroke=\"#000000\" stroke-opacity=\"1\" stroke-width=\"1\"/>\n",
       "<circle clip-path=\"url(#clip382)\" cx=\"189.54\" cy=\"310.07\" r=\"3\" fill=\"#009af9\" fill-rule=\"evenodd\" fill-opacity=\"1\" stroke=\"#000000\" stroke-opacity=\"1\" stroke-width=\"1\"/>\n",
       "<circle clip-path=\"url(#clip382)\" cx=\"190.072\" cy=\"301.846\" r=\"3\" fill=\"#009af9\" fill-rule=\"evenodd\" fill-opacity=\"1\" stroke=\"#000000\" stroke-opacity=\"1\" stroke-width=\"1\"/>\n",
       "<circle clip-path=\"url(#clip382)\" cx=\"190.072\" cy=\"265.484\" r=\"3\" fill=\"#009af9\" fill-rule=\"evenodd\" fill-opacity=\"1\" stroke=\"#000000\" stroke-opacity=\"1\" stroke-width=\"1\"/>\n",
       "<circle clip-path=\"url(#clip382)\" cx=\"190.589\" cy=\"287.867\" r=\"3\" fill=\"#009af9\" fill-rule=\"evenodd\" fill-opacity=\"1\" stroke=\"#000000\" stroke-opacity=\"1\" stroke-width=\"1\"/>\n",
       "<circle clip-path=\"url(#clip382)\" cx=\"191.137\" cy=\"322.397\" r=\"3\" fill=\"#009af9\" fill-rule=\"evenodd\" fill-opacity=\"1\" stroke=\"#000000\" stroke-opacity=\"1\" stroke-width=\"1\"/>\n",
       "<circle clip-path=\"url(#clip382)\" cx=\"191.909\" cy=\"301.784\" r=\"3\" fill=\"#009af9\" fill-rule=\"evenodd\" fill-opacity=\"1\" stroke=\"#000000\" stroke-opacity=\"1\" stroke-width=\"1\"/>\n",
       "<circle clip-path=\"url(#clip382)\" cx=\"191.936\" cy=\"304.983\" r=\"3\" fill=\"#009af9\" fill-rule=\"evenodd\" fill-opacity=\"1\" stroke=\"#000000\" stroke-opacity=\"1\" stroke-width=\"1\"/>\n",
       "<circle clip-path=\"url(#clip382)\" cx=\"193.556\" cy=\"346.352\" r=\"3\" fill=\"#009af9\" fill-rule=\"evenodd\" fill-opacity=\"1\" stroke=\"#000000\" stroke-opacity=\"1\" stroke-width=\"1\"/>\n",
       "<circle clip-path=\"url(#clip382)\" cx=\"193.666\" cy=\"254.463\" r=\"3\" fill=\"#009af9\" fill-rule=\"evenodd\" fill-opacity=\"1\" stroke=\"#000000\" stroke-opacity=\"1\" stroke-width=\"1\"/>\n",
       "<circle clip-path=\"url(#clip382)\" cx=\"193.799\" cy=\"310.875\" r=\"3\" fill=\"#009af9\" fill-rule=\"evenodd\" fill-opacity=\"1\" stroke=\"#000000\" stroke-opacity=\"1\" stroke-width=\"1\"/>\n",
       "<circle clip-path=\"url(#clip382)\" cx=\"194.864\" cy=\"335.733\" r=\"3\" fill=\"#009af9\" fill-rule=\"evenodd\" fill-opacity=\"1\" stroke=\"#000000\" stroke-opacity=\"1\" stroke-width=\"1\"/>\n",
       "<circle clip-path=\"url(#clip382)\" cx=\"194.864\" cy=\"303.133\" r=\"3\" fill=\"#009af9\" fill-rule=\"evenodd\" fill-opacity=\"1\" stroke=\"#000000\" stroke-opacity=\"1\" stroke-width=\"1\"/>\n",
       "<circle clip-path=\"url(#clip382)\" cx=\"195.396\" cy=\"314.093\" r=\"3\" fill=\"#009af9\" fill-rule=\"evenodd\" fill-opacity=\"1\" stroke=\"#000000\" stroke-opacity=\"1\" stroke-width=\"1\"/>\n",
       "<circle clip-path=\"url(#clip382)\" cx=\"195.396\" cy=\"298.647\" r=\"3\" fill=\"#009af9\" fill-rule=\"evenodd\" fill-opacity=\"1\" stroke=\"#000000\" stroke-opacity=\"1\" stroke-width=\"1\"/>\n",
       "<circle clip-path=\"url(#clip382)\" cx=\"196.461\" cy=\"340.219\" r=\"3\" fill=\"#009af9\" fill-rule=\"evenodd\" fill-opacity=\"1\" stroke=\"#000000\" stroke-opacity=\"1\" stroke-width=\"1\"/>\n",
       "<circle clip-path=\"url(#clip382)\" cx=\"198.058\" cy=\"328.975\" r=\"3\" fill=\"#009af9\" fill-rule=\"evenodd\" fill-opacity=\"1\" stroke=\"#000000\" stroke-opacity=\"1\" stroke-width=\"1\"/>\n",
       "<circle clip-path=\"url(#clip382)\" cx=\"198.058\" cy=\"323.424\" r=\"3\" fill=\"#009af9\" fill-rule=\"evenodd\" fill-opacity=\"1\" stroke=\"#000000\" stroke-opacity=\"1\" stroke-width=\"1\"/>\n",
       "<circle clip-path=\"url(#clip382)\" cx=\"198.058\" cy=\"324.551\" r=\"3\" fill=\"#009af9\" fill-rule=\"evenodd\" fill-opacity=\"1\" stroke=\"#000000\" stroke-opacity=\"1\" stroke-width=\"1\"/>\n",
       "<circle clip-path=\"url(#clip382)\" cx=\"199.229\" cy=\"246.338\" r=\"3\" fill=\"#009af9\" fill-rule=\"evenodd\" fill-opacity=\"1\" stroke=\"#000000\" stroke-opacity=\"1\" stroke-width=\"1\"/>\n",
       "<circle clip-path=\"url(#clip382)\" cx=\"200.719\" cy=\"349.489\" r=\"3\" fill=\"#009af9\" fill-rule=\"evenodd\" fill-opacity=\"1\" stroke=\"#000000\" stroke-opacity=\"1\" stroke-width=\"1\"/>\n",
       "<circle clip-path=\"url(#clip382)\" cx=\"200.719\" cy=\"315.299\" r=\"3\" fill=\"#009af9\" fill-rule=\"evenodd\" fill-opacity=\"1\" stroke=\"#000000\" stroke-opacity=\"1\" stroke-width=\"1\"/>\n",
       "<circle clip-path=\"url(#clip382)\" cx=\"202.583\" cy=\"300.015\" r=\"3\" fill=\"#009af9\" fill-rule=\"evenodd\" fill-opacity=\"1\" stroke=\"#000000\" stroke-opacity=\"1\" stroke-width=\"1\"/>\n",
       "<circle clip-path=\"url(#clip382)\" cx=\"204.185\" cy=\"321.815\" r=\"3\" fill=\"#009af9\" fill-rule=\"evenodd\" fill-opacity=\"1\" stroke=\"#000000\" stroke-opacity=\"1\" stroke-width=\"1\"/>\n",
       "<circle clip-path=\"url(#clip382)\" cx=\"208.705\" cy=\"321.574\" r=\"3\" fill=\"#009af9\" fill-rule=\"evenodd\" fill-opacity=\"1\" stroke=\"#000000\" stroke-opacity=\"1\" stroke-width=\"1\"/>\n",
       "<circle clip-path=\"url(#clip382)\" cx=\"209.237\" cy=\"265.466\" r=\"3\" fill=\"#009af9\" fill-rule=\"evenodd\" fill-opacity=\"1\" stroke=\"#000000\" stroke-opacity=\"1\" stroke-width=\"1\"/>\n",
       "<circle clip-path=\"url(#clip382)\" cx=\"209.503\" cy=\"312.966\" r=\"3\" fill=\"#009af9\" fill-rule=\"evenodd\" fill-opacity=\"1\" stroke=\"#000000\" stroke-opacity=\"1\" stroke-width=\"1\"/>\n",
       "<circle clip-path=\"url(#clip382)\" cx=\"210.302\" cy=\"277.793\" r=\"3\" fill=\"#009af9\" fill-rule=\"evenodd\" fill-opacity=\"1\" stroke=\"#000000\" stroke-opacity=\"1\" stroke-width=\"1\"/>\n",
       "<circle clip-path=\"url(#clip382)\" cx=\"210.834\" cy=\"282.681\" r=\"3\" fill=\"#009af9\" fill-rule=\"evenodd\" fill-opacity=\"1\" stroke=\"#000000\" stroke-opacity=\"1\" stroke-width=\"1\"/>\n",
       "<circle clip-path=\"url(#clip382)\" cx=\"211.366\" cy=\"329.619\" r=\"3\" fill=\"#009af9\" fill-rule=\"evenodd\" fill-opacity=\"1\" stroke=\"#000000\" stroke-opacity=\"1\" stroke-width=\"1\"/>\n",
       "<circle clip-path=\"url(#clip382)\" cx=\"211.366\" cy=\"328.635\" r=\"3\" fill=\"#009af9\" fill-rule=\"evenodd\" fill-opacity=\"1\" stroke=\"#000000\" stroke-opacity=\"1\" stroke-width=\"1\"/>\n",
       "<circle clip-path=\"url(#clip382)\" cx=\"214.028\" cy=\"296.314\" r=\"3\" fill=\"#009af9\" fill-rule=\"evenodd\" fill-opacity=\"1\" stroke=\"#000000\" stroke-opacity=\"1\" stroke-width=\"1\"/>\n",
       "<circle clip-path=\"url(#clip382)\" cx=\"215.625\" cy=\"306.128\" r=\"3\" fill=\"#009af9\" fill-rule=\"evenodd\" fill-opacity=\"1\" stroke=\"#000000\" stroke-opacity=\"1\" stroke-width=\"1\"/>\n",
       "<circle clip-path=\"url(#clip382)\" cx=\"216.158\" cy=\"287.285\" r=\"3\" fill=\"#009af9\" fill-rule=\"evenodd\" fill-opacity=\"1\" stroke=\"#000000\" stroke-opacity=\"1\" stroke-width=\"1\"/>\n",
       "<circle clip-path=\"url(#clip382)\" cx=\"216.69\" cy=\"307.335\" r=\"3\" fill=\"#009af9\" fill-rule=\"evenodd\" fill-opacity=\"1\" stroke=\"#000000\" stroke-opacity=\"1\" stroke-width=\"1\"/>\n",
       "<circle clip-path=\"url(#clip382)\" cx=\"216.69\" cy=\"282.137\" r=\"3\" fill=\"#009af9\" fill-rule=\"evenodd\" fill-opacity=\"1\" stroke=\"#000000\" stroke-opacity=\"1\" stroke-width=\"1\"/>\n",
       "<circle clip-path=\"url(#clip382)\" cx=\"218.817\" cy=\"344.724\" r=\"3\" fill=\"#009af9\" fill-rule=\"evenodd\" fill-opacity=\"1\" stroke=\"#000000\" stroke-opacity=\"1\" stroke-width=\"1\"/>\n",
       "<circle clip-path=\"url(#clip382)\" cx=\"218.911\" cy=\"317.453\" r=\"3\" fill=\"#009af9\" fill-rule=\"evenodd\" fill-opacity=\"1\" stroke=\"#000000\" stroke-opacity=\"1\" stroke-width=\"1\"/>\n",
       "<circle clip-path=\"url(#clip382)\" cx=\"219.352\" cy=\"349.068\" r=\"3\" fill=\"#009af9\" fill-rule=\"evenodd\" fill-opacity=\"1\" stroke=\"#000000\" stroke-opacity=\"1\" stroke-width=\"1\"/>\n",
       "<circle clip-path=\"url(#clip382)\" cx=\"220.949\" cy=\"296.456\" r=\"3\" fill=\"#009af9\" fill-rule=\"evenodd\" fill-opacity=\"1\" stroke=\"#000000\" stroke-opacity=\"1\" stroke-width=\"1\"/>\n",
       "<circle clip-path=\"url(#clip382)\" cx=\"221.481\" cy=\"343.474\" r=\"3\" fill=\"#009af9\" fill-rule=\"evenodd\" fill-opacity=\"1\" stroke=\"#000000\" stroke-opacity=\"1\" stroke-width=\"1\"/>\n",
       "<circle clip-path=\"url(#clip382)\" cx=\"222.013\" cy=\"304.941\" r=\"3\" fill=\"#009af9\" fill-rule=\"evenodd\" fill-opacity=\"1\" stroke=\"#000000\" stroke-opacity=\"1\" stroke-width=\"1\"/>\n",
       "<circle clip-path=\"url(#clip382)\" cx=\"222.013\" cy=\"328.492\" r=\"3\" fill=\"#009af9\" fill-rule=\"evenodd\" fill-opacity=\"1\" stroke=\"#000000\" stroke-opacity=\"1\" stroke-width=\"1\"/>\n",
       "<circle clip-path=\"url(#clip382)\" cx=\"222.013\" cy=\"270.756\" r=\"3\" fill=\"#009af9\" fill-rule=\"evenodd\" fill-opacity=\"1\" stroke=\"#000000\" stroke-opacity=\"1\" stroke-width=\"1\"/>\n",
       "<circle clip-path=\"url(#clip382)\" cx=\"222.315\" cy=\"318.839\" r=\"3\" fill=\"#009af9\" fill-rule=\"evenodd\" fill-opacity=\"1\" stroke=\"#000000\" stroke-opacity=\"1\" stroke-width=\"1\"/>\n",
       "<circle clip-path=\"url(#clip382)\" cx=\"223.611\" cy=\"257.582\" r=\"3\" fill=\"#009af9\" fill-rule=\"evenodd\" fill-opacity=\"1\" stroke=\"#000000\" stroke-opacity=\"1\" stroke-width=\"1\"/>\n",
       "<circle clip-path=\"url(#clip382)\" cx=\"224.675\" cy=\"332.997\" r=\"3\" fill=\"#009af9\" fill-rule=\"evenodd\" fill-opacity=\"1\" stroke=\"#000000\" stroke-opacity=\"1\" stroke-width=\"1\"/>\n",
       "<circle clip-path=\"url(#clip382)\" cx=\"227.337\" cy=\"324.872\" r=\"3\" fill=\"#009af9\" fill-rule=\"evenodd\" fill-opacity=\"1\" stroke=\"#000000\" stroke-opacity=\"1\" stroke-width=\"1\"/>\n",
       "<circle clip-path=\"url(#clip382)\" cx=\"227.337\" cy=\"338.95\" r=\"3\" fill=\"#009af9\" fill-rule=\"evenodd\" fill-opacity=\"1\" stroke=\"#000000\" stroke-opacity=\"1\" stroke-width=\"1\"/>\n",
       "<circle clip-path=\"url(#clip382)\" cx=\"227.337\" cy=\"311.097\" r=\"3\" fill=\"#009af9\" fill-rule=\"evenodd\" fill-opacity=\"1\" stroke=\"#000000\" stroke-opacity=\"1\" stroke-width=\"1\"/>\n",
       "<circle clip-path=\"url(#clip382)\" cx=\"228.145\" cy=\"281.413\" r=\"3\" fill=\"#009af9\" fill-rule=\"evenodd\" fill-opacity=\"1\" stroke=\"#000000\" stroke-opacity=\"1\" stroke-width=\"1\"/>\n",
       "<circle clip-path=\"url(#clip382)\" cx=\"228.402\" cy=\"268.442\" r=\"3\" fill=\"#009af9\" fill-rule=\"evenodd\" fill-opacity=\"1\" stroke=\"#000000\" stroke-opacity=\"1\" stroke-width=\"1\"/>\n",
       "<circle clip-path=\"url(#clip382)\" cx=\"229.999\" cy=\"294.686\" r=\"3\" fill=\"#009af9\" fill-rule=\"evenodd\" fill-opacity=\"1\" stroke=\"#000000\" stroke-opacity=\"1\" stroke-width=\"1\"/>\n",
       "<circle clip-path=\"url(#clip382)\" cx=\"229.999\" cy=\"277.954\" r=\"3\" fill=\"#009af9\" fill-rule=\"evenodd\" fill-opacity=\"1\" stroke=\"#000000\" stroke-opacity=\"1\" stroke-width=\"1\"/>\n",
       "<circle clip-path=\"url(#clip382)\" cx=\"229.999\" cy=\"213.98\" r=\"3\" fill=\"#009af9\" fill-rule=\"evenodd\" fill-opacity=\"1\" stroke=\"#000000\" stroke-opacity=\"1\" stroke-width=\"1\"/>\n",
       "<circle clip-path=\"url(#clip382)\" cx=\"229.999\" cy=\"336.296\" r=\"3\" fill=\"#009af9\" fill-rule=\"evenodd\" fill-opacity=\"1\" stroke=\"#000000\" stroke-opacity=\"1\" stroke-width=\"1\"/>\n",
       "<circle clip-path=\"url(#clip382)\" cx=\"232.66\" cy=\"343.053\" r=\"3\" fill=\"#009af9\" fill-rule=\"evenodd\" fill-opacity=\"1\" stroke=\"#000000\" stroke-opacity=\"1\" stroke-width=\"1\"/>\n",
       "<circle clip-path=\"url(#clip382)\" cx=\"233.725\" cy=\"217.619\" r=\"3\" fill=\"#009af9\" fill-rule=\"evenodd\" fill-opacity=\"1\" stroke=\"#000000\" stroke-opacity=\"1\" stroke-width=\"1\"/>\n",
       "<circle clip-path=\"url(#clip382)\" cx=\"235.322\" cy=\"304.018\" r=\"3\" fill=\"#009af9\" fill-rule=\"evenodd\" fill-opacity=\"1\" stroke=\"#000000\" stroke-opacity=\"1\" stroke-width=\"1\"/>\n",
       "<circle clip-path=\"url(#clip382)\" cx=\"237.116\" cy=\"321.172\" r=\"3\" fill=\"#009af9\" fill-rule=\"evenodd\" fill-opacity=\"1\" stroke=\"#000000\" stroke-opacity=\"1\" stroke-width=\"1\"/>\n",
       "<circle clip-path=\"url(#clip382)\" cx=\"237.984\" cy=\"286.239\" r=\"3\" fill=\"#009af9\" fill-rule=\"evenodd\" fill-opacity=\"1\" stroke=\"#000000\" stroke-opacity=\"1\" stroke-width=\"1\"/>\n",
       "<circle clip-path=\"url(#clip382)\" cx=\"238.623\" cy=\"256.072\" r=\"3\" fill=\"#009af9\" fill-rule=\"evenodd\" fill-opacity=\"1\" stroke=\"#000000\" stroke-opacity=\"1\" stroke-width=\"1\"/>\n",
       "<circle clip-path=\"url(#clip382)\" cx=\"239.049\" cy=\"274.253\" r=\"3\" fill=\"#009af9\" fill-rule=\"evenodd\" fill-opacity=\"1\" stroke=\"#000000\" stroke-opacity=\"1\" stroke-width=\"1\"/>\n",
       "<circle clip-path=\"url(#clip382)\" cx=\"240.113\" cy=\"267.756\" r=\"3\" fill=\"#009af9\" fill-rule=\"evenodd\" fill-opacity=\"1\" stroke=\"#000000\" stroke-opacity=\"1\" stroke-width=\"1\"/>\n",
       "<circle clip-path=\"url(#clip382)\" cx=\"240.646\" cy=\"315.702\" r=\"3\" fill=\"#009af9\" fill-rule=\"evenodd\" fill-opacity=\"1\" stroke=\"#000000\" stroke-opacity=\"1\" stroke-width=\"1\"/>\n",
       "<circle clip-path=\"url(#clip382)\" cx=\"243.84\" cy=\"265.082\" r=\"3\" fill=\"#009af9\" fill-rule=\"evenodd\" fill-opacity=\"1\" stroke=\"#000000\" stroke-opacity=\"1\" stroke-width=\"1\"/>\n",
       "<circle clip-path=\"url(#clip382)\" cx=\"246.701\" cy=\"256.456\" r=\"3\" fill=\"#009af9\" fill-rule=\"evenodd\" fill-opacity=\"1\" stroke=\"#000000\" stroke-opacity=\"1\" stroke-width=\"1\"/>\n",
       "<circle clip-path=\"url(#clip382)\" cx=\"248.099\" cy=\"234.655\" r=\"3\" fill=\"#009af9\" fill-rule=\"evenodd\" fill-opacity=\"1\" stroke=\"#000000\" stroke-opacity=\"1\" stroke-width=\"1\"/>\n",
       "<circle clip-path=\"url(#clip382)\" cx=\"248.631\" cy=\"207.582\" r=\"3\" fill=\"#009af9\" fill-rule=\"evenodd\" fill-opacity=\"1\" stroke=\"#000000\" stroke-opacity=\"1\" stroke-width=\"1\"/>\n",
       "<circle clip-path=\"url(#clip382)\" cx=\"248.631\" cy=\"270.973\" r=\"3\" fill=\"#009af9\" fill-rule=\"evenodd\" fill-opacity=\"1\" stroke=\"#000000\" stroke-opacity=\"1\" stroke-width=\"1\"/>\n",
       "<circle clip-path=\"url(#clip382)\" cx=\"248.631\" cy=\"276.766\" r=\"3\" fill=\"#009af9\" fill-rule=\"evenodd\" fill-opacity=\"1\" stroke=\"#000000\" stroke-opacity=\"1\" stroke-width=\"1\"/>\n",
       "<circle clip-path=\"url(#clip382)\" cx=\"249.163\" cy=\"301.302\" r=\"3\" fill=\"#009af9\" fill-rule=\"evenodd\" fill-opacity=\"1\" stroke=\"#000000\" stroke-opacity=\"1\" stroke-width=\"1\"/>\n",
       "<circle clip-path=\"url(#clip382)\" cx=\"253.955\" cy=\"271.277\" r=\"3\" fill=\"#009af9\" fill-rule=\"evenodd\" fill-opacity=\"1\" stroke=\"#000000\" stroke-opacity=\"1\" stroke-width=\"1\"/>\n",
       "<circle clip-path=\"url(#clip382)\" cx=\"257.927\" cy=\"248.591\" r=\"3\" fill=\"#009af9\" fill-rule=\"evenodd\" fill-opacity=\"1\" stroke=\"#000000\" stroke-opacity=\"1\" stroke-width=\"1\"/>\n",
       "<circle clip-path=\"url(#clip382)\" cx=\"264.602\" cy=\"306.772\" r=\"3\" fill=\"#009af9\" fill-rule=\"evenodd\" fill-opacity=\"1\" stroke=\"#000000\" stroke-opacity=\"1\" stroke-width=\"1\"/>\n",
       "<circle clip-path=\"url(#clip382)\" cx=\"264.909\" cy=\"326.24\" r=\"3\" fill=\"#009af9\" fill-rule=\"evenodd\" fill-opacity=\"1\" stroke=\"#000000\" stroke-opacity=\"1\" stroke-width=\"1\"/>\n",
       "<circle clip-path=\"url(#clip382)\" cx=\"267.914\" cy=\"312.564\" r=\"3\" fill=\"#009af9\" fill-rule=\"evenodd\" fill-opacity=\"1\" stroke=\"#000000\" stroke-opacity=\"1\" stroke-width=\"1\"/>\n",
       "<circle clip-path=\"url(#clip382)\" cx=\"272.853\" cy=\"280.868\" r=\"3\" fill=\"#009af9\" fill-rule=\"evenodd\" fill-opacity=\"1\" stroke=\"#000000\" stroke-opacity=\"1\" stroke-width=\"1\"/>\n",
       "<circle clip-path=\"url(#clip382)\" cx=\"273.652\" cy=\"234.816\" r=\"3\" fill=\"#009af9\" fill-rule=\"evenodd\" fill-opacity=\"1\" stroke=\"#000000\" stroke-opacity=\"1\" stroke-width=\"1\"/>\n",
       "<circle clip-path=\"url(#clip382)\" cx=\"275.249\" cy=\"278.999\" r=\"3\" fill=\"#009af9\" fill-rule=\"evenodd\" fill-opacity=\"1\" stroke=\"#000000\" stroke-opacity=\"1\" stroke-width=\"1\"/>\n",
       "<circle clip-path=\"url(#clip382)\" cx=\"282.435\" cy=\"330.603\" r=\"3\" fill=\"#009af9\" fill-rule=\"evenodd\" fill-opacity=\"1\" stroke=\"#000000\" stroke-opacity=\"1\" stroke-width=\"1\"/>\n",
       "<circle clip-path=\"url(#clip382)\" cx=\"283.234\" cy=\"257.941\" r=\"3\" fill=\"#009af9\" fill-rule=\"evenodd\" fill-opacity=\"1\" stroke=\"#000000\" stroke-opacity=\"1\" stroke-width=\"1\"/>\n",
       "<circle clip-path=\"url(#clip382)\" cx=\"286.137\" cy=\"272.644\" r=\"3\" fill=\"#009af9\" fill-rule=\"evenodd\" fill-opacity=\"1\" stroke=\"#000000\" stroke-opacity=\"1\" stroke-width=\"1\"/>\n",
       "<circle clip-path=\"url(#clip382)\" cx=\"288.557\" cy=\"325.596\" r=\"3\" fill=\"#009af9\" fill-rule=\"evenodd\" fill-opacity=\"1\" stroke=\"#000000\" stroke-opacity=\"1\" stroke-width=\"1\"/>\n",
       "<circle clip-path=\"url(#clip382)\" cx=\"297.075\" cy=\"241.895\" r=\"3\" fill=\"#009af9\" fill-rule=\"evenodd\" fill-opacity=\"1\" stroke=\"#000000\" stroke-opacity=\"1\" stroke-width=\"1\"/>\n",
       "<circle clip-path=\"url(#clip382)\" cx=\"299.204\" cy=\"238.918\" r=\"3\" fill=\"#009af9\" fill-rule=\"evenodd\" fill-opacity=\"1\" stroke=\"#000000\" stroke-opacity=\"1\" stroke-width=\"1\"/>\n",
       "<circle clip-path=\"url(#clip382)\" cx=\"299.737\" cy=\"193.566\" r=\"3\" fill=\"#009af9\" fill-rule=\"evenodd\" fill-opacity=\"1\" stroke=\"#000000\" stroke-opacity=\"1\" stroke-width=\"1\"/>\n",
       "<circle clip-path=\"url(#clip382)\" cx=\"301.866\" cy=\"290.744\" r=\"3\" fill=\"#009af9\" fill-rule=\"evenodd\" fill-opacity=\"1\" stroke=\"#000000\" stroke-opacity=\"1\" stroke-width=\"1\"/>\n",
       "<circle clip-path=\"url(#clip382)\" cx=\"304.528\" cy=\"264.519\" r=\"3\" fill=\"#009af9\" fill-rule=\"evenodd\" fill-opacity=\"1\" stroke=\"#000000\" stroke-opacity=\"1\" stroke-width=\"1\"/>\n",
       "<circle clip-path=\"url(#clip382)\" cx=\"341.792\" cy=\"190.447\" r=\"3\" fill=\"#009af9\" fill-rule=\"evenodd\" fill-opacity=\"1\" stroke=\"#000000\" stroke-opacity=\"1\" stroke-width=\"1\"/>\n",
       "<circle clip-path=\"url(#clip382)\" cx=\"352.439\" cy=\"337.261\" r=\"3\" fill=\"#009af9\" fill-rule=\"evenodd\" fill-opacity=\"1\" stroke=\"#000000\" stroke-opacity=\"1\" stroke-width=\"1\"/>\n",
       "<circle clip-path=\"url(#clip382)\" cx=\"368.41\" cy=\"334.786\" r=\"3\" fill=\"#009af9\" fill-rule=\"evenodd\" fill-opacity=\"1\" stroke=\"#000000\" stroke-opacity=\"1\" stroke-width=\"1\"/>\n",
       "<circle clip-path=\"url(#clip382)\" cx=\"368.41\" cy=\"196.14\" r=\"3\" fill=\"#009af9\" fill-rule=\"evenodd\" fill-opacity=\"1\" stroke=\"#000000\" stroke-opacity=\"1\" stroke-width=\"1\"/>\n",
       "<circle clip-path=\"url(#clip382)\" cx=\"381.024\" cy=\"155.335\" r=\"3\" fill=\"#009af9\" fill-rule=\"evenodd\" fill-opacity=\"1\" stroke=\"#000000\" stroke-opacity=\"1\" stroke-width=\"1\"/>\n",
       "<circle clip-path=\"url(#clip382)\" cx=\"381.719\" cy=\"266.369\" r=\"3\" fill=\"#009af9\" fill-rule=\"evenodd\" fill-opacity=\"1\" stroke=\"#000000\" stroke-opacity=\"1\" stroke-width=\"1\"/>\n",
       "<circle clip-path=\"url(#clip382)\" cx=\"387.042\" cy=\"178.182\" r=\"3\" fill=\"#009af9\" fill-rule=\"evenodd\" fill-opacity=\"1\" stroke=\"#000000\" stroke-opacity=\"1\" stroke-width=\"1\"/>\n",
       "<circle clip-path=\"url(#clip382)\" cx=\"92.6256\" cy=\"334.266\" r=\"3\" fill=\"#009af9\" fill-rule=\"evenodd\" fill-opacity=\"1\" stroke=\"#000000\" stroke-opacity=\"1\" stroke-width=\"1\"/>\n",
       "<circle clip-path=\"url(#clip382)\" cx=\"94.2492\" cy=\"376.154\" r=\"3\" fill=\"#009af9\" fill-rule=\"evenodd\" fill-opacity=\"1\" stroke=\"#000000\" stroke-opacity=\"1\" stroke-width=\"1\"/>\n",
       "<circle clip-path=\"url(#clip382)\" cx=\"94.7816\" cy=\"365.034\" r=\"3\" fill=\"#009af9\" fill-rule=\"evenodd\" fill-opacity=\"1\" stroke=\"#000000\" stroke-opacity=\"1\" stroke-width=\"1\"/>\n",
       "<circle clip-path=\"url(#clip382)\" cx=\"95.3139\" cy=\"360.448\" r=\"3\" fill=\"#009af9\" fill-rule=\"evenodd\" fill-opacity=\"1\" stroke=\"#000000\" stroke-opacity=\"1\" stroke-width=\"1\"/>\n",
       "<circle clip-path=\"url(#clip382)\" cx=\"98.8094\" cy=\"365.999\" r=\"3\" fill=\"#009af9\" fill-rule=\"evenodd\" fill-opacity=\"1\" stroke=\"#000000\" stroke-opacity=\"1\" stroke-width=\"1\"/>\n",
       "<circle clip-path=\"url(#clip382)\" cx=\"99.5727\" cy=\"354.174\" r=\"3\" fill=\"#009af9\" fill-rule=\"evenodd\" fill-opacity=\"1\" stroke=\"#000000\" stroke-opacity=\"1\" stroke-width=\"1\"/>\n",
       "<circle clip-path=\"url(#clip382)\" cx=\"104.896\" cy=\"362.744\" r=\"3\" fill=\"#009af9\" fill-rule=\"evenodd\" fill-opacity=\"1\" stroke=\"#000000\" stroke-opacity=\"1\" stroke-width=\"1\"/>\n",
       "<circle clip-path=\"url(#clip382)\" cx=\"107.824\" cy=\"357.855\" r=\"3\" fill=\"#009af9\" fill-rule=\"evenodd\" fill-opacity=\"1\" stroke=\"#000000\" stroke-opacity=\"1\" stroke-width=\"1\"/>\n",
       "<circle clip-path=\"url(#clip382)\" cx=\"111.284\" cy=\"358.598\" r=\"3\" fill=\"#009af9\" fill-rule=\"evenodd\" fill-opacity=\"1\" stroke=\"#000000\" stroke-opacity=\"1\" stroke-width=\"1\"/>\n",
       "<circle clip-path=\"url(#clip382)\" cx=\"112.136\" cy=\"343.876\" r=\"3\" fill=\"#009af9\" fill-rule=\"evenodd\" fill-opacity=\"1\" stroke=\"#000000\" stroke-opacity=\"1\" stroke-width=\"1\"/>\n",
       "<circle clip-path=\"url(#clip382)\" cx=\"112.882\" cy=\"360.59\" r=\"3\" fill=\"#009af9\" fill-rule=\"evenodd\" fill-opacity=\"1\" stroke=\"#000000\" stroke-opacity=\"1\" stroke-width=\"1\"/>\n",
       "<circle clip-path=\"url(#clip382)\" cx=\"114.345\" cy=\"362.039\" r=\"3\" fill=\"#009af9\" fill-rule=\"evenodd\" fill-opacity=\"1\" stroke=\"#000000\" stroke-opacity=\"1\" stroke-width=\"1\"/>\n",
       "<circle clip-path=\"url(#clip382)\" cx=\"117.673\" cy=\"336.778\" r=\"3\" fill=\"#009af9\" fill-rule=\"evenodd\" fill-opacity=\"1\" stroke=\"#000000\" stroke-opacity=\"1\" stroke-width=\"1\"/>\n",
       "<circle clip-path=\"url(#clip382)\" cx=\"118.205\" cy=\"361.154\" r=\"3\" fill=\"#009af9\" fill-rule=\"evenodd\" fill-opacity=\"1\" stroke=\"#000000\" stroke-opacity=\"1\" stroke-width=\"1\"/>\n",
       "<circle clip-path=\"url(#clip382)\" cx=\"119.624\" cy=\"370.442\" r=\"3\" fill=\"#009af9\" fill-rule=\"evenodd\" fill-opacity=\"1\" stroke=\"#000000\" stroke-opacity=\"1\" stroke-width=\"1\"/>\n",
       "<circle clip-path=\"url(#clip382)\" cx=\"120.334\" cy=\"352.305\" r=\"3\" fill=\"#009af9\" fill-rule=\"evenodd\" fill-opacity=\"1\" stroke=\"#000000\" stroke-opacity=\"1\" stroke-width=\"1\"/>\n",
       "<circle clip-path=\"url(#clip382)\" cx=\"120.867\" cy=\"364.935\" r=\"3\" fill=\"#009af9\" fill-rule=\"evenodd\" fill-opacity=\"1\" stroke=\"#000000\" stroke-opacity=\"1\" stroke-width=\"1\"/>\n",
       "<circle clip-path=\"url(#clip382)\" cx=\"120.867\" cy=\"346.834\" r=\"3\" fill=\"#009af9\" fill-rule=\"evenodd\" fill-opacity=\"1\" stroke=\"#000000\" stroke-opacity=\"1\" stroke-width=\"1\"/>\n",
       "<circle clip-path=\"url(#clip382)\" cx=\"122.198\" cy=\"345.225\" r=\"3\" fill=\"#009af9\" fill-rule=\"evenodd\" fill-opacity=\"1\" stroke=\"#000000\" stroke-opacity=\"1\" stroke-width=\"1\"/>\n",
       "<circle clip-path=\"url(#clip382)\" cx=\"123.422\" cy=\"352.305\" r=\"3\" fill=\"#009af9\" fill-rule=\"evenodd\" fill-opacity=\"1\" stroke=\"#000000\" stroke-opacity=\"1\" stroke-width=\"1\"/>\n",
       "<circle clip-path=\"url(#clip382)\" cx=\"124.061\" cy=\"364.452\" r=\"3\" fill=\"#009af9\" fill-rule=\"evenodd\" fill-opacity=\"1\" stroke=\"#000000\" stroke-opacity=\"1\" stroke-width=\"1\"/>\n",
       "<circle clip-path=\"url(#clip382)\" cx=\"126.989\" cy=\"338.288\" r=\"3\" fill=\"#009af9\" fill-rule=\"evenodd\" fill-opacity=\"1\" stroke=\"#000000\" stroke-opacity=\"1\" stroke-width=\"1\"/>\n",
       "<circle clip-path=\"url(#clip382)\" cx=\"127.255\" cy=\"343.616\" r=\"3\" fill=\"#009af9\" fill-rule=\"evenodd\" fill-opacity=\"1\" stroke=\"#000000\" stroke-opacity=\"1\" stroke-width=\"1\"/>\n",
       "<circle clip-path=\"url(#clip382)\" cx=\"128.147\" cy=\"339.935\" r=\"3\" fill=\"#009af9\" fill-rule=\"evenodd\" fill-opacity=\"1\" stroke=\"#000000\" stroke-opacity=\"1\" stroke-width=\"1\"/>\n",
       "<circle clip-path=\"url(#clip382)\" cx=\"129.839\" cy=\"329.6\" r=\"3\" fill=\"#009af9\" fill-rule=\"evenodd\" fill-opacity=\"1\" stroke=\"#000000\" stroke-opacity=\"1\" stroke-width=\"1\"/>\n",
       "<circle clip-path=\"url(#clip382)\" cx=\"129.948\" cy=\"357.775\" r=\"3\" fill=\"#009af9\" fill-rule=\"evenodd\" fill-opacity=\"1\" stroke=\"#000000\" stroke-opacity=\"1\" stroke-width=\"1\"/>\n",
       "<circle clip-path=\"url(#clip382)\" cx=\"130.815\" cy=\"368.313\" r=\"3\" fill=\"#009af9\" fill-rule=\"evenodd\" fill-opacity=\"1\" stroke=\"#000000\" stroke-opacity=\"1\" stroke-width=\"1\"/>\n",
       "<circle clip-path=\"url(#clip382)\" cx=\"131.248\" cy=\"358.097\" r=\"3\" fill=\"#009af9\" fill-rule=\"evenodd\" fill-opacity=\"1\" stroke=\"#000000\" stroke-opacity=\"1\" stroke-width=\"1\"/>\n",
       "<circle clip-path=\"url(#clip382)\" cx=\"131.514\" cy=\"355.04\" r=\"3\" fill=\"#009af9\" fill-rule=\"evenodd\" fill-opacity=\"1\" stroke=\"#000000\" stroke-opacity=\"1\" stroke-width=\"1\"/>\n",
       "<circle clip-path=\"url(#clip382)\" cx=\"132.445\" cy=\"350.596\" r=\"3\" fill=\"#009af9\" fill-rule=\"evenodd\" fill-opacity=\"1\" stroke=\"#000000\" stroke-opacity=\"1\" stroke-width=\"1\"/>\n",
       "<circle clip-path=\"url(#clip382)\" cx=\"132.579\" cy=\"357.472\" r=\"3\" fill=\"#009af9\" fill-rule=\"evenodd\" fill-opacity=\"1\" stroke=\"#000000\" stroke-opacity=\"1\" stroke-width=\"1\"/>\n",
       "<circle clip-path=\"url(#clip382)\" cx=\"133.643\" cy=\"353.672\" r=\"3\" fill=\"#009af9\" fill-rule=\"evenodd\" fill-opacity=\"1\" stroke=\"#000000\" stroke-opacity=\"1\" stroke-width=\"1\"/>\n",
       "<circle clip-path=\"url(#clip382)\" cx=\"133.643\" cy=\"365.256\" r=\"3\" fill=\"#009af9\" fill-rule=\"evenodd\" fill-opacity=\"1\" stroke=\"#000000\" stroke-opacity=\"1\" stroke-width=\"1\"/>\n",
       "<circle clip-path=\"url(#clip382)\" cx=\"137.902\" cy=\"348.684\" r=\"3\" fill=\"#009af9\" fill-rule=\"evenodd\" fill-opacity=\"1\" stroke=\"#000000\" stroke-opacity=\"1\" stroke-width=\"1\"/>\n",
       "<circle clip-path=\"url(#clip382)\" cx=\"138.441\" cy=\"342.329\" r=\"3\" fill=\"#009af9\" fill-rule=\"evenodd\" fill-opacity=\"1\" stroke=\"#000000\" stroke-opacity=\"1\" stroke-width=\"1\"/>\n",
       "<circle clip-path=\"url(#clip382)\" cx=\"139.949\" cy=\"321.574\" r=\"3\" fill=\"#009af9\" fill-rule=\"evenodd\" fill-opacity=\"1\" stroke=\"#000000\" stroke-opacity=\"1\" stroke-width=\"1\"/>\n",
       "<circle clip-path=\"url(#clip382)\" cx=\"140.564\" cy=\"364.39\" r=\"3\" fill=\"#009af9\" fill-rule=\"evenodd\" fill-opacity=\"1\" stroke=\"#000000\" stroke-opacity=\"1\" stroke-width=\"1\"/>\n",
       "<circle clip-path=\"url(#clip382)\" cx=\"141.495\" cy=\"363.728\" r=\"3\" fill=\"#009af9\" fill-rule=\"evenodd\" fill-opacity=\"1\" stroke=\"#000000\" stroke-opacity=\"1\" stroke-width=\"1\"/>\n",
       "<circle clip-path=\"url(#clip382)\" cx=\"142.161\" cy=\"343.919\" r=\"3\" fill=\"#009af9\" fill-rule=\"evenodd\" fill-opacity=\"1\" stroke=\"#000000\" stroke-opacity=\"1\" stroke-width=\"1\"/>\n",
       "<circle clip-path=\"url(#clip382)\" cx=\"142.403\" cy=\"361.172\" r=\"3\" fill=\"#009af9\" fill-rule=\"evenodd\" fill-opacity=\"1\" stroke=\"#000000\" stroke-opacity=\"1\" stroke-width=\"1\"/>\n",
       "<circle clip-path=\"url(#clip382)\" cx=\"142.739\" cy=\"347.8\" r=\"3\" fill=\"#009af9\" fill-rule=\"evenodd\" fill-opacity=\"1\" stroke=\"#000000\" stroke-opacity=\"1\" stroke-width=\"1\"/>\n",
       "<circle clip-path=\"url(#clip382)\" cx=\"146.045\" cy=\"311.357\" r=\"3\" fill=\"#009af9\" fill-rule=\"evenodd\" fill-opacity=\"1\" stroke=\"#000000\" stroke-opacity=\"1\" stroke-width=\"1\"/>\n",
       "<circle clip-path=\"url(#clip382)\" cx=\"146.153\" cy=\"340.962\" r=\"3\" fill=\"#009af9\" fill-rule=\"evenodd\" fill-opacity=\"1\" stroke=\"#000000\" stroke-opacity=\"1\" stroke-width=\"1\"/>\n",
       "<circle clip-path=\"url(#clip382)\" cx=\"147.484\" cy=\"325.999\" r=\"3\" fill=\"#009af9\" fill-rule=\"evenodd\" fill-opacity=\"1\" stroke=\"#000000\" stroke-opacity=\"1\" stroke-width=\"1\"/>\n",
       "<circle clip-path=\"url(#clip382)\" cx=\"147.484\" cy=\"335.25\" r=\"3\" fill=\"#009af9\" fill-rule=\"evenodd\" fill-opacity=\"1\" stroke=\"#000000\" stroke-opacity=\"1\" stroke-width=\"1\"/>\n",
       "<circle clip-path=\"url(#clip382)\" cx=\"148.15\" cy=\"344.804\" r=\"3\" fill=\"#009af9\" fill-rule=\"evenodd\" fill-opacity=\"1\" stroke=\"#000000\" stroke-opacity=\"1\" stroke-width=\"1\"/>\n",
       "<circle clip-path=\"url(#clip382)\" cx=\"149.614\" cy=\"343.938\" r=\"3\" fill=\"#009af9\" fill-rule=\"evenodd\" fill-opacity=\"1\" stroke=\"#000000\" stroke-opacity=\"1\" stroke-width=\"1\"/>\n",
       "<circle clip-path=\"url(#clip382)\" cx=\"150.146\" cy=\"364.632\" r=\"3\" fill=\"#009af9\" fill-rule=\"evenodd\" fill-opacity=\"1\" stroke=\"#000000\" stroke-opacity=\"1\" stroke-width=\"1\"/>\n",
       "<circle clip-path=\"url(#clip382)\" cx=\"150.545\" cy=\"326.543\" r=\"3\" fill=\"#009af9\" fill-rule=\"evenodd\" fill-opacity=\"1\" stroke=\"#000000\" stroke-opacity=\"1\" stroke-width=\"1\"/>\n",
       "<circle clip-path=\"url(#clip382)\" cx=\"150.678\" cy=\"337.583\" r=\"3\" fill=\"#009af9\" fill-rule=\"evenodd\" fill-opacity=\"1\" stroke=\"#000000\" stroke-opacity=\"1\" stroke-width=\"1\"/>\n",
       "<circle clip-path=\"url(#clip382)\" cx=\"152.275\" cy=\"349.006\" r=\"3\" fill=\"#009af9\" fill-rule=\"evenodd\" fill-opacity=\"1\" stroke=\"#000000\" stroke-opacity=\"1\" stroke-width=\"1\"/>\n",
       "<circle clip-path=\"url(#clip382)\" cx=\"152.808\" cy=\"356.89\" r=\"3\" fill=\"#009af9\" fill-rule=\"evenodd\" fill-opacity=\"1\" stroke=\"#000000\" stroke-opacity=\"1\" stroke-width=\"1\"/>\n",
       "<circle clip-path=\"url(#clip382)\" cx=\"152.808\" cy=\"346.593\" r=\"3\" fill=\"#009af9\" fill-rule=\"evenodd\" fill-opacity=\"1\" stroke=\"#000000\" stroke-opacity=\"1\" stroke-width=\"1\"/>\n",
       "<circle clip-path=\"url(#clip382)\" cx=\"153.194\" cy=\"313.932\" r=\"3\" fill=\"#009af9\" fill-rule=\"evenodd\" fill-opacity=\"1\" stroke=\"#000000\" stroke-opacity=\"1\" stroke-width=\"1\"/>\n",
       "<circle clip-path=\"url(#clip382)\" cx=\"153.739\" cy=\"340.82\" r=\"3\" fill=\"#009af9\" fill-rule=\"evenodd\" fill-opacity=\"1\" stroke=\"#000000\" stroke-opacity=\"1\" stroke-width=\"1\"/>\n",
       "<circle clip-path=\"url(#clip382)\" cx=\"153.873\" cy=\"318.437\" r=\"3\" fill=\"#009af9\" fill-rule=\"evenodd\" fill-opacity=\"1\" stroke=\"#000000\" stroke-opacity=\"1\" stroke-width=\"1\"/>\n",
       "<circle clip-path=\"url(#clip382)\" cx=\"154.435\" cy=\"362.781\" r=\"3\" fill=\"#009af9\" fill-rule=\"evenodd\" fill-opacity=\"1\" stroke=\"#000000\" stroke-opacity=\"1\" stroke-width=\"1\"/>\n",
       "<circle clip-path=\"url(#clip382)\" cx=\"154.937\" cy=\"337.905\" r=\"3\" fill=\"#009af9\" fill-rule=\"evenodd\" fill-opacity=\"1\" stroke=\"#000000\" stroke-opacity=\"1\" stroke-width=\"1\"/>\n",
       "<circle clip-path=\"url(#clip382)\" cx=\"155.07\" cy=\"348.845\" r=\"3\" fill=\"#009af9\" fill-rule=\"evenodd\" fill-opacity=\"1\" stroke=\"#000000\" stroke-opacity=\"1\" stroke-width=\"1\"/>\n",
       "<circle clip-path=\"url(#clip382)\" cx=\"156.454\" cy=\"337.081\" r=\"3\" fill=\"#009af9\" fill-rule=\"evenodd\" fill-opacity=\"1\" stroke=\"#000000\" stroke-opacity=\"1\" stroke-width=\"1\"/>\n",
       "<circle clip-path=\"url(#clip382)\" cx=\"157.865\" cy=\"335.473\" r=\"3\" fill=\"#009af9\" fill-rule=\"evenodd\" fill-opacity=\"1\" stroke=\"#000000\" stroke-opacity=\"1\" stroke-width=\"1\"/>\n",
       "<circle clip-path=\"url(#clip382)\" cx=\"160.793\" cy=\"368.474\" r=\"3\" fill=\"#009af9\" fill-rule=\"evenodd\" fill-opacity=\"1\" stroke=\"#000000\" stroke-opacity=\"1\" stroke-width=\"1\"/>\n",
       "<circle clip-path=\"url(#clip382)\" cx=\"162.763\" cy=\"330.825\" r=\"3\" fill=\"#009af9\" fill-rule=\"evenodd\" fill-opacity=\"1\" stroke=\"#000000\" stroke-opacity=\"1\" stroke-width=\"1\"/>\n",
       "<circle clip-path=\"url(#clip382)\" cx=\"162.923\" cy=\"362.119\" r=\"3\" fill=\"#009af9\" fill-rule=\"evenodd\" fill-opacity=\"1\" stroke=\"#000000\" stroke-opacity=\"1\" stroke-width=\"1\"/>\n",
       "<circle clip-path=\"url(#clip382)\" cx=\"162.923\" cy=\"322.7\" r=\"3\" fill=\"#009af9\" fill-rule=\"evenodd\" fill-opacity=\"1\" stroke=\"#000000\" stroke-opacity=\"1\" stroke-width=\"1\"/>\n",
       "<circle clip-path=\"url(#clip382)\" cx=\"163.368\" cy=\"303.696\" r=\"3\" fill=\"#009af9\" fill-rule=\"evenodd\" fill-opacity=\"1\" stroke=\"#000000\" stroke-opacity=\"1\" stroke-width=\"1\"/>\n",
       "<circle clip-path=\"url(#clip382)\" cx=\"163.455\" cy=\"304.099\" r=\"3\" fill=\"#009af9\" fill-rule=\"evenodd\" fill-opacity=\"1\" stroke=\"#000000\" stroke-opacity=\"1\" stroke-width=\"1\"/>\n",
       "<circle clip-path=\"url(#clip382)\" cx=\"164.12\" cy=\"341.605\" r=\"3\" fill=\"#009af9\" fill-rule=\"evenodd\" fill-opacity=\"1\" stroke=\"#000000\" stroke-opacity=\"1\" stroke-width=\"1\"/>\n",
       "<circle clip-path=\"url(#clip382)\" cx=\"164.347\" cy=\"313.932\" r=\"3\" fill=\"#009af9\" fill-rule=\"evenodd\" fill-opacity=\"1\" stroke=\"#000000\" stroke-opacity=\"1\" stroke-width=\"1\"/>\n",
       "<circle clip-path=\"url(#clip382)\" cx=\"166.383\" cy=\"310.794\" r=\"3\" fill=\"#009af9\" fill-rule=\"evenodd\" fill-opacity=\"1\" stroke=\"#000000\" stroke-opacity=\"1\" stroke-width=\"1\"/>\n",
       "<circle clip-path=\"url(#clip382)\" cx=\"167.714\" cy=\"359.384\" r=\"3\" fill=\"#009af9\" fill-rule=\"evenodd\" fill-opacity=\"1\" stroke=\"#000000\" stroke-opacity=\"1\" stroke-width=\"1\"/>\n",
       "<circle clip-path=\"url(#clip382)\" cx=\"168.778\" cy=\"346.673\" r=\"3\" fill=\"#009af9\" fill-rule=\"evenodd\" fill-opacity=\"1\" stroke=\"#000000\" stroke-opacity=\"1\" stroke-width=\"1\"/>\n",
       "<circle clip-path=\"url(#clip382)\" cx=\"168.778\" cy=\"351.178\" r=\"3\" fill=\"#009af9\" fill-rule=\"evenodd\" fill-opacity=\"1\" stroke=\"#000000\" stroke-opacity=\"1\" stroke-width=\"1\"/>\n",
       "<circle clip-path=\"url(#clip382)\" cx=\"168.778\" cy=\"331.791\" r=\"3\" fill=\"#009af9\" fill-rule=\"evenodd\" fill-opacity=\"1\" stroke=\"#000000\" stroke-opacity=\"1\" stroke-width=\"1\"/>\n",
       "<circle clip-path=\"url(#clip382)\" cx=\"169.592\" cy=\"336.457\" r=\"3\" fill=\"#009af9\" fill-rule=\"evenodd\" fill-opacity=\"1\" stroke=\"#000000\" stroke-opacity=\"1\" stroke-width=\"1\"/>\n",
       "<circle clip-path=\"url(#clip382)\" cx=\"171.307\" cy=\"326.463\" r=\"3\" fill=\"#009af9\" fill-rule=\"evenodd\" fill-opacity=\"1\" stroke=\"#000000\" stroke-opacity=\"1\" stroke-width=\"1\"/>\n",
       "<circle clip-path=\"url(#clip382)\" cx=\"171.44\" cy=\"297.582\" r=\"3\" fill=\"#009af9\" fill-rule=\"evenodd\" fill-opacity=\"1\" stroke=\"#000000\" stroke-opacity=\"1\" stroke-width=\"1\"/>\n",
       "<circle clip-path=\"url(#clip382)\" cx=\"171.44\" cy=\"347.899\" r=\"3\" fill=\"#009af9\" fill-rule=\"evenodd\" fill-opacity=\"1\" stroke=\"#000000\" stroke-opacity=\"1\" stroke-width=\"1\"/>\n",
       "<circle clip-path=\"url(#clip382)\" cx=\"171.919\" cy=\"341.444\" r=\"3\" fill=\"#009af9\" fill-rule=\"evenodd\" fill-opacity=\"1\" stroke=\"#000000\" stroke-opacity=\"1\" stroke-width=\"1\"/>\n",
       "<circle clip-path=\"url(#clip382)\" cx=\"172.505\" cy=\"339.854\" r=\"3\" fill=\"#009af9\" fill-rule=\"evenodd\" fill-opacity=\"1\" stroke=\"#000000\" stroke-opacity=\"1\" stroke-width=\"1\"/>\n",
       "<circle clip-path=\"url(#clip382)\" cx=\"173.023\" cy=\"371.55\" r=\"3\" fill=\"#009af9\" fill-rule=\"evenodd\" fill-opacity=\"1\" stroke=\"#000000\" stroke-opacity=\"1\" stroke-width=\"1\"/>\n",
       "<circle clip-path=\"url(#clip382)\" cx=\"173.17\" cy=\"335.411\" r=\"3\" fill=\"#009af9\" fill-rule=\"evenodd\" fill-opacity=\"1\" stroke=\"#000000\" stroke-opacity=\"1\" stroke-width=\"1\"/>\n",
       "<circle clip-path=\"url(#clip382)\" cx=\"173.206\" cy=\"340.318\" r=\"3\" fill=\"#009af9\" fill-rule=\"evenodd\" fill-opacity=\"1\" stroke=\"#000000\" stroke-opacity=\"1\" stroke-width=\"1\"/>\n",
       "<circle clip-path=\"url(#clip382)\" cx=\"173.754\" cy=\"344.179\" r=\"3\" fill=\"#009af9\" fill-rule=\"evenodd\" fill-opacity=\"1\" stroke=\"#000000\" stroke-opacity=\"1\" stroke-width=\"1\"/>\n",
       "<circle clip-path=\"url(#clip382)\" cx=\"174.9\" cy=\"315.924\" r=\"3\" fill=\"#009af9\" fill-rule=\"evenodd\" fill-opacity=\"1\" stroke=\"#000000\" stroke-opacity=\"1\" stroke-width=\"1\"/>\n",
       "<circle clip-path=\"url(#clip382)\" cx=\"175.167\" cy=\"323.666\" r=\"3\" fill=\"#009af9\" fill-rule=\"evenodd\" fill-opacity=\"1\" stroke=\"#000000\" stroke-opacity=\"1\" stroke-width=\"1\"/>\n",
       "<circle clip-path=\"url(#clip382)\" cx=\"175.699\" cy=\"329.056\" r=\"3\" fill=\"#009af9\" fill-rule=\"evenodd\" fill-opacity=\"1\" stroke=\"#000000\" stroke-opacity=\"1\" stroke-width=\"1\"/>\n",
       "<circle clip-path=\"url(#clip382)\" cx=\"177.296\" cy=\"331.791\" r=\"3\" fill=\"#009af9\" fill-rule=\"evenodd\" fill-opacity=\"1\" stroke=\"#000000\" stroke-opacity=\"1\" stroke-width=\"1\"/>\n",
       "<circle clip-path=\"url(#clip382)\" cx=\"177.307\" cy=\"374.266\" r=\"3\" fill=\"#009af9\" fill-rule=\"evenodd\" fill-opacity=\"1\" stroke=\"#000000\" stroke-opacity=\"1\" stroke-width=\"1\"/>\n",
       "<circle clip-path=\"url(#clip382)\" cx=\"178.893\" cy=\"294.303\" r=\"3\" fill=\"#009af9\" fill-rule=\"evenodd\" fill-opacity=\"1\" stroke=\"#000000\" stroke-opacity=\"1\" stroke-width=\"1\"/>\n",
       "<circle clip-path=\"url(#clip382)\" cx=\"179.316\" cy=\"340.962\" r=\"3\" fill=\"#009af9\" fill-rule=\"evenodd\" fill-opacity=\"1\" stroke=\"#000000\" stroke-opacity=\"1\" stroke-width=\"1\"/>\n",
       "<circle clip-path=\"url(#clip382)\" cx=\"179.425\" cy=\"331.63\" r=\"3\" fill=\"#009af9\" fill-rule=\"evenodd\" fill-opacity=\"1\" stroke=\"#000000\" stroke-opacity=\"1\" stroke-width=\"1\"/>\n",
       "<circle clip-path=\"url(#clip382)\" cx=\"179.425\" cy=\"349.792\" r=\"3\" fill=\"#009af9\" fill-rule=\"evenodd\" fill-opacity=\"1\" stroke=\"#000000\" stroke-opacity=\"1\" stroke-width=\"1\"/>\n",
       "<circle clip-path=\"url(#clip382)\" cx=\"179.425\" cy=\"313.511\" r=\"3\" fill=\"#009af9\" fill-rule=\"evenodd\" fill-opacity=\"1\" stroke=\"#000000\" stroke-opacity=\"1\" stroke-width=\"1\"/>\n",
       "<circle clip-path=\"url(#clip382)\" cx=\"181.022\" cy=\"325.015\" r=\"3\" fill=\"#009af9\" fill-rule=\"evenodd\" fill-opacity=\"1\" stroke=\"#000000\" stroke-opacity=\"1\" stroke-width=\"1\"/>\n",
       "<circle clip-path=\"url(#clip382)\" cx=\"181.555\" cy=\"362.039\" r=\"3\" fill=\"#009af9\" fill-rule=\"evenodd\" fill-opacity=\"1\" stroke=\"#000000\" stroke-opacity=\"1\" stroke-width=\"1\"/>\n",
       "<circle clip-path=\"url(#clip382)\" cx=\"181.689\" cy=\"368.474\" r=\"3\" fill=\"#009af9\" fill-rule=\"evenodd\" fill-opacity=\"1\" stroke=\"#000000\" stroke-opacity=\"1\" stroke-width=\"1\"/>\n",
       "<circle clip-path=\"url(#clip382)\" cx=\"182.087\" cy=\"328.573\" r=\"3\" fill=\"#009af9\" fill-rule=\"evenodd\" fill-opacity=\"1\" stroke=\"#000000\" stroke-opacity=\"1\" stroke-width=\"1\"/>\n",
       "<circle clip-path=\"url(#clip382)\" cx=\"183.684\" cy=\"329.056\" r=\"3\" fill=\"#009af9\" fill-rule=\"evenodd\" fill-opacity=\"1\" stroke=\"#000000\" stroke-opacity=\"1\" stroke-width=\"1\"/>\n",
       "<circle clip-path=\"url(#clip382)\" cx=\"184.231\" cy=\"336.457\" r=\"3\" fill=\"#009af9\" fill-rule=\"evenodd\" fill-opacity=\"1\" stroke=\"#000000\" stroke-opacity=\"1\" stroke-width=\"1\"/>\n",
       "<circle clip-path=\"url(#clip382)\" cx=\"184.483\" cy=\"348.987\" r=\"3\" fill=\"#009af9\" fill-rule=\"evenodd\" fill-opacity=\"1\" stroke=\"#000000\" stroke-opacity=\"1\" stroke-width=\"1\"/>\n",
       "<circle clip-path=\"url(#clip382)\" cx=\"184.749\" cy=\"317.935\" r=\"3\" fill=\"#009af9\" fill-rule=\"evenodd\" fill-opacity=\"1\" stroke=\"#000000\" stroke-opacity=\"1\" stroke-width=\"1\"/>\n",
       "<circle clip-path=\"url(#clip382)\" cx=\"184.749\" cy=\"344.179\" r=\"3\" fill=\"#009af9\" fill-rule=\"evenodd\" fill-opacity=\"1\" stroke=\"#000000\" stroke-opacity=\"1\" stroke-width=\"1\"/>\n",
       "<circle clip-path=\"url(#clip382)\" cx=\"186.04\" cy=\"272.483\" r=\"3\" fill=\"#009af9\" fill-rule=\"evenodd\" fill-opacity=\"1\" stroke=\"#000000\" stroke-opacity=\"1\" stroke-width=\"1\"/>\n",
       "<circle clip-path=\"url(#clip382)\" cx=\"186.878\" cy=\"326.884\" r=\"3\" fill=\"#009af9\" fill-rule=\"evenodd\" fill-opacity=\"1\" stroke=\"#000000\" stroke-opacity=\"1\" stroke-width=\"1\"/>\n",
       "<circle clip-path=\"url(#clip382)\" cx=\"187.411\" cy=\"347.88\" r=\"3\" fill=\"#009af9\" fill-rule=\"evenodd\" fill-opacity=\"1\" stroke=\"#000000\" stroke-opacity=\"1\" stroke-width=\"1\"/>\n",
       "<circle clip-path=\"url(#clip382)\" cx=\"187.571\" cy=\"320.349\" r=\"3\" fill=\"#009af9\" fill-rule=\"evenodd\" fill-opacity=\"1\" stroke=\"#000000\" stroke-opacity=\"1\" stroke-width=\"1\"/>\n",
       "<circle clip-path=\"url(#clip382)\" cx=\"187.804\" cy=\"336.135\" r=\"3\" fill=\"#009af9\" fill-rule=\"evenodd\" fill-opacity=\"1\" stroke=\"#000000\" stroke-opacity=\"1\" stroke-width=\"1\"/>\n",
       "<polyline clip-path=\"url(#clip382)\" style=\"stroke:#e26f46; stroke-width:1; stroke-opacity:1; fill:none\" stroke-dasharray=\"8, 5\" points=\"\n",
       "  62.3082,444.535 488.189,11.811 \n",
       "  \"/>\n",
       "<path clip-path=\"url(#clip380)\" d=\"\n",
       "M413.918 71.5952 L473.993 71.5952 L473.993 26.2352 L413.918 26.2352  Z\n",
       "  \" fill=\"#ffffff\" fill-rule=\"evenodd\" fill-opacity=\"1\"/>\n",
       "<polyline clip-path=\"url(#clip380)\" style=\"stroke:#000000; stroke-width:1; stroke-opacity:1; fill:none\" points=\"\n",
       "  413.918,71.5952 473.993,71.5952 473.993,26.2352 413.918,26.2352 413.918,71.5952 \n",
       "  \"/>\n",
       "<circle clip-path=\"url(#clip380)\" cx=\"432.846\" cy=\"41.3552\" r=\"5\" fill=\"#009af9\" fill-rule=\"evenodd\" fill-opacity=\"1\" stroke=\"#000000\" stroke-opacity=\"1\" stroke-width=\"1.6\"/>\n",
       "<path clip-path=\"url(#clip380)\" d=\"M 0 0 M455.235 46.277 Q454.784 47.4344 454.355 47.7874 Q453.927 48.1404 453.21 48.1404 L452.359 48.1404 L452.359 47.2492 L452.984 47.2492 Q453.424 47.2492 453.667 47.0409 Q453.91 46.8326 454.205 46.0571 L454.396 45.571 L451.774 39.1937 L452.903 39.1937 L454.928 44.2631 L456.954 39.1937 L458.082 39.1937 L455.235 46.277 Z\" fill=\"#000000\" fill-rule=\"evenodd\" fill-opacity=\"1\" /><path clip-path=\"url(#clip380)\" d=\"M 0 0 M459.552 44.6914 L461.462 44.6914 L461.462 38.1 L459.384 38.5166 L459.384 37.4518 L461.45 37.0352 L462.619 37.0352 L462.619 44.6914 L464.529 44.6914 L464.529 45.6752 L459.552 45.6752 L459.552 44.6914 Z\" fill=\"#000000\" fill-rule=\"evenodd\" fill-opacity=\"1\" /><polyline clip-path=\"url(#clip380)\" style=\"stroke:#e26f46; stroke-width:1; stroke-opacity:1; fill:none\" stroke-dasharray=\"8, 5\" points=\"\n",
       "  418.65,56.4752 447.042,56.4752 \n",
       "  \"/>\n",
       "<path clip-path=\"url(#clip380)\" d=\"M 0 0 M455.235 61.397 Q454.784 62.5544 454.355 62.9074 Q453.927 63.2604 453.21 63.2604 L452.359 63.2604 L452.359 62.3692 L452.984 62.3692 Q453.424 62.3692 453.667 62.1609 Q453.91 61.9526 454.205 61.1771 L454.396 60.691 L451.774 54.3137 L452.903 54.3137 L454.928 59.3831 L456.954 54.3137 L458.082 54.3137 L455.235 61.397 Z\" fill=\"#000000\" fill-rule=\"evenodd\" fill-opacity=\"1\" /><path clip-path=\"url(#clip380)\" d=\"M 0 0 M460.357 59.8114 L464.436 59.8114 L464.436 60.7952 L458.95 60.7952 L458.95 59.8114 Q459.616 59.1227 460.762 57.9653 Q461.913 56.8021 462.208 56.4665 Q462.77 55.8357 462.99 55.4017 Q463.215 54.9619 463.215 54.5394 Q463.215 53.8507 462.729 53.4167 Q462.249 52.9827 461.473 52.9827 Q460.924 52.9827 460.31 53.1737 Q459.703 53.3646 459.008 53.7524 L459.008 52.5718 Q459.714 52.2883 460.328 52.1436 Q460.941 51.9989 461.45 51.9989 Q462.793 51.9989 463.591 52.6702 Q464.39 53.3415 464.39 54.4642 Q464.39 54.9966 464.187 55.4769 Q463.991 55.9514 463.464 56.5996 Q463.319 56.7674 462.544 57.5718 Q461.769 58.3704 460.357 59.8114 Z\" fill=\"#000000\" fill-rule=\"evenodd\" fill-opacity=\"1\" /></svg>\n"
      ]
     },
     "execution_count": 8,
     "metadata": {},
     "output_type": "execute_result"
    }
   ],
   "source": [
    "scatter(price, predicted, lims = (0,800))       # the scatter plot\n",
    "plot!([0, 800], [0, 800], linestyle = :dash)    # 45 degree line\n",
    "# make axes equal and add labels\n",
    "plot!(xlims = (0,800), ylims = (0,800), size = (500,500))\n",
    "plot!(xlabel = \"Actual price\", ylabel = \"Predicted price\")"
   ]
  },
  {
   "cell_type": "markdown",
   "metadata": {},
   "source": [
    "### Chapter 3.1 Norm"
   ]
  },
  {
   "cell_type": "code",
   "execution_count": 31,
   "metadata": {},
   "outputs": [
    {
     "data": {
      "text/plain": [
       "3.0"
      ]
     },
     "execution_count": 31,
     "metadata": {},
     "output_type": "execute_result"
    }
   ],
   "source": [
    "using Pkg\n",
    "Pkg.add(\"LinearAlgebra\")  # we need the norm funciton\n",
    "using LinearAlgebra\n",
    "x = [ 2, -1, 2 ];\n",
    "norm(x)    # norm: will calculate the two norm\n",
    "sqrt(x'*x) # inner product with itself\n",
    "sqrt(sum(x.^2))  # component-wise x squared"
   ]
  },
  {
   "cell_type": "markdown",
   "metadata": {},
   "source": [
    "### Chapter 3.2 Distance"
   ]
  },
  {
   "cell_type": "code",
   "execution_count": 33,
   "metadata": {},
   "outputs": [
    {
     "data": {
      "text/plain": [
       "(8.36779540858881, 0.3872983346207417, 8.532877591996735)"
      ]
     },
     "execution_count": 33,
     "metadata": {},
     "output_type": "execute_result"
    }
   ],
   "source": [
    "u = [1.8, 2.0, -3.7, 4.7]\n",
    "v = [0.6, 2.1, 1.9, -1.4]\n",
    "w = [2.0, 1.9, -4.0, 4.6]\n",
    "norm(u-v), norm(u-w), norm(v-w)"
   ]
  },
  {
   "cell_type": "markdown",
   "metadata": {},
   "source": [
    "### Chapter 4.1 Clustering"
   ]
  },
  {
   "cell_type": "code",
   "execution_count": 37,
   "metadata": {},
   "outputs": [],
   "source": [
    "Pkg.add(\"Statistics\") # we need the mean function from the Statistics package\n",
    "using Statistics"
   ]
  },
  {
   "cell_type": "code",
   "execution_count": 40,
   "metadata": {},
   "outputs": [
    {
     "data": {
      "text/plain": [
       "2.0"
      ]
     },
     "execution_count": 40,
     "metadata": {},
     "output_type": "execute_result"
    }
   ],
   "source": [
    "Jclust(x,reps,assignment) =\n",
    "       mean( [norm(x[i]-reps[assignment[i]])^2 for i=1:length(x)] )\n",
    "x = [ [0,1], [1,0], [-1,1] ]\n",
    "reps = [ [1,1], [0,0] ]\n",
    "assignment = [1,2,1]    \n",
    "Jclust(x,reps,assignment)   # call the function"
   ]
  },
  {
   "cell_type": "markdown",
   "metadata": {},
   "source": [
    "### Chapter 4.3 The k-means algorithm"
   ]
  },
  {
   "cell_type": "markdown",
   "metadata": {},
   "source": [
    "### Basic"
   ]
  },
  {
   "cell_type": "code",
   "execution_count": 90,
   "metadata": {},
   "outputs": [
    {
     "name": "stdout",
     "output_type": "stream",
     "text": [
      "The group index: [2, 2, 2, 3, 2]\n",
      "index of group 1: Int64[]\n",
      "index of group 2: [1, 2, 3, 5]\n",
      "index of group 3: [4]\n"
     ]
    }
   ],
   "source": [
    "group_number = [rand(1 : 3) for i = 1 : 5] # create a vector of dimension 5 with values 1,2,3\n",
    "println(\"The group index: \", group_number)\n",
    "group_1 = [i for i=1:5 if group_number[i] == 1]\n",
    "println(\"index of group 1: \", group_1)\n",
    "\n",
    "group_2 = [i for i=1:5 if group_number[i] == 2]\n",
    "println(\"index of group 2: \", group_2)\n",
    "\n",
    "group_3 = [i for i=1:5 if group_number[i] == 3]\n",
    "println(\"index of group 3: \", group_3)"
   ]
  },
  {
   "cell_type": "code",
   "execution_count": 70,
   "metadata": {},
   "outputs": [
    {
     "name": "stdout",
     "output_type": "stream",
     "text": [
      "[9, 16]\n"
     ]
    },
    {
     "data": {
      "text/plain": [
       "(5.0, 1)"
      ]
     },
     "execution_count": 70,
     "metadata": {},
     "output_type": "execute_result"
    }
   ],
   "source": [
    "x = [3, 4]\n",
    "findmin([norm(x - reps[j]) for j = 1:k])"
   ]
  },
  {
   "cell_type": "code",
   "execution_count": 65,
   "metadata": {},
   "outputs": [
    {
     "data": {
      "text/plain": [
       "3-element Vector{Vector{Float64}}:\n",
       " [0.0, 0.0]\n",
       " [0.0, 0.0]\n",
       " [0.0, 0.0]"
      ]
     },
     "execution_count": 65,
     "metadata": {},
     "output_type": "execute_result"
    }
   ],
   "source": [
    "reps"
   ]
  },
  {
   "cell_type": "code",
   "execution_count": 41,
   "metadata": {},
   "outputs": [
    {
     "data": {
      "text/plain": [
       "kmeansfunction (generic function with 1 method)"
      ]
     },
     "execution_count": 41,
     "metadata": {},
     "output_type": "execute_result"
    }
   ],
   "source": [
    "function kmeansfunction(x, k; maxiters = 100, tol = 1e-5)\n",
    "N = length(x)     # number of points to be cluster\n",
    "n = length(x[1])  # the dimension\n",
    "distances = zeros(N)  # used to store the distance of each point to the nearest representative.\n",
    "reps = [zeros(n) for j=1:k]  # used to store representatives.\n",
    "    \n",
    "# 'assignment' is an array of N integers between 1 and k.\n",
    "# The initial assignment is chosen randomly.\n",
    "assignment = [ rand(1:k) for i in 1:N ] \n",
    "Jprevious = Inf  # used in stopping condition\n",
    "    \n",
    "for iter = 1:maxiters\n",
    "    # Cluster j representative is average of points in cluster j.\n",
    "    for j = 1:k\n",
    "        group = [i for i=1:N if assignment[i] == j]  # get which point index belongs to the group j \n",
    "        reps[j] = sum(x[group]) / length(group);     # reps is the clustering center\n",
    "    end;\n",
    "    # For each x[i], find distance to the nearest representative\n",
    "    # and its group index.\n",
    "    for i = 1:N\n",
    "        (distances[i], assignment[i]) = findmin([norm(x[i] - reps[j]) for j = 1:k])\n",
    "    end;\n",
    "\n",
    "    # Compute clustering objective.\n",
    "    J = norm(distances)^2 / N  # distance to the clustering center\n",
    "\n",
    "    # Show progress and terminate if J stopped decreasing.\n",
    "    println(\"Iteration \", iter, \": Jclust = \", J, \".\")\n",
    "    if iter>1 && abs(J - Jprevious) < tol * J\n",
    "         return assignment, reps\n",
    "    end\n",
    " Jprevious = J\n",
    " end\n",
    "\n",
    " end"
   ]
  },
  {
   "cell_type": "code",
   "execution_count": 42,
   "metadata": {},
   "outputs": [
    {
     "data": {
      "text/plain": [
       "300-element Vector{Vector{Float64}}:\n",
       " [0.06515669100138255, 0.18711639318998977]\n",
       " [-0.05166701100705117, 0.17196837594007333]\n",
       " [0.5526816014000147, -0.1501841382859648]\n",
       " [-0.37583152775035183, -0.06689255615466008]\n",
       " [0.4235820076924694, -0.17770053177039538]\n",
       " [-0.23664539378616126, -0.37644727375500037]\n",
       " [0.03277673544228813, 0.3380323461691022]\n",
       " [-0.10476914694195853, 0.24573512100511297]\n",
       " [0.05676050631609567, 0.007029252664184664]\n",
       " [0.18368305705936203, -0.5147559665362087]\n",
       " [-0.16539052845360422, -0.325175843619115]\n",
       " [0.08879303664647657, -0.09563111347589551]\n",
       " [0.023661087207672602, 0.31252908494666937]\n",
       " ⋮\n",
       " [1.0266877374681196, -0.8578438852485527]\n",
       " [1.528496640500311, -1.4694190879033298]\n",
       " [1.5753596007010453, -1.1851945040330216]\n",
       " [0.8118406635879036, -0.8373068029291224]\n",
       " [1.071400016308778, -0.681246455356435]\n",
       " [1.1619673128670533, -1.4763879585327213]\n",
       " [0.9305992649863186, -1.0112706672371308]\n",
       " [1.2484827124136715, -1.0858939869645714]\n",
       " [0.7809611113922297, -0.8840700701999079]\n",
       " [0.7524886324392817, -1.2677961799483044]\n",
       " [0.7131281305646013, -1.1227915443981702]\n",
       " [1.0249887913539137, -0.9496017875602965]"
      ]
     },
     "execution_count": 42,
     "metadata": {},
     "output_type": "execute_result"
    }
   ],
   "source": [
    "X = vcat( [ 0.3*randn(2) for i = 1:100 ],\n",
    "          [ [1,1] + 0.3*randn(2) for i = 1:100 ],\n",
    "          [ [1,-1] + 0.3*randn(2) for i = 1:100 ] )"
   ]
  },
  {
   "cell_type": "code",
   "execution_count": 43,
   "metadata": {},
   "outputs": [
    {
     "data": {
      "image/svg+xml": [
       "<?xml version=\"1.0\" encoding=\"utf-8\"?>\n",
       "<svg xmlns=\"http://www.w3.org/2000/svg\" xmlns:xlink=\"http://www.w3.org/1999/xlink\" width=\"150\" height=\"100\" viewBox=\"0 0 600 400\">\n",
       "<defs>\n",
       "  <clipPath id=\"clip700\">\n",
       "    <rect x=\"0\" y=\"0\" width=\"600\" height=\"400\"/>\n",
       "  </clipPath>\n",
       "</defs>\n",
       "<path clip-path=\"url(#clip700)\" d=\"\n",
       "M0 400 L600 400 L600 0 L0 0  Z\n",
       "  \" fill=\"#ffffff\" fill-rule=\"evenodd\" fill-opacity=\"1\"/>\n",
       "<defs>\n",
       "  <clipPath id=\"clip701\">\n",
       "    <rect x=\"120\" y=\"0\" width=\"421\" height=\"400\"/>\n",
       "  </clipPath>\n",
       "</defs>\n",
       "<path clip-path=\"url(#clip700)\" d=\"\n",
       "M44.9134 371.612 L588.189 371.612 L588.189 11.811 L44.9134 11.811  Z\n",
       "  \" fill=\"#ffffff\" fill-rule=\"evenodd\" fill-opacity=\"1\"/>\n",
       "<defs>\n",
       "  <clipPath id=\"clip702\">\n",
       "    <rect x=\"44\" y=\"11\" width=\"544\" height=\"361\"/>\n",
       "  </clipPath>\n",
       "</defs>\n",
       "<polyline clip-path=\"url(#clip702)\" style=\"stroke:#000000; stroke-width:0.5; stroke-opacity:0.1; fill:none\" points=\"\n",
       "  67.0298,371.612 67.0298,11.811 \n",
       "  \"/>\n",
       "<polyline clip-path=\"url(#clip702)\" style=\"stroke:#000000; stroke-width:0.5; stroke-opacity:0.1; fill:none\" points=\"\n",
       "  167.748,371.612 167.748,11.811 \n",
       "  \"/>\n",
       "<polyline clip-path=\"url(#clip702)\" style=\"stroke:#000000; stroke-width:0.5; stroke-opacity:0.1; fill:none\" points=\"\n",
       "  268.466,371.612 268.466,11.811 \n",
       "  \"/>\n",
       "<polyline clip-path=\"url(#clip702)\" style=\"stroke:#000000; stroke-width:0.5; stroke-opacity:0.1; fill:none\" points=\"\n",
       "  369.184,371.612 369.184,11.811 \n",
       "  \"/>\n",
       "<polyline clip-path=\"url(#clip702)\" style=\"stroke:#000000; stroke-width:0.5; stroke-opacity:0.1; fill:none\" points=\"\n",
       "  469.903,371.612 469.903,11.811 \n",
       "  \"/>\n",
       "<polyline clip-path=\"url(#clip702)\" style=\"stroke:#000000; stroke-width:0.5; stroke-opacity:0.1; fill:none\" points=\"\n",
       "  570.621,371.612 570.621,11.811 \n",
       "  \"/>\n",
       "<polyline clip-path=\"url(#clip700)\" style=\"stroke:#000000; stroke-width:1; stroke-opacity:1; fill:none\" points=\"\n",
       "  44.9134,371.612 588.189,371.612 \n",
       "  \"/>\n",
       "<polyline clip-path=\"url(#clip700)\" style=\"stroke:#000000; stroke-width:1; stroke-opacity:1; fill:none\" points=\"\n",
       "  67.0298,371.612 67.0298,367.294 \n",
       "  \"/>\n",
       "<polyline clip-path=\"url(#clip700)\" style=\"stroke:#000000; stroke-width:1; stroke-opacity:1; fill:none\" points=\"\n",
       "  167.748,371.612 167.748,367.294 \n",
       "  \"/>\n",
       "<polyline clip-path=\"url(#clip700)\" style=\"stroke:#000000; stroke-width:1; stroke-opacity:1; fill:none\" points=\"\n",
       "  268.466,371.612 268.466,367.294 \n",
       "  \"/>\n",
       "<polyline clip-path=\"url(#clip700)\" style=\"stroke:#000000; stroke-width:1; stroke-opacity:1; fill:none\" points=\"\n",
       "  369.184,371.612 369.184,367.294 \n",
       "  \"/>\n",
       "<polyline clip-path=\"url(#clip700)\" style=\"stroke:#000000; stroke-width:1; stroke-opacity:1; fill:none\" points=\"\n",
       "  469.903,371.612 469.903,367.294 \n",
       "  \"/>\n",
       "<polyline clip-path=\"url(#clip700)\" style=\"stroke:#000000; stroke-width:1; stroke-opacity:1; fill:none\" points=\"\n",
       "  570.621,371.612 570.621,367.294 \n",
       "  \"/>\n",
       "<path clip-path=\"url(#clip700)\" d=\"M 0 0 M55.4471 382.573 L62.866 382.573 L62.866 383.557 L55.4471 383.557 L55.4471 382.573 Z\" fill=\"#000000\" fill-rule=\"evenodd\" fill-opacity=\"1\" /><path clip-path=\"url(#clip700)\" d=\"M 0 0 M66.6333 378.91 Q65.7306 378.91 65.2734 379.801 Q64.822 380.686 64.822 382.469 Q64.822 384.245 65.2734 385.136 Q65.7306 386.022 66.6333 386.022 Q67.5419 386.022 67.9933 385.136 Q68.4505 384.245 68.4505 382.469 Q68.4505 380.686 67.9933 379.801 Q67.5419 378.91 66.6333 378.91 M66.6333 377.984 Q68.0859 377.984 68.8498 379.135 Q69.6194 380.281 69.6194 382.469 Q69.6194 384.65 68.8498 385.802 Q68.0859 386.948 66.6333 386.948 Q65.1808 386.948 64.4111 385.802 Q63.6473 384.65 63.6473 382.469 Q63.6473 380.281 64.4111 379.135 Q65.1808 377.984 66.6333 377.984 Z\" fill=\"#000000\" fill-rule=\"evenodd\" fill-opacity=\"1\" /><path clip-path=\"url(#clip700)\" d=\"M 0 0 M70.8868 385.31 L72.1079 385.31 L72.1079 386.78 L70.8868 386.78 L70.8868 385.31 Z\" fill=\"#000000\" fill-rule=\"evenodd\" fill-opacity=\"1\" /><path clip-path=\"url(#clip700)\" d=\"M 0 0 M73.3868 378.14 L77.9759 378.14 L77.9759 379.124 L74.4574 379.124 L74.4574 381.242 Q74.712 381.155 74.9666 381.114 Q75.2213 381.068 75.4759 381.068 Q76.9226 381.068 77.7675 381.861 Q78.6124 382.654 78.6124 384.008 Q78.6124 385.403 77.7444 386.178 Q76.8763 386.948 75.2965 386.948 Q74.7525 386.948 74.1854 386.855 Q73.6241 386.763 73.0222 386.577 L73.0222 385.403 Q73.543 385.686 74.0986 385.825 Q74.6541 385.964 75.2733 385.964 Q76.2745 385.964 76.859 385.437 Q77.4435 384.911 77.4435 384.008 Q77.4435 383.105 76.859 382.579 Q76.2745 382.052 75.2733 382.052 Q74.8046 382.052 74.3359 382.156 Q73.8729 382.26 73.3868 382.48 L73.3868 378.14 Z\" fill=\"#000000\" fill-rule=\"evenodd\" fill-opacity=\"1\" /><path clip-path=\"url(#clip700)\" d=\"M 0 0 M163.127 378.91 Q162.224 378.91 161.767 379.801 Q161.316 380.686 161.316 382.469 Q161.316 384.245 161.767 385.136 Q162.224 386.022 163.127 386.022 Q164.036 386.022 164.487 385.136 Q164.944 384.245 164.944 382.469 Q164.944 380.686 164.487 379.801 Q164.036 378.91 163.127 378.91 M163.127 377.984 Q164.58 377.984 165.343 379.135 Q166.113 380.281 166.113 382.469 Q166.113 384.65 165.343 385.802 Q164.58 386.948 163.127 386.948 Q161.675 386.948 160.905 385.802 Q160.141 384.65 160.141 382.469 Q160.141 380.281 160.905 379.135 Q161.675 377.984 163.127 377.984 Z\" fill=\"#000000\" fill-rule=\"evenodd\" fill-opacity=\"1\" /><path clip-path=\"url(#clip700)\" d=\"M 0 0 M167.381 385.31 L168.602 385.31 L168.602 386.78 L167.381 386.78 L167.381 385.31 Z\" fill=\"#000000\" fill-rule=\"evenodd\" fill-opacity=\"1\" /><path clip-path=\"url(#clip700)\" d=\"M 0 0 M172.369 378.91 Q171.466 378.91 171.009 379.801 Q170.558 380.686 170.558 382.469 Q170.558 384.245 171.009 385.136 Q171.466 386.022 172.369 386.022 Q173.277 386.022 173.729 385.136 Q174.186 384.245 174.186 382.469 Q174.186 380.686 173.729 379.801 Q173.277 378.91 172.369 378.91 M172.369 377.984 Q173.821 377.984 174.585 379.135 Q175.355 380.281 175.355 382.469 Q175.355 384.65 174.585 385.802 Q173.821 386.948 172.369 386.948 Q170.916 386.948 170.147 385.802 Q169.383 384.65 169.383 382.469 Q169.383 380.281 170.147 379.135 Q170.916 377.984 172.369 377.984 Z\" fill=\"#000000\" fill-rule=\"evenodd\" fill-opacity=\"1\" /><path clip-path=\"url(#clip700)\" d=\"M 0 0 M263.97 378.91 Q263.067 378.91 262.61 379.801 Q262.158 380.686 262.158 382.469 Q262.158 384.245 262.61 385.136 Q263.067 386.022 263.97 386.022 Q264.878 386.022 265.33 385.136 Q265.787 384.245 265.787 382.469 Q265.787 380.686 265.33 379.801 Q264.878 378.91 263.97 378.91 M263.97 377.984 Q265.422 377.984 266.186 379.135 Q266.956 380.281 266.956 382.469 Q266.956 384.65 266.186 385.802 Q265.422 386.948 263.97 386.948 Q262.517 386.948 261.748 385.802 Q260.984 384.65 260.984 382.469 Q260.984 380.281 261.748 379.135 Q262.517 377.984 263.97 377.984 Z\" fill=\"#000000\" fill-rule=\"evenodd\" fill-opacity=\"1\" /><path clip-path=\"url(#clip700)\" d=\"M 0 0 M268.223 385.31 L269.444 385.31 L269.444 386.78 L268.223 386.78 L268.223 385.31 Z\" fill=\"#000000\" fill-rule=\"evenodd\" fill-opacity=\"1\" /><path clip-path=\"url(#clip700)\" d=\"M 0 0 M270.723 378.14 L275.312 378.14 L275.312 379.124 L271.794 379.124 L271.794 381.242 Q272.048 381.155 272.303 381.114 Q272.558 381.068 272.812 381.068 Q274.259 381.068 275.104 381.861 Q275.949 382.654 275.949 384.008 Q275.949 385.403 275.081 386.178 Q274.213 386.948 272.633 386.948 Q272.089 386.948 271.522 386.855 Q270.96 386.763 270.359 386.577 L270.359 385.403 Q270.879 385.686 271.435 385.825 Q271.991 385.964 272.61 385.964 Q273.611 385.964 274.195 385.437 Q274.78 384.911 274.78 384.008 Q274.78 383.105 274.195 382.579 Q273.611 382.052 272.61 382.052 Q272.141 382.052 271.672 382.156 Q271.209 382.26 270.723 382.48 L270.723 378.14 Z\" fill=\"#000000\" fill-rule=\"evenodd\" fill-opacity=\"1\" /><path clip-path=\"url(#clip700)\" d=\"M 0 0 M362.159 385.796 L364.069 385.796 L364.069 379.205 L361.991 379.621 L361.991 378.557 L364.057 378.14 L365.226 378.14 L365.226 385.796 L367.136 385.796 L367.136 386.78 L362.159 386.78 L362.159 385.796 Z\" fill=\"#000000\" fill-rule=\"evenodd\" fill-opacity=\"1\" /><path clip-path=\"url(#clip700)\" d=\"M 0 0 M368.403 385.31 L369.624 385.31 L369.624 386.78 L368.403 386.78 L368.403 385.31 Z\" fill=\"#000000\" fill-rule=\"evenodd\" fill-opacity=\"1\" /><path clip-path=\"url(#clip700)\" d=\"M 0 0 M373.392 378.91 Q372.489 378.91 372.032 379.801 Q371.58 380.686 371.58 382.469 Q371.58 384.245 372.032 385.136 Q372.489 386.022 373.392 386.022 Q374.3 386.022 374.752 385.136 Q375.209 384.245 375.209 382.469 Q375.209 380.686 374.752 379.801 Q374.3 378.91 373.392 378.91 M373.392 377.984 Q374.844 377.984 375.608 379.135 Q376.378 380.281 376.378 382.469 Q376.378 384.65 375.608 385.802 Q374.844 386.948 373.392 386.948 Q371.939 386.948 371.169 385.802 Q370.406 384.65 370.406 382.469 Q370.406 380.281 371.169 379.135 Q371.939 377.984 373.392 377.984 Z\" fill=\"#000000\" fill-rule=\"evenodd\" fill-opacity=\"1\" /><path clip-path=\"url(#clip700)\" d=\"M 0 0 M463.002 385.796 L464.911 385.796 L464.911 379.205 L462.834 379.621 L462.834 378.557 L464.9 378.14 L466.069 378.14 L466.069 385.796 L467.979 385.796 L467.979 386.78 L463.002 386.78 L463.002 385.796 Z\" fill=\"#000000\" fill-rule=\"evenodd\" fill-opacity=\"1\" /><path clip-path=\"url(#clip700)\" d=\"M 0 0 M469.246 385.31 L470.467 385.31 L470.467 386.78 L469.246 386.78 L469.246 385.31 Z\" fill=\"#000000\" fill-rule=\"evenodd\" fill-opacity=\"1\" /><path clip-path=\"url(#clip700)\" d=\"M 0 0 M471.746 378.14 L476.335 378.14 L476.335 379.124 L472.816 379.124 L472.816 381.242 Q473.071 381.155 473.326 381.114 Q473.58 381.068 473.835 381.068 Q475.282 381.068 476.127 381.861 Q476.972 382.654 476.972 384.008 Q476.972 385.403 476.104 386.178 Q475.235 386.948 473.656 386.948 Q473.112 386.948 472.544 386.855 Q471.983 386.763 471.381 386.577 L471.381 385.403 Q471.902 385.686 472.458 385.825 Q473.013 385.964 473.632 385.964 Q474.634 385.964 475.218 385.437 Q475.803 384.911 475.803 384.008 Q475.803 383.105 475.218 382.579 Q474.634 382.052 473.632 382.052 Q473.164 382.052 472.695 382.156 Q472.232 382.26 471.746 382.48 L471.746 378.14 Z\" fill=\"#000000\" fill-rule=\"evenodd\" fill-opacity=\"1\" /><path clip-path=\"url(#clip700)\" d=\"M 0 0 M564.663 385.796 L568.743 385.796 L568.743 386.78 L563.257 386.78 L563.257 385.796 Q563.923 385.108 565.068 383.95 Q566.22 382.787 566.515 382.451 Q567.076 381.821 567.296 381.386 Q567.522 380.947 567.522 380.524 Q567.522 379.836 567.036 379.402 Q566.556 378.968 565.78 378.968 Q565.23 378.968 564.617 379.158 Q564.009 379.349 563.315 379.737 L563.315 378.557 Q564.021 378.273 564.634 378.128 Q565.248 377.984 565.757 377.984 Q567.1 377.984 567.898 378.655 Q568.697 379.326 568.697 380.449 Q568.697 380.981 568.494 381.462 Q568.297 381.936 567.771 382.584 Q567.626 382.752 566.851 383.557 Q566.075 384.355 564.663 385.796 Z\" fill=\"#000000\" fill-rule=\"evenodd\" fill-opacity=\"1\" /><path clip-path=\"url(#clip700)\" d=\"M 0 0 M570.01 385.31 L571.231 385.31 L571.231 386.78 L570.01 386.78 L570.01 385.31 Z\" fill=\"#000000\" fill-rule=\"evenodd\" fill-opacity=\"1\" /><path clip-path=\"url(#clip700)\" d=\"M 0 0 M574.999 378.91 Q574.096 378.91 573.639 379.801 Q573.188 380.686 573.188 382.469 Q573.188 384.245 573.639 385.136 Q574.096 386.022 574.999 386.022 Q575.907 386.022 576.359 385.136 Q576.816 384.245 576.816 382.469 Q576.816 380.686 576.359 379.801 Q575.907 378.91 574.999 378.91 M574.999 377.984 Q576.451 377.984 577.215 379.135 Q577.985 380.281 577.985 382.469 Q577.985 384.65 577.215 385.802 Q576.451 386.948 574.999 386.948 Q573.546 386.948 572.777 385.802 Q572.013 384.65 572.013 382.469 Q572.013 380.281 572.777 379.135 Q573.546 377.984 574.999 377.984 Z\" fill=\"#000000\" fill-rule=\"evenodd\" fill-opacity=\"1\" /><polyline clip-path=\"url(#clip702)\" style=\"stroke:#000000; stroke-width:0.5; stroke-opacity:0.1; fill:none\" points=\"\n",
       "  44.9134,331.659 588.189,331.659 \n",
       "  \"/>\n",
       "<polyline clip-path=\"url(#clip702)\" style=\"stroke:#000000; stroke-width:0.5; stroke-opacity:0.1; fill:none\" points=\"\n",
       "  44.9134,282.457 588.189,282.457 \n",
       "  \"/>\n",
       "<polyline clip-path=\"url(#clip702)\" style=\"stroke:#000000; stroke-width:0.5; stroke-opacity:0.1; fill:none\" points=\"\n",
       "  44.9134,233.256 588.189,233.256 \n",
       "  \"/>\n",
       "<polyline clip-path=\"url(#clip702)\" style=\"stroke:#000000; stroke-width:0.5; stroke-opacity:0.1; fill:none\" points=\"\n",
       "  44.9134,184.054 588.189,184.054 \n",
       "  \"/>\n",
       "<polyline clip-path=\"url(#clip702)\" style=\"stroke:#000000; stroke-width:0.5; stroke-opacity:0.1; fill:none\" points=\"\n",
       "  44.9134,134.852 588.189,134.852 \n",
       "  \"/>\n",
       "<polyline clip-path=\"url(#clip702)\" style=\"stroke:#000000; stroke-width:0.5; stroke-opacity:0.1; fill:none\" points=\"\n",
       "  44.9134,85.6504 588.189,85.6504 \n",
       "  \"/>\n",
       "<polyline clip-path=\"url(#clip702)\" style=\"stroke:#000000; stroke-width:0.5; stroke-opacity:0.1; fill:none\" points=\"\n",
       "  44.9134,36.4487 588.189,36.4487 \n",
       "  \"/>\n",
       "<polyline clip-path=\"url(#clip700)\" style=\"stroke:#000000; stroke-width:1; stroke-opacity:1; fill:none\" points=\"\n",
       "  44.9134,371.612 44.9134,11.811 \n",
       "  \"/>\n",
       "<polyline clip-path=\"url(#clip700)\" style=\"stroke:#000000; stroke-width:1; stroke-opacity:1; fill:none\" points=\"\n",
       "  44.9134,331.659 51.4327,331.659 \n",
       "  \"/>\n",
       "<polyline clip-path=\"url(#clip700)\" style=\"stroke:#000000; stroke-width:1; stroke-opacity:1; fill:none\" points=\"\n",
       "  44.9134,282.457 51.4327,282.457 \n",
       "  \"/>\n",
       "<polyline clip-path=\"url(#clip700)\" style=\"stroke:#000000; stroke-width:1; stroke-opacity:1; fill:none\" points=\"\n",
       "  44.9134,233.256 51.4327,233.256 \n",
       "  \"/>\n",
       "<polyline clip-path=\"url(#clip700)\" style=\"stroke:#000000; stroke-width:1; stroke-opacity:1; fill:none\" points=\"\n",
       "  44.9134,184.054 51.4327,184.054 \n",
       "  \"/>\n",
       "<polyline clip-path=\"url(#clip700)\" style=\"stroke:#000000; stroke-width:1; stroke-opacity:1; fill:none\" points=\"\n",
       "  44.9134,134.852 51.4327,134.852 \n",
       "  \"/>\n",
       "<polyline clip-path=\"url(#clip700)\" style=\"stroke:#000000; stroke-width:1; stroke-opacity:1; fill:none\" points=\"\n",
       "  44.9134,85.6504 51.4327,85.6504 \n",
       "  \"/>\n",
       "<polyline clip-path=\"url(#clip700)\" style=\"stroke:#000000; stroke-width:1; stroke-opacity:1; fill:none\" points=\"\n",
       "  44.9134,36.4487 51.4327,36.4487 \n",
       "  \"/>\n",
       "<path clip-path=\"url(#clip700)\" d=\"M 0 0 M13.0547 331.772 L20.4737 331.772 L20.4737 332.756 L13.0547 332.756 L13.0547 331.772 Z\" fill=\"#000000\" fill-rule=\"evenodd\" fill-opacity=\"1\" /><path clip-path=\"url(#clip700)\" d=\"M 0 0 M21.9436 334.995 L23.8533 334.995 L23.8533 328.404 L21.7758 328.821 L21.7758 327.756 L23.8417 327.339 L25.0107 327.339 L25.0107 334.995 L26.9204 334.995 L26.9204 335.979 L21.9436 335.979 L21.9436 334.995 Z\" fill=\"#000000\" fill-rule=\"evenodd\" fill-opacity=\"1\" /><path clip-path=\"url(#clip700)\" d=\"M 0 0 M28.1878 334.509 L29.4088 334.509 L29.4088 335.979 L28.1878 335.979 L28.1878 334.509 Z\" fill=\"#000000\" fill-rule=\"evenodd\" fill-opacity=\"1\" /><path clip-path=\"url(#clip700)\" d=\"M 0 0 M30.6878 327.339 L35.2768 327.339 L35.2768 328.323 L31.7583 328.323 L31.7583 330.441 Q32.013 330.354 32.2676 330.314 Q32.5222 330.267 32.7769 330.267 Q34.2236 330.267 35.0685 331.06 Q35.9134 331.853 35.9134 333.207 Q35.9134 334.602 35.0454 335.377 Q34.1773 336.147 32.5975 336.147 Q32.0535 336.147 31.4864 336.054 Q30.925 335.962 30.3232 335.777 L30.3232 334.602 Q30.844 334.885 31.3996 335.024 Q31.9551 335.163 32.5743 335.163 Q33.5755 335.163 34.16 334.636 Q34.7444 334.11 34.7444 333.207 Q34.7444 332.304 34.16 331.778 Q33.5755 331.251 32.5743 331.251 Q32.1056 331.251 31.6368 331.355 Q31.1739 331.459 30.6878 331.679 L30.6878 327.339 Z\" fill=\"#000000\" fill-rule=\"evenodd\" fill-opacity=\"1\" /><path clip-path=\"url(#clip700)\" d=\"M 0 0 M12.8059 282.57 L20.2248 282.57 L20.2248 283.554 L12.8059 283.554 L12.8059 282.57 Z\" fill=\"#000000\" fill-rule=\"evenodd\" fill-opacity=\"1\" /><path clip-path=\"url(#clip700)\" d=\"M 0 0 M21.6947 285.794 L23.6045 285.794 L23.6045 279.202 L21.5269 279.619 L21.5269 278.554 L23.5929 278.137 L24.7619 278.137 L24.7619 285.794 L26.6716 285.794 L26.6716 286.777 L21.6947 286.777 L21.6947 285.794 Z\" fill=\"#000000\" fill-rule=\"evenodd\" fill-opacity=\"1\" /><path clip-path=\"url(#clip700)\" d=\"M 0 0 M27.9389 285.307 L29.16 285.307 L29.16 286.777 L27.9389 286.777 L27.9389 285.307 Z\" fill=\"#000000\" fill-rule=\"evenodd\" fill-opacity=\"1\" /><path clip-path=\"url(#clip700)\" d=\"M 0 0 M32.9273 278.907 Q32.0245 278.907 31.5674 279.798 Q31.116 280.684 31.116 282.466 Q31.116 284.243 31.5674 285.134 Q32.0245 286.019 32.9273 286.019 Q33.8359 286.019 34.2873 285.134 Q34.7444 284.243 34.7444 282.466 Q34.7444 280.684 34.2873 279.798 Q33.8359 278.907 32.9273 278.907 M32.9273 277.981 Q34.3799 277.981 35.1437 279.133 Q35.9134 280.279 35.9134 282.466 Q35.9134 284.648 35.1437 285.799 Q34.3799 286.945 32.9273 286.945 Q31.4748 286.945 30.7051 285.799 Q29.9412 284.648 29.9412 282.466 Q29.9412 280.279 30.7051 279.133 Q31.4748 277.981 32.9273 277.981 Z\" fill=\"#000000\" fill-rule=\"evenodd\" fill-opacity=\"1\" /><path clip-path=\"url(#clip700)\" d=\"M 0 0 M12.748 233.368 L20.167 233.368 L20.167 234.352 L12.748 234.352 L12.748 233.368 Z\" fill=\"#000000\" fill-rule=\"evenodd\" fill-opacity=\"1\" /><path clip-path=\"url(#clip700)\" d=\"M 0 0 M23.9343 229.705 Q23.0315 229.705 22.5744 230.596 Q22.123 231.482 22.123 233.264 Q22.123 235.041 22.5744 235.932 Q23.0315 236.818 23.9343 236.818 Q24.8429 236.818 25.2943 235.932 Q25.7514 235.041 25.7514 233.264 Q25.7514 231.482 25.2943 230.596 Q24.8429 229.705 23.9343 229.705 M23.9343 228.779 Q25.3869 228.779 26.1507 229.931 Q26.9204 231.077 26.9204 233.264 Q26.9204 235.446 26.1507 236.598 Q25.3869 237.743 23.9343 237.743 Q22.4818 237.743 21.7121 236.598 Q20.9482 235.446 20.9482 233.264 Q20.9482 231.077 21.7121 229.931 Q22.4818 228.779 23.9343 228.779 Z\" fill=\"#000000\" fill-rule=\"evenodd\" fill-opacity=\"1\" /><path clip-path=\"url(#clip700)\" d=\"M 0 0 M28.1878 236.106 L29.4088 236.106 L29.4088 237.576 L28.1878 237.576 L28.1878 236.106 Z\" fill=\"#000000\" fill-rule=\"evenodd\" fill-opacity=\"1\" /><path clip-path=\"url(#clip700)\" d=\"M 0 0 M30.6878 228.936 L35.2768 228.936 L35.2768 229.919 L31.7583 229.919 L31.7583 232.037 Q32.013 231.951 32.2676 231.91 Q32.5222 231.864 32.7769 231.864 Q34.2236 231.864 35.0685 232.657 Q35.9134 233.449 35.9134 234.804 Q35.9134 236.198 35.0454 236.974 Q34.1773 237.743 32.5975 237.743 Q32.0535 237.743 31.4864 237.651 Q30.925 237.558 30.3232 237.373 L30.3232 236.198 Q30.844 236.482 31.3996 236.621 Q31.9551 236.76 32.5743 236.76 Q33.5755 236.76 34.16 236.233 Q34.7444 235.706 34.7444 234.804 Q34.7444 233.901 34.16 233.374 Q33.5755 232.848 32.5743 232.848 Q32.1056 232.848 31.6368 232.952 Q31.1739 233.056 30.6878 233.276 L30.6878 228.936 Z\" fill=\"#000000\" fill-rule=\"evenodd\" fill-opacity=\"1\" /><path clip-path=\"url(#clip700)\" d=\"M 0 0 M23.6855 180.504 Q22.7827 180.504 22.3255 181.395 Q21.8741 182.28 21.8741 184.063 Q21.8741 185.839 22.3255 186.73 Q22.7827 187.616 23.6855 187.616 Q24.594 187.616 25.0454 186.73 Q25.5026 185.839 25.5026 184.063 Q25.5026 182.28 25.0454 181.395 Q24.594 180.504 23.6855 180.504 M23.6855 179.578 Q25.138 179.578 25.9019 180.729 Q26.6716 181.875 26.6716 184.063 Q26.6716 186.244 25.9019 187.396 Q25.138 188.542 23.6855 188.542 Q22.2329 188.542 21.4633 187.396 Q20.6994 186.244 20.6994 184.063 Q20.6994 181.875 21.4633 180.729 Q22.2329 179.578 23.6855 179.578 Z\" fill=\"#000000\" fill-rule=\"evenodd\" fill-opacity=\"1\" /><path clip-path=\"url(#clip700)\" d=\"M 0 0 M27.9389 186.904 L29.16 186.904 L29.16 188.374 L27.9389 188.374 L27.9389 186.904 Z\" fill=\"#000000\" fill-rule=\"evenodd\" fill-opacity=\"1\" /><path clip-path=\"url(#clip700)\" d=\"M 0 0 M32.9273 180.504 Q32.0245 180.504 31.5674 181.395 Q31.116 182.28 31.116 184.063 Q31.116 185.839 31.5674 186.73 Q32.0245 187.616 32.9273 187.616 Q33.8359 187.616 34.2873 186.73 Q34.7444 185.839 34.7444 184.063 Q34.7444 182.28 34.2873 181.395 Q33.8359 180.504 32.9273 180.504 M32.9273 179.578 Q34.3799 179.578 35.1437 180.729 Q35.9134 181.875 35.9134 184.063 Q35.9134 186.244 35.1437 187.396 Q34.3799 188.542 32.9273 188.542 Q31.4748 188.542 30.7051 187.396 Q29.9412 186.244 29.9412 184.063 Q29.9412 181.875 30.7051 180.729 Q31.4748 179.578 32.9273 179.578 Z\" fill=\"#000000\" fill-rule=\"evenodd\" fill-opacity=\"1\" /><path clip-path=\"url(#clip700)\" d=\"M 0 0 M23.9343 131.302 Q23.0315 131.302 22.5744 132.193 Q22.123 133.078 22.123 134.861 Q22.123 136.637 22.5744 137.529 Q23.0315 138.414 23.9343 138.414 Q24.8429 138.414 25.2943 137.529 Q25.7514 136.637 25.7514 134.861 Q25.7514 133.078 25.2943 132.193 Q24.8429 131.302 23.9343 131.302 M23.9343 130.376 Q25.3869 130.376 26.1507 131.528 Q26.9204 132.673 26.9204 134.861 Q26.9204 137.043 26.1507 138.194 Q25.3869 139.34 23.9343 139.34 Q22.4818 139.34 21.7121 138.194 Q20.9482 137.043 20.9482 134.861 Q20.9482 132.673 21.7121 131.528 Q22.4818 130.376 23.9343 130.376 Z\" fill=\"#000000\" fill-rule=\"evenodd\" fill-opacity=\"1\" /><path clip-path=\"url(#clip700)\" d=\"M 0 0 M28.1878 137.702 L29.4088 137.702 L29.4088 139.172 L28.1878 139.172 L28.1878 137.702 Z\" fill=\"#000000\" fill-rule=\"evenodd\" fill-opacity=\"1\" /><path clip-path=\"url(#clip700)\" d=\"M 0 0 M30.6878 130.532 L35.2768 130.532 L35.2768 131.516 L31.7583 131.516 L31.7583 133.634 Q32.013 133.547 32.2676 133.507 Q32.5222 133.46 32.7769 133.46 Q34.2236 133.46 35.0685 134.253 Q35.9134 135.046 35.9134 136.4 Q35.9134 137.795 35.0454 138.57 Q34.1773 139.34 32.5975 139.34 Q32.0535 139.34 31.4864 139.247 Q30.925 139.155 30.3232 138.97 L30.3232 137.795 Q30.844 138.078 31.3996 138.217 Q31.9551 138.356 32.5743 138.356 Q33.5755 138.356 34.16 137.83 Q34.7444 137.303 34.7444 136.4 Q34.7444 135.497 34.16 134.971 Q33.5755 134.444 32.5743 134.444 Q32.1056 134.444 31.6368 134.548 Q31.1739 134.653 30.6878 134.872 L30.6878 130.532 Z\" fill=\"#000000\" fill-rule=\"evenodd\" fill-opacity=\"1\" /><path clip-path=\"url(#clip700)\" d=\"M 0 0 M21.6947 88.9866 L23.6045 88.9866 L23.6045 82.3952 L21.5269 82.8119 L21.5269 81.7471 L23.5929 81.3304 L24.7619 81.3304 L24.7619 88.9866 L26.6716 88.9866 L26.6716 89.9704 L21.6947 89.9704 L21.6947 88.9866 Z\" fill=\"#000000\" fill-rule=\"evenodd\" fill-opacity=\"1\" /><path clip-path=\"url(#clip700)\" d=\"M 0 0 M27.9389 88.5005 L29.16 88.5005 L29.16 89.9704 L27.9389 89.9704 L27.9389 88.5005 Z\" fill=\"#000000\" fill-rule=\"evenodd\" fill-opacity=\"1\" /><path clip-path=\"url(#clip700)\" d=\"M 0 0 M32.9273 82.1001 Q32.0245 82.1001 31.5674 82.9913 Q31.116 83.8767 31.116 85.6591 Q31.116 87.4357 31.5674 88.3269 Q32.0245 89.2123 32.9273 89.2123 Q33.8359 89.2123 34.2873 88.3269 Q34.7444 87.4357 34.7444 85.6591 Q34.7444 83.8767 34.2873 82.9913 Q33.8359 82.1001 32.9273 82.1001 M32.9273 81.1742 Q34.3799 81.1742 35.1437 82.3258 Q35.9134 83.4716 35.9134 85.6591 Q35.9134 87.8408 35.1437 88.9924 Q34.3799 90.1383 32.9273 90.1383 Q31.4748 90.1383 30.7051 88.9924 Q29.9412 87.8408 29.9412 85.6591 Q29.9412 83.4716 30.7051 82.3258 Q31.4748 81.1742 32.9273 81.1742 Z\" fill=\"#000000\" fill-rule=\"evenodd\" fill-opacity=\"1\" /><path clip-path=\"url(#clip700)\" d=\"M 0 0 M21.9436 39.7849 L23.8533 39.7849 L23.8533 33.1935 L21.7758 33.6102 L21.7758 32.5454 L23.8417 32.1287 L25.0107 32.1287 L25.0107 39.7849 L26.9204 39.7849 L26.9204 40.7687 L21.9436 40.7687 L21.9436 39.7849 Z\" fill=\"#000000\" fill-rule=\"evenodd\" fill-opacity=\"1\" /><path clip-path=\"url(#clip700)\" d=\"M 0 0 M28.1878 39.2988 L29.4088 39.2988 L29.4088 40.7687 L28.1878 40.7687 L28.1878 39.2988 Z\" fill=\"#000000\" fill-rule=\"evenodd\" fill-opacity=\"1\" /><path clip-path=\"url(#clip700)\" d=\"M 0 0 M30.6878 32.1287 L35.2768 32.1287 L35.2768 33.1125 L31.7583 33.1125 L31.7583 35.2305 Q32.013 35.1437 32.2676 35.1032 Q32.5222 35.0569 32.7769 35.0569 Q34.2236 35.0569 35.0685 35.8498 Q35.9134 36.6426 35.9134 37.9967 Q35.9134 39.3914 35.0454 40.1669 Q34.1773 40.9365 32.5975 40.9365 Q32.0535 40.9365 31.4864 40.8439 Q30.925 40.7513 30.3232 40.5662 L30.3232 39.3914 Q30.844 39.675 31.3996 39.8138 Q31.9551 39.9527 32.5743 39.9527 Q33.5755 39.9527 34.16 39.4261 Q34.7444 38.8995 34.7444 37.9967 Q34.7444 37.094 34.16 36.5673 Q33.5755 36.0407 32.5743 36.0407 Q32.1056 36.0407 31.6368 36.1449 Q31.1739 36.2491 30.6878 36.469 L30.6878 32.1287 Z\" fill=\"#000000\" fill-rule=\"evenodd\" fill-opacity=\"1\" /><circle clip-path=\"url(#clip702)\" cx=\"180.873\" cy=\"165.641\" r=\"3\" fill=\"#009af9\" fill-rule=\"evenodd\" fill-opacity=\"1\" stroke=\"#000000\" stroke-opacity=\"1\" stroke-width=\"0.8\"/>\n",
       "<circle clip-path=\"url(#clip702)\" cx=\"157.34\" cy=\"167.132\" r=\"3\" fill=\"#009af9\" fill-rule=\"evenodd\" fill-opacity=\"1\" stroke=\"#000000\" stroke-opacity=\"1\" stroke-width=\"0.8\"/>\n",
       "<circle clip-path=\"url(#clip702)\" cx=\"279.078\" cy=\"198.833\" r=\"3\" fill=\"#009af9\" fill-rule=\"evenodd\" fill-opacity=\"1\" stroke=\"#000000\" stroke-opacity=\"1\" stroke-width=\"0.8\"/>\n",
       "<circle clip-path=\"url(#clip702)\" cx=\"92.0418\" cy=\"190.636\" r=\"3\" fill=\"#009af9\" fill-rule=\"evenodd\" fill-opacity=\"1\" stroke=\"#000000\" stroke-opacity=\"1\" stroke-width=\"0.8\"/>\n",
       "<circle clip-path=\"url(#clip702)\" cx=\"253.073\" cy=\"201.54\" r=\"3\" fill=\"#009af9\" fill-rule=\"evenodd\" fill-opacity=\"1\" stroke=\"#000000\" stroke-opacity=\"1\" stroke-width=\"0.8\"/>\n",
       "<circle clip-path=\"url(#clip702)\" cx=\"120.079\" cy=\"221.098\" r=\"3\" fill=\"#009af9\" fill-rule=\"evenodd\" fill-opacity=\"1\" stroke=\"#000000\" stroke-opacity=\"1\" stroke-width=\"0.8\"/>\n",
       "<circle clip-path=\"url(#clip702)\" cx=\"174.35\" cy=\"150.79\" r=\"3\" fill=\"#009af9\" fill-rule=\"evenodd\" fill-opacity=\"1\" stroke=\"#000000\" stroke-opacity=\"1\" stroke-width=\"0.8\"/>\n",
       "<circle clip-path=\"url(#clip702)\" cx=\"146.644\" cy=\"159.873\" r=\"3\" fill=\"#009af9\" fill-rule=\"evenodd\" fill-opacity=\"1\" stroke=\"#000000\" stroke-opacity=\"1\" stroke-width=\"0.8\"/>\n",
       "<circle clip-path=\"url(#clip702)\" cx=\"179.182\" cy=\"183.362\" r=\"3\" fill=\"#009af9\" fill-rule=\"evenodd\" fill-opacity=\"1\" stroke=\"#000000\" stroke-opacity=\"1\" stroke-width=\"0.8\"/>\n",
       "<circle clip-path=\"url(#clip702)\" cx=\"204.748\" cy=\"234.708\" r=\"3\" fill=\"#009af9\" fill-rule=\"evenodd\" fill-opacity=\"1\" stroke=\"#000000\" stroke-opacity=\"1\" stroke-width=\"0.8\"/>\n",
       "<circle clip-path=\"url(#clip702)\" cx=\"134.432\" cy=\"216.052\" r=\"3\" fill=\"#009af9\" fill-rule=\"evenodd\" fill-opacity=\"1\" stroke=\"#000000\" stroke-opacity=\"1\" stroke-width=\"0.8\"/>\n",
       "<circle clip-path=\"url(#clip702)\" cx=\"185.634\" cy=\"193.464\" r=\"3\" fill=\"#009af9\" fill-rule=\"evenodd\" fill-opacity=\"1\" stroke=\"#000000\" stroke-opacity=\"1\" stroke-width=\"0.8\"/>\n",
       "<circle clip-path=\"url(#clip702)\" cx=\"172.514\" cy=\"153.3\" r=\"3\" fill=\"#009af9\" fill-rule=\"evenodd\" fill-opacity=\"1\" stroke=\"#000000\" stroke-opacity=\"1\" stroke-width=\"0.8\"/>\n",
       "<circle clip-path=\"url(#clip702)\" cx=\"113.741\" cy=\"180.363\" r=\"3\" fill=\"#009af9\" fill-rule=\"evenodd\" fill-opacity=\"1\" stroke=\"#000000\" stroke-opacity=\"1\" stroke-width=\"0.8\"/>\n",
       "<circle clip-path=\"url(#clip702)\" cx=\"268.379\" cy=\"206.345\" r=\"3\" fill=\"#009af9\" fill-rule=\"evenodd\" fill-opacity=\"1\" stroke=\"#000000\" stroke-opacity=\"1\" stroke-width=\"0.8\"/>\n",
       "<circle clip-path=\"url(#clip702)\" cx=\"149.319\" cy=\"205.033\" r=\"3\" fill=\"#009af9\" fill-rule=\"evenodd\" fill-opacity=\"1\" stroke=\"#000000\" stroke-opacity=\"1\" stroke-width=\"0.8\"/>\n",
       "<circle clip-path=\"url(#clip702)\" cx=\"150.464\" cy=\"224.528\" r=\"3\" fill=\"#009af9\" fill-rule=\"evenodd\" fill-opacity=\"1\" stroke=\"#000000\" stroke-opacity=\"1\" stroke-width=\"0.8\"/>\n",
       "<circle clip-path=\"url(#clip702)\" cx=\"185.889\" cy=\"173.837\" r=\"3\" fill=\"#009af9\" fill-rule=\"evenodd\" fill-opacity=\"1\" stroke=\"#000000\" stroke-opacity=\"1\" stroke-width=\"0.8\"/>\n",
       "<circle clip-path=\"url(#clip702)\" cx=\"117.075\" cy=\"201.363\" r=\"3\" fill=\"#009af9\" fill-rule=\"evenodd\" fill-opacity=\"1\" stroke=\"#000000\" stroke-opacity=\"1\" stroke-width=\"0.8\"/>\n",
       "<circle clip-path=\"url(#clip702)\" cx=\"281.754\" cy=\"136.922\" r=\"3\" fill=\"#009af9\" fill-rule=\"evenodd\" fill-opacity=\"1\" stroke=\"#000000\" stroke-opacity=\"1\" stroke-width=\"0.8\"/>\n",
       "<circle clip-path=\"url(#clip702)\" cx=\"255.78\" cy=\"224.299\" r=\"3\" fill=\"#009af9\" fill-rule=\"evenodd\" fill-opacity=\"1\" stroke=\"#000000\" stroke-opacity=\"1\" stroke-width=\"0.8\"/>\n",
       "<circle clip-path=\"url(#clip702)\" cx=\"176.388\" cy=\"191.919\" r=\"3\" fill=\"#009af9\" fill-rule=\"evenodd\" fill-opacity=\"1\" stroke=\"#000000\" stroke-opacity=\"1\" stroke-width=\"0.8\"/>\n",
       "<circle clip-path=\"url(#clip702)\" cx=\"141.159\" cy=\"145.76\" r=\"3\" fill=\"#009af9\" fill-rule=\"evenodd\" fill-opacity=\"1\" stroke=\"#000000\" stroke-opacity=\"1\" stroke-width=\"0.8\"/>\n",
       "<circle clip-path=\"url(#clip702)\" cx=\"149.324\" cy=\"221.874\" r=\"3\" fill=\"#009af9\" fill-rule=\"evenodd\" fill-opacity=\"1\" stroke=\"#000000\" stroke-opacity=\"1\" stroke-width=\"0.8\"/>\n",
       "<circle clip-path=\"url(#clip702)\" cx=\"104.09\" cy=\"144.19\" r=\"3\" fill=\"#009af9\" fill-rule=\"evenodd\" fill-opacity=\"1\" stroke=\"#000000\" stroke-opacity=\"1\" stroke-width=\"0.8\"/>\n",
       "<circle clip-path=\"url(#clip702)\" cx=\"223.085\" cy=\"171.034\" r=\"3\" fill=\"#009af9\" fill-rule=\"evenodd\" fill-opacity=\"1\" stroke=\"#000000\" stroke-opacity=\"1\" stroke-width=\"0.8\"/>\n",
       "<circle clip-path=\"url(#clip702)\" cx=\"84.8488\" cy=\"147.454\" r=\"3\" fill=\"#009af9\" fill-rule=\"evenodd\" fill-opacity=\"1\" stroke=\"#000000\" stroke-opacity=\"1\" stroke-width=\"0.8\"/>\n",
       "<circle clip-path=\"url(#clip702)\" cx=\"175.241\" cy=\"134.401\" r=\"3\" fill=\"#009af9\" fill-rule=\"evenodd\" fill-opacity=\"1\" stroke=\"#000000\" stroke-opacity=\"1\" stroke-width=\"0.8\"/>\n",
       "<circle clip-path=\"url(#clip702)\" cx=\"193.395\" cy=\"180.312\" r=\"3\" fill=\"#009af9\" fill-rule=\"evenodd\" fill-opacity=\"1\" stroke=\"#000000\" stroke-opacity=\"1\" stroke-width=\"0.8\"/>\n",
       "<circle clip-path=\"url(#clip702)\" cx=\"274.826\" cy=\"187.474\" r=\"3\" fill=\"#009af9\" fill-rule=\"evenodd\" fill-opacity=\"1\" stroke=\"#000000\" stroke-opacity=\"1\" stroke-width=\"0.8\"/>\n",
       "<circle clip-path=\"url(#clip702)\" cx=\"217.744\" cy=\"182.563\" r=\"3\" fill=\"#009af9\" fill-rule=\"evenodd\" fill-opacity=\"1\" stroke=\"#000000\" stroke-opacity=\"1\" stroke-width=\"0.8\"/>\n",
       "<circle clip-path=\"url(#clip702)\" cx=\"164.965\" cy=\"219\" r=\"3\" fill=\"#009af9\" fill-rule=\"evenodd\" fill-opacity=\"1\" stroke=\"#000000\" stroke-opacity=\"1\" stroke-width=\"0.8\"/>\n",
       "<circle clip-path=\"url(#clip702)\" cx=\"78.1215\" cy=\"124.712\" r=\"3\" fill=\"#009af9\" fill-rule=\"evenodd\" fill-opacity=\"1\" stroke=\"#000000\" stroke-opacity=\"1\" stroke-width=\"0.8\"/>\n",
       "<circle clip-path=\"url(#clip702)\" cx=\"167.971\" cy=\"165.377\" r=\"3\" fill=\"#009af9\" fill-rule=\"evenodd\" fill-opacity=\"1\" stroke=\"#000000\" stroke-opacity=\"1\" stroke-width=\"0.8\"/>\n",
       "<circle clip-path=\"url(#clip702)\" cx=\"234.297\" cy=\"228.995\" r=\"3\" fill=\"#009af9\" fill-rule=\"evenodd\" fill-opacity=\"1\" stroke=\"#000000\" stroke-opacity=\"1\" stroke-width=\"0.8\"/>\n",
       "<circle clip-path=\"url(#clip702)\" cx=\"162.827\" cy=\"230.98\" r=\"3\" fill=\"#009af9\" fill-rule=\"evenodd\" fill-opacity=\"1\" stroke=\"#000000\" stroke-opacity=\"1\" stroke-width=\"0.8\"/>\n",
       "<circle clip-path=\"url(#clip702)\" cx=\"217.937\" cy=\"189.917\" r=\"3\" fill=\"#009af9\" fill-rule=\"evenodd\" fill-opacity=\"1\" stroke=\"#000000\" stroke-opacity=\"1\" stroke-width=\"0.8\"/>\n",
       "<circle clip-path=\"url(#clip702)\" cx=\"187.431\" cy=\"223.611\" r=\"3\" fill=\"#009af9\" fill-rule=\"evenodd\" fill-opacity=\"1\" stroke=\"#000000\" stroke-opacity=\"1\" stroke-width=\"0.8\"/>\n",
       "<circle clip-path=\"url(#clip702)\" cx=\"171.806\" cy=\"162.231\" r=\"3\" fill=\"#009af9\" fill-rule=\"evenodd\" fill-opacity=\"1\" stroke=\"#000000\" stroke-opacity=\"1\" stroke-width=\"0.8\"/>\n",
       "<circle clip-path=\"url(#clip702)\" cx=\"112.208\" cy=\"227.473\" r=\"3\" fill=\"#009af9\" fill-rule=\"evenodd\" fill-opacity=\"1\" stroke=\"#000000\" stroke-opacity=\"1\" stroke-width=\"0.8\"/>\n",
       "<circle clip-path=\"url(#clip702)\" cx=\"129.927\" cy=\"217.527\" r=\"3\" fill=\"#009af9\" fill-rule=\"evenodd\" fill-opacity=\"1\" stroke=\"#000000\" stroke-opacity=\"1\" stroke-width=\"0.8\"/>\n",
       "<circle clip-path=\"url(#clip702)\" cx=\"155.219\" cy=\"160.633\" r=\"3\" fill=\"#009af9\" fill-rule=\"evenodd\" fill-opacity=\"1\" stroke=\"#000000\" stroke-opacity=\"1\" stroke-width=\"0.8\"/>\n",
       "<circle clip-path=\"url(#clip702)\" cx=\"209.141\" cy=\"220.425\" r=\"3\" fill=\"#009af9\" fill-rule=\"evenodd\" fill-opacity=\"1\" stroke=\"#000000\" stroke-opacity=\"1\" stroke-width=\"0.8\"/>\n",
       "<circle clip-path=\"url(#clip702)\" cx=\"178.166\" cy=\"187.692\" r=\"3\" fill=\"#009af9\" fill-rule=\"evenodd\" fill-opacity=\"1\" stroke=\"#000000\" stroke-opacity=\"1\" stroke-width=\"0.8\"/>\n",
       "<circle clip-path=\"url(#clip702)\" cx=\"149.144\" cy=\"199.805\" r=\"3\" fill=\"#009af9\" fill-rule=\"evenodd\" fill-opacity=\"1\" stroke=\"#000000\" stroke-opacity=\"1\" stroke-width=\"0.8\"/>\n",
       "<circle clip-path=\"url(#clip702)\" cx=\"245.442\" cy=\"260.713\" r=\"3\" fill=\"#009af9\" fill-rule=\"evenodd\" fill-opacity=\"1\" stroke=\"#000000\" stroke-opacity=\"1\" stroke-width=\"0.8\"/>\n",
       "<circle clip-path=\"url(#clip702)\" cx=\"158.419\" cy=\"152.098\" r=\"3\" fill=\"#009af9\" fill-rule=\"evenodd\" fill-opacity=\"1\" stroke=\"#000000\" stroke-opacity=\"1\" stroke-width=\"0.8\"/>\n",
       "<circle clip-path=\"url(#clip702)\" cx=\"179.513\" cy=\"178.105\" r=\"3\" fill=\"#009af9\" fill-rule=\"evenodd\" fill-opacity=\"1\" stroke=\"#000000\" stroke-opacity=\"1\" stroke-width=\"0.8\"/>\n",
       "<circle clip-path=\"url(#clip702)\" cx=\"197.436\" cy=\"204.172\" r=\"3\" fill=\"#009af9\" fill-rule=\"evenodd\" fill-opacity=\"1\" stroke=\"#000000\" stroke-opacity=\"1\" stroke-width=\"0.8\"/>\n",
       "<circle clip-path=\"url(#clip702)\" cx=\"146.713\" cy=\"138.15\" r=\"3\" fill=\"#009af9\" fill-rule=\"evenodd\" fill-opacity=\"1\" stroke=\"#000000\" stroke-opacity=\"1\" stroke-width=\"0.8\"/>\n",
       "<circle clip-path=\"url(#clip702)\" cx=\"137.403\" cy=\"203.661\" r=\"3\" fill=\"#009af9\" fill-rule=\"evenodd\" fill-opacity=\"1\" stroke=\"#000000\" stroke-opacity=\"1\" stroke-width=\"0.8\"/>\n",
       "<circle clip-path=\"url(#clip702)\" cx=\"164.489\" cy=\"151.702\" r=\"3\" fill=\"#009af9\" fill-rule=\"evenodd\" fill-opacity=\"1\" stroke=\"#000000\" stroke-opacity=\"1\" stroke-width=\"0.8\"/>\n",
       "<circle clip-path=\"url(#clip702)\" cx=\"228.683\" cy=\"198.542\" r=\"3\" fill=\"#009af9\" fill-rule=\"evenodd\" fill-opacity=\"1\" stroke=\"#000000\" stroke-opacity=\"1\" stroke-width=\"0.8\"/>\n",
       "<circle clip-path=\"url(#clip702)\" cx=\"135.891\" cy=\"136.323\" r=\"3\" fill=\"#009af9\" fill-rule=\"evenodd\" fill-opacity=\"1\" stroke=\"#000000\" stroke-opacity=\"1\" stroke-width=\"0.8\"/>\n",
       "<circle clip-path=\"url(#clip702)\" cx=\"81.2074\" cy=\"219.946\" r=\"3\" fill=\"#009af9\" fill-rule=\"evenodd\" fill-opacity=\"1\" stroke=\"#000000\" stroke-opacity=\"1\" stroke-width=\"0.8\"/>\n",
       "<circle clip-path=\"url(#clip702)\" cx=\"196.511\" cy=\"219.616\" r=\"3\" fill=\"#009af9\" fill-rule=\"evenodd\" fill-opacity=\"1\" stroke=\"#000000\" stroke-opacity=\"1\" stroke-width=\"0.8\"/>\n",
       "<circle clip-path=\"url(#clip702)\" cx=\"371.333\" cy=\"129.33\" r=\"3\" fill=\"#009af9\" fill-rule=\"evenodd\" fill-opacity=\"1\" stroke=\"#000000\" stroke-opacity=\"1\" stroke-width=\"0.8\"/>\n",
       "<circle clip-path=\"url(#clip702)\" cx=\"179.998\" cy=\"195.428\" r=\"3\" fill=\"#009af9\" fill-rule=\"evenodd\" fill-opacity=\"1\" stroke=\"#000000\" stroke-opacity=\"1\" stroke-width=\"0.8\"/>\n",
       "<circle clip-path=\"url(#clip702)\" cx=\"212.256\" cy=\"190.518\" r=\"3\" fill=\"#009af9\" fill-rule=\"evenodd\" fill-opacity=\"1\" stroke=\"#000000\" stroke-opacity=\"1\" stroke-width=\"0.8\"/>\n",
       "<circle clip-path=\"url(#clip702)\" cx=\"266.096\" cy=\"201.513\" r=\"3\" fill=\"#009af9\" fill-rule=\"evenodd\" fill-opacity=\"1\" stroke=\"#000000\" stroke-opacity=\"1\" stroke-width=\"0.8\"/>\n",
       "<circle clip-path=\"url(#clip702)\" cx=\"60.2891\" cy=\"236.277\" r=\"3\" fill=\"#009af9\" fill-rule=\"evenodd\" fill-opacity=\"1\" stroke=\"#000000\" stroke-opacity=\"1\" stroke-width=\"0.8\"/>\n",
       "<circle clip-path=\"url(#clip702)\" cx=\"247.214\" cy=\"187.987\" r=\"3\" fill=\"#009af9\" fill-rule=\"evenodd\" fill-opacity=\"1\" stroke=\"#000000\" stroke-opacity=\"1\" stroke-width=\"0.8\"/>\n",
       "<circle clip-path=\"url(#clip702)\" cx=\"143.977\" cy=\"233.488\" r=\"3\" fill=\"#009af9\" fill-rule=\"evenodd\" fill-opacity=\"1\" stroke=\"#000000\" stroke-opacity=\"1\" stroke-width=\"0.8\"/>\n",
       "<circle clip-path=\"url(#clip702)\" cx=\"141.825\" cy=\"179.675\" r=\"3\" fill=\"#009af9\" fill-rule=\"evenodd\" fill-opacity=\"1\" stroke=\"#000000\" stroke-opacity=\"1\" stroke-width=\"0.8\"/>\n",
       "<circle clip-path=\"url(#clip702)\" cx=\"216.716\" cy=\"162.034\" r=\"3\" fill=\"#009af9\" fill-rule=\"evenodd\" fill-opacity=\"1\" stroke=\"#000000\" stroke-opacity=\"1\" stroke-width=\"0.8\"/>\n",
       "<circle clip-path=\"url(#clip702)\" cx=\"236.628\" cy=\"209.363\" r=\"3\" fill=\"#009af9\" fill-rule=\"evenodd\" fill-opacity=\"1\" stroke=\"#000000\" stroke-opacity=\"1\" stroke-width=\"0.8\"/>\n",
       "<circle clip-path=\"url(#clip702)\" cx=\"268.669\" cy=\"223.412\" r=\"3\" fill=\"#009af9\" fill-rule=\"evenodd\" fill-opacity=\"1\" stroke=\"#000000\" stroke-opacity=\"1\" stroke-width=\"0.8\"/>\n",
       "<circle clip-path=\"url(#clip702)\" cx=\"123.87\" cy=\"281.759\" r=\"3\" fill=\"#009af9\" fill-rule=\"evenodd\" fill-opacity=\"1\" stroke=\"#000000\" stroke-opacity=\"1\" stroke-width=\"0.8\"/>\n",
       "<circle clip-path=\"url(#clip702)\" cx=\"289.415\" cy=\"178.239\" r=\"3\" fill=\"#009af9\" fill-rule=\"evenodd\" fill-opacity=\"1\" stroke=\"#000000\" stroke-opacity=\"1\" stroke-width=\"0.8\"/>\n",
       "<circle clip-path=\"url(#clip702)\" cx=\"247.013\" cy=\"246.287\" r=\"3\" fill=\"#009af9\" fill-rule=\"evenodd\" fill-opacity=\"1\" stroke=\"#000000\" stroke-opacity=\"1\" stroke-width=\"0.8\"/>\n",
       "<circle clip-path=\"url(#clip702)\" cx=\"150.137\" cy=\"194.495\" r=\"3\" fill=\"#009af9\" fill-rule=\"evenodd\" fill-opacity=\"1\" stroke=\"#000000\" stroke-opacity=\"1\" stroke-width=\"0.8\"/>\n",
       "<circle clip-path=\"url(#clip702)\" cx=\"193.564\" cy=\"171.363\" r=\"3\" fill=\"#009af9\" fill-rule=\"evenodd\" fill-opacity=\"1\" stroke=\"#000000\" stroke-opacity=\"1\" stroke-width=\"0.8\"/>\n",
       "<circle clip-path=\"url(#clip702)\" cx=\"120.981\" cy=\"170.878\" r=\"3\" fill=\"#009af9\" fill-rule=\"evenodd\" fill-opacity=\"1\" stroke=\"#000000\" stroke-opacity=\"1\" stroke-width=\"0.8\"/>\n",
       "<circle clip-path=\"url(#clip702)\" cx=\"85.4767\" cy=\"194.398\" r=\"3\" fill=\"#009af9\" fill-rule=\"evenodd\" fill-opacity=\"1\" stroke=\"#000000\" stroke-opacity=\"1\" stroke-width=\"0.8\"/>\n",
       "<circle clip-path=\"url(#clip702)\" cx=\"117.379\" cy=\"167.985\" r=\"3\" fill=\"#009af9\" fill-rule=\"evenodd\" fill-opacity=\"1\" stroke=\"#000000\" stroke-opacity=\"1\" stroke-width=\"0.8\"/>\n",
       "<circle clip-path=\"url(#clip702)\" cx=\"143.461\" cy=\"159.144\" r=\"3\" fill=\"#009af9\" fill-rule=\"evenodd\" fill-opacity=\"1\" stroke=\"#000000\" stroke-opacity=\"1\" stroke-width=\"0.8\"/>\n",
       "<circle clip-path=\"url(#clip702)\" cx=\"123.871\" cy=\"218.056\" r=\"3\" fill=\"#009af9\" fill-rule=\"evenodd\" fill-opacity=\"1\" stroke=\"#000000\" stroke-opacity=\"1\" stroke-width=\"0.8\"/>\n",
       "<circle clip-path=\"url(#clip702)\" cx=\"114.219\" cy=\"181.157\" r=\"3\" fill=\"#009af9\" fill-rule=\"evenodd\" fill-opacity=\"1\" stroke=\"#000000\" stroke-opacity=\"1\" stroke-width=\"0.8\"/>\n",
       "<circle clip-path=\"url(#clip702)\" cx=\"130.963\" cy=\"153.795\" r=\"3\" fill=\"#009af9\" fill-rule=\"evenodd\" fill-opacity=\"1\" stroke=\"#000000\" stroke-opacity=\"1\" stroke-width=\"0.8\"/>\n",
       "<circle clip-path=\"url(#clip702)\" cx=\"180.114\" cy=\"169.681\" r=\"3\" fill=\"#009af9\" fill-rule=\"evenodd\" fill-opacity=\"1\" stroke=\"#000000\" stroke-opacity=\"1\" stroke-width=\"0.8\"/>\n",
       "<circle clip-path=\"url(#clip702)\" cx=\"93.7063\" cy=\"167.603\" r=\"3\" fill=\"#009af9\" fill-rule=\"evenodd\" fill-opacity=\"1\" stroke=\"#000000\" stroke-opacity=\"1\" stroke-width=\"0.8\"/>\n",
       "<circle clip-path=\"url(#clip702)\" cx=\"163.766\" cy=\"149.539\" r=\"3\" fill=\"#009af9\" fill-rule=\"evenodd\" fill-opacity=\"1\" stroke=\"#000000\" stroke-opacity=\"1\" stroke-width=\"0.8\"/>\n",
       "<circle clip-path=\"url(#clip702)\" cx=\"173.021\" cy=\"197.836\" r=\"3\" fill=\"#009af9\" fill-rule=\"evenodd\" fill-opacity=\"1\" stroke=\"#000000\" stroke-opacity=\"1\" stroke-width=\"0.8\"/>\n",
       "<circle clip-path=\"url(#clip702)\" cx=\"204.67\" cy=\"188.478\" r=\"3\" fill=\"#009af9\" fill-rule=\"evenodd\" fill-opacity=\"1\" stroke=\"#000000\" stroke-opacity=\"1\" stroke-width=\"0.8\"/>\n",
       "<circle clip-path=\"url(#clip702)\" cx=\"217.583\" cy=\"159.233\" r=\"3\" fill=\"#009af9\" fill-rule=\"evenodd\" fill-opacity=\"1\" stroke=\"#000000\" stroke-opacity=\"1\" stroke-width=\"0.8\"/>\n",
       "<circle clip-path=\"url(#clip702)\" cx=\"228.507\" cy=\"170.518\" r=\"3\" fill=\"#009af9\" fill-rule=\"evenodd\" fill-opacity=\"1\" stroke=\"#000000\" stroke-opacity=\"1\" stroke-width=\"0.8\"/>\n",
       "<circle clip-path=\"url(#clip702)\" cx=\"224.719\" cy=\"187.357\" r=\"3\" fill=\"#009af9\" fill-rule=\"evenodd\" fill-opacity=\"1\" stroke=\"#000000\" stroke-opacity=\"1\" stroke-width=\"0.8\"/>\n",
       "<circle clip-path=\"url(#clip702)\" cx=\"74.0557\" cy=\"250.921\" r=\"3\" fill=\"#009af9\" fill-rule=\"evenodd\" fill-opacity=\"1\" stroke=\"#000000\" stroke-opacity=\"1\" stroke-width=\"0.8\"/>\n",
       "<circle clip-path=\"url(#clip702)\" cx=\"193.865\" cy=\"159.23\" r=\"3\" fill=\"#009af9\" fill-rule=\"evenodd\" fill-opacity=\"1\" stroke=\"#000000\" stroke-opacity=\"1\" stroke-width=\"0.8\"/>\n",
       "<circle clip-path=\"url(#clip702)\" cx=\"108.061\" cy=\"184.231\" r=\"3\" fill=\"#009af9\" fill-rule=\"evenodd\" fill-opacity=\"1\" stroke=\"#000000\" stroke-opacity=\"1\" stroke-width=\"0.8\"/>\n",
       "<circle clip-path=\"url(#clip702)\" cx=\"183.977\" cy=\"158.959\" r=\"3\" fill=\"#009af9\" fill-rule=\"evenodd\" fill-opacity=\"1\" stroke=\"#000000\" stroke-opacity=\"1\" stroke-width=\"0.8\"/>\n",
       "<circle clip-path=\"url(#clip702)\" cx=\"191.428\" cy=\"196.674\" r=\"3\" fill=\"#009af9\" fill-rule=\"evenodd\" fill-opacity=\"1\" stroke=\"#000000\" stroke-opacity=\"1\" stroke-width=\"0.8\"/>\n",
       "<circle clip-path=\"url(#clip702)\" cx=\"254.266\" cy=\"170.294\" r=\"3\" fill=\"#009af9\" fill-rule=\"evenodd\" fill-opacity=\"1\" stroke=\"#000000\" stroke-opacity=\"1\" stroke-width=\"0.8\"/>\n",
       "<circle clip-path=\"url(#clip702)\" cx=\"163.318\" cy=\"240.881\" r=\"3\" fill=\"#009af9\" fill-rule=\"evenodd\" fill-opacity=\"1\" stroke=\"#000000\" stroke-opacity=\"1\" stroke-width=\"0.8\"/>\n",
       "<circle clip-path=\"url(#clip702)\" cx=\"270.682\" cy=\"166.603\" r=\"3\" fill=\"#009af9\" fill-rule=\"evenodd\" fill-opacity=\"1\" stroke=\"#000000\" stroke-opacity=\"1\" stroke-width=\"0.8\"/>\n",
       "<circle clip-path=\"url(#clip702)\" cx=\"108.411\" cy=\"172.416\" r=\"3\" fill=\"#009af9\" fill-rule=\"evenodd\" fill-opacity=\"1\" stroke=\"#000000\" stroke-opacity=\"1\" stroke-width=\"0.8\"/>\n",
       "<circle clip-path=\"url(#clip702)\" cx=\"120.954\" cy=\"167.842\" r=\"3\" fill=\"#009af9\" fill-rule=\"evenodd\" fill-opacity=\"1\" stroke=\"#000000\" stroke-opacity=\"1\" stroke-width=\"0.8\"/>\n",
       "<circle clip-path=\"url(#clip702)\" cx=\"83.1425\" cy=\"177.622\" r=\"3\" fill=\"#009af9\" fill-rule=\"evenodd\" fill-opacity=\"1\" stroke=\"#000000\" stroke-opacity=\"1\" stroke-width=\"0.8\"/>\n",
       "<circle clip-path=\"url(#clip702)\" cx=\"171.439\" cy=\"172.301\" r=\"3\" fill=\"#009af9\" fill-rule=\"evenodd\" fill-opacity=\"1\" stroke=\"#000000\" stroke-opacity=\"1\" stroke-width=\"0.8\"/>\n",
       "<circle clip-path=\"url(#clip702)\" cx=\"220.894\" cy=\"230.627\" r=\"3\" fill=\"#009af9\" fill-rule=\"evenodd\" fill-opacity=\"1\" stroke=\"#000000\" stroke-opacity=\"1\" stroke-width=\"0.8\"/>\n",
       "<circle clip-path=\"url(#clip702)\" cx=\"411.922\" cy=\"77.5411\" r=\"3\" fill=\"#009af9\" fill-rule=\"evenodd\" fill-opacity=\"1\" stroke=\"#000000\" stroke-opacity=\"1\" stroke-width=\"0.8\"/>\n",
       "<circle clip-path=\"url(#clip702)\" cx=\"299.516\" cy=\"88.4477\" r=\"3\" fill=\"#009af9\" fill-rule=\"evenodd\" fill-opacity=\"1\" stroke=\"#000000\" stroke-opacity=\"1\" stroke-width=\"0.8\"/>\n",
       "<circle clip-path=\"url(#clip702)\" cx=\"410.762\" cy=\"53.1192\" r=\"3\" fill=\"#009af9\" fill-rule=\"evenodd\" fill-opacity=\"1\" stroke=\"#000000\" stroke-opacity=\"1\" stroke-width=\"0.8\"/>\n",
       "<circle clip-path=\"url(#clip702)\" cx=\"334.435\" cy=\"101.651\" r=\"3\" fill=\"#009af9\" fill-rule=\"evenodd\" fill-opacity=\"1\" stroke=\"#000000\" stroke-opacity=\"1\" stroke-width=\"0.8\"/>\n",
       "<circle clip-path=\"url(#clip702)\" cx=\"362.17\" cy=\"23.5065\" r=\"3\" fill=\"#009af9\" fill-rule=\"evenodd\" fill-opacity=\"1\" stroke=\"#000000\" stroke-opacity=\"1\" stroke-width=\"0.8\"/>\n",
       "<circle clip-path=\"url(#clip702)\" cx=\"354.076\" cy=\"22.7655\" r=\"3\" fill=\"#009af9\" fill-rule=\"evenodd\" fill-opacity=\"1\" stroke=\"#000000\" stroke-opacity=\"1\" stroke-width=\"0.8\"/>\n",
       "<circle clip-path=\"url(#clip702)\" cx=\"374.271\" cy=\"66.9928\" r=\"3\" fill=\"#009af9\" fill-rule=\"evenodd\" fill-opacity=\"1\" stroke=\"#000000\" stroke-opacity=\"1\" stroke-width=\"0.8\"/>\n",
       "<circle clip-path=\"url(#clip702)\" cx=\"332.588\" cy=\"101.237\" r=\"3\" fill=\"#009af9\" fill-rule=\"evenodd\" fill-opacity=\"1\" stroke=\"#000000\" stroke-opacity=\"1\" stroke-width=\"0.8\"/>\n",
       "<circle clip-path=\"url(#clip702)\" cx=\"283.169\" cy=\"84.4684\" r=\"3\" fill=\"#009af9\" fill-rule=\"evenodd\" fill-opacity=\"1\" stroke=\"#000000\" stroke-opacity=\"1\" stroke-width=\"0.8\"/>\n",
       "<circle clip-path=\"url(#clip702)\" cx=\"363.512\" cy=\"57.1403\" r=\"3\" fill=\"#009af9\" fill-rule=\"evenodd\" fill-opacity=\"1\" stroke=\"#000000\" stroke-opacity=\"1\" stroke-width=\"0.8\"/>\n",
       "<circle clip-path=\"url(#clip702)\" cx=\"373.789\" cy=\"79.5725\" r=\"3\" fill=\"#009af9\" fill-rule=\"evenodd\" fill-opacity=\"1\" stroke=\"#000000\" stroke-opacity=\"1\" stroke-width=\"0.8\"/>\n",
       "<circle clip-path=\"url(#clip702)\" cx=\"294.292\" cy=\"103.321\" r=\"3\" fill=\"#009af9\" fill-rule=\"evenodd\" fill-opacity=\"1\" stroke=\"#000000\" stroke-opacity=\"1\" stroke-width=\"0.8\"/>\n",
       "<circle clip-path=\"url(#clip702)\" cx=\"356.067\" cy=\"66.3419\" r=\"3\" fill=\"#009af9\" fill-rule=\"evenodd\" fill-opacity=\"1\" stroke=\"#000000\" stroke-opacity=\"1\" stroke-width=\"0.8\"/>\n",
       "<circle clip-path=\"url(#clip702)\" cx=\"335.378\" cy=\"111.968\" r=\"3\" fill=\"#009af9\" fill-rule=\"evenodd\" fill-opacity=\"1\" stroke=\"#000000\" stroke-opacity=\"1\" stroke-width=\"0.8\"/>\n",
       "<circle clip-path=\"url(#clip702)\" cx=\"241.467\" cy=\"93.7646\" r=\"3\" fill=\"#009af9\" fill-rule=\"evenodd\" fill-opacity=\"1\" stroke=\"#000000\" stroke-opacity=\"1\" stroke-width=\"0.8\"/>\n",
       "<circle clip-path=\"url(#clip702)\" cx=\"359.303\" cy=\"68.3091\" r=\"3\" fill=\"#009af9\" fill-rule=\"evenodd\" fill-opacity=\"1\" stroke=\"#000000\" stroke-opacity=\"1\" stroke-width=\"0.8\"/>\n",
       "<circle clip-path=\"url(#clip702)\" cx=\"305.851\" cy=\"93.0387\" r=\"3\" fill=\"#009af9\" fill-rule=\"evenodd\" fill-opacity=\"1\" stroke=\"#000000\" stroke-opacity=\"1\" stroke-width=\"0.8\"/>\n",
       "<circle clip-path=\"url(#clip702)\" cx=\"298.414\" cy=\"79.5953\" r=\"3\" fill=\"#009af9\" fill-rule=\"evenodd\" fill-opacity=\"1\" stroke=\"#000000\" stroke-opacity=\"1\" stroke-width=\"0.8\"/>\n",
       "<circle clip-path=\"url(#clip702)\" cx=\"384.249\" cy=\"123.598\" r=\"3\" fill=\"#009af9\" fill-rule=\"evenodd\" fill-opacity=\"1\" stroke=\"#000000\" stroke-opacity=\"1\" stroke-width=\"0.8\"/>\n",
       "<circle clip-path=\"url(#clip702)\" cx=\"362.717\" cy=\"52.6613\" r=\"3\" fill=\"#009af9\" fill-rule=\"evenodd\" fill-opacity=\"1\" stroke=\"#000000\" stroke-opacity=\"1\" stroke-width=\"0.8\"/>\n",
       "<circle clip-path=\"url(#clip702)\" cx=\"355.067\" cy=\"76.9611\" r=\"3\" fill=\"#009af9\" fill-rule=\"evenodd\" fill-opacity=\"1\" stroke=\"#000000\" stroke-opacity=\"1\" stroke-width=\"0.8\"/>\n",
       "<circle clip-path=\"url(#clip702)\" cx=\"353.456\" cy=\"99.5347\" r=\"3\" fill=\"#009af9\" fill-rule=\"evenodd\" fill-opacity=\"1\" stroke=\"#000000\" stroke-opacity=\"1\" stroke-width=\"0.8\"/>\n",
       "<circle clip-path=\"url(#clip702)\" cx=\"307.225\" cy=\"127.859\" r=\"3\" fill=\"#009af9\" fill-rule=\"evenodd\" fill-opacity=\"1\" stroke=\"#000000\" stroke-opacity=\"1\" stroke-width=\"0.8\"/>\n",
       "<circle clip-path=\"url(#clip702)\" cx=\"402.745\" cy=\"83.59\" r=\"3\" fill=\"#009af9\" fill-rule=\"evenodd\" fill-opacity=\"1\" stroke=\"#000000\" stroke-opacity=\"1\" stroke-width=\"0.8\"/>\n",
       "<circle clip-path=\"url(#clip702)\" cx=\"281.127\" cy=\"85.4941\" r=\"3\" fill=\"#009af9\" fill-rule=\"evenodd\" fill-opacity=\"1\" stroke=\"#000000\" stroke-opacity=\"1\" stroke-width=\"0.8\"/>\n",
       "<circle clip-path=\"url(#clip702)\" cx=\"362.518\" cy=\"76.8292\" r=\"3\" fill=\"#009af9\" fill-rule=\"evenodd\" fill-opacity=\"1\" stroke=\"#000000\" stroke-opacity=\"1\" stroke-width=\"0.8\"/>\n",
       "<circle clip-path=\"url(#clip702)\" cx=\"346.916\" cy=\"54.0381\" r=\"3\" fill=\"#009af9\" fill-rule=\"evenodd\" fill-opacity=\"1\" stroke=\"#000000\" stroke-opacity=\"1\" stroke-width=\"0.8\"/>\n",
       "<circle clip-path=\"url(#clip702)\" cx=\"314.576\" cy=\"87.2817\" r=\"3\" fill=\"#009af9\" fill-rule=\"evenodd\" fill-opacity=\"1\" stroke=\"#000000\" stroke-opacity=\"1\" stroke-width=\"0.8\"/>\n",
       "<circle clip-path=\"url(#clip702)\" cx=\"358.908\" cy=\"116.12\" r=\"3\" fill=\"#009af9\" fill-rule=\"evenodd\" fill-opacity=\"1\" stroke=\"#000000\" stroke-opacity=\"1\" stroke-width=\"0.8\"/>\n",
       "<circle clip-path=\"url(#clip702)\" cx=\"462.721\" cy=\"81.6122\" r=\"3\" fill=\"#009af9\" fill-rule=\"evenodd\" fill-opacity=\"1\" stroke=\"#000000\" stroke-opacity=\"1\" stroke-width=\"0.8\"/>\n",
       "<circle clip-path=\"url(#clip702)\" cx=\"376.001\" cy=\"57.8878\" r=\"3\" fill=\"#009af9\" fill-rule=\"evenodd\" fill-opacity=\"1\" stroke=\"#000000\" stroke-opacity=\"1\" stroke-width=\"0.8\"/>\n",
       "<circle clip-path=\"url(#clip702)\" cx=\"411.783\" cy=\"45.1604\" r=\"3\" fill=\"#009af9\" fill-rule=\"evenodd\" fill-opacity=\"1\" stroke=\"#000000\" stroke-opacity=\"1\" stroke-width=\"0.8\"/>\n",
       "<circle clip-path=\"url(#clip702)\" cx=\"445.793\" cy=\"113.362\" r=\"3\" fill=\"#009af9\" fill-rule=\"evenodd\" fill-opacity=\"1\" stroke=\"#000000\" stroke-opacity=\"1\" stroke-width=\"0.8\"/>\n",
       "<circle clip-path=\"url(#clip702)\" cx=\"442.261\" cy=\"138.411\" r=\"3\" fill=\"#009af9\" fill-rule=\"evenodd\" fill-opacity=\"1\" stroke=\"#000000\" stroke-opacity=\"1\" stroke-width=\"0.8\"/>\n",
       "<circle clip-path=\"url(#clip702)\" cx=\"440.868\" cy=\"83.4666\" r=\"3\" fill=\"#009af9\" fill-rule=\"evenodd\" fill-opacity=\"1\" stroke=\"#000000\" stroke-opacity=\"1\" stroke-width=\"0.8\"/>\n",
       "<circle clip-path=\"url(#clip702)\" cx=\"336.358\" cy=\"102.243\" r=\"3\" fill=\"#009af9\" fill-rule=\"evenodd\" fill-opacity=\"1\" stroke=\"#000000\" stroke-opacity=\"1\" stroke-width=\"0.8\"/>\n",
       "<circle clip-path=\"url(#clip702)\" cx=\"424.936\" cy=\"21.9941\" r=\"3\" fill=\"#009af9\" fill-rule=\"evenodd\" fill-opacity=\"1\" stroke=\"#000000\" stroke-opacity=\"1\" stroke-width=\"0.8\"/>\n",
       "<circle clip-path=\"url(#clip702)\" cx=\"359.339\" cy=\"64.3329\" r=\"3\" fill=\"#009af9\" fill-rule=\"evenodd\" fill-opacity=\"1\" stroke=\"#000000\" stroke-opacity=\"1\" stroke-width=\"0.8\"/>\n",
       "<circle clip-path=\"url(#clip702)\" cx=\"291.494\" cy=\"69.1584\" r=\"3\" fill=\"#009af9\" fill-rule=\"evenodd\" fill-opacity=\"1\" stroke=\"#000000\" stroke-opacity=\"1\" stroke-width=\"0.8\"/>\n",
       "<circle clip-path=\"url(#clip702)\" cx=\"259.323\" cy=\"153.205\" r=\"3\" fill=\"#009af9\" fill-rule=\"evenodd\" fill-opacity=\"1\" stroke=\"#000000\" stroke-opacity=\"1\" stroke-width=\"0.8\"/>\n",
       "<circle clip-path=\"url(#clip702)\" cx=\"437.088\" cy=\"99.3516\" r=\"3\" fill=\"#009af9\" fill-rule=\"evenodd\" fill-opacity=\"1\" stroke=\"#000000\" stroke-opacity=\"1\" stroke-width=\"0.8\"/>\n",
       "<circle clip-path=\"url(#clip702)\" cx=\"246.609\" cy=\"70.3823\" r=\"3\" fill=\"#009af9\" fill-rule=\"evenodd\" fill-opacity=\"1\" stroke=\"#000000\" stroke-opacity=\"1\" stroke-width=\"0.8\"/>\n",
       "<circle clip-path=\"url(#clip702)\" cx=\"440.808\" cy=\"133.415\" r=\"3\" fill=\"#009af9\" fill-rule=\"evenodd\" fill-opacity=\"1\" stroke=\"#000000\" stroke-opacity=\"1\" stroke-width=\"0.8\"/>\n",
       "<circle clip-path=\"url(#clip702)\" cx=\"372.654\" cy=\"26.0674\" r=\"3\" fill=\"#009af9\" fill-rule=\"evenodd\" fill-opacity=\"1\" stroke=\"#000000\" stroke-opacity=\"1\" stroke-width=\"0.8\"/>\n",
       "<circle clip-path=\"url(#clip702)\" cx=\"477.767\" cy=\"64.7774\" r=\"3\" fill=\"#009af9\" fill-rule=\"evenodd\" fill-opacity=\"1\" stroke=\"#000000\" stroke-opacity=\"1\" stroke-width=\"0.8\"/>\n",
       "<circle clip-path=\"url(#clip702)\" cx=\"351.396\" cy=\"45.6654\" r=\"3\" fill=\"#009af9\" fill-rule=\"evenodd\" fill-opacity=\"1\" stroke=\"#000000\" stroke-opacity=\"1\" stroke-width=\"0.8\"/>\n",
       "<circle clip-path=\"url(#clip702)\" cx=\"411.677\" cy=\"102.196\" r=\"3\" fill=\"#009af9\" fill-rule=\"evenodd\" fill-opacity=\"1\" stroke=\"#000000\" stroke-opacity=\"1\" stroke-width=\"0.8\"/>\n",
       "<circle clip-path=\"url(#clip702)\" cx=\"346.775\" cy=\"82.4529\" r=\"3\" fill=\"#009af9\" fill-rule=\"evenodd\" fill-opacity=\"1\" stroke=\"#000000\" stroke-opacity=\"1\" stroke-width=\"0.8\"/>\n",
       "<circle clip-path=\"url(#clip702)\" cx=\"481.396\" cy=\"89.0328\" r=\"3\" fill=\"#009af9\" fill-rule=\"evenodd\" fill-opacity=\"1\" stroke=\"#000000\" stroke-opacity=\"1\" stroke-width=\"0.8\"/>\n",
       "<circle clip-path=\"url(#clip702)\" cx=\"319.56\" cy=\"49.0652\" r=\"3\" fill=\"#009af9\" fill-rule=\"evenodd\" fill-opacity=\"1\" stroke=\"#000000\" stroke-opacity=\"1\" stroke-width=\"0.8\"/>\n",
       "<circle clip-path=\"url(#clip702)\" cx=\"503.425\" cy=\"104.53\" r=\"3\" fill=\"#009af9\" fill-rule=\"evenodd\" fill-opacity=\"1\" stroke=\"#000000\" stroke-opacity=\"1\" stroke-width=\"0.8\"/>\n",
       "<circle clip-path=\"url(#clip702)\" cx=\"377.137\" cy=\"111.989\" r=\"3\" fill=\"#009af9\" fill-rule=\"evenodd\" fill-opacity=\"1\" stroke=\"#000000\" stroke-opacity=\"1\" stroke-width=\"0.8\"/>\n",
       "<circle clip-path=\"url(#clip702)\" cx=\"313.27\" cy=\"59.2778\" r=\"3\" fill=\"#009af9\" fill-rule=\"evenodd\" fill-opacity=\"1\" stroke=\"#000000\" stroke-opacity=\"1\" stroke-width=\"0.8\"/>\n",
       "<circle clip-path=\"url(#clip702)\" cx=\"358.623\" cy=\"103.367\" r=\"3\" fill=\"#009af9\" fill-rule=\"evenodd\" fill-opacity=\"1\" stroke=\"#000000\" stroke-opacity=\"1\" stroke-width=\"0.8\"/>\n",
       "<circle clip-path=\"url(#clip702)\" cx=\"385.178\" cy=\"80.5978\" r=\"3\" fill=\"#009af9\" fill-rule=\"evenodd\" fill-opacity=\"1\" stroke=\"#000000\" stroke-opacity=\"1\" stroke-width=\"0.8\"/>\n",
       "<circle clip-path=\"url(#clip702)\" cx=\"271.749\" cy=\"79.5286\" r=\"3\" fill=\"#009af9\" fill-rule=\"evenodd\" fill-opacity=\"1\" stroke=\"#000000\" stroke-opacity=\"1\" stroke-width=\"0.8\"/>\n",
       "<circle clip-path=\"url(#clip702)\" cx=\"385.202\" cy=\"62.2128\" r=\"3\" fill=\"#009af9\" fill-rule=\"evenodd\" fill-opacity=\"1\" stroke=\"#000000\" stroke-opacity=\"1\" stroke-width=\"0.8\"/>\n",
       "<circle clip-path=\"url(#clip702)\" cx=\"433.809\" cy=\"79.5918\" r=\"3\" fill=\"#009af9\" fill-rule=\"evenodd\" fill-opacity=\"1\" stroke=\"#000000\" stroke-opacity=\"1\" stroke-width=\"0.8\"/>\n",
       "<circle clip-path=\"url(#clip702)\" cx=\"298.997\" cy=\"66.7222\" r=\"3\" fill=\"#009af9\" fill-rule=\"evenodd\" fill-opacity=\"1\" stroke=\"#000000\" stroke-opacity=\"1\" stroke-width=\"0.8\"/>\n",
       "<circle clip-path=\"url(#clip702)\" cx=\"441.346\" cy=\"88.0938\" r=\"3\" fill=\"#009af9\" fill-rule=\"evenodd\" fill-opacity=\"1\" stroke=\"#000000\" stroke-opacity=\"1\" stroke-width=\"0.8\"/>\n",
       "<circle clip-path=\"url(#clip702)\" cx=\"334.555\" cy=\"92.0241\" r=\"3\" fill=\"#009af9\" fill-rule=\"evenodd\" fill-opacity=\"1\" stroke=\"#000000\" stroke-opacity=\"1\" stroke-width=\"0.8\"/>\n",
       "<circle clip-path=\"url(#clip702)\" cx=\"373.589\" cy=\"103.76\" r=\"3\" fill=\"#009af9\" fill-rule=\"evenodd\" fill-opacity=\"1\" stroke=\"#000000\" stroke-opacity=\"1\" stroke-width=\"0.8\"/>\n",
       "<circle clip-path=\"url(#clip702)\" cx=\"360.492\" cy=\"43.6443\" r=\"3\" fill=\"#009af9\" fill-rule=\"evenodd\" fill-opacity=\"1\" stroke=\"#000000\" stroke-opacity=\"1\" stroke-width=\"0.8\"/>\n",
       "<circle clip-path=\"url(#clip702)\" cx=\"432.488\" cy=\"113.372\" r=\"3\" fill=\"#009af9\" fill-rule=\"evenodd\" fill-opacity=\"1\" stroke=\"#000000\" stroke-opacity=\"1\" stroke-width=\"0.8\"/>\n",
       "<circle clip-path=\"url(#clip702)\" cx=\"415.166\" cy=\"110.65\" r=\"3\" fill=\"#009af9\" fill-rule=\"evenodd\" fill-opacity=\"1\" stroke=\"#000000\" stroke-opacity=\"1\" stroke-width=\"0.8\"/>\n",
       "<circle clip-path=\"url(#clip702)\" cx=\"423.75\" cy=\"75.5253\" r=\"3\" fill=\"#009af9\" fill-rule=\"evenodd\" fill-opacity=\"1\" stroke=\"#000000\" stroke-opacity=\"1\" stroke-width=\"0.8\"/>\n",
       "<circle clip-path=\"url(#clip702)\" cx=\"444.755\" cy=\"114.748\" r=\"3\" fill=\"#009af9\" fill-rule=\"evenodd\" fill-opacity=\"1\" stroke=\"#000000\" stroke-opacity=\"1\" stroke-width=\"0.8\"/>\n",
       "<circle clip-path=\"url(#clip702)\" cx=\"501.412\" cy=\"67.6566\" r=\"3\" fill=\"#009af9\" fill-rule=\"evenodd\" fill-opacity=\"1\" stroke=\"#000000\" stroke-opacity=\"1\" stroke-width=\"0.8\"/>\n",
       "<circle clip-path=\"url(#clip702)\" cx=\"369.927\" cy=\"134.237\" r=\"3\" fill=\"#009af9\" fill-rule=\"evenodd\" fill-opacity=\"1\" stroke=\"#000000\" stroke-opacity=\"1\" stroke-width=\"0.8\"/>\n",
       "<circle clip-path=\"url(#clip702)\" cx=\"324.181\" cy=\"76.764\" r=\"3\" fill=\"#009af9\" fill-rule=\"evenodd\" fill-opacity=\"1\" stroke=\"#000000\" stroke-opacity=\"1\" stroke-width=\"0.8\"/>\n",
       "<circle clip-path=\"url(#clip702)\" cx=\"365.409\" cy=\"100.728\" r=\"3\" fill=\"#009af9\" fill-rule=\"evenodd\" fill-opacity=\"1\" stroke=\"#000000\" stroke-opacity=\"1\" stroke-width=\"0.8\"/>\n",
       "<circle clip-path=\"url(#clip702)\" cx=\"398.18\" cy=\"122.287\" r=\"3\" fill=\"#009af9\" fill-rule=\"evenodd\" fill-opacity=\"1\" stroke=\"#000000\" stroke-opacity=\"1\" stroke-width=\"0.8\"/>\n",
       "<circle clip-path=\"url(#clip702)\" cx=\"298.505\" cy=\"107.497\" r=\"3\" fill=\"#009af9\" fill-rule=\"evenodd\" fill-opacity=\"1\" stroke=\"#000000\" stroke-opacity=\"1\" stroke-width=\"0.8\"/>\n",
       "<circle clip-path=\"url(#clip702)\" cx=\"324.385\" cy=\"73.9397\" r=\"3\" fill=\"#009af9\" fill-rule=\"evenodd\" fill-opacity=\"1\" stroke=\"#000000\" stroke-opacity=\"1\" stroke-width=\"0.8\"/>\n",
       "<circle clip-path=\"url(#clip702)\" cx=\"283.339\" cy=\"55.5946\" r=\"3\" fill=\"#009af9\" fill-rule=\"evenodd\" fill-opacity=\"1\" stroke=\"#000000\" stroke-opacity=\"1\" stroke-width=\"0.8\"/>\n",
       "<circle clip-path=\"url(#clip702)\" cx=\"381.396\" cy=\"129.654\" r=\"3\" fill=\"#009af9\" fill-rule=\"evenodd\" fill-opacity=\"1\" stroke=\"#000000\" stroke-opacity=\"1\" stroke-width=\"0.8\"/>\n",
       "<circle clip-path=\"url(#clip702)\" cx=\"403.679\" cy=\"95.1586\" r=\"3\" fill=\"#009af9\" fill-rule=\"evenodd\" fill-opacity=\"1\" stroke=\"#000000\" stroke-opacity=\"1\" stroke-width=\"0.8\"/>\n",
       "<circle clip-path=\"url(#clip702)\" cx=\"391.966\" cy=\"112.103\" r=\"3\" fill=\"#009af9\" fill-rule=\"evenodd\" fill-opacity=\"1\" stroke=\"#000000\" stroke-opacity=\"1\" stroke-width=\"0.8\"/>\n",
       "<circle clip-path=\"url(#clip702)\" cx=\"446.376\" cy=\"86.9656\" r=\"3\" fill=\"#009af9\" fill-rule=\"evenodd\" fill-opacity=\"1\" stroke=\"#000000\" stroke-opacity=\"1\" stroke-width=\"0.8\"/>\n",
       "<circle clip-path=\"url(#clip702)\" cx=\"334.185\" cy=\"53.5806\" r=\"3\" fill=\"#009af9\" fill-rule=\"evenodd\" fill-opacity=\"1\" stroke=\"#000000\" stroke-opacity=\"1\" stroke-width=\"0.8\"/>\n",
       "<circle clip-path=\"url(#clip702)\" cx=\"412.656\" cy=\"123.044\" r=\"3\" fill=\"#009af9\" fill-rule=\"evenodd\" fill-opacity=\"1\" stroke=\"#000000\" stroke-opacity=\"1\" stroke-width=\"0.8\"/>\n",
       "<circle clip-path=\"url(#clip702)\" cx=\"266.347\" cy=\"99.5514\" r=\"3\" fill=\"#009af9\" fill-rule=\"evenodd\" fill-opacity=\"1\" stroke=\"#000000\" stroke-opacity=\"1\" stroke-width=\"0.8\"/>\n",
       "<circle clip-path=\"url(#clip702)\" cx=\"395.432\" cy=\"108.093\" r=\"3\" fill=\"#009af9\" fill-rule=\"evenodd\" fill-opacity=\"1\" stroke=\"#000000\" stroke-opacity=\"1\" stroke-width=\"0.8\"/>\n",
       "<circle clip-path=\"url(#clip702)\" cx=\"451.799\" cy=\"103.915\" r=\"3\" fill=\"#009af9\" fill-rule=\"evenodd\" fill-opacity=\"1\" stroke=\"#000000\" stroke-opacity=\"1\" stroke-width=\"0.8\"/>\n",
       "<circle clip-path=\"url(#clip702)\" cx=\"301.108\" cy=\"114.099\" r=\"3\" fill=\"#009af9\" fill-rule=\"evenodd\" fill-opacity=\"1\" stroke=\"#000000\" stroke-opacity=\"1\" stroke-width=\"0.8\"/>\n",
       "<circle clip-path=\"url(#clip702)\" cx=\"304.595\" cy=\"93.2522\" r=\"3\" fill=\"#009af9\" fill-rule=\"evenodd\" fill-opacity=\"1\" stroke=\"#000000\" stroke-opacity=\"1\" stroke-width=\"0.8\"/>\n",
       "<circle clip-path=\"url(#clip702)\" cx=\"341.553\" cy=\"152.097\" r=\"3\" fill=\"#009af9\" fill-rule=\"evenodd\" fill-opacity=\"1\" stroke=\"#000000\" stroke-opacity=\"1\" stroke-width=\"0.8\"/>\n",
       "<circle clip-path=\"url(#clip702)\" cx=\"332.621\" cy=\"95.4813\" r=\"3\" fill=\"#009af9\" fill-rule=\"evenodd\" fill-opacity=\"1\" stroke=\"#000000\" stroke-opacity=\"1\" stroke-width=\"0.8\"/>\n",
       "<circle clip-path=\"url(#clip702)\" cx=\"436.676\" cy=\"43.0585\" r=\"3\" fill=\"#009af9\" fill-rule=\"evenodd\" fill-opacity=\"1\" stroke=\"#000000\" stroke-opacity=\"1\" stroke-width=\"0.8\"/>\n",
       "<circle clip-path=\"url(#clip702)\" cx=\"373.949\" cy=\"183.949\" r=\"3\" fill=\"#009af9\" fill-rule=\"evenodd\" fill-opacity=\"1\" stroke=\"#000000\" stroke-opacity=\"1\" stroke-width=\"0.8\"/>\n",
       "<circle clip-path=\"url(#clip702)\" cx=\"295.658\" cy=\"40.019\" r=\"3\" fill=\"#009af9\" fill-rule=\"evenodd\" fill-opacity=\"1\" stroke=\"#000000\" stroke-opacity=\"1\" stroke-width=\"0.8\"/>\n",
       "<circle clip-path=\"url(#clip702)\" cx=\"440.145\" cy=\"106.212\" r=\"3\" fill=\"#009af9\" fill-rule=\"evenodd\" fill-opacity=\"1\" stroke=\"#000000\" stroke-opacity=\"1\" stroke-width=\"0.8\"/>\n",
       "<circle clip-path=\"url(#clip702)\" cx=\"331.76\" cy=\"109.653\" r=\"3\" fill=\"#009af9\" fill-rule=\"evenodd\" fill-opacity=\"1\" stroke=\"#000000\" stroke-opacity=\"1\" stroke-width=\"0.8\"/>\n",
       "<circle clip-path=\"url(#clip702)\" cx=\"309.934\" cy=\"114.887\" r=\"3\" fill=\"#009af9\" fill-rule=\"evenodd\" fill-opacity=\"1\" stroke=\"#000000\" stroke-opacity=\"1\" stroke-width=\"0.8\"/>\n",
       "<circle clip-path=\"url(#clip702)\" cx=\"434.746\" cy=\"122.802\" r=\"3\" fill=\"#009af9\" fill-rule=\"evenodd\" fill-opacity=\"1\" stroke=\"#000000\" stroke-opacity=\"1\" stroke-width=\"0.8\"/>\n",
       "<circle clip-path=\"url(#clip702)\" cx=\"363.202\" cy=\"155.949\" r=\"3\" fill=\"#009af9\" fill-rule=\"evenodd\" fill-opacity=\"1\" stroke=\"#000000\" stroke-opacity=\"1\" stroke-width=\"0.8\"/>\n",
       "<circle clip-path=\"url(#clip702)\" cx=\"392.296\" cy=\"95.8257\" r=\"3\" fill=\"#009af9\" fill-rule=\"evenodd\" fill-opacity=\"1\" stroke=\"#000000\" stroke-opacity=\"1\" stroke-width=\"0.8\"/>\n",
       "<circle clip-path=\"url(#clip702)\" cx=\"341.884\" cy=\"76.7183\" r=\"3\" fill=\"#009af9\" fill-rule=\"evenodd\" fill-opacity=\"1\" stroke=\"#000000\" stroke-opacity=\"1\" stroke-width=\"0.8\"/>\n",
       "<circle clip-path=\"url(#clip702)\" cx=\"328.583\" cy=\"136.848\" r=\"3\" fill=\"#009af9\" fill-rule=\"evenodd\" fill-opacity=\"1\" stroke=\"#000000\" stroke-opacity=\"1\" stroke-width=\"0.8\"/>\n",
       "<circle clip-path=\"url(#clip702)\" cx=\"340.193\" cy=\"85.915\" r=\"3\" fill=\"#009af9\" fill-rule=\"evenodd\" fill-opacity=\"1\" stroke=\"#000000\" stroke-opacity=\"1\" stroke-width=\"0.8\"/>\n",
       "<circle clip-path=\"url(#clip702)\" cx=\"366.769\" cy=\"294.532\" r=\"3\" fill=\"#009af9\" fill-rule=\"evenodd\" fill-opacity=\"1\" stroke=\"#000000\" stroke-opacity=\"1\" stroke-width=\"0.8\"/>\n",
       "<circle clip-path=\"url(#clip702)\" cx=\"302.614\" cy=\"326.729\" r=\"3\" fill=\"#009af9\" fill-rule=\"evenodd\" fill-opacity=\"1\" stroke=\"#000000\" stroke-opacity=\"1\" stroke-width=\"0.8\"/>\n",
       "<circle clip-path=\"url(#clip702)\" cx=\"416.962\" cy=\"296.196\" r=\"3\" fill=\"#009af9\" fill-rule=\"evenodd\" fill-opacity=\"1\" stroke=\"#000000\" stroke-opacity=\"1\" stroke-width=\"0.8\"/>\n",
       "<circle clip-path=\"url(#clip702)\" cx=\"299.631\" cy=\"274.257\" r=\"3\" fill=\"#009af9\" fill-rule=\"evenodd\" fill-opacity=\"1\" stroke=\"#000000\" stroke-opacity=\"1\" stroke-width=\"0.8\"/>\n",
       "<circle clip-path=\"url(#clip702)\" cx=\"414.184\" cy=\"241.82\" r=\"3\" fill=\"#009af9\" fill-rule=\"evenodd\" fill-opacity=\"1\" stroke=\"#000000\" stroke-opacity=\"1\" stroke-width=\"0.8\"/>\n",
       "<circle clip-path=\"url(#clip702)\" cx=\"262.687\" cy=\"329.006\" r=\"3\" fill=\"#009af9\" fill-rule=\"evenodd\" fill-opacity=\"1\" stroke=\"#000000\" stroke-opacity=\"1\" stroke-width=\"0.8\"/>\n",
       "<circle clip-path=\"url(#clip702)\" cx=\"344.838\" cy=\"262.994\" r=\"3\" fill=\"#009af9\" fill-rule=\"evenodd\" fill-opacity=\"1\" stroke=\"#000000\" stroke-opacity=\"1\" stroke-width=\"0.8\"/>\n",
       "<circle clip-path=\"url(#clip702)\" cx=\"406.997\" cy=\"313.131\" r=\"3\" fill=\"#009af9\" fill-rule=\"evenodd\" fill-opacity=\"1\" stroke=\"#000000\" stroke-opacity=\"1\" stroke-width=\"0.8\"/>\n",
       "<circle clip-path=\"url(#clip702)\" cx=\"277.927\" cy=\"289.978\" r=\"3\" fill=\"#009af9\" fill-rule=\"evenodd\" fill-opacity=\"1\" stroke=\"#000000\" stroke-opacity=\"1\" stroke-width=\"0.8\"/>\n",
       "<circle clip-path=\"url(#clip702)\" cx=\"439.403\" cy=\"286.063\" r=\"3\" fill=\"#009af9\" fill-rule=\"evenodd\" fill-opacity=\"1\" stroke=\"#000000\" stroke-opacity=\"1\" stroke-width=\"0.8\"/>\n",
       "<circle clip-path=\"url(#clip702)\" cx=\"390.774\" cy=\"274.711\" r=\"3\" fill=\"#009af9\" fill-rule=\"evenodd\" fill-opacity=\"1\" stroke=\"#000000\" stroke-opacity=\"1\" stroke-width=\"0.8\"/>\n",
       "<circle clip-path=\"url(#clip702)\" cx=\"396.992\" cy=\"322.061\" r=\"3\" fill=\"#009af9\" fill-rule=\"evenodd\" fill-opacity=\"1\" stroke=\"#000000\" stroke-opacity=\"1\" stroke-width=\"0.8\"/>\n",
       "<circle clip-path=\"url(#clip702)\" cx=\"308.319\" cy=\"262.543\" r=\"3\" fill=\"#009af9\" fill-rule=\"evenodd\" fill-opacity=\"1\" stroke=\"#000000\" stroke-opacity=\"1\" stroke-width=\"0.8\"/>\n",
       "<circle clip-path=\"url(#clip702)\" cx=\"346.659\" cy=\"279.47\" r=\"3\" fill=\"#009af9\" fill-rule=\"evenodd\" fill-opacity=\"1\" stroke=\"#000000\" stroke-opacity=\"1\" stroke-width=\"0.8\"/>\n",
       "<circle clip-path=\"url(#clip702)\" cx=\"304.505\" cy=\"249.245\" r=\"3\" fill=\"#009af9\" fill-rule=\"evenodd\" fill-opacity=\"1\" stroke=\"#000000\" stroke-opacity=\"1\" stroke-width=\"0.8\"/>\n",
       "<circle clip-path=\"url(#clip702)\" cx=\"373.229\" cy=\"251.003\" r=\"3\" fill=\"#009af9\" fill-rule=\"evenodd\" fill-opacity=\"1\" stroke=\"#000000\" stroke-opacity=\"1\" stroke-width=\"0.8\"/>\n",
       "<circle clip-path=\"url(#clip702)\" cx=\"323.444\" cy=\"295.636\" r=\"3\" fill=\"#009af9\" fill-rule=\"evenodd\" fill-opacity=\"1\" stroke=\"#000000\" stroke-opacity=\"1\" stroke-width=\"0.8\"/>\n",
       "<circle clip-path=\"url(#clip702)\" cx=\"418.031\" cy=\"261.058\" r=\"3\" fill=\"#009af9\" fill-rule=\"evenodd\" fill-opacity=\"1\" stroke=\"#000000\" stroke-opacity=\"1\" stroke-width=\"0.8\"/>\n",
       "<circle clip-path=\"url(#clip702)\" cx=\"256.596\" cy=\"263.762\" r=\"3\" fill=\"#009af9\" fill-rule=\"evenodd\" fill-opacity=\"1\" stroke=\"#000000\" stroke-opacity=\"1\" stroke-width=\"0.8\"/>\n",
       "<circle clip-path=\"url(#clip702)\" cx=\"294.356\" cy=\"262.271\" r=\"3\" fill=\"#009af9\" fill-rule=\"evenodd\" fill-opacity=\"1\" stroke=\"#000000\" stroke-opacity=\"1\" stroke-width=\"0.8\"/>\n",
       "<circle clip-path=\"url(#clip702)\" cx=\"451.952\" cy=\"337.986\" r=\"3\" fill=\"#009af9\" fill-rule=\"evenodd\" fill-opacity=\"1\" stroke=\"#000000\" stroke-opacity=\"1\" stroke-width=\"0.8\"/>\n",
       "<circle clip-path=\"url(#clip702)\" cx=\"493.985\" cy=\"289.431\" r=\"3\" fill=\"#009af9\" fill-rule=\"evenodd\" fill-opacity=\"1\" stroke=\"#000000\" stroke-opacity=\"1\" stroke-width=\"0.8\"/>\n",
       "<circle clip-path=\"url(#clip702)\" cx=\"327.807\" cy=\"313.931\" r=\"3\" fill=\"#009af9\" fill-rule=\"evenodd\" fill-opacity=\"1\" stroke=\"#000000\" stroke-opacity=\"1\" stroke-width=\"0.8\"/>\n",
       "<circle clip-path=\"url(#clip702)\" cx=\"513.84\" cy=\"317.282\" r=\"3\" fill=\"#009af9\" fill-rule=\"evenodd\" fill-opacity=\"1\" stroke=\"#000000\" stroke-opacity=\"1\" stroke-width=\"0.8\"/>\n",
       "<circle clip-path=\"url(#clip702)\" cx=\"417.995\" cy=\"242.72\" r=\"3\" fill=\"#009af9\" fill-rule=\"evenodd\" fill-opacity=\"1\" stroke=\"#000000\" stroke-opacity=\"1\" stroke-width=\"0.8\"/>\n",
       "<circle clip-path=\"url(#clip702)\" cx=\"408.801\" cy=\"255.53\" r=\"3\" fill=\"#009af9\" fill-rule=\"evenodd\" fill-opacity=\"1\" stroke=\"#000000\" stroke-opacity=\"1\" stroke-width=\"0.8\"/>\n",
       "<circle clip-path=\"url(#clip702)\" cx=\"263.205\" cy=\"286.811\" r=\"3\" fill=\"#009af9\" fill-rule=\"evenodd\" fill-opacity=\"1\" stroke=\"#000000\" stroke-opacity=\"1\" stroke-width=\"0.8\"/>\n",
       "<circle clip-path=\"url(#clip702)\" cx=\"306.299\" cy=\"301.689\" r=\"3\" fill=\"#009af9\" fill-rule=\"evenodd\" fill-opacity=\"1\" stroke=\"#000000\" stroke-opacity=\"1\" stroke-width=\"0.8\"/>\n",
       "<circle clip-path=\"url(#clip702)\" cx=\"357.324\" cy=\"246.781\" r=\"3\" fill=\"#009af9\" fill-rule=\"evenodd\" fill-opacity=\"1\" stroke=\"#000000\" stroke-opacity=\"1\" stroke-width=\"0.8\"/>\n",
       "<circle clip-path=\"url(#clip702)\" cx=\"451.503\" cy=\"215.592\" r=\"3\" fill=\"#009af9\" fill-rule=\"evenodd\" fill-opacity=\"1\" stroke=\"#000000\" stroke-opacity=\"1\" stroke-width=\"0.8\"/>\n",
       "<circle clip-path=\"url(#clip702)\" cx=\"378.465\" cy=\"261.755\" r=\"3\" fill=\"#009af9\" fill-rule=\"evenodd\" fill-opacity=\"1\" stroke=\"#000000\" stroke-opacity=\"1\" stroke-width=\"0.8\"/>\n",
       "<circle clip-path=\"url(#clip702)\" cx=\"285.125\" cy=\"286.002\" r=\"3\" fill=\"#009af9\" fill-rule=\"evenodd\" fill-opacity=\"1\" stroke=\"#000000\" stroke-opacity=\"1\" stroke-width=\"0.8\"/>\n",
       "<circle clip-path=\"url(#clip702)\" cx=\"447.594\" cy=\"361.429\" r=\"3\" fill=\"#009af9\" fill-rule=\"evenodd\" fill-opacity=\"1\" stroke=\"#000000\" stroke-opacity=\"1\" stroke-width=\"0.8\"/>\n",
       "<circle clip-path=\"url(#clip702)\" cx=\"460.832\" cy=\"280.317\" r=\"3\" fill=\"#009af9\" fill-rule=\"evenodd\" fill-opacity=\"1\" stroke=\"#000000\" stroke-opacity=\"1\" stroke-width=\"0.8\"/>\n",
       "<circle clip-path=\"url(#clip702)\" cx=\"267.241\" cy=\"242.621\" r=\"3\" fill=\"#009af9\" fill-rule=\"evenodd\" fill-opacity=\"1\" stroke=\"#000000\" stroke-opacity=\"1\" stroke-width=\"0.8\"/>\n",
       "<circle clip-path=\"url(#clip702)\" cx=\"297.289\" cy=\"320.363\" r=\"3\" fill=\"#009af9\" fill-rule=\"evenodd\" fill-opacity=\"1\" stroke=\"#000000\" stroke-opacity=\"1\" stroke-width=\"0.8\"/>\n",
       "<circle clip-path=\"url(#clip702)\" cx=\"376.524\" cy=\"291.125\" r=\"3\" fill=\"#009af9\" fill-rule=\"evenodd\" fill-opacity=\"1\" stroke=\"#000000\" stroke-opacity=\"1\" stroke-width=\"0.8\"/>\n",
       "<circle clip-path=\"url(#clip702)\" cx=\"416.801\" cy=\"287.447\" r=\"3\" fill=\"#009af9\" fill-rule=\"evenodd\" fill-opacity=\"1\" stroke=\"#000000\" stroke-opacity=\"1\" stroke-width=\"0.8\"/>\n",
       "<circle clip-path=\"url(#clip702)\" cx=\"445.99\" cy=\"253.463\" r=\"3\" fill=\"#009af9\" fill-rule=\"evenodd\" fill-opacity=\"1\" stroke=\"#000000\" stroke-opacity=\"1\" stroke-width=\"0.8\"/>\n",
       "<circle clip-path=\"url(#clip702)\" cx=\"394.518\" cy=\"261.524\" r=\"3\" fill=\"#009af9\" fill-rule=\"evenodd\" fill-opacity=\"1\" stroke=\"#000000\" stroke-opacity=\"1\" stroke-width=\"0.8\"/>\n",
       "<circle clip-path=\"url(#clip702)\" cx=\"439.396\" cy=\"269.984\" r=\"3\" fill=\"#009af9\" fill-rule=\"evenodd\" fill-opacity=\"1\" stroke=\"#000000\" stroke-opacity=\"1\" stroke-width=\"0.8\"/>\n",
       "<circle clip-path=\"url(#clip702)\" cx=\"334.44\" cy=\"256.972\" r=\"3\" fill=\"#009af9\" fill-rule=\"evenodd\" fill-opacity=\"1\" stroke=\"#000000\" stroke-opacity=\"1\" stroke-width=\"0.8\"/>\n",
       "<circle clip-path=\"url(#clip702)\" cx=\"319.959\" cy=\"313.614\" r=\"3\" fill=\"#009af9\" fill-rule=\"evenodd\" fill-opacity=\"1\" stroke=\"#000000\" stroke-opacity=\"1\" stroke-width=\"0.8\"/>\n",
       "<circle clip-path=\"url(#clip702)\" cx=\"510.882\" cy=\"266.527\" r=\"3\" fill=\"#009af9\" fill-rule=\"evenodd\" fill-opacity=\"1\" stroke=\"#000000\" stroke-opacity=\"1\" stroke-width=\"0.8\"/>\n",
       "<circle clip-path=\"url(#clip702)\" cx=\"483.697\" cy=\"307.632\" r=\"3\" fill=\"#009af9\" fill-rule=\"evenodd\" fill-opacity=\"1\" stroke=\"#000000\" stroke-opacity=\"1\" stroke-width=\"0.8\"/>\n",
       "<circle clip-path=\"url(#clip702)\" cx=\"365.262\" cy=\"289.433\" r=\"3\" fill=\"#009af9\" fill-rule=\"evenodd\" fill-opacity=\"1\" stroke=\"#000000\" stroke-opacity=\"1\" stroke-width=\"0.8\"/>\n",
       "<circle clip-path=\"url(#clip702)\" cx=\"374.664\" cy=\"294.581\" r=\"3\" fill=\"#009af9\" fill-rule=\"evenodd\" fill-opacity=\"1\" stroke=\"#000000\" stroke-opacity=\"1\" stroke-width=\"0.8\"/>\n",
       "<circle clip-path=\"url(#clip702)\" cx=\"402.579\" cy=\"308.821\" r=\"3\" fill=\"#009af9\" fill-rule=\"evenodd\" fill-opacity=\"1\" stroke=\"#000000\" stroke-opacity=\"1\" stroke-width=\"0.8\"/>\n",
       "<circle clip-path=\"url(#clip702)\" cx=\"290.932\" cy=\"278.303\" r=\"3\" fill=\"#009af9\" fill-rule=\"evenodd\" fill-opacity=\"1\" stroke=\"#000000\" stroke-opacity=\"1\" stroke-width=\"0.8\"/>\n",
       "<circle clip-path=\"url(#clip702)\" cx=\"414.055\" cy=\"261.001\" r=\"3\" fill=\"#009af9\" fill-rule=\"evenodd\" fill-opacity=\"1\" stroke=\"#000000\" stroke-opacity=\"1\" stroke-width=\"0.8\"/>\n",
       "<circle clip-path=\"url(#clip702)\" cx=\"310.33\" cy=\"264.554\" r=\"3\" fill=\"#009af9\" fill-rule=\"evenodd\" fill-opacity=\"1\" stroke=\"#000000\" stroke-opacity=\"1\" stroke-width=\"0.8\"/>\n",
       "<circle clip-path=\"url(#clip702)\" cx=\"482.952\" cy=\"333.66\" r=\"3\" fill=\"#009af9\" fill-rule=\"evenodd\" fill-opacity=\"1\" stroke=\"#000000\" stroke-opacity=\"1\" stroke-width=\"0.8\"/>\n",
       "<circle clip-path=\"url(#clip702)\" cx=\"433.556\" cy=\"270.002\" r=\"3\" fill=\"#009af9\" fill-rule=\"evenodd\" fill-opacity=\"1\" stroke=\"#000000\" stroke-opacity=\"1\" stroke-width=\"0.8\"/>\n",
       "<circle clip-path=\"url(#clip702)\" cx=\"406.399\" cy=\"275.859\" r=\"3\" fill=\"#009af9\" fill-rule=\"evenodd\" fill-opacity=\"1\" stroke=\"#000000\" stroke-opacity=\"1\" stroke-width=\"0.8\"/>\n",
       "<circle clip-path=\"url(#clip702)\" cx=\"317.113\" cy=\"257.116\" r=\"3\" fill=\"#009af9\" fill-rule=\"evenodd\" fill-opacity=\"1\" stroke=\"#000000\" stroke-opacity=\"1\" stroke-width=\"0.8\"/>\n",
       "<circle clip-path=\"url(#clip702)\" cx=\"444.87\" cy=\"253.962\" r=\"3\" fill=\"#009af9\" fill-rule=\"evenodd\" fill-opacity=\"1\" stroke=\"#000000\" stroke-opacity=\"1\" stroke-width=\"0.8\"/>\n",
       "<circle clip-path=\"url(#clip702)\" cx=\"313.255\" cy=\"295.312\" r=\"3\" fill=\"#009af9\" fill-rule=\"evenodd\" fill-opacity=\"1\" stroke=\"#000000\" stroke-opacity=\"1\" stroke-width=\"0.8\"/>\n",
       "<circle clip-path=\"url(#clip702)\" cx=\"409.679\" cy=\"247.84\" r=\"3\" fill=\"#009af9\" fill-rule=\"evenodd\" fill-opacity=\"1\" stroke=\"#000000\" stroke-opacity=\"1\" stroke-width=\"0.8\"/>\n",
       "<circle clip-path=\"url(#clip702)\" cx=\"400.67\" cy=\"306.742\" r=\"3\" fill=\"#009af9\" fill-rule=\"evenodd\" fill-opacity=\"1\" stroke=\"#000000\" stroke-opacity=\"1\" stroke-width=\"0.8\"/>\n",
       "<circle clip-path=\"url(#clip702)\" cx=\"354.667\" cy=\"271.194\" r=\"3\" fill=\"#009af9\" fill-rule=\"evenodd\" fill-opacity=\"1\" stroke=\"#000000\" stroke-opacity=\"1\" stroke-width=\"0.8\"/>\n",
       "<circle clip-path=\"url(#clip702)\" cx=\"412.626\" cy=\"305.531\" r=\"3\" fill=\"#009af9\" fill-rule=\"evenodd\" fill-opacity=\"1\" stroke=\"#000000\" stroke-opacity=\"1\" stroke-width=\"0.8\"/>\n",
       "<circle clip-path=\"url(#clip702)\" cx=\"390.828\" cy=\"311.45\" r=\"3\" fill=\"#009af9\" fill-rule=\"evenodd\" fill-opacity=\"1\" stroke=\"#000000\" stroke-opacity=\"1\" stroke-width=\"0.8\"/>\n",
       "<circle clip-path=\"url(#clip702)\" cx=\"342.809\" cy=\"300.651\" r=\"3\" fill=\"#009af9\" fill-rule=\"evenodd\" fill-opacity=\"1\" stroke=\"#000000\" stroke-opacity=\"1\" stroke-width=\"0.8\"/>\n",
       "<circle clip-path=\"url(#clip702)\" cx=\"407.291\" cy=\"263.184\" r=\"3\" fill=\"#009af9\" fill-rule=\"evenodd\" fill-opacity=\"1\" stroke=\"#000000\" stroke-opacity=\"1\" stroke-width=\"0.8\"/>\n",
       "<circle clip-path=\"url(#clip702)\" cx=\"357.39\" cy=\"348.75\" r=\"3\" fill=\"#009af9\" fill-rule=\"evenodd\" fill-opacity=\"1\" stroke=\"#000000\" stroke-opacity=\"1\" stroke-width=\"0.8\"/>\n",
       "<circle clip-path=\"url(#clip702)\" cx=\"338.935\" cy=\"295.179\" r=\"3\" fill=\"#009af9\" fill-rule=\"evenodd\" fill-opacity=\"1\" stroke=\"#000000\" stroke-opacity=\"1\" stroke-width=\"0.8\"/>\n",
       "<circle clip-path=\"url(#clip702)\" cx=\"399.603\" cy=\"282.27\" r=\"3\" fill=\"#009af9\" fill-rule=\"evenodd\" fill-opacity=\"1\" stroke=\"#000000\" stroke-opacity=\"1\" stroke-width=\"0.8\"/>\n",
       "<circle clip-path=\"url(#clip702)\" cx=\"313.273\" cy=\"238.402\" r=\"3\" fill=\"#009af9\" fill-rule=\"evenodd\" fill-opacity=\"1\" stroke=\"#000000\" stroke-opacity=\"1\" stroke-width=\"0.8\"/>\n",
       "<circle clip-path=\"url(#clip702)\" cx=\"364.587\" cy=\"308.473\" r=\"3\" fill=\"#009af9\" fill-rule=\"evenodd\" fill-opacity=\"1\" stroke=\"#000000\" stroke-opacity=\"1\" stroke-width=\"0.8\"/>\n",
       "<circle clip-path=\"url(#clip702)\" cx=\"321.511\" cy=\"232.109\" r=\"3\" fill=\"#009af9\" fill-rule=\"evenodd\" fill-opacity=\"1\" stroke=\"#000000\" stroke-opacity=\"1\" stroke-width=\"0.8\"/>\n",
       "<circle clip-path=\"url(#clip702)\" cx=\"300.339\" cy=\"249.392\" r=\"3\" fill=\"#009af9\" fill-rule=\"evenodd\" fill-opacity=\"1\" stroke=\"#000000\" stroke-opacity=\"1\" stroke-width=\"0.8\"/>\n",
       "<circle clip-path=\"url(#clip702)\" cx=\"572.813\" cy=\"329.799\" r=\"3\" fill=\"#009af9\" fill-rule=\"evenodd\" fill-opacity=\"1\" stroke=\"#000000\" stroke-opacity=\"1\" stroke-width=\"0.8\"/>\n",
       "<circle clip-path=\"url(#clip702)\" cx=\"335.704\" cy=\"262.86\" r=\"3\" fill=\"#009af9\" fill-rule=\"evenodd\" fill-opacity=\"1\" stroke=\"#000000\" stroke-opacity=\"1\" stroke-width=\"0.8\"/>\n",
       "<circle clip-path=\"url(#clip702)\" cx=\"259.854\" cy=\"287.122\" r=\"3\" fill=\"#009af9\" fill-rule=\"evenodd\" fill-opacity=\"1\" stroke=\"#000000\" stroke-opacity=\"1\" stroke-width=\"0.8\"/>\n",
       "<circle clip-path=\"url(#clip702)\" cx=\"462.447\" cy=\"254.012\" r=\"3\" fill=\"#009af9\" fill-rule=\"evenodd\" fill-opacity=\"1\" stroke=\"#000000\" stroke-opacity=\"1\" stroke-width=\"0.8\"/>\n",
       "<circle clip-path=\"url(#clip702)\" cx=\"377.222\" cy=\"290.658\" r=\"3\" fill=\"#009af9\" fill-rule=\"evenodd\" fill-opacity=\"1\" stroke=\"#000000\" stroke-opacity=\"1\" stroke-width=\"0.8\"/>\n",
       "<circle clip-path=\"url(#clip702)\" cx=\"422.313\" cy=\"316.115\" r=\"3\" fill=\"#009af9\" fill-rule=\"evenodd\" fill-opacity=\"1\" stroke=\"#000000\" stroke-opacity=\"1\" stroke-width=\"0.8\"/>\n",
       "<circle clip-path=\"url(#clip702)\" cx=\"389.578\" cy=\"284.535\" r=\"3\" fill=\"#009af9\" fill-rule=\"evenodd\" fill-opacity=\"1\" stroke=\"#000000\" stroke-opacity=\"1\" stroke-width=\"0.8\"/>\n",
       "<circle clip-path=\"url(#clip702)\" cx=\"361.782\" cy=\"282.956\" r=\"3\" fill=\"#009af9\" fill-rule=\"evenodd\" fill-opacity=\"1\" stroke=\"#000000\" stroke-opacity=\"1\" stroke-width=\"0.8\"/>\n",
       "<circle clip-path=\"url(#clip702)\" cx=\"384.674\" cy=\"273.006\" r=\"3\" fill=\"#009af9\" fill-rule=\"evenodd\" fill-opacity=\"1\" stroke=\"#000000\" stroke-opacity=\"1\" stroke-width=\"0.8\"/>\n",
       "<circle clip-path=\"url(#clip702)\" cx=\"412.464\" cy=\"259.978\" r=\"3\" fill=\"#009af9\" fill-rule=\"evenodd\" fill-opacity=\"1\" stroke=\"#000000\" stroke-opacity=\"1\" stroke-width=\"0.8\"/>\n",
       "<circle clip-path=\"url(#clip702)\" cx=\"451.285\" cy=\"294.862\" r=\"3\" fill=\"#009af9\" fill-rule=\"evenodd\" fill-opacity=\"1\" stroke=\"#000000\" stroke-opacity=\"1\" stroke-width=\"0.8\"/>\n",
       "<circle clip-path=\"url(#clip702)\" cx=\"312.756\" cy=\"311.484\" r=\"3\" fill=\"#009af9\" fill-rule=\"evenodd\" fill-opacity=\"1\" stroke=\"#000000\" stroke-opacity=\"1\" stroke-width=\"0.8\"/>\n",
       "<circle clip-path=\"url(#clip702)\" cx=\"332.383\" cy=\"276.22\" r=\"3\" fill=\"#009af9\" fill-rule=\"evenodd\" fill-opacity=\"1\" stroke=\"#000000\" stroke-opacity=\"1\" stroke-width=\"0.8\"/>\n",
       "<circle clip-path=\"url(#clip702)\" cx=\"288.481\" cy=\"267.308\" r=\"3\" fill=\"#009af9\" fill-rule=\"evenodd\" fill-opacity=\"1\" stroke=\"#000000\" stroke-opacity=\"1\" stroke-width=\"0.8\"/>\n",
       "<circle clip-path=\"url(#clip702)\" cx=\"358.33\" cy=\"262.733\" r=\"3\" fill=\"#009af9\" fill-rule=\"evenodd\" fill-opacity=\"1\" stroke=\"#000000\" stroke-opacity=\"1\" stroke-width=\"0.8\"/>\n",
       "<circle clip-path=\"url(#clip702)\" cx=\"375.674\" cy=\"265.069\" r=\"3\" fill=\"#009af9\" fill-rule=\"evenodd\" fill-opacity=\"1\" stroke=\"#000000\" stroke-opacity=\"1\" stroke-width=\"0.8\"/>\n",
       "<circle clip-path=\"url(#clip702)\" cx=\"414.148\" cy=\"210.628\" r=\"3\" fill=\"#009af9\" fill-rule=\"evenodd\" fill-opacity=\"1\" stroke=\"#000000\" stroke-opacity=\"1\" stroke-width=\"0.8\"/>\n",
       "<circle clip-path=\"url(#clip702)\" cx=\"374.56\" cy=\"268.469\" r=\"3\" fill=\"#009af9\" fill-rule=\"evenodd\" fill-opacity=\"1\" stroke=\"#000000\" stroke-opacity=\"1\" stroke-width=\"0.8\"/>\n",
       "<circle clip-path=\"url(#clip702)\" cx=\"475.643\" cy=\"328.65\" r=\"3\" fill=\"#009af9\" fill-rule=\"evenodd\" fill-opacity=\"1\" stroke=\"#000000\" stroke-opacity=\"1\" stroke-width=\"0.8\"/>\n",
       "<circle clip-path=\"url(#clip702)\" cx=\"485.083\" cy=\"300.681\" r=\"3\" fill=\"#009af9\" fill-rule=\"evenodd\" fill-opacity=\"1\" stroke=\"#000000\" stroke-opacity=\"1\" stroke-width=\"0.8\"/>\n",
       "<circle clip-path=\"url(#clip702)\" cx=\"331.282\" cy=\"266.448\" r=\"3\" fill=\"#009af9\" fill-rule=\"evenodd\" fill-opacity=\"1\" stroke=\"#000000\" stroke-opacity=\"1\" stroke-width=\"0.8\"/>\n",
       "<circle clip-path=\"url(#clip702)\" cx=\"383.567\" cy=\"251.091\" r=\"3\" fill=\"#009af9\" fill-rule=\"evenodd\" fill-opacity=\"1\" stroke=\"#000000\" stroke-opacity=\"1\" stroke-width=\"0.8\"/>\n",
       "<circle clip-path=\"url(#clip702)\" cx=\"401.811\" cy=\"329.336\" r=\"3\" fill=\"#009af9\" fill-rule=\"evenodd\" fill-opacity=\"1\" stroke=\"#000000\" stroke-opacity=\"1\" stroke-width=\"0.8\"/>\n",
       "<circle clip-path=\"url(#clip702)\" cx=\"355.205\" cy=\"283.566\" r=\"3\" fill=\"#009af9\" fill-rule=\"evenodd\" fill-opacity=\"1\" stroke=\"#000000\" stroke-opacity=\"1\" stroke-width=\"0.8\"/>\n",
       "<circle clip-path=\"url(#clip702)\" cx=\"419.238\" cy=\"290.91\" r=\"3\" fill=\"#009af9\" fill-rule=\"evenodd\" fill-opacity=\"1\" stroke=\"#000000\" stroke-opacity=\"1\" stroke-width=\"0.8\"/>\n",
       "<circle clip-path=\"url(#clip702)\" cx=\"325.062\" cy=\"271.049\" r=\"3\" fill=\"#009af9\" fill-rule=\"evenodd\" fill-opacity=\"1\" stroke=\"#000000\" stroke-opacity=\"1\" stroke-width=\"0.8\"/>\n",
       "<circle clip-path=\"url(#clip702)\" cx=\"319.327\" cy=\"308.809\" r=\"3\" fill=\"#009af9\" fill-rule=\"evenodd\" fill-opacity=\"1\" stroke=\"#000000\" stroke-opacity=\"1\" stroke-width=\"0.8\"/>\n",
       "<circle clip-path=\"url(#clip702)\" cx=\"311.398\" cy=\"294.54\" r=\"3\" fill=\"#009af9\" fill-rule=\"evenodd\" fill-opacity=\"1\" stroke=\"#000000\" stroke-opacity=\"1\" stroke-width=\"0.8\"/>\n",
       "<circle clip-path=\"url(#clip702)\" cx=\"374.218\" cy=\"277.498\" r=\"3\" fill=\"#009af9\" fill-rule=\"evenodd\" fill-opacity=\"1\" stroke=\"#000000\" stroke-opacity=\"1\" stroke-width=\"0.8\"/>\n",
       "<path clip-path=\"url(#clip700)\" d=\"\n",
       "M496.961 54.0444 L570.08 54.0444 L570.08 23.8044 L496.961 23.8044  Z\n",
       "  \" fill=\"#ffffff\" fill-rule=\"evenodd\" fill-opacity=\"1\"/>\n",
       "<polyline clip-path=\"url(#clip700)\" style=\"stroke:#000000; stroke-width:1; stroke-opacity:1; fill:none\" points=\"\n",
       "  496.961,54.0444 570.08,54.0444 570.08,23.8044 496.961,23.8044 496.961,54.0444 \n",
       "  \"/>\n",
       "<circle clip-path=\"url(#clip700)\" cx=\"521.107\" cy=\"38.9244\" r=\"5\" fill=\"#009af9\" fill-rule=\"evenodd\" fill-opacity=\"1\" stroke=\"#000000\" stroke-opacity=\"1\" stroke-width=\"1.28\"/>\n",
       "<path clip-path=\"url(#clip700)\" d=\"M 0 0 M548.713 43.8462 Q548.262 45.0036 547.833 45.3566 Q547.405 45.7097 546.688 45.7097 L545.837 45.7097 L545.837 44.8185 L546.462 44.8185 Q546.902 44.8185 547.145 44.6101 Q547.388 44.4018 547.683 43.6263 L547.874 43.1402 L545.252 36.7629 L546.381 36.7629 L548.406 41.8324 L550.432 36.7629 L551.56 36.7629 L548.713 43.8462 Z\" fill=\"#000000\" fill-rule=\"evenodd\" fill-opacity=\"1\" /><path clip-path=\"url(#clip700)\" d=\"M 0 0 M553.03 42.2606 L554.94 42.2606 L554.94 35.6692 L552.862 36.0859 L552.862 35.0211 L554.928 34.6044 L556.097 34.6044 L556.097 42.2606 L558.007 42.2606 L558.007 43.2444 L553.03 43.2444 L553.03 42.2606 Z\" fill=\"#000000\" fill-rule=\"evenodd\" fill-opacity=\"1\" /></svg>\n"
      ]
     },
     "execution_count": 43,
     "metadata": {},
     "output_type": "execute_result"
    }
   ],
   "source": [
    "scatter([x[1] for x in X], [x[2] for x in X])"
   ]
  },
  {
   "cell_type": "code",
   "execution_count": 44,
   "metadata": {},
   "outputs": [
    {
     "data": {
      "image/svg+xml": [
       "<?xml version=\"1.0\" encoding=\"utf-8\"?>\n",
       "<svg xmlns=\"http://www.w3.org/2000/svg\" xmlns:xlink=\"http://www.w3.org/1999/xlink\" width=\"125\" height=\"125\" viewBox=\"0 0 500 500\">\n",
       "<defs>\n",
       "  <clipPath id=\"clip740\">\n",
       "    <rect x=\"0\" y=\"0\" width=\"500\" height=\"500\"/>\n",
       "  </clipPath>\n",
       "</defs>\n",
       "<path clip-path=\"url(#clip740)\" d=\"\n",
       "M0 500 L500 500 L500 0 L0 0  Z\n",
       "  \" fill=\"#ffffff\" fill-rule=\"evenodd\" fill-opacity=\"1\"/>\n",
       "<defs>\n",
       "  <clipPath id=\"clip741\">\n",
       "    <rect x=\"100\" y=\"50\" width=\"351\" height=\"351\"/>\n",
       "  </clipPath>\n",
       "</defs>\n",
       "<path clip-path=\"url(#clip740)\" d=\"\n",
       "M34.6137 466.292 L488.189 466.292 L488.189 11.811 L34.6137 11.811  Z\n",
       "  \" fill=\"#ffffff\" fill-rule=\"evenodd\" fill-opacity=\"1\"/>\n",
       "<defs>\n",
       "  <clipPath id=\"clip742\">\n",
       "    <rect x=\"34\" y=\"11\" width=\"455\" height=\"455\"/>\n",
       "  </clipPath>\n",
       "</defs>\n",
       "<polyline clip-path=\"url(#clip740)\" style=\"stroke:#000000; stroke-width:1; stroke-opacity:1; fill:none\" points=\"\n",
       "  34.6137,466.292 488.189,466.292 \n",
       "  \"/>\n",
       "<polyline clip-path=\"url(#clip740)\" style=\"stroke:#000000; stroke-width:1; stroke-opacity:1; fill:none\" points=\"\n",
       "  91.3106,466.292 91.3106,460.838 \n",
       "  \"/>\n",
       "<polyline clip-path=\"url(#clip740)\" style=\"stroke:#000000; stroke-width:1; stroke-opacity:1; fill:none\" points=\"\n",
       "  204.704,466.292 204.704,460.838 \n",
       "  \"/>\n",
       "<polyline clip-path=\"url(#clip740)\" style=\"stroke:#000000; stroke-width:1; stroke-opacity:1; fill:none\" points=\"\n",
       "  318.098,466.292 318.098,460.838 \n",
       "  \"/>\n",
       "<polyline clip-path=\"url(#clip740)\" style=\"stroke:#000000; stroke-width:1; stroke-opacity:1; fill:none\" points=\"\n",
       "  431.492,466.292 431.492,460.838 \n",
       "  \"/>\n",
       "<path clip-path=\"url(#clip740)\" d=\"M 0 0 M84.3778 476.453 L91.7967 476.453 L91.7967 477.437 L84.3778 477.437 L84.3778 476.453 Z\" fill=\"#000000\" fill-rule=\"evenodd\" fill-opacity=\"1\" /><path clip-path=\"url(#clip740)\" d=\"M 0 0 M93.2666 479.676 L95.1763 479.676 L95.1763 473.085 L93.0988 473.501 L93.0988 472.437 L95.1648 472.02 L96.3337 472.02 L96.3337 479.676 L98.2434 479.676 L98.2434 480.66 L93.2666 480.66 L93.2666 479.676 Z\" fill=\"#000000\" fill-rule=\"evenodd\" fill-opacity=\"1\" /><path clip-path=\"url(#clip740)\" d=\"M 0 0 M204.704 472.79 Q203.802 472.79 203.344 473.681 Q202.893 474.566 202.893 476.349 Q202.893 478.125 203.344 479.016 Q203.802 479.902 204.704 479.902 Q205.613 479.902 206.064 479.016 Q206.522 478.125 206.522 476.349 Q206.522 474.566 206.064 473.681 Q205.613 472.79 204.704 472.79 M204.704 471.864 Q206.157 471.864 206.921 473.015 Q207.691 474.161 207.691 476.349 Q207.691 478.53 206.921 479.682 Q206.157 480.828 204.704 480.828 Q203.252 480.828 202.482 479.682 Q201.718 478.53 201.718 476.349 Q201.718 474.161 202.482 473.015 Q203.252 471.864 204.704 471.864 Z\" fill=\"#000000\" fill-rule=\"evenodd\" fill-opacity=\"1\" /><path clip-path=\"url(#clip740)\" d=\"M 0 0 M315.694 479.676 L317.603 479.676 L317.603 473.085 L315.526 473.501 L315.526 472.437 L317.592 472.02 L318.761 472.02 L318.761 479.676 L320.671 479.676 L320.671 480.66 L315.694 480.66 L315.694 479.676 Z\" fill=\"#000000\" fill-rule=\"evenodd\" fill-opacity=\"1\" /><path clip-path=\"url(#clip740)\" d=\"M 0 0 M430.155 479.676 L434.235 479.676 L434.235 480.66 L428.749 480.66 L428.749 479.676 Q429.415 478.988 430.56 477.83 Q431.712 476.667 432.007 476.331 Q432.568 475.701 432.788 475.266 Q433.014 474.827 433.014 474.404 Q433.014 473.716 432.528 473.282 Q432.048 472.848 431.272 472.848 Q430.722 472.848 430.109 473.038 Q429.501 473.229 428.807 473.617 L428.807 472.437 Q429.513 472.153 430.126 472.008 Q430.74 471.864 431.249 471.864 Q432.592 471.864 433.39 472.535 Q434.189 473.206 434.189 474.329 Q434.189 474.861 433.986 475.342 Q433.79 475.816 433.263 476.464 Q433.118 476.632 432.343 477.437 Q431.567 478.235 430.155 479.676 Z\" fill=\"#000000\" fill-rule=\"evenodd\" fill-opacity=\"1\" /><polyline clip-path=\"url(#clip740)\" style=\"stroke:#000000; stroke-width:1; stroke-opacity:1; fill:none\" points=\"\n",
       "  34.6137,466.292 34.6137,11.811 \n",
       "  \"/>\n",
       "<polyline clip-path=\"url(#clip740)\" style=\"stroke:#000000; stroke-width:1; stroke-opacity:1; fill:none\" points=\"\n",
       "  34.6137,466.292 40.0566,466.292 \n",
       "  \"/>\n",
       "<polyline clip-path=\"url(#clip740)\" style=\"stroke:#000000; stroke-width:1; stroke-opacity:1; fill:none\" points=\"\n",
       "  34.6137,352.672 40.0566,352.672 \n",
       "  \"/>\n",
       "<polyline clip-path=\"url(#clip740)\" style=\"stroke:#000000; stroke-width:1; stroke-opacity:1; fill:none\" points=\"\n",
       "  34.6137,239.051 40.0566,239.051 \n",
       "  \"/>\n",
       "<polyline clip-path=\"url(#clip740)\" style=\"stroke:#000000; stroke-width:1; stroke-opacity:1; fill:none\" points=\"\n",
       "  34.6137,125.431 40.0566,125.431 \n",
       "  \"/>\n",
       "<polyline clip-path=\"url(#clip740)\" style=\"stroke:#000000; stroke-width:1; stroke-opacity:1; fill:none\" points=\"\n",
       "  34.6137,11.811 40.0566,11.811 \n",
       "  \"/>\n",
       "<path clip-path=\"url(#clip740)\" d=\"M 0 0 M13.3406 466.405 L20.7596 466.405 L20.7596 467.389 L13.3406 467.389 L13.3406 466.405 Z\" fill=\"#000000\" fill-rule=\"evenodd\" fill-opacity=\"1\" /><path clip-path=\"url(#clip740)\" d=\"M 0 0 M23.0339 469.628 L27.1137 469.628 L27.1137 470.612 L21.6276 470.612 L21.6276 469.628 Q22.2931 468.94 23.4389 467.782 Q24.5906 466.619 24.8857 466.283 Q25.447 465.653 25.6669 465.218 Q25.8926 464.779 25.8926 464.356 Q25.8926 463.668 25.4065 463.234 Q24.9262 462.8 24.1508 462.8 Q23.601 462.8 22.9876 462.99 Q22.3799 463.181 21.6855 463.569 L21.6855 462.389 Q22.3915 462.105 23.0049 461.96 Q23.6183 461.816 24.1276 461.816 Q25.4702 461.816 26.2688 462.487 Q27.0674 463.158 27.0674 464.281 Q27.0674 464.813 26.8649 465.294 Q26.6681 465.768 26.1415 466.416 Q25.9968 466.584 25.2213 467.389 Q24.4459 468.187 23.0339 469.628 Z\" fill=\"#000000\" fill-rule=\"evenodd\" fill-opacity=\"1\" /><path clip-path=\"url(#clip740)\" d=\"M 0 0 M13.248 352.785 L20.667 352.785 L20.667 353.768 L13.248 353.768 L13.248 352.785 Z\" fill=\"#000000\" fill-rule=\"evenodd\" fill-opacity=\"1\" /><path clip-path=\"url(#clip740)\" d=\"M 0 0 M22.1369 356.008 L24.0466 356.008 L24.0466 349.417 L21.969 349.833 L21.969 348.768 L24.035 348.352 L25.204 348.352 L25.204 356.008 L27.1137 356.008 L27.1137 356.992 L22.1369 356.992 L22.1369 356.008 Z\" fill=\"#000000\" fill-rule=\"evenodd\" fill-opacity=\"1\" /><path clip-path=\"url(#clip740)\" d=\"M 0 0 M24.1276 235.501 Q23.2248 235.501 22.7677 236.392 Q22.3163 237.278 22.3163 239.06 Q22.3163 240.837 22.7677 241.728 Q23.2248 242.613 24.1276 242.613 Q25.0362 242.613 25.4875 241.728 Q25.9447 240.837 25.9447 239.06 Q25.9447 237.278 25.4875 236.392 Q25.0362 235.501 24.1276 235.501 M24.1276 234.575 Q25.5801 234.575 26.344 235.727 Q27.1137 236.873 27.1137 239.06 Q27.1137 241.242 26.344 242.393 Q25.5801 243.539 24.1276 243.539 Q22.6751 243.539 21.9054 242.393 Q21.1415 241.242 21.1415 239.06 Q21.1415 236.873 21.9054 235.727 Q22.6751 234.575 24.1276 234.575 Z\" fill=\"#000000\" fill-rule=\"evenodd\" fill-opacity=\"1\" /><path clip-path=\"url(#clip740)\" d=\"M 0 0 M22.1369 128.767 L24.0466 128.767 L24.0466 122.176 L21.969 122.593 L21.969 121.528 L24.035 121.111 L25.204 121.111 L25.204 128.767 L27.1137 128.767 L27.1137 129.751 L22.1369 129.751 L22.1369 128.767 Z\" fill=\"#000000\" fill-rule=\"evenodd\" fill-opacity=\"1\" /><path clip-path=\"url(#clip740)\" d=\"M 0 0 M23.0339 15.1472 L27.1137 15.1472 L27.1137 16.131 L21.6276 16.131 L21.6276 15.1472 Q22.2931 14.4586 23.4389 13.3012 Q24.5906 12.138 24.8857 11.8023 Q25.447 11.1716 25.6669 10.7375 Q25.8926 10.2977 25.8926 9.87527 Q25.8926 9.18662 25.4065 8.75259 Q24.9262 8.31857 24.1508 8.31857 Q23.601 8.31857 22.9876 8.50954 Q22.3799 8.70051 21.6855 9.08824 L21.6855 7.90769 Q22.3915 7.62412 23.0049 7.47945 Q23.6183 7.33477 24.1276 7.33477 Q25.4702 7.33477 26.2688 8.00607 Q27.0674 8.67736 27.0674 9.80004 Q27.0674 10.3324 26.8649 10.8128 Q26.6681 11.2873 26.1415 11.9354 Q25.9968 12.1033 25.2213 12.9077 Q24.4459 13.7063 23.0339 15.1472 Z\" fill=\"#000000\" fill-rule=\"evenodd\" fill-opacity=\"1\" /><circle clip-path=\"url(#clip742)\" cx=\"212.093\" cy=\"217.791\" r=\"3\" fill=\"#009af9\" fill-rule=\"evenodd\" fill-opacity=\"1\" stroke=\"#000000\" stroke-opacity=\"1\" stroke-width=\"1\"/>\n",
       "<circle clip-path=\"url(#clip742)\" cx=\"198.846\" cy=\"219.512\" r=\"3\" fill=\"#009af9\" fill-rule=\"evenodd\" fill-opacity=\"1\" stroke=\"#000000\" stroke-opacity=\"1\" stroke-width=\"1\"/>\n",
       "<circle clip-path=\"url(#clip742)\" cx=\"267.375\" cy=\"256.115\" r=\"3\" fill=\"#009af9\" fill-rule=\"evenodd\" fill-opacity=\"1\" stroke=\"#000000\" stroke-opacity=\"1\" stroke-width=\"1\"/>\n",
       "<circle clip-path=\"url(#clip742)\" cx=\"162.087\" cy=\"246.652\" r=\"3\" fill=\"#009af9\" fill-rule=\"evenodd\" fill-opacity=\"1\" stroke=\"#000000\" stroke-opacity=\"1\" stroke-width=\"1\"/>\n",
       "<circle clip-path=\"url(#clip742)\" cx=\"252.736\" cy=\"259.242\" r=\"3\" fill=\"#009af9\" fill-rule=\"evenodd\" fill-opacity=\"1\" stroke=\"#000000\" stroke-opacity=\"1\" stroke-width=\"1\"/>\n",
       "<circle clip-path=\"url(#clip742)\" cx=\"177.87\" cy=\"281.824\" r=\"3\" fill=\"#009af9\" fill-rule=\"evenodd\" fill-opacity=\"1\" stroke=\"#000000\" stroke-opacity=\"1\" stroke-width=\"1\"/>\n",
       "<circle clip-path=\"url(#clip742)\" cx=\"208.421\" cy=\"200.644\" r=\"3\" fill=\"#009af9\" fill-rule=\"evenodd\" fill-opacity=\"1\" stroke=\"#000000\" stroke-opacity=\"1\" stroke-width=\"1\"/>\n",
       "<circle clip-path=\"url(#clip742)\" cx=\"192.824\" cy=\"211.131\" r=\"3\" fill=\"#009af9\" fill-rule=\"evenodd\" fill-opacity=\"1\" stroke=\"#000000\" stroke-opacity=\"1\" stroke-width=\"1\"/>\n",
       "<circle clip-path=\"url(#clip742)\" cx=\"211.141\" cy=\"238.253\" r=\"3\" fill=\"#009af9\" fill-rule=\"evenodd\" fill-opacity=\"1\" stroke=\"#000000\" stroke-opacity=\"1\" stroke-width=\"1\"/>\n",
       "<circle clip-path=\"url(#clip742)\" cx=\"225.533\" cy=\"297.538\" r=\"3\" fill=\"#009af9\" fill-rule=\"evenodd\" fill-opacity=\"1\" stroke=\"#000000\" stroke-opacity=\"1\" stroke-width=\"1\"/>\n",
       "<circle clip-path=\"url(#clip742)\" cx=\"185.95\" cy=\"275.998\" r=\"3\" fill=\"#009af9\" fill-rule=\"evenodd\" fill-opacity=\"1\" stroke=\"#000000\" stroke-opacity=\"1\" stroke-width=\"1\"/>\n",
       "<circle clip-path=\"url(#clip742)\" cx=\"214.773\" cy=\"249.917\" r=\"3\" fill=\"#009af9\" fill-rule=\"evenodd\" fill-opacity=\"1\" stroke=\"#000000\" stroke-opacity=\"1\" stroke-width=\"1\"/>\n",
       "<circle clip-path=\"url(#clip742)\" cx=\"207.387\" cy=\"203.542\" r=\"3\" fill=\"#009af9\" fill-rule=\"evenodd\" fill-opacity=\"1\" stroke=\"#000000\" stroke-opacity=\"1\" stroke-width=\"1\"/>\n",
       "<circle clip-path=\"url(#clip742)\" cx=\"174.302\" cy=\"234.79\" r=\"3\" fill=\"#009af9\" fill-rule=\"evenodd\" fill-opacity=\"1\" stroke=\"#000000\" stroke-opacity=\"1\" stroke-width=\"1\"/>\n",
       "<circle clip-path=\"url(#clip742)\" cx=\"261.352\" cy=\"264.789\" r=\"3\" fill=\"#009af9\" fill-rule=\"evenodd\" fill-opacity=\"1\" stroke=\"#000000\" stroke-opacity=\"1\" stroke-width=\"1\"/>\n",
       "<circle clip-path=\"url(#clip742)\" cx=\"194.33\" cy=\"263.275\" r=\"3\" fill=\"#009af9\" fill-rule=\"evenodd\" fill-opacity=\"1\" stroke=\"#000000\" stroke-opacity=\"1\" stroke-width=\"1\"/>\n",
       "<circle clip-path=\"url(#clip742)\" cx=\"194.975\" cy=\"285.785\" r=\"3\" fill=\"#009af9\" fill-rule=\"evenodd\" fill-opacity=\"1\" stroke=\"#000000\" stroke-opacity=\"1\" stroke-width=\"1\"/>\n",
       "<circle clip-path=\"url(#clip742)\" cx=\"214.916\" cy=\"227.255\" r=\"3\" fill=\"#009af9\" fill-rule=\"evenodd\" fill-opacity=\"1\" stroke=\"#000000\" stroke-opacity=\"1\" stroke-width=\"1\"/>\n",
       "<circle clip-path=\"url(#clip742)\" cx=\"176.179\" cy=\"259.037\" r=\"3\" fill=\"#009af9\" fill-rule=\"evenodd\" fill-opacity=\"1\" stroke=\"#000000\" stroke-opacity=\"1\" stroke-width=\"1\"/>\n",
       "<circle clip-path=\"url(#clip742)\" cx=\"268.882\" cy=\"184.631\" r=\"3\" fill=\"#009af9\" fill-rule=\"evenodd\" fill-opacity=\"1\" stroke=\"#000000\" stroke-opacity=\"1\" stroke-width=\"1\"/>\n",
       "<circle clip-path=\"url(#clip742)\" cx=\"254.26\" cy=\"285.52\" r=\"3\" fill=\"#009af9\" fill-rule=\"evenodd\" fill-opacity=\"1\" stroke=\"#000000\" stroke-opacity=\"1\" stroke-width=\"1\"/>\n",
       "<circle clip-path=\"url(#clip742)\" cx=\"209.568\" cy=\"248.133\" r=\"3\" fill=\"#009af9\" fill-rule=\"evenodd\" fill-opacity=\"1\" stroke=\"#000000\" stroke-opacity=\"1\" stroke-width=\"1\"/>\n",
       "<circle clip-path=\"url(#clip742)\" cx=\"189.737\" cy=\"194.836\" r=\"3\" fill=\"#009af9\" fill-rule=\"evenodd\" fill-opacity=\"1\" stroke=\"#000000\" stroke-opacity=\"1\" stroke-width=\"1\"/>\n",
       "<circle clip-path=\"url(#clip742)\" cx=\"194.333\" cy=\"282.72\" r=\"3\" fill=\"#009af9\" fill-rule=\"evenodd\" fill-opacity=\"1\" stroke=\"#000000\" stroke-opacity=\"1\" stroke-width=\"1\"/>\n",
       "<circle clip-path=\"url(#clip742)\" cx=\"168.869\" cy=\"193.023\" r=\"3\" fill=\"#009af9\" fill-rule=\"evenodd\" fill-opacity=\"1\" stroke=\"#000000\" stroke-opacity=\"1\" stroke-width=\"1\"/>\n",
       "<circle clip-path=\"url(#clip742)\" cx=\"235.855\" cy=\"224.018\" r=\"3\" fill=\"#009af9\" fill-rule=\"evenodd\" fill-opacity=\"1\" stroke=\"#000000\" stroke-opacity=\"1\" stroke-width=\"1\"/>\n",
       "<circle clip-path=\"url(#clip742)\" cx=\"158.038\" cy=\"196.792\" r=\"3\" fill=\"#009af9\" fill-rule=\"evenodd\" fill-opacity=\"1\" stroke=\"#000000\" stroke-opacity=\"1\" stroke-width=\"1\"/>\n",
       "<circle clip-path=\"url(#clip742)\" cx=\"208.923\" cy=\"181.721\" r=\"3\" fill=\"#009af9\" fill-rule=\"evenodd\" fill-opacity=\"1\" stroke=\"#000000\" stroke-opacity=\"1\" stroke-width=\"1\"/>\n",
       "<circle clip-path=\"url(#clip742)\" cx=\"219.142\" cy=\"234.731\" r=\"3\" fill=\"#009af9\" fill-rule=\"evenodd\" fill-opacity=\"1\" stroke=\"#000000\" stroke-opacity=\"1\" stroke-width=\"1\"/>\n",
       "<circle clip-path=\"url(#clip742)\" cx=\"264.981\" cy=\"243\" r=\"3\" fill=\"#009af9\" fill-rule=\"evenodd\" fill-opacity=\"1\" stroke=\"#000000\" stroke-opacity=\"1\" stroke-width=\"1\"/>\n",
       "<circle clip-path=\"url(#clip742)\" cx=\"232.848\" cy=\"237.331\" r=\"3\" fill=\"#009af9\" fill-rule=\"evenodd\" fill-opacity=\"1\" stroke=\"#000000\" stroke-opacity=\"1\" stroke-width=\"1\"/>\n",
       "<circle clip-path=\"url(#clip742)\" cx=\"203.138\" cy=\"279.402\" r=\"3\" fill=\"#009af9\" fill-rule=\"evenodd\" fill-opacity=\"1\" stroke=\"#000000\" stroke-opacity=\"1\" stroke-width=\"1\"/>\n",
       "<circle clip-path=\"url(#clip742)\" cx=\"154.251\" cy=\"170.533\" r=\"3\" fill=\"#009af9\" fill-rule=\"evenodd\" fill-opacity=\"1\" stroke=\"#000000\" stroke-opacity=\"1\" stroke-width=\"1\"/>\n",
       "<circle clip-path=\"url(#clip742)\" cx=\"204.83\" cy=\"217.486\" r=\"3\" fill=\"#009af9\" fill-rule=\"evenodd\" fill-opacity=\"1\" stroke=\"#000000\" stroke-opacity=\"1\" stroke-width=\"1\"/>\n",
       "<circle clip-path=\"url(#clip742)\" cx=\"242.167\" cy=\"290.942\" r=\"3\" fill=\"#009af9\" fill-rule=\"evenodd\" fill-opacity=\"1\" stroke=\"#000000\" stroke-opacity=\"1\" stroke-width=\"1\"/>\n",
       "<circle clip-path=\"url(#clip742)\" cx=\"201.934\" cy=\"293.234\" r=\"3\" fill=\"#009af9\" fill-rule=\"evenodd\" fill-opacity=\"1\" stroke=\"#000000\" stroke-opacity=\"1\" stroke-width=\"1\"/>\n",
       "<circle clip-path=\"url(#clip742)\" cx=\"232.957\" cy=\"245.822\" r=\"3\" fill=\"#009af9\" fill-rule=\"evenodd\" fill-opacity=\"1\" stroke=\"#000000\" stroke-opacity=\"1\" stroke-width=\"1\"/>\n",
       "<circle clip-path=\"url(#clip742)\" cx=\"215.784\" cy=\"284.726\" r=\"3\" fill=\"#009af9\" fill-rule=\"evenodd\" fill-opacity=\"1\" stroke=\"#000000\" stroke-opacity=\"1\" stroke-width=\"1\"/>\n",
       "<circle clip-path=\"url(#clip742)\" cx=\"206.989\" cy=\"213.854\" r=\"3\" fill=\"#009af9\" fill-rule=\"evenodd\" fill-opacity=\"1\" stroke=\"#000000\" stroke-opacity=\"1\" stroke-width=\"1\"/>\n",
       "<circle clip-path=\"url(#clip742)\" cx=\"173.44\" cy=\"289.185\" r=\"3\" fill=\"#009af9\" fill-rule=\"evenodd\" fill-opacity=\"1\" stroke=\"#000000\" stroke-opacity=\"1\" stroke-width=\"1\"/>\n",
       "<circle clip-path=\"url(#clip742)\" cx=\"183.414\" cy=\"277.7\" r=\"3\" fill=\"#009af9\" fill-rule=\"evenodd\" fill-opacity=\"1\" stroke=\"#000000\" stroke-opacity=\"1\" stroke-width=\"1\"/>\n",
       "<circle clip-path=\"url(#clip742)\" cx=\"197.651\" cy=\"212.009\" r=\"3\" fill=\"#009af9\" fill-rule=\"evenodd\" fill-opacity=\"1\" stroke=\"#000000\" stroke-opacity=\"1\" stroke-width=\"1\"/>\n",
       "<circle clip-path=\"url(#clip742)\" cx=\"228.006\" cy=\"281.047\" r=\"3\" fill=\"#009af9\" fill-rule=\"evenodd\" fill-opacity=\"1\" stroke=\"#000000\" stroke-opacity=\"1\" stroke-width=\"1\"/>\n",
       "<circle clip-path=\"url(#clip742)\" cx=\"210.569\" cy=\"243.252\" r=\"3\" fill=\"#009af9\" fill-rule=\"evenodd\" fill-opacity=\"1\" stroke=\"#000000\" stroke-opacity=\"1\" stroke-width=\"1\"/>\n",
       "<circle clip-path=\"url(#clip742)\" cx=\"194.232\" cy=\"257.239\" r=\"3\" fill=\"#009af9\" fill-rule=\"evenodd\" fill-opacity=\"1\" stroke=\"#000000\" stroke-opacity=\"1\" stroke-width=\"1\"/>\n",
       "<circle clip-path=\"url(#clip742)\" cx=\"248.44\" cy=\"327.565\" r=\"3\" fill=\"#009af9\" fill-rule=\"evenodd\" fill-opacity=\"1\" stroke=\"#000000\" stroke-opacity=\"1\" stroke-width=\"1\"/>\n",
       "<circle clip-path=\"url(#clip742)\" cx=\"199.453\" cy=\"202.154\" r=\"3\" fill=\"#009af9\" fill-rule=\"evenodd\" fill-opacity=\"1\" stroke=\"#000000\" stroke-opacity=\"1\" stroke-width=\"1\"/>\n",
       "<circle clip-path=\"url(#clip742)\" cx=\"211.327\" cy=\"232.183\" r=\"3\" fill=\"#009af9\" fill-rule=\"evenodd\" fill-opacity=\"1\" stroke=\"#000000\" stroke-opacity=\"1\" stroke-width=\"1\"/>\n",
       "<circle clip-path=\"url(#clip742)\" cx=\"221.416\" cy=\"262.281\" r=\"3\" fill=\"#009af9\" fill-rule=\"evenodd\" fill-opacity=\"1\" stroke=\"#000000\" stroke-opacity=\"1\" stroke-width=\"1\"/>\n",
       "<circle clip-path=\"url(#clip742)\" cx=\"192.863\" cy=\"186.049\" r=\"3\" fill=\"#009af9\" fill-rule=\"evenodd\" fill-opacity=\"1\" stroke=\"#000000\" stroke-opacity=\"1\" stroke-width=\"1\"/>\n",
       "<circle clip-path=\"url(#clip742)\" cx=\"187.623\" cy=\"261.69\" r=\"3\" fill=\"#009af9\" fill-rule=\"evenodd\" fill-opacity=\"1\" stroke=\"#000000\" stroke-opacity=\"1\" stroke-width=\"1\"/>\n",
       "<circle clip-path=\"url(#clip742)\" cx=\"202.87\" cy=\"201.697\" r=\"3\" fill=\"#009af9\" fill-rule=\"evenodd\" fill-opacity=\"1\" stroke=\"#000000\" stroke-opacity=\"1\" stroke-width=\"1\"/>\n",
       "<circle clip-path=\"url(#clip742)\" cx=\"239.006\" cy=\"255.78\" r=\"3\" fill=\"#009af9\" fill-rule=\"evenodd\" fill-opacity=\"1\" stroke=\"#000000\" stroke-opacity=\"1\" stroke-width=\"1\"/>\n",
       "<circle clip-path=\"url(#clip742)\" cx=\"186.771\" cy=\"183.94\" r=\"3\" fill=\"#009af9\" fill-rule=\"evenodd\" fill-opacity=\"1\" stroke=\"#000000\" stroke-opacity=\"1\" stroke-width=\"1\"/>\n",
       "<circle clip-path=\"url(#clip742)\" cx=\"155.989\" cy=\"280.493\" r=\"3\" fill=\"#009af9\" fill-rule=\"evenodd\" fill-opacity=\"1\" stroke=\"#000000\" stroke-opacity=\"1\" stroke-width=\"1\"/>\n",
       "<circle clip-path=\"url(#clip742)\" cx=\"220.896\" cy=\"280.113\" r=\"3\" fill=\"#009af9\" fill-rule=\"evenodd\" fill-opacity=\"1\" stroke=\"#000000\" stroke-opacity=\"1\" stroke-width=\"1\"/>\n",
       "<circle clip-path=\"url(#clip742)\" cx=\"319.308\" cy=\"175.865\" r=\"3\" fill=\"#009af9\" fill-rule=\"evenodd\" fill-opacity=\"1\" stroke=\"#000000\" stroke-opacity=\"1\" stroke-width=\"1\"/>\n",
       "<circle clip-path=\"url(#clip742)\" cx=\"211.601\" cy=\"252.185\" r=\"3\" fill=\"#009af9\" fill-rule=\"evenodd\" fill-opacity=\"1\" stroke=\"#000000\" stroke-opacity=\"1\" stroke-width=\"1\"/>\n",
       "<circle clip-path=\"url(#clip742)\" cx=\"229.759\" cy=\"246.515\" r=\"3\" fill=\"#009af9\" fill-rule=\"evenodd\" fill-opacity=\"1\" stroke=\"#000000\" stroke-opacity=\"1\" stroke-width=\"1\"/>\n",
       "<circle clip-path=\"url(#clip742)\" cx=\"260.067\" cy=\"259.21\" r=\"3\" fill=\"#009af9\" fill-rule=\"evenodd\" fill-opacity=\"1\" stroke=\"#000000\" stroke-opacity=\"1\" stroke-width=\"1\"/>\n",
       "<circle clip-path=\"url(#clip742)\" cx=\"144.213\" cy=\"299.35\" r=\"3\" fill=\"#009af9\" fill-rule=\"evenodd\" fill-opacity=\"1\" stroke=\"#000000\" stroke-opacity=\"1\" stroke-width=\"1\"/>\n",
       "<circle clip-path=\"url(#clip742)\" cx=\"249.438\" cy=\"243.593\" r=\"3\" fill=\"#009af9\" fill-rule=\"evenodd\" fill-opacity=\"1\" stroke=\"#000000\" stroke-opacity=\"1\" stroke-width=\"1\"/>\n",
       "<circle clip-path=\"url(#clip742)\" cx=\"191.323\" cy=\"296.13\" r=\"3\" fill=\"#009af9\" fill-rule=\"evenodd\" fill-opacity=\"1\" stroke=\"#000000\" stroke-opacity=\"1\" stroke-width=\"1\"/>\n",
       "<circle clip-path=\"url(#clip742)\" cx=\"190.112\" cy=\"233.996\" r=\"3\" fill=\"#009af9\" fill-rule=\"evenodd\" fill-opacity=\"1\" stroke=\"#000000\" stroke-opacity=\"1\" stroke-width=\"1\"/>\n",
       "<circle clip-path=\"url(#clip742)\" cx=\"232.27\" cy=\"213.626\" r=\"3\" fill=\"#009af9\" fill-rule=\"evenodd\" fill-opacity=\"1\" stroke=\"#000000\" stroke-opacity=\"1\" stroke-width=\"1\"/>\n",
       "<circle clip-path=\"url(#clip742)\" cx=\"243.479\" cy=\"268.274\" r=\"3\" fill=\"#009af9\" fill-rule=\"evenodd\" fill-opacity=\"1\" stroke=\"#000000\" stroke-opacity=\"1\" stroke-width=\"1\"/>\n",
       "<circle clip-path=\"url(#clip742)\" cx=\"261.515\" cy=\"284.496\" r=\"3\" fill=\"#009af9\" fill-rule=\"evenodd\" fill-opacity=\"1\" stroke=\"#000000\" stroke-opacity=\"1\" stroke-width=\"1\"/>\n",
       "<circle clip-path=\"url(#clip742)\" cx=\"180.004\" cy=\"351.865\" r=\"3\" fill=\"#009af9\" fill-rule=\"evenodd\" fill-opacity=\"1\" stroke=\"#000000\" stroke-opacity=\"1\" stroke-width=\"1\"/>\n",
       "<circle clip-path=\"url(#clip742)\" cx=\"273.194\" cy=\"232.338\" r=\"3\" fill=\"#009af9\" fill-rule=\"evenodd\" fill-opacity=\"1\" stroke=\"#000000\" stroke-opacity=\"1\" stroke-width=\"1\"/>\n",
       "<circle clip-path=\"url(#clip742)\" cx=\"249.325\" cy=\"310.908\" r=\"3\" fill=\"#009af9\" fill-rule=\"evenodd\" fill-opacity=\"1\" stroke=\"#000000\" stroke-opacity=\"1\" stroke-width=\"1\"/>\n",
       "<circle clip-path=\"url(#clip742)\" cx=\"194.791\" cy=\"251.107\" r=\"3\" fill=\"#009af9\" fill-rule=\"evenodd\" fill-opacity=\"1\" stroke=\"#000000\" stroke-opacity=\"1\" stroke-width=\"1\"/>\n",
       "<circle clip-path=\"url(#clip742)\" cx=\"219.237\" cy=\"224.398\" r=\"3\" fill=\"#009af9\" fill-rule=\"evenodd\" fill-opacity=\"1\" stroke=\"#000000\" stroke-opacity=\"1\" stroke-width=\"1\"/>\n",
       "<circle clip-path=\"url(#clip742)\" cx=\"178.378\" cy=\"223.838\" r=\"3\" fill=\"#009af9\" fill-rule=\"evenodd\" fill-opacity=\"1\" stroke=\"#000000\" stroke-opacity=\"1\" stroke-width=\"1\"/>\n",
       "<circle clip-path=\"url(#clip742)\" cx=\"158.392\" cy=\"250.995\" r=\"3\" fill=\"#009af9\" fill-rule=\"evenodd\" fill-opacity=\"1\" stroke=\"#000000\" stroke-opacity=\"1\" stroke-width=\"1\"/>\n",
       "<circle clip-path=\"url(#clip742)\" cx=\"176.35\" cy=\"220.498\" r=\"3\" fill=\"#009af9\" fill-rule=\"evenodd\" fill-opacity=\"1\" stroke=\"#000000\" stroke-opacity=\"1\" stroke-width=\"1\"/>\n",
       "<circle clip-path=\"url(#clip742)\" cx=\"191.032\" cy=\"210.29\" r=\"3\" fill=\"#009af9\" fill-rule=\"evenodd\" fill-opacity=\"1\" stroke=\"#000000\" stroke-opacity=\"1\" stroke-width=\"1\"/>\n",
       "<circle clip-path=\"url(#clip742)\" cx=\"180.005\" cy=\"278.311\" r=\"3\" fill=\"#009af9\" fill-rule=\"evenodd\" fill-opacity=\"1\" stroke=\"#000000\" stroke-opacity=\"1\" stroke-width=\"1\"/>\n",
       "<circle clip-path=\"url(#clip742)\" cx=\"174.572\" cy=\"235.707\" r=\"3\" fill=\"#009af9\" fill-rule=\"evenodd\" fill-opacity=\"1\" stroke=\"#000000\" stroke-opacity=\"1\" stroke-width=\"1\"/>\n",
       "<circle clip-path=\"url(#clip742)\" cx=\"183.997\" cy=\"204.114\" r=\"3\" fill=\"#009af9\" fill-rule=\"evenodd\" fill-opacity=\"1\" stroke=\"#000000\" stroke-opacity=\"1\" stroke-width=\"1\"/>\n",
       "<circle clip-path=\"url(#clip742)\" cx=\"211.666\" cy=\"222.456\" r=\"3\" fill=\"#009af9\" fill-rule=\"evenodd\" fill-opacity=\"1\" stroke=\"#000000\" stroke-opacity=\"1\" stroke-width=\"1\"/>\n",
       "<circle clip-path=\"url(#clip742)\" cx=\"163.024\" cy=\"220.057\" r=\"3\" fill=\"#009af9\" fill-rule=\"evenodd\" fill-opacity=\"1\" stroke=\"#000000\" stroke-opacity=\"1\" stroke-width=\"1\"/>\n",
       "<circle clip-path=\"url(#clip742)\" cx=\"202.463\" cy=\"199.2\" r=\"3\" fill=\"#009af9\" fill-rule=\"evenodd\" fill-opacity=\"1\" stroke=\"#000000\" stroke-opacity=\"1\" stroke-width=\"1\"/>\n",
       "<circle clip-path=\"url(#clip742)\" cx=\"207.673\" cy=\"254.964\" r=\"3\" fill=\"#009af9\" fill-rule=\"evenodd\" fill-opacity=\"1\" stroke=\"#000000\" stroke-opacity=\"1\" stroke-width=\"1\"/>\n",
       "<circle clip-path=\"url(#clip742)\" cx=\"225.489\" cy=\"244.16\" r=\"3\" fill=\"#009af9\" fill-rule=\"evenodd\" fill-opacity=\"1\" stroke=\"#000000\" stroke-opacity=\"1\" stroke-width=\"1\"/>\n",
       "<circle clip-path=\"url(#clip742)\" cx=\"232.758\" cy=\"210.392\" r=\"3\" fill=\"#009af9\" fill-rule=\"evenodd\" fill-opacity=\"1\" stroke=\"#000000\" stroke-opacity=\"1\" stroke-width=\"1\"/>\n",
       "<circle clip-path=\"url(#clip742)\" cx=\"238.907\" cy=\"223.423\" r=\"3\" fill=\"#009af9\" fill-rule=\"evenodd\" fill-opacity=\"1\" stroke=\"#000000\" stroke-opacity=\"1\" stroke-width=\"1\"/>\n",
       "<circle clip-path=\"url(#clip742)\" cx=\"236.775\" cy=\"242.865\" r=\"3\" fill=\"#009af9\" fill-rule=\"evenodd\" fill-opacity=\"1\" stroke=\"#000000\" stroke-opacity=\"1\" stroke-width=\"1\"/>\n",
       "<circle clip-path=\"url(#clip742)\" cx=\"151.963\" cy=\"316.259\" r=\"3\" fill=\"#009af9\" fill-rule=\"evenodd\" fill-opacity=\"1\" stroke=\"#000000\" stroke-opacity=\"1\" stroke-width=\"1\"/>\n",
       "<circle clip-path=\"url(#clip742)\" cx=\"219.406\" cy=\"210.388\" r=\"3\" fill=\"#009af9\" fill-rule=\"evenodd\" fill-opacity=\"1\" stroke=\"#000000\" stroke-opacity=\"1\" stroke-width=\"1\"/>\n",
       "<circle clip-path=\"url(#clip742)\" cx=\"171.105\" cy=\"239.256\" r=\"3\" fill=\"#009af9\" fill-rule=\"evenodd\" fill-opacity=\"1\" stroke=\"#000000\" stroke-opacity=\"1\" stroke-width=\"1\"/>\n",
       "<circle clip-path=\"url(#clip742)\" cx=\"213.84\" cy=\"210.076\" r=\"3\" fill=\"#009af9\" fill-rule=\"evenodd\" fill-opacity=\"1\" stroke=\"#000000\" stroke-opacity=\"1\" stroke-width=\"1\"/>\n",
       "<circle clip-path=\"url(#clip742)\" cx=\"218.035\" cy=\"253.623\" r=\"3\" fill=\"#009af9\" fill-rule=\"evenodd\" fill-opacity=\"1\" stroke=\"#000000\" stroke-opacity=\"1\" stroke-width=\"1\"/>\n",
       "<circle clip-path=\"url(#clip742)\" cx=\"253.408\" cy=\"223.164\" r=\"3\" fill=\"#009af9\" fill-rule=\"evenodd\" fill-opacity=\"1\" stroke=\"#000000\" stroke-opacity=\"1\" stroke-width=\"1\"/>\n",
       "<circle clip-path=\"url(#clip742)\" cx=\"202.211\" cy=\"304.666\" r=\"3\" fill=\"#009af9\" fill-rule=\"evenodd\" fill-opacity=\"1\" stroke=\"#000000\" stroke-opacity=\"1\" stroke-width=\"1\"/>\n",
       "<circle clip-path=\"url(#clip742)\" cx=\"262.649\" cy=\"218.902\" r=\"3\" fill=\"#009af9\" fill-rule=\"evenodd\" fill-opacity=\"1\" stroke=\"#000000\" stroke-opacity=\"1\" stroke-width=\"1\"/>\n",
       "<circle clip-path=\"url(#clip742)\" cx=\"171.302\" cy=\"225.614\" r=\"3\" fill=\"#009af9\" fill-rule=\"evenodd\" fill-opacity=\"1\" stroke=\"#000000\" stroke-opacity=\"1\" stroke-width=\"1\"/>\n",
       "<circle clip-path=\"url(#clip742)\" cx=\"178.363\" cy=\"220.332\" r=\"3\" fill=\"#009af9\" fill-rule=\"evenodd\" fill-opacity=\"1\" stroke=\"#000000\" stroke-opacity=\"1\" stroke-width=\"1\"/>\n",
       "<circle clip-path=\"url(#clip742)\" cx=\"157.078\" cy=\"231.625\" r=\"3\" fill=\"#009af9\" fill-rule=\"evenodd\" fill-opacity=\"1\" stroke=\"#000000\" stroke-opacity=\"1\" stroke-width=\"1\"/>\n",
       "<circle clip-path=\"url(#clip742)\" cx=\"206.782\" cy=\"225.481\" r=\"3\" fill=\"#009af9\" fill-rule=\"evenodd\" fill-opacity=\"1\" stroke=\"#000000\" stroke-opacity=\"1\" stroke-width=\"1\"/>\n",
       "<circle clip-path=\"url(#clip742)\" cx=\"234.622\" cy=\"292.827\" r=\"3\" fill=\"#009af9\" fill-rule=\"evenodd\" fill-opacity=\"1\" stroke=\"#000000\" stroke-opacity=\"1\" stroke-width=\"1\"/>\n",
       "<circle clip-path=\"url(#clip742)\" cx=\"342.156\" cy=\"116.068\" r=\"3\" fill=\"#009af9\" fill-rule=\"evenodd\" fill-opacity=\"1\" stroke=\"#000000\" stroke-opacity=\"1\" stroke-width=\"1\"/>\n",
       "<circle clip-path=\"url(#clip742)\" cx=\"278.88\" cy=\"128.661\" r=\"3\" fill=\"#009af9\" fill-rule=\"evenodd\" fill-opacity=\"1\" stroke=\"#000000\" stroke-opacity=\"1\" stroke-width=\"1\"/>\n",
       "<circle clip-path=\"url(#clip742)\" cx=\"341.503\" cy=\"87.8695\" r=\"3\" fill=\"#009af9\" fill-rule=\"evenodd\" fill-opacity=\"1\" stroke=\"#000000\" stroke-opacity=\"1\" stroke-width=\"1\"/>\n",
       "<circle clip-path=\"url(#clip742)\" cx=\"298.537\" cy=\"143.906\" r=\"3\" fill=\"#009af9\" fill-rule=\"evenodd\" fill-opacity=\"1\" stroke=\"#000000\" stroke-opacity=\"1\" stroke-width=\"1\"/>\n",
       "<circle clip-path=\"url(#clip742)\" cx=\"314.149\" cy=\"53.6776\" r=\"3\" fill=\"#009af9\" fill-rule=\"evenodd\" fill-opacity=\"1\" stroke=\"#000000\" stroke-opacity=\"1\" stroke-width=\"1\"/>\n",
       "<circle clip-path=\"url(#clip742)\" cx=\"309.593\" cy=\"52.822\" r=\"3\" fill=\"#009af9\" fill-rule=\"evenodd\" fill-opacity=\"1\" stroke=\"#000000\" stroke-opacity=\"1\" stroke-width=\"1\"/>\n",
       "<circle clip-path=\"url(#clip742)\" cx=\"320.962\" cy=\"103.888\" r=\"3\" fill=\"#009af9\" fill-rule=\"evenodd\" fill-opacity=\"1\" stroke=\"#000000\" stroke-opacity=\"1\" stroke-width=\"1\"/>\n",
       "<circle clip-path=\"url(#clip742)\" cx=\"297.497\" cy=\"143.429\" r=\"3\" fill=\"#009af9\" fill-rule=\"evenodd\" fill-opacity=\"1\" stroke=\"#000000\" stroke-opacity=\"1\" stroke-width=\"1\"/>\n",
       "<circle clip-path=\"url(#clip742)\" cx=\"269.678\" cy=\"124.066\" r=\"3\" fill=\"#009af9\" fill-rule=\"evenodd\" fill-opacity=\"1\" stroke=\"#000000\" stroke-opacity=\"1\" stroke-width=\"1\"/>\n",
       "<circle clip-path=\"url(#clip742)\" cx=\"314.905\" cy=\"92.5124\" r=\"3\" fill=\"#009af9\" fill-rule=\"evenodd\" fill-opacity=\"1\" stroke=\"#000000\" stroke-opacity=\"1\" stroke-width=\"1\"/>\n",
       "<circle clip-path=\"url(#clip742)\" cx=\"320.691\" cy=\"118.413\" r=\"3\" fill=\"#009af9\" fill-rule=\"evenodd\" fill-opacity=\"1\" stroke=\"#000000\" stroke-opacity=\"1\" stroke-width=\"1\"/>\n",
       "<circle clip-path=\"url(#clip742)\" cx=\"275.94\" cy=\"145.835\" r=\"3\" fill=\"#009af9\" fill-rule=\"evenodd\" fill-opacity=\"1\" stroke=\"#000000\" stroke-opacity=\"1\" stroke-width=\"1\"/>\n",
       "<circle clip-path=\"url(#clip742)\" cx=\"310.714\" cy=\"103.137\" r=\"3\" fill=\"#009af9\" fill-rule=\"evenodd\" fill-opacity=\"1\" stroke=\"#000000\" stroke-opacity=\"1\" stroke-width=\"1\"/>\n",
       "<circle clip-path=\"url(#clip742)\" cx=\"299.068\" cy=\"155.819\" r=\"3\" fill=\"#009af9\" fill-rule=\"evenodd\" fill-opacity=\"1\" stroke=\"#000000\" stroke-opacity=\"1\" stroke-width=\"1\"/>\n",
       "<circle clip-path=\"url(#clip742)\" cx=\"246.203\" cy=\"134.8\" r=\"3\" fill=\"#009af9\" fill-rule=\"evenodd\" fill-opacity=\"1\" stroke=\"#000000\" stroke-opacity=\"1\" stroke-width=\"1\"/>\n",
       "<circle clip-path=\"url(#clip742)\" cx=\"312.536\" cy=\"105.408\" r=\"3\" fill=\"#009af9\" fill-rule=\"evenodd\" fill-opacity=\"1\" stroke=\"#000000\" stroke-opacity=\"1\" stroke-width=\"1\"/>\n",
       "<circle clip-path=\"url(#clip742)\" cx=\"282.446\" cy=\"133.962\" r=\"3\" fill=\"#009af9\" fill-rule=\"evenodd\" fill-opacity=\"1\" stroke=\"#000000\" stroke-opacity=\"1\" stroke-width=\"1\"/>\n",
       "<circle clip-path=\"url(#clip742)\" cx=\"278.26\" cy=\"118.44\" r=\"3\" fill=\"#009af9\" fill-rule=\"evenodd\" fill-opacity=\"1\" stroke=\"#000000\" stroke-opacity=\"1\" stroke-width=\"1\"/>\n",
       "<circle clip-path=\"url(#clip742)\" cx=\"326.579\" cy=\"169.247\" r=\"3\" fill=\"#009af9\" fill-rule=\"evenodd\" fill-opacity=\"1\" stroke=\"#000000\" stroke-opacity=\"1\" stroke-width=\"1\"/>\n",
       "<circle clip-path=\"url(#clip742)\" cx=\"314.457\" cy=\"87.3408\" r=\"3\" fill=\"#009af9\" fill-rule=\"evenodd\" fill-opacity=\"1\" stroke=\"#000000\" stroke-opacity=\"1\" stroke-width=\"1\"/>\n",
       "<circle clip-path=\"url(#clip742)\" cx=\"310.151\" cy=\"115.398\" r=\"3\" fill=\"#009af9\" fill-rule=\"evenodd\" fill-opacity=\"1\" stroke=\"#000000\" stroke-opacity=\"1\" stroke-width=\"1\"/>\n",
       "<circle clip-path=\"url(#clip742)\" cx=\"309.244\" cy=\"141.463\" r=\"3\" fill=\"#009af9\" fill-rule=\"evenodd\" fill-opacity=\"1\" stroke=\"#000000\" stroke-opacity=\"1\" stroke-width=\"1\"/>\n",
       "<circle clip-path=\"url(#clip742)\" cx=\"283.219\" cy=\"174.167\" r=\"3\" fill=\"#009af9\" fill-rule=\"evenodd\" fill-opacity=\"1\" stroke=\"#000000\" stroke-opacity=\"1\" stroke-width=\"1\"/>\n",
       "<circle clip-path=\"url(#clip742)\" cx=\"336.99\" cy=\"123.052\" r=\"3\" fill=\"#009af9\" fill-rule=\"evenodd\" fill-opacity=\"1\" stroke=\"#000000\" stroke-opacity=\"1\" stroke-width=\"1\"/>\n",
       "<circle clip-path=\"url(#clip742)\" cx=\"268.528\" cy=\"125.251\" r=\"3\" fill=\"#009af9\" fill-rule=\"evenodd\" fill-opacity=\"1\" stroke=\"#000000\" stroke-opacity=\"1\" stroke-width=\"1\"/>\n",
       "<circle clip-path=\"url(#clip742)\" cx=\"314.346\" cy=\"115.246\" r=\"3\" fill=\"#009af9\" fill-rule=\"evenodd\" fill-opacity=\"1\" stroke=\"#000000\" stroke-opacity=\"1\" stroke-width=\"1\"/>\n",
       "<circle clip-path=\"url(#clip742)\" cx=\"305.563\" cy=\"88.9306\" r=\"3\" fill=\"#009af9\" fill-rule=\"evenodd\" fill-opacity=\"1\" stroke=\"#000000\" stroke-opacity=\"1\" stroke-width=\"1\"/>\n",
       "<circle clip-path=\"url(#clip742)\" cx=\"287.357\" cy=\"127.315\" r=\"3\" fill=\"#009af9\" fill-rule=\"evenodd\" fill-opacity=\"1\" stroke=\"#000000\" stroke-opacity=\"1\" stroke-width=\"1\"/>\n",
       "<circle clip-path=\"url(#clip742)\" cx=\"312.314\" cy=\"160.613\" r=\"3\" fill=\"#009af9\" fill-rule=\"evenodd\" fill-opacity=\"1\" stroke=\"#000000\" stroke-opacity=\"1\" stroke-width=\"1\"/>\n",
       "<circle clip-path=\"url(#clip742)\" cx=\"370.753\" cy=\"120.769\" r=\"3\" fill=\"#009af9\" fill-rule=\"evenodd\" fill-opacity=\"1\" stroke=\"#000000\" stroke-opacity=\"1\" stroke-width=\"1\"/>\n",
       "<circle clip-path=\"url(#clip742)\" cx=\"321.935\" cy=\"93.3755\" r=\"3\" fill=\"#009af9\" fill-rule=\"evenodd\" fill-opacity=\"1\" stroke=\"#000000\" stroke-opacity=\"1\" stroke-width=\"1\"/>\n",
       "<circle clip-path=\"url(#clip742)\" cx=\"342.078\" cy=\"78.6799\" r=\"3\" fill=\"#009af9\" fill-rule=\"evenodd\" fill-opacity=\"1\" stroke=\"#000000\" stroke-opacity=\"1\" stroke-width=\"1\"/>\n",
       "<circle clip-path=\"url(#clip742)\" cx=\"361.223\" cy=\"157.428\" r=\"3\" fill=\"#009af9\" fill-rule=\"evenodd\" fill-opacity=\"1\" stroke=\"#000000\" stroke-opacity=\"1\" stroke-width=\"1\"/>\n",
       "<circle clip-path=\"url(#clip742)\" cx=\"359.235\" cy=\"186.35\" r=\"3\" fill=\"#009af9\" fill-rule=\"evenodd\" fill-opacity=\"1\" stroke=\"#000000\" stroke-opacity=\"1\" stroke-width=\"1\"/>\n",
       "<circle clip-path=\"url(#clip742)\" cx=\"358.451\" cy=\"122.91\" r=\"3\" fill=\"#009af9\" fill-rule=\"evenodd\" fill-opacity=\"1\" stroke=\"#000000\" stroke-opacity=\"1\" stroke-width=\"1\"/>\n",
       "<circle clip-path=\"url(#clip742)\" cx=\"299.62\" cy=\"144.589\" r=\"3\" fill=\"#009af9\" fill-rule=\"evenodd\" fill-opacity=\"1\" stroke=\"#000000\" stroke-opacity=\"1\" stroke-width=\"1\"/>\n",
       "<circle clip-path=\"url(#clip742)\" cx=\"349.482\" cy=\"51.9313\" r=\"3\" fill=\"#009af9\" fill-rule=\"evenodd\" fill-opacity=\"1\" stroke=\"#000000\" stroke-opacity=\"1\" stroke-width=\"1\"/>\n",
       "<circle clip-path=\"url(#clip742)\" cx=\"312.556\" cy=\"100.817\" r=\"3\" fill=\"#009af9\" fill-rule=\"evenodd\" fill-opacity=\"1\" stroke=\"#000000\" stroke-opacity=\"1\" stroke-width=\"1\"/>\n",
       "<circle clip-path=\"url(#clip742)\" cx=\"274.364\" cy=\"106.389\" r=\"3\" fill=\"#009af9\" fill-rule=\"evenodd\" fill-opacity=\"1\" stroke=\"#000000\" stroke-opacity=\"1\" stroke-width=\"1\"/>\n",
       "<circle clip-path=\"url(#clip742)\" cx=\"256.254\" cy=\"203.432\" r=\"3\" fill=\"#009af9\" fill-rule=\"evenodd\" fill-opacity=\"1\" stroke=\"#000000\" stroke-opacity=\"1\" stroke-width=\"1\"/>\n",
       "<circle clip-path=\"url(#clip742)\" cx=\"356.323\" cy=\"141.251\" r=\"3\" fill=\"#009af9\" fill-rule=\"evenodd\" fill-opacity=\"1\" stroke=\"#000000\" stroke-opacity=\"1\" stroke-width=\"1\"/>\n",
       "<circle clip-path=\"url(#clip742)\" cx=\"249.098\" cy=\"107.802\" r=\"3\" fill=\"#009af9\" fill-rule=\"evenodd\" fill-opacity=\"1\" stroke=\"#000000\" stroke-opacity=\"1\" stroke-width=\"1\"/>\n",
       "<circle clip-path=\"url(#clip742)\" cx=\"358.417\" cy=\"180.582\" r=\"3\" fill=\"#009af9\" fill-rule=\"evenodd\" fill-opacity=\"1\" stroke=\"#000000\" stroke-opacity=\"1\" stroke-width=\"1\"/>\n",
       "<circle clip-path=\"url(#clip742)\" cx=\"320.051\" cy=\"56.6346\" r=\"3\" fill=\"#009af9\" fill-rule=\"evenodd\" fill-opacity=\"1\" stroke=\"#000000\" stroke-opacity=\"1\" stroke-width=\"1\"/>\n",
       "<circle clip-path=\"url(#clip742)\" cx=\"379.222\" cy=\"101.331\" r=\"3\" fill=\"#009af9\" fill-rule=\"evenodd\" fill-opacity=\"1\" stroke=\"#000000\" stroke-opacity=\"1\" stroke-width=\"1\"/>\n",
       "<circle clip-path=\"url(#clip742)\" cx=\"308.084\" cy=\"79.2631\" r=\"3\" fill=\"#009af9\" fill-rule=\"evenodd\" fill-opacity=\"1\" stroke=\"#000000\" stroke-opacity=\"1\" stroke-width=\"1\"/>\n",
       "<circle clip-path=\"url(#clip742)\" cx=\"342.018\" cy=\"144.535\" r=\"3\" fill=\"#009af9\" fill-rule=\"evenodd\" fill-opacity=\"1\" stroke=\"#000000\" stroke-opacity=\"1\" stroke-width=\"1\"/>\n",
       "<circle clip-path=\"url(#clip742)\" cx=\"305.484\" cy=\"121.739\" r=\"3\" fill=\"#009af9\" fill-rule=\"evenodd\" fill-opacity=\"1\" stroke=\"#000000\" stroke-opacity=\"1\" stroke-width=\"1\"/>\n",
       "<circle clip-path=\"url(#clip742)\" cx=\"381.265\" cy=\"129.337\" r=\"3\" fill=\"#009af9\" fill-rule=\"evenodd\" fill-opacity=\"1\" stroke=\"#000000\" stroke-opacity=\"1\" stroke-width=\"1\"/>\n",
       "<circle clip-path=\"url(#clip742)\" cx=\"290.163\" cy=\"83.1886\" r=\"3\" fill=\"#009af9\" fill-rule=\"evenodd\" fill-opacity=\"1\" stroke=\"#000000\" stroke-opacity=\"1\" stroke-width=\"1\"/>\n",
       "<circle clip-path=\"url(#clip742)\" cx=\"393.665\" cy=\"147.23\" r=\"3\" fill=\"#009af9\" fill-rule=\"evenodd\" fill-opacity=\"1\" stroke=\"#000000\" stroke-opacity=\"1\" stroke-width=\"1\"/>\n",
       "<circle clip-path=\"url(#clip742)\" cx=\"322.575\" cy=\"155.843\" r=\"3\" fill=\"#009af9\" fill-rule=\"evenodd\" fill-opacity=\"1\" stroke=\"#000000\" stroke-opacity=\"1\" stroke-width=\"1\"/>\n",
       "<circle clip-path=\"url(#clip742)\" cx=\"286.623\" cy=\"94.9805\" r=\"3\" fill=\"#009af9\" fill-rule=\"evenodd\" fill-opacity=\"1\" stroke=\"#000000\" stroke-opacity=\"1\" stroke-width=\"1\"/>\n",
       "<circle clip-path=\"url(#clip742)\" cx=\"312.153\" cy=\"145.888\" r=\"3\" fill=\"#009af9\" fill-rule=\"evenodd\" fill-opacity=\"1\" stroke=\"#000000\" stroke-opacity=\"1\" stroke-width=\"1\"/>\n",
       "<circle clip-path=\"url(#clip742)\" cx=\"327.102\" cy=\"119.597\" r=\"3\" fill=\"#009af9\" fill-rule=\"evenodd\" fill-opacity=\"1\" stroke=\"#000000\" stroke-opacity=\"1\" stroke-width=\"1\"/>\n",
       "<circle clip-path=\"url(#clip742)\" cx=\"263.249\" cy=\"118.363\" r=\"3\" fill=\"#009af9\" fill-rule=\"evenodd\" fill-opacity=\"1\" stroke=\"#000000\" stroke-opacity=\"1\" stroke-width=\"1\"/>\n",
       "<circle clip-path=\"url(#clip742)\" cx=\"327.115\" cy=\"98.3694\" r=\"3\" fill=\"#009af9\" fill-rule=\"evenodd\" fill-opacity=\"1\" stroke=\"#000000\" stroke-opacity=\"1\" stroke-width=\"1\"/>\n",
       "<circle clip-path=\"url(#clip742)\" cx=\"354.477\" cy=\"118.436\" r=\"3\" fill=\"#009af9\" fill-rule=\"evenodd\" fill-opacity=\"1\" stroke=\"#000000\" stroke-opacity=\"1\" stroke-width=\"1\"/>\n",
       "<circle clip-path=\"url(#clip742)\" cx=\"278.588\" cy=\"103.576\" r=\"3\" fill=\"#009af9\" fill-rule=\"evenodd\" fill-opacity=\"1\" stroke=\"#000000\" stroke-opacity=\"1\" stroke-width=\"1\"/>\n",
       "<circle clip-path=\"url(#clip742)\" cx=\"358.72\" cy=\"128.252\" r=\"3\" fill=\"#009af9\" fill-rule=\"evenodd\" fill-opacity=\"1\" stroke=\"#000000\" stroke-opacity=\"1\" stroke-width=\"1\"/>\n",
       "<circle clip-path=\"url(#clip742)\" cx=\"298.605\" cy=\"132.791\" r=\"3\" fill=\"#009af9\" fill-rule=\"evenodd\" fill-opacity=\"1\" stroke=\"#000000\" stroke-opacity=\"1\" stroke-width=\"1\"/>\n",
       "<circle clip-path=\"url(#clip742)\" cx=\"320.578\" cy=\"146.342\" r=\"3\" fill=\"#009af9\" fill-rule=\"evenodd\" fill-opacity=\"1\" stroke=\"#000000\" stroke-opacity=\"1\" stroke-width=\"1\"/>\n",
       "<circle clip-path=\"url(#clip742)\" cx=\"313.205\" cy=\"76.9294\" r=\"3\" fill=\"#009af9\" fill-rule=\"evenodd\" fill-opacity=\"1\" stroke=\"#000000\" stroke-opacity=\"1\" stroke-width=\"1\"/>\n",
       "<circle clip-path=\"url(#clip742)\" cx=\"353.734\" cy=\"157.44\" r=\"3\" fill=\"#009af9\" fill-rule=\"evenodd\" fill-opacity=\"1\" stroke=\"#000000\" stroke-opacity=\"1\" stroke-width=\"1\"/>\n",
       "<circle clip-path=\"url(#clip742)\" cx=\"343.983\" cy=\"154.297\" r=\"3\" fill=\"#009af9\" fill-rule=\"evenodd\" fill-opacity=\"1\" stroke=\"#000000\" stroke-opacity=\"1\" stroke-width=\"1\"/>\n",
       "<circle clip-path=\"url(#clip742)\" cx=\"348.814\" cy=\"113.74\" r=\"3\" fill=\"#009af9\" fill-rule=\"evenodd\" fill-opacity=\"1\" stroke=\"#000000\" stroke-opacity=\"1\" stroke-width=\"1\"/>\n",
       "<circle clip-path=\"url(#clip742)\" cx=\"360.639\" cy=\"159.028\" r=\"3\" fill=\"#009af9\" fill-rule=\"evenodd\" fill-opacity=\"1\" stroke=\"#000000\" stroke-opacity=\"1\" stroke-width=\"1\"/>\n",
       "<circle clip-path=\"url(#clip742)\" cx=\"392.533\" cy=\"104.655\" r=\"3\" fill=\"#009af9\" fill-rule=\"evenodd\" fill-opacity=\"1\" stroke=\"#000000\" stroke-opacity=\"1\" stroke-width=\"1\"/>\n",
       "<circle clip-path=\"url(#clip742)\" cx=\"318.516\" cy=\"181.531\" r=\"3\" fill=\"#009af9\" fill-rule=\"evenodd\" fill-opacity=\"1\" stroke=\"#000000\" stroke-opacity=\"1\" stroke-width=\"1\"/>\n",
       "<circle clip-path=\"url(#clip742)\" cx=\"292.765\" cy=\"115.171\" r=\"3\" fill=\"#009af9\" fill-rule=\"evenodd\" fill-opacity=\"1\" stroke=\"#000000\" stroke-opacity=\"1\" stroke-width=\"1\"/>\n",
       "<circle clip-path=\"url(#clip742)\" cx=\"315.973\" cy=\"142.841\" r=\"3\" fill=\"#009af9\" fill-rule=\"evenodd\" fill-opacity=\"1\" stroke=\"#000000\" stroke-opacity=\"1\" stroke-width=\"1\"/>\n",
       "<circle clip-path=\"url(#clip742)\" cx=\"334.42\" cy=\"167.733\" r=\"3\" fill=\"#009af9\" fill-rule=\"evenodd\" fill-opacity=\"1\" stroke=\"#000000\" stroke-opacity=\"1\" stroke-width=\"1\"/>\n",
       "<circle clip-path=\"url(#clip742)\" cx=\"278.311\" cy=\"150.656\" r=\"3\" fill=\"#009af9\" fill-rule=\"evenodd\" fill-opacity=\"1\" stroke=\"#000000\" stroke-opacity=\"1\" stroke-width=\"1\"/>\n",
       "<circle clip-path=\"url(#clip742)\" cx=\"292.88\" cy=\"111.91\" r=\"3\" fill=\"#009af9\" fill-rule=\"evenodd\" fill-opacity=\"1\" stroke=\"#000000\" stroke-opacity=\"1\" stroke-width=\"1\"/>\n",
       "<circle clip-path=\"url(#clip742)\" cx=\"269.774\" cy=\"90.7277\" r=\"3\" fill=\"#009af9\" fill-rule=\"evenodd\" fill-opacity=\"1\" stroke=\"#000000\" stroke-opacity=\"1\" stroke-width=\"1\"/>\n",
       "<circle clip-path=\"url(#clip742)\" cx=\"324.972\" cy=\"176.239\" r=\"3\" fill=\"#009af9\" fill-rule=\"evenodd\" fill-opacity=\"1\" stroke=\"#000000\" stroke-opacity=\"1\" stroke-width=\"1\"/>\n",
       "<circle clip-path=\"url(#clip742)\" cx=\"337.516\" cy=\"136.41\" r=\"3\" fill=\"#009af9\" fill-rule=\"evenodd\" fill-opacity=\"1\" stroke=\"#000000\" stroke-opacity=\"1\" stroke-width=\"1\"/>\n",
       "<circle clip-path=\"url(#clip742)\" cx=\"330.923\" cy=\"155.974\" r=\"3\" fill=\"#009af9\" fill-rule=\"evenodd\" fill-opacity=\"1\" stroke=\"#000000\" stroke-opacity=\"1\" stroke-width=\"1\"/>\n",
       "<circle clip-path=\"url(#clip742)\" cx=\"361.551\" cy=\"126.95\" r=\"3\" fill=\"#009af9\" fill-rule=\"evenodd\" fill-opacity=\"1\" stroke=\"#000000\" stroke-opacity=\"1\" stroke-width=\"1\"/>\n",
       "<circle clip-path=\"url(#clip742)\" cx=\"298.396\" cy=\"88.4023\" r=\"3\" fill=\"#009af9\" fill-rule=\"evenodd\" fill-opacity=\"1\" stroke=\"#000000\" stroke-opacity=\"1\" stroke-width=\"1\"/>\n",
       "<circle clip-path=\"url(#clip742)\" cx=\"342.57\" cy=\"168.608\" r=\"3\" fill=\"#009af9\" fill-rule=\"evenodd\" fill-opacity=\"1\" stroke=\"#000000\" stroke-opacity=\"1\" stroke-width=\"1\"/>\n",
       "<circle clip-path=\"url(#clip742)\" cx=\"260.209\" cy=\"141.482\" r=\"3\" fill=\"#009af9\" fill-rule=\"evenodd\" fill-opacity=\"1\" stroke=\"#000000\" stroke-opacity=\"1\" stroke-width=\"1\"/>\n",
       "<circle clip-path=\"url(#clip742)\" cx=\"332.874\" cy=\"151.344\" r=\"3\" fill=\"#009af9\" fill-rule=\"evenodd\" fill-opacity=\"1\" stroke=\"#000000\" stroke-opacity=\"1\" stroke-width=\"1\"/>\n",
       "<circle clip-path=\"url(#clip742)\" cx=\"364.604\" cy=\"146.52\" r=\"3\" fill=\"#009af9\" fill-rule=\"evenodd\" fill-opacity=\"1\" stroke=\"#000000\" stroke-opacity=\"1\" stroke-width=\"1\"/>\n",
       "<circle clip-path=\"url(#clip742)\" cx=\"279.776\" cy=\"158.279\" r=\"3\" fill=\"#009af9\" fill-rule=\"evenodd\" fill-opacity=\"1\" stroke=\"#000000\" stroke-opacity=\"1\" stroke-width=\"1\"/>\n",
       "<circle clip-path=\"url(#clip742)\" cx=\"281.739\" cy=\"134.209\" r=\"3\" fill=\"#009af9\" fill-rule=\"evenodd\" fill-opacity=\"1\" stroke=\"#000000\" stroke-opacity=\"1\" stroke-width=\"1\"/>\n",
       "<circle clip-path=\"url(#clip742)\" cx=\"302.544\" cy=\"202.153\" r=\"3\" fill=\"#009af9\" fill-rule=\"evenodd\" fill-opacity=\"1\" stroke=\"#000000\" stroke-opacity=\"1\" stroke-width=\"1\"/>\n",
       "<circle clip-path=\"url(#clip742)\" cx=\"297.516\" cy=\"136.782\" r=\"3\" fill=\"#009af9\" fill-rule=\"evenodd\" fill-opacity=\"1\" stroke=\"#000000\" stroke-opacity=\"1\" stroke-width=\"1\"/>\n",
       "<circle clip-path=\"url(#clip742)\" cx=\"356.091\" cy=\"76.2531\" r=\"3\" fill=\"#009af9\" fill-rule=\"evenodd\" fill-opacity=\"1\" stroke=\"#000000\" stroke-opacity=\"1\" stroke-width=\"1\"/>\n",
       "<circle clip-path=\"url(#clip742)\" cx=\"320.78\" cy=\"238.93\" r=\"3\" fill=\"#009af9\" fill-rule=\"evenodd\" fill-opacity=\"1\" stroke=\"#000000\" stroke-opacity=\"1\" stroke-width=\"1\"/>\n",
       "<circle clip-path=\"url(#clip742)\" cx=\"276.709\" cy=\"72.7435\" r=\"3\" fill=\"#009af9\" fill-rule=\"evenodd\" fill-opacity=\"1\" stroke=\"#000000\" stroke-opacity=\"1\" stroke-width=\"1\"/>\n",
       "<circle clip-path=\"url(#clip742)\" cx=\"358.044\" cy=\"149.173\" r=\"3\" fill=\"#009af9\" fill-rule=\"evenodd\" fill-opacity=\"1\" stroke=\"#000000\" stroke-opacity=\"1\" stroke-width=\"1\"/>\n",
       "<circle clip-path=\"url(#clip742)\" cx=\"297.031\" cy=\"153.145\" r=\"3\" fill=\"#009af9\" fill-rule=\"evenodd\" fill-opacity=\"1\" stroke=\"#000000\" stroke-opacity=\"1\" stroke-width=\"1\"/>\n",
       "<circle clip-path=\"url(#clip742)\" cx=\"284.745\" cy=\"159.189\" r=\"3\" fill=\"#009af9\" fill-rule=\"evenodd\" fill-opacity=\"1\" stroke=\"#000000\" stroke-opacity=\"1\" stroke-width=\"1\"/>\n",
       "<circle clip-path=\"url(#clip742)\" cx=\"355.005\" cy=\"168.328\" r=\"3\" fill=\"#009af9\" fill-rule=\"evenodd\" fill-opacity=\"1\" stroke=\"#000000\" stroke-opacity=\"1\" stroke-width=\"1\"/>\n",
       "<circle clip-path=\"url(#clip742)\" cx=\"314.731\" cy=\"206.6\" r=\"3\" fill=\"#009af9\" fill-rule=\"evenodd\" fill-opacity=\"1\" stroke=\"#000000\" stroke-opacity=\"1\" stroke-width=\"1\"/>\n",
       "<circle clip-path=\"url(#clip742)\" cx=\"331.108\" cy=\"137.18\" r=\"3\" fill=\"#009af9\" fill-rule=\"evenodd\" fill-opacity=\"1\" stroke=\"#000000\" stroke-opacity=\"1\" stroke-width=\"1\"/>\n",
       "<circle clip-path=\"url(#clip742)\" cx=\"302.73\" cy=\"115.118\" r=\"3\" fill=\"#009af9\" fill-rule=\"evenodd\" fill-opacity=\"1\" stroke=\"#000000\" stroke-opacity=\"1\" stroke-width=\"1\"/>\n",
       "<circle clip-path=\"url(#clip742)\" cx=\"295.243\" cy=\"184.546\" r=\"3\" fill=\"#009af9\" fill-rule=\"evenodd\" fill-opacity=\"1\" stroke=\"#000000\" stroke-opacity=\"1\" stroke-width=\"1\"/>\n",
       "<circle clip-path=\"url(#clip742)\" cx=\"301.778\" cy=\"125.737\" r=\"3\" fill=\"#009af9\" fill-rule=\"evenodd\" fill-opacity=\"1\" stroke=\"#000000\" stroke-opacity=\"1\" stroke-width=\"1\"/>\n",
       "<circle clip-path=\"url(#clip742)\" cx=\"316.739\" cy=\"366.613\" r=\"3\" fill=\"#009af9\" fill-rule=\"evenodd\" fill-opacity=\"1\" stroke=\"#000000\" stroke-opacity=\"1\" stroke-width=\"1\"/>\n",
       "<circle clip-path=\"url(#clip742)\" cx=\"280.624\" cy=\"403.789\" r=\"3\" fill=\"#009af9\" fill-rule=\"evenodd\" fill-opacity=\"1\" stroke=\"#000000\" stroke-opacity=\"1\" stroke-width=\"1\"/>\n",
       "<circle clip-path=\"url(#clip742)\" cx=\"344.993\" cy=\"368.535\" r=\"3\" fill=\"#009af9\" fill-rule=\"evenodd\" fill-opacity=\"1\" stroke=\"#000000\" stroke-opacity=\"1\" stroke-width=\"1\"/>\n",
       "<circle clip-path=\"url(#clip742)\" cx=\"278.945\" cy=\"343.204\" r=\"3\" fill=\"#009af9\" fill-rule=\"evenodd\" fill-opacity=\"1\" stroke=\"#000000\" stroke-opacity=\"1\" stroke-width=\"1\"/>\n",
       "<circle clip-path=\"url(#clip742)\" cx=\"343.429\" cy=\"305.75\" r=\"3\" fill=\"#009af9\" fill-rule=\"evenodd\" fill-opacity=\"1\" stroke=\"#000000\" stroke-opacity=\"1\" stroke-width=\"1\"/>\n",
       "<circle clip-path=\"url(#clip742)\" cx=\"258.148\" cy=\"406.419\" r=\"3\" fill=\"#009af9\" fill-rule=\"evenodd\" fill-opacity=\"1\" stroke=\"#000000\" stroke-opacity=\"1\" stroke-width=\"1\"/>\n",
       "<circle clip-path=\"url(#clip742)\" cx=\"304.393\" cy=\"330.199\" r=\"3\" fill=\"#009af9\" fill-rule=\"evenodd\" fill-opacity=\"1\" stroke=\"#000000\" stroke-opacity=\"1\" stroke-width=\"1\"/>\n",
       "<circle clip-path=\"url(#clip742)\" cx=\"339.384\" cy=\"388.088\" r=\"3\" fill=\"#009af9\" fill-rule=\"evenodd\" fill-opacity=\"1\" stroke=\"#000000\" stroke-opacity=\"1\" stroke-width=\"1\"/>\n",
       "<circle clip-path=\"url(#clip742)\" cx=\"266.727\" cy=\"361.355\" r=\"3\" fill=\"#009af9\" fill-rule=\"evenodd\" fill-opacity=\"1\" stroke=\"#000000\" stroke-opacity=\"1\" stroke-width=\"1\"/>\n",
       "<circle clip-path=\"url(#clip742)\" cx=\"357.626\" cy=\"356.835\" r=\"3\" fill=\"#009af9\" fill-rule=\"evenodd\" fill-opacity=\"1\" stroke=\"#000000\" stroke-opacity=\"1\" stroke-width=\"1\"/>\n",
       "<circle clip-path=\"url(#clip742)\" cx=\"330.251\" cy=\"343.727\" r=\"3\" fill=\"#009af9\" fill-rule=\"evenodd\" fill-opacity=\"1\" stroke=\"#000000\" stroke-opacity=\"1\" stroke-width=\"1\"/>\n",
       "<circle clip-path=\"url(#clip742)\" cx=\"333.752\" cy=\"398.4\" r=\"3\" fill=\"#009af9\" fill-rule=\"evenodd\" fill-opacity=\"1\" stroke=\"#000000\" stroke-opacity=\"1\" stroke-width=\"1\"/>\n",
       "<circle clip-path=\"url(#clip742)\" cx=\"283.836\" cy=\"329.678\" r=\"3\" fill=\"#009af9\" fill-rule=\"evenodd\" fill-opacity=\"1\" stroke=\"#000000\" stroke-opacity=\"1\" stroke-width=\"1\"/>\n",
       "<circle clip-path=\"url(#clip742)\" cx=\"305.418\" cy=\"349.223\" r=\"3\" fill=\"#009af9\" fill-rule=\"evenodd\" fill-opacity=\"1\" stroke=\"#000000\" stroke-opacity=\"1\" stroke-width=\"1\"/>\n",
       "<circle clip-path=\"url(#clip742)\" cx=\"281.689\" cy=\"314.323\" r=\"3\" fill=\"#009af9\" fill-rule=\"evenodd\" fill-opacity=\"1\" stroke=\"#000000\" stroke-opacity=\"1\" stroke-width=\"1\"/>\n",
       "<circle clip-path=\"url(#clip742)\" cx=\"320.375\" cy=\"316.353\" r=\"3\" fill=\"#009af9\" fill-rule=\"evenodd\" fill-opacity=\"1\" stroke=\"#000000\" stroke-opacity=\"1\" stroke-width=\"1\"/>\n",
       "<circle clip-path=\"url(#clip742)\" cx=\"292.35\" cy=\"367.889\" r=\"3\" fill=\"#009af9\" fill-rule=\"evenodd\" fill-opacity=\"1\" stroke=\"#000000\" stroke-opacity=\"1\" stroke-width=\"1\"/>\n",
       "<circle clip-path=\"url(#clip742)\" cx=\"345.595\" cy=\"327.964\" r=\"3\" fill=\"#009af9\" fill-rule=\"evenodd\" fill-opacity=\"1\" stroke=\"#000000\" stroke-opacity=\"1\" stroke-width=\"1\"/>\n",
       "<circle clip-path=\"url(#clip742)\" cx=\"254.719\" cy=\"331.086\" r=\"3\" fill=\"#009af9\" fill-rule=\"evenodd\" fill-opacity=\"1\" stroke=\"#000000\" stroke-opacity=\"1\" stroke-width=\"1\"/>\n",
       "<circle clip-path=\"url(#clip742)\" cx=\"275.975\" cy=\"329.363\" r=\"3\" fill=\"#009af9\" fill-rule=\"evenodd\" fill-opacity=\"1\" stroke=\"#000000\" stroke-opacity=\"1\" stroke-width=\"1\"/>\n",
       "<circle clip-path=\"url(#clip742)\" cx=\"364.69\" cy=\"416.788\" r=\"3\" fill=\"#009af9\" fill-rule=\"evenodd\" fill-opacity=\"1\" stroke=\"#000000\" stroke-opacity=\"1\" stroke-width=\"1\"/>\n",
       "<circle clip-path=\"url(#clip742)\" cx=\"388.352\" cy=\"360.724\" r=\"3\" fill=\"#009af9\" fill-rule=\"evenodd\" fill-opacity=\"1\" stroke=\"#000000\" stroke-opacity=\"1\" stroke-width=\"1\"/>\n",
       "<circle clip-path=\"url(#clip742)\" cx=\"294.806\" cy=\"389.012\" r=\"3\" fill=\"#009af9\" fill-rule=\"evenodd\" fill-opacity=\"1\" stroke=\"#000000\" stroke-opacity=\"1\" stroke-width=\"1\"/>\n",
       "<circle clip-path=\"url(#clip742)\" cx=\"399.529\" cy=\"392.882\" r=\"3\" fill=\"#009af9\" fill-rule=\"evenodd\" fill-opacity=\"1\" stroke=\"#000000\" stroke-opacity=\"1\" stroke-width=\"1\"/>\n",
       "<circle clip-path=\"url(#clip742)\" cx=\"345.575\" cy=\"306.79\" r=\"3\" fill=\"#009af9\" fill-rule=\"evenodd\" fill-opacity=\"1\" stroke=\"#000000\" stroke-opacity=\"1\" stroke-width=\"1\"/>\n",
       "<circle clip-path=\"url(#clip742)\" cx=\"340.4\" cy=\"321.58\" r=\"3\" fill=\"#009af9\" fill-rule=\"evenodd\" fill-opacity=\"1\" stroke=\"#000000\" stroke-opacity=\"1\" stroke-width=\"1\"/>\n",
       "<circle clip-path=\"url(#clip742)\" cx=\"258.44\" cy=\"357.698\" r=\"3\" fill=\"#009af9\" fill-rule=\"evenodd\" fill-opacity=\"1\" stroke=\"#000000\" stroke-opacity=\"1\" stroke-width=\"1\"/>\n",
       "<circle clip-path=\"url(#clip742)\" cx=\"282.699\" cy=\"374.877\" r=\"3\" fill=\"#009af9\" fill-rule=\"evenodd\" fill-opacity=\"1\" stroke=\"#000000\" stroke-opacity=\"1\" stroke-width=\"1\"/>\n",
       "<circle clip-path=\"url(#clip742)\" cx=\"311.422\" cy=\"311.479\" r=\"3\" fill=\"#009af9\" fill-rule=\"evenodd\" fill-opacity=\"1\" stroke=\"#000000\" stroke-opacity=\"1\" stroke-width=\"1\"/>\n",
       "<circle clip-path=\"url(#clip742)\" cx=\"364.437\" cy=\"275.467\" r=\"3\" fill=\"#009af9\" fill-rule=\"evenodd\" fill-opacity=\"1\" stroke=\"#000000\" stroke-opacity=\"1\" stroke-width=\"1\"/>\n",
       "<circle clip-path=\"url(#clip742)\" cx=\"323.322\" cy=\"328.768\" r=\"3\" fill=\"#009af9\" fill-rule=\"evenodd\" fill-opacity=\"1\" stroke=\"#000000\" stroke-opacity=\"1\" stroke-width=\"1\"/>\n",
       "<circle clip-path=\"url(#clip742)\" cx=\"270.779\" cy=\"356.764\" r=\"3\" fill=\"#009af9\" fill-rule=\"evenodd\" fill-opacity=\"1\" stroke=\"#000000\" stroke-opacity=\"1\" stroke-width=\"1\"/>\n",
       "<circle clip-path=\"url(#clip742)\" cx=\"362.237\" cy=\"443.855\" r=\"3\" fill=\"#009af9\" fill-rule=\"evenodd\" fill-opacity=\"1\" stroke=\"#000000\" stroke-opacity=\"1\" stroke-width=\"1\"/>\n",
       "<circle clip-path=\"url(#clip742)\" cx=\"369.689\" cy=\"350.201\" r=\"3\" fill=\"#009af9\" fill-rule=\"evenodd\" fill-opacity=\"1\" stroke=\"#000000\" stroke-opacity=\"1\" stroke-width=\"1\"/>\n",
       "<circle clip-path=\"url(#clip742)\" cx=\"260.711\" cy=\"306.675\" r=\"3\" fill=\"#009af9\" fill-rule=\"evenodd\" fill-opacity=\"1\" stroke=\"#000000\" stroke-opacity=\"1\" stroke-width=\"1\"/>\n",
       "<circle clip-path=\"url(#clip742)\" cx=\"277.627\" cy=\"396.439\" r=\"3\" fill=\"#009af9\" fill-rule=\"evenodd\" fill-opacity=\"1\" stroke=\"#000000\" stroke-opacity=\"1\" stroke-width=\"1\"/>\n",
       "<circle clip-path=\"url(#clip742)\" cx=\"322.23\" cy=\"362.68\" r=\"3\" fill=\"#009af9\" fill-rule=\"evenodd\" fill-opacity=\"1\" stroke=\"#000000\" stroke-opacity=\"1\" stroke-width=\"1\"/>\n",
       "<circle clip-path=\"url(#clip742)\" cx=\"344.903\" cy=\"358.434\" r=\"3\" fill=\"#009af9\" fill-rule=\"evenodd\" fill-opacity=\"1\" stroke=\"#000000\" stroke-opacity=\"1\" stroke-width=\"1\"/>\n",
       "<circle clip-path=\"url(#clip742)\" cx=\"361.334\" cy=\"319.194\" r=\"3\" fill=\"#009af9\" fill-rule=\"evenodd\" fill-opacity=\"1\" stroke=\"#000000\" stroke-opacity=\"1\" stroke-width=\"1\"/>\n",
       "<circle clip-path=\"url(#clip742)\" cx=\"332.359\" cy=\"328.501\" r=\"3\" fill=\"#009af9\" fill-rule=\"evenodd\" fill-opacity=\"1\" stroke=\"#000000\" stroke-opacity=\"1\" stroke-width=\"1\"/>\n",
       "<circle clip-path=\"url(#clip742)\" cx=\"357.622\" cy=\"338.269\" r=\"3\" fill=\"#009af9\" fill-rule=\"evenodd\" fill-opacity=\"1\" stroke=\"#000000\" stroke-opacity=\"1\" stroke-width=\"1\"/>\n",
       "<circle clip-path=\"url(#clip742)\" cx=\"298.54\" cy=\"323.246\" r=\"3\" fill=\"#009af9\" fill-rule=\"evenodd\" fill-opacity=\"1\" stroke=\"#000000\" stroke-opacity=\"1\" stroke-width=\"1\"/>\n",
       "<circle clip-path=\"url(#clip742)\" cx=\"290.388\" cy=\"388.646\" r=\"3\" fill=\"#009af9\" fill-rule=\"evenodd\" fill-opacity=\"1\" stroke=\"#000000\" stroke-opacity=\"1\" stroke-width=\"1\"/>\n",
       "<circle clip-path=\"url(#clip742)\" cx=\"397.863\" cy=\"334.278\" r=\"3\" fill=\"#009af9\" fill-rule=\"evenodd\" fill-opacity=\"1\" stroke=\"#000000\" stroke-opacity=\"1\" stroke-width=\"1\"/>\n",
       "<circle clip-path=\"url(#clip742)\" cx=\"382.56\" cy=\"381.74\" r=\"3\" fill=\"#009af9\" fill-rule=\"evenodd\" fill-opacity=\"1\" stroke=\"#000000\" stroke-opacity=\"1\" stroke-width=\"1\"/>\n",
       "<circle clip-path=\"url(#clip742)\" cx=\"315.89\" cy=\"360.726\" r=\"3\" fill=\"#009af9\" fill-rule=\"evenodd\" fill-opacity=\"1\" stroke=\"#000000\" stroke-opacity=\"1\" stroke-width=\"1\"/>\n",
       "<circle clip-path=\"url(#clip742)\" cx=\"321.183\" cy=\"366.671\" r=\"3\" fill=\"#009af9\" fill-rule=\"evenodd\" fill-opacity=\"1\" stroke=\"#000000\" stroke-opacity=\"1\" stroke-width=\"1\"/>\n",
       "<circle clip-path=\"url(#clip742)\" cx=\"336.897\" cy=\"383.113\" r=\"3\" fill=\"#009af9\" fill-rule=\"evenodd\" fill-opacity=\"1\" stroke=\"#000000\" stroke-opacity=\"1\" stroke-width=\"1\"/>\n",
       "<circle clip-path=\"url(#clip742)\" cx=\"274.048\" cy=\"347.875\" r=\"3\" fill=\"#009af9\" fill-rule=\"evenodd\" fill-opacity=\"1\" stroke=\"#000000\" stroke-opacity=\"1\" stroke-width=\"1\"/>\n",
       "<circle clip-path=\"url(#clip742)\" cx=\"343.357\" cy=\"327.898\" r=\"3\" fill=\"#009af9\" fill-rule=\"evenodd\" fill-opacity=\"1\" stroke=\"#000000\" stroke-opacity=\"1\" stroke-width=\"1\"/>\n",
       "<circle clip-path=\"url(#clip742)\" cx=\"284.967\" cy=\"332\" r=\"3\" fill=\"#009af9\" fill-rule=\"evenodd\" fill-opacity=\"1\" stroke=\"#000000\" stroke-opacity=\"1\" stroke-width=\"1\"/>\n",
       "<circle clip-path=\"url(#clip742)\" cx=\"382.141\" cy=\"411.792\" r=\"3\" fill=\"#009af9\" fill-rule=\"evenodd\" fill-opacity=\"1\" stroke=\"#000000\" stroke-opacity=\"1\" stroke-width=\"1\"/>\n",
       "<circle clip-path=\"url(#clip742)\" cx=\"354.335\" cy=\"338.29\" r=\"3\" fill=\"#009af9\" fill-rule=\"evenodd\" fill-opacity=\"1\" stroke=\"#000000\" stroke-opacity=\"1\" stroke-width=\"1\"/>\n",
       "<circle clip-path=\"url(#clip742)\" cx=\"339.047\" cy=\"345.053\" r=\"3\" fill=\"#009af9\" fill-rule=\"evenodd\" fill-opacity=\"1\" stroke=\"#000000\" stroke-opacity=\"1\" stroke-width=\"1\"/>\n",
       "<circle clip-path=\"url(#clip742)\" cx=\"288.786\" cy=\"323.412\" r=\"3\" fill=\"#009af9\" fill-rule=\"evenodd\" fill-opacity=\"1\" stroke=\"#000000\" stroke-opacity=\"1\" stroke-width=\"1\"/>\n",
       "<circle clip-path=\"url(#clip742)\" cx=\"360.704\" cy=\"319.77\" r=\"3\" fill=\"#009af9\" fill-rule=\"evenodd\" fill-opacity=\"1\" stroke=\"#000000\" stroke-opacity=\"1\" stroke-width=\"1\"/>\n",
       "<circle clip-path=\"url(#clip742)\" cx=\"286.614\" cy=\"367.514\" r=\"3\" fill=\"#009af9\" fill-rule=\"evenodd\" fill-opacity=\"1\" stroke=\"#000000\" stroke-opacity=\"1\" stroke-width=\"1\"/>\n",
       "<circle clip-path=\"url(#clip742)\" cx=\"340.894\" cy=\"312.702\" r=\"3\" fill=\"#009af9\" fill-rule=\"evenodd\" fill-opacity=\"1\" stroke=\"#000000\" stroke-opacity=\"1\" stroke-width=\"1\"/>\n",
       "<circle clip-path=\"url(#clip742)\" cx=\"335.822\" cy=\"380.711\" r=\"3\" fill=\"#009af9\" fill-rule=\"evenodd\" fill-opacity=\"1\" stroke=\"#000000\" stroke-opacity=\"1\" stroke-width=\"1\"/>\n",
       "<circle clip-path=\"url(#clip742)\" cx=\"309.926\" cy=\"339.666\" r=\"3\" fill=\"#009af9\" fill-rule=\"evenodd\" fill-opacity=\"1\" stroke=\"#000000\" stroke-opacity=\"1\" stroke-width=\"1\"/>\n",
       "<circle clip-path=\"url(#clip742)\" cx=\"342.552\" cy=\"379.313\" r=\"3\" fill=\"#009af9\" fill-rule=\"evenodd\" fill-opacity=\"1\" stroke=\"#000000\" stroke-opacity=\"1\" stroke-width=\"1\"/>\n",
       "<circle clip-path=\"url(#clip742)\" cx=\"330.282\" cy=\"386.147\" r=\"3\" fill=\"#009af9\" fill-rule=\"evenodd\" fill-opacity=\"1\" stroke=\"#000000\" stroke-opacity=\"1\" stroke-width=\"1\"/>\n",
       "<circle clip-path=\"url(#clip742)\" cx=\"303.251\" cy=\"373.678\" r=\"3\" fill=\"#009af9\" fill-rule=\"evenodd\" fill-opacity=\"1\" stroke=\"#000000\" stroke-opacity=\"1\" stroke-width=\"1\"/>\n",
       "<circle clip-path=\"url(#clip742)\" cx=\"339.549\" cy=\"330.418\" r=\"3\" fill=\"#009af9\" fill-rule=\"evenodd\" fill-opacity=\"1\" stroke=\"#000000\" stroke-opacity=\"1\" stroke-width=\"1\"/>\n",
       "<circle clip-path=\"url(#clip742)\" cx=\"311.459\" cy=\"429.216\" r=\"3\" fill=\"#009af9\" fill-rule=\"evenodd\" fill-opacity=\"1\" stroke=\"#000000\" stroke-opacity=\"1\" stroke-width=\"1\"/>\n",
       "<circle clip-path=\"url(#clip742)\" cx=\"301.07\" cy=\"367.36\" r=\"3\" fill=\"#009af9\" fill-rule=\"evenodd\" fill-opacity=\"1\" stroke=\"#000000\" stroke-opacity=\"1\" stroke-width=\"1\"/>\n",
       "<circle clip-path=\"url(#clip742)\" cx=\"335.222\" cy=\"352.455\" r=\"3\" fill=\"#009af9\" fill-rule=\"evenodd\" fill-opacity=\"1\" stroke=\"#000000\" stroke-opacity=\"1\" stroke-width=\"1\"/>\n",
       "<circle clip-path=\"url(#clip742)\" cx=\"286.624\" cy=\"301.804\" r=\"3\" fill=\"#009af9\" fill-rule=\"evenodd\" fill-opacity=\"1\" stroke=\"#000000\" stroke-opacity=\"1\" stroke-width=\"1\"/>\n",
       "<circle clip-path=\"url(#clip742)\" cx=\"315.51\" cy=\"382.71\" r=\"3\" fill=\"#009af9\" fill-rule=\"evenodd\" fill-opacity=\"1\" stroke=\"#000000\" stroke-opacity=\"1\" stroke-width=\"1\"/>\n",
       "<circle clip-path=\"url(#clip742)\" cx=\"291.262\" cy=\"294.538\" r=\"3\" fill=\"#009af9\" fill-rule=\"evenodd\" fill-opacity=\"1\" stroke=\"#000000\" stroke-opacity=\"1\" stroke-width=\"1\"/>\n",
       "<circle clip-path=\"url(#clip742)\" cx=\"279.343\" cy=\"314.493\" r=\"3\" fill=\"#009af9\" fill-rule=\"evenodd\" fill-opacity=\"1\" stroke=\"#000000\" stroke-opacity=\"1\" stroke-width=\"1\"/>\n",
       "<circle clip-path=\"url(#clip742)\" cx=\"432.726\" cy=\"407.334\" r=\"3\" fill=\"#009af9\" fill-rule=\"evenodd\" fill-opacity=\"1\" stroke=\"#000000\" stroke-opacity=\"1\" stroke-width=\"1\"/>\n",
       "<circle clip-path=\"url(#clip742)\" cx=\"299.251\" cy=\"330.044\" r=\"3\" fill=\"#009af9\" fill-rule=\"evenodd\" fill-opacity=\"1\" stroke=\"#000000\" stroke-opacity=\"1\" stroke-width=\"1\"/>\n",
       "<circle clip-path=\"url(#clip742)\" cx=\"256.553\" cy=\"358.058\" r=\"3\" fill=\"#009af9\" fill-rule=\"evenodd\" fill-opacity=\"1\" stroke=\"#000000\" stroke-opacity=\"1\" stroke-width=\"1\"/>\n",
       "<circle clip-path=\"url(#clip742)\" cx=\"370.598\" cy=\"319.828\" r=\"3\" fill=\"#009af9\" fill-rule=\"evenodd\" fill-opacity=\"1\" stroke=\"#000000\" stroke-opacity=\"1\" stroke-width=\"1\"/>\n",
       "<circle clip-path=\"url(#clip742)\" cx=\"322.623\" cy=\"362.14\" r=\"3\" fill=\"#009af9\" fill-rule=\"evenodd\" fill-opacity=\"1\" stroke=\"#000000\" stroke-opacity=\"1\" stroke-width=\"1\"/>\n",
       "<circle clip-path=\"url(#clip742)\" cx=\"348.005\" cy=\"391.534\" r=\"3\" fill=\"#009af9\" fill-rule=\"evenodd\" fill-opacity=\"1\" stroke=\"#000000\" stroke-opacity=\"1\" stroke-width=\"1\"/>\n",
       "<circle clip-path=\"url(#clip742)\" cx=\"329.578\" cy=\"355.071\" r=\"3\" fill=\"#009af9\" fill-rule=\"evenodd\" fill-opacity=\"1\" stroke=\"#000000\" stroke-opacity=\"1\" stroke-width=\"1\"/>\n",
       "<circle clip-path=\"url(#clip742)\" cx=\"313.931\" cy=\"353.248\" r=\"3\" fill=\"#009af9\" fill-rule=\"evenodd\" fill-opacity=\"1\" stroke=\"#000000\" stroke-opacity=\"1\" stroke-width=\"1\"/>\n",
       "<circle clip-path=\"url(#clip742)\" cx=\"326.818\" cy=\"341.759\" r=\"3\" fill=\"#009af9\" fill-rule=\"evenodd\" fill-opacity=\"1\" stroke=\"#000000\" stroke-opacity=\"1\" stroke-width=\"1\"/>\n",
       "<circle clip-path=\"url(#clip742)\" cx=\"342.461\" cy=\"326.717\" r=\"3\" fill=\"#009af9\" fill-rule=\"evenodd\" fill-opacity=\"1\" stroke=\"#000000\" stroke-opacity=\"1\" stroke-width=\"1\"/>\n",
       "<circle clip-path=\"url(#clip742)\" cx=\"364.315\" cy=\"366.995\" r=\"3\" fill=\"#009af9\" fill-rule=\"evenodd\" fill-opacity=\"1\" stroke=\"#000000\" stroke-opacity=\"1\" stroke-width=\"1\"/>\n",
       "<circle clip-path=\"url(#clip742)\" cx=\"286.333\" cy=\"386.187\" r=\"3\" fill=\"#009af9\" fill-rule=\"evenodd\" fill-opacity=\"1\" stroke=\"#000000\" stroke-opacity=\"1\" stroke-width=\"1\"/>\n",
       "<circle clip-path=\"url(#clip742)\" cx=\"297.382\" cy=\"345.47\" r=\"3\" fill=\"#009af9\" fill-rule=\"evenodd\" fill-opacity=\"1\" stroke=\"#000000\" stroke-opacity=\"1\" stroke-width=\"1\"/>\n",
       "<circle clip-path=\"url(#clip742)\" cx=\"272.668\" cy=\"335.179\" r=\"3\" fill=\"#009af9\" fill-rule=\"evenodd\" fill-opacity=\"1\" stroke=\"#000000\" stroke-opacity=\"1\" stroke-width=\"1\"/>\n",
       "<circle clip-path=\"url(#clip742)\" cx=\"311.988\" cy=\"329.897\" r=\"3\" fill=\"#009af9\" fill-rule=\"evenodd\" fill-opacity=\"1\" stroke=\"#000000\" stroke-opacity=\"1\" stroke-width=\"1\"/>\n",
       "<circle clip-path=\"url(#clip742)\" cx=\"321.751\" cy=\"332.594\" r=\"3\" fill=\"#009af9\" fill-rule=\"evenodd\" fill-opacity=\"1\" stroke=\"#000000\" stroke-opacity=\"1\" stroke-width=\"1\"/>\n",
       "<circle clip-path=\"url(#clip742)\" cx=\"343.409\" cy=\"269.735\" r=\"3\" fill=\"#009af9\" fill-rule=\"evenodd\" fill-opacity=\"1\" stroke=\"#000000\" stroke-opacity=\"1\" stroke-width=\"1\"/>\n",
       "<circle clip-path=\"url(#clip742)\" cx=\"321.124\" cy=\"336.52\" r=\"3\" fill=\"#009af9\" fill-rule=\"evenodd\" fill-opacity=\"1\" stroke=\"#000000\" stroke-opacity=\"1\" stroke-width=\"1\"/>\n",
       "<circle clip-path=\"url(#clip742)\" cx=\"378.026\" cy=\"406.007\" r=\"3\" fill=\"#009af9\" fill-rule=\"evenodd\" fill-opacity=\"1\" stroke=\"#000000\" stroke-opacity=\"1\" stroke-width=\"1\"/>\n",
       "<circle clip-path=\"url(#clip742)\" cx=\"383.34\" cy=\"373.714\" r=\"3\" fill=\"#009af9\" fill-rule=\"evenodd\" fill-opacity=\"1\" stroke=\"#000000\" stroke-opacity=\"1\" stroke-width=\"1\"/>\n",
       "<circle clip-path=\"url(#clip742)\" cx=\"296.762\" cy=\"334.186\" r=\"3\" fill=\"#009af9\" fill-rule=\"evenodd\" fill-opacity=\"1\" stroke=\"#000000\" stroke-opacity=\"1\" stroke-width=\"1\"/>\n",
       "<circle clip-path=\"url(#clip742)\" cx=\"326.195\" cy=\"316.455\" r=\"3\" fill=\"#009af9\" fill-rule=\"evenodd\" fill-opacity=\"1\" stroke=\"#000000\" stroke-opacity=\"1\" stroke-width=\"1\"/>\n",
       "<circle clip-path=\"url(#clip742)\" cx=\"336.464\" cy=\"406.799\" r=\"3\" fill=\"#009af9\" fill-rule=\"evenodd\" fill-opacity=\"1\" stroke=\"#000000\" stroke-opacity=\"1\" stroke-width=\"1\"/>\n",
       "<circle clip-path=\"url(#clip742)\" cx=\"310.229\" cy=\"353.952\" r=\"3\" fill=\"#009af9\" fill-rule=\"evenodd\" fill-opacity=\"1\" stroke=\"#000000\" stroke-opacity=\"1\" stroke-width=\"1\"/>\n",
       "<circle clip-path=\"url(#clip742)\" cx=\"346.275\" cy=\"362.431\" r=\"3\" fill=\"#009af9\" fill-rule=\"evenodd\" fill-opacity=\"1\" stroke=\"#000000\" stroke-opacity=\"1\" stroke-width=\"1\"/>\n",
       "<circle clip-path=\"url(#clip742)\" cx=\"293.261\" cy=\"339.5\" r=\"3\" fill=\"#009af9\" fill-rule=\"evenodd\" fill-opacity=\"1\" stroke=\"#000000\" stroke-opacity=\"1\" stroke-width=\"1\"/>\n",
       "<circle clip-path=\"url(#clip742)\" cx=\"290.032\" cy=\"383.099\" r=\"3\" fill=\"#009af9\" fill-rule=\"evenodd\" fill-opacity=\"1\" stroke=\"#000000\" stroke-opacity=\"1\" stroke-width=\"1\"/>\n",
       "<circle clip-path=\"url(#clip742)\" cx=\"285.569\" cy=\"366.623\" r=\"3\" fill=\"#009af9\" fill-rule=\"evenodd\" fill-opacity=\"1\" stroke=\"#000000\" stroke-opacity=\"1\" stroke-width=\"1\"/>\n",
       "<circle clip-path=\"url(#clip742)\" cx=\"320.932\" cy=\"346.945\" r=\"3\" fill=\"#009af9\" fill-rule=\"evenodd\" fill-opacity=\"1\" stroke=\"#000000\" stroke-opacity=\"1\" stroke-width=\"1\"/>\n",
       "</svg>\n"
      ]
     },
     "execution_count": 44,
     "metadata": {},
     "output_type": "execute_result"
    }
   ],
   "source": [
    "plot!(legend = false, grid = false, size = (500,500),\n",
    "       xlims = (-1.5,2.5), ylims = (-2,2))"
   ]
  },
  {
   "cell_type": "code",
   "execution_count": 45,
   "metadata": {},
   "outputs": [
    {
     "name": "stdout",
     "output_type": "stream",
     "text": [
      "Iteration 1: Jclust = 0.8838130268104889.\n",
      "Iteration 2: Jclust = 0.3303368316857221.\n",
      "Iteration 3: Jclust = 0.2050979423832622.\n",
      "Iteration 4: Jclust = 0.17662717198537467.\n",
      "Iteration 5: Jclust = 0.1764486249050216.\n",
      "Iteration 6: Jclust = 0.1764486249050216.\n"
     ]
    },
    {
     "data": {
      "text/plain": [
       "([1, 1, 1, 1, 1, 1, 1, 1, 1, 1  …  2, 2, 2, 2, 2, 2, 2, 2, 2, 2], [[0.023848061341936493, -0.04271150719146784], [1.0242154751067267, -0.9981568117994729], [0.9869669603021521, 0.9618148990376619]])"
      ]
     },
     "execution_count": 45,
     "metadata": {},
     "output_type": "execute_result"
    }
   ],
   "source": [
    "using LinearAlgebra\n",
    "assignment, reps = kmeansfunction(X, 3)   # call the funciton"
   ]
  },
  {
   "cell_type": "code",
   "execution_count": 71,
   "metadata": {},
   "outputs": [
    {
     "data": {
      "image/svg+xml": [
       "<?xml version=\"1.0\" encoding=\"utf-8\"?>\n",
       "<svg xmlns=\"http://www.w3.org/2000/svg\" xmlns:xlink=\"http://www.w3.org/1999/xlink\" width=\"125\" height=\"125\" viewBox=\"0 0 500 500\">\n",
       "<defs>\n",
       "  <clipPath id=\"clip820\">\n",
       "    <rect x=\"0\" y=\"0\" width=\"500\" height=\"500\"/>\n",
       "  </clipPath>\n",
       "</defs>\n",
       "<path clip-path=\"url(#clip820)\" d=\"\n",
       "M0 500 L500 500 L500 0 L0 0  Z\n",
       "  \" fill=\"#ffffff\" fill-rule=\"evenodd\" fill-opacity=\"1\"/>\n",
       "<defs>\n",
       "  <clipPath id=\"clip821\">\n",
       "    <rect x=\"100\" y=\"50\" width=\"351\" height=\"351\"/>\n",
       "  </clipPath>\n",
       "</defs>\n",
       "<path clip-path=\"url(#clip820)\" d=\"\n",
       "M34.6137 466.292 L488.189 466.292 L488.189 11.811 L34.6137 11.811  Z\n",
       "  \" fill=\"#ffffff\" fill-rule=\"evenodd\" fill-opacity=\"1\"/>\n",
       "<defs>\n",
       "  <clipPath id=\"clip822\">\n",
       "    <rect x=\"34\" y=\"11\" width=\"455\" height=\"455\"/>\n",
       "  </clipPath>\n",
       "</defs>\n",
       "<polyline clip-path=\"url(#clip820)\" style=\"stroke:#000000; stroke-width:1; stroke-opacity:1; fill:none\" points=\"\n",
       "  34.6137,466.292 488.189,466.292 \n",
       "  \"/>\n",
       "<polyline clip-path=\"url(#clip820)\" style=\"stroke:#000000; stroke-width:1; stroke-opacity:1; fill:none\" points=\"\n",
       "  91.3106,466.292 91.3106,460.838 \n",
       "  \"/>\n",
       "<polyline clip-path=\"url(#clip820)\" style=\"stroke:#000000; stroke-width:1; stroke-opacity:1; fill:none\" points=\"\n",
       "  204.704,466.292 204.704,460.838 \n",
       "  \"/>\n",
       "<polyline clip-path=\"url(#clip820)\" style=\"stroke:#000000; stroke-width:1; stroke-opacity:1; fill:none\" points=\"\n",
       "  318.098,466.292 318.098,460.838 \n",
       "  \"/>\n",
       "<polyline clip-path=\"url(#clip820)\" style=\"stroke:#000000; stroke-width:1; stroke-opacity:1; fill:none\" points=\"\n",
       "  431.492,466.292 431.492,460.838 \n",
       "  \"/>\n",
       "<path clip-path=\"url(#clip820)\" d=\"M 0 0 M84.3778 476.453 L91.7967 476.453 L91.7967 477.437 L84.3778 477.437 L84.3778 476.453 Z\" fill=\"#000000\" fill-rule=\"evenodd\" fill-opacity=\"1\" /><path clip-path=\"url(#clip820)\" d=\"M 0 0 M93.2666 479.676 L95.1763 479.676 L95.1763 473.085 L93.0988 473.501 L93.0988 472.437 L95.1648 472.02 L96.3337 472.02 L96.3337 479.676 L98.2434 479.676 L98.2434 480.66 L93.2666 480.66 L93.2666 479.676 Z\" fill=\"#000000\" fill-rule=\"evenodd\" fill-opacity=\"1\" /><path clip-path=\"url(#clip820)\" d=\"M 0 0 M204.704 472.79 Q203.802 472.79 203.344 473.681 Q202.893 474.566 202.893 476.349 Q202.893 478.125 203.344 479.016 Q203.802 479.902 204.704 479.902 Q205.613 479.902 206.064 479.016 Q206.522 478.125 206.522 476.349 Q206.522 474.566 206.064 473.681 Q205.613 472.79 204.704 472.79 M204.704 471.864 Q206.157 471.864 206.921 473.015 Q207.691 474.161 207.691 476.349 Q207.691 478.53 206.921 479.682 Q206.157 480.828 204.704 480.828 Q203.252 480.828 202.482 479.682 Q201.718 478.53 201.718 476.349 Q201.718 474.161 202.482 473.015 Q203.252 471.864 204.704 471.864 Z\" fill=\"#000000\" fill-rule=\"evenodd\" fill-opacity=\"1\" /><path clip-path=\"url(#clip820)\" d=\"M 0 0 M315.694 479.676 L317.603 479.676 L317.603 473.085 L315.526 473.501 L315.526 472.437 L317.592 472.02 L318.761 472.02 L318.761 479.676 L320.671 479.676 L320.671 480.66 L315.694 480.66 L315.694 479.676 Z\" fill=\"#000000\" fill-rule=\"evenodd\" fill-opacity=\"1\" /><path clip-path=\"url(#clip820)\" d=\"M 0 0 M430.155 479.676 L434.235 479.676 L434.235 480.66 L428.749 480.66 L428.749 479.676 Q429.415 478.988 430.56 477.83 Q431.712 476.667 432.007 476.331 Q432.568 475.701 432.788 475.266 Q433.014 474.827 433.014 474.404 Q433.014 473.716 432.528 473.282 Q432.048 472.848 431.272 472.848 Q430.722 472.848 430.109 473.038 Q429.501 473.229 428.807 473.617 L428.807 472.437 Q429.513 472.153 430.126 472.008 Q430.74 471.864 431.249 471.864 Q432.592 471.864 433.39 472.535 Q434.189 473.206 434.189 474.329 Q434.189 474.861 433.986 475.342 Q433.79 475.816 433.263 476.464 Q433.118 476.632 432.343 477.437 Q431.567 478.235 430.155 479.676 Z\" fill=\"#000000\" fill-rule=\"evenodd\" fill-opacity=\"1\" /><polyline clip-path=\"url(#clip820)\" style=\"stroke:#000000; stroke-width:1; stroke-opacity:1; fill:none\" points=\"\n",
       "  34.6137,466.292 34.6137,11.811 \n",
       "  \"/>\n",
       "<polyline clip-path=\"url(#clip820)\" style=\"stroke:#000000; stroke-width:1; stroke-opacity:1; fill:none\" points=\"\n",
       "  34.6137,466.292 40.0566,466.292 \n",
       "  \"/>\n",
       "<polyline clip-path=\"url(#clip820)\" style=\"stroke:#000000; stroke-width:1; stroke-opacity:1; fill:none\" points=\"\n",
       "  34.6137,352.672 40.0566,352.672 \n",
       "  \"/>\n",
       "<polyline clip-path=\"url(#clip820)\" style=\"stroke:#000000; stroke-width:1; stroke-opacity:1; fill:none\" points=\"\n",
       "  34.6137,239.051 40.0566,239.051 \n",
       "  \"/>\n",
       "<polyline clip-path=\"url(#clip820)\" style=\"stroke:#000000; stroke-width:1; stroke-opacity:1; fill:none\" points=\"\n",
       "  34.6137,125.431 40.0566,125.431 \n",
       "  \"/>\n",
       "<polyline clip-path=\"url(#clip820)\" style=\"stroke:#000000; stroke-width:1; stroke-opacity:1; fill:none\" points=\"\n",
       "  34.6137,11.811 40.0566,11.811 \n",
       "  \"/>\n",
       "<path clip-path=\"url(#clip820)\" d=\"M 0 0 M13.3406 466.405 L20.7596 466.405 L20.7596 467.389 L13.3406 467.389 L13.3406 466.405 Z\" fill=\"#000000\" fill-rule=\"evenodd\" fill-opacity=\"1\" /><path clip-path=\"url(#clip820)\" d=\"M 0 0 M23.0339 469.628 L27.1137 469.628 L27.1137 470.612 L21.6276 470.612 L21.6276 469.628 Q22.2931 468.94 23.4389 467.782 Q24.5906 466.619 24.8857 466.283 Q25.447 465.653 25.6669 465.218 Q25.8926 464.779 25.8926 464.356 Q25.8926 463.668 25.4065 463.234 Q24.9262 462.8 24.1508 462.8 Q23.601 462.8 22.9876 462.99 Q22.3799 463.181 21.6855 463.569 L21.6855 462.389 Q22.3915 462.105 23.0049 461.96 Q23.6183 461.816 24.1276 461.816 Q25.4702 461.816 26.2688 462.487 Q27.0674 463.158 27.0674 464.281 Q27.0674 464.813 26.8649 465.294 Q26.6681 465.768 26.1415 466.416 Q25.9968 466.584 25.2213 467.389 Q24.4459 468.187 23.0339 469.628 Z\" fill=\"#000000\" fill-rule=\"evenodd\" fill-opacity=\"1\" /><path clip-path=\"url(#clip820)\" d=\"M 0 0 M13.248 352.785 L20.667 352.785 L20.667 353.768 L13.248 353.768 L13.248 352.785 Z\" fill=\"#000000\" fill-rule=\"evenodd\" fill-opacity=\"1\" /><path clip-path=\"url(#clip820)\" d=\"M 0 0 M22.1369 356.008 L24.0466 356.008 L24.0466 349.417 L21.969 349.833 L21.969 348.768 L24.035 348.352 L25.204 348.352 L25.204 356.008 L27.1137 356.008 L27.1137 356.992 L22.1369 356.992 L22.1369 356.008 Z\" fill=\"#000000\" fill-rule=\"evenodd\" fill-opacity=\"1\" /><path clip-path=\"url(#clip820)\" d=\"M 0 0 M24.1276 235.501 Q23.2248 235.501 22.7677 236.392 Q22.3163 237.278 22.3163 239.06 Q22.3163 240.837 22.7677 241.728 Q23.2248 242.613 24.1276 242.613 Q25.0362 242.613 25.4875 241.728 Q25.9447 240.837 25.9447 239.06 Q25.9447 237.278 25.4875 236.392 Q25.0362 235.501 24.1276 235.501 M24.1276 234.575 Q25.5801 234.575 26.344 235.727 Q27.1137 236.873 27.1137 239.06 Q27.1137 241.242 26.344 242.393 Q25.5801 243.539 24.1276 243.539 Q22.6751 243.539 21.9054 242.393 Q21.1415 241.242 21.1415 239.06 Q21.1415 236.873 21.9054 235.727 Q22.6751 234.575 24.1276 234.575 Z\" fill=\"#000000\" fill-rule=\"evenodd\" fill-opacity=\"1\" /><path clip-path=\"url(#clip820)\" d=\"M 0 0 M22.1369 128.767 L24.0466 128.767 L24.0466 122.176 L21.969 122.593 L21.969 121.528 L24.035 121.111 L25.204 121.111 L25.204 128.767 L27.1137 128.767 L27.1137 129.751 L22.1369 129.751 L22.1369 128.767 Z\" fill=\"#000000\" fill-rule=\"evenodd\" fill-opacity=\"1\" /><path clip-path=\"url(#clip820)\" d=\"M 0 0 M23.0339 15.1472 L27.1137 15.1472 L27.1137 16.131 L21.6276 16.131 L21.6276 15.1472 Q22.2931 14.4586 23.4389 13.3012 Q24.5906 12.138 24.8857 11.8023 Q25.447 11.1716 25.6669 10.7375 Q25.8926 10.2977 25.8926 9.87527 Q25.8926 9.18662 25.4065 8.75259 Q24.9262 8.31857 24.1508 8.31857 Q23.601 8.31857 22.9876 8.50954 Q22.3799 8.70051 21.6855 9.08824 L21.6855 7.90769 Q22.3915 7.62412 23.0049 7.47945 Q23.6183 7.33477 24.1276 7.33477 Q25.4702 7.33477 26.2688 8.00607 Q27.0674 8.67736 27.0674 9.80004 Q27.0674 10.3324 26.8649 10.8128 Q26.6681 11.2873 26.1415 11.9354 Q25.9968 12.1033 25.2213 12.9077 Q24.4459 13.7063 23.0339 15.1472 Z\" fill=\"#000000\" fill-rule=\"evenodd\" fill-opacity=\"1\" /><circle clip-path=\"url(#clip822)\" cx=\"212.093\" cy=\"217.791\" r=\"3\" fill=\"#009af9\" fill-rule=\"evenodd\" fill-opacity=\"1\" stroke=\"#000000\" stroke-opacity=\"1\" stroke-width=\"1\"/>\n",
       "<circle clip-path=\"url(#clip822)\" cx=\"198.846\" cy=\"219.512\" r=\"3\" fill=\"#009af9\" fill-rule=\"evenodd\" fill-opacity=\"1\" stroke=\"#000000\" stroke-opacity=\"1\" stroke-width=\"1\"/>\n",
       "<circle clip-path=\"url(#clip822)\" cx=\"267.375\" cy=\"256.115\" r=\"3\" fill=\"#009af9\" fill-rule=\"evenodd\" fill-opacity=\"1\" stroke=\"#000000\" stroke-opacity=\"1\" stroke-width=\"1\"/>\n",
       "<circle clip-path=\"url(#clip822)\" cx=\"162.087\" cy=\"246.652\" r=\"3\" fill=\"#009af9\" fill-rule=\"evenodd\" fill-opacity=\"1\" stroke=\"#000000\" stroke-opacity=\"1\" stroke-width=\"1\"/>\n",
       "<circle clip-path=\"url(#clip822)\" cx=\"252.736\" cy=\"259.242\" r=\"3\" fill=\"#009af9\" fill-rule=\"evenodd\" fill-opacity=\"1\" stroke=\"#000000\" stroke-opacity=\"1\" stroke-width=\"1\"/>\n",
       "<circle clip-path=\"url(#clip822)\" cx=\"177.87\" cy=\"281.824\" r=\"3\" fill=\"#009af9\" fill-rule=\"evenodd\" fill-opacity=\"1\" stroke=\"#000000\" stroke-opacity=\"1\" stroke-width=\"1\"/>\n",
       "<circle clip-path=\"url(#clip822)\" cx=\"208.421\" cy=\"200.644\" r=\"3\" fill=\"#009af9\" fill-rule=\"evenodd\" fill-opacity=\"1\" stroke=\"#000000\" stroke-opacity=\"1\" stroke-width=\"1\"/>\n",
       "<circle clip-path=\"url(#clip822)\" cx=\"192.824\" cy=\"211.131\" r=\"3\" fill=\"#009af9\" fill-rule=\"evenodd\" fill-opacity=\"1\" stroke=\"#000000\" stroke-opacity=\"1\" stroke-width=\"1\"/>\n",
       "<circle clip-path=\"url(#clip822)\" cx=\"211.141\" cy=\"238.253\" r=\"3\" fill=\"#009af9\" fill-rule=\"evenodd\" fill-opacity=\"1\" stroke=\"#000000\" stroke-opacity=\"1\" stroke-width=\"1\"/>\n",
       "<circle clip-path=\"url(#clip822)\" cx=\"225.533\" cy=\"297.538\" r=\"3\" fill=\"#009af9\" fill-rule=\"evenodd\" fill-opacity=\"1\" stroke=\"#000000\" stroke-opacity=\"1\" stroke-width=\"1\"/>\n",
       "<circle clip-path=\"url(#clip822)\" cx=\"185.95\" cy=\"275.998\" r=\"3\" fill=\"#009af9\" fill-rule=\"evenodd\" fill-opacity=\"1\" stroke=\"#000000\" stroke-opacity=\"1\" stroke-width=\"1\"/>\n",
       "<circle clip-path=\"url(#clip822)\" cx=\"214.773\" cy=\"249.917\" r=\"3\" fill=\"#009af9\" fill-rule=\"evenodd\" fill-opacity=\"1\" stroke=\"#000000\" stroke-opacity=\"1\" stroke-width=\"1\"/>\n",
       "<circle clip-path=\"url(#clip822)\" cx=\"207.387\" cy=\"203.542\" r=\"3\" fill=\"#009af9\" fill-rule=\"evenodd\" fill-opacity=\"1\" stroke=\"#000000\" stroke-opacity=\"1\" stroke-width=\"1\"/>\n",
       "<circle clip-path=\"url(#clip822)\" cx=\"174.302\" cy=\"234.79\" r=\"3\" fill=\"#009af9\" fill-rule=\"evenodd\" fill-opacity=\"1\" stroke=\"#000000\" stroke-opacity=\"1\" stroke-width=\"1\"/>\n",
       "<circle clip-path=\"url(#clip822)\" cx=\"261.352\" cy=\"264.789\" r=\"3\" fill=\"#009af9\" fill-rule=\"evenodd\" fill-opacity=\"1\" stroke=\"#000000\" stroke-opacity=\"1\" stroke-width=\"1\"/>\n",
       "<circle clip-path=\"url(#clip822)\" cx=\"194.33\" cy=\"263.275\" r=\"3\" fill=\"#009af9\" fill-rule=\"evenodd\" fill-opacity=\"1\" stroke=\"#000000\" stroke-opacity=\"1\" stroke-width=\"1\"/>\n",
       "<circle clip-path=\"url(#clip822)\" cx=\"194.975\" cy=\"285.785\" r=\"3\" fill=\"#009af9\" fill-rule=\"evenodd\" fill-opacity=\"1\" stroke=\"#000000\" stroke-opacity=\"1\" stroke-width=\"1\"/>\n",
       "<circle clip-path=\"url(#clip822)\" cx=\"214.916\" cy=\"227.255\" r=\"3\" fill=\"#009af9\" fill-rule=\"evenodd\" fill-opacity=\"1\" stroke=\"#000000\" stroke-opacity=\"1\" stroke-width=\"1\"/>\n",
       "<circle clip-path=\"url(#clip822)\" cx=\"176.179\" cy=\"259.037\" r=\"3\" fill=\"#009af9\" fill-rule=\"evenodd\" fill-opacity=\"1\" stroke=\"#000000\" stroke-opacity=\"1\" stroke-width=\"1\"/>\n",
       "<circle clip-path=\"url(#clip822)\" cx=\"254.26\" cy=\"285.52\" r=\"3\" fill=\"#009af9\" fill-rule=\"evenodd\" fill-opacity=\"1\" stroke=\"#000000\" stroke-opacity=\"1\" stroke-width=\"1\"/>\n",
       "<circle clip-path=\"url(#clip822)\" cx=\"209.568\" cy=\"248.133\" r=\"3\" fill=\"#009af9\" fill-rule=\"evenodd\" fill-opacity=\"1\" stroke=\"#000000\" stroke-opacity=\"1\" stroke-width=\"1\"/>\n",
       "<circle clip-path=\"url(#clip822)\" cx=\"189.737\" cy=\"194.836\" r=\"3\" fill=\"#009af9\" fill-rule=\"evenodd\" fill-opacity=\"1\" stroke=\"#000000\" stroke-opacity=\"1\" stroke-width=\"1\"/>\n",
       "<circle clip-path=\"url(#clip822)\" cx=\"194.333\" cy=\"282.72\" r=\"3\" fill=\"#009af9\" fill-rule=\"evenodd\" fill-opacity=\"1\" stroke=\"#000000\" stroke-opacity=\"1\" stroke-width=\"1\"/>\n",
       "<circle clip-path=\"url(#clip822)\" cx=\"168.869\" cy=\"193.023\" r=\"3\" fill=\"#009af9\" fill-rule=\"evenodd\" fill-opacity=\"1\" stroke=\"#000000\" stroke-opacity=\"1\" stroke-width=\"1\"/>\n",
       "<circle clip-path=\"url(#clip822)\" cx=\"235.855\" cy=\"224.018\" r=\"3\" fill=\"#009af9\" fill-rule=\"evenodd\" fill-opacity=\"1\" stroke=\"#000000\" stroke-opacity=\"1\" stroke-width=\"1\"/>\n",
       "<circle clip-path=\"url(#clip822)\" cx=\"158.038\" cy=\"196.792\" r=\"3\" fill=\"#009af9\" fill-rule=\"evenodd\" fill-opacity=\"1\" stroke=\"#000000\" stroke-opacity=\"1\" stroke-width=\"1\"/>\n",
       "<circle clip-path=\"url(#clip822)\" cx=\"208.923\" cy=\"181.721\" r=\"3\" fill=\"#009af9\" fill-rule=\"evenodd\" fill-opacity=\"1\" stroke=\"#000000\" stroke-opacity=\"1\" stroke-width=\"1\"/>\n",
       "<circle clip-path=\"url(#clip822)\" cx=\"219.142\" cy=\"234.731\" r=\"3\" fill=\"#009af9\" fill-rule=\"evenodd\" fill-opacity=\"1\" stroke=\"#000000\" stroke-opacity=\"1\" stroke-width=\"1\"/>\n",
       "<circle clip-path=\"url(#clip822)\" cx=\"264.981\" cy=\"243\" r=\"3\" fill=\"#009af9\" fill-rule=\"evenodd\" fill-opacity=\"1\" stroke=\"#000000\" stroke-opacity=\"1\" stroke-width=\"1\"/>\n",
       "<circle clip-path=\"url(#clip822)\" cx=\"232.848\" cy=\"237.331\" r=\"3\" fill=\"#009af9\" fill-rule=\"evenodd\" fill-opacity=\"1\" stroke=\"#000000\" stroke-opacity=\"1\" stroke-width=\"1\"/>\n",
       "<circle clip-path=\"url(#clip822)\" cx=\"203.138\" cy=\"279.402\" r=\"3\" fill=\"#009af9\" fill-rule=\"evenodd\" fill-opacity=\"1\" stroke=\"#000000\" stroke-opacity=\"1\" stroke-width=\"1\"/>\n",
       "<circle clip-path=\"url(#clip822)\" cx=\"154.251\" cy=\"170.533\" r=\"3\" fill=\"#009af9\" fill-rule=\"evenodd\" fill-opacity=\"1\" stroke=\"#000000\" stroke-opacity=\"1\" stroke-width=\"1\"/>\n",
       "<circle clip-path=\"url(#clip822)\" cx=\"204.83\" cy=\"217.486\" r=\"3\" fill=\"#009af9\" fill-rule=\"evenodd\" fill-opacity=\"1\" stroke=\"#000000\" stroke-opacity=\"1\" stroke-width=\"1\"/>\n",
       "<circle clip-path=\"url(#clip822)\" cx=\"242.167\" cy=\"290.942\" r=\"3\" fill=\"#009af9\" fill-rule=\"evenodd\" fill-opacity=\"1\" stroke=\"#000000\" stroke-opacity=\"1\" stroke-width=\"1\"/>\n",
       "<circle clip-path=\"url(#clip822)\" cx=\"201.934\" cy=\"293.234\" r=\"3\" fill=\"#009af9\" fill-rule=\"evenodd\" fill-opacity=\"1\" stroke=\"#000000\" stroke-opacity=\"1\" stroke-width=\"1\"/>\n",
       "<circle clip-path=\"url(#clip822)\" cx=\"232.957\" cy=\"245.822\" r=\"3\" fill=\"#009af9\" fill-rule=\"evenodd\" fill-opacity=\"1\" stroke=\"#000000\" stroke-opacity=\"1\" stroke-width=\"1\"/>\n",
       "<circle clip-path=\"url(#clip822)\" cx=\"215.784\" cy=\"284.726\" r=\"3\" fill=\"#009af9\" fill-rule=\"evenodd\" fill-opacity=\"1\" stroke=\"#000000\" stroke-opacity=\"1\" stroke-width=\"1\"/>\n",
       "<circle clip-path=\"url(#clip822)\" cx=\"206.989\" cy=\"213.854\" r=\"3\" fill=\"#009af9\" fill-rule=\"evenodd\" fill-opacity=\"1\" stroke=\"#000000\" stroke-opacity=\"1\" stroke-width=\"1\"/>\n",
       "<circle clip-path=\"url(#clip822)\" cx=\"173.44\" cy=\"289.185\" r=\"3\" fill=\"#009af9\" fill-rule=\"evenodd\" fill-opacity=\"1\" stroke=\"#000000\" stroke-opacity=\"1\" stroke-width=\"1\"/>\n",
       "<circle clip-path=\"url(#clip822)\" cx=\"183.414\" cy=\"277.7\" r=\"3\" fill=\"#009af9\" fill-rule=\"evenodd\" fill-opacity=\"1\" stroke=\"#000000\" stroke-opacity=\"1\" stroke-width=\"1\"/>\n",
       "<circle clip-path=\"url(#clip822)\" cx=\"197.651\" cy=\"212.009\" r=\"3\" fill=\"#009af9\" fill-rule=\"evenodd\" fill-opacity=\"1\" stroke=\"#000000\" stroke-opacity=\"1\" stroke-width=\"1\"/>\n",
       "<circle clip-path=\"url(#clip822)\" cx=\"228.006\" cy=\"281.047\" r=\"3\" fill=\"#009af9\" fill-rule=\"evenodd\" fill-opacity=\"1\" stroke=\"#000000\" stroke-opacity=\"1\" stroke-width=\"1\"/>\n",
       "<circle clip-path=\"url(#clip822)\" cx=\"210.569\" cy=\"243.252\" r=\"3\" fill=\"#009af9\" fill-rule=\"evenodd\" fill-opacity=\"1\" stroke=\"#000000\" stroke-opacity=\"1\" stroke-width=\"1\"/>\n",
       "<circle clip-path=\"url(#clip822)\" cx=\"194.232\" cy=\"257.239\" r=\"3\" fill=\"#009af9\" fill-rule=\"evenodd\" fill-opacity=\"1\" stroke=\"#000000\" stroke-opacity=\"1\" stroke-width=\"1\"/>\n",
       "<circle clip-path=\"url(#clip822)\" cx=\"199.453\" cy=\"202.154\" r=\"3\" fill=\"#009af9\" fill-rule=\"evenodd\" fill-opacity=\"1\" stroke=\"#000000\" stroke-opacity=\"1\" stroke-width=\"1\"/>\n",
       "<circle clip-path=\"url(#clip822)\" cx=\"211.327\" cy=\"232.183\" r=\"3\" fill=\"#009af9\" fill-rule=\"evenodd\" fill-opacity=\"1\" stroke=\"#000000\" stroke-opacity=\"1\" stroke-width=\"1\"/>\n",
       "<circle clip-path=\"url(#clip822)\" cx=\"221.416\" cy=\"262.281\" r=\"3\" fill=\"#009af9\" fill-rule=\"evenodd\" fill-opacity=\"1\" stroke=\"#000000\" stroke-opacity=\"1\" stroke-width=\"1\"/>\n",
       "<circle clip-path=\"url(#clip822)\" cx=\"192.863\" cy=\"186.049\" r=\"3\" fill=\"#009af9\" fill-rule=\"evenodd\" fill-opacity=\"1\" stroke=\"#000000\" stroke-opacity=\"1\" stroke-width=\"1\"/>\n",
       "<circle clip-path=\"url(#clip822)\" cx=\"187.623\" cy=\"261.69\" r=\"3\" fill=\"#009af9\" fill-rule=\"evenodd\" fill-opacity=\"1\" stroke=\"#000000\" stroke-opacity=\"1\" stroke-width=\"1\"/>\n",
       "<circle clip-path=\"url(#clip822)\" cx=\"202.87\" cy=\"201.697\" r=\"3\" fill=\"#009af9\" fill-rule=\"evenodd\" fill-opacity=\"1\" stroke=\"#000000\" stroke-opacity=\"1\" stroke-width=\"1\"/>\n",
       "<circle clip-path=\"url(#clip822)\" cx=\"239.006\" cy=\"255.78\" r=\"3\" fill=\"#009af9\" fill-rule=\"evenodd\" fill-opacity=\"1\" stroke=\"#000000\" stroke-opacity=\"1\" stroke-width=\"1\"/>\n",
       "<circle clip-path=\"url(#clip822)\" cx=\"186.771\" cy=\"183.94\" r=\"3\" fill=\"#009af9\" fill-rule=\"evenodd\" fill-opacity=\"1\" stroke=\"#000000\" stroke-opacity=\"1\" stroke-width=\"1\"/>\n",
       "<circle clip-path=\"url(#clip822)\" cx=\"155.989\" cy=\"280.493\" r=\"3\" fill=\"#009af9\" fill-rule=\"evenodd\" fill-opacity=\"1\" stroke=\"#000000\" stroke-opacity=\"1\" stroke-width=\"1\"/>\n",
       "<circle clip-path=\"url(#clip822)\" cx=\"220.896\" cy=\"280.113\" r=\"3\" fill=\"#009af9\" fill-rule=\"evenodd\" fill-opacity=\"1\" stroke=\"#000000\" stroke-opacity=\"1\" stroke-width=\"1\"/>\n",
       "<circle clip-path=\"url(#clip822)\" cx=\"211.601\" cy=\"252.185\" r=\"3\" fill=\"#009af9\" fill-rule=\"evenodd\" fill-opacity=\"1\" stroke=\"#000000\" stroke-opacity=\"1\" stroke-width=\"1\"/>\n",
       "<circle clip-path=\"url(#clip822)\" cx=\"229.759\" cy=\"246.515\" r=\"3\" fill=\"#009af9\" fill-rule=\"evenodd\" fill-opacity=\"1\" stroke=\"#000000\" stroke-opacity=\"1\" stroke-width=\"1\"/>\n",
       "<circle clip-path=\"url(#clip822)\" cx=\"260.067\" cy=\"259.21\" r=\"3\" fill=\"#009af9\" fill-rule=\"evenodd\" fill-opacity=\"1\" stroke=\"#000000\" stroke-opacity=\"1\" stroke-width=\"1\"/>\n",
       "<circle clip-path=\"url(#clip822)\" cx=\"144.213\" cy=\"299.35\" r=\"3\" fill=\"#009af9\" fill-rule=\"evenodd\" fill-opacity=\"1\" stroke=\"#000000\" stroke-opacity=\"1\" stroke-width=\"1\"/>\n",
       "<circle clip-path=\"url(#clip822)\" cx=\"249.438\" cy=\"243.593\" r=\"3\" fill=\"#009af9\" fill-rule=\"evenodd\" fill-opacity=\"1\" stroke=\"#000000\" stroke-opacity=\"1\" stroke-width=\"1\"/>\n",
       "<circle clip-path=\"url(#clip822)\" cx=\"191.323\" cy=\"296.13\" r=\"3\" fill=\"#009af9\" fill-rule=\"evenodd\" fill-opacity=\"1\" stroke=\"#000000\" stroke-opacity=\"1\" stroke-width=\"1\"/>\n",
       "<circle clip-path=\"url(#clip822)\" cx=\"190.112\" cy=\"233.996\" r=\"3\" fill=\"#009af9\" fill-rule=\"evenodd\" fill-opacity=\"1\" stroke=\"#000000\" stroke-opacity=\"1\" stroke-width=\"1\"/>\n",
       "<circle clip-path=\"url(#clip822)\" cx=\"232.27\" cy=\"213.626\" r=\"3\" fill=\"#009af9\" fill-rule=\"evenodd\" fill-opacity=\"1\" stroke=\"#000000\" stroke-opacity=\"1\" stroke-width=\"1\"/>\n",
       "<circle clip-path=\"url(#clip822)\" cx=\"243.479\" cy=\"268.274\" r=\"3\" fill=\"#009af9\" fill-rule=\"evenodd\" fill-opacity=\"1\" stroke=\"#000000\" stroke-opacity=\"1\" stroke-width=\"1\"/>\n",
       "<circle clip-path=\"url(#clip822)\" cx=\"261.515\" cy=\"284.496\" r=\"3\" fill=\"#009af9\" fill-rule=\"evenodd\" fill-opacity=\"1\" stroke=\"#000000\" stroke-opacity=\"1\" stroke-width=\"1\"/>\n",
       "<circle clip-path=\"url(#clip822)\" cx=\"180.004\" cy=\"351.865\" r=\"3\" fill=\"#009af9\" fill-rule=\"evenodd\" fill-opacity=\"1\" stroke=\"#000000\" stroke-opacity=\"1\" stroke-width=\"1\"/>\n",
       "<circle clip-path=\"url(#clip822)\" cx=\"273.194\" cy=\"232.338\" r=\"3\" fill=\"#009af9\" fill-rule=\"evenodd\" fill-opacity=\"1\" stroke=\"#000000\" stroke-opacity=\"1\" stroke-width=\"1\"/>\n",
       "<circle clip-path=\"url(#clip822)\" cx=\"249.325\" cy=\"310.908\" r=\"3\" fill=\"#009af9\" fill-rule=\"evenodd\" fill-opacity=\"1\" stroke=\"#000000\" stroke-opacity=\"1\" stroke-width=\"1\"/>\n",
       "<circle clip-path=\"url(#clip822)\" cx=\"194.791\" cy=\"251.107\" r=\"3\" fill=\"#009af9\" fill-rule=\"evenodd\" fill-opacity=\"1\" stroke=\"#000000\" stroke-opacity=\"1\" stroke-width=\"1\"/>\n",
       "<circle clip-path=\"url(#clip822)\" cx=\"219.237\" cy=\"224.398\" r=\"3\" fill=\"#009af9\" fill-rule=\"evenodd\" fill-opacity=\"1\" stroke=\"#000000\" stroke-opacity=\"1\" stroke-width=\"1\"/>\n",
       "<circle clip-path=\"url(#clip822)\" cx=\"178.378\" cy=\"223.838\" r=\"3\" fill=\"#009af9\" fill-rule=\"evenodd\" fill-opacity=\"1\" stroke=\"#000000\" stroke-opacity=\"1\" stroke-width=\"1\"/>\n",
       "<circle clip-path=\"url(#clip822)\" cx=\"158.392\" cy=\"250.995\" r=\"3\" fill=\"#009af9\" fill-rule=\"evenodd\" fill-opacity=\"1\" stroke=\"#000000\" stroke-opacity=\"1\" stroke-width=\"1\"/>\n",
       "<circle clip-path=\"url(#clip822)\" cx=\"176.35\" cy=\"220.498\" r=\"3\" fill=\"#009af9\" fill-rule=\"evenodd\" fill-opacity=\"1\" stroke=\"#000000\" stroke-opacity=\"1\" stroke-width=\"1\"/>\n",
       "<circle clip-path=\"url(#clip822)\" cx=\"191.032\" cy=\"210.29\" r=\"3\" fill=\"#009af9\" fill-rule=\"evenodd\" fill-opacity=\"1\" stroke=\"#000000\" stroke-opacity=\"1\" stroke-width=\"1\"/>\n",
       "<circle clip-path=\"url(#clip822)\" cx=\"180.005\" cy=\"278.311\" r=\"3\" fill=\"#009af9\" fill-rule=\"evenodd\" fill-opacity=\"1\" stroke=\"#000000\" stroke-opacity=\"1\" stroke-width=\"1\"/>\n",
       "<circle clip-path=\"url(#clip822)\" cx=\"174.572\" cy=\"235.707\" r=\"3\" fill=\"#009af9\" fill-rule=\"evenodd\" fill-opacity=\"1\" stroke=\"#000000\" stroke-opacity=\"1\" stroke-width=\"1\"/>\n",
       "<circle clip-path=\"url(#clip822)\" cx=\"183.997\" cy=\"204.114\" r=\"3\" fill=\"#009af9\" fill-rule=\"evenodd\" fill-opacity=\"1\" stroke=\"#000000\" stroke-opacity=\"1\" stroke-width=\"1\"/>\n",
       "<circle clip-path=\"url(#clip822)\" cx=\"211.666\" cy=\"222.456\" r=\"3\" fill=\"#009af9\" fill-rule=\"evenodd\" fill-opacity=\"1\" stroke=\"#000000\" stroke-opacity=\"1\" stroke-width=\"1\"/>\n",
       "<circle clip-path=\"url(#clip822)\" cx=\"163.024\" cy=\"220.057\" r=\"3\" fill=\"#009af9\" fill-rule=\"evenodd\" fill-opacity=\"1\" stroke=\"#000000\" stroke-opacity=\"1\" stroke-width=\"1\"/>\n",
       "<circle clip-path=\"url(#clip822)\" cx=\"202.463\" cy=\"199.2\" r=\"3\" fill=\"#009af9\" fill-rule=\"evenodd\" fill-opacity=\"1\" stroke=\"#000000\" stroke-opacity=\"1\" stroke-width=\"1\"/>\n",
       "<circle clip-path=\"url(#clip822)\" cx=\"207.673\" cy=\"254.964\" r=\"3\" fill=\"#009af9\" fill-rule=\"evenodd\" fill-opacity=\"1\" stroke=\"#000000\" stroke-opacity=\"1\" stroke-width=\"1\"/>\n",
       "<circle clip-path=\"url(#clip822)\" cx=\"225.489\" cy=\"244.16\" r=\"3\" fill=\"#009af9\" fill-rule=\"evenodd\" fill-opacity=\"1\" stroke=\"#000000\" stroke-opacity=\"1\" stroke-width=\"1\"/>\n",
       "<circle clip-path=\"url(#clip822)\" cx=\"232.758\" cy=\"210.392\" r=\"3\" fill=\"#009af9\" fill-rule=\"evenodd\" fill-opacity=\"1\" stroke=\"#000000\" stroke-opacity=\"1\" stroke-width=\"1\"/>\n",
       "<circle clip-path=\"url(#clip822)\" cx=\"238.907\" cy=\"223.423\" r=\"3\" fill=\"#009af9\" fill-rule=\"evenodd\" fill-opacity=\"1\" stroke=\"#000000\" stroke-opacity=\"1\" stroke-width=\"1\"/>\n",
       "<circle clip-path=\"url(#clip822)\" cx=\"236.775\" cy=\"242.865\" r=\"3\" fill=\"#009af9\" fill-rule=\"evenodd\" fill-opacity=\"1\" stroke=\"#000000\" stroke-opacity=\"1\" stroke-width=\"1\"/>\n",
       "<circle clip-path=\"url(#clip822)\" cx=\"151.963\" cy=\"316.259\" r=\"3\" fill=\"#009af9\" fill-rule=\"evenodd\" fill-opacity=\"1\" stroke=\"#000000\" stroke-opacity=\"1\" stroke-width=\"1\"/>\n",
       "<circle clip-path=\"url(#clip822)\" cx=\"219.406\" cy=\"210.388\" r=\"3\" fill=\"#009af9\" fill-rule=\"evenodd\" fill-opacity=\"1\" stroke=\"#000000\" stroke-opacity=\"1\" stroke-width=\"1\"/>\n",
       "<circle clip-path=\"url(#clip822)\" cx=\"171.105\" cy=\"239.256\" r=\"3\" fill=\"#009af9\" fill-rule=\"evenodd\" fill-opacity=\"1\" stroke=\"#000000\" stroke-opacity=\"1\" stroke-width=\"1\"/>\n",
       "<circle clip-path=\"url(#clip822)\" cx=\"213.84\" cy=\"210.076\" r=\"3\" fill=\"#009af9\" fill-rule=\"evenodd\" fill-opacity=\"1\" stroke=\"#000000\" stroke-opacity=\"1\" stroke-width=\"1\"/>\n",
       "<circle clip-path=\"url(#clip822)\" cx=\"218.035\" cy=\"253.623\" r=\"3\" fill=\"#009af9\" fill-rule=\"evenodd\" fill-opacity=\"1\" stroke=\"#000000\" stroke-opacity=\"1\" stroke-width=\"1\"/>\n",
       "<circle clip-path=\"url(#clip822)\" cx=\"253.408\" cy=\"223.164\" r=\"3\" fill=\"#009af9\" fill-rule=\"evenodd\" fill-opacity=\"1\" stroke=\"#000000\" stroke-opacity=\"1\" stroke-width=\"1\"/>\n",
       "<circle clip-path=\"url(#clip822)\" cx=\"202.211\" cy=\"304.666\" r=\"3\" fill=\"#009af9\" fill-rule=\"evenodd\" fill-opacity=\"1\" stroke=\"#000000\" stroke-opacity=\"1\" stroke-width=\"1\"/>\n",
       "<circle clip-path=\"url(#clip822)\" cx=\"262.649\" cy=\"218.902\" r=\"3\" fill=\"#009af9\" fill-rule=\"evenodd\" fill-opacity=\"1\" stroke=\"#000000\" stroke-opacity=\"1\" stroke-width=\"1\"/>\n",
       "<circle clip-path=\"url(#clip822)\" cx=\"171.302\" cy=\"225.614\" r=\"3\" fill=\"#009af9\" fill-rule=\"evenodd\" fill-opacity=\"1\" stroke=\"#000000\" stroke-opacity=\"1\" stroke-width=\"1\"/>\n",
       "<circle clip-path=\"url(#clip822)\" cx=\"178.363\" cy=\"220.332\" r=\"3\" fill=\"#009af9\" fill-rule=\"evenodd\" fill-opacity=\"1\" stroke=\"#000000\" stroke-opacity=\"1\" stroke-width=\"1\"/>\n",
       "<circle clip-path=\"url(#clip822)\" cx=\"157.078\" cy=\"231.625\" r=\"3\" fill=\"#009af9\" fill-rule=\"evenodd\" fill-opacity=\"1\" stroke=\"#000000\" stroke-opacity=\"1\" stroke-width=\"1\"/>\n",
       "<circle clip-path=\"url(#clip822)\" cx=\"206.782\" cy=\"225.481\" r=\"3\" fill=\"#009af9\" fill-rule=\"evenodd\" fill-opacity=\"1\" stroke=\"#000000\" stroke-opacity=\"1\" stroke-width=\"1\"/>\n",
       "<circle clip-path=\"url(#clip822)\" cx=\"234.622\" cy=\"292.827\" r=\"3\" fill=\"#009af9\" fill-rule=\"evenodd\" fill-opacity=\"1\" stroke=\"#000000\" stroke-opacity=\"1\" stroke-width=\"1\"/>\n",
       "<circle clip-path=\"url(#clip822)\" cx=\"256.254\" cy=\"203.432\" r=\"3\" fill=\"#009af9\" fill-rule=\"evenodd\" fill-opacity=\"1\" stroke=\"#000000\" stroke-opacity=\"1\" stroke-width=\"1\"/>\n",
       "<circle clip-path=\"url(#clip822)\" cx=\"248.44\" cy=\"327.565\" r=\"3\" fill=\"#e26f46\" fill-rule=\"evenodd\" fill-opacity=\"1\" stroke=\"#000000\" stroke-opacity=\"1\" stroke-width=\"1\"/>\n",
       "<circle clip-path=\"url(#clip822)\" cx=\"316.739\" cy=\"366.613\" r=\"3\" fill=\"#e26f46\" fill-rule=\"evenodd\" fill-opacity=\"1\" stroke=\"#000000\" stroke-opacity=\"1\" stroke-width=\"1\"/>\n",
       "<circle clip-path=\"url(#clip822)\" cx=\"280.624\" cy=\"403.789\" r=\"3\" fill=\"#e26f46\" fill-rule=\"evenodd\" fill-opacity=\"1\" stroke=\"#000000\" stroke-opacity=\"1\" stroke-width=\"1\"/>\n",
       "<circle clip-path=\"url(#clip822)\" cx=\"344.993\" cy=\"368.535\" r=\"3\" fill=\"#e26f46\" fill-rule=\"evenodd\" fill-opacity=\"1\" stroke=\"#000000\" stroke-opacity=\"1\" stroke-width=\"1\"/>\n",
       "<circle clip-path=\"url(#clip822)\" cx=\"278.945\" cy=\"343.204\" r=\"3\" fill=\"#e26f46\" fill-rule=\"evenodd\" fill-opacity=\"1\" stroke=\"#000000\" stroke-opacity=\"1\" stroke-width=\"1\"/>\n",
       "<circle clip-path=\"url(#clip822)\" cx=\"343.429\" cy=\"305.75\" r=\"3\" fill=\"#e26f46\" fill-rule=\"evenodd\" fill-opacity=\"1\" stroke=\"#000000\" stroke-opacity=\"1\" stroke-width=\"1\"/>\n",
       "<circle clip-path=\"url(#clip822)\" cx=\"258.148\" cy=\"406.419\" r=\"3\" fill=\"#e26f46\" fill-rule=\"evenodd\" fill-opacity=\"1\" stroke=\"#000000\" stroke-opacity=\"1\" stroke-width=\"1\"/>\n",
       "<circle clip-path=\"url(#clip822)\" cx=\"304.393\" cy=\"330.199\" r=\"3\" fill=\"#e26f46\" fill-rule=\"evenodd\" fill-opacity=\"1\" stroke=\"#000000\" stroke-opacity=\"1\" stroke-width=\"1\"/>\n",
       "<circle clip-path=\"url(#clip822)\" cx=\"339.384\" cy=\"388.088\" r=\"3\" fill=\"#e26f46\" fill-rule=\"evenodd\" fill-opacity=\"1\" stroke=\"#000000\" stroke-opacity=\"1\" stroke-width=\"1\"/>\n",
       "<circle clip-path=\"url(#clip822)\" cx=\"266.727\" cy=\"361.355\" r=\"3\" fill=\"#e26f46\" fill-rule=\"evenodd\" fill-opacity=\"1\" stroke=\"#000000\" stroke-opacity=\"1\" stroke-width=\"1\"/>\n",
       "<circle clip-path=\"url(#clip822)\" cx=\"357.626\" cy=\"356.835\" r=\"3\" fill=\"#e26f46\" fill-rule=\"evenodd\" fill-opacity=\"1\" stroke=\"#000000\" stroke-opacity=\"1\" stroke-width=\"1\"/>\n",
       "<circle clip-path=\"url(#clip822)\" cx=\"330.251\" cy=\"343.727\" r=\"3\" fill=\"#e26f46\" fill-rule=\"evenodd\" fill-opacity=\"1\" stroke=\"#000000\" stroke-opacity=\"1\" stroke-width=\"1\"/>\n",
       "<circle clip-path=\"url(#clip822)\" cx=\"333.752\" cy=\"398.4\" r=\"3\" fill=\"#e26f46\" fill-rule=\"evenodd\" fill-opacity=\"1\" stroke=\"#000000\" stroke-opacity=\"1\" stroke-width=\"1\"/>\n",
       "<circle clip-path=\"url(#clip822)\" cx=\"283.836\" cy=\"329.678\" r=\"3\" fill=\"#e26f46\" fill-rule=\"evenodd\" fill-opacity=\"1\" stroke=\"#000000\" stroke-opacity=\"1\" stroke-width=\"1\"/>\n",
       "<circle clip-path=\"url(#clip822)\" cx=\"305.418\" cy=\"349.223\" r=\"3\" fill=\"#e26f46\" fill-rule=\"evenodd\" fill-opacity=\"1\" stroke=\"#000000\" stroke-opacity=\"1\" stroke-width=\"1\"/>\n",
       "<circle clip-path=\"url(#clip822)\" cx=\"281.689\" cy=\"314.323\" r=\"3\" fill=\"#e26f46\" fill-rule=\"evenodd\" fill-opacity=\"1\" stroke=\"#000000\" stroke-opacity=\"1\" stroke-width=\"1\"/>\n",
       "<circle clip-path=\"url(#clip822)\" cx=\"320.375\" cy=\"316.353\" r=\"3\" fill=\"#e26f46\" fill-rule=\"evenodd\" fill-opacity=\"1\" stroke=\"#000000\" stroke-opacity=\"1\" stroke-width=\"1\"/>\n",
       "<circle clip-path=\"url(#clip822)\" cx=\"292.35\" cy=\"367.889\" r=\"3\" fill=\"#e26f46\" fill-rule=\"evenodd\" fill-opacity=\"1\" stroke=\"#000000\" stroke-opacity=\"1\" stroke-width=\"1\"/>\n",
       "<circle clip-path=\"url(#clip822)\" cx=\"345.595\" cy=\"327.964\" r=\"3\" fill=\"#e26f46\" fill-rule=\"evenodd\" fill-opacity=\"1\" stroke=\"#000000\" stroke-opacity=\"1\" stroke-width=\"1\"/>\n",
       "<circle clip-path=\"url(#clip822)\" cx=\"254.719\" cy=\"331.086\" r=\"3\" fill=\"#e26f46\" fill-rule=\"evenodd\" fill-opacity=\"1\" stroke=\"#000000\" stroke-opacity=\"1\" stroke-width=\"1\"/>\n",
       "<circle clip-path=\"url(#clip822)\" cx=\"275.975\" cy=\"329.363\" r=\"3\" fill=\"#e26f46\" fill-rule=\"evenodd\" fill-opacity=\"1\" stroke=\"#000000\" stroke-opacity=\"1\" stroke-width=\"1\"/>\n",
       "<circle clip-path=\"url(#clip822)\" cx=\"364.69\" cy=\"416.788\" r=\"3\" fill=\"#e26f46\" fill-rule=\"evenodd\" fill-opacity=\"1\" stroke=\"#000000\" stroke-opacity=\"1\" stroke-width=\"1\"/>\n",
       "<circle clip-path=\"url(#clip822)\" cx=\"388.352\" cy=\"360.724\" r=\"3\" fill=\"#e26f46\" fill-rule=\"evenodd\" fill-opacity=\"1\" stroke=\"#000000\" stroke-opacity=\"1\" stroke-width=\"1\"/>\n",
       "<circle clip-path=\"url(#clip822)\" cx=\"294.806\" cy=\"389.012\" r=\"3\" fill=\"#e26f46\" fill-rule=\"evenodd\" fill-opacity=\"1\" stroke=\"#000000\" stroke-opacity=\"1\" stroke-width=\"1\"/>\n",
       "<circle clip-path=\"url(#clip822)\" cx=\"399.529\" cy=\"392.882\" r=\"3\" fill=\"#e26f46\" fill-rule=\"evenodd\" fill-opacity=\"1\" stroke=\"#000000\" stroke-opacity=\"1\" stroke-width=\"1\"/>\n",
       "<circle clip-path=\"url(#clip822)\" cx=\"345.575\" cy=\"306.79\" r=\"3\" fill=\"#e26f46\" fill-rule=\"evenodd\" fill-opacity=\"1\" stroke=\"#000000\" stroke-opacity=\"1\" stroke-width=\"1\"/>\n",
       "<circle clip-path=\"url(#clip822)\" cx=\"340.4\" cy=\"321.58\" r=\"3\" fill=\"#e26f46\" fill-rule=\"evenodd\" fill-opacity=\"1\" stroke=\"#000000\" stroke-opacity=\"1\" stroke-width=\"1\"/>\n",
       "<circle clip-path=\"url(#clip822)\" cx=\"258.44\" cy=\"357.698\" r=\"3\" fill=\"#e26f46\" fill-rule=\"evenodd\" fill-opacity=\"1\" stroke=\"#000000\" stroke-opacity=\"1\" stroke-width=\"1\"/>\n",
       "<circle clip-path=\"url(#clip822)\" cx=\"282.699\" cy=\"374.877\" r=\"3\" fill=\"#e26f46\" fill-rule=\"evenodd\" fill-opacity=\"1\" stroke=\"#000000\" stroke-opacity=\"1\" stroke-width=\"1\"/>\n",
       "<circle clip-path=\"url(#clip822)\" cx=\"311.422\" cy=\"311.479\" r=\"3\" fill=\"#e26f46\" fill-rule=\"evenodd\" fill-opacity=\"1\" stroke=\"#000000\" stroke-opacity=\"1\" stroke-width=\"1\"/>\n",
       "<circle clip-path=\"url(#clip822)\" cx=\"364.437\" cy=\"275.467\" r=\"3\" fill=\"#e26f46\" fill-rule=\"evenodd\" fill-opacity=\"1\" stroke=\"#000000\" stroke-opacity=\"1\" stroke-width=\"1\"/>\n",
       "<circle clip-path=\"url(#clip822)\" cx=\"323.322\" cy=\"328.768\" r=\"3\" fill=\"#e26f46\" fill-rule=\"evenodd\" fill-opacity=\"1\" stroke=\"#000000\" stroke-opacity=\"1\" stroke-width=\"1\"/>\n",
       "<circle clip-path=\"url(#clip822)\" cx=\"270.779\" cy=\"356.764\" r=\"3\" fill=\"#e26f46\" fill-rule=\"evenodd\" fill-opacity=\"1\" stroke=\"#000000\" stroke-opacity=\"1\" stroke-width=\"1\"/>\n",
       "<circle clip-path=\"url(#clip822)\" cx=\"362.237\" cy=\"443.855\" r=\"3\" fill=\"#e26f46\" fill-rule=\"evenodd\" fill-opacity=\"1\" stroke=\"#000000\" stroke-opacity=\"1\" stroke-width=\"1\"/>\n",
       "<circle clip-path=\"url(#clip822)\" cx=\"369.689\" cy=\"350.201\" r=\"3\" fill=\"#e26f46\" fill-rule=\"evenodd\" fill-opacity=\"1\" stroke=\"#000000\" stroke-opacity=\"1\" stroke-width=\"1\"/>\n",
       "<circle clip-path=\"url(#clip822)\" cx=\"260.711\" cy=\"306.675\" r=\"3\" fill=\"#e26f46\" fill-rule=\"evenodd\" fill-opacity=\"1\" stroke=\"#000000\" stroke-opacity=\"1\" stroke-width=\"1\"/>\n",
       "<circle clip-path=\"url(#clip822)\" cx=\"277.627\" cy=\"396.439\" r=\"3\" fill=\"#e26f46\" fill-rule=\"evenodd\" fill-opacity=\"1\" stroke=\"#000000\" stroke-opacity=\"1\" stroke-width=\"1\"/>\n",
       "<circle clip-path=\"url(#clip822)\" cx=\"322.23\" cy=\"362.68\" r=\"3\" fill=\"#e26f46\" fill-rule=\"evenodd\" fill-opacity=\"1\" stroke=\"#000000\" stroke-opacity=\"1\" stroke-width=\"1\"/>\n",
       "<circle clip-path=\"url(#clip822)\" cx=\"344.903\" cy=\"358.434\" r=\"3\" fill=\"#e26f46\" fill-rule=\"evenodd\" fill-opacity=\"1\" stroke=\"#000000\" stroke-opacity=\"1\" stroke-width=\"1\"/>\n",
       "<circle clip-path=\"url(#clip822)\" cx=\"361.334\" cy=\"319.194\" r=\"3\" fill=\"#e26f46\" fill-rule=\"evenodd\" fill-opacity=\"1\" stroke=\"#000000\" stroke-opacity=\"1\" stroke-width=\"1\"/>\n",
       "<circle clip-path=\"url(#clip822)\" cx=\"332.359\" cy=\"328.501\" r=\"3\" fill=\"#e26f46\" fill-rule=\"evenodd\" fill-opacity=\"1\" stroke=\"#000000\" stroke-opacity=\"1\" stroke-width=\"1\"/>\n",
       "<circle clip-path=\"url(#clip822)\" cx=\"357.622\" cy=\"338.269\" r=\"3\" fill=\"#e26f46\" fill-rule=\"evenodd\" fill-opacity=\"1\" stroke=\"#000000\" stroke-opacity=\"1\" stroke-width=\"1\"/>\n",
       "<circle clip-path=\"url(#clip822)\" cx=\"298.54\" cy=\"323.246\" r=\"3\" fill=\"#e26f46\" fill-rule=\"evenodd\" fill-opacity=\"1\" stroke=\"#000000\" stroke-opacity=\"1\" stroke-width=\"1\"/>\n",
       "<circle clip-path=\"url(#clip822)\" cx=\"290.388\" cy=\"388.646\" r=\"3\" fill=\"#e26f46\" fill-rule=\"evenodd\" fill-opacity=\"1\" stroke=\"#000000\" stroke-opacity=\"1\" stroke-width=\"1\"/>\n",
       "<circle clip-path=\"url(#clip822)\" cx=\"397.863\" cy=\"334.278\" r=\"3\" fill=\"#e26f46\" fill-rule=\"evenodd\" fill-opacity=\"1\" stroke=\"#000000\" stroke-opacity=\"1\" stroke-width=\"1\"/>\n",
       "<circle clip-path=\"url(#clip822)\" cx=\"382.56\" cy=\"381.74\" r=\"3\" fill=\"#e26f46\" fill-rule=\"evenodd\" fill-opacity=\"1\" stroke=\"#000000\" stroke-opacity=\"1\" stroke-width=\"1\"/>\n",
       "<circle clip-path=\"url(#clip822)\" cx=\"315.89\" cy=\"360.726\" r=\"3\" fill=\"#e26f46\" fill-rule=\"evenodd\" fill-opacity=\"1\" stroke=\"#000000\" stroke-opacity=\"1\" stroke-width=\"1\"/>\n",
       "<circle clip-path=\"url(#clip822)\" cx=\"321.183\" cy=\"366.671\" r=\"3\" fill=\"#e26f46\" fill-rule=\"evenodd\" fill-opacity=\"1\" stroke=\"#000000\" stroke-opacity=\"1\" stroke-width=\"1\"/>\n",
       "<circle clip-path=\"url(#clip822)\" cx=\"336.897\" cy=\"383.113\" r=\"3\" fill=\"#e26f46\" fill-rule=\"evenodd\" fill-opacity=\"1\" stroke=\"#000000\" stroke-opacity=\"1\" stroke-width=\"1\"/>\n",
       "<circle clip-path=\"url(#clip822)\" cx=\"274.048\" cy=\"347.875\" r=\"3\" fill=\"#e26f46\" fill-rule=\"evenodd\" fill-opacity=\"1\" stroke=\"#000000\" stroke-opacity=\"1\" stroke-width=\"1\"/>\n",
       "<circle clip-path=\"url(#clip822)\" cx=\"343.357\" cy=\"327.898\" r=\"3\" fill=\"#e26f46\" fill-rule=\"evenodd\" fill-opacity=\"1\" stroke=\"#000000\" stroke-opacity=\"1\" stroke-width=\"1\"/>\n",
       "<circle clip-path=\"url(#clip822)\" cx=\"284.967\" cy=\"332\" r=\"3\" fill=\"#e26f46\" fill-rule=\"evenodd\" fill-opacity=\"1\" stroke=\"#000000\" stroke-opacity=\"1\" stroke-width=\"1\"/>\n",
       "<circle clip-path=\"url(#clip822)\" cx=\"382.141\" cy=\"411.792\" r=\"3\" fill=\"#e26f46\" fill-rule=\"evenodd\" fill-opacity=\"1\" stroke=\"#000000\" stroke-opacity=\"1\" stroke-width=\"1\"/>\n",
       "<circle clip-path=\"url(#clip822)\" cx=\"354.335\" cy=\"338.29\" r=\"3\" fill=\"#e26f46\" fill-rule=\"evenodd\" fill-opacity=\"1\" stroke=\"#000000\" stroke-opacity=\"1\" stroke-width=\"1\"/>\n",
       "<circle clip-path=\"url(#clip822)\" cx=\"339.047\" cy=\"345.053\" r=\"3\" fill=\"#e26f46\" fill-rule=\"evenodd\" fill-opacity=\"1\" stroke=\"#000000\" stroke-opacity=\"1\" stroke-width=\"1\"/>\n",
       "<circle clip-path=\"url(#clip822)\" cx=\"288.786\" cy=\"323.412\" r=\"3\" fill=\"#e26f46\" fill-rule=\"evenodd\" fill-opacity=\"1\" stroke=\"#000000\" stroke-opacity=\"1\" stroke-width=\"1\"/>\n",
       "<circle clip-path=\"url(#clip822)\" cx=\"360.704\" cy=\"319.77\" r=\"3\" fill=\"#e26f46\" fill-rule=\"evenodd\" fill-opacity=\"1\" stroke=\"#000000\" stroke-opacity=\"1\" stroke-width=\"1\"/>\n",
       "<circle clip-path=\"url(#clip822)\" cx=\"286.614\" cy=\"367.514\" r=\"3\" fill=\"#e26f46\" fill-rule=\"evenodd\" fill-opacity=\"1\" stroke=\"#000000\" stroke-opacity=\"1\" stroke-width=\"1\"/>\n",
       "<circle clip-path=\"url(#clip822)\" cx=\"340.894\" cy=\"312.702\" r=\"3\" fill=\"#e26f46\" fill-rule=\"evenodd\" fill-opacity=\"1\" stroke=\"#000000\" stroke-opacity=\"1\" stroke-width=\"1\"/>\n",
       "<circle clip-path=\"url(#clip822)\" cx=\"335.822\" cy=\"380.711\" r=\"3\" fill=\"#e26f46\" fill-rule=\"evenodd\" fill-opacity=\"1\" stroke=\"#000000\" stroke-opacity=\"1\" stroke-width=\"1\"/>\n",
       "<circle clip-path=\"url(#clip822)\" cx=\"309.926\" cy=\"339.666\" r=\"3\" fill=\"#e26f46\" fill-rule=\"evenodd\" fill-opacity=\"1\" stroke=\"#000000\" stroke-opacity=\"1\" stroke-width=\"1\"/>\n",
       "<circle clip-path=\"url(#clip822)\" cx=\"342.552\" cy=\"379.313\" r=\"3\" fill=\"#e26f46\" fill-rule=\"evenodd\" fill-opacity=\"1\" stroke=\"#000000\" stroke-opacity=\"1\" stroke-width=\"1\"/>\n",
       "<circle clip-path=\"url(#clip822)\" cx=\"330.282\" cy=\"386.147\" r=\"3\" fill=\"#e26f46\" fill-rule=\"evenodd\" fill-opacity=\"1\" stroke=\"#000000\" stroke-opacity=\"1\" stroke-width=\"1\"/>\n",
       "<circle clip-path=\"url(#clip822)\" cx=\"303.251\" cy=\"373.678\" r=\"3\" fill=\"#e26f46\" fill-rule=\"evenodd\" fill-opacity=\"1\" stroke=\"#000000\" stroke-opacity=\"1\" stroke-width=\"1\"/>\n",
       "<circle clip-path=\"url(#clip822)\" cx=\"339.549\" cy=\"330.418\" r=\"3\" fill=\"#e26f46\" fill-rule=\"evenodd\" fill-opacity=\"1\" stroke=\"#000000\" stroke-opacity=\"1\" stroke-width=\"1\"/>\n",
       "<circle clip-path=\"url(#clip822)\" cx=\"311.459\" cy=\"429.216\" r=\"3\" fill=\"#e26f46\" fill-rule=\"evenodd\" fill-opacity=\"1\" stroke=\"#000000\" stroke-opacity=\"1\" stroke-width=\"1\"/>\n",
       "<circle clip-path=\"url(#clip822)\" cx=\"301.07\" cy=\"367.36\" r=\"3\" fill=\"#e26f46\" fill-rule=\"evenodd\" fill-opacity=\"1\" stroke=\"#000000\" stroke-opacity=\"1\" stroke-width=\"1\"/>\n",
       "<circle clip-path=\"url(#clip822)\" cx=\"335.222\" cy=\"352.455\" r=\"3\" fill=\"#e26f46\" fill-rule=\"evenodd\" fill-opacity=\"1\" stroke=\"#000000\" stroke-opacity=\"1\" stroke-width=\"1\"/>\n",
       "<circle clip-path=\"url(#clip822)\" cx=\"286.624\" cy=\"301.804\" r=\"3\" fill=\"#e26f46\" fill-rule=\"evenodd\" fill-opacity=\"1\" stroke=\"#000000\" stroke-opacity=\"1\" stroke-width=\"1\"/>\n",
       "<circle clip-path=\"url(#clip822)\" cx=\"315.51\" cy=\"382.71\" r=\"3\" fill=\"#e26f46\" fill-rule=\"evenodd\" fill-opacity=\"1\" stroke=\"#000000\" stroke-opacity=\"1\" stroke-width=\"1\"/>\n",
       "<circle clip-path=\"url(#clip822)\" cx=\"291.262\" cy=\"294.538\" r=\"3\" fill=\"#e26f46\" fill-rule=\"evenodd\" fill-opacity=\"1\" stroke=\"#000000\" stroke-opacity=\"1\" stroke-width=\"1\"/>\n",
       "<circle clip-path=\"url(#clip822)\" cx=\"279.343\" cy=\"314.493\" r=\"3\" fill=\"#e26f46\" fill-rule=\"evenodd\" fill-opacity=\"1\" stroke=\"#000000\" stroke-opacity=\"1\" stroke-width=\"1\"/>\n",
       "<circle clip-path=\"url(#clip822)\" cx=\"432.726\" cy=\"407.334\" r=\"3\" fill=\"#e26f46\" fill-rule=\"evenodd\" fill-opacity=\"1\" stroke=\"#000000\" stroke-opacity=\"1\" stroke-width=\"1\"/>\n",
       "<circle clip-path=\"url(#clip822)\" cx=\"299.251\" cy=\"330.044\" r=\"3\" fill=\"#e26f46\" fill-rule=\"evenodd\" fill-opacity=\"1\" stroke=\"#000000\" stroke-opacity=\"1\" stroke-width=\"1\"/>\n",
       "<circle clip-path=\"url(#clip822)\" cx=\"256.553\" cy=\"358.058\" r=\"3\" fill=\"#e26f46\" fill-rule=\"evenodd\" fill-opacity=\"1\" stroke=\"#000000\" stroke-opacity=\"1\" stroke-width=\"1\"/>\n",
       "<circle clip-path=\"url(#clip822)\" cx=\"370.598\" cy=\"319.828\" r=\"3\" fill=\"#e26f46\" fill-rule=\"evenodd\" fill-opacity=\"1\" stroke=\"#000000\" stroke-opacity=\"1\" stroke-width=\"1\"/>\n",
       "<circle clip-path=\"url(#clip822)\" cx=\"322.623\" cy=\"362.14\" r=\"3\" fill=\"#e26f46\" fill-rule=\"evenodd\" fill-opacity=\"1\" stroke=\"#000000\" stroke-opacity=\"1\" stroke-width=\"1\"/>\n",
       "<circle clip-path=\"url(#clip822)\" cx=\"348.005\" cy=\"391.534\" r=\"3\" fill=\"#e26f46\" fill-rule=\"evenodd\" fill-opacity=\"1\" stroke=\"#000000\" stroke-opacity=\"1\" stroke-width=\"1\"/>\n",
       "<circle clip-path=\"url(#clip822)\" cx=\"329.578\" cy=\"355.071\" r=\"3\" fill=\"#e26f46\" fill-rule=\"evenodd\" fill-opacity=\"1\" stroke=\"#000000\" stroke-opacity=\"1\" stroke-width=\"1\"/>\n",
       "<circle clip-path=\"url(#clip822)\" cx=\"313.931\" cy=\"353.248\" r=\"3\" fill=\"#e26f46\" fill-rule=\"evenodd\" fill-opacity=\"1\" stroke=\"#000000\" stroke-opacity=\"1\" stroke-width=\"1\"/>\n",
       "<circle clip-path=\"url(#clip822)\" cx=\"326.818\" cy=\"341.759\" r=\"3\" fill=\"#e26f46\" fill-rule=\"evenodd\" fill-opacity=\"1\" stroke=\"#000000\" stroke-opacity=\"1\" stroke-width=\"1\"/>\n",
       "<circle clip-path=\"url(#clip822)\" cx=\"342.461\" cy=\"326.717\" r=\"3\" fill=\"#e26f46\" fill-rule=\"evenodd\" fill-opacity=\"1\" stroke=\"#000000\" stroke-opacity=\"1\" stroke-width=\"1\"/>\n",
       "<circle clip-path=\"url(#clip822)\" cx=\"364.315\" cy=\"366.995\" r=\"3\" fill=\"#e26f46\" fill-rule=\"evenodd\" fill-opacity=\"1\" stroke=\"#000000\" stroke-opacity=\"1\" stroke-width=\"1\"/>\n",
       "<circle clip-path=\"url(#clip822)\" cx=\"286.333\" cy=\"386.187\" r=\"3\" fill=\"#e26f46\" fill-rule=\"evenodd\" fill-opacity=\"1\" stroke=\"#000000\" stroke-opacity=\"1\" stroke-width=\"1\"/>\n",
       "<circle clip-path=\"url(#clip822)\" cx=\"297.382\" cy=\"345.47\" r=\"3\" fill=\"#e26f46\" fill-rule=\"evenodd\" fill-opacity=\"1\" stroke=\"#000000\" stroke-opacity=\"1\" stroke-width=\"1\"/>\n",
       "<circle clip-path=\"url(#clip822)\" cx=\"272.668\" cy=\"335.179\" r=\"3\" fill=\"#e26f46\" fill-rule=\"evenodd\" fill-opacity=\"1\" stroke=\"#000000\" stroke-opacity=\"1\" stroke-width=\"1\"/>\n",
       "<circle clip-path=\"url(#clip822)\" cx=\"311.988\" cy=\"329.897\" r=\"3\" fill=\"#e26f46\" fill-rule=\"evenodd\" fill-opacity=\"1\" stroke=\"#000000\" stroke-opacity=\"1\" stroke-width=\"1\"/>\n",
       "<circle clip-path=\"url(#clip822)\" cx=\"321.751\" cy=\"332.594\" r=\"3\" fill=\"#e26f46\" fill-rule=\"evenodd\" fill-opacity=\"1\" stroke=\"#000000\" stroke-opacity=\"1\" stroke-width=\"1\"/>\n",
       "<circle clip-path=\"url(#clip822)\" cx=\"343.409\" cy=\"269.735\" r=\"3\" fill=\"#e26f46\" fill-rule=\"evenodd\" fill-opacity=\"1\" stroke=\"#000000\" stroke-opacity=\"1\" stroke-width=\"1\"/>\n",
       "<circle clip-path=\"url(#clip822)\" cx=\"321.124\" cy=\"336.52\" r=\"3\" fill=\"#e26f46\" fill-rule=\"evenodd\" fill-opacity=\"1\" stroke=\"#000000\" stroke-opacity=\"1\" stroke-width=\"1\"/>\n",
       "<circle clip-path=\"url(#clip822)\" cx=\"378.026\" cy=\"406.007\" r=\"3\" fill=\"#e26f46\" fill-rule=\"evenodd\" fill-opacity=\"1\" stroke=\"#000000\" stroke-opacity=\"1\" stroke-width=\"1\"/>\n",
       "<circle clip-path=\"url(#clip822)\" cx=\"383.34\" cy=\"373.714\" r=\"3\" fill=\"#e26f46\" fill-rule=\"evenodd\" fill-opacity=\"1\" stroke=\"#000000\" stroke-opacity=\"1\" stroke-width=\"1\"/>\n",
       "<circle clip-path=\"url(#clip822)\" cx=\"296.762\" cy=\"334.186\" r=\"3\" fill=\"#e26f46\" fill-rule=\"evenodd\" fill-opacity=\"1\" stroke=\"#000000\" stroke-opacity=\"1\" stroke-width=\"1\"/>\n",
       "<circle clip-path=\"url(#clip822)\" cx=\"326.195\" cy=\"316.455\" r=\"3\" fill=\"#e26f46\" fill-rule=\"evenodd\" fill-opacity=\"1\" stroke=\"#000000\" stroke-opacity=\"1\" stroke-width=\"1\"/>\n",
       "<circle clip-path=\"url(#clip822)\" cx=\"336.464\" cy=\"406.799\" r=\"3\" fill=\"#e26f46\" fill-rule=\"evenodd\" fill-opacity=\"1\" stroke=\"#000000\" stroke-opacity=\"1\" stroke-width=\"1\"/>\n",
       "<circle clip-path=\"url(#clip822)\" cx=\"310.229\" cy=\"353.952\" r=\"3\" fill=\"#e26f46\" fill-rule=\"evenodd\" fill-opacity=\"1\" stroke=\"#000000\" stroke-opacity=\"1\" stroke-width=\"1\"/>\n",
       "<circle clip-path=\"url(#clip822)\" cx=\"346.275\" cy=\"362.431\" r=\"3\" fill=\"#e26f46\" fill-rule=\"evenodd\" fill-opacity=\"1\" stroke=\"#000000\" stroke-opacity=\"1\" stroke-width=\"1\"/>\n",
       "<circle clip-path=\"url(#clip822)\" cx=\"293.261\" cy=\"339.5\" r=\"3\" fill=\"#e26f46\" fill-rule=\"evenodd\" fill-opacity=\"1\" stroke=\"#000000\" stroke-opacity=\"1\" stroke-width=\"1\"/>\n",
       "<circle clip-path=\"url(#clip822)\" cx=\"290.032\" cy=\"383.099\" r=\"3\" fill=\"#e26f46\" fill-rule=\"evenodd\" fill-opacity=\"1\" stroke=\"#000000\" stroke-opacity=\"1\" stroke-width=\"1\"/>\n",
       "<circle clip-path=\"url(#clip822)\" cx=\"285.569\" cy=\"366.623\" r=\"3\" fill=\"#e26f46\" fill-rule=\"evenodd\" fill-opacity=\"1\" stroke=\"#000000\" stroke-opacity=\"1\" stroke-width=\"1\"/>\n",
       "<circle clip-path=\"url(#clip822)\" cx=\"320.932\" cy=\"346.945\" r=\"3\" fill=\"#e26f46\" fill-rule=\"evenodd\" fill-opacity=\"1\" stroke=\"#000000\" stroke-opacity=\"1\" stroke-width=\"1\"/>\n",
       "<circle clip-path=\"url(#clip822)\" cx=\"268.882\" cy=\"184.631\" r=\"3\" fill=\"#3da44d\" fill-rule=\"evenodd\" fill-opacity=\"1\" stroke=\"#000000\" stroke-opacity=\"1\" stroke-width=\"1\"/>\n",
       "<circle clip-path=\"url(#clip822)\" cx=\"319.308\" cy=\"175.865\" r=\"3\" fill=\"#3da44d\" fill-rule=\"evenodd\" fill-opacity=\"1\" stroke=\"#000000\" stroke-opacity=\"1\" stroke-width=\"1\"/>\n",
       "<circle clip-path=\"url(#clip822)\" cx=\"342.156\" cy=\"116.068\" r=\"3\" fill=\"#3da44d\" fill-rule=\"evenodd\" fill-opacity=\"1\" stroke=\"#000000\" stroke-opacity=\"1\" stroke-width=\"1\"/>\n",
       "<circle clip-path=\"url(#clip822)\" cx=\"278.88\" cy=\"128.661\" r=\"3\" fill=\"#3da44d\" fill-rule=\"evenodd\" fill-opacity=\"1\" stroke=\"#000000\" stroke-opacity=\"1\" stroke-width=\"1\"/>\n",
       "<circle clip-path=\"url(#clip822)\" cx=\"341.503\" cy=\"87.8695\" r=\"3\" fill=\"#3da44d\" fill-rule=\"evenodd\" fill-opacity=\"1\" stroke=\"#000000\" stroke-opacity=\"1\" stroke-width=\"1\"/>\n",
       "<circle clip-path=\"url(#clip822)\" cx=\"298.537\" cy=\"143.906\" r=\"3\" fill=\"#3da44d\" fill-rule=\"evenodd\" fill-opacity=\"1\" stroke=\"#000000\" stroke-opacity=\"1\" stroke-width=\"1\"/>\n",
       "<circle clip-path=\"url(#clip822)\" cx=\"314.149\" cy=\"53.6776\" r=\"3\" fill=\"#3da44d\" fill-rule=\"evenodd\" fill-opacity=\"1\" stroke=\"#000000\" stroke-opacity=\"1\" stroke-width=\"1\"/>\n",
       "<circle clip-path=\"url(#clip822)\" cx=\"309.593\" cy=\"52.822\" r=\"3\" fill=\"#3da44d\" fill-rule=\"evenodd\" fill-opacity=\"1\" stroke=\"#000000\" stroke-opacity=\"1\" stroke-width=\"1\"/>\n",
       "<circle clip-path=\"url(#clip822)\" cx=\"320.962\" cy=\"103.888\" r=\"3\" fill=\"#3da44d\" fill-rule=\"evenodd\" fill-opacity=\"1\" stroke=\"#000000\" stroke-opacity=\"1\" stroke-width=\"1\"/>\n",
       "<circle clip-path=\"url(#clip822)\" cx=\"297.497\" cy=\"143.429\" r=\"3\" fill=\"#3da44d\" fill-rule=\"evenodd\" fill-opacity=\"1\" stroke=\"#000000\" stroke-opacity=\"1\" stroke-width=\"1\"/>\n",
       "<circle clip-path=\"url(#clip822)\" cx=\"269.678\" cy=\"124.066\" r=\"3\" fill=\"#3da44d\" fill-rule=\"evenodd\" fill-opacity=\"1\" stroke=\"#000000\" stroke-opacity=\"1\" stroke-width=\"1\"/>\n",
       "<circle clip-path=\"url(#clip822)\" cx=\"314.905\" cy=\"92.5124\" r=\"3\" fill=\"#3da44d\" fill-rule=\"evenodd\" fill-opacity=\"1\" stroke=\"#000000\" stroke-opacity=\"1\" stroke-width=\"1\"/>\n",
       "<circle clip-path=\"url(#clip822)\" cx=\"320.691\" cy=\"118.413\" r=\"3\" fill=\"#3da44d\" fill-rule=\"evenodd\" fill-opacity=\"1\" stroke=\"#000000\" stroke-opacity=\"1\" stroke-width=\"1\"/>\n",
       "<circle clip-path=\"url(#clip822)\" cx=\"275.94\" cy=\"145.835\" r=\"3\" fill=\"#3da44d\" fill-rule=\"evenodd\" fill-opacity=\"1\" stroke=\"#000000\" stroke-opacity=\"1\" stroke-width=\"1\"/>\n",
       "<circle clip-path=\"url(#clip822)\" cx=\"310.714\" cy=\"103.137\" r=\"3\" fill=\"#3da44d\" fill-rule=\"evenodd\" fill-opacity=\"1\" stroke=\"#000000\" stroke-opacity=\"1\" stroke-width=\"1\"/>\n",
       "<circle clip-path=\"url(#clip822)\" cx=\"299.068\" cy=\"155.819\" r=\"3\" fill=\"#3da44d\" fill-rule=\"evenodd\" fill-opacity=\"1\" stroke=\"#000000\" stroke-opacity=\"1\" stroke-width=\"1\"/>\n",
       "<circle clip-path=\"url(#clip822)\" cx=\"246.203\" cy=\"134.8\" r=\"3\" fill=\"#3da44d\" fill-rule=\"evenodd\" fill-opacity=\"1\" stroke=\"#000000\" stroke-opacity=\"1\" stroke-width=\"1\"/>\n",
       "<circle clip-path=\"url(#clip822)\" cx=\"312.536\" cy=\"105.408\" r=\"3\" fill=\"#3da44d\" fill-rule=\"evenodd\" fill-opacity=\"1\" stroke=\"#000000\" stroke-opacity=\"1\" stroke-width=\"1\"/>\n",
       "<circle clip-path=\"url(#clip822)\" cx=\"282.446\" cy=\"133.962\" r=\"3\" fill=\"#3da44d\" fill-rule=\"evenodd\" fill-opacity=\"1\" stroke=\"#000000\" stroke-opacity=\"1\" stroke-width=\"1\"/>\n",
       "<circle clip-path=\"url(#clip822)\" cx=\"278.26\" cy=\"118.44\" r=\"3\" fill=\"#3da44d\" fill-rule=\"evenodd\" fill-opacity=\"1\" stroke=\"#000000\" stroke-opacity=\"1\" stroke-width=\"1\"/>\n",
       "<circle clip-path=\"url(#clip822)\" cx=\"326.579\" cy=\"169.247\" r=\"3\" fill=\"#3da44d\" fill-rule=\"evenodd\" fill-opacity=\"1\" stroke=\"#000000\" stroke-opacity=\"1\" stroke-width=\"1\"/>\n",
       "<circle clip-path=\"url(#clip822)\" cx=\"314.457\" cy=\"87.3408\" r=\"3\" fill=\"#3da44d\" fill-rule=\"evenodd\" fill-opacity=\"1\" stroke=\"#000000\" stroke-opacity=\"1\" stroke-width=\"1\"/>\n",
       "<circle clip-path=\"url(#clip822)\" cx=\"310.151\" cy=\"115.398\" r=\"3\" fill=\"#3da44d\" fill-rule=\"evenodd\" fill-opacity=\"1\" stroke=\"#000000\" stroke-opacity=\"1\" stroke-width=\"1\"/>\n",
       "<circle clip-path=\"url(#clip822)\" cx=\"309.244\" cy=\"141.463\" r=\"3\" fill=\"#3da44d\" fill-rule=\"evenodd\" fill-opacity=\"1\" stroke=\"#000000\" stroke-opacity=\"1\" stroke-width=\"1\"/>\n",
       "<circle clip-path=\"url(#clip822)\" cx=\"283.219\" cy=\"174.167\" r=\"3\" fill=\"#3da44d\" fill-rule=\"evenodd\" fill-opacity=\"1\" stroke=\"#000000\" stroke-opacity=\"1\" stroke-width=\"1\"/>\n",
       "<circle clip-path=\"url(#clip822)\" cx=\"336.99\" cy=\"123.052\" r=\"3\" fill=\"#3da44d\" fill-rule=\"evenodd\" fill-opacity=\"1\" stroke=\"#000000\" stroke-opacity=\"1\" stroke-width=\"1\"/>\n",
       "<circle clip-path=\"url(#clip822)\" cx=\"268.528\" cy=\"125.251\" r=\"3\" fill=\"#3da44d\" fill-rule=\"evenodd\" fill-opacity=\"1\" stroke=\"#000000\" stroke-opacity=\"1\" stroke-width=\"1\"/>\n",
       "<circle clip-path=\"url(#clip822)\" cx=\"314.346\" cy=\"115.246\" r=\"3\" fill=\"#3da44d\" fill-rule=\"evenodd\" fill-opacity=\"1\" stroke=\"#000000\" stroke-opacity=\"1\" stroke-width=\"1\"/>\n",
       "<circle clip-path=\"url(#clip822)\" cx=\"305.563\" cy=\"88.9306\" r=\"3\" fill=\"#3da44d\" fill-rule=\"evenodd\" fill-opacity=\"1\" stroke=\"#000000\" stroke-opacity=\"1\" stroke-width=\"1\"/>\n",
       "<circle clip-path=\"url(#clip822)\" cx=\"287.357\" cy=\"127.315\" r=\"3\" fill=\"#3da44d\" fill-rule=\"evenodd\" fill-opacity=\"1\" stroke=\"#000000\" stroke-opacity=\"1\" stroke-width=\"1\"/>\n",
       "<circle clip-path=\"url(#clip822)\" cx=\"312.314\" cy=\"160.613\" r=\"3\" fill=\"#3da44d\" fill-rule=\"evenodd\" fill-opacity=\"1\" stroke=\"#000000\" stroke-opacity=\"1\" stroke-width=\"1\"/>\n",
       "<circle clip-path=\"url(#clip822)\" cx=\"370.753\" cy=\"120.769\" r=\"3\" fill=\"#3da44d\" fill-rule=\"evenodd\" fill-opacity=\"1\" stroke=\"#000000\" stroke-opacity=\"1\" stroke-width=\"1\"/>\n",
       "<circle clip-path=\"url(#clip822)\" cx=\"321.935\" cy=\"93.3755\" r=\"3\" fill=\"#3da44d\" fill-rule=\"evenodd\" fill-opacity=\"1\" stroke=\"#000000\" stroke-opacity=\"1\" stroke-width=\"1\"/>\n",
       "<circle clip-path=\"url(#clip822)\" cx=\"342.078\" cy=\"78.6799\" r=\"3\" fill=\"#3da44d\" fill-rule=\"evenodd\" fill-opacity=\"1\" stroke=\"#000000\" stroke-opacity=\"1\" stroke-width=\"1\"/>\n",
       "<circle clip-path=\"url(#clip822)\" cx=\"361.223\" cy=\"157.428\" r=\"3\" fill=\"#3da44d\" fill-rule=\"evenodd\" fill-opacity=\"1\" stroke=\"#000000\" stroke-opacity=\"1\" stroke-width=\"1\"/>\n",
       "<circle clip-path=\"url(#clip822)\" cx=\"359.235\" cy=\"186.35\" r=\"3\" fill=\"#3da44d\" fill-rule=\"evenodd\" fill-opacity=\"1\" stroke=\"#000000\" stroke-opacity=\"1\" stroke-width=\"1\"/>\n",
       "<circle clip-path=\"url(#clip822)\" cx=\"358.451\" cy=\"122.91\" r=\"3\" fill=\"#3da44d\" fill-rule=\"evenodd\" fill-opacity=\"1\" stroke=\"#000000\" stroke-opacity=\"1\" stroke-width=\"1\"/>\n",
       "<circle clip-path=\"url(#clip822)\" cx=\"299.62\" cy=\"144.589\" r=\"3\" fill=\"#3da44d\" fill-rule=\"evenodd\" fill-opacity=\"1\" stroke=\"#000000\" stroke-opacity=\"1\" stroke-width=\"1\"/>\n",
       "<circle clip-path=\"url(#clip822)\" cx=\"349.482\" cy=\"51.9313\" r=\"3\" fill=\"#3da44d\" fill-rule=\"evenodd\" fill-opacity=\"1\" stroke=\"#000000\" stroke-opacity=\"1\" stroke-width=\"1\"/>\n",
       "<circle clip-path=\"url(#clip822)\" cx=\"312.556\" cy=\"100.817\" r=\"3\" fill=\"#3da44d\" fill-rule=\"evenodd\" fill-opacity=\"1\" stroke=\"#000000\" stroke-opacity=\"1\" stroke-width=\"1\"/>\n",
       "<circle clip-path=\"url(#clip822)\" cx=\"274.364\" cy=\"106.389\" r=\"3\" fill=\"#3da44d\" fill-rule=\"evenodd\" fill-opacity=\"1\" stroke=\"#000000\" stroke-opacity=\"1\" stroke-width=\"1\"/>\n",
       "<circle clip-path=\"url(#clip822)\" cx=\"356.323\" cy=\"141.251\" r=\"3\" fill=\"#3da44d\" fill-rule=\"evenodd\" fill-opacity=\"1\" stroke=\"#000000\" stroke-opacity=\"1\" stroke-width=\"1\"/>\n",
       "<circle clip-path=\"url(#clip822)\" cx=\"249.098\" cy=\"107.802\" r=\"3\" fill=\"#3da44d\" fill-rule=\"evenodd\" fill-opacity=\"1\" stroke=\"#000000\" stroke-opacity=\"1\" stroke-width=\"1\"/>\n",
       "<circle clip-path=\"url(#clip822)\" cx=\"358.417\" cy=\"180.582\" r=\"3\" fill=\"#3da44d\" fill-rule=\"evenodd\" fill-opacity=\"1\" stroke=\"#000000\" stroke-opacity=\"1\" stroke-width=\"1\"/>\n",
       "<circle clip-path=\"url(#clip822)\" cx=\"320.051\" cy=\"56.6346\" r=\"3\" fill=\"#3da44d\" fill-rule=\"evenodd\" fill-opacity=\"1\" stroke=\"#000000\" stroke-opacity=\"1\" stroke-width=\"1\"/>\n",
       "<circle clip-path=\"url(#clip822)\" cx=\"379.222\" cy=\"101.331\" r=\"3\" fill=\"#3da44d\" fill-rule=\"evenodd\" fill-opacity=\"1\" stroke=\"#000000\" stroke-opacity=\"1\" stroke-width=\"1\"/>\n",
       "<circle clip-path=\"url(#clip822)\" cx=\"308.084\" cy=\"79.2631\" r=\"3\" fill=\"#3da44d\" fill-rule=\"evenodd\" fill-opacity=\"1\" stroke=\"#000000\" stroke-opacity=\"1\" stroke-width=\"1\"/>\n",
       "<circle clip-path=\"url(#clip822)\" cx=\"342.018\" cy=\"144.535\" r=\"3\" fill=\"#3da44d\" fill-rule=\"evenodd\" fill-opacity=\"1\" stroke=\"#000000\" stroke-opacity=\"1\" stroke-width=\"1\"/>\n",
       "<circle clip-path=\"url(#clip822)\" cx=\"305.484\" cy=\"121.739\" r=\"3\" fill=\"#3da44d\" fill-rule=\"evenodd\" fill-opacity=\"1\" stroke=\"#000000\" stroke-opacity=\"1\" stroke-width=\"1\"/>\n",
       "<circle clip-path=\"url(#clip822)\" cx=\"381.265\" cy=\"129.337\" r=\"3\" fill=\"#3da44d\" fill-rule=\"evenodd\" fill-opacity=\"1\" stroke=\"#000000\" stroke-opacity=\"1\" stroke-width=\"1\"/>\n",
       "<circle clip-path=\"url(#clip822)\" cx=\"290.163\" cy=\"83.1886\" r=\"3\" fill=\"#3da44d\" fill-rule=\"evenodd\" fill-opacity=\"1\" stroke=\"#000000\" stroke-opacity=\"1\" stroke-width=\"1\"/>\n",
       "<circle clip-path=\"url(#clip822)\" cx=\"393.665\" cy=\"147.23\" r=\"3\" fill=\"#3da44d\" fill-rule=\"evenodd\" fill-opacity=\"1\" stroke=\"#000000\" stroke-opacity=\"1\" stroke-width=\"1\"/>\n",
       "<circle clip-path=\"url(#clip822)\" cx=\"322.575\" cy=\"155.843\" r=\"3\" fill=\"#3da44d\" fill-rule=\"evenodd\" fill-opacity=\"1\" stroke=\"#000000\" stroke-opacity=\"1\" stroke-width=\"1\"/>\n",
       "<circle clip-path=\"url(#clip822)\" cx=\"286.623\" cy=\"94.9805\" r=\"3\" fill=\"#3da44d\" fill-rule=\"evenodd\" fill-opacity=\"1\" stroke=\"#000000\" stroke-opacity=\"1\" stroke-width=\"1\"/>\n",
       "<circle clip-path=\"url(#clip822)\" cx=\"312.153\" cy=\"145.888\" r=\"3\" fill=\"#3da44d\" fill-rule=\"evenodd\" fill-opacity=\"1\" stroke=\"#000000\" stroke-opacity=\"1\" stroke-width=\"1\"/>\n",
       "<circle clip-path=\"url(#clip822)\" cx=\"327.102\" cy=\"119.597\" r=\"3\" fill=\"#3da44d\" fill-rule=\"evenodd\" fill-opacity=\"1\" stroke=\"#000000\" stroke-opacity=\"1\" stroke-width=\"1\"/>\n",
       "<circle clip-path=\"url(#clip822)\" cx=\"263.249\" cy=\"118.363\" r=\"3\" fill=\"#3da44d\" fill-rule=\"evenodd\" fill-opacity=\"1\" stroke=\"#000000\" stroke-opacity=\"1\" stroke-width=\"1\"/>\n",
       "<circle clip-path=\"url(#clip822)\" cx=\"327.115\" cy=\"98.3694\" r=\"3\" fill=\"#3da44d\" fill-rule=\"evenodd\" fill-opacity=\"1\" stroke=\"#000000\" stroke-opacity=\"1\" stroke-width=\"1\"/>\n",
       "<circle clip-path=\"url(#clip822)\" cx=\"354.477\" cy=\"118.436\" r=\"3\" fill=\"#3da44d\" fill-rule=\"evenodd\" fill-opacity=\"1\" stroke=\"#000000\" stroke-opacity=\"1\" stroke-width=\"1\"/>\n",
       "<circle clip-path=\"url(#clip822)\" cx=\"278.588\" cy=\"103.576\" r=\"3\" fill=\"#3da44d\" fill-rule=\"evenodd\" fill-opacity=\"1\" stroke=\"#000000\" stroke-opacity=\"1\" stroke-width=\"1\"/>\n",
       "<circle clip-path=\"url(#clip822)\" cx=\"358.72\" cy=\"128.252\" r=\"3\" fill=\"#3da44d\" fill-rule=\"evenodd\" fill-opacity=\"1\" stroke=\"#000000\" stroke-opacity=\"1\" stroke-width=\"1\"/>\n",
       "<circle clip-path=\"url(#clip822)\" cx=\"298.605\" cy=\"132.791\" r=\"3\" fill=\"#3da44d\" fill-rule=\"evenodd\" fill-opacity=\"1\" stroke=\"#000000\" stroke-opacity=\"1\" stroke-width=\"1\"/>\n",
       "<circle clip-path=\"url(#clip822)\" cx=\"320.578\" cy=\"146.342\" r=\"3\" fill=\"#3da44d\" fill-rule=\"evenodd\" fill-opacity=\"1\" stroke=\"#000000\" stroke-opacity=\"1\" stroke-width=\"1\"/>\n",
       "<circle clip-path=\"url(#clip822)\" cx=\"313.205\" cy=\"76.9294\" r=\"3\" fill=\"#3da44d\" fill-rule=\"evenodd\" fill-opacity=\"1\" stroke=\"#000000\" stroke-opacity=\"1\" stroke-width=\"1\"/>\n",
       "<circle clip-path=\"url(#clip822)\" cx=\"353.734\" cy=\"157.44\" r=\"3\" fill=\"#3da44d\" fill-rule=\"evenodd\" fill-opacity=\"1\" stroke=\"#000000\" stroke-opacity=\"1\" stroke-width=\"1\"/>\n",
       "<circle clip-path=\"url(#clip822)\" cx=\"343.983\" cy=\"154.297\" r=\"3\" fill=\"#3da44d\" fill-rule=\"evenodd\" fill-opacity=\"1\" stroke=\"#000000\" stroke-opacity=\"1\" stroke-width=\"1\"/>\n",
       "<circle clip-path=\"url(#clip822)\" cx=\"348.814\" cy=\"113.74\" r=\"3\" fill=\"#3da44d\" fill-rule=\"evenodd\" fill-opacity=\"1\" stroke=\"#000000\" stroke-opacity=\"1\" stroke-width=\"1\"/>\n",
       "<circle clip-path=\"url(#clip822)\" cx=\"360.639\" cy=\"159.028\" r=\"3\" fill=\"#3da44d\" fill-rule=\"evenodd\" fill-opacity=\"1\" stroke=\"#000000\" stroke-opacity=\"1\" stroke-width=\"1\"/>\n",
       "<circle clip-path=\"url(#clip822)\" cx=\"392.533\" cy=\"104.655\" r=\"3\" fill=\"#3da44d\" fill-rule=\"evenodd\" fill-opacity=\"1\" stroke=\"#000000\" stroke-opacity=\"1\" stroke-width=\"1\"/>\n",
       "<circle clip-path=\"url(#clip822)\" cx=\"318.516\" cy=\"181.531\" r=\"3\" fill=\"#3da44d\" fill-rule=\"evenodd\" fill-opacity=\"1\" stroke=\"#000000\" stroke-opacity=\"1\" stroke-width=\"1\"/>\n",
       "<circle clip-path=\"url(#clip822)\" cx=\"292.765\" cy=\"115.171\" r=\"3\" fill=\"#3da44d\" fill-rule=\"evenodd\" fill-opacity=\"1\" stroke=\"#000000\" stroke-opacity=\"1\" stroke-width=\"1\"/>\n",
       "<circle clip-path=\"url(#clip822)\" cx=\"315.973\" cy=\"142.841\" r=\"3\" fill=\"#3da44d\" fill-rule=\"evenodd\" fill-opacity=\"1\" stroke=\"#000000\" stroke-opacity=\"1\" stroke-width=\"1\"/>\n",
       "<circle clip-path=\"url(#clip822)\" cx=\"334.42\" cy=\"167.733\" r=\"3\" fill=\"#3da44d\" fill-rule=\"evenodd\" fill-opacity=\"1\" stroke=\"#000000\" stroke-opacity=\"1\" stroke-width=\"1\"/>\n",
       "<circle clip-path=\"url(#clip822)\" cx=\"278.311\" cy=\"150.656\" r=\"3\" fill=\"#3da44d\" fill-rule=\"evenodd\" fill-opacity=\"1\" stroke=\"#000000\" stroke-opacity=\"1\" stroke-width=\"1\"/>\n",
       "<circle clip-path=\"url(#clip822)\" cx=\"292.88\" cy=\"111.91\" r=\"3\" fill=\"#3da44d\" fill-rule=\"evenodd\" fill-opacity=\"1\" stroke=\"#000000\" stroke-opacity=\"1\" stroke-width=\"1\"/>\n",
       "<circle clip-path=\"url(#clip822)\" cx=\"269.774\" cy=\"90.7277\" r=\"3\" fill=\"#3da44d\" fill-rule=\"evenodd\" fill-opacity=\"1\" stroke=\"#000000\" stroke-opacity=\"1\" stroke-width=\"1\"/>\n",
       "<circle clip-path=\"url(#clip822)\" cx=\"324.972\" cy=\"176.239\" r=\"3\" fill=\"#3da44d\" fill-rule=\"evenodd\" fill-opacity=\"1\" stroke=\"#000000\" stroke-opacity=\"1\" stroke-width=\"1\"/>\n",
       "<circle clip-path=\"url(#clip822)\" cx=\"337.516\" cy=\"136.41\" r=\"3\" fill=\"#3da44d\" fill-rule=\"evenodd\" fill-opacity=\"1\" stroke=\"#000000\" stroke-opacity=\"1\" stroke-width=\"1\"/>\n",
       "<circle clip-path=\"url(#clip822)\" cx=\"330.923\" cy=\"155.974\" r=\"3\" fill=\"#3da44d\" fill-rule=\"evenodd\" fill-opacity=\"1\" stroke=\"#000000\" stroke-opacity=\"1\" stroke-width=\"1\"/>\n",
       "<circle clip-path=\"url(#clip822)\" cx=\"361.551\" cy=\"126.95\" r=\"3\" fill=\"#3da44d\" fill-rule=\"evenodd\" fill-opacity=\"1\" stroke=\"#000000\" stroke-opacity=\"1\" stroke-width=\"1\"/>\n",
       "<circle clip-path=\"url(#clip822)\" cx=\"298.396\" cy=\"88.4023\" r=\"3\" fill=\"#3da44d\" fill-rule=\"evenodd\" fill-opacity=\"1\" stroke=\"#000000\" stroke-opacity=\"1\" stroke-width=\"1\"/>\n",
       "<circle clip-path=\"url(#clip822)\" cx=\"342.57\" cy=\"168.608\" r=\"3\" fill=\"#3da44d\" fill-rule=\"evenodd\" fill-opacity=\"1\" stroke=\"#000000\" stroke-opacity=\"1\" stroke-width=\"1\"/>\n",
       "<circle clip-path=\"url(#clip822)\" cx=\"260.209\" cy=\"141.482\" r=\"3\" fill=\"#3da44d\" fill-rule=\"evenodd\" fill-opacity=\"1\" stroke=\"#000000\" stroke-opacity=\"1\" stroke-width=\"1\"/>\n",
       "<circle clip-path=\"url(#clip822)\" cx=\"332.874\" cy=\"151.344\" r=\"3\" fill=\"#3da44d\" fill-rule=\"evenodd\" fill-opacity=\"1\" stroke=\"#000000\" stroke-opacity=\"1\" stroke-width=\"1\"/>\n",
       "<circle clip-path=\"url(#clip822)\" cx=\"364.604\" cy=\"146.52\" r=\"3\" fill=\"#3da44d\" fill-rule=\"evenodd\" fill-opacity=\"1\" stroke=\"#000000\" stroke-opacity=\"1\" stroke-width=\"1\"/>\n",
       "<circle clip-path=\"url(#clip822)\" cx=\"279.776\" cy=\"158.279\" r=\"3\" fill=\"#3da44d\" fill-rule=\"evenodd\" fill-opacity=\"1\" stroke=\"#000000\" stroke-opacity=\"1\" stroke-width=\"1\"/>\n",
       "<circle clip-path=\"url(#clip822)\" cx=\"281.739\" cy=\"134.209\" r=\"3\" fill=\"#3da44d\" fill-rule=\"evenodd\" fill-opacity=\"1\" stroke=\"#000000\" stroke-opacity=\"1\" stroke-width=\"1\"/>\n",
       "<circle clip-path=\"url(#clip822)\" cx=\"302.544\" cy=\"202.153\" r=\"3\" fill=\"#3da44d\" fill-rule=\"evenodd\" fill-opacity=\"1\" stroke=\"#000000\" stroke-opacity=\"1\" stroke-width=\"1\"/>\n",
       "<circle clip-path=\"url(#clip822)\" cx=\"297.516\" cy=\"136.782\" r=\"3\" fill=\"#3da44d\" fill-rule=\"evenodd\" fill-opacity=\"1\" stroke=\"#000000\" stroke-opacity=\"1\" stroke-width=\"1\"/>\n",
       "<circle clip-path=\"url(#clip822)\" cx=\"356.091\" cy=\"76.2531\" r=\"3\" fill=\"#3da44d\" fill-rule=\"evenodd\" fill-opacity=\"1\" stroke=\"#000000\" stroke-opacity=\"1\" stroke-width=\"1\"/>\n",
       "<circle clip-path=\"url(#clip822)\" cx=\"320.78\" cy=\"238.93\" r=\"3\" fill=\"#3da44d\" fill-rule=\"evenodd\" fill-opacity=\"1\" stroke=\"#000000\" stroke-opacity=\"1\" stroke-width=\"1\"/>\n",
       "<circle clip-path=\"url(#clip822)\" cx=\"276.709\" cy=\"72.7435\" r=\"3\" fill=\"#3da44d\" fill-rule=\"evenodd\" fill-opacity=\"1\" stroke=\"#000000\" stroke-opacity=\"1\" stroke-width=\"1\"/>\n",
       "<circle clip-path=\"url(#clip822)\" cx=\"358.044\" cy=\"149.173\" r=\"3\" fill=\"#3da44d\" fill-rule=\"evenodd\" fill-opacity=\"1\" stroke=\"#000000\" stroke-opacity=\"1\" stroke-width=\"1\"/>\n",
       "<circle clip-path=\"url(#clip822)\" cx=\"297.031\" cy=\"153.145\" r=\"3\" fill=\"#3da44d\" fill-rule=\"evenodd\" fill-opacity=\"1\" stroke=\"#000000\" stroke-opacity=\"1\" stroke-width=\"1\"/>\n",
       "<circle clip-path=\"url(#clip822)\" cx=\"284.745\" cy=\"159.189\" r=\"3\" fill=\"#3da44d\" fill-rule=\"evenodd\" fill-opacity=\"1\" stroke=\"#000000\" stroke-opacity=\"1\" stroke-width=\"1\"/>\n",
       "<circle clip-path=\"url(#clip822)\" cx=\"355.005\" cy=\"168.328\" r=\"3\" fill=\"#3da44d\" fill-rule=\"evenodd\" fill-opacity=\"1\" stroke=\"#000000\" stroke-opacity=\"1\" stroke-width=\"1\"/>\n",
       "<circle clip-path=\"url(#clip822)\" cx=\"314.731\" cy=\"206.6\" r=\"3\" fill=\"#3da44d\" fill-rule=\"evenodd\" fill-opacity=\"1\" stroke=\"#000000\" stroke-opacity=\"1\" stroke-width=\"1\"/>\n",
       "<circle clip-path=\"url(#clip822)\" cx=\"331.108\" cy=\"137.18\" r=\"3\" fill=\"#3da44d\" fill-rule=\"evenodd\" fill-opacity=\"1\" stroke=\"#000000\" stroke-opacity=\"1\" stroke-width=\"1\"/>\n",
       "<circle clip-path=\"url(#clip822)\" cx=\"302.73\" cy=\"115.118\" r=\"3\" fill=\"#3da44d\" fill-rule=\"evenodd\" fill-opacity=\"1\" stroke=\"#000000\" stroke-opacity=\"1\" stroke-width=\"1\"/>\n",
       "<circle clip-path=\"url(#clip822)\" cx=\"295.243\" cy=\"184.546\" r=\"3\" fill=\"#3da44d\" fill-rule=\"evenodd\" fill-opacity=\"1\" stroke=\"#000000\" stroke-opacity=\"1\" stroke-width=\"1\"/>\n",
       "<circle clip-path=\"url(#clip822)\" cx=\"301.778\" cy=\"125.737\" r=\"3\" fill=\"#3da44d\" fill-rule=\"evenodd\" fill-opacity=\"1\" stroke=\"#000000\" stroke-opacity=\"1\" stroke-width=\"1\"/>\n",
       "</svg>\n"
      ]
     },
     "execution_count": 71,
     "metadata": {},
     "output_type": "execute_result"
    }
   ],
   "source": [
    "k = 3   # Number of groups \n",
    "N = length(X)  # Total number of points to be clustered\n",
    "grps  = [[X[i] for i=1:N if assignment[i] == j] for j=1:k]\n",
    "scatter([c[1] for c in grps[1]], [c[2] for c in grps[1]])\n",
    "scatter!([c[1] for c in grps[2]], [c[2] for c in grps[2]])\n",
    "scatter!([c[1] for c in grps[3]], [c[2] for c in grps[3]])\n",
    "plot!(legend = false, grid = false, size = (500,500),\n",
    "       xlims = (-1.5,2.5), ylims = (-2,2))"
   ]
  },
  {
   "cell_type": "markdown",
   "metadata": {},
   "source": [
    "### Chapter 5 Linear dependence"
   ]
  },
  {
   "cell_type": "markdown",
   "metadata": {},
   "source": [
    "### Chapter 5.2 Basis"
   ]
  },
  {
   "cell_type": "code",
   "execution_count": 1,
   "metadata": {},
   "outputs": [
    {
     "data": {
      "text/plain": [
       "3-element Vector{Float64}:\n",
       "  1.0\n",
       "  2.0\n",
       " -3.0"
      ]
     },
     "execution_count": 1,
     "metadata": {},
     "output_type": "execute_result"
    }
   ],
   "source": [
    "r = 0.05\n",
    "e1 = [1,0,0]; l1 = [1,-(1+r),0]; l2 = [0,1,-(1+r)]\n",
    "c = [1,2,-3]\n",
    "alpha3 = -c[3]/(1+r);\n",
    "alpha2 = -c[2]/(1+r) -c[3]/(1+r)^2\n",
    "alpha1 = c[1] + c[2]/(1+r) + c[3]/(1+r)^2\n",
    "alpha1*e1 + alpha2*l1 + alpha3*l2"
   ]
  },
  {
   "cell_type": "markdown",
   "metadata": {},
   "source": [
    "### Chapter 5.3 Orthonormal vectors"
   ]
  },
  {
   "cell_type": "code",
   "execution_count": 11,
   "metadata": {},
   "outputs": [
    {
     "name": "stdout",
     "output_type": "stream",
     "text": [
      "1.0\n",
      "0.9999999999999999\n",
      "0.9999999999999999\n",
      "0.0 0.0 0.0\n"
     ]
    }
   ],
   "source": [
    "using LinearAlgebra\n",
    "a1 = [0,0,-1]; a2 = [1,1,0]/sqrt(2); a3 = [1,-1,0]/sqrt(2);\n",
    "println(norm(a1), \"\\n\", norm(a2), \"\\n\", norm(a3))\n",
    "println(a1'*a2, \" \", a1'*a3, \" \", a2'*a3)"
   ]
  },
  {
   "cell_type": "code",
   "execution_count": 4,
   "metadata": {},
   "outputs": [
    {
     "data": {
      "text/plain": [
       "3-element Vector{Int64}:\n",
       " 1\n",
       " 2\n",
       " 3"
      ]
     },
     "execution_count": 4,
     "metadata": {},
     "output_type": "execute_result"
    }
   ],
   "source": [
    "x = [1,2,3]"
   ]
  },
  {
   "cell_type": "code",
   "execution_count": 6,
   "metadata": {},
   "outputs": [
    {
     "data": {
      "text/plain": [
       "-3"
      ]
     },
     "execution_count": 6,
     "metadata": {},
     "output_type": "execute_result"
    }
   ],
   "source": [
    "# Get coefficients of x in orthonormal basis\n",
    "beta1 = a1'*x; \n",
    "beta2 = a2'*x; \n",
    "beta3 = a3'*x;"
   ]
  },
  {
   "cell_type": "code",
   "execution_count": 7,
   "metadata": {},
   "outputs": [
    {
     "data": {
      "text/plain": [
       "3-element Vector{Float64}:\n",
       " 0.9999999999999999\n",
       " 1.9999999999999996\n",
       " 3.0"
      ]
     },
     "execution_count": 7,
     "metadata": {},
     "output_type": "execute_result"
    }
   ],
   "source": [
    "xexp = beta1*a1 + beta2*a2 + beta3*a3"
   ]
  },
  {
   "cell_type": "markdown",
   "metadata": {},
   "source": [
    "### Chapter 5.4 Gram Schmidt Algorithm"
   ]
  },
  {
   "cell_type": "code",
   "execution_count": 41,
   "metadata": {},
   "outputs": [
    {
     "data": {
      "text/plain": [
       "gram_schmidt (generic function with 1 method)"
      ]
     },
     "execution_count": 41,
     "metadata": {},
     "output_type": "execute_result"
    }
   ],
   "source": [
    "function gram_schmidt(a; tol = 1e-10)\n",
    "q=[]\n",
    "for i = 1:length(a)\n",
    "    qtilde = a[i]\n",
    "    for j = 1:i-1\n",
    "        qtilde -= (q[j]'*a[i]) * q[j]\n",
    "    end\n",
    "    if norm(qtilde) < tol\n",
    "       println(\"Vectors are lin0early dependent.\")\n",
    "       return q\n",
    "end\n",
    "    push!(q, qtilde/ norm(qtilde))\n",
    "end;\n",
    "return q end"
   ]
  },
  {
   "cell_type": "code",
   "execution_count": 42,
   "metadata": {},
   "outputs": [
    {
     "data": {
      "text/plain": [
       "3-element Vector{Any}:\n",
       " [-0.5, 0.5, -0.5, 0.5]\n",
       " [0.5, 0.5, 0.5, 0.5]\n",
       " [-0.5, -0.5, 0.5, 0.5]"
      ]
     },
     "execution_count": 42,
     "metadata": {},
     "output_type": "execute_result"
    }
   ],
   "source": [
    "a = [ [-1, 1, -1, 1], [-1, 3, -1, 3], [1, 3, 5, 7] ]\n",
    "q = gram_schmidt(a)"
   ]
  },
  {
   "cell_type": "code",
   "execution_count": 44,
   "metadata": {},
   "outputs": [
    {
     "name": "stdout",
     "output_type": "stream",
     "text": [
      "Vectors are linearly dependent.\n"
     ]
    },
    {
     "data": {
      "text/plain": [
       "2-element Vector{Any}:\n",
       " [-0.5, 0.5, -0.5, 0.5]\n",
       " [0.5, 0.5, 0.5, 0.5]"
      ]
     },
     "execution_count": 44,
     "metadata": {},
     "output_type": "execute_result"
    }
   ],
   "source": [
    "b = [ a[1], a[2], 1.3*a[1] + 0.5*a[2] ]\n",
    "q = gram_schmidt(b)"
   ]
  }
 ],
 "metadata": {
  "kernelspec": {
   "display_name": "Julia 1.6.3",
   "language": "julia",
   "name": "julia-1.6"
  },
  "language_info": {
   "file_extension": ".jl",
   "mimetype": "application/julia",
   "name": "julia",
   "version": "1.6.3"
  }
 },
 "nbformat": 4,
 "nbformat_minor": 4
}
