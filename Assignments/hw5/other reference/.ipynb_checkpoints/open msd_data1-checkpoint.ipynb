{
 "cells": [
  {
   "cell_type": "code",
   "execution_count": 20,
   "id": "332115b2",
   "metadata": {},
   "outputs": [
    {
     "name": "stdout",
     "output_type": "stream",
     "text": [
      "{'X_train': array([[  53.39967,   56.67781,   55.63508, ...,    1.3159 ,    2.37448,\n",
      "           1.85999],\n",
      "       [  42.83464,  -33.90478,   38.97704, ...,    9.72827, -175.51446,\n",
      "         -15.8389 ],\n",
      "       [  49.88591,   23.30563,   54.79012, ...,    1.94152,  101.27241,\n",
      "           8.99355],\n",
      "       ...,\n",
      "       [  41.04397,  -96.30727,   56.8073 , ...,    3.60251,  -97.24809,\n",
      "          -5.80797],\n",
      "       [  42.8676 ,   43.36365,   29.17957, ...,   18.71014,  208.9029 ,\n",
      "         -11.08426],\n",
      "       [  36.57558,   29.8733 ,   -3.08101, ...,   21.0417 ,  106.60317,\n",
      "           3.44396]]), 'Y_train': array([1996., 2001., 2003., ..., 2009., 1982., 1981.]), 'X_test': array([[  38.51784,   55.38723,   10.31652, ...,    6.66624,  -73.75585,\n",
      "           9.47857],\n",
      "       [  44.7309 ,   46.25776,    8.55636, ...,    4.5564 ,   53.49956,\n",
      "           5.39116],\n",
      "       [  43.08912,   45.70197,   17.18467, ...,  -13.64909,   -7.42137,\n",
      "          -4.97266],\n",
      "       ...,\n",
      "       [  39.81814,   62.12221,    6.60567, ...,   28.27807,  -60.00203,\n",
      "         -11.19226],\n",
      "       [  50.25968,   43.10325,   24.72866, ...,    2.71602,  -44.27226,\n",
      "          -2.54583],\n",
      "       [  41.39744,   -8.88692,  -20.15887, ...,    8.63798, -120.34024,\n",
      "           3.65709]]), 'Y_test': array([1998., 1988., 2005., ..., 1990., 2005., 1989.])}\n",
      "90\n"
     ]
    }
   ],
   "source": [
    "import pickle\n",
    "# 注意：使用 pickle 的時候，檔名不可以命名成 pickle.py \n",
    "\n",
    "# 拿資料\n",
    "with open('msd_data1.pickle','rb') as file1:\n",
    "#    print(file1)\n",
    "    a = pickle.load(file1) # 逐行拿資料，包括可以拿到 data type\n",
    "    print(a)\n",
    "    \n",
    "print(len(a['X_train'][0]))\n"
   ]
  },
  {
   "cell_type": "code",
   "execution_count": 15,
   "id": "c78887be",
   "metadata": {},
   "outputs": [],
   "source": [
    "class Cars:\n",
    "    # 建構式\n",
    "    def __init__(self, color, seat):\n",
    "        self.color = color  # 顏色屬性\n",
    "        self.seat = seat  # 座位屬性\n",
    "    # 方法(Method)\n",
    "    def drive(self, haha):\n",
    "        print(f\"My car is {self.color} and {self.seat} seats.\", haha)"
   ]
  },
  {
   "cell_type": "code",
   "execution_count": 16,
   "id": "f5ac67be",
   "metadata": {},
   "outputs": [],
   "source": [
    "Mazda = Cars(\"blue\", 2)"
   ]
  },
  {
   "cell_type": "code",
   "execution_count": 17,
   "id": "c751d84f",
   "metadata": {},
   "outputs": [
    {
     "data": {
      "text/plain": [
       "'blue'"
      ]
     },
     "execution_count": 17,
     "metadata": {},
     "output_type": "execute_result"
    }
   ],
   "source": [
    "Mazda.color"
   ]
  },
  {
   "cell_type": "code",
   "execution_count": 18,
   "id": "54ca9a6f",
   "metadata": {},
   "outputs": [
    {
     "name": "stdout",
     "output_type": "stream",
     "text": [
      "My car is blue and 2 seats. haha\n"
     ]
    }
   ],
   "source": [
    "Mazda.drive(\"haha\")"
   ]
  },
  {
   "cell_type": "code",
   "execution_count": null,
   "id": "3fb28eb5",
   "metadata": {},
   "outputs": [],
   "source": []
  }
 ],
 "metadata": {
  "kernelspec": {
   "display_name": "Python 3",
   "language": "python",
   "name": "python3"
  },
  "language_info": {
   "codemirror_mode": {
    "name": "ipython",
    "version": 3
   },
   "file_extension": ".py",
   "mimetype": "text/x-python",
   "name": "python",
   "nbconvert_exporter": "python",
   "pygments_lexer": "ipython3",
   "version": "3.8.8"
  }
 },
 "nbformat": 4,
 "nbformat_minor": 5
}
