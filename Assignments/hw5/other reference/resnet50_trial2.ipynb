{
  "nbformat": 4,
  "nbformat_minor": 0,
  "metadata": {
    "colab": {
      "name": "resnet50_trial2.ipynb",
      "provenance": []
    },
    "kernelspec": {
      "name": "python3",
      "display_name": "Python 3"
    },
    "language_info": {
      "name": "python"
    },
    "widgets": {
      "application/vnd.jupyter.widget-state+json": {
        "59290fbd08654be8b6cf646a88531b2f": {
          "model_module": "@jupyter-widgets/controls",
          "model_name": "HBoxModel",
          "model_module_version": "1.5.0",
          "state": {
            "_view_name": "HBoxView",
            "_dom_classes": [],
            "_model_name": "HBoxModel",
            "_view_module": "@jupyter-widgets/controls",
            "_model_module_version": "1.5.0",
            "_view_count": null,
            "_view_module_version": "1.5.0",
            "box_style": "",
            "layout": "IPY_MODEL_96506814adee4c7bb8b5ba22ee281e1f",
            "_model_module": "@jupyter-widgets/controls",
            "children": [
              "IPY_MODEL_0eb31a0233414fb38627946cddcc7bea",
              "IPY_MODEL_da648495cbdd4c20b67ffe2fc37323c0",
              "IPY_MODEL_83708e9237814065bd1332c42389d3a7"
            ]
          }
        },
        "96506814adee4c7bb8b5ba22ee281e1f": {
          "model_module": "@jupyter-widgets/base",
          "model_name": "LayoutModel",
          "model_module_version": "1.2.0",
          "state": {
            "_view_name": "LayoutView",
            "grid_template_rows": null,
            "right": null,
            "justify_content": null,
            "_view_module": "@jupyter-widgets/base",
            "overflow": null,
            "_model_module_version": "1.2.0",
            "_view_count": null,
            "flex_flow": null,
            "width": null,
            "min_width": null,
            "border": null,
            "align_items": null,
            "bottom": null,
            "_model_module": "@jupyter-widgets/base",
            "top": null,
            "grid_column": null,
            "overflow_y": null,
            "overflow_x": null,
            "grid_auto_flow": null,
            "grid_area": null,
            "grid_template_columns": null,
            "flex": null,
            "_model_name": "LayoutModel",
            "justify_items": null,
            "grid_row": null,
            "max_height": null,
            "align_content": null,
            "visibility": null,
            "align_self": null,
            "height": null,
            "min_height": null,
            "padding": null,
            "grid_auto_rows": null,
            "grid_gap": null,
            "max_width": null,
            "order": null,
            "_view_module_version": "1.2.0",
            "grid_template_areas": null,
            "object_position": null,
            "object_fit": null,
            "grid_auto_columns": null,
            "margin": null,
            "display": null,
            "left": null
          }
        },
        "0eb31a0233414fb38627946cddcc7bea": {
          "model_module": "@jupyter-widgets/controls",
          "model_name": "HTMLModel",
          "model_module_version": "1.5.0",
          "state": {
            "_view_name": "HTMLView",
            "style": "IPY_MODEL_fc7d13c2c2af4289b4ae96c4f5a317fb",
            "_dom_classes": [],
            "description": "",
            "_model_name": "HTMLModel",
            "placeholder": "​",
            "_view_module": "@jupyter-widgets/controls",
            "_model_module_version": "1.5.0",
            "value": "100%",
            "_view_count": null,
            "_view_module_version": "1.5.0",
            "description_tooltip": null,
            "_model_module": "@jupyter-widgets/controls",
            "layout": "IPY_MODEL_8b46ca29c4a64a6d9199e247975c837a"
          }
        },
        "da648495cbdd4c20b67ffe2fc37323c0": {
          "model_module": "@jupyter-widgets/controls",
          "model_name": "FloatProgressModel",
          "model_module_version": "1.5.0",
          "state": {
            "_view_name": "ProgressView",
            "style": "IPY_MODEL_5cf1b488d82547279a99068c9b4821a7",
            "_dom_classes": [],
            "description": "",
            "_model_name": "FloatProgressModel",
            "bar_style": "success",
            "max": 46830571,
            "_view_module": "@jupyter-widgets/controls",
            "_model_module_version": "1.5.0",
            "value": 46830571,
            "_view_count": null,
            "_view_module_version": "1.5.0",
            "orientation": "horizontal",
            "min": 0,
            "description_tooltip": null,
            "_model_module": "@jupyter-widgets/controls",
            "layout": "IPY_MODEL_a130c6ffca854928937a592d2bffd7b9"
          }
        },
        "83708e9237814065bd1332c42389d3a7": {
          "model_module": "@jupyter-widgets/controls",
          "model_name": "HTMLModel",
          "model_module_version": "1.5.0",
          "state": {
            "_view_name": "HTMLView",
            "style": "IPY_MODEL_32251a7055c44792bf26a0ee8174868d",
            "_dom_classes": [],
            "description": "",
            "_model_name": "HTMLModel",
            "placeholder": "​",
            "_view_module": "@jupyter-widgets/controls",
            "_model_module_version": "1.5.0",
            "value": " 44.7M/44.7M [00:00&lt;00:00, 73.9MB/s]",
            "_view_count": null,
            "_view_module_version": "1.5.0",
            "description_tooltip": null,
            "_model_module": "@jupyter-widgets/controls",
            "layout": "IPY_MODEL_9d9a7550ccc04a279a4e7029a59708e2"
          }
        },
        "fc7d13c2c2af4289b4ae96c4f5a317fb": {
          "model_module": "@jupyter-widgets/controls",
          "model_name": "DescriptionStyleModel",
          "model_module_version": "1.5.0",
          "state": {
            "_view_name": "StyleView",
            "_model_name": "DescriptionStyleModel",
            "description_width": "",
            "_view_module": "@jupyter-widgets/base",
            "_model_module_version": "1.5.0",
            "_view_count": null,
            "_view_module_version": "1.2.0",
            "_model_module": "@jupyter-widgets/controls"
          }
        },
        "8b46ca29c4a64a6d9199e247975c837a": {
          "model_module": "@jupyter-widgets/base",
          "model_name": "LayoutModel",
          "model_module_version": "1.2.0",
          "state": {
            "_view_name": "LayoutView",
            "grid_template_rows": null,
            "right": null,
            "justify_content": null,
            "_view_module": "@jupyter-widgets/base",
            "overflow": null,
            "_model_module_version": "1.2.0",
            "_view_count": null,
            "flex_flow": null,
            "width": null,
            "min_width": null,
            "border": null,
            "align_items": null,
            "bottom": null,
            "_model_module": "@jupyter-widgets/base",
            "top": null,
            "grid_column": null,
            "overflow_y": null,
            "overflow_x": null,
            "grid_auto_flow": null,
            "grid_area": null,
            "grid_template_columns": null,
            "flex": null,
            "_model_name": "LayoutModel",
            "justify_items": null,
            "grid_row": null,
            "max_height": null,
            "align_content": null,
            "visibility": null,
            "align_self": null,
            "height": null,
            "min_height": null,
            "padding": null,
            "grid_auto_rows": null,
            "grid_gap": null,
            "max_width": null,
            "order": null,
            "_view_module_version": "1.2.0",
            "grid_template_areas": null,
            "object_position": null,
            "object_fit": null,
            "grid_auto_columns": null,
            "margin": null,
            "display": null,
            "left": null
          }
        },
        "5cf1b488d82547279a99068c9b4821a7": {
          "model_module": "@jupyter-widgets/controls",
          "model_name": "ProgressStyleModel",
          "model_module_version": "1.5.0",
          "state": {
            "_view_name": "StyleView",
            "_model_name": "ProgressStyleModel",
            "description_width": "",
            "_view_module": "@jupyter-widgets/base",
            "_model_module_version": "1.5.0",
            "_view_count": null,
            "_view_module_version": "1.2.0",
            "bar_color": null,
            "_model_module": "@jupyter-widgets/controls"
          }
        },
        "a130c6ffca854928937a592d2bffd7b9": {
          "model_module": "@jupyter-widgets/base",
          "model_name": "LayoutModel",
          "model_module_version": "1.2.0",
          "state": {
            "_view_name": "LayoutView",
            "grid_template_rows": null,
            "right": null,
            "justify_content": null,
            "_view_module": "@jupyter-widgets/base",
            "overflow": null,
            "_model_module_version": "1.2.0",
            "_view_count": null,
            "flex_flow": null,
            "width": null,
            "min_width": null,
            "border": null,
            "align_items": null,
            "bottom": null,
            "_model_module": "@jupyter-widgets/base",
            "top": null,
            "grid_column": null,
            "overflow_y": null,
            "overflow_x": null,
            "grid_auto_flow": null,
            "grid_area": null,
            "grid_template_columns": null,
            "flex": null,
            "_model_name": "LayoutModel",
            "justify_items": null,
            "grid_row": null,
            "max_height": null,
            "align_content": null,
            "visibility": null,
            "align_self": null,
            "height": null,
            "min_height": null,
            "padding": null,
            "grid_auto_rows": null,
            "grid_gap": null,
            "max_width": null,
            "order": null,
            "_view_module_version": "1.2.0",
            "grid_template_areas": null,
            "object_position": null,
            "object_fit": null,
            "grid_auto_columns": null,
            "margin": null,
            "display": null,
            "left": null
          }
        },
        "32251a7055c44792bf26a0ee8174868d": {
          "model_module": "@jupyter-widgets/controls",
          "model_name": "DescriptionStyleModel",
          "model_module_version": "1.5.0",
          "state": {
            "_view_name": "StyleView",
            "_model_name": "DescriptionStyleModel",
            "description_width": "",
            "_view_module": "@jupyter-widgets/base",
            "_model_module_version": "1.5.0",
            "_view_count": null,
            "_view_module_version": "1.2.0",
            "_model_module": "@jupyter-widgets/controls"
          }
        },
        "9d9a7550ccc04a279a4e7029a59708e2": {
          "model_module": "@jupyter-widgets/base",
          "model_name": "LayoutModel",
          "model_module_version": "1.2.0",
          "state": {
            "_view_name": "LayoutView",
            "grid_template_rows": null,
            "right": null,
            "justify_content": null,
            "_view_module": "@jupyter-widgets/base",
            "overflow": null,
            "_model_module_version": "1.2.0",
            "_view_count": null,
            "flex_flow": null,
            "width": null,
            "min_width": null,
            "border": null,
            "align_items": null,
            "bottom": null,
            "_model_module": "@jupyter-widgets/base",
            "top": null,
            "grid_column": null,
            "overflow_y": null,
            "overflow_x": null,
            "grid_auto_flow": null,
            "grid_area": null,
            "grid_template_columns": null,
            "flex": null,
            "_model_name": "LayoutModel",
            "justify_items": null,
            "grid_row": null,
            "max_height": null,
            "align_content": null,
            "visibility": null,
            "align_self": null,
            "height": null,
            "min_height": null,
            "padding": null,
            "grid_auto_rows": null,
            "grid_gap": null,
            "max_width": null,
            "order": null,
            "_view_module_version": "1.2.0",
            "grid_template_areas": null,
            "object_position": null,
            "object_fit": null,
            "grid_auto_columns": null,
            "margin": null,
            "display": null,
            "left": null
          }
        }
      }
    }
  },
  "cells": [
    {
      "cell_type": "code",
      "source": [
        ""
      ],
      "metadata": {
        "id": "dST-rRjY1ltj"
      },
      "execution_count": null,
      "outputs": []
    },
    {
      "cell_type": "code",
      "execution_count": 8,
      "metadata": {
        "id": "_fPdycZzVYDX"
      },
      "outputs": [],
      "source": [
        "from __future__ import print_function, division\n",
        "\n",
        "import torch\n",
        "import torch.nn as nn\n",
        "import torch.optim as optim\n",
        "from torch.optim import lr_scheduler\n",
        "import numpy as np\n",
        "import torchvision\n",
        "from torchvision import datasets, models, transforms\n",
        "import matplotlib.pyplot as plt\n",
        "import time\n",
        "import os\n",
        "import copy"
      ]
    },
    {
      "cell_type": "code",
      "source": [
        "# 資料轉換函數\n",
        "data_transforms = {\n",
        "    # 訓練資料集採用資料增強與標準化轉換\n",
        "    'train': transforms.Compose([\n",
        "        transforms.RandomResizedCrop(224), # 隨機剪裁並縮放\n",
        "        transforms.RandomHorizontalFlip(), # 隨機水平翻轉\n",
        "        transforms.ToTensor(),\n",
        "        transforms.Normalize([0.485, 0.456, 0.406], [0.229, 0.224, 0.225]) # 標準化\n",
        "    ]),\n",
        "    # 驗證資料集僅採用資料標準化轉換\n",
        "    'val': transforms.Compose([\n",
        "        transforms.Resize(256),  # 縮放\n",
        "        transforms.CenterCrop(224), # 中央剪裁\n",
        "        transforms.ToTensor(),\n",
        "        transforms.Normalize([0.485, 0.456, 0.406], [0.229, 0.224, 0.225]) # 標準化\n",
        "    ]),\n",
        "}"
      ],
      "metadata": {
        "id": "lKVlhjf-Vvq2"
      },
      "execution_count": 9,
      "outputs": []
    },
    {
      "cell_type": "code",
      "source": [
        "# 資料路徑\n",
        "data_dir = 'drive/MyDrive/hymenoptera_data/hymenoptera_data'\n",
        "\n",
        "# 建立 Dataset\n",
        "image_datasets = {x: datasets.ImageFolder(os.path.join(data_dir, x), data_transforms[x])\n",
        "                  for x in ['train', 'val']}\n",
        "\n",
        "# 建立 DataLoader\n",
        "dataloaders = {x: torch.utils.data.DataLoader(image_datasets[x], batch_size=4,\n",
        "               shuffle=True, num_workers=4)\n",
        "               for x in ['train', 'val']}"
      ],
      "metadata": {
        "colab": {
          "base_uri": "https://localhost:8080/"
        },
        "id": "RXCn_N8WWfAf",
        "outputId": "f064f9eb-4930-4a9e-a3c3-e884aa901177"
      },
      "execution_count": 11,
      "outputs": [
        {
          "output_type": "stream",
          "name": "stderr",
          "text": [
            "/usr/local/lib/python3.7/dist-packages/torch/utils/data/dataloader.py:481: UserWarning: This DataLoader will create 4 worker processes in total. Our suggested max number of worker in current system is 2, which is smaller than what this DataLoader is going to create. Please be aware that excessive worker creation might get DataLoader running slow or even freeze, lower the worker number to avoid potential slowness/freeze if necessary.\n",
            "  cpuset_checked))\n"
          ]
        }
      ]
    },
    {
      "cell_type": "code",
      "source": [
        "# 取得訓練資料集與驗證資料集的資料量\n",
        "dataset_sizes = {x: len(image_datasets[x]) for x in ['train', 'val']}\n",
        "print(dataset_sizes)"
      ],
      "metadata": {
        "colab": {
          "base_uri": "https://localhost:8080/"
        },
        "id": "1zrIKSWtWhdN",
        "outputId": "765683c1-640f-4248-ac68-c3b7aa531511"
      },
      "execution_count": 12,
      "outputs": [
        {
          "output_type": "stream",
          "name": "stdout",
          "text": [
            "{'train': 244, 'val': 153}\n"
          ]
        }
      ]
    },
    {
      "cell_type": "code",
      "source": [
        "# 取得各類別的名稱\n",
        "class_names = image_datasets['train'].classes\n",
        "print(class_names)"
      ],
      "metadata": {
        "colab": {
          "base_uri": "https://localhost:8080/"
        },
        "id": "cuKfpPYcWvMm",
        "outputId": "1a319915-2b7b-4ff9-f516-f9ce659876c2"
      },
      "execution_count": 13,
      "outputs": [
        {
          "output_type": "stream",
          "name": "stdout",
          "text": [
            "['ants', 'bees']\n"
          ]
        }
      ]
    },
    {
      "cell_type": "code",
      "source": [
        "# 若 CUDA 環境可用，則使用 GPU 計算，否則使用 CPU\n",
        "device = torch.device(\"cuda:0\" if torch.cuda.is_available() else \"cpu\")\n",
        "print(device)"
      ],
      "metadata": {
        "colab": {
          "base_uri": "https://localhost:8080/"
        },
        "id": "IgY--kih044S",
        "outputId": "75a5762d-debe-47ca-f68b-19f6352dcc97"
      },
      "execution_count": 14,
      "outputs": [
        {
          "output_type": "stream",
          "name": "stdout",
          "text": [
            "cpu\n"
          ]
        }
      ]
    },
    {
      "cell_type": "code",
      "source": [
        "# 將 Tensor 資料轉為原來的圖片\n",
        "def tensor2img(inp):\n",
        "    inp = inp.numpy().transpose((1, 2, 0))\n",
        "    mean = np.array([0.485, 0.456, 0.406])\n",
        "    std = np.array([0.229, 0.224, 0.225])\n",
        "    inp = std * inp + mean\n",
        "    inp = np.clip(inp, 0, 1)\n",
        "    return inp"
      ],
      "metadata": {
        "id": "RwPscach0403"
      },
      "execution_count": 15,
      "outputs": []
    },
    {
      "cell_type": "code",
      "source": [
        "# 取得一個 batch 的訓練資料\n",
        "inputs, classes = next(iter(dataloaders['train']))\n",
        "\n",
        "# 將多張圖片拼成一張 grid 圖\n",
        "out = torchvision.utils.make_grid(inputs)\n",
        "\n",
        "# 顯示圖片\n",
        "img = tensor2img(out)\n",
        "plt.imshow(img)\n",
        "plt.title([class_names[x] for x in classes])"
      ],
      "metadata": {
        "colab": {
          "base_uri": "https://localhost:8080/",
          "height": 220
        },
        "id": "OYCiMrYM04y9",
        "outputId": "8068a1c0-6b8e-454c-c59c-036660b63b3b"
      },
      "execution_count": 16,
      "outputs": [
        {
          "output_type": "stream",
          "name": "stderr",
          "text": [
            "/usr/local/lib/python3.7/dist-packages/torch/utils/data/dataloader.py:481: UserWarning: This DataLoader will create 4 worker processes in total. Our suggested max number of worker in current system is 2, which is smaller than what this DataLoader is going to create. Please be aware that excessive worker creation might get DataLoader running slow or even freeze, lower the worker number to avoid potential slowness/freeze if necessary.\n",
            "  cpuset_checked))\n"
          ]
        },
        {
          "output_type": "execute_result",
          "data": {
            "text/plain": [
              "Text(0.5, 1.0, \"['bees', 'bees', 'bees', 'ants']\")"
            ]
          },
          "metadata": {},
          "execution_count": 16
        },
        {
          "output_type": "display_data",
          "data": {
            "image/png": "[encoded data removed]",
            "text/plain": [
              "<Figure size 432x288 with 1 Axes>"
            ]
          },
          "metadata": {
            "needs_background": "light"
          }
        }
      ]
    },
    {
      "cell_type": "code",
      "source": [
        "# 訓練模型用函數\n",
        "def train_model(model, criterion, optimizer, scheduler, num_epochs=25):\n",
        "    since = time.time() # 記錄開始時間\n",
        "\n",
        "    # 記錄最佳模型\n",
        "    best_model_wts = copy.deepcopy(model.state_dict())\n",
        "    best_acc = 0.0\n",
        "\n",
        "    # 訓練模型主迴圈\n",
        "    for epoch in range(num_epochs):\n",
        "        print('Epoch {}/{}'.format(epoch, num_epochs - 1))\n",
        "        print('-' * 10)\n",
        "\n",
        "        # 對於每個 epoch，分別進行訓練模型與驗證模型\n",
        "        for phase in ['train', 'val']:\n",
        "            if phase == 'train':\n",
        "                model.train()  # 將模型設定為訓練模式\n",
        "            else:\n",
        "                model.eval()   # 將模型設定為驗證模式\n",
        "\n",
        "            running_loss = 0.0\n",
        "            running_corrects = 0\n",
        "\n",
        "            # 以 DataLoader 載入 batch 資料\n",
        "            for inputs, labels in dataloaders[phase]:\n",
        "                # 將資料放置於 GPU 或 CPU\n",
        "                inputs = inputs.to(device)\n",
        "                labels = labels.to(device)\n",
        "\n",
        "                # 重設參數梯度（gradient）\n",
        "                optimizer.zero_grad()\n",
        "\n",
        "                # 只在訓練模式計算參數梯度\n",
        "                with torch.set_grad_enabled(phase == 'train'):\n",
        "                    # 正向傳播（forward）\n",
        "                    outputs = model(inputs)\n",
        "                    _, preds = torch.max(outputs, 1)\n",
        "                    loss = criterion(outputs, labels)\n",
        "\n",
        "                    if phase == 'train':\n",
        "                        loss.backward()  # 反向傳播（backward）\n",
        "                        optimizer.step() # 更新參數\n",
        "\n",
        "                # 計算統計值\n",
        "                running_loss += loss.item() * inputs.size(0)\n",
        "                running_corrects += torch.sum(preds == labels.data)\n",
        "\n",
        "            if phase == 'train':\n",
        "                # 更新 scheduler\n",
        "                scheduler.step()\n",
        "\n",
        "            epoch_loss = running_loss / dataset_sizes[phase]\n",
        "            epoch_acc = running_corrects.double() / dataset_sizes[phase]\n",
        "\n",
        "            print('{} Loss: {:.4f} Acc: {:.4f}'.format(\n",
        "                phase, epoch_loss, epoch_acc))\n",
        "\n",
        "            # 記錄最佳模型\n",
        "            if phase == 'val' and epoch_acc > best_acc:\n",
        "                best_acc = epoch_acc\n",
        "                best_model_wts = copy.deepcopy(model.state_dict())\n",
        "\n",
        "        print()\n",
        "\n",
        "    # 計算耗費時間\n",
        "    time_elapsed = time.time() - since\n",
        "    print('Training complete in {:.0f}m {:.0f}s'.format(\n",
        "        time_elapsed // 60, time_elapsed % 60))\n",
        "\n",
        "    # 輸出最佳準確度\n",
        "    print('Best val Acc: {:4f}'.format(best_acc))\n",
        "\n",
        "    # 載入最佳模型參數\n",
        "    model.load_state_dict(best_model_wts)\n",
        "    return model"
      ],
      "metadata": {
        "id": "2OObE1Cs1B9I"
      },
      "execution_count": 17,
      "outputs": []
    },
    {
      "cell_type": "code",
      "source": [
        "# 載入 ResNet18 預訓練模型\n",
        "model_ft = models.resnet18(pretrained=True)\n",
        "\n",
        "# 取得 ResNet18 最後一層的輸入特徵數量\n",
        "num_ftrs = model_ft.fc.in_features\n",
        "\n",
        "# 將 ResNet18 的最後一層改為只有兩個輸出線性層\n",
        "# 更一般化的寫法為 nn.Linear(num_ftrs, len(class_names))\n",
        "model_ft.fc = nn.Linear(num_ftrs, 2)\n",
        "\n",
        "# 將模型放置於 GPU 或 CPU\n",
        "model_ft = model_ft.to(device)"
      ],
      "metadata": {
        "colab": {
          "base_uri": "https://localhost:8080/",
          "height": 66,
          "referenced_widgets": [
            "59290fbd08654be8b6cf646a88531b2f",
            "96506814adee4c7bb8b5ba22ee281e1f",
            "0eb31a0233414fb38627946cddcc7bea",
            "da648495cbdd4c20b67ffe2fc37323c0",
            "83708e9237814065bd1332c42389d3a7",
            "fc7d13c2c2af4289b4ae96c4f5a317fb",
            "8b46ca29c4a64a6d9199e247975c837a",
            "5cf1b488d82547279a99068c9b4821a7",
            "a130c6ffca854928937a592d2bffd7b9",
            "32251a7055c44792bf26a0ee8174868d",
            "9d9a7550ccc04a279a4e7029a59708e2"
          ]
        },
        "id": "iepF6lI91B5q",
        "outputId": "bdf480b4-907c-4c8a-fab7-c6a27b325506"
      },
      "execution_count": 18,
      "outputs": [
        {
          "output_type": "stream",
          "name": "stderr",
          "text": [
            "Downloading: \"https://download.pytorch.org/models/resnet18-f37072fd.pth\" to /root/.cache/torch/hub/checkpoints/resnet18-f37072fd.pth\n"
          ]
        },
        {
          "output_type": "display_data",
          "data": {
            "application/vnd.jupyter.widget-view+json": {
              "model_id": "59290fbd08654be8b6cf646a88531b2f",
              "version_minor": 0,
              "version_major": 2
            },
            "text/plain": [
              "  0%|          | 0.00/44.7M [00:00<?, ?B/s]"
            ]
          },
          "metadata": {}
        }
      ]
    },
    {
      "cell_type": "code",
      "source": [
        "# 使用 cross entropy loss\n",
        "criterion = nn.CrossEntropyLoss()\n",
        "\n",
        "# 學習優化器\n",
        "optimizer_ft = optim.SGD(model_ft.parameters(), lr=0.001, momentum=0.9)\n",
        "\n",
        "# 每 7 個 epochs 將 learning rate 降為原本的 0.1 倍\n",
        "exp_lr_scheduler = lr_scheduler.StepLR(optimizer_ft, step_size=7, gamma=0.1)"
      ],
      "metadata": {
        "id": "w8z_VvEH1B4J"
      },
      "execution_count": 19,
      "outputs": []
    },
    {
      "cell_type": "code",
      "source": [
        "model_ft = train_model(model_ft, criterion, optimizer_ft, exp_lr_scheduler, num_epochs=25)"
      ],
      "metadata": {
        "colab": {
          "base_uri": "https://localhost:8080/"
        },
        "id": "FA44YNPA1B1w",
        "outputId": "30d66121-9d17-4115-cebd-aaa9a1f7487b"
      },
      "execution_count": null,
      "outputs": [
        {
          "output_type": "stream",
          "name": "stdout",
          "text": [
            "Epoch 0/24\n",
            "----------\n"
          ]
        },
        {
          "output_type": "stream",
          "name": "stderr",
          "text": [
            "/usr/local/lib/python3.7/dist-packages/torch/utils/data/dataloader.py:481: UserWarning: This DataLoader will create 4 worker processes in total. Our suggested max number of worker in current system is 2, which is smaller than what this DataLoader is going to create. Please be aware that excessive worker creation might get DataLoader running slow or even freeze, lower the worker number to avoid potential slowness/freeze if necessary.\n",
            "  cpuset_checked))\n"
          ]
        },
        {
          "output_type": "stream",
          "name": "stdout",
          "text": [
            "train Loss: 0.6367 Acc: 0.6803\n",
            "val Loss: 0.2175 Acc: 0.9150\n",
            "\n",
            "Epoch 1/24\n",
            "----------\n",
            "train Loss: 0.3873 Acc: 0.8238\n",
            "val Loss: 0.2204 Acc: 0.9085\n",
            "\n",
            "Epoch 2/24\n",
            "----------\n",
            "train Loss: 0.4063 Acc: 0.8402\n",
            "val Loss: 0.1962 Acc: 0.9477\n",
            "\n",
            "Epoch 3/24\n",
            "----------\n",
            "train Loss: 0.4247 Acc: 0.8443\n",
            "val Loss: 0.3105 Acc: 0.9085\n",
            "\n",
            "Epoch 4/24\n",
            "----------\n",
            "train Loss: 0.3897 Acc: 0.8484\n",
            "val Loss: 0.3092 Acc: 0.9216\n",
            "\n",
            "Epoch 5/24\n",
            "----------\n",
            "train Loss: 0.5138 Acc: 0.7951\n",
            "val Loss: 0.2887 Acc: 0.8954\n",
            "\n",
            "Epoch 6/24\n",
            "----------\n",
            "train Loss: 0.5448 Acc: 0.7828\n",
            "val Loss: 0.4258 Acc: 0.8366\n",
            "\n",
            "Epoch 7/24\n",
            "----------\n",
            "train Loss: 0.3134 Acc: 0.8852\n",
            "val Loss: 0.2808 Acc: 0.9020\n",
            "\n",
            "Epoch 8/24\n",
            "----------\n",
            "train Loss: 0.1994 Acc: 0.9221\n",
            "val Loss: 0.2738 Acc: 0.8954\n",
            "\n",
            "Epoch 9/24\n",
            "----------\n",
            "train Loss: 0.3672 Acc: 0.8361\n",
            "val Loss: 0.2649 Acc: 0.9020\n",
            "\n",
            "Epoch 10/24\n",
            "----------\n",
            "train Loss: 0.3128 Acc: 0.8689\n",
            "val Loss: 0.2704 Acc: 0.9020\n",
            "\n",
            "Epoch 11/24\n",
            "----------\n",
            "train Loss: 0.2872 Acc: 0.8607\n",
            "val Loss: 0.2502 Acc: 0.9020\n",
            "\n",
            "Epoch 12/24\n",
            "----------\n",
            "train Loss: 0.3194 Acc: 0.8443\n",
            "val Loss: 0.2823 Acc: 0.8758\n",
            "\n",
            "Epoch 13/24\n",
            "----------\n",
            "train Loss: 0.2498 Acc: 0.8975\n",
            "val Loss: 0.2376 Acc: 0.9020\n",
            "\n",
            "Epoch 14/24\n",
            "----------\n"
          ]
        }
      ]
    },
    {
      "cell_type": "code",
      "source": [
        "# 使用模型進行預測，並顯示結果\n",
        "def visualize_model(model, num_images=6):\n",
        "    was_training = model.training # 記錄模型之前的模式\n",
        "    model.eval() # 將模型設定為驗證模式\n",
        "\n",
        "    images_so_far = 0\n",
        "    fig = plt.figure()\n",
        "\n",
        "    with torch.no_grad():\n",
        "        # 以 DataLoader 載入 batch 資料\n",
        "        for i, (inputs, labels) in enumerate(dataloaders['val']):\n",
        "            # 將資料放置於 GPU 或 CPU\n",
        "            inputs = inputs.to(device)\n",
        "            labels = labels.to(device)\n",
        "\n",
        "            # 使用模型進行預測\n",
        "            outputs = model(inputs)\n",
        "            _, preds = torch.max(outputs, 1)\n",
        "\n",
        "            # 顯示預測結果與圖片\n",
        "            for j in range(inputs.size()[0]):\n",
        "                images_so_far += 1\n",
        "                ax = plt.subplot(num_images//2, 2, images_so_far)\n",
        "                ax.axis('off')\n",
        "                ax.set_title('predicted: {}'.format(class_names[preds[j]]))\n",
        "\n",
        "                # 將 Tensor 轉為原始圖片\n",
        "                img = tensor2img(inputs.cpu().data[j])\n",
        "\n",
        "                ax.imshow(img)\n",
        "\n",
        "                if images_so_far == num_images:\n",
        "                    model.train(mode=was_training) # 恢復模型之前的模式\n",
        "                    return\n",
        "\n",
        "        model.train(mode=was_training) # 恢復模型之前的模式"
      ],
      "metadata": {
        "id": "8dJHB_Ef1BzS"
      },
      "execution_count": null,
      "outputs": []
    },
    {
      "cell_type": "code",
      "source": [
        "# 載入 ResNet18 預訓練模型\n",
        "model_conv = models.resnet18(pretrained=True)\n",
        "\n",
        "# 鎖定 ResNet18 預訓練模型參數\n",
        "for param in model_conv.parameters():\n",
        "    param.requires_grad = False\n",
        "\n",
        "# 只訓練新增的輸出層參數（requires_grad 預設為 True）\n",
        "num_ftrs = model_conv.fc.in_features\n",
        "model_conv.fc = nn.Linear(num_ftrs, 2)\n",
        "\n",
        "# 將模型放置於 GPU 或 CPU\n",
        "model_conv = model_conv.to(device)\n",
        "\n",
        "# 使用 cross entropy loss\n",
        "criterion = nn.CrossEntropyLoss()\n",
        "\n",
        "# 只針對輸出層進行優化\n",
        "optimizer_conv = optim.SGD(model_conv.fc.parameters(), lr=0.001, momentum=0.9)\n",
        "\n",
        "# 每 7 個 epochs 將 learning rate 降為原本的 0.1 倍\n",
        "exp_lr_scheduler = lr_scheduler.StepLR(optimizer_conv, step_size=7, gamma=0.1)"
      ],
      "metadata": {
        "id": "ojOlhyB104wk"
      },
      "execution_count": null,
      "outputs": []
    },
    {
      "cell_type": "code",
      "source": [
        "# 訓練模型\n",
        "model_conv = train_model(model_conv, criterion, optimizer_conv,\n",
        "                         exp_lr_scheduler, num_epochs=25)"
      ],
      "metadata": {
        "id": "cJCY-6xj04uT"
      },
      "execution_count": null,
      "outputs": []
    },
    {
      "cell_type": "code",
      "source": [
        "# 以模型進行預測\n",
        "visualize_model(model_conv)"
      ],
      "metadata": {
        "id": "daCbky_c04kq"
      },
      "execution_count": null,
      "outputs": []
    },
    {
      "cell_type": "code",
      "source": [
        ""
      ],
      "metadata": {
        "id": "ON27gEp71ihz"
      },
      "execution_count": null,
      "outputs": []
    },
    {
      "cell_type": "code",
      "source": [
        ""
      ],
      "metadata": {
        "id": "yAI2E_9O1iec"
      },
      "execution_count": null,
      "outputs": []
    },
    {
      "cell_type": "code",
      "source": [
        ""
      ],
      "metadata": {
        "id": "2EBHt_Lq1ibx"
      },
      "execution_count": null,
      "outputs": []
    },
    {
      "cell_type": "code",
      "source": [
        "import torch\n",
        "torch.randn(1, 3, 30, 30)"
      ],
      "metadata": {
        "colab": {
          "base_uri": "https://localhost:8080/"
        },
        "id": "DSjcwt8YW2q6",
        "outputId": "9fd7fa10-8131-4e34-ea2b-6a5eaff641fd"
      },
      "execution_count": 5,
      "outputs": [
        {
          "output_type": "execute_result",
          "data": {
            "text/plain": [
              "tensor([[[[ 2.0621,  0.9555, -0.6422,  ...,  0.6672,  0.5028, -0.0317],\n",
              "          [-1.6183, -0.3723,  0.6369,  ..., -1.2867,  0.5416,  0.9151],\n",
              "          [ 1.1938,  0.0513, -0.1992,  ...,  0.5532, -0.8778, -0.7622],\n",
              "          ...,\n",
              "          [ 0.8268, -0.1853,  0.2223,  ...,  1.1931,  0.0652,  1.4166],\n",
              "          [-1.7129,  0.1485,  2.4234,  ..., -1.6535, -0.7058, -0.0420],\n",
              "          [ 1.2991, -0.4335, -1.3628,  ..., -0.3576,  0.8011,  0.3152]],\n",
              "\n",
              "         [[-0.1870,  0.6581,  0.5916,  ..., -0.6457,  0.1495,  0.4485],\n",
              "          [ 1.5136, -1.1926, -2.0152,  ...,  1.7016, -1.1016,  0.8314],\n",
              "          [-0.9493, -0.5195,  0.1705,  ...,  0.3376,  2.0674,  0.3555],\n",
              "          ...,\n",
              "          [ 1.5579,  0.1575, -0.0315,  ..., -2.1205, -1.0937,  0.5191],\n",
              "          [-0.0405, -1.3992, -1.2931,  ...,  0.8198,  0.0349, -2.1918],\n",
              "          [ 1.2332, -0.1104,  0.4120,  ..., -0.9276,  1.1112,  0.4929]],\n",
              "\n",
              "         [[ 0.7462,  0.0761,  0.6701,  ...,  0.2353,  1.7751, -0.2939],\n",
              "          [ 1.9347, -1.1505,  1.3122,  ..., -0.1018,  0.0694,  1.1755],\n",
              "          [ 0.2733, -0.1568,  0.4059,  ..., -0.5342,  0.5087,  0.0849],\n",
              "          ...,\n",
              "          [-0.4873, -1.0065,  2.5421,  ..., -1.5113, -0.2766,  0.5414],\n",
              "          [ 1.4076, -0.5483,  0.1958,  ...,  0.5597, -1.4050,  1.2054],\n",
              "          [ 0.2365, -0.4290,  0.3573,  ..., -0.7949, -1.1384,  1.4973]]]])"
            ]
          },
          "metadata": {},
          "execution_count": 5
        }
      ]
    },
    {
      "cell_type": "code",
      "source": [
        ""
      ],
      "metadata": {
        "id": "avYPO8xnavuE"
      },
      "execution_count": null,
      "outputs": []
    }
  ]
}