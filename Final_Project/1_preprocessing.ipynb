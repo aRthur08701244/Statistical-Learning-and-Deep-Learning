{
 "cells": [
  {
   "cell_type": "code",
   "execution_count": 1,
   "id": "8c5ab482",
   "metadata": {},
   "outputs": [
    {
     "name": "stdout",
     "output_type": "stream",
     "text": [
      "data2020 shape: (9061, 27)\n",
      "q12021 shape: (3405, 24)\n",
      "q22021 shape: (3414, 24)\n",
      "q32021 shape: (348, 24)\n"
     ]
    }
   ],
   "source": [
    "# Read files\n",
    "import numpy as np\n",
    "import pandas as pd\n",
    "\n",
    "data2020 = pd.read_excel(\n",
    "    \"C:/Users/andyi/OneDrive/桌面/統計學習與深度學習/Final Project/data/2021資料.xlsx\",\n",
    "    sheet_name=\"2020\"\n",
    ")\n",
    "q12021 = pd.read_excel(\n",
    "    \"C:/Users/andyi/OneDrive/桌面/統計學習與深度學習/Final Project/data/2021資料.xlsx\",\n",
    "    sheet_name=\"Q1不動產\"\n",
    ")\n",
    "q22021 = pd.read_excel(\n",
    "    \"C:/Users/andyi/OneDrive/桌面/統計學習與深度學習/Final Project/data/2021資料.xlsx\",\n",
    "    sheet_name=\"Q2不動產\"\n",
    ")\n",
    "q32021 = pd.read_excel(\n",
    "    \"C:/Users/andyi/OneDrive/桌面/統計學習與深度學習/Final Project/data/2021資料.xlsx\",\n",
    "    sheet_name=\"Q3不動產\"\n",
    ")\n",
    "\n",
    "print(\"data2020 shape:\", data2020.shape)\n",
    "print(\"q12021 shape:\", q12021.shape)\n",
    "print(\"q22021 shape:\", q22021.shape)\n",
    "print(\"q32021 shape:\", q32021.shape)"
   ]
  },
  {
   "cell_type": "code",
   "execution_count": 2,
   "id": "7a3e2f1a",
   "metadata": {},
   "outputs": [],
   "source": [
    "# Correct「交易年月日」 format in q1~q3\n",
    "q12021['year'] = q12021['交易年月日'].dt.strftime(\"%Y\").astype(int)\n",
    "q12021['month'] = q12021['交易年月日'].dt.strftime(\"%m\").astype(int)\n",
    "q12021['date'] = q12021['交易年月日'].dt.strftime(\"%d\").astype(int)\n",
    "\n",
    "q22021['year'] = ((q22021['交易年月日'] / 10000).astype(int)) + 1911\n",
    "q22021['date'] = (q22021['交易年月日'] % 100)\n",
    "q22021['month'] = (((q22021['交易年月日'] % 10000) - q22021['date']) / 100 ).astype(int)\n",
    "\n",
    "q32021['year'] = ((q32021['交易年月日'] / 10000).astype(int)) + 1911\n",
    "q32021['date'] = (q32021['交易年月日'] % 100)\n",
    "q32021['month'] = (((q32021['交易年月日'] % 10000) - q32021['date']) / 100 ).astype(int)\n",
    "\n",
    "data2020['year'] = ((data2020['交易年月日'] / 10000).astype(int)) + 1911\n",
    "data2020['date'] = (data2020['交易年月日'] % 100)\n",
    "data2020['month'] = (((data2020['交易年月日'] % 10000) - data2020['date']) / 100 ).astype(int)"
   ]
  },
  {
   "cell_type": "code",
   "execution_count": 3,
   "id": "4e84dec6",
   "metadata": {},
   "outputs": [
    {
     "name": "stdout",
     "output_type": "stream",
     "text": [
      "Columns in 2020 not in 2021:\n",
      "車位類別\n",
      "車位移轉總面積(平方公尺)\n",
      "車位總價元\n"
     ]
    }
   ],
   "source": [
    "# Inspect their columns\n",
    "# Find columns in 2020 data not in 2021 data\n",
    "spare = []\n",
    "print(\"Columns in 2020 not in 2021:\")\n",
    "for c in data2020.columns:\n",
    "    if c not in q12021.columns:\n",
    "        spare.append(c)\n",
    "        print(c)\n",
    "\n",
    "# Remove these columns\n",
    "for c in spare:\n",
    "    data2020 = data2020.drop(c, axis=1)\n",
    "\n",
    "# Now the columns in two data are the same"
   ]
  },
  {
   "cell_type": "code",
   "execution_count": 4,
   "id": "cc82308c",
   "metadata": {},
   "outputs": [
    {
     "name": "stdout",
     "output_type": "stream",
     "text": [
      "df shape: (16228, 27)\n"
     ]
    }
   ],
   "source": [
    "# Concatenate altogether\n",
    "df = pd.concat([data2020, q12021, q22021, q32021])\n",
    "print(\"df shape:\", df.shape)"
   ]
  },
  {
   "cell_type": "code",
   "execution_count": 5,
   "id": "084546e7",
   "metadata": {},
   "outputs": [
    {
     "name": "stdout",
     "output_type": "stream",
     "text": [
      "df shape: (14736, 27)\n"
     ]
    }
   ],
   "source": [
    "# Fill null value in '移轉層次項目'\n",
    "df['移轉層次項目'] = df['移轉層次項目'].fillna('無')\n",
    "\n",
    "# Abandon other data with null values\n",
    "df = df.dropna(axis=0, how = 'any')\n",
    "print(\"df shape:\", df.shape)"
   ]
  },
  {
   "cell_type": "code",
   "execution_count": 6,
   "id": "bac50b5d",
   "metadata": {},
   "outputs": [
    {
     "name": "stdout",
     "output_type": "stream",
     "text": [
      "df shape: (14736, 28)\n"
     ]
    }
   ],
   "source": [
    "# Construct Housing Age\n",
    "df['建築完成年月'] = df['建築完成年月'].dt.strftime(\"%Y\").astype(str).str[:4].astype(int)\n",
    "df['屋齡'] = df['year'] - df['建築完成年月']\n",
    "print(\"df shape:\", df.shape)"
   ]
  },
  {
   "cell_type": "code",
   "execution_count": 7,
   "id": "f78f2709",
   "metadata": {},
   "outputs": [
    {
     "name": "stdout",
     "output_type": "stream",
     "text": [
      "df shape: (14729, 28)\n"
     ]
    }
   ],
   "source": [
    "# Other variables preprocessing \n",
    "df['有無管理組織'] = df['有無管理組織'].str.contains('有').astype(int)\n",
    "df['建物現況格局-隔間'] = df['建物現況格局-隔間'].str.contains('有').astype(int)\n",
    "df = df.drop(df[df['車位數'] == '位'].index)\n",
    "df['車位數'] = df['車位數'].astype(int)\n",
    "\n",
    "print(\"df shape:\", df.shape)"
   ]
  },
  {
   "cell_type": "code",
   "execution_count": 8,
   "id": "0b39a37a",
   "metadata": {},
   "outputs": [
    {
     "name": "stdout",
     "output_type": "stream",
     "text": [
      "df shape: (14729, 140)\n"
     ]
    }
   ],
   "source": [
    "# Dummy Variables\n",
    "dummy_1 = pd.get_dummies(df['建物型態'], prefix='建物型態')\n",
    "df = pd.concat([dummy_1,df],axis=1)\n",
    "dummy_2 = pd.get_dummies(df['主要用途'], prefix='主要用途')\n",
    "df = pd.concat([df,dummy_2],axis=1)\n",
    "dummy_3 = pd.get_dummies(df['鄉鎮市區'], prefix='鄉鎮市區')\n",
    "df = pd.concat([df,dummy_3],axis=1)\n",
    "dummy_4 = pd.get_dummies(df['移轉層次項目'], prefix='移轉層次項目')\n",
    "df = pd.concat([df,dummy_4],axis=1)\n",
    "dummy_5 = pd.get_dummies(df[\"主要建材\"], prefix=\"建材\")\n",
    "df = pd.concat([df,dummy_5],axis=1)\n",
    "dummy_6 = pd.get_dummies(df[\"都市土地使用分區\"], prefix=\"使用分區\")\n",
    "df = pd.concat([df,dummy_6],axis=1)\n",
    "\n",
    "df = df.reset_index()\n",
    "print(\"df shape:\", df.shape)"
   ]
  },
  {
   "cell_type": "code",
   "execution_count": 9,
   "id": "a323b4e4",
   "metadata": {},
   "outputs": [
    {
     "name": "stdout",
     "output_type": "stream",
     "text": [
      "df shape: (14308, 140)\n",
      "Index(['index', '建物型態_住宅大樓(11層含以上有電梯)', '建物型態_公寓(5樓含以下無電梯)', '建物型態_其他',\n",
      "       '建物型態_套房(1房1廳1衛)', '建物型態_店面(店鋪)', '建物型態_華廈(10層含以下有電梯)', '建物型態_辦公商業大樓',\n",
      "       '鄉鎮市區', '交易標的',\n",
      "       ...\n",
      "       '使用分區_第二種商業區及第三種住宅區', '使用分區_第二類住宅用地', '使用分區_第四之一種住宅區',\n",
      "       '使用分區_第四之一種住宅區及第四之一種住宅區', '使用分區_第四之一種住宅區及第四種住宅區', '使用分區_第四種住宅區',\n",
      "       '使用分區_第四種住宅區及第三種住宅區', '使用分區_第四種住宅區及第參種商業區', '使用分區_第四種住宅區及第四之一種住宅區',\n",
      "       '使用分區_第四種住宅區及道路用地'],\n",
      "      dtype='object', length=140)\n"
     ]
    }
   ],
   "source": [
    "# Delete Outliers\n",
    "totalPrice = df[\"單價元平方公尺\"]\n",
    "Q1 = np.quantile(totalPrice, 1/4)\n",
    "Q3 = np.quantile(totalPrice, 3/4)\n",
    "IQR = Q3 - Q1\n",
    "\n",
    "# Outliers defined as not in the interval (Q1 - 1.5*IQR, Q3 + 1.5*IQR)\n",
    "outliers_idx = []\n",
    "for i in range(totalPrice.shape[0]):\n",
    "    if (totalPrice.iloc[i] > (Q3 + 1.5*IQR)) or (totalPrice.iloc[i] < (Q1 - 1.5*IQR)):\n",
    "        outliers_idx.append(i)\n",
    "\n",
    "for i in outliers_idx:\n",
    "     df = df.drop(i, axis=0)\n",
    "\n",
    "print(\"df shape:\", df.shape)\n",
    "print(df.columns)"
   ]
  },
  {
   "cell_type": "code",
   "execution_count": 10,
   "id": "5f80d221",
   "metadata": {},
   "outputs": [
    {
     "name": "stdout",
     "output_type": "stream",
     "text": [
      "df shape: (14307, 126)\n"
     ]
    }
   ],
   "source": [
    "# Drop meaningless column\n",
    "toDrop = [\"index\", \"鄉鎮市區\", \"交易標的\",  \"移轉層次項目\", \"建物型態\", \"主要用途\",\n",
    "          \"主要建材\", \"都市土地使用分區\", \"建築完成年月\", \"year\", \"month\", \"date\", \"總價元\", '交易年月日']\n",
    "# len(toDrop) = 13\n",
    "\n",
    "for acol in toDrop:\n",
    "    df = df.drop(acol, axis=1)\n",
    "\n",
    "# Drop strange data: idx7963\n",
    "df = df.drop(7963, axis=0)\n",
    "address = df[\"土地位置建物門牌\"]\n",
    "df = df.drop(\"土地位置建物門牌\", axis=1)\n",
    "df = df.apply(pd.to_numeric)  # turn into numerical value\n",
    "df = pd.concat([df, address], axis=1).reset_index().drop('index', axis=1)\n",
    "\n",
    "print(\"df shape:\", df.shape)"
   ]
  },
  {
   "cell_type": "code",
   "execution_count": 11,
   "id": "5a0a32c0",
   "metadata": {},
   "outputs": [
    {
     "name": "stdout",
     "output_type": "stream",
     "text": [
      "df shape: (14307, 126)\n"
     ]
    }
   ],
   "source": [
    "# Standardization\n",
    "from sklearn.preprocessing import StandardScaler\n",
    "\n",
    "num_columns = ['土地移轉總面積平方公尺','土地數','建物數','車位數','移轉層次','總樓層數',\n",
    "               '建物移轉總面積平方公尺','建物現況格局-房','建物現況格局-廳','建物現況格局-衛',\n",
    "               '建物現況格局-隔間','屋齡']\n",
    "\n",
    "scaler = StandardScaler()\n",
    "numerical_df = scaler.fit_transform(df[num_columns])\n",
    "numerical_df = pd.DataFrame(numerical_df, columns=num_columns)\n",
    "\n",
    "# merge into df\n",
    "df = df.drop(num_columns, axis=1)\n",
    "df = pd.concat([numerical_df, df], axis=1)\n",
    "print(\"df shape:\", df.shape)"
   ]
  },
  {
   "cell_type": "code",
   "execution_count": 13,
   "id": "09eb166e",
   "metadata": {},
   "outputs": [
    {
     "name": "stdout",
     "output_type": "stream",
     "text": [
      "df shape: (14307, 83)\n"
     ]
    }
   ],
   "source": [
    "# Remove feature appears less than 10 times\n",
    "minN = 10\n",
    "for col in df.columns[12:-1]:  # dummy variables start at idx.12\n",
    "#     print(\"col =\", col)\n",
    "#     print(df_dropped[col].sum())\n",
    "#     print(\"-\"*80)\n",
    "    if df[col].sum() < minN:\n",
    "        df = df.drop(col, axis=1)\n",
    "print(\"df shape:\", df.shape)"
   ]
  },
  {
   "cell_type": "code",
   "execution_count": 14,
   "id": "e60398b3",
   "metadata": {
    "scrolled": true
   },
   "outputs": [
    {
     "name": "stdout",
     "output_type": "stream",
     "text": [
      "土地移轉總面積平方公尺\n",
      "土地數\n",
      "建物數\n",
      "車位數\n",
      "移轉層次\n",
      "總樓層數\n",
      "建物移轉總面積平方公尺\n",
      "建物現況格局-房\n",
      "建物現況格局-廳\n",
      "建物現況格局-衛\n",
      "建物現況格局-隔間\n",
      "屋齡\n",
      "建物型態_住宅大樓(11層含以上有電梯)\n",
      "建物型態_公寓(5樓含以下無電梯)\n",
      "建物型態_其他\n",
      "建物型態_套房(1房1廳1衛)\n",
      "建物型態_店面(店鋪)\n",
      "建物型態_華廈(10層含以下有電梯)\n",
      "建物型態_辦公商業大樓\n",
      "有無管理組織\n",
      "單價元平方公尺\n",
      "主要用途_一般事務所\n",
      "主要用途_住商用\n",
      "主要用途_住家用\n",
      "主要用途_商業用\n",
      "主要用途_多戶住宅\n",
      "主要用途_工業用\n",
      "主要用途_自由職業事務所\n",
      "主要用途_見使用執照\n",
      "主要用途_見其他登記事項\n",
      "主要用途_集合住宅\n",
      "鄉鎮市區_中山區\n",
      "鄉鎮市區_中正區\n",
      "鄉鎮市區_信義區\n",
      "鄉鎮市區_內湖區\n",
      "鄉鎮市區_北投區\n",
      "鄉鎮市區_南港區\n",
      "鄉鎮市區_士林區\n",
      "鄉鎮市區_大同區\n",
      "鄉鎮市區_大安區\n",
      "鄉鎮市區_文山區\n",
      "鄉鎮市區_松山區\n",
      "鄉鎮市區_萬華區\n",
      "移轉層次項目_停車場\n",
      "移轉層次項目_夾層\n",
      "移轉層次項目_平台\n",
      "移轉層次項目_無\n",
      "移轉層次項目_見其他登記事項\n",
      "移轉層次項目_通道\n",
      "移轉層次項目_陽台\n",
      "移轉層次項目_陽臺\n",
      "移轉層次項目_電梯樓梯間\n",
      "移轉層次項目_露台\n",
      "移轉層次項目_騎樓\n",
      "建材_加強磚造\n",
      "建材_見其他登記事項\n",
      "建材_鋼筋混凝土造\n",
      "建材_鋼骨混凝土造\n",
      "建材_鋼骨造\n",
      "建材_鋼骨鋼筋混凝土造\n",
      "使用分區_住\n",
      "使用分區_住商混合區\n",
      "使用分區_住宅區\n",
      "使用分區_住宅用地\n",
      "使用分區_住宅用地及道路用地\n",
      "使用分區_市民住宅區\n",
      "使用分區_特定休閒旅館住宅專用區\n",
      "使用分區_特定住宅區\n",
      "使用分區_第一種住宅區\n",
      "使用分區_第三之一種住宅區\n",
      "使用分區_第三之一種住宅區及第三種住宅區\n",
      "使用分區_第三之二種住宅區\n",
      "使用分區_第三之二種住宅區及第三之一種住宅區及第三種住宅區\n",
      "使用分區_第三之二種住宅區及第三種住宅區\n",
      "使用分區_第三種住宅區\n",
      "使用分區_第三類住宅用地\n",
      "使用分區_第二種住宅區\n",
      "使用分區_第二種住宅區及第三種住宅區\n",
      "使用分區_第二種商業區及第三種住宅區\n",
      "使用分區_第二類住宅用地\n",
      "使用分區_第四之一種住宅區\n",
      "使用分區_第四種住宅區\n",
      "土地位置建物門牌\n"
     ]
    }
   ],
   "source": [
    "# Inspect all columns\n",
    "for i in df.columns:\n",
    "    print(i)"
   ]
  },
  {
   "cell_type": "code",
   "execution_count": 16,
   "id": "fa224e5b",
   "metadata": {},
   "outputs": [],
   "source": [
    "# Set labels\n",
    "y = df[\"單價元平方公尺\"]\n",
    "x = df.drop([\"單價元平方公尺\"], axis=1)"
   ]
  },
  {
   "cell_type": "code",
   "execution_count": 18,
   "id": "3e82436f",
   "metadata": {},
   "outputs": [
    {
     "name": "stdout",
     "output_type": "stream",
     "text": [
      "X_train: (10300, 82)\n",
      "X_valid: (1145, 82)\n",
      "X_test: (2862, 82)\n",
      "y_train: (10300,)\n",
      "y_test: (2862,)\n",
      "y_valid: (1145,)\n"
     ]
    }
   ],
   "source": [
    "# Split training and test data\n",
    "from sklearn.model_selection import train_test_split\n",
    "X_train, X_test, y_train, y_test = train_test_split(x, y, test_size=0.2)\n",
    "\n",
    "# Validation data\n",
    "X_train, X_valid, y_train, y_valid = train_test_split(X_train, y_train, test_size=0.1)\n",
    "print(\"X_train:\", X_train.shape)\n",
    "print(\"X_valid:\", X_valid.shape)\n",
    "print(\"X_test:\", X_test.shape)\n",
    "print(\"y_train:\", y_train.shape)\n",
    "print(\"y_test:\", y_test.shape)\n",
    "print(\"y_valid:\", y_valid.shape)\n",
    "\n",
    "# X_train.to_csv(\"C:/Users/andyi/OneDrive/桌面/統計學習與深度學習/Final Project/data/DATASET/X_train.csv\")\n",
    "# X_valid.to_csv(\"C:/Users/andyi/OneDrive/桌面/統計學習與深度學習/Final Project/data/DATASET/X_valid.csv\")\n",
    "# X_test.to_csv(\"C:/Users/andyi/OneDrive/桌面/統計學習與深度學習/Final Project/data/DATASET/X_test.csv\")\n",
    "# y_train.to_csv(\"C:/Users/andyi/OneDrive/桌面/統計學習與深度學習/Final Project/data/DATASET/y_train.csv\")\n",
    "# y_test.to_csv(\"C:/Users/andyi/OneDrive/桌面/統計學習與深度學習/Final Project/data/DATASET/y_test.csv\")\n",
    "# y_valid.to_csv(\"C:/Users/andyi/OneDrive/桌面/統計學習與深度學習/Final Project/data/DATASET/y_valid.csv\")"
   ]
  },
  {
   "cell_type": "code",
   "execution_count": null,
   "id": "bb43b361-51c3-4e99-bdd3-9747366d97c2",
   "metadata": {},
   "outputs": [],
   "source": []
  }
 ],
 "metadata": {
  "kernelspec": {
   "display_name": "Python 3 (ipykernel)",
   "language": "python",
   "name": "python3"
  },
  "language_info": {
   "codemirror_mode": {
    "name": "ipython",
    "version": 3
   },
   "file_extension": ".py",
   "mimetype": "text/x-python",
   "name": "python",
   "nbconvert_exporter": "python",
   "pygments_lexer": "ipython3",
   "version": "3.9.5"
  }
 },
 "nbformat": 4,
 "nbformat_minor": 5
}
